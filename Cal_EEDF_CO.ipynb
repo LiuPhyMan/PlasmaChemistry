{
 "cells": [
  {
   "cell_type": "code",
   "execution_count": 1,
   "metadata": {},
   "outputs": [],
   "source": [
    "import numpy as np\n",
    "import pandas as pd\n",
    "from scipy.integrate import solve_ivp\n",
    "from matplotlib import pyplot as plt\n",
    "from plasmistry.electron import EEDF\n",
    "from plasmistry.electron import get_maxwell_eedf\n",
    "from plasmistry.molecule import get_ideal_gas_density"
   ]
  },
  {
   "cell_type": "code",
   "execution_count": 2,
   "metadata": {},
   "outputs": [],
   "source": [
    "import matplotlib.pyplot as plt\n",
    "plt.rcParams[\"figure.figsize\"] = (12,9)\n",
    "plt.rcParams[\"font.size\"] = 14"
   ]
  },
  {
   "cell_type": "code",
   "execution_count": 3,
   "metadata": {},
   "outputs": [],
   "source": [
    "np.set_printoptions(precision=1, linewidth=130, edgeitems=5)\n",
    "pd.options.display.float_format = '{:,.1e}'.format"
   ]
  },
  {
   "cell_type": "markdown",
   "metadata": {},
   "source": [
    "### Read inelas reactions"
   ]
  },
  {
   "cell_type": "markdown",
   "metadata": {},
   "source": [
    "inelas_df_forward = pd.read_pickle('rctn_dataframe_forward.pkl')\n",
    "inelas_df_backward = pd.read_pickle('rctn_dataframe_backward.pkl')"
   ]
  },
  {
   "cell_type": "markdown",
   "metadata": {},
   "source": [
    "inelas_df_forward.loc[0, 'cross_section']"
   ]
  },
  {
   "cell_type": "code",
   "execution_count": 47,
   "metadata": {},
   "outputs": [],
   "source": [
    "# inelas_df = pd.concat([inelas_df_forward, inelas_df_backward], ignore_index=True)\n",
    "# inelas_df = pd.read_pickle(\"rctn_dataframe_H2_dis_via_b.pkl\")\n",
    "# inelas_df = pd.read_pickle(\"CO_ele_vib_forward_df.pkl\")\n",
    "inelas_df = pd.read_pickle(\"CO_ele_vib_backward_df.pkl\")"
   ]
  },
  {
   "cell_type": "code",
   "execution_count": 48,
   "metadata": {},
   "outputs": [
    {
     "data": {
      "text/html": [
       "<div>\n",
       "<style scoped>\n",
       "    .dataframe tbody tr th:only-of-type {\n",
       "        vertical-align: middle;\n",
       "    }\n",
       "\n",
       "    .dataframe tbody tr th {\n",
       "        vertical-align: top;\n",
       "    }\n",
       "\n",
       "    .dataframe thead th {\n",
       "        text-align: right;\n",
       "    }\n",
       "</style>\n",
       "<table border=\"1\" class=\"dataframe\">\n",
       "  <thead>\n",
       "    <tr style=\"text-align: right;\">\n",
       "      <th></th>\n",
       "      <th>formula</th>\n",
       "      <th>type</th>\n",
       "      <th>threshold_eV</th>\n",
       "      <th>cross_section</th>\n",
       "    </tr>\n",
       "  </thead>\n",
       "  <tbody>\n",
       "    <tr>\n",
       "      <th>0</th>\n",
       "      <td>E + CO(v1) =&gt; E + CO</td>\n",
       "      <td>deexcitation</td>\n",
       "      <td>-2.7e-01</td>\n",
       "      <td>[[0.1, 0.2, 0.3, 0.4, 0.5, 0.6, 0.7, 0.8, 0.9,...</td>\n",
       "    </tr>\n",
       "    <tr>\n",
       "      <th>1</th>\n",
       "      <td>E + CO(v2) =&gt; E + CO</td>\n",
       "      <td>deexcitation</td>\n",
       "      <td>-5.3e-01</td>\n",
       "      <td>[[0.1, 0.2, 0.3, 0.4, 0.5, 0.6, 0.7, 0.8, 0.9,...</td>\n",
       "    </tr>\n",
       "    <tr>\n",
       "      <th>2</th>\n",
       "      <td>E + CO(v2) =&gt; E + CO(v1)</td>\n",
       "      <td>deexcitation</td>\n",
       "      <td>-2.6e-01</td>\n",
       "      <td>[[0.1, 0.2, 0.3, 0.4, 0.5, 0.6, 0.7, 0.8, 0.9,...</td>\n",
       "    </tr>\n",
       "    <tr>\n",
       "      <th>3</th>\n",
       "      <td>E + CO(v3) =&gt; E + CO</td>\n",
       "      <td>deexcitation</td>\n",
       "      <td>-7.9e-01</td>\n",
       "      <td>[[0.1, 0.2, 0.3, 0.4, 0.5, 0.6, 0.7, 0.8, 0.9,...</td>\n",
       "    </tr>\n",
       "    <tr>\n",
       "      <th>4</th>\n",
       "      <td>E + CO(v3) =&gt; E + CO(v1)</td>\n",
       "      <td>deexcitation</td>\n",
       "      <td>-5.2e-01</td>\n",
       "      <td>[[0.1, 0.2, 0.3, 0.4, 0.5, 0.6, 0.7, 0.8, 0.9,...</td>\n",
       "    </tr>\n",
       "    <tr>\n",
       "      <th>5</th>\n",
       "      <td>E + CO(v3) =&gt; E + CO(v2)</td>\n",
       "      <td>deexcitation</td>\n",
       "      <td>-2.6e-01</td>\n",
       "      <td>[[0.1, 0.2, 0.3, 0.4, 0.5, 0.6, 0.7, 0.8, 0.9,...</td>\n",
       "    </tr>\n",
       "    <tr>\n",
       "      <th>6</th>\n",
       "      <td>E + CO(v4) =&gt; E + CO</td>\n",
       "      <td>deexcitation</td>\n",
       "      <td>-1.0e+00</td>\n",
       "      <td>[[0.1, 0.2, 0.3, 0.4, 0.5, 0.6, 0.7, 0.8, 0.9,...</td>\n",
       "    </tr>\n",
       "    <tr>\n",
       "      <th>7</th>\n",
       "      <td>E + CO(v4) =&gt; E + CO(v1)</td>\n",
       "      <td>deexcitation</td>\n",
       "      <td>-7.8e-01</td>\n",
       "      <td>[[0.1, 0.2, 0.3, 0.4, 0.5, 0.6, 0.7, 0.8, 0.9,...</td>\n",
       "    </tr>\n",
       "    <tr>\n",
       "      <th>8</th>\n",
       "      <td>E + CO(v4) =&gt; E + CO(v2)</td>\n",
       "      <td>deexcitation</td>\n",
       "      <td>-5.1e-01</td>\n",
       "      <td>[[0.1, 0.2, 0.3, 0.4, 0.5, 0.6, 0.7, 0.8, 0.9,...</td>\n",
       "    </tr>\n",
       "    <tr>\n",
       "      <th>9</th>\n",
       "      <td>E + CO(v4) =&gt; E + CO(v3)</td>\n",
       "      <td>deexcitation</td>\n",
       "      <td>-2.6e-01</td>\n",
       "      <td>[[0.1, 0.2, 0.3, 0.4, 0.5, 0.6, 0.7, 0.8, 0.9,...</td>\n",
       "    </tr>\n",
       "    <tr>\n",
       "      <th>10</th>\n",
       "      <td>E + CO(v5) =&gt; E + CO</td>\n",
       "      <td>deexcitation</td>\n",
       "      <td>-1.3e+00</td>\n",
       "      <td>[[0.1, 0.2, 0.3, 0.4, 0.5, 0.6, 0.7, 0.8, 0.9,...</td>\n",
       "    </tr>\n",
       "    <tr>\n",
       "      <th>11</th>\n",
       "      <td>E + CO(v5) =&gt; E + CO(v1)</td>\n",
       "      <td>deexcitation</td>\n",
       "      <td>-1.0e+00</td>\n",
       "      <td>[[0.1, 0.2, 0.3, 0.4, 0.5, 0.6, 0.7, 0.8, 0.9,...</td>\n",
       "    </tr>\n",
       "    <tr>\n",
       "      <th>12</th>\n",
       "      <td>E + CO(v5) =&gt; E + CO(v2)</td>\n",
       "      <td>deexcitation</td>\n",
       "      <td>-7.7e-01</td>\n",
       "      <td>[[0.1, 0.2, 0.3, 0.4, 0.5, 0.6, 0.7, 0.8, 0.9,...</td>\n",
       "    </tr>\n",
       "    <tr>\n",
       "      <th>13</th>\n",
       "      <td>E + CO(v5) =&gt; E + CO(v3)</td>\n",
       "      <td>deexcitation</td>\n",
       "      <td>-5.1e-01</td>\n",
       "      <td>[[0.1, 0.2, 0.3, 0.4, 0.5, 0.6, 0.7, 0.8, 0.9,...</td>\n",
       "    </tr>\n",
       "    <tr>\n",
       "      <th>14</th>\n",
       "      <td>E + CO(v5) =&gt; E + CO(v4)</td>\n",
       "      <td>deexcitation</td>\n",
       "      <td>-2.5e-01</td>\n",
       "      <td>[[0.1, 0.2, 0.3, 0.4, 0.5, 0.6, 0.7, 0.8, 0.9,...</td>\n",
       "    </tr>\n",
       "    <tr>\n",
       "      <th>15</th>\n",
       "      <td>E + CO(v6) =&gt; E + CO</td>\n",
       "      <td>deexcitation</td>\n",
       "      <td>-1.5e+00</td>\n",
       "      <td>[[0.1, 0.2, 0.3, 0.4, 0.5, 0.6, 0.7, 0.8, 0.9,...</td>\n",
       "    </tr>\n",
       "    <tr>\n",
       "      <th>16</th>\n",
       "      <td>E + CO(v6) =&gt; E + CO(v1)</td>\n",
       "      <td>deexcitation</td>\n",
       "      <td>-1.3e+00</td>\n",
       "      <td>[[0.1, 0.2, 0.3, 0.4, 0.5, 0.6, 0.7, 0.8, 0.9,...</td>\n",
       "    </tr>\n",
       "    <tr>\n",
       "      <th>17</th>\n",
       "      <td>E + CO(v6) =&gt; E + CO(v2)</td>\n",
       "      <td>deexcitation</td>\n",
       "      <td>-1.0e+00</td>\n",
       "      <td>[[0.1, 0.2, 0.3, 0.4, 0.5, 0.6, 0.7, 0.8, 0.9,...</td>\n",
       "    </tr>\n",
       "    <tr>\n",
       "      <th>18</th>\n",
       "      <td>E + CO(v6) =&gt; E + CO(v3)</td>\n",
       "      <td>deexcitation</td>\n",
       "      <td>-7.6e-01</td>\n",
       "      <td>[[0.1, 0.2, 0.3, 0.4, 0.5, 0.6, 0.7, 0.8, 0.9,...</td>\n",
       "    </tr>\n",
       "    <tr>\n",
       "      <th>19</th>\n",
       "      <td>E + CO(v6) =&gt; E + CO(v4)</td>\n",
       "      <td>deexcitation</td>\n",
       "      <td>-5.0e-01</td>\n",
       "      <td>[[0.1, 0.2, 0.3, 0.4, 0.5, 0.6, 0.7, 0.8, 0.9,...</td>\n",
       "    </tr>\n",
       "    <tr>\n",
       "      <th>20</th>\n",
       "      <td>E + CO(v6) =&gt; E + CO(v5)</td>\n",
       "      <td>deexcitation</td>\n",
       "      <td>-2.5e-01</td>\n",
       "      <td>[[0.1, 0.2, 0.3, 0.4, 0.5, 0.6, 0.7, 0.8, 0.9,...</td>\n",
       "    </tr>\n",
       "    <tr>\n",
       "      <th>21</th>\n",
       "      <td>E + CO(v7) =&gt; E + CO</td>\n",
       "      <td>deexcitation</td>\n",
       "      <td>-1.8e+00</td>\n",
       "      <td>[[0.1, 0.2, 0.3, 0.4, 0.5, 0.6, 0.7, 0.8, 0.9,...</td>\n",
       "    </tr>\n",
       "    <tr>\n",
       "      <th>22</th>\n",
       "      <td>E + CO(v7) =&gt; E + CO(v1)</td>\n",
       "      <td>deexcitation</td>\n",
       "      <td>-1.5e+00</td>\n",
       "      <td>[[0.1, 0.2, 0.3, 0.4, 0.5, 0.6, 0.7, 0.8, 0.9,...</td>\n",
       "    </tr>\n",
       "    <tr>\n",
       "      <th>23</th>\n",
       "      <td>E + CO(v7) =&gt; E + CO(v2)</td>\n",
       "      <td>deexcitation</td>\n",
       "      <td>-1.3e+00</td>\n",
       "      <td>[[0.1, 0.2, 0.3, 0.4, 0.5, 0.6, 0.7, 0.8, 0.9,...</td>\n",
       "    </tr>\n",
       "    <tr>\n",
       "      <th>24</th>\n",
       "      <td>E + CO(v7) =&gt; E + CO(v3)</td>\n",
       "      <td>deexcitation</td>\n",
       "      <td>-1.0e+00</td>\n",
       "      <td>[[0.1, 0.2, 0.3, 0.4, 0.5, 0.6, 0.7, 0.8, 0.9,...</td>\n",
       "    </tr>\n",
       "    <tr>\n",
       "      <th>25</th>\n",
       "      <td>E + CO(v7) =&gt; E + CO(v4)</td>\n",
       "      <td>deexcitation</td>\n",
       "      <td>-7.5e-01</td>\n",
       "      <td>[[0.1, 0.2, 0.3, 0.4, 0.5, 0.6, 0.7, 0.8, 0.9,...</td>\n",
       "    </tr>\n",
       "    <tr>\n",
       "      <th>26</th>\n",
       "      <td>E + CO(v7) =&gt; E + CO(v5)</td>\n",
       "      <td>deexcitation</td>\n",
       "      <td>-5.0e-01</td>\n",
       "      <td>[[0.1, 0.2, 0.3, 0.4, 0.5, 0.6, 0.7, 0.8, 0.9,...</td>\n",
       "    </tr>\n",
       "    <tr>\n",
       "      <th>27</th>\n",
       "      <td>E + CO(v7) =&gt; E + CO(v6)</td>\n",
       "      <td>deexcitation</td>\n",
       "      <td>-2.5e-01</td>\n",
       "      <td>[[0.1, 0.2, 0.3, 0.4, 0.5, 0.6, 0.7, 0.8, 0.9,...</td>\n",
       "    </tr>\n",
       "    <tr>\n",
       "      <th>28</th>\n",
       "      <td>E + CO(v8) =&gt; E + CO</td>\n",
       "      <td>deexcitation</td>\n",
       "      <td>-2.0e+00</td>\n",
       "      <td>[[0.1, 0.2, 0.3, 0.4, 0.5, 0.6, 0.7, 0.8, 0.9,...</td>\n",
       "    </tr>\n",
       "    <tr>\n",
       "      <th>29</th>\n",
       "      <td>E + CO(v8) =&gt; E + CO(v1)</td>\n",
       "      <td>deexcitation</td>\n",
       "      <td>-1.8e+00</td>\n",
       "      <td>[[0.1, 0.2, 0.3, 0.4, 0.5, 0.6, 0.7, 0.8, 0.9,...</td>\n",
       "    </tr>\n",
       "    <tr>\n",
       "      <th>30</th>\n",
       "      <td>E + CO(v8) =&gt; E + CO(v2)</td>\n",
       "      <td>deexcitation</td>\n",
       "      <td>-1.5e+00</td>\n",
       "      <td>[[0.1, 0.2, 0.3, 0.4, 0.5, 0.6, 0.7, 0.8, 0.9,...</td>\n",
       "    </tr>\n",
       "    <tr>\n",
       "      <th>31</th>\n",
       "      <td>E + CO(v8) =&gt; E + CO(v3)</td>\n",
       "      <td>deexcitation</td>\n",
       "      <td>-1.2e+00</td>\n",
       "      <td>[[0.1, 0.2, 0.3, 0.4, 0.5, 0.6, 0.7, 0.8, 0.9,...</td>\n",
       "    </tr>\n",
       "    <tr>\n",
       "      <th>32</th>\n",
       "      <td>E + CO(v8) =&gt; E + CO(v4)</td>\n",
       "      <td>deexcitation</td>\n",
       "      <td>-9.9e-01</td>\n",
       "      <td>[[0.1, 0.2, 0.3, 0.4, 0.5, 0.6, 0.7, 0.8, 0.9,...</td>\n",
       "    </tr>\n",
       "    <tr>\n",
       "      <th>33</th>\n",
       "      <td>E + CO(v8) =&gt; E + CO(v5)</td>\n",
       "      <td>deexcitation</td>\n",
       "      <td>-7.4e-01</td>\n",
       "      <td>[[0.1, 0.2, 0.3, 0.4, 0.5, 0.6, 0.7, 0.8, 0.9,...</td>\n",
       "    </tr>\n",
       "    <tr>\n",
       "      <th>34</th>\n",
       "      <td>E + CO(v8) =&gt; E + CO(v6)</td>\n",
       "      <td>deexcitation</td>\n",
       "      <td>-4.9e-01</td>\n",
       "      <td>[[0.1, 0.2, 0.3, 0.4, 0.5, 0.6, 0.7, 0.8, 0.9,...</td>\n",
       "    </tr>\n",
       "    <tr>\n",
       "      <th>35</th>\n",
       "      <td>E + CO(v8) =&gt; E + CO(v7)</td>\n",
       "      <td>deexcitation</td>\n",
       "      <td>-2.4e-01</td>\n",
       "      <td>[[0.1, 0.2, 0.3, 0.4, 0.5, 0.6, 0.7, 0.8, 0.9,...</td>\n",
       "    </tr>\n",
       "    <tr>\n",
       "      <th>36</th>\n",
       "      <td>E + CO(v9) =&gt; E + CO</td>\n",
       "      <td>deexcitation</td>\n",
       "      <td>-2.3e+00</td>\n",
       "      <td>[[0.1, 0.2, 0.3, 0.4, 0.5, 0.6, 0.7, 0.8, 0.9,...</td>\n",
       "    </tr>\n",
       "    <tr>\n",
       "      <th>37</th>\n",
       "      <td>E + CO(v9) =&gt; E + CO(v1)</td>\n",
       "      <td>deexcitation</td>\n",
       "      <td>-2.0e+00</td>\n",
       "      <td>[[0.1, 0.2, 0.3, 0.4, 0.5, 0.6, 0.7, 0.8, 0.9,...</td>\n",
       "    </tr>\n",
       "    <tr>\n",
       "      <th>38</th>\n",
       "      <td>E + CO(v9) =&gt; E + CO(v2)</td>\n",
       "      <td>deexcitation</td>\n",
       "      <td>-1.7e+00</td>\n",
       "      <td>[[0.1, 0.2, 0.3, 0.4, 0.5, 0.6, 0.7, 0.8, 0.9,...</td>\n",
       "    </tr>\n",
       "    <tr>\n",
       "      <th>39</th>\n",
       "      <td>E + CO(v9) =&gt; E + CO(v3)</td>\n",
       "      <td>deexcitation</td>\n",
       "      <td>-1.5e+00</td>\n",
       "      <td>[[0.1, 0.2, 0.3, 0.4, 0.5, 0.6, 0.7, 0.8, 0.9,...</td>\n",
       "    </tr>\n",
       "    <tr>\n",
       "      <th>40</th>\n",
       "      <td>E + CO(v9) =&gt; E + CO(v4)</td>\n",
       "      <td>deexcitation</td>\n",
       "      <td>-1.2e+00</td>\n",
       "      <td>[[0.1, 0.2, 0.3, 0.4, 0.5, 0.6, 0.7, 0.8, 0.9,...</td>\n",
       "    </tr>\n",
       "    <tr>\n",
       "      <th>41</th>\n",
       "      <td>E + CO(v9) =&gt; E + CO(v5)</td>\n",
       "      <td>deexcitation</td>\n",
       "      <td>-9.8e-01</td>\n",
       "      <td>[[0.1, 0.2, 0.3, 0.4, 0.5, 0.6, 0.7, 0.8, 0.9,...</td>\n",
       "    </tr>\n",
       "    <tr>\n",
       "      <th>42</th>\n",
       "      <td>E + CO(v9) =&gt; E + CO(v6)</td>\n",
       "      <td>deexcitation</td>\n",
       "      <td>-7.3e-01</td>\n",
       "      <td>[[0.1, 0.2, 0.3, 0.4, 0.5, 0.6, 0.7, 0.8, 0.9,...</td>\n",
       "    </tr>\n",
       "    <tr>\n",
       "      <th>43</th>\n",
       "      <td>E + CO(v9) =&gt; E + CO(v7)</td>\n",
       "      <td>deexcitation</td>\n",
       "      <td>-4.8e-01</td>\n",
       "      <td>[[0.1, 0.2, 0.3, 0.4, 0.5, 0.6, 0.7, 0.8, 0.9,...</td>\n",
       "    </tr>\n",
       "    <tr>\n",
       "      <th>44</th>\n",
       "      <td>E + CO(v9) =&gt; E + CO(v8)</td>\n",
       "      <td>deexcitation</td>\n",
       "      <td>-2.4e-01</td>\n",
       "      <td>[[0.1, 0.2, 0.3, 0.4, 0.5, 0.6, 0.7, 0.8, 0.9,...</td>\n",
       "    </tr>\n",
       "    <tr>\n",
       "      <th>45</th>\n",
       "      <td>E + CO(v10) =&gt; E + CO</td>\n",
       "      <td>deexcitation</td>\n",
       "      <td>-2.5e+00</td>\n",
       "      <td>[[0.1, 0.2, 0.3, 0.4, 0.5, 0.6, 0.7, 0.8, 0.9,...</td>\n",
       "    </tr>\n",
       "    <tr>\n",
       "      <th>46</th>\n",
       "      <td>E + CO(v10) =&gt; E + CO(v1)</td>\n",
       "      <td>deexcitation</td>\n",
       "      <td>-2.2e+00</td>\n",
       "      <td>[[0.1, 0.2, 0.3, 0.4, 0.5, 0.6, 0.7, 0.8, 0.9,...</td>\n",
       "    </tr>\n",
       "    <tr>\n",
       "      <th>47</th>\n",
       "      <td>E + CO(v10) =&gt; E + CO(v2)</td>\n",
       "      <td>deexcitation</td>\n",
       "      <td>-2.0e+00</td>\n",
       "      <td>[[0.1, 0.2, 0.3, 0.4, 0.5, 0.6, 0.7, 0.8, 0.9,...</td>\n",
       "    </tr>\n",
       "    <tr>\n",
       "      <th>48</th>\n",
       "      <td>E + CO(v10) =&gt; E + CO(v3)</td>\n",
       "      <td>deexcitation</td>\n",
       "      <td>-1.7e+00</td>\n",
       "      <td>[[0.1, 0.2, 0.3, 0.4, 0.5, 0.6, 0.7, 0.8, 0.9,...</td>\n",
       "    </tr>\n",
       "    <tr>\n",
       "      <th>49</th>\n",
       "      <td>E + CO(v10) =&gt; E + CO(v4)</td>\n",
       "      <td>deexcitation</td>\n",
       "      <td>-1.5e+00</td>\n",
       "      <td>[[0.1, 0.2, 0.3, 0.4, 0.5, 0.6, 0.7, 0.8, 0.9,...</td>\n",
       "    </tr>\n",
       "    <tr>\n",
       "      <th>50</th>\n",
       "      <td>E + CO(v10) =&gt; E + CO(v5)</td>\n",
       "      <td>deexcitation</td>\n",
       "      <td>-1.2e+00</td>\n",
       "      <td>[[0.1, 0.2, 0.3, 0.4, 0.5, 0.6, 0.7, 0.8, 0.9,...</td>\n",
       "    </tr>\n",
       "    <tr>\n",
       "      <th>51</th>\n",
       "      <td>E + CO(v10) =&gt; E + CO(v6)</td>\n",
       "      <td>deexcitation</td>\n",
       "      <td>-9.6e-01</td>\n",
       "      <td>[[0.1, 0.2, 0.3, 0.4, 0.5, 0.6, 0.7, 0.8, 0.9,...</td>\n",
       "    </tr>\n",
       "    <tr>\n",
       "      <th>52</th>\n",
       "      <td>E + CO(v10) =&gt; E + CO(v7)</td>\n",
       "      <td>deexcitation</td>\n",
       "      <td>-7.2e-01</td>\n",
       "      <td>[[0.1, 0.2, 0.3, 0.4, 0.5, 0.6, 0.7, 0.8, 0.9,...</td>\n",
       "    </tr>\n",
       "    <tr>\n",
       "      <th>53</th>\n",
       "      <td>E + CO(v10) =&gt; E + CO(v8)</td>\n",
       "      <td>deexcitation</td>\n",
       "      <td>-4.8e-01</td>\n",
       "      <td>[[0.1, 0.2, 0.3, 0.4, 0.5, 0.6, 0.7, 0.8, 0.9,...</td>\n",
       "    </tr>\n",
       "    <tr>\n",
       "      <th>54</th>\n",
       "      <td>E + CO(v10) =&gt; E + CO(v9)</td>\n",
       "      <td>deexcitation</td>\n",
       "      <td>-2.4e-01</td>\n",
       "      <td>[[0.1, 0.2, 0.3, 0.4, 0.5, 0.6, 0.7, 0.8, 0.9,...</td>\n",
       "    </tr>\n",
       "  </tbody>\n",
       "</table>\n",
       "</div>"
      ],
      "text/plain": [
       "                      formula          type  threshold_eV  \\\n",
       "0        E + CO(v1) => E + CO  deexcitation      -2.7e-01   \n",
       "1        E + CO(v2) => E + CO  deexcitation      -5.3e-01   \n",
       "2    E + CO(v2) => E + CO(v1)  deexcitation      -2.6e-01   \n",
       "3        E + CO(v3) => E + CO  deexcitation      -7.9e-01   \n",
       "4    E + CO(v3) => E + CO(v1)  deexcitation      -5.2e-01   \n",
       "5    E + CO(v3) => E + CO(v2)  deexcitation      -2.6e-01   \n",
       "6        E + CO(v4) => E + CO  deexcitation      -1.0e+00   \n",
       "7    E + CO(v4) => E + CO(v1)  deexcitation      -7.8e-01   \n",
       "8    E + CO(v4) => E + CO(v2)  deexcitation      -5.1e-01   \n",
       "9    E + CO(v4) => E + CO(v3)  deexcitation      -2.6e-01   \n",
       "10       E + CO(v5) => E + CO  deexcitation      -1.3e+00   \n",
       "11   E + CO(v5) => E + CO(v1)  deexcitation      -1.0e+00   \n",
       "12   E + CO(v5) => E + CO(v2)  deexcitation      -7.7e-01   \n",
       "13   E + CO(v5) => E + CO(v3)  deexcitation      -5.1e-01   \n",
       "14   E + CO(v5) => E + CO(v4)  deexcitation      -2.5e-01   \n",
       "15       E + CO(v6) => E + CO  deexcitation      -1.5e+00   \n",
       "16   E + CO(v6) => E + CO(v1)  deexcitation      -1.3e+00   \n",
       "17   E + CO(v6) => E + CO(v2)  deexcitation      -1.0e+00   \n",
       "18   E + CO(v6) => E + CO(v3)  deexcitation      -7.6e-01   \n",
       "19   E + CO(v6) => E + CO(v4)  deexcitation      -5.0e-01   \n",
       "20   E + CO(v6) => E + CO(v5)  deexcitation      -2.5e-01   \n",
       "21       E + CO(v7) => E + CO  deexcitation      -1.8e+00   \n",
       "22   E + CO(v7) => E + CO(v1)  deexcitation      -1.5e+00   \n",
       "23   E + CO(v7) => E + CO(v2)  deexcitation      -1.3e+00   \n",
       "24   E + CO(v7) => E + CO(v3)  deexcitation      -1.0e+00   \n",
       "25   E + CO(v7) => E + CO(v4)  deexcitation      -7.5e-01   \n",
       "26   E + CO(v7) => E + CO(v5)  deexcitation      -5.0e-01   \n",
       "27   E + CO(v7) => E + CO(v6)  deexcitation      -2.5e-01   \n",
       "28       E + CO(v8) => E + CO  deexcitation      -2.0e+00   \n",
       "29   E + CO(v8) => E + CO(v1)  deexcitation      -1.8e+00   \n",
       "30   E + CO(v8) => E + CO(v2)  deexcitation      -1.5e+00   \n",
       "31   E + CO(v8) => E + CO(v3)  deexcitation      -1.2e+00   \n",
       "32   E + CO(v8) => E + CO(v4)  deexcitation      -9.9e-01   \n",
       "33   E + CO(v8) => E + CO(v5)  deexcitation      -7.4e-01   \n",
       "34   E + CO(v8) => E + CO(v6)  deexcitation      -4.9e-01   \n",
       "35   E + CO(v8) => E + CO(v7)  deexcitation      -2.4e-01   \n",
       "36       E + CO(v9) => E + CO  deexcitation      -2.3e+00   \n",
       "37   E + CO(v9) => E + CO(v1)  deexcitation      -2.0e+00   \n",
       "38   E + CO(v9) => E + CO(v2)  deexcitation      -1.7e+00   \n",
       "39   E + CO(v9) => E + CO(v3)  deexcitation      -1.5e+00   \n",
       "40   E + CO(v9) => E + CO(v4)  deexcitation      -1.2e+00   \n",
       "41   E + CO(v9) => E + CO(v5)  deexcitation      -9.8e-01   \n",
       "42   E + CO(v9) => E + CO(v6)  deexcitation      -7.3e-01   \n",
       "43   E + CO(v9) => E + CO(v7)  deexcitation      -4.8e-01   \n",
       "44   E + CO(v9) => E + CO(v8)  deexcitation      -2.4e-01   \n",
       "45      E + CO(v10) => E + CO  deexcitation      -2.5e+00   \n",
       "46  E + CO(v10) => E + CO(v1)  deexcitation      -2.2e+00   \n",
       "47  E + CO(v10) => E + CO(v2)  deexcitation      -2.0e+00   \n",
       "48  E + CO(v10) => E + CO(v3)  deexcitation      -1.7e+00   \n",
       "49  E + CO(v10) => E + CO(v4)  deexcitation      -1.5e+00   \n",
       "50  E + CO(v10) => E + CO(v5)  deexcitation      -1.2e+00   \n",
       "51  E + CO(v10) => E + CO(v6)  deexcitation      -9.6e-01   \n",
       "52  E + CO(v10) => E + CO(v7)  deexcitation      -7.2e-01   \n",
       "53  E + CO(v10) => E + CO(v8)  deexcitation      -4.8e-01   \n",
       "54  E + CO(v10) => E + CO(v9)  deexcitation      -2.4e-01   \n",
       "\n",
       "                                        cross_section  \n",
       "0   [[0.1, 0.2, 0.3, 0.4, 0.5, 0.6, 0.7, 0.8, 0.9,...  \n",
       "1   [[0.1, 0.2, 0.3, 0.4, 0.5, 0.6, 0.7, 0.8, 0.9,...  \n",
       "2   [[0.1, 0.2, 0.3, 0.4, 0.5, 0.6, 0.7, 0.8, 0.9,...  \n",
       "3   [[0.1, 0.2, 0.3, 0.4, 0.5, 0.6, 0.7, 0.8, 0.9,...  \n",
       "4   [[0.1, 0.2, 0.3, 0.4, 0.5, 0.6, 0.7, 0.8, 0.9,...  \n",
       "5   [[0.1, 0.2, 0.3, 0.4, 0.5, 0.6, 0.7, 0.8, 0.9,...  \n",
       "6   [[0.1, 0.2, 0.3, 0.4, 0.5, 0.6, 0.7, 0.8, 0.9,...  \n",
       "7   [[0.1, 0.2, 0.3, 0.4, 0.5, 0.6, 0.7, 0.8, 0.9,...  \n",
       "8   [[0.1, 0.2, 0.3, 0.4, 0.5, 0.6, 0.7, 0.8, 0.9,...  \n",
       "9   [[0.1, 0.2, 0.3, 0.4, 0.5, 0.6, 0.7, 0.8, 0.9,...  \n",
       "10  [[0.1, 0.2, 0.3, 0.4, 0.5, 0.6, 0.7, 0.8, 0.9,...  \n",
       "11  [[0.1, 0.2, 0.3, 0.4, 0.5, 0.6, 0.7, 0.8, 0.9,...  \n",
       "12  [[0.1, 0.2, 0.3, 0.4, 0.5, 0.6, 0.7, 0.8, 0.9,...  \n",
       "13  [[0.1, 0.2, 0.3, 0.4, 0.5, 0.6, 0.7, 0.8, 0.9,...  \n",
       "14  [[0.1, 0.2, 0.3, 0.4, 0.5, 0.6, 0.7, 0.8, 0.9,...  \n",
       "15  [[0.1, 0.2, 0.3, 0.4, 0.5, 0.6, 0.7, 0.8, 0.9,...  \n",
       "16  [[0.1, 0.2, 0.3, 0.4, 0.5, 0.6, 0.7, 0.8, 0.9,...  \n",
       "17  [[0.1, 0.2, 0.3, 0.4, 0.5, 0.6, 0.7, 0.8, 0.9,...  \n",
       "18  [[0.1, 0.2, 0.3, 0.4, 0.5, 0.6, 0.7, 0.8, 0.9,...  \n",
       "19  [[0.1, 0.2, 0.3, 0.4, 0.5, 0.6, 0.7, 0.8, 0.9,...  \n",
       "20  [[0.1, 0.2, 0.3, 0.4, 0.5, 0.6, 0.7, 0.8, 0.9,...  \n",
       "21  [[0.1, 0.2, 0.3, 0.4, 0.5, 0.6, 0.7, 0.8, 0.9,...  \n",
       "22  [[0.1, 0.2, 0.3, 0.4, 0.5, 0.6, 0.7, 0.8, 0.9,...  \n",
       "23  [[0.1, 0.2, 0.3, 0.4, 0.5, 0.6, 0.7, 0.8, 0.9,...  \n",
       "24  [[0.1, 0.2, 0.3, 0.4, 0.5, 0.6, 0.7, 0.8, 0.9,...  \n",
       "25  [[0.1, 0.2, 0.3, 0.4, 0.5, 0.6, 0.7, 0.8, 0.9,...  \n",
       "26  [[0.1, 0.2, 0.3, 0.4, 0.5, 0.6, 0.7, 0.8, 0.9,...  \n",
       "27  [[0.1, 0.2, 0.3, 0.4, 0.5, 0.6, 0.7, 0.8, 0.9,...  \n",
       "28  [[0.1, 0.2, 0.3, 0.4, 0.5, 0.6, 0.7, 0.8, 0.9,...  \n",
       "29  [[0.1, 0.2, 0.3, 0.4, 0.5, 0.6, 0.7, 0.8, 0.9,...  \n",
       "30  [[0.1, 0.2, 0.3, 0.4, 0.5, 0.6, 0.7, 0.8, 0.9,...  \n",
       "31  [[0.1, 0.2, 0.3, 0.4, 0.5, 0.6, 0.7, 0.8, 0.9,...  \n",
       "32  [[0.1, 0.2, 0.3, 0.4, 0.5, 0.6, 0.7, 0.8, 0.9,...  \n",
       "33  [[0.1, 0.2, 0.3, 0.4, 0.5, 0.6, 0.7, 0.8, 0.9,...  \n",
       "34  [[0.1, 0.2, 0.3, 0.4, 0.5, 0.6, 0.7, 0.8, 0.9,...  \n",
       "35  [[0.1, 0.2, 0.3, 0.4, 0.5, 0.6, 0.7, 0.8, 0.9,...  \n",
       "36  [[0.1, 0.2, 0.3, 0.4, 0.5, 0.6, 0.7, 0.8, 0.9,...  \n",
       "37  [[0.1, 0.2, 0.3, 0.4, 0.5, 0.6, 0.7, 0.8, 0.9,...  \n",
       "38  [[0.1, 0.2, 0.3, 0.4, 0.5, 0.6, 0.7, 0.8, 0.9,...  \n",
       "39  [[0.1, 0.2, 0.3, 0.4, 0.5, 0.6, 0.7, 0.8, 0.9,...  \n",
       "40  [[0.1, 0.2, 0.3, 0.4, 0.5, 0.6, 0.7, 0.8, 0.9,...  \n",
       "41  [[0.1, 0.2, 0.3, 0.4, 0.5, 0.6, 0.7, 0.8, 0.9,...  \n",
       "42  [[0.1, 0.2, 0.3, 0.4, 0.5, 0.6, 0.7, 0.8, 0.9,...  \n",
       "43  [[0.1, 0.2, 0.3, 0.4, 0.5, 0.6, 0.7, 0.8, 0.9,...  \n",
       "44  [[0.1, 0.2, 0.3, 0.4, 0.5, 0.6, 0.7, 0.8, 0.9,...  \n",
       "45  [[0.1, 0.2, 0.3, 0.4, 0.5, 0.6, 0.7, 0.8, 0.9,...  \n",
       "46  [[0.1, 0.2, 0.3, 0.4, 0.5, 0.6, 0.7, 0.8, 0.9,...  \n",
       "47  [[0.1, 0.2, 0.3, 0.4, 0.5, 0.6, 0.7, 0.8, 0.9,...  \n",
       "48  [[0.1, 0.2, 0.3, 0.4, 0.5, 0.6, 0.7, 0.8, 0.9,...  \n",
       "49  [[0.1, 0.2, 0.3, 0.4, 0.5, 0.6, 0.7, 0.8, 0.9,...  \n",
       "50  [[0.1, 0.2, 0.3, 0.4, 0.5, 0.6, 0.7, 0.8, 0.9,...  \n",
       "51  [[0.1, 0.2, 0.3, 0.4, 0.5, 0.6, 0.7, 0.8, 0.9,...  \n",
       "52  [[0.1, 0.2, 0.3, 0.4, 0.5, 0.6, 0.7, 0.8, 0.9,...  \n",
       "53  [[0.1, 0.2, 0.3, 0.4, 0.5, 0.6, 0.7, 0.8, 0.9,...  \n",
       "54  [[0.1, 0.2, 0.3, 0.4, 0.5, 0.6, 0.7, 0.8, 0.9,...  "
      ]
     },
     "execution_count": 48,
     "metadata": {},
     "output_type": "execute_result"
    }
   ],
   "source": [
    "inelas_df"
   ]
  },
  {
   "cell_type": "code",
   "execution_count": 49,
   "metadata": {},
   "outputs": [
    {
     "data": {
      "text/plain": [
       "array([[1.0e-01, 2.0e-01, 3.0e-01, 4.0e-01, 5.0e-01, ..., 1.0e+02, 1.0e+02, 1.0e+02, 1.0e+02, 1.0e+02],\n",
       "       [5.4e-21, 3.7e-21, 3.0e-21, 2.6e-21, 2.5e-21, ..., 0.0e+00, 0.0e+00, 0.0e+00, 0.0e+00, 0.0e+00]])"
      ]
     },
     "execution_count": 49,
     "metadata": {},
     "output_type": "execute_result"
    }
   ],
   "source": [
    "inelas_df.loc[0, 'cross_section']"
   ]
  },
  {
   "cell_type": "markdown",
   "metadata": {},
   "source": [
    "### Choose the reactions considered."
   ]
  },
  {
   "cell_type": "code",
   "execution_count": 50,
   "metadata": {},
   "outputs": [
    {
     "data": {
      "text/html": [
       "<div>\n",
       "<style scoped>\n",
       "    .dataframe tbody tr th:only-of-type {\n",
       "        vertical-align: middle;\n",
       "    }\n",
       "\n",
       "    .dataframe tbody tr th {\n",
       "        vertical-align: top;\n",
       "    }\n",
       "\n",
       "    .dataframe thead th {\n",
       "        text-align: right;\n",
       "    }\n",
       "</style>\n",
       "<table border=\"1\" class=\"dataframe\">\n",
       "  <thead>\n",
       "    <tr style=\"text-align: right;\">\n",
       "      <th></th>\n",
       "      <th>formula</th>\n",
       "      <th>type</th>\n",
       "      <th>threshold_eV</th>\n",
       "      <th>cross_section</th>\n",
       "    </tr>\n",
       "  </thead>\n",
       "  <tbody>\n",
       "    <tr>\n",
       "      <th>0</th>\n",
       "      <td>E + CO(v1) =&gt; E + CO</td>\n",
       "      <td>deexcitation</td>\n",
       "      <td>-2.7e-01</td>\n",
       "      <td>[[0.1, 0.2, 0.3, 0.4, 0.5, 0.6, 0.7, 0.8, 0.9,...</td>\n",
       "    </tr>\n",
       "    <tr>\n",
       "      <th>1</th>\n",
       "      <td>E + CO(v2) =&gt; E + CO</td>\n",
       "      <td>deexcitation</td>\n",
       "      <td>-5.3e-01</td>\n",
       "      <td>[[0.1, 0.2, 0.3, 0.4, 0.5, 0.6, 0.7, 0.8, 0.9,...</td>\n",
       "    </tr>\n",
       "    <tr>\n",
       "      <th>2</th>\n",
       "      <td>E + CO(v2) =&gt; E + CO(v1)</td>\n",
       "      <td>deexcitation</td>\n",
       "      <td>-2.6e-01</td>\n",
       "      <td>[[0.1, 0.2, 0.3, 0.4, 0.5, 0.6, 0.7, 0.8, 0.9,...</td>\n",
       "    </tr>\n",
       "    <tr>\n",
       "      <th>3</th>\n",
       "      <td>E + CO(v3) =&gt; E + CO</td>\n",
       "      <td>deexcitation</td>\n",
       "      <td>-7.9e-01</td>\n",
       "      <td>[[0.1, 0.2, 0.3, 0.4, 0.5, 0.6, 0.7, 0.8, 0.9,...</td>\n",
       "    </tr>\n",
       "    <tr>\n",
       "      <th>4</th>\n",
       "      <td>E + CO(v3) =&gt; E + CO(v1)</td>\n",
       "      <td>deexcitation</td>\n",
       "      <td>-5.2e-01</td>\n",
       "      <td>[[0.1, 0.2, 0.3, 0.4, 0.5, 0.6, 0.7, 0.8, 0.9,...</td>\n",
       "    </tr>\n",
       "    <tr>\n",
       "      <th>5</th>\n",
       "      <td>E + CO(v3) =&gt; E + CO(v2)</td>\n",
       "      <td>deexcitation</td>\n",
       "      <td>-2.6e-01</td>\n",
       "      <td>[[0.1, 0.2, 0.3, 0.4, 0.5, 0.6, 0.7, 0.8, 0.9,...</td>\n",
       "    </tr>\n",
       "    <tr>\n",
       "      <th>6</th>\n",
       "      <td>E + CO(v4) =&gt; E + CO</td>\n",
       "      <td>deexcitation</td>\n",
       "      <td>-1.0e+00</td>\n",
       "      <td>[[0.1, 0.2, 0.3, 0.4, 0.5, 0.6, 0.7, 0.8, 0.9,...</td>\n",
       "    </tr>\n",
       "    <tr>\n",
       "      <th>7</th>\n",
       "      <td>E + CO(v4) =&gt; E + CO(v1)</td>\n",
       "      <td>deexcitation</td>\n",
       "      <td>-7.8e-01</td>\n",
       "      <td>[[0.1, 0.2, 0.3, 0.4, 0.5, 0.6, 0.7, 0.8, 0.9,...</td>\n",
       "    </tr>\n",
       "    <tr>\n",
       "      <th>8</th>\n",
       "      <td>E + CO(v4) =&gt; E + CO(v2)</td>\n",
       "      <td>deexcitation</td>\n",
       "      <td>-5.1e-01</td>\n",
       "      <td>[[0.1, 0.2, 0.3, 0.4, 0.5, 0.6, 0.7, 0.8, 0.9,...</td>\n",
       "    </tr>\n",
       "    <tr>\n",
       "      <th>9</th>\n",
       "      <td>E + CO(v4) =&gt; E + CO(v3)</td>\n",
       "      <td>deexcitation</td>\n",
       "      <td>-2.6e-01</td>\n",
       "      <td>[[0.1, 0.2, 0.3, 0.4, 0.5, 0.6, 0.7, 0.8, 0.9,...</td>\n",
       "    </tr>\n",
       "    <tr>\n",
       "      <th>10</th>\n",
       "      <td>E + CO(v5) =&gt; E + CO</td>\n",
       "      <td>deexcitation</td>\n",
       "      <td>-1.3e+00</td>\n",
       "      <td>[[0.1, 0.2, 0.3, 0.4, 0.5, 0.6, 0.7, 0.8, 0.9,...</td>\n",
       "    </tr>\n",
       "    <tr>\n",
       "      <th>11</th>\n",
       "      <td>E + CO(v5) =&gt; E + CO(v1)</td>\n",
       "      <td>deexcitation</td>\n",
       "      <td>-1.0e+00</td>\n",
       "      <td>[[0.1, 0.2, 0.3, 0.4, 0.5, 0.6, 0.7, 0.8, 0.9,...</td>\n",
       "    </tr>\n",
       "    <tr>\n",
       "      <th>12</th>\n",
       "      <td>E + CO(v5) =&gt; E + CO(v2)</td>\n",
       "      <td>deexcitation</td>\n",
       "      <td>-7.7e-01</td>\n",
       "      <td>[[0.1, 0.2, 0.3, 0.4, 0.5, 0.6, 0.7, 0.8, 0.9,...</td>\n",
       "    </tr>\n",
       "    <tr>\n",
       "      <th>13</th>\n",
       "      <td>E + CO(v5) =&gt; E + CO(v3)</td>\n",
       "      <td>deexcitation</td>\n",
       "      <td>-5.1e-01</td>\n",
       "      <td>[[0.1, 0.2, 0.3, 0.4, 0.5, 0.6, 0.7, 0.8, 0.9,...</td>\n",
       "    </tr>\n",
       "    <tr>\n",
       "      <th>14</th>\n",
       "      <td>E + CO(v5) =&gt; E + CO(v4)</td>\n",
       "      <td>deexcitation</td>\n",
       "      <td>-2.5e-01</td>\n",
       "      <td>[[0.1, 0.2, 0.3, 0.4, 0.5, 0.6, 0.7, 0.8, 0.9,...</td>\n",
       "    </tr>\n",
       "    <tr>\n",
       "      <th>15</th>\n",
       "      <td>E + CO(v6) =&gt; E + CO</td>\n",
       "      <td>deexcitation</td>\n",
       "      <td>-1.5e+00</td>\n",
       "      <td>[[0.1, 0.2, 0.3, 0.4, 0.5, 0.6, 0.7, 0.8, 0.9,...</td>\n",
       "    </tr>\n",
       "    <tr>\n",
       "      <th>16</th>\n",
       "      <td>E + CO(v6) =&gt; E + CO(v1)</td>\n",
       "      <td>deexcitation</td>\n",
       "      <td>-1.3e+00</td>\n",
       "      <td>[[0.1, 0.2, 0.3, 0.4, 0.5, 0.6, 0.7, 0.8, 0.9,...</td>\n",
       "    </tr>\n",
       "    <tr>\n",
       "      <th>17</th>\n",
       "      <td>E + CO(v6) =&gt; E + CO(v2)</td>\n",
       "      <td>deexcitation</td>\n",
       "      <td>-1.0e+00</td>\n",
       "      <td>[[0.1, 0.2, 0.3, 0.4, 0.5, 0.6, 0.7, 0.8, 0.9,...</td>\n",
       "    </tr>\n",
       "    <tr>\n",
       "      <th>18</th>\n",
       "      <td>E + CO(v6) =&gt; E + CO(v3)</td>\n",
       "      <td>deexcitation</td>\n",
       "      <td>-7.6e-01</td>\n",
       "      <td>[[0.1, 0.2, 0.3, 0.4, 0.5, 0.6, 0.7, 0.8, 0.9,...</td>\n",
       "    </tr>\n",
       "    <tr>\n",
       "      <th>19</th>\n",
       "      <td>E + CO(v6) =&gt; E + CO(v4)</td>\n",
       "      <td>deexcitation</td>\n",
       "      <td>-5.0e-01</td>\n",
       "      <td>[[0.1, 0.2, 0.3, 0.4, 0.5, 0.6, 0.7, 0.8, 0.9,...</td>\n",
       "    </tr>\n",
       "    <tr>\n",
       "      <th>20</th>\n",
       "      <td>E + CO(v6) =&gt; E + CO(v5)</td>\n",
       "      <td>deexcitation</td>\n",
       "      <td>-2.5e-01</td>\n",
       "      <td>[[0.1, 0.2, 0.3, 0.4, 0.5, 0.6, 0.7, 0.8, 0.9,...</td>\n",
       "    </tr>\n",
       "    <tr>\n",
       "      <th>21</th>\n",
       "      <td>E + CO(v7) =&gt; E + CO</td>\n",
       "      <td>deexcitation</td>\n",
       "      <td>-1.8e+00</td>\n",
       "      <td>[[0.1, 0.2, 0.3, 0.4, 0.5, 0.6, 0.7, 0.8, 0.9,...</td>\n",
       "    </tr>\n",
       "    <tr>\n",
       "      <th>22</th>\n",
       "      <td>E + CO(v7) =&gt; E + CO(v1)</td>\n",
       "      <td>deexcitation</td>\n",
       "      <td>-1.5e+00</td>\n",
       "      <td>[[0.1, 0.2, 0.3, 0.4, 0.5, 0.6, 0.7, 0.8, 0.9,...</td>\n",
       "    </tr>\n",
       "    <tr>\n",
       "      <th>23</th>\n",
       "      <td>E + CO(v7) =&gt; E + CO(v2)</td>\n",
       "      <td>deexcitation</td>\n",
       "      <td>-1.3e+00</td>\n",
       "      <td>[[0.1, 0.2, 0.3, 0.4, 0.5, 0.6, 0.7, 0.8, 0.9,...</td>\n",
       "    </tr>\n",
       "    <tr>\n",
       "      <th>24</th>\n",
       "      <td>E + CO(v7) =&gt; E + CO(v3)</td>\n",
       "      <td>deexcitation</td>\n",
       "      <td>-1.0e+00</td>\n",
       "      <td>[[0.1, 0.2, 0.3, 0.4, 0.5, 0.6, 0.7, 0.8, 0.9,...</td>\n",
       "    </tr>\n",
       "    <tr>\n",
       "      <th>25</th>\n",
       "      <td>E + CO(v7) =&gt; E + CO(v4)</td>\n",
       "      <td>deexcitation</td>\n",
       "      <td>-7.5e-01</td>\n",
       "      <td>[[0.1, 0.2, 0.3, 0.4, 0.5, 0.6, 0.7, 0.8, 0.9,...</td>\n",
       "    </tr>\n",
       "    <tr>\n",
       "      <th>26</th>\n",
       "      <td>E + CO(v7) =&gt; E + CO(v5)</td>\n",
       "      <td>deexcitation</td>\n",
       "      <td>-5.0e-01</td>\n",
       "      <td>[[0.1, 0.2, 0.3, 0.4, 0.5, 0.6, 0.7, 0.8, 0.9,...</td>\n",
       "    </tr>\n",
       "    <tr>\n",
       "      <th>27</th>\n",
       "      <td>E + CO(v7) =&gt; E + CO(v6)</td>\n",
       "      <td>deexcitation</td>\n",
       "      <td>-2.5e-01</td>\n",
       "      <td>[[0.1, 0.2, 0.3, 0.4, 0.5, 0.6, 0.7, 0.8, 0.9,...</td>\n",
       "    </tr>\n",
       "    <tr>\n",
       "      <th>28</th>\n",
       "      <td>E + CO(v8) =&gt; E + CO</td>\n",
       "      <td>deexcitation</td>\n",
       "      <td>-2.0e+00</td>\n",
       "      <td>[[0.1, 0.2, 0.3, 0.4, 0.5, 0.6, 0.7, 0.8, 0.9,...</td>\n",
       "    </tr>\n",
       "    <tr>\n",
       "      <th>29</th>\n",
       "      <td>E + CO(v8) =&gt; E + CO(v1)</td>\n",
       "      <td>deexcitation</td>\n",
       "      <td>-1.8e+00</td>\n",
       "      <td>[[0.1, 0.2, 0.3, 0.4, 0.5, 0.6, 0.7, 0.8, 0.9,...</td>\n",
       "    </tr>\n",
       "    <tr>\n",
       "      <th>30</th>\n",
       "      <td>E + CO(v8) =&gt; E + CO(v2)</td>\n",
       "      <td>deexcitation</td>\n",
       "      <td>-1.5e+00</td>\n",
       "      <td>[[0.1, 0.2, 0.3, 0.4, 0.5, 0.6, 0.7, 0.8, 0.9,...</td>\n",
       "    </tr>\n",
       "    <tr>\n",
       "      <th>31</th>\n",
       "      <td>E + CO(v8) =&gt; E + CO(v3)</td>\n",
       "      <td>deexcitation</td>\n",
       "      <td>-1.2e+00</td>\n",
       "      <td>[[0.1, 0.2, 0.3, 0.4, 0.5, 0.6, 0.7, 0.8, 0.9,...</td>\n",
       "    </tr>\n",
       "    <tr>\n",
       "      <th>32</th>\n",
       "      <td>E + CO(v8) =&gt; E + CO(v4)</td>\n",
       "      <td>deexcitation</td>\n",
       "      <td>-9.9e-01</td>\n",
       "      <td>[[0.1, 0.2, 0.3, 0.4, 0.5, 0.6, 0.7, 0.8, 0.9,...</td>\n",
       "    </tr>\n",
       "    <tr>\n",
       "      <th>33</th>\n",
       "      <td>E + CO(v8) =&gt; E + CO(v5)</td>\n",
       "      <td>deexcitation</td>\n",
       "      <td>-7.4e-01</td>\n",
       "      <td>[[0.1, 0.2, 0.3, 0.4, 0.5, 0.6, 0.7, 0.8, 0.9,...</td>\n",
       "    </tr>\n",
       "    <tr>\n",
       "      <th>34</th>\n",
       "      <td>E + CO(v8) =&gt; E + CO(v6)</td>\n",
       "      <td>deexcitation</td>\n",
       "      <td>-4.9e-01</td>\n",
       "      <td>[[0.1, 0.2, 0.3, 0.4, 0.5, 0.6, 0.7, 0.8, 0.9,...</td>\n",
       "    </tr>\n",
       "    <tr>\n",
       "      <th>35</th>\n",
       "      <td>E + CO(v8) =&gt; E + CO(v7)</td>\n",
       "      <td>deexcitation</td>\n",
       "      <td>-2.4e-01</td>\n",
       "      <td>[[0.1, 0.2, 0.3, 0.4, 0.5, 0.6, 0.7, 0.8, 0.9,...</td>\n",
       "    </tr>\n",
       "    <tr>\n",
       "      <th>36</th>\n",
       "      <td>E + CO(v9) =&gt; E + CO</td>\n",
       "      <td>deexcitation</td>\n",
       "      <td>-2.3e+00</td>\n",
       "      <td>[[0.1, 0.2, 0.3, 0.4, 0.5, 0.6, 0.7, 0.8, 0.9,...</td>\n",
       "    </tr>\n",
       "    <tr>\n",
       "      <th>37</th>\n",
       "      <td>E + CO(v9) =&gt; E + CO(v1)</td>\n",
       "      <td>deexcitation</td>\n",
       "      <td>-2.0e+00</td>\n",
       "      <td>[[0.1, 0.2, 0.3, 0.4, 0.5, 0.6, 0.7, 0.8, 0.9,...</td>\n",
       "    </tr>\n",
       "    <tr>\n",
       "      <th>38</th>\n",
       "      <td>E + CO(v9) =&gt; E + CO(v2)</td>\n",
       "      <td>deexcitation</td>\n",
       "      <td>-1.7e+00</td>\n",
       "      <td>[[0.1, 0.2, 0.3, 0.4, 0.5, 0.6, 0.7, 0.8, 0.9,...</td>\n",
       "    </tr>\n",
       "    <tr>\n",
       "      <th>39</th>\n",
       "      <td>E + CO(v9) =&gt; E + CO(v3)</td>\n",
       "      <td>deexcitation</td>\n",
       "      <td>-1.5e+00</td>\n",
       "      <td>[[0.1, 0.2, 0.3, 0.4, 0.5, 0.6, 0.7, 0.8, 0.9,...</td>\n",
       "    </tr>\n",
       "    <tr>\n",
       "      <th>40</th>\n",
       "      <td>E + CO(v9) =&gt; E + CO(v4)</td>\n",
       "      <td>deexcitation</td>\n",
       "      <td>-1.2e+00</td>\n",
       "      <td>[[0.1, 0.2, 0.3, 0.4, 0.5, 0.6, 0.7, 0.8, 0.9,...</td>\n",
       "    </tr>\n",
       "    <tr>\n",
       "      <th>41</th>\n",
       "      <td>E + CO(v9) =&gt; E + CO(v5)</td>\n",
       "      <td>deexcitation</td>\n",
       "      <td>-9.8e-01</td>\n",
       "      <td>[[0.1, 0.2, 0.3, 0.4, 0.5, 0.6, 0.7, 0.8, 0.9,...</td>\n",
       "    </tr>\n",
       "    <tr>\n",
       "      <th>42</th>\n",
       "      <td>E + CO(v9) =&gt; E + CO(v6)</td>\n",
       "      <td>deexcitation</td>\n",
       "      <td>-7.3e-01</td>\n",
       "      <td>[[0.1, 0.2, 0.3, 0.4, 0.5, 0.6, 0.7, 0.8, 0.9,...</td>\n",
       "    </tr>\n",
       "    <tr>\n",
       "      <th>43</th>\n",
       "      <td>E + CO(v9) =&gt; E + CO(v7)</td>\n",
       "      <td>deexcitation</td>\n",
       "      <td>-4.8e-01</td>\n",
       "      <td>[[0.1, 0.2, 0.3, 0.4, 0.5, 0.6, 0.7, 0.8, 0.9,...</td>\n",
       "    </tr>\n",
       "    <tr>\n",
       "      <th>44</th>\n",
       "      <td>E + CO(v9) =&gt; E + CO(v8)</td>\n",
       "      <td>deexcitation</td>\n",
       "      <td>-2.4e-01</td>\n",
       "      <td>[[0.1, 0.2, 0.3, 0.4, 0.5, 0.6, 0.7, 0.8, 0.9,...</td>\n",
       "    </tr>\n",
       "    <tr>\n",
       "      <th>45</th>\n",
       "      <td>E + CO(v10) =&gt; E + CO</td>\n",
       "      <td>deexcitation</td>\n",
       "      <td>-2.5e+00</td>\n",
       "      <td>[[0.1, 0.2, 0.3, 0.4, 0.5, 0.6, 0.7, 0.8, 0.9,...</td>\n",
       "    </tr>\n",
       "    <tr>\n",
       "      <th>46</th>\n",
       "      <td>E + CO(v10) =&gt; E + CO(v1)</td>\n",
       "      <td>deexcitation</td>\n",
       "      <td>-2.2e+00</td>\n",
       "      <td>[[0.1, 0.2, 0.3, 0.4, 0.5, 0.6, 0.7, 0.8, 0.9,...</td>\n",
       "    </tr>\n",
       "    <tr>\n",
       "      <th>47</th>\n",
       "      <td>E + CO(v10) =&gt; E + CO(v2)</td>\n",
       "      <td>deexcitation</td>\n",
       "      <td>-2.0e+00</td>\n",
       "      <td>[[0.1, 0.2, 0.3, 0.4, 0.5, 0.6, 0.7, 0.8, 0.9,...</td>\n",
       "    </tr>\n",
       "    <tr>\n",
       "      <th>48</th>\n",
       "      <td>E + CO(v10) =&gt; E + CO(v3)</td>\n",
       "      <td>deexcitation</td>\n",
       "      <td>-1.7e+00</td>\n",
       "      <td>[[0.1, 0.2, 0.3, 0.4, 0.5, 0.6, 0.7, 0.8, 0.9,...</td>\n",
       "    </tr>\n",
       "    <tr>\n",
       "      <th>49</th>\n",
       "      <td>E + CO(v10) =&gt; E + CO(v4)</td>\n",
       "      <td>deexcitation</td>\n",
       "      <td>-1.5e+00</td>\n",
       "      <td>[[0.1, 0.2, 0.3, 0.4, 0.5, 0.6, 0.7, 0.8, 0.9,...</td>\n",
       "    </tr>\n",
       "    <tr>\n",
       "      <th>50</th>\n",
       "      <td>E + CO(v10) =&gt; E + CO(v5)</td>\n",
       "      <td>deexcitation</td>\n",
       "      <td>-1.2e+00</td>\n",
       "      <td>[[0.1, 0.2, 0.3, 0.4, 0.5, 0.6, 0.7, 0.8, 0.9,...</td>\n",
       "    </tr>\n",
       "    <tr>\n",
       "      <th>51</th>\n",
       "      <td>E + CO(v10) =&gt; E + CO(v6)</td>\n",
       "      <td>deexcitation</td>\n",
       "      <td>-9.6e-01</td>\n",
       "      <td>[[0.1, 0.2, 0.3, 0.4, 0.5, 0.6, 0.7, 0.8, 0.9,...</td>\n",
       "    </tr>\n",
       "    <tr>\n",
       "      <th>52</th>\n",
       "      <td>E + CO(v10) =&gt; E + CO(v7)</td>\n",
       "      <td>deexcitation</td>\n",
       "      <td>-7.2e-01</td>\n",
       "      <td>[[0.1, 0.2, 0.3, 0.4, 0.5, 0.6, 0.7, 0.8, 0.9,...</td>\n",
       "    </tr>\n",
       "    <tr>\n",
       "      <th>53</th>\n",
       "      <td>E + CO(v10) =&gt; E + CO(v8)</td>\n",
       "      <td>deexcitation</td>\n",
       "      <td>-4.8e-01</td>\n",
       "      <td>[[0.1, 0.2, 0.3, 0.4, 0.5, 0.6, 0.7, 0.8, 0.9,...</td>\n",
       "    </tr>\n",
       "    <tr>\n",
       "      <th>54</th>\n",
       "      <td>E + CO(v10) =&gt; E + CO(v9)</td>\n",
       "      <td>deexcitation</td>\n",
       "      <td>-2.4e-01</td>\n",
       "      <td>[[0.1, 0.2, 0.3, 0.4, 0.5, 0.6, 0.7, 0.8, 0.9,...</td>\n",
       "    </tr>\n",
       "  </tbody>\n",
       "</table>\n",
       "</div>"
      ],
      "text/plain": [
       "                      formula          type  threshold_eV  \\\n",
       "0        E + CO(v1) => E + CO  deexcitation      -2.7e-01   \n",
       "1        E + CO(v2) => E + CO  deexcitation      -5.3e-01   \n",
       "2    E + CO(v2) => E + CO(v1)  deexcitation      -2.6e-01   \n",
       "3        E + CO(v3) => E + CO  deexcitation      -7.9e-01   \n",
       "4    E + CO(v3) => E + CO(v1)  deexcitation      -5.2e-01   \n",
       "5    E + CO(v3) => E + CO(v2)  deexcitation      -2.6e-01   \n",
       "6        E + CO(v4) => E + CO  deexcitation      -1.0e+00   \n",
       "7    E + CO(v4) => E + CO(v1)  deexcitation      -7.8e-01   \n",
       "8    E + CO(v4) => E + CO(v2)  deexcitation      -5.1e-01   \n",
       "9    E + CO(v4) => E + CO(v3)  deexcitation      -2.6e-01   \n",
       "10       E + CO(v5) => E + CO  deexcitation      -1.3e+00   \n",
       "11   E + CO(v5) => E + CO(v1)  deexcitation      -1.0e+00   \n",
       "12   E + CO(v5) => E + CO(v2)  deexcitation      -7.7e-01   \n",
       "13   E + CO(v5) => E + CO(v3)  deexcitation      -5.1e-01   \n",
       "14   E + CO(v5) => E + CO(v4)  deexcitation      -2.5e-01   \n",
       "15       E + CO(v6) => E + CO  deexcitation      -1.5e+00   \n",
       "16   E + CO(v6) => E + CO(v1)  deexcitation      -1.3e+00   \n",
       "17   E + CO(v6) => E + CO(v2)  deexcitation      -1.0e+00   \n",
       "18   E + CO(v6) => E + CO(v3)  deexcitation      -7.6e-01   \n",
       "19   E + CO(v6) => E + CO(v4)  deexcitation      -5.0e-01   \n",
       "20   E + CO(v6) => E + CO(v5)  deexcitation      -2.5e-01   \n",
       "21       E + CO(v7) => E + CO  deexcitation      -1.8e+00   \n",
       "22   E + CO(v7) => E + CO(v1)  deexcitation      -1.5e+00   \n",
       "23   E + CO(v7) => E + CO(v2)  deexcitation      -1.3e+00   \n",
       "24   E + CO(v7) => E + CO(v3)  deexcitation      -1.0e+00   \n",
       "25   E + CO(v7) => E + CO(v4)  deexcitation      -7.5e-01   \n",
       "26   E + CO(v7) => E + CO(v5)  deexcitation      -5.0e-01   \n",
       "27   E + CO(v7) => E + CO(v6)  deexcitation      -2.5e-01   \n",
       "28       E + CO(v8) => E + CO  deexcitation      -2.0e+00   \n",
       "29   E + CO(v8) => E + CO(v1)  deexcitation      -1.8e+00   \n",
       "30   E + CO(v8) => E + CO(v2)  deexcitation      -1.5e+00   \n",
       "31   E + CO(v8) => E + CO(v3)  deexcitation      -1.2e+00   \n",
       "32   E + CO(v8) => E + CO(v4)  deexcitation      -9.9e-01   \n",
       "33   E + CO(v8) => E + CO(v5)  deexcitation      -7.4e-01   \n",
       "34   E + CO(v8) => E + CO(v6)  deexcitation      -4.9e-01   \n",
       "35   E + CO(v8) => E + CO(v7)  deexcitation      -2.4e-01   \n",
       "36       E + CO(v9) => E + CO  deexcitation      -2.3e+00   \n",
       "37   E + CO(v9) => E + CO(v1)  deexcitation      -2.0e+00   \n",
       "38   E + CO(v9) => E + CO(v2)  deexcitation      -1.7e+00   \n",
       "39   E + CO(v9) => E + CO(v3)  deexcitation      -1.5e+00   \n",
       "40   E + CO(v9) => E + CO(v4)  deexcitation      -1.2e+00   \n",
       "41   E + CO(v9) => E + CO(v5)  deexcitation      -9.8e-01   \n",
       "42   E + CO(v9) => E + CO(v6)  deexcitation      -7.3e-01   \n",
       "43   E + CO(v9) => E + CO(v7)  deexcitation      -4.8e-01   \n",
       "44   E + CO(v9) => E + CO(v8)  deexcitation      -2.4e-01   \n",
       "45      E + CO(v10) => E + CO  deexcitation      -2.5e+00   \n",
       "46  E + CO(v10) => E + CO(v1)  deexcitation      -2.2e+00   \n",
       "47  E + CO(v10) => E + CO(v2)  deexcitation      -2.0e+00   \n",
       "48  E + CO(v10) => E + CO(v3)  deexcitation      -1.7e+00   \n",
       "49  E + CO(v10) => E + CO(v4)  deexcitation      -1.5e+00   \n",
       "50  E + CO(v10) => E + CO(v5)  deexcitation      -1.2e+00   \n",
       "51  E + CO(v10) => E + CO(v6)  deexcitation      -9.6e-01   \n",
       "52  E + CO(v10) => E + CO(v7)  deexcitation      -7.2e-01   \n",
       "53  E + CO(v10) => E + CO(v8)  deexcitation      -4.8e-01   \n",
       "54  E + CO(v10) => E + CO(v9)  deexcitation      -2.4e-01   \n",
       "\n",
       "                                        cross_section  \n",
       "0   [[0.1, 0.2, 0.3, 0.4, 0.5, 0.6, 0.7, 0.8, 0.9,...  \n",
       "1   [[0.1, 0.2, 0.3, 0.4, 0.5, 0.6, 0.7, 0.8, 0.9,...  \n",
       "2   [[0.1, 0.2, 0.3, 0.4, 0.5, 0.6, 0.7, 0.8, 0.9,...  \n",
       "3   [[0.1, 0.2, 0.3, 0.4, 0.5, 0.6, 0.7, 0.8, 0.9,...  \n",
       "4   [[0.1, 0.2, 0.3, 0.4, 0.5, 0.6, 0.7, 0.8, 0.9,...  \n",
       "5   [[0.1, 0.2, 0.3, 0.4, 0.5, 0.6, 0.7, 0.8, 0.9,...  \n",
       "6   [[0.1, 0.2, 0.3, 0.4, 0.5, 0.6, 0.7, 0.8, 0.9,...  \n",
       "7   [[0.1, 0.2, 0.3, 0.4, 0.5, 0.6, 0.7, 0.8, 0.9,...  \n",
       "8   [[0.1, 0.2, 0.3, 0.4, 0.5, 0.6, 0.7, 0.8, 0.9,...  \n",
       "9   [[0.1, 0.2, 0.3, 0.4, 0.5, 0.6, 0.7, 0.8, 0.9,...  \n",
       "10  [[0.1, 0.2, 0.3, 0.4, 0.5, 0.6, 0.7, 0.8, 0.9,...  \n",
       "11  [[0.1, 0.2, 0.3, 0.4, 0.5, 0.6, 0.7, 0.8, 0.9,...  \n",
       "12  [[0.1, 0.2, 0.3, 0.4, 0.5, 0.6, 0.7, 0.8, 0.9,...  \n",
       "13  [[0.1, 0.2, 0.3, 0.4, 0.5, 0.6, 0.7, 0.8, 0.9,...  \n",
       "14  [[0.1, 0.2, 0.3, 0.4, 0.5, 0.6, 0.7, 0.8, 0.9,...  \n",
       "15  [[0.1, 0.2, 0.3, 0.4, 0.5, 0.6, 0.7, 0.8, 0.9,...  \n",
       "16  [[0.1, 0.2, 0.3, 0.4, 0.5, 0.6, 0.7, 0.8, 0.9,...  \n",
       "17  [[0.1, 0.2, 0.3, 0.4, 0.5, 0.6, 0.7, 0.8, 0.9,...  \n",
       "18  [[0.1, 0.2, 0.3, 0.4, 0.5, 0.6, 0.7, 0.8, 0.9,...  \n",
       "19  [[0.1, 0.2, 0.3, 0.4, 0.5, 0.6, 0.7, 0.8, 0.9,...  \n",
       "20  [[0.1, 0.2, 0.3, 0.4, 0.5, 0.6, 0.7, 0.8, 0.9,...  \n",
       "21  [[0.1, 0.2, 0.3, 0.4, 0.5, 0.6, 0.7, 0.8, 0.9,...  \n",
       "22  [[0.1, 0.2, 0.3, 0.4, 0.5, 0.6, 0.7, 0.8, 0.9,...  \n",
       "23  [[0.1, 0.2, 0.3, 0.4, 0.5, 0.6, 0.7, 0.8, 0.9,...  \n",
       "24  [[0.1, 0.2, 0.3, 0.4, 0.5, 0.6, 0.7, 0.8, 0.9,...  \n",
       "25  [[0.1, 0.2, 0.3, 0.4, 0.5, 0.6, 0.7, 0.8, 0.9,...  \n",
       "26  [[0.1, 0.2, 0.3, 0.4, 0.5, 0.6, 0.7, 0.8, 0.9,...  \n",
       "27  [[0.1, 0.2, 0.3, 0.4, 0.5, 0.6, 0.7, 0.8, 0.9,...  \n",
       "28  [[0.1, 0.2, 0.3, 0.4, 0.5, 0.6, 0.7, 0.8, 0.9,...  \n",
       "29  [[0.1, 0.2, 0.3, 0.4, 0.5, 0.6, 0.7, 0.8, 0.9,...  \n",
       "30  [[0.1, 0.2, 0.3, 0.4, 0.5, 0.6, 0.7, 0.8, 0.9,...  \n",
       "31  [[0.1, 0.2, 0.3, 0.4, 0.5, 0.6, 0.7, 0.8, 0.9,...  \n",
       "32  [[0.1, 0.2, 0.3, 0.4, 0.5, 0.6, 0.7, 0.8, 0.9,...  \n",
       "33  [[0.1, 0.2, 0.3, 0.4, 0.5, 0.6, 0.7, 0.8, 0.9,...  \n",
       "34  [[0.1, 0.2, 0.3, 0.4, 0.5, 0.6, 0.7, 0.8, 0.9,...  \n",
       "35  [[0.1, 0.2, 0.3, 0.4, 0.5, 0.6, 0.7, 0.8, 0.9,...  \n",
       "36  [[0.1, 0.2, 0.3, 0.4, 0.5, 0.6, 0.7, 0.8, 0.9,...  \n",
       "37  [[0.1, 0.2, 0.3, 0.4, 0.5, 0.6, 0.7, 0.8, 0.9,...  \n",
       "38  [[0.1, 0.2, 0.3, 0.4, 0.5, 0.6, 0.7, 0.8, 0.9,...  \n",
       "39  [[0.1, 0.2, 0.3, 0.4, 0.5, 0.6, 0.7, 0.8, 0.9,...  \n",
       "40  [[0.1, 0.2, 0.3, 0.4, 0.5, 0.6, 0.7, 0.8, 0.9,...  \n",
       "41  [[0.1, 0.2, 0.3, 0.4, 0.5, 0.6, 0.7, 0.8, 0.9,...  \n",
       "42  [[0.1, 0.2, 0.3, 0.4, 0.5, 0.6, 0.7, 0.8, 0.9,...  \n",
       "43  [[0.1, 0.2, 0.3, 0.4, 0.5, 0.6, 0.7, 0.8, 0.9,...  \n",
       "44  [[0.1, 0.2, 0.3, 0.4, 0.5, 0.6, 0.7, 0.8, 0.9,...  \n",
       "45  [[0.1, 0.2, 0.3, 0.4, 0.5, 0.6, 0.7, 0.8, 0.9,...  \n",
       "46  [[0.1, 0.2, 0.3, 0.4, 0.5, 0.6, 0.7, 0.8, 0.9,...  \n",
       "47  [[0.1, 0.2, 0.3, 0.4, 0.5, 0.6, 0.7, 0.8, 0.9,...  \n",
       "48  [[0.1, 0.2, 0.3, 0.4, 0.5, 0.6, 0.7, 0.8, 0.9,...  \n",
       "49  [[0.1, 0.2, 0.3, 0.4, 0.5, 0.6, 0.7, 0.8, 0.9,...  \n",
       "50  [[0.1, 0.2, 0.3, 0.4, 0.5, 0.6, 0.7, 0.8, 0.9,...  \n",
       "51  [[0.1, 0.2, 0.3, 0.4, 0.5, 0.6, 0.7, 0.8, 0.9,...  \n",
       "52  [[0.1, 0.2, 0.3, 0.4, 0.5, 0.6, 0.7, 0.8, 0.9,...  \n",
       "53  [[0.1, 0.2, 0.3, 0.4, 0.5, 0.6, 0.7, 0.8, 0.9,...  \n",
       "54  [[0.1, 0.2, 0.3, 0.4, 0.5, 0.6, 0.7, 0.8, 0.9,...  "
      ]
     },
     "execution_count": 50,
     "metadata": {},
     "output_type": "execute_result"
    }
   ],
   "source": [
    "#inelas_df = inelas_df.iloc[[0,1,2,3,4,5,6,7,8]].reset_index(drop=True)\n",
    "inelas_df"
   ]
  },
  {
   "cell_type": "code",
   "execution_count": 51,
   "metadata": {},
   "outputs": [
    {
     "data": {
      "text/plain": [
       "array([[1.0e-01, 2.0e-01, 3.0e-01, 4.0e-01, 5.0e-01, ..., 1.0e+02, 1.0e+02, 1.0e+02, 1.0e+02, 1.0e+02],\n",
       "       [5.4e-21, 3.7e-21, 3.0e-21, 2.6e-21, 2.5e-21, ..., 0.0e+00, 0.0e+00, 0.0e+00, 0.0e+00, 0.0e+00]])"
      ]
     },
     "execution_count": 51,
     "metadata": {},
     "output_type": "execute_result"
    }
   ],
   "source": [
    "inelas_df.loc[0, 'cross_section']"
   ]
  },
  {
   "cell_type": "code",
   "execution_count": 52,
   "metadata": {},
   "outputs": [],
   "source": [
    "eedf = EEDF(max_energy_eV=50, grid_number=500)"
   ]
  },
  {
   "cell_type": "code",
   "execution_count": 53,
   "metadata": {},
   "outputs": [],
   "source": [
    "eedf.initialize(rctn_with_crostn_df=inelas_df, total_species=['E', 'CO'] + [f'CO(v{v})' for v in range(1, 11)])"
   ]
  },
  {
   "cell_type": "code",
   "execution_count": 54,
   "metadata": {},
   "outputs": [
    {
     "data": {
      "text/plain": [
       "array([[ 0.0e+00,  0.0e+00,  0.0e+00,  0.0e+00,  0.0e+00, ...,  0.0e+00,  0.0e+00,  0.0e+00,  0.0e+00,  0.0e+00],\n",
       "       [ 0.0e+00,  0.0e+00,  0.0e+00,  0.0e+00,  0.0e+00, ...,  0.0e+00,  0.0e+00,  0.0e+00,  0.0e+00,  0.0e+00],\n",
       "       [ 0.0e+00,  0.0e+00, -9.9e-16,  0.0e+00,  0.0e+00, ...,  0.0e+00,  0.0e+00,  0.0e+00,  0.0e+00,  0.0e+00],\n",
       "       [ 0.0e+00,  0.0e+00,  0.0e+00, -9.7e-16,  0.0e+00, ...,  0.0e+00,  0.0e+00,  0.0e+00,  0.0e+00,  0.0e+00],\n",
       "       [ 0.0e+00,  0.0e+00,  3.4e-16,  0.0e+00, -1.0e-15, ...,  0.0e+00,  0.0e+00,  0.0e+00,  0.0e+00,  0.0e+00],\n",
       "       ...,\n",
       "       [ 0.0e+00,  0.0e+00,  0.0e+00,  0.0e+00,  0.0e+00, ...,  0.0e+00,  0.0e+00,  0.0e+00,  0.0e+00,  0.0e+00],\n",
       "       [ 0.0e+00,  0.0e+00,  0.0e+00,  0.0e+00,  0.0e+00, ...,  0.0e+00,  0.0e+00,  0.0e+00,  0.0e+00,  0.0e+00],\n",
       "       [ 0.0e+00,  0.0e+00,  0.0e+00,  0.0e+00,  0.0e+00, ...,  0.0e+00,  0.0e+00,  0.0e+00,  0.0e+00,  0.0e+00],\n",
       "       [ 0.0e+00,  0.0e+00,  0.0e+00,  0.0e+00,  0.0e+00, ...,  0.0e+00,  0.0e+00,  0.0e+00,  0.0e+00,  0.0e+00],\n",
       "       [ 0.0e+00,  0.0e+00,  0.0e+00,  0.0e+00,  0.0e+00, ...,  0.0e+00,  0.0e+00,  0.0e+00,  0.0e+00,  0.0e+00]])"
      ]
     },
     "execution_count": 54,
     "metadata": {},
     "output_type": "execute_result"
    }
   ],
   "source": [
    "eedf.rate_const_matrix_e_inelas_electron.toarray()"
   ]
  },
  {
   "cell_type": "code",
   "execution_count": 55,
   "metadata": {},
   "outputs": [
    {
     "data": {
      "text/plain": [
       "(5000, 500)"
      ]
     },
     "execution_count": 55,
     "metadata": {},
     "output_type": "execute_result"
    }
   ],
   "source": [
    "eedf.rate_const_matrix_e_inelas_electron.shape"
   ]
  },
  {
   "cell_type": "code",
   "execution_count": 56,
   "metadata": {},
   "outputs": [
    {
     "data": {
      "text/plain": [
       "(55, 500)"
      ]
     },
     "execution_count": 56,
     "metadata": {},
     "output_type": "execute_result"
    }
   ],
   "source": [
    "eedf.rate_const_matrix_e_inelas_molecule.shape"
   ]
  },
  {
   "cell_type": "code",
   "execution_count": 57,
   "metadata": {},
   "outputs": [
    {
     "data": {
      "text/plain": [
       "<matplotlib.image.AxesImage at 0x2798731c9b0>"
      ]
     },
     "execution_count": 57,
     "metadata": {},
     "output_type": "execute_result"
    },
    {
     "data": {
      "image/png": "[encoded data removed]",
      "text/plain": [
       "<Figure size 1152x144 with 1 Axes>"
      ]
     },
     "metadata": {
      "needs_background": "light"
     },
     "output_type": "display_data"
    }
   ],
   "source": [
    "plt.matshow(eedf.rate_const_matrix_e_inelas_molecule)"
   ]
  },
  {
   "cell_type": "code",
   "execution_count": 58,
   "metadata": {},
   "outputs": [
    {
     "data": {
      "text/plain": [
       "1"
      ]
     },
     "execution_count": 58,
     "metadata": {},
     "output_type": "execute_result"
    }
   ],
   "source": [
    "eedf.n_bg_molecule_elas"
   ]
  },
  {
   "cell_type": "code",
   "execution_count": 59,
   "metadata": {},
   "outputs": [
    {
     "data": {
      "text/plain": [
       "['CO']"
      ]
     },
     "execution_count": 59,
     "metadata": {},
     "output_type": "execute_result"
    }
   ],
   "source": [
    "eedf.bg_molecule_elas"
   ]
  },
  {
   "cell_type": "code",
   "execution_count": 60,
   "metadata": {},
   "outputs": [
    {
     "data": {
      "text/plain": [
       "10"
      ]
     },
     "execution_count": 60,
     "metadata": {},
     "output_type": "execute_result"
    }
   ],
   "source": [
    "eedf.n_bg_molecule_inelas"
   ]
  },
  {
   "cell_type": "code",
   "execution_count": 61,
   "metadata": {},
   "outputs": [
    {
     "data": {
      "text/plain": [
       "array(['CO(v1)', 'CO(v10)', 'CO(v2)', 'CO(v3)', 'CO(v4)', 'CO(v5)', 'CO(v6)', 'CO(v7)', 'CO(v8)', 'CO(v9)'], dtype=object)"
      ]
     },
     "execution_count": 61,
     "metadata": {},
     "output_type": "execute_result"
    }
   ],
   "source": [
    "eedf.bg_molecule_inelas"
   ]
  },
  {
   "cell_type": "code",
   "execution_count": 62,
   "metadata": {},
   "outputs": [
    {
     "data": {
      "text/plain": [
       "55"
      ]
     },
     "execution_count": 62,
     "metadata": {},
     "output_type": "execute_result"
    }
   ],
   "source": [
    "eedf.n_inelas_rctn"
   ]
  },
  {
   "cell_type": "code",
   "execution_count": 63,
   "metadata": {},
   "outputs": [
    {
     "data": {
      "text/plain": [
       "array(['CO(v1)', 'CO(v2)', 'CO(v2)', 'CO(v3)', 'CO(v3)', 'CO(v3)', 'CO(v4)', 'CO(v4)', 'CO(v4)', 'CO(v4)', 'CO(v5)', 'CO(v5)',\n",
       "       'CO(v5)', 'CO(v5)', 'CO(v5)', 'CO(v6)', 'CO(v6)', 'CO(v6)', 'CO(v6)', 'CO(v6)', 'CO(v6)', 'CO(v7)', 'CO(v7)', 'CO(v7)',\n",
       "       'CO(v7)', 'CO(v7)', 'CO(v7)', 'CO(v7)', 'CO(v8)', 'CO(v8)', 'CO(v8)', 'CO(v8)', 'CO(v8)', 'CO(v8)', 'CO(v8)', 'CO(v8)',\n",
       "       'CO(v9)', 'CO(v9)', 'CO(v9)', 'CO(v9)', 'CO(v9)', 'CO(v9)', 'CO(v9)', 'CO(v9)', 'CO(v9)', 'CO(v10)', 'CO(v10)', 'CO(v10)',\n",
       "       'CO(v10)', 'CO(v10)', 'CO(v10)', 'CO(v10)', 'CO(v10)', 'CO(v10)', 'CO(v10)'], dtype=object)"
      ]
     },
     "execution_count": 63,
     "metadata": {},
     "output_type": "execute_result"
    }
   ],
   "source": [
    "eedf.bg_molecule_inelas_in_order"
   ]
  },
  {
   "cell_type": "code",
   "execution_count": 64,
   "metadata": {},
   "outputs": [
    {
     "data": {
      "text/plain": [
       "<matplotlib.lines.Line2D at 0x27982541518>"
      ]
     },
     "execution_count": 64,
     "metadata": {},
     "output_type": "execute_result"
    },
    {
     "data": {
      "image/png": "[encoded data removed]",
      "text/plain": [
       "<Figure size 864x648 with 1 Axes>"
      ]
     },
     "metadata": {
      "needs_background": "light"
     },
     "output_type": "display_data"
    }
   ],
   "source": [
    "plt.spy(eedf.rate_const_matrix_e_inelas_electron, markersize=2)"
   ]
  },
  {
   "cell_type": "code",
   "execution_count": 65,
   "metadata": {},
   "outputs": [
    {
     "data": {
      "text/plain": [
       "array([[5.7e-36, 1.7e-35, 1.5e-35, 1.6e-35, 1.6e-35, ..., 0.0e+00, 0.0e+00, 0.0e+00, 0.0e+00, 0.0e+00],\n",
       "       [5.4e-36, 1.5e-35, 1.3e-35, 1.2e-35, 1.2e-35, ..., 0.0e+00, 0.0e+00, 0.0e+00, 0.0e+00, 0.0e+00],\n",
       "       [5.7e-36, 1.7e-35, 1.5e-35, 1.6e-35, 1.6e-35, ..., 0.0e+00, 0.0e+00, 0.0e+00, 0.0e+00, 0.0e+00],\n",
       "       [4.2e-36, 1.2e-35, 9.7e-36, 8.7e-36, 8.4e-36, ..., 0.0e+00, 0.0e+00, 0.0e+00, 0.0e+00, 0.0e+00],\n",
       "       [5.4e-36, 1.5e-35, 1.3e-35, 1.2e-35, 1.2e-35, ..., 0.0e+00, 0.0e+00, 0.0e+00, 0.0e+00, 0.0e+00],\n",
       "       ...,\n",
       "       [1.9e-36, 5.1e-36, 4.1e-36, 3.6e-36, 3.4e-36, ..., 0.0e+00, 0.0e+00, 0.0e+00, 0.0e+00, 0.0e+00],\n",
       "       [2.8e-36, 7.6e-36, 6.2e-36, 5.5e-36, 5.3e-36, ..., 0.0e+00, 0.0e+00, 0.0e+00, 0.0e+00, 0.0e+00],\n",
       "       [3.9e-36, 1.1e-35, 9.0e-36, 8.2e-36, 7.9e-36, ..., 0.0e+00, 0.0e+00, 0.0e+00, 0.0e+00, 0.0e+00],\n",
       "       [5.0e-36, 1.4e-35, 1.2e-35, 1.2e-35, 1.1e-35, ..., 0.0e+00, 0.0e+00, 0.0e+00, 0.0e+00, 0.0e+00],\n",
       "       [5.3e-36, 1.5e-35, 1.4e-35, 1.5e-35, 1.5e-35, ..., 0.0e+00, 0.0e+00, 0.0e+00, 0.0e+00, 0.0e+00]])"
      ]
     },
     "execution_count": 65,
     "metadata": {},
     "output_type": "execute_result"
    }
   ],
   "source": [
    "eedf.rate_const_matrix_e_inelas_molecule"
   ]
  },
  {
   "cell_type": "code",
   "execution_count": 66,
   "metadata": {},
   "outputs": [
    {
     "data": {
      "text/plain": [
       "7.242973087680333e+24"
      ]
     },
     "execution_count": 66,
     "metadata": {},
     "output_type": "execute_result"
    }
   ],
   "source": [
    "N = get_ideal_gas_density(p_Pa=1e5, Tgas_K=1000)\n",
    "N"
   ]
  },
  {
   "cell_type": "markdown",
   "metadata": {},
   "source": [
    "### Set parameters"
   ]
  },
  {
   "cell_type": "code",
   "execution_count": 67,
   "metadata": {},
   "outputs": [],
   "source": [
    "eedf.set_parameters(E=2e5, Tgas=1000, N=N)"
   ]
  },
  {
   "cell_type": "code",
   "execution_count": 68,
   "metadata": {},
   "outputs": [],
   "source": [
    "total_species_density = np.ones(12) * N\n",
    "# total_species_density = np.array([0,1,0,0,0])*N\n",
    "def dndt_all(t, y):\n",
    "    eedf.set_density_per_J(y)\n",
    "    eedf.set_flux(total_species_density=total_species_density)\n",
    "    return eedf.get_deriv_total(total_species_density=total_species_density) "
   ]
  },
  {
   "cell_type": "code",
   "execution_count": 69,
   "metadata": {},
   "outputs": [],
   "source": [
    "y0 = get_maxwell_eedf(eedf.energy_point, Te_eV=0.7)*1e20\n",
    "time_span = [0, 1e3]\n",
    "sol = solve_ivp(dndt_all, time_span, y0, method=\"BDF\", rtol=5e-2)"
   ]
  },
  {
   "cell_type": "code",
   "execution_count": 70,
   "metadata": {},
   "outputs": [
    {
     "data": {
      "text/plain": [
       "array([0.0e+00, 8.1e-15, 1.6e-14, 9.7e-14, 1.8e-13, 4.2e-13, 6.7e-13, 9.1e-13, 1.2e-12, 1.5e-12, 1.8e-12, 2.1e-12, 2.6e-12,\n",
       "       3.1e-12, 3.6e-12, 4.6e-12, 5.6e-12, 6.6e-12, 8.4e-12, 1.0e-11, 1.2e-11, 1.5e-11, 1.8e-11, 2.1e-11, 2.4e-11, 2.8e-11,\n",
       "       3.3e-11, 3.7e-11, 4.1e-11, 4.7e-11, 5.2e-11, 5.8e-11, 6.3e-11, 7.0e-11, 7.6e-11, 8.3e-11, 8.9e-11, 9.6e-11, 1.0e-10,\n",
       "       1.1e-10, 1.2e-10, 1.3e-10, 1.3e-10, 1.4e-10, 1.5e-10, 1.6e-10, 1.7e-10, 1.8e-10, 1.8e-10, 1.9e-10, 2.0e-10, 2.1e-10,\n",
       "       2.2e-10, 2.2e-10, 2.3e-10, 2.4e-10, 2.5e-10, 2.5e-10, 2.6e-10, 2.6e-10, 2.8e-10, 2.8e-10, 2.9e-10, 3.0e-10, 3.1e-10,\n",
       "       3.1e-10, 3.2e-10, 3.3e-10, 3.3e-10, 3.4e-10, 3.5e-10, 3.6e-10, 3.7e-10, 3.8e-10, 3.9e-10, 3.9e-10, 4.0e-10, 4.1e-10,\n",
       "       4.2e-10, 4.3e-10, 4.4e-10, 4.4e-10, 4.5e-10, 4.6e-10, 4.7e-10, 4.7e-10, 4.8e-10, 4.9e-10, 4.9e-10, 5.0e-10, 5.1e-10,\n",
       "       5.2e-10, 5.3e-10, 5.4e-10, 5.5e-10, 5.6e-10, 5.7e-10, 5.8e-10, 5.9e-10, 6.0e-10, 6.1e-10, 6.2e-10, 6.2e-10, 6.3e-10,\n",
       "       6.4e-10, 6.5e-10, 6.6e-10, 6.8e-10, 6.9e-10, 7.0e-10, 7.1e-10, 7.8e-10, 8.5e-10, 9.1e-10, 1.0e-09, 1.1e-09, 1.4e-09,\n",
       "       1.7e-09, 2.0e-09, 2.5e-09, 3.0e-09, 3.5e-09, 4.3e-09, 5.1e-09, 5.9e-09, 7.2e-09, 8.5e-09, 9.7e-09, 1.3e-08, 1.5e-08,\n",
       "       2.7e-08, 3.8e-08, 1.5e-07, 2.6e-07, 1.4e-06, 2.5e-06, 1.3e-05, 2.4e-05, 1.3e-04, 2.4e-04, 1.3e-03, 2.4e-03, 1.3e-02,\n",
       "       1.9e-02, 2.4e-02, 8.0e-02, 1.1e-01, 1.3e-01, 4.1e-01, 5.5e-01, 6.9e-01, 2.1e+00, 2.2e+00, 2.4e+00, 4.1e+00, 5.8e+00,\n",
       "       2.3e+01, 4.0e+01, 2.1e+02, 3.8e+02, 1.0e+03])"
      ]
     },
     "execution_count": 70,
     "metadata": {},
     "output_type": "execute_result"
    }
   ],
   "source": [
    "sol.t"
   ]
  },
  {
   "cell_type": "code",
   "execution_count": 71,
   "metadata": {},
   "outputs": [
    {
     "data": {
      "text/plain": [
       "161"
      ]
     },
     "execution_count": 71,
     "metadata": {},
     "output_type": "execute_result"
    }
   ],
   "source": [
    "len(sol.t)"
   ]
  },
  {
   "cell_type": "code",
   "execution_count": 72,
   "metadata": {},
   "outputs": [
    {
     "data": {
      "text/plain": [
       "[<matplotlib.lines.Line2D at 0x2798257f400>,\n",
       " <matplotlib.lines.Line2D at 0x2798259be10>,\n",
       " <matplotlib.lines.Line2D at 0x2798259bf60>,\n",
       " <matplotlib.lines.Line2D at 0x279825a70f0>]"
      ]
     },
     "execution_count": 72,
     "metadata": {},
     "output_type": "execute_result"
    },
    {
     "data": {
      "image/png": "[encoded data removed]",
      "text/plain": [
       "<Figure size 864x648 with 1 Axes>"
      ]
     },
     "metadata": {
      "needs_background": "light"
     },
     "output_type": "display_data"
    }
   ],
   "source": [
    "plt.semilogy(eedf.energy_point_eV, (sol.y.transpose()/np.sqrt(eedf.energy_point)).transpose()[:,::50])"
   ]
  },
  {
   "cell_type": "code",
   "execution_count": 73,
   "metadata": {},
   "outputs": [
    {
     "data": {
      "image/png": "[encoded data removed]",
      "text/plain": [
       "<Figure size 864x648 with 1 Axes>"
      ]
     },
     "metadata": {
      "needs_background": "light"
     },
     "output_type": "display_data"
    }
   ],
   "source": [
    "eedf.set_density_per_J(sol.y[:,0])\n",
    "eedf.plot_normalized_eepf()"
   ]
  },
  {
   "cell_type": "code",
   "execution_count": 74,
   "metadata": {},
   "outputs": [
    {
     "data": {
      "image/png": "[encoded data removed]",
      "text/plain": [
       "<Figure size 864x648 with 1 Axes>"
      ]
     },
     "metadata": {
      "needs_background": "light"
     },
     "output_type": "display_data"
    }
   ],
   "source": [
    "eedf.plot_normalized_eedf()"
   ]
  },
  {
   "cell_type": "code",
   "execution_count": 75,
   "metadata": {},
   "outputs": [
    {
     "data": {
      "image/png": "[encoded data removed]",
      "text/plain": [
       "<Figure size 864x648 with 1 Axes>"
      ]
     },
     "metadata": {
      "needs_background": "light"
     },
     "output_type": "display_data"
    }
   ],
   "source": [
    "eedf.set_density_per_J(sol.y[:,-1])\n",
    "eedf.plot_normalized_eepf(xlim=(0,12), ylim=(1e-12, 1e1))"
   ]
  },
  {
   "cell_type": "code",
   "execution_count": 76,
   "metadata": {},
   "outputs": [
    {
     "name": "stdout",
     "output_type": "stream",
     "text": [
      "\n",
      "        \n",
      " ===============\n",
      "        \n",
      "               ENERGY SPACE (eV) : (0.0, 50.0)\n",
      "        \n",
      "     NUMBER OF DISCRETIZED CELLS : 500 cells\n",
      "        \n",
      "            ENERGY INTERVAL (eV) : 0.100 \n",
      "        \n",
      " ===============\n",
      "        \n",
      "            ELECTRON TEMPERATURE : 19.3604 eV\n",
      "        \n",
      "            ELECTRON MEAN ENERGY : 29.0407 eV\n",
      "        \n",
      "                ELECTRON DENSITY : 1.00e+20 m^-3\n",
      "        \n",
      " ===============\n",
      "        \n",
      "              ELECTRIC FIELD (E) : 200000 V/m (2.00 kV/cm) \n",
      "        \n",
      "          GAS TEMPERATURE (Tgas) : 1000 K\n",
      "        \n",
      " BACKGROUND MOLECULE DENSITY (N) : 7.2e+24 m^-3\n",
      "        \n",
      "    REDUCED ELECTRIC FIELD (E/N) : 27.6 Td\n",
      "        \n",
      " ===============\n",
      "        \n",
      "     ELASTIC COLLISION MOLECULES : ['CO']\n",
      "        \n",
      "   INELASTIC COLLISION MOLECULES : ['CO(v1)' 'CO(v10)' 'CO(v2)' 'CO(v3)' 'CO(v4)' 'CO(v5)' 'CO(v6)' 'CO(v7)' 'CO(v8)' 'CO(v9)']\n",
      "        \n"
     ]
    }
   ],
   "source": [
    "print(eedf)"
   ]
  },
  {
   "cell_type": "code",
   "execution_count": 77,
   "metadata": {},
   "outputs": [
    {
     "data": {
      "text/plain": [
       "array([4.1e-18, 2.4e-18, 4.1e-18, 1.4e-18, 2.4e-18, 4.1e-18, 8.0e-19, 1.4e-18, 2.4e-18, 4.1e-18, 4.6e-19, 8.0e-19, 1.4e-18,\n",
       "       2.4e-18, 4.1e-18, 2.7e-19, 4.6e-19, 8.0e-19, 1.4e-18, 2.4e-18, 4.1e-18, 1.5e-19, 2.6e-19, 4.6e-19, 8.0e-19, 1.4e-18,\n",
       "       2.4e-18, 4.1e-18, 8.7e-20, 1.5e-19, 2.6e-19, 4.6e-19, 8.0e-19, 1.4e-18, 2.4e-18, 4.1e-18, 5.0e-20, 8.6e-20, 1.5e-19,\n",
       "       2.6e-19, 4.6e-19, 7.9e-19, 1.4e-18, 2.4e-18, 4.1e-18, 2.8e-20, 4.9e-20, 8.6e-20, 1.5e-19, 2.6e-19, 4.6e-19, 7.9e-19,\n",
       "       1.4e-18, 2.4e-18, 4.1e-18])"
      ]
     },
     "execution_count": 77,
     "metadata": {},
     "output_type": "execute_result"
    }
   ],
   "source": [
    "eedf._get_molecule_rate_const_e_inelas()"
   ]
  },
  {
   "cell_type": "code",
   "execution_count": 78,
   "metadata": {},
   "outputs": [
    {
     "data": {
      "text/plain": [
       "[Text(0, 0, 'E + CO(v1) => E + CO'),\n",
       " Text(0, 0, 'E + CO(v2) => E + CO'),\n",
       " Text(0, 0, 'E + CO(v2) => E + CO(v1)'),\n",
       " Text(0, 0, 'E + CO(v3) => E + CO'),\n",
       " Text(0, 0, 'E + CO(v3) => E + CO(v1)'),\n",
       " Text(0, 0, 'E + CO(v3) => E + CO(v2)'),\n",
       " Text(0, 0, 'E + CO(v4) => E + CO'),\n",
       " Text(0, 0, 'E + CO(v4) => E + CO(v1)'),\n",
       " Text(0, 0, 'E + CO(v4) => E + CO(v2)'),\n",
       " Text(0, 0, 'E + CO(v4) => E + CO(v3)'),\n",
       " Text(0, 0, 'E + CO(v5) => E + CO'),\n",
       " Text(0, 0, 'E + CO(v5) => E + CO(v1)'),\n",
       " Text(0, 0, 'E + CO(v5) => E + CO(v2)'),\n",
       " Text(0, 0, 'E + CO(v5) => E + CO(v3)'),\n",
       " Text(0, 0, 'E + CO(v5) => E + CO(v4)'),\n",
       " Text(0, 0, 'E + CO(v6) => E + CO'),\n",
       " Text(0, 0, 'E + CO(v6) => E + CO(v1)'),\n",
       " Text(0, 0, 'E + CO(v6) => E + CO(v2)'),\n",
       " Text(0, 0, 'E + CO(v6) => E + CO(v3)'),\n",
       " Text(0, 0, 'E + CO(v6) => E + CO(v4)'),\n",
       " Text(0, 0, 'E + CO(v6) => E + CO(v5)'),\n",
       " Text(0, 0, 'E + CO(v7) => E + CO'),\n",
       " Text(0, 0, 'E + CO(v7) => E + CO(v1)'),\n",
       " Text(0, 0, 'E + CO(v7) => E + CO(v2)'),\n",
       " Text(0, 0, 'E + CO(v7) => E + CO(v3)'),\n",
       " Text(0, 0, 'E + CO(v7) => E + CO(v4)'),\n",
       " Text(0, 0, 'E + CO(v7) => E + CO(v5)'),\n",
       " Text(0, 0, 'E + CO(v7) => E + CO(v6)'),\n",
       " Text(0, 0, 'E + CO(v8) => E + CO'),\n",
       " Text(0, 0, 'E + CO(v8) => E + CO(v1)'),\n",
       " Text(0, 0, 'E + CO(v8) => E + CO(v2)'),\n",
       " Text(0, 0, 'E + CO(v8) => E + CO(v3)'),\n",
       " Text(0, 0, 'E + CO(v8) => E + CO(v4)'),\n",
       " Text(0, 0, 'E + CO(v8) => E + CO(v5)'),\n",
       " Text(0, 0, 'E + CO(v8) => E + CO(v6)'),\n",
       " Text(0, 0, 'E + CO(v8) => E + CO(v7)'),\n",
       " Text(0, 0, 'E + CO(v9) => E + CO'),\n",
       " Text(0, 0, 'E + CO(v9) => E + CO(v1)'),\n",
       " Text(0, 0, 'E + CO(v9) => E + CO(v2)'),\n",
       " Text(0, 0, 'E + CO(v9) => E + CO(v3)'),\n",
       " Text(0, 0, 'E + CO(v9) => E + CO(v4)'),\n",
       " Text(0, 0, 'E + CO(v9) => E + CO(v5)'),\n",
       " Text(0, 0, 'E + CO(v9) => E + CO(v6)'),\n",
       " Text(0, 0, 'E + CO(v9) => E + CO(v7)'),\n",
       " Text(0, 0, 'E + CO(v9) => E + CO(v8)'),\n",
       " Text(0, 0, 'E + CO(v10) => E + CO'),\n",
       " Text(0, 0, 'E + CO(v10) => E + CO(v1)'),\n",
       " Text(0, 0, 'E + CO(v10) => E + CO(v2)'),\n",
       " Text(0, 0, 'E + CO(v10) => E + CO(v3)'),\n",
       " Text(0, 0, 'E + CO(v10) => E + CO(v4)'),\n",
       " Text(0, 0, 'E + CO(v10) => E + CO(v5)'),\n",
       " Text(0, 0, 'E + CO(v10) => E + CO(v6)'),\n",
       " Text(0, 0, 'E + CO(v10) => E + CO(v7)'),\n",
       " Text(0, 0, 'E + CO(v10) => E + CO(v8)'),\n",
       " Text(0, 0, 'E + CO(v10) => E + CO(v9)')]"
      ]
     },
     "execution_count": 78,
     "metadata": {},
     "output_type": "execute_result"
    },
    {
     "data": {
      "image/png": "[encoded data removed]",
      "text/plain": [
       "<Figure size 864x648 with 1 Axes>"
      ]
     },
     "metadata": {
      "needs_background": "light"
     },
     "output_type": "display_data"
    }
   ],
   "source": [
    "fig = plt.figure()\n",
    "ax = fig.add_subplot(111)\n",
    "ax.barh(range(eedf.n_inelas_rctn),\n",
    "        width=eedf._get_molecule_rate_const_e_inelas(),\n",
    "        height=0.6, log=True)\n",
    "ax.set_yticks(range(eedf.n_inelas_rctn))\n",
    "ax.set_yticklabels(eedf.inelas_reaction_dataframe['formula'])"
   ]
  },
  {
   "cell_type": "code",
   "execution_count": 79,
   "metadata": {},
   "outputs": [
    {
     "data": {
      "image/png": "[encoded data removed]",
      "text/plain": [
       "<Figure size 864x648 with 1 Axes>"
      ]
     },
     "metadata": {
      "needs_background": "light"
     },
     "output_type": "display_data"
    }
   ],
   "source": [
    "eedf.plot_normalized_eedf()"
   ]
  },
  {
   "cell_type": "code",
   "execution_count": 80,
   "metadata": {},
   "outputs": [
    {
     "data": {
      "text/plain": [
       "Text(0.5, 1.0, 'Te vs. t')"
      ]
     },
     "execution_count": 80,
     "metadata": {},
     "output_type": "execute_result"
    },
    {
     "data": {
      "image/png": "[encoded data removed]",
      "text/plain": [
       "<Figure size 864x648 with 1 Axes>"
      ]
     },
     "metadata": {
      "needs_background": "light"
     },
     "output_type": "display_data"
    }
   ],
   "source": [
    "Te_seq = []\n",
    "ne_seq = []\n",
    "for _array in sol.y.transpose():\n",
    "    eedf.set_density_per_J(_array)\n",
    "    Te_seq.append(eedf.electron_temperature_in_eV)\n",
    "    ne_seq.append(eedf.electron_density)\n",
    "plt.semilogx(sol.t, Te_seq, marker='.')\n",
    "plt.title(\"Te vs. t\")"
   ]
  },
  {
   "cell_type": "code",
   "execution_count": 81,
   "metadata": {},
   "outputs": [
    {
     "data": {
      "text/plain": [
       "Text(0.5, 1.0, 'ne vs. t')"
      ]
     },
     "execution_count": 81,
     "metadata": {},
     "output_type": "execute_result"
    },
    {
     "data": {
      "image/png": "[encoded data removed]",
      "text/plain": [
       "<Figure size 864x648 with 1 Axes>"
      ]
     },
     "metadata": {
      "needs_background": "light"
     },
     "output_type": "display_data"
    }
   ],
   "source": [
    "plt.semilogx(sol.t, ne_seq, marker='.')\n",
    "plt.title(\"ne vs. t\")"
   ]
  },
  {
   "cell_type": "code",
   "execution_count": 82,
   "metadata": {},
   "outputs": [
    {
     "data": {
      "text/plain": [
       "array([[2.5e+38, 2.5e+38, 2.5e+38, 2.5e+38, 2.5e+38, ..., 3.9e+13, 3.9e+13, 3.9e+13, 3.9e+13, 3.9e+13],\n",
       "       [3.8e+38, 3.8e+38, 3.8e+38, 3.7e+38, 3.7e+38, ..., 6.4e+13, 6.4e+13, 6.4e+13, 6.4e+13, 6.4e+13],\n",
       "       [4.2e+38, 4.2e+38, 4.2e+38, 4.2e+38, 4.1e+38, ..., 8.3e+13, 8.3e+13, 8.3e+13, 8.3e+13, 8.3e+13],\n",
       "       [4.3e+38, 4.3e+38, 4.3e+38, 4.3e+38, 4.3e+38, ..., 1.1e+14, 1.1e+14, 1.1e+14, 1.1e+14, 1.1e+14],\n",
       "       [4.2e+38, 4.2e+38, 4.2e+38, 4.2e+38, 4.2e+38, ..., 1.4e+14, 1.4e+14, 1.4e+14, 1.4e+14, 1.4e+14],\n",
       "       ...,\n",
       "       [1.5e+09, 1.5e+09, 1.5e+09, 1.6e+09, 1.7e+09, ..., 1.6e+37, 1.6e+37, 1.6e+37, 1.6e+37, 1.6e+37],\n",
       "       [1.3e+09, 1.3e+09, 1.3e+09, 1.4e+09, 1.5e+09, ..., 1.6e+37, 1.6e+37, 1.6e+37, 1.6e+37, 1.6e+37],\n",
       "       [1.2e+09, 1.2e+09, 1.2e+09, 1.2e+09, 1.3e+09, ..., 1.6e+37, 1.6e+37, 1.6e+37, 1.6e+37, 1.6e+37],\n",
       "       [1.0e+09, 1.0e+09, 1.0e+09, 1.1e+09, 1.2e+09, ..., 1.6e+37, 1.6e+37, 1.6e+37, 1.6e+37, 1.6e+37],\n",
       "       [8.7e+08, 8.9e+08, 9.1e+08, 1.0e+09, 1.1e+09, ..., 1.6e+37, 1.6e+37, 1.6e+37, 1.6e+37, 1.6e+37]])"
      ]
     },
     "execution_count": 82,
     "metadata": {},
     "output_type": "execute_result"
    }
   ],
   "source": [
    "sol.y"
   ]
  },
  {
   "cell_type": "code",
   "execution_count": 83,
   "metadata": {},
   "outputs": [],
   "source": [
    "eedf.set_density_per_J(sol.y[:,-1])\n",
    "eedf.set_flux(total_species_density=total_species_density)"
   ]
  },
  {
   "cell_type": "code",
   "execution_count": 84,
   "metadata": {},
   "outputs": [
    {
     "data": {
      "text/plain": [
       "<matplotlib.legend.Legend at 0x27983924390>"
      ]
     },
     "execution_count": 84,
     "metadata": {},
     "output_type": "execute_result"
    },
    {
     "data": {
      "image/png": "[encoded data removed]",
      "text/plain": [
       "<Figure size 864x648 with 1 Axes>"
      ]
     },
     "metadata": {
      "needs_background": "light"
     },
     "output_type": "display_data"
    }
   ],
   "source": [
    "fig = plt.figure()\n",
    "ax = fig.add_subplot(111)\n",
    "ax.plot(eedf.energy_point_eV, eedf._get_deriv_ef(), \n",
    "        linewidth=0.4, marker='.', label='ef')\n",
    "ax.plot(eedf.energy_point_eV, eedf._get_deriv_el(), \n",
    "        linewidth=0.4, marker='.', label='el')\n",
    "ax.plot(eedf.energy_point_eV, eedf._get_deriv_ee(), \n",
    "        linewidth=0.4, marker='.', label='ee')\n",
    "ax.plot(eedf.energy_point_eV, eedf._get_electron_rate_e_inelas(density=total_species_density), \n",
    "        linewidth=0.4, marker='.', label='e_inelas')\n",
    "ax.plot(eedf.energy_point_eV, eedf.get_deriv_total(total_species_density=total_species_density), \n",
    "        linewidth=1.5, marker='.', label='sum')\n",
    "# ax.plot(eedf.energy_nodes,eedf.J_flux_el, marker='.', label='el')\n",
    "# ax.plot(eedf.energy_nodes,eedf.J_flux_ee, marker='.', label='ee')\n",
    "# ax.plot(eedf.energy_nodes,eedf.J_flux_ef+eedf.J_flux_el+eedf.J_flux_ee, marker='.', label='ef+el+ee')\n",
    "# ax.set_yscale('symlog')\n",
    "# ax.set_xscale('log')\n",
    "ax.set_xlim((0,4))\n",
    "ax.legend()"
   ]
  },
  {
   "cell_type": "code",
   "execution_count": 85,
   "metadata": {},
   "outputs": [
    {
     "data": {
      "text/plain": [
       "<matplotlib.legend.Legend at 0x27982a4e668>"
      ]
     },
     "execution_count": 85,
     "metadata": {},
     "output_type": "execute_result"
    },
    {
     "data": {
      "image/png": "[encoded data removed]",
      "text/plain": [
       "<Figure size 864x648 with 1 Axes>"
      ]
     },
     "metadata": {
      "needs_background": "light"
     },
     "output_type": "display_data"
    }
   ],
   "source": [
    "fig = plt.figure()\n",
    "ax = fig.add_subplot(111)\n",
    "ax.plot(eedf.energy_point_eV, eedf._get_deriv_ef()*eedf.energy_point, \n",
    "        linewidth=0.4, marker='.', label='ef')\n",
    "ax.plot(eedf.energy_point_eV, eedf._get_deriv_el()*eedf.energy_point, \n",
    "        linewidth=0.4, marker='.', label='el')\n",
    "ax.plot(eedf.energy_point_eV, eedf._get_deriv_ee()*eedf.energy_point, \n",
    "        linewidth=0.4, marker='.', label='ee')\n",
    "ax.plot(eedf.energy_point_eV, eedf._get_electron_rate_e_inelas(density=total_species_density)*eedf.energy_point, \n",
    "        linewidth=0.4, marker='.', label='e_inelas')\n",
    "ax.plot(eedf.energy_point_eV, eedf.get_deriv_total(total_species_density=total_species_density)*eedf.energy_point, \n",
    "        linewidth=1.5, marker='.', label='sum')\n",
    "# ax.plot(eedf.energy_nodes,eedf.J_flux_el, marker='.', label='el')\n",
    "# ax.plot(eedf.energy_nodes,eedf.J_flux_ee, marker='.', label='ee')\n",
    "# ax.plot(eedf.energy_nodes,eedf.J_flux_ef+eedf.J_flux_el+eedf.J_flux_ee, marker='.', label='ef+el+ee')\n",
    "# ax.set_yscale('symlog')\n",
    "# ax.set_xscale('log')\n",
    "ax.set_xlim((0,4))\n",
    "ax.legend()"
   ]
  },
  {
   "cell_type": "code",
   "execution_count": 86,
   "metadata": {},
   "outputs": [],
   "source": [
    "energy_gain_ef = (eedf._get_deriv_ef()*eedf.energy_point).sum()\n",
    "energy_lose_el = (eedf._get_deriv_el()*eedf.energy_point).sum()\n",
    "energy_gain_ee = (eedf._get_deriv_ee()*eedf.energy_point).sum()\n",
    "energy_gain_e_inelas = (eedf._get_electron_rate_e_inelas(density=total_species_density)*eedf.energy_point).sum()\n",
    "energy_gain_net = (eedf.get_deriv_total(total_species_density=total_species_density)*eedf.energy_point).sum()"
   ]
  },
  {
   "cell_type": "code",
   "execution_count": 87,
   "metadata": {},
   "outputs": [
    {
     "data": {
      "text/plain": [
       "Text(0.5, 1.0, 'energy lose')"
      ]
     },
     "execution_count": 87,
     "metadata": {},
     "output_type": "execute_result"
    },
    {
     "data": {
      "image/png": "[encoded data removed]",
      "text/plain": [
       "<Figure size 864x648 with 1 Axes>"
      ]
     },
     "metadata": {
      "needs_background": "light"
     },
     "output_type": "display_data"
    }
   ],
   "source": [
    "fig = plt.figure()\n",
    "ax = fig.add_subplot(111)\n",
    "ax.barh(range(5),\n",
    "        width=[energy_gain_ef, energy_lose_el, energy_gain_ee, energy_gain_e_inelas, energy_gain_net],\n",
    "       height=0.6)\n",
    "ax.set_yticks(range(5))\n",
    "ax.set_yticklabels(['ef', 'el', 'ee', 'inelas', 'net'])\n",
    "ax.set_title(\"energy lose\")"
   ]
  },
  {
   "cell_type": "code",
   "execution_count": 88,
   "metadata": {},
   "outputs": [
    {
     "data": {
      "text/html": [
       "<div>\n",
       "<style scoped>\n",
       "    .dataframe tbody tr th:only-of-type {\n",
       "        vertical-align: middle;\n",
       "    }\n",
       "\n",
       "    .dataframe tbody tr th {\n",
       "        vertical-align: top;\n",
       "    }\n",
       "\n",
       "    .dataframe thead th {\n",
       "        text-align: right;\n",
       "    }\n",
       "</style>\n",
       "<table border=\"1\" class=\"dataframe\">\n",
       "  <thead>\n",
       "    <tr style=\"text-align: right;\">\n",
       "      <th></th>\n",
       "      <th>formula</th>\n",
       "      <th>type</th>\n",
       "      <th>threshold_eV</th>\n",
       "      <th>rate const</th>\n",
       "      <th>energy lose</th>\n",
       "    </tr>\n",
       "  </thead>\n",
       "  <tbody>\n",
       "    <tr>\n",
       "      <th>0</th>\n",
       "      <td>E + CO(v1) =&gt; E + CO</td>\n",
       "      <td>deexcitation</td>\n",
       "      <td>-2.7e-01</td>\n",
       "      <td>4.1e-18</td>\n",
       "      <td>-1.1e-18</td>\n",
       "    </tr>\n",
       "    <tr>\n",
       "      <th>1</th>\n",
       "      <td>E + CO(v2) =&gt; E + CO</td>\n",
       "      <td>deexcitation</td>\n",
       "      <td>-5.3e-01</td>\n",
       "      <td>2.4e-18</td>\n",
       "      <td>-1.3e-18</td>\n",
       "    </tr>\n",
       "    <tr>\n",
       "      <th>2</th>\n",
       "      <td>E + CO(v2) =&gt; E + CO(v1)</td>\n",
       "      <td>deexcitation</td>\n",
       "      <td>-2.6e-01</td>\n",
       "      <td>4.1e-18</td>\n",
       "      <td>-1.1e-18</td>\n",
       "    </tr>\n",
       "    <tr>\n",
       "      <th>3</th>\n",
       "      <td>E + CO(v3) =&gt; E + CO</td>\n",
       "      <td>deexcitation</td>\n",
       "      <td>-7.9e-01</td>\n",
       "      <td>1.4e-18</td>\n",
       "      <td>-1.1e-18</td>\n",
       "    </tr>\n",
       "    <tr>\n",
       "      <th>4</th>\n",
       "      <td>E + CO(v3) =&gt; E + CO(v1)</td>\n",
       "      <td>deexcitation</td>\n",
       "      <td>-5.2e-01</td>\n",
       "      <td>2.4e-18</td>\n",
       "      <td>-1.3e-18</td>\n",
       "    </tr>\n",
       "    <tr>\n",
       "      <th>5</th>\n",
       "      <td>E + CO(v3) =&gt; E + CO(v2)</td>\n",
       "      <td>deexcitation</td>\n",
       "      <td>-2.6e-01</td>\n",
       "      <td>4.1e-18</td>\n",
       "      <td>-1.1e-18</td>\n",
       "    </tr>\n",
       "    <tr>\n",
       "      <th>6</th>\n",
       "      <td>E + CO(v4) =&gt; E + CO</td>\n",
       "      <td>deexcitation</td>\n",
       "      <td>-1.0e+00</td>\n",
       "      <td>8.0e-19</td>\n",
       "      <td>-8.4e-19</td>\n",
       "    </tr>\n",
       "    <tr>\n",
       "      <th>7</th>\n",
       "      <td>E + CO(v4) =&gt; E + CO(v1)</td>\n",
       "      <td>deexcitation</td>\n",
       "      <td>-7.8e-01</td>\n",
       "      <td>1.4e-18</td>\n",
       "      <td>-1.1e-18</td>\n",
       "    </tr>\n",
       "    <tr>\n",
       "      <th>8</th>\n",
       "      <td>E + CO(v4) =&gt; E + CO(v2)</td>\n",
       "      <td>deexcitation</td>\n",
       "      <td>-5.1e-01</td>\n",
       "      <td>2.4e-18</td>\n",
       "      <td>-1.2e-18</td>\n",
       "    </tr>\n",
       "    <tr>\n",
       "      <th>9</th>\n",
       "      <td>E + CO(v4) =&gt; E + CO(v3)</td>\n",
       "      <td>deexcitation</td>\n",
       "      <td>-2.6e-01</td>\n",
       "      <td>4.1e-18</td>\n",
       "      <td>-1.1e-18</td>\n",
       "    </tr>\n",
       "    <tr>\n",
       "      <th>10</th>\n",
       "      <td>E + CO(v5) =&gt; E + CO</td>\n",
       "      <td>deexcitation</td>\n",
       "      <td>-1.3e+00</td>\n",
       "      <td>4.6e-19</td>\n",
       "      <td>-6.0e-19</td>\n",
       "    </tr>\n",
       "    <tr>\n",
       "      <th>11</th>\n",
       "      <td>E + CO(v5) =&gt; E + CO(v1)</td>\n",
       "      <td>deexcitation</td>\n",
       "      <td>-1.0e+00</td>\n",
       "      <td>8.0e-19</td>\n",
       "      <td>-8.3e-19</td>\n",
       "    </tr>\n",
       "    <tr>\n",
       "      <th>12</th>\n",
       "      <td>E + CO(v5) =&gt; E + CO(v2)</td>\n",
       "      <td>deexcitation</td>\n",
       "      <td>-7.7e-01</td>\n",
       "      <td>1.4e-18</td>\n",
       "      <td>-1.1e-18</td>\n",
       "    </tr>\n",
       "    <tr>\n",
       "      <th>13</th>\n",
       "      <td>E + CO(v5) =&gt; E + CO(v3)</td>\n",
       "      <td>deexcitation</td>\n",
       "      <td>-5.1e-01</td>\n",
       "      <td>2.4e-18</td>\n",
       "      <td>-1.2e-18</td>\n",
       "    </tr>\n",
       "    <tr>\n",
       "      <th>14</th>\n",
       "      <td>E + CO(v5) =&gt; E + CO(v4)</td>\n",
       "      <td>deexcitation</td>\n",
       "      <td>-2.5e-01</td>\n",
       "      <td>4.1e-18</td>\n",
       "      <td>-1.0e-18</td>\n",
       "    </tr>\n",
       "    <tr>\n",
       "      <th>15</th>\n",
       "      <td>E + CO(v6) =&gt; E + CO</td>\n",
       "      <td>deexcitation</td>\n",
       "      <td>-1.5e+00</td>\n",
       "      <td>2.7e-19</td>\n",
       "      <td>-4.1e-19</td>\n",
       "    </tr>\n",
       "    <tr>\n",
       "      <th>16</th>\n",
       "      <td>E + CO(v6) =&gt; E + CO(v1)</td>\n",
       "      <td>deexcitation</td>\n",
       "      <td>-1.3e+00</td>\n",
       "      <td>4.6e-19</td>\n",
       "      <td>-5.9e-19</td>\n",
       "    </tr>\n",
       "    <tr>\n",
       "      <th>17</th>\n",
       "      <td>E + CO(v6) =&gt; E + CO(v2)</td>\n",
       "      <td>deexcitation</td>\n",
       "      <td>-1.0e+00</td>\n",
       "      <td>8.0e-19</td>\n",
       "      <td>-8.1e-19</td>\n",
       "    </tr>\n",
       "    <tr>\n",
       "      <th>18</th>\n",
       "      <td>E + CO(v6) =&gt; E + CO(v3)</td>\n",
       "      <td>deexcitation</td>\n",
       "      <td>-7.6e-01</td>\n",
       "      <td>1.4e-18</td>\n",
       "      <td>-1.0e-18</td>\n",
       "    </tr>\n",
       "    <tr>\n",
       "      <th>19</th>\n",
       "      <td>E + CO(v6) =&gt; E + CO(v4)</td>\n",
       "      <td>deexcitation</td>\n",
       "      <td>-5.0e-01</td>\n",
       "      <td>2.4e-18</td>\n",
       "      <td>-1.2e-18</td>\n",
       "    </tr>\n",
       "    <tr>\n",
       "      <th>20</th>\n",
       "      <td>E + CO(v6) =&gt; E + CO(v5)</td>\n",
       "      <td>deexcitation</td>\n",
       "      <td>-2.5e-01</td>\n",
       "      <td>4.1e-18</td>\n",
       "      <td>-1.0e-18</td>\n",
       "    </tr>\n",
       "    <tr>\n",
       "      <th>21</th>\n",
       "      <td>E + CO(v7) =&gt; E + CO</td>\n",
       "      <td>deexcitation</td>\n",
       "      <td>-1.8e+00</td>\n",
       "      <td>1.5e-19</td>\n",
       "      <td>-2.7e-19</td>\n",
       "    </tr>\n",
       "    <tr>\n",
       "      <th>22</th>\n",
       "      <td>E + CO(v7) =&gt; E + CO(v1)</td>\n",
       "      <td>deexcitation</td>\n",
       "      <td>-1.5e+00</td>\n",
       "      <td>2.6e-19</td>\n",
       "      <td>-4.0e-19</td>\n",
       "    </tr>\n",
       "    <tr>\n",
       "      <th>23</th>\n",
       "      <td>E + CO(v7) =&gt; E + CO(v2)</td>\n",
       "      <td>deexcitation</td>\n",
       "      <td>-1.3e+00</td>\n",
       "      <td>4.6e-19</td>\n",
       "      <td>-5.8e-19</td>\n",
       "    </tr>\n",
       "    <tr>\n",
       "      <th>24</th>\n",
       "      <td>E + CO(v7) =&gt; E + CO(v3)</td>\n",
       "      <td>deexcitation</td>\n",
       "      <td>-1.0e+00</td>\n",
       "      <td>8.0e-19</td>\n",
       "      <td>-8.0e-19</td>\n",
       "    </tr>\n",
       "    <tr>\n",
       "      <th>25</th>\n",
       "      <td>E + CO(v7) =&gt; E + CO(v4)</td>\n",
       "      <td>deexcitation</td>\n",
       "      <td>-7.5e-01</td>\n",
       "      <td>1.4e-18</td>\n",
       "      <td>-1.0e-18</td>\n",
       "    </tr>\n",
       "    <tr>\n",
       "      <th>26</th>\n",
       "      <td>E + CO(v7) =&gt; E + CO(v5)</td>\n",
       "      <td>deexcitation</td>\n",
       "      <td>-5.0e-01</td>\n",
       "      <td>2.4e-18</td>\n",
       "      <td>-1.2e-18</td>\n",
       "    </tr>\n",
       "    <tr>\n",
       "      <th>27</th>\n",
       "      <td>E + CO(v7) =&gt; E + CO(v6)</td>\n",
       "      <td>deexcitation</td>\n",
       "      <td>-2.5e-01</td>\n",
       "      <td>4.1e-18</td>\n",
       "      <td>-1.0e-18</td>\n",
       "    </tr>\n",
       "    <tr>\n",
       "      <th>28</th>\n",
       "      <td>E + CO(v8) =&gt; E + CO</td>\n",
       "      <td>deexcitation</td>\n",
       "      <td>-2.0e+00</td>\n",
       "      <td>8.7e-20</td>\n",
       "      <td>-1.8e-19</td>\n",
       "    </tr>\n",
       "    <tr>\n",
       "      <th>29</th>\n",
       "      <td>E + CO(v8) =&gt; E + CO(v1)</td>\n",
       "      <td>deexcitation</td>\n",
       "      <td>-1.8e+00</td>\n",
       "      <td>1.5e-19</td>\n",
       "      <td>-2.7e-19</td>\n",
       "    </tr>\n",
       "    <tr>\n",
       "      <th>30</th>\n",
       "      <td>E + CO(v8) =&gt; E + CO(v2)</td>\n",
       "      <td>deexcitation</td>\n",
       "      <td>-1.5e+00</td>\n",
       "      <td>2.6e-19</td>\n",
       "      <td>-4.0e-19</td>\n",
       "    </tr>\n",
       "    <tr>\n",
       "      <th>31</th>\n",
       "      <td>E + CO(v8) =&gt; E + CO(v3)</td>\n",
       "      <td>deexcitation</td>\n",
       "      <td>-1.2e+00</td>\n",
       "      <td>4.6e-19</td>\n",
       "      <td>-5.7e-19</td>\n",
       "    </tr>\n",
       "    <tr>\n",
       "      <th>32</th>\n",
       "      <td>E + CO(v8) =&gt; E + CO(v4)</td>\n",
       "      <td>deexcitation</td>\n",
       "      <td>-9.9e-01</td>\n",
       "      <td>8.0e-19</td>\n",
       "      <td>-7.9e-19</td>\n",
       "    </tr>\n",
       "    <tr>\n",
       "      <th>33</th>\n",
       "      <td>E + CO(v8) =&gt; E + CO(v5)</td>\n",
       "      <td>deexcitation</td>\n",
       "      <td>-7.4e-01</td>\n",
       "      <td>1.4e-18</td>\n",
       "      <td>-1.0e-18</td>\n",
       "    </tr>\n",
       "    <tr>\n",
       "      <th>34</th>\n",
       "      <td>E + CO(v8) =&gt; E + CO(v6)</td>\n",
       "      <td>deexcitation</td>\n",
       "      <td>-4.9e-01</td>\n",
       "      <td>2.4e-18</td>\n",
       "      <td>-1.2e-18</td>\n",
       "    </tr>\n",
       "    <tr>\n",
       "      <th>35</th>\n",
       "      <td>E + CO(v8) =&gt; E + CO(v7)</td>\n",
       "      <td>deexcitation</td>\n",
       "      <td>-2.4e-01</td>\n",
       "      <td>4.1e-18</td>\n",
       "      <td>-1.0e-18</td>\n",
       "    </tr>\n",
       "    <tr>\n",
       "      <th>36</th>\n",
       "      <td>E + CO(v9) =&gt; E + CO</td>\n",
       "      <td>deexcitation</td>\n",
       "      <td>-2.3e+00</td>\n",
       "      <td>5.0e-20</td>\n",
       "      <td>-1.1e-19</td>\n",
       "    </tr>\n",
       "    <tr>\n",
       "      <th>37</th>\n",
       "      <td>E + CO(v9) =&gt; E + CO(v1)</td>\n",
       "      <td>deexcitation</td>\n",
       "      <td>-2.0e+00</td>\n",
       "      <td>8.6e-20</td>\n",
       "      <td>-1.7e-19</td>\n",
       "    </tr>\n",
       "    <tr>\n",
       "      <th>38</th>\n",
       "      <td>E + CO(v9) =&gt; E + CO(v2)</td>\n",
       "      <td>deexcitation</td>\n",
       "      <td>-1.7e+00</td>\n",
       "      <td>1.5e-19</td>\n",
       "      <td>-2.6e-19</td>\n",
       "    </tr>\n",
       "    <tr>\n",
       "      <th>39</th>\n",
       "      <td>E + CO(v9) =&gt; E + CO(v3)</td>\n",
       "      <td>deexcitation</td>\n",
       "      <td>-1.5e+00</td>\n",
       "      <td>2.6e-19</td>\n",
       "      <td>-3.9e-19</td>\n",
       "    </tr>\n",
       "    <tr>\n",
       "      <th>40</th>\n",
       "      <td>E + CO(v9) =&gt; E + CO(v4)</td>\n",
       "      <td>deexcitation</td>\n",
       "      <td>-1.2e+00</td>\n",
       "      <td>4.6e-19</td>\n",
       "      <td>-5.6e-19</td>\n",
       "    </tr>\n",
       "    <tr>\n",
       "      <th>41</th>\n",
       "      <td>E + CO(v9) =&gt; E + CO(v5)</td>\n",
       "      <td>deexcitation</td>\n",
       "      <td>-9.8e-01</td>\n",
       "      <td>7.9e-19</td>\n",
       "      <td>-7.8e-19</td>\n",
       "    </tr>\n",
       "    <tr>\n",
       "      <th>42</th>\n",
       "      <td>E + CO(v9) =&gt; E + CO(v6)</td>\n",
       "      <td>deexcitation</td>\n",
       "      <td>-7.3e-01</td>\n",
       "      <td>1.4e-18</td>\n",
       "      <td>-1.0e-18</td>\n",
       "    </tr>\n",
       "    <tr>\n",
       "      <th>43</th>\n",
       "      <td>E + CO(v9) =&gt; E + CO(v7)</td>\n",
       "      <td>deexcitation</td>\n",
       "      <td>-4.8e-01</td>\n",
       "      <td>2.4e-18</td>\n",
       "      <td>-1.1e-18</td>\n",
       "    </tr>\n",
       "    <tr>\n",
       "      <th>44</th>\n",
       "      <td>E + CO(v9) =&gt; E + CO(v8)</td>\n",
       "      <td>deexcitation</td>\n",
       "      <td>-2.4e-01</td>\n",
       "      <td>4.1e-18</td>\n",
       "      <td>-9.8e-19</td>\n",
       "    </tr>\n",
       "    <tr>\n",
       "      <th>45</th>\n",
       "      <td>E + CO(v10) =&gt; E + CO</td>\n",
       "      <td>deexcitation</td>\n",
       "      <td>-2.5e+00</td>\n",
       "      <td>2.8e-20</td>\n",
       "      <td>-7.1e-20</td>\n",
       "    </tr>\n",
       "    <tr>\n",
       "      <th>46</th>\n",
       "      <td>E + CO(v10) =&gt; E + CO(v1)</td>\n",
       "      <td>deexcitation</td>\n",
       "      <td>-2.2e+00</td>\n",
       "      <td>4.9e-20</td>\n",
       "      <td>-1.1e-19</td>\n",
       "    </tr>\n",
       "    <tr>\n",
       "      <th>47</th>\n",
       "      <td>E + CO(v10) =&gt; E + CO(v2)</td>\n",
       "      <td>deexcitation</td>\n",
       "      <td>-2.0e+00</td>\n",
       "      <td>8.6e-20</td>\n",
       "      <td>-1.7e-19</td>\n",
       "    </tr>\n",
       "    <tr>\n",
       "      <th>48</th>\n",
       "      <td>E + CO(v10) =&gt; E + CO(v3)</td>\n",
       "      <td>deexcitation</td>\n",
       "      <td>-1.7e+00</td>\n",
       "      <td>1.5e-19</td>\n",
       "      <td>-2.6e-19</td>\n",
       "    </tr>\n",
       "    <tr>\n",
       "      <th>49</th>\n",
       "      <td>E + CO(v10) =&gt; E + CO(v4)</td>\n",
       "      <td>deexcitation</td>\n",
       "      <td>-1.5e+00</td>\n",
       "      <td>2.6e-19</td>\n",
       "      <td>-3.8e-19</td>\n",
       "    </tr>\n",
       "    <tr>\n",
       "      <th>50</th>\n",
       "      <td>E + CO(v10) =&gt; E + CO(v5)</td>\n",
       "      <td>deexcitation</td>\n",
       "      <td>-1.2e+00</td>\n",
       "      <td>4.6e-19</td>\n",
       "      <td>-5.5e-19</td>\n",
       "    </tr>\n",
       "    <tr>\n",
       "      <th>51</th>\n",
       "      <td>E + CO(v10) =&gt; E + CO(v6)</td>\n",
       "      <td>deexcitation</td>\n",
       "      <td>-9.6e-01</td>\n",
       "      <td>7.9e-19</td>\n",
       "      <td>-7.6e-19</td>\n",
       "    </tr>\n",
       "    <tr>\n",
       "      <th>52</th>\n",
       "      <td>E + CO(v10) =&gt; E + CO(v7)</td>\n",
       "      <td>deexcitation</td>\n",
       "      <td>-7.2e-01</td>\n",
       "      <td>1.4e-18</td>\n",
       "      <td>-9.9e-19</td>\n",
       "    </tr>\n",
       "    <tr>\n",
       "      <th>53</th>\n",
       "      <td>E + CO(v10) =&gt; E + CO(v8)</td>\n",
       "      <td>deexcitation</td>\n",
       "      <td>-4.8e-01</td>\n",
       "      <td>2.4e-18</td>\n",
       "      <td>-1.1e-18</td>\n",
       "    </tr>\n",
       "    <tr>\n",
       "      <th>54</th>\n",
       "      <td>E + CO(v10) =&gt; E + CO(v9)</td>\n",
       "      <td>deexcitation</td>\n",
       "      <td>-2.4e-01</td>\n",
       "      <td>4.1e-18</td>\n",
       "      <td>-9.7e-19</td>\n",
       "    </tr>\n",
       "  </tbody>\n",
       "</table>\n",
       "</div>"
      ],
      "text/plain": [
       "                      formula          type  threshold_eV  rate const  \\\n",
       "0        E + CO(v1) => E + CO  deexcitation      -2.7e-01     4.1e-18   \n",
       "1        E + CO(v2) => E + CO  deexcitation      -5.3e-01     2.4e-18   \n",
       "2    E + CO(v2) => E + CO(v1)  deexcitation      -2.6e-01     4.1e-18   \n",
       "3        E + CO(v3) => E + CO  deexcitation      -7.9e-01     1.4e-18   \n",
       "4    E + CO(v3) => E + CO(v1)  deexcitation      -5.2e-01     2.4e-18   \n",
       "5    E + CO(v3) => E + CO(v2)  deexcitation      -2.6e-01     4.1e-18   \n",
       "6        E + CO(v4) => E + CO  deexcitation      -1.0e+00     8.0e-19   \n",
       "7    E + CO(v4) => E + CO(v1)  deexcitation      -7.8e-01     1.4e-18   \n",
       "8    E + CO(v4) => E + CO(v2)  deexcitation      -5.1e-01     2.4e-18   \n",
       "9    E + CO(v4) => E + CO(v3)  deexcitation      -2.6e-01     4.1e-18   \n",
       "10       E + CO(v5) => E + CO  deexcitation      -1.3e+00     4.6e-19   \n",
       "11   E + CO(v5) => E + CO(v1)  deexcitation      -1.0e+00     8.0e-19   \n",
       "12   E + CO(v5) => E + CO(v2)  deexcitation      -7.7e-01     1.4e-18   \n",
       "13   E + CO(v5) => E + CO(v3)  deexcitation      -5.1e-01     2.4e-18   \n",
       "14   E + CO(v5) => E + CO(v4)  deexcitation      -2.5e-01     4.1e-18   \n",
       "15       E + CO(v6) => E + CO  deexcitation      -1.5e+00     2.7e-19   \n",
       "16   E + CO(v6) => E + CO(v1)  deexcitation      -1.3e+00     4.6e-19   \n",
       "17   E + CO(v6) => E + CO(v2)  deexcitation      -1.0e+00     8.0e-19   \n",
       "18   E + CO(v6) => E + CO(v3)  deexcitation      -7.6e-01     1.4e-18   \n",
       "19   E + CO(v6) => E + CO(v4)  deexcitation      -5.0e-01     2.4e-18   \n",
       "20   E + CO(v6) => E + CO(v5)  deexcitation      -2.5e-01     4.1e-18   \n",
       "21       E + CO(v7) => E + CO  deexcitation      -1.8e+00     1.5e-19   \n",
       "22   E + CO(v7) => E + CO(v1)  deexcitation      -1.5e+00     2.6e-19   \n",
       "23   E + CO(v7) => E + CO(v2)  deexcitation      -1.3e+00     4.6e-19   \n",
       "24   E + CO(v7) => E + CO(v3)  deexcitation      -1.0e+00     8.0e-19   \n",
       "25   E + CO(v7) => E + CO(v4)  deexcitation      -7.5e-01     1.4e-18   \n",
       "26   E + CO(v7) => E + CO(v5)  deexcitation      -5.0e-01     2.4e-18   \n",
       "27   E + CO(v7) => E + CO(v6)  deexcitation      -2.5e-01     4.1e-18   \n",
       "28       E + CO(v8) => E + CO  deexcitation      -2.0e+00     8.7e-20   \n",
       "29   E + CO(v8) => E + CO(v1)  deexcitation      -1.8e+00     1.5e-19   \n",
       "30   E + CO(v8) => E + CO(v2)  deexcitation      -1.5e+00     2.6e-19   \n",
       "31   E + CO(v8) => E + CO(v3)  deexcitation      -1.2e+00     4.6e-19   \n",
       "32   E + CO(v8) => E + CO(v4)  deexcitation      -9.9e-01     8.0e-19   \n",
       "33   E + CO(v8) => E + CO(v5)  deexcitation      -7.4e-01     1.4e-18   \n",
       "34   E + CO(v8) => E + CO(v6)  deexcitation      -4.9e-01     2.4e-18   \n",
       "35   E + CO(v8) => E + CO(v7)  deexcitation      -2.4e-01     4.1e-18   \n",
       "36       E + CO(v9) => E + CO  deexcitation      -2.3e+00     5.0e-20   \n",
       "37   E + CO(v9) => E + CO(v1)  deexcitation      -2.0e+00     8.6e-20   \n",
       "38   E + CO(v9) => E + CO(v2)  deexcitation      -1.7e+00     1.5e-19   \n",
       "39   E + CO(v9) => E + CO(v3)  deexcitation      -1.5e+00     2.6e-19   \n",
       "40   E + CO(v9) => E + CO(v4)  deexcitation      -1.2e+00     4.6e-19   \n",
       "41   E + CO(v9) => E + CO(v5)  deexcitation      -9.8e-01     7.9e-19   \n",
       "42   E + CO(v9) => E + CO(v6)  deexcitation      -7.3e-01     1.4e-18   \n",
       "43   E + CO(v9) => E + CO(v7)  deexcitation      -4.8e-01     2.4e-18   \n",
       "44   E + CO(v9) => E + CO(v8)  deexcitation      -2.4e-01     4.1e-18   \n",
       "45      E + CO(v10) => E + CO  deexcitation      -2.5e+00     2.8e-20   \n",
       "46  E + CO(v10) => E + CO(v1)  deexcitation      -2.2e+00     4.9e-20   \n",
       "47  E + CO(v10) => E + CO(v2)  deexcitation      -2.0e+00     8.6e-20   \n",
       "48  E + CO(v10) => E + CO(v3)  deexcitation      -1.7e+00     1.5e-19   \n",
       "49  E + CO(v10) => E + CO(v4)  deexcitation      -1.5e+00     2.6e-19   \n",
       "50  E + CO(v10) => E + CO(v5)  deexcitation      -1.2e+00     4.6e-19   \n",
       "51  E + CO(v10) => E + CO(v6)  deexcitation      -9.6e-01     7.9e-19   \n",
       "52  E + CO(v10) => E + CO(v7)  deexcitation      -7.2e-01     1.4e-18   \n",
       "53  E + CO(v10) => E + CO(v8)  deexcitation      -4.8e-01     2.4e-18   \n",
       "54  E + CO(v10) => E + CO(v9)  deexcitation      -2.4e-01     4.1e-18   \n",
       "\n",
       "    energy lose  \n",
       "0      -1.1e-18  \n",
       "1      -1.3e-18  \n",
       "2      -1.1e-18  \n",
       "3      -1.1e-18  \n",
       "4      -1.3e-18  \n",
       "5      -1.1e-18  \n",
       "6      -8.4e-19  \n",
       "7      -1.1e-18  \n",
       "8      -1.2e-18  \n",
       "9      -1.1e-18  \n",
       "10     -6.0e-19  \n",
       "11     -8.3e-19  \n",
       "12     -1.1e-18  \n",
       "13     -1.2e-18  \n",
       "14     -1.0e-18  \n",
       "15     -4.1e-19  \n",
       "16     -5.9e-19  \n",
       "17     -8.1e-19  \n",
       "18     -1.0e-18  \n",
       "19     -1.2e-18  \n",
       "20     -1.0e-18  \n",
       "21     -2.7e-19  \n",
       "22     -4.0e-19  \n",
       "23     -5.8e-19  \n",
       "24     -8.0e-19  \n",
       "25     -1.0e-18  \n",
       "26     -1.2e-18  \n",
       "27     -1.0e-18  \n",
       "28     -1.8e-19  \n",
       "29     -2.7e-19  \n",
       "30     -4.0e-19  \n",
       "31     -5.7e-19  \n",
       "32     -7.9e-19  \n",
       "33     -1.0e-18  \n",
       "34     -1.2e-18  \n",
       "35     -1.0e-18  \n",
       "36     -1.1e-19  \n",
       "37     -1.7e-19  \n",
       "38     -2.6e-19  \n",
       "39     -3.9e-19  \n",
       "40     -5.6e-19  \n",
       "41     -7.8e-19  \n",
       "42     -1.0e-18  \n",
       "43     -1.1e-18  \n",
       "44     -9.8e-19  \n",
       "45     -7.1e-20  \n",
       "46     -1.1e-19  \n",
       "47     -1.7e-19  \n",
       "48     -2.6e-19  \n",
       "49     -3.8e-19  \n",
       "50     -5.5e-19  \n",
       "51     -7.6e-19  \n",
       "52     -9.9e-19  \n",
       "53     -1.1e-18  \n",
       "54     -9.7e-19  "
      ]
     },
     "execution_count": 88,
     "metadata": {},
     "output_type": "execute_result"
    }
   ],
   "source": [
    "eedf.inelas_rctn_info"
   ]
  },
  {
   "cell_type": "code",
   "execution_count": 89,
   "metadata": {},
   "outputs": [
    {
     "ename": "AttributeError",
     "evalue": "'DataFrame' object has no attribute 'so'",
     "output_type": "error",
     "traceback": [
      "\u001b[1;31m---------------------------------------------------------------------------\u001b[0m",
      "\u001b[1;31mAttributeError\u001b[0m                            Traceback (most recent call last)",
      "\u001b[1;32m<ipython-input-89-b3a1eba709b0>\u001b[0m in \u001b[0;36m<module>\u001b[1;34m\u001b[0m\n\u001b[1;32m----> 1\u001b[1;33m \u001b[0meedf\u001b[0m\u001b[1;33m.\u001b[0m\u001b[0minelas_rctn_info\u001b[0m\u001b[1;33m.\u001b[0m\u001b[0mso\u001b[0m\u001b[1;33m\u001b[0m\u001b[1;33m\u001b[0m\u001b[0m\n\u001b[0m",
      "\u001b[1;32m~\\Anaconda3\\lib\\site-packages\\pandas\\core\\generic.py\u001b[0m in \u001b[0;36m__getattr__\u001b[1;34m(self, name)\u001b[0m\n\u001b[0;32m   5065\u001b[0m             \u001b[1;32mif\u001b[0m \u001b[0mself\u001b[0m\u001b[1;33m.\u001b[0m\u001b[0m_info_axis\u001b[0m\u001b[1;33m.\u001b[0m\u001b[0m_can_hold_identifiers_and_holds_name\u001b[0m\u001b[1;33m(\u001b[0m\u001b[0mname\u001b[0m\u001b[1;33m)\u001b[0m\u001b[1;33m:\u001b[0m\u001b[1;33m\u001b[0m\u001b[1;33m\u001b[0m\u001b[0m\n\u001b[0;32m   5066\u001b[0m                 \u001b[1;32mreturn\u001b[0m \u001b[0mself\u001b[0m\u001b[1;33m[\u001b[0m\u001b[0mname\u001b[0m\u001b[1;33m]\u001b[0m\u001b[1;33m\u001b[0m\u001b[1;33m\u001b[0m\u001b[0m\n\u001b[1;32m-> 5067\u001b[1;33m             \u001b[1;32mreturn\u001b[0m \u001b[0mobject\u001b[0m\u001b[1;33m.\u001b[0m\u001b[0m__getattribute__\u001b[0m\u001b[1;33m(\u001b[0m\u001b[0mself\u001b[0m\u001b[1;33m,\u001b[0m \u001b[0mname\u001b[0m\u001b[1;33m)\u001b[0m\u001b[1;33m\u001b[0m\u001b[1;33m\u001b[0m\u001b[0m\n\u001b[0m\u001b[0;32m   5068\u001b[0m \u001b[1;33m\u001b[0m\u001b[0m\n\u001b[0;32m   5069\u001b[0m     \u001b[1;32mdef\u001b[0m \u001b[0m__setattr__\u001b[0m\u001b[1;33m(\u001b[0m\u001b[0mself\u001b[0m\u001b[1;33m,\u001b[0m \u001b[0mname\u001b[0m\u001b[1;33m,\u001b[0m \u001b[0mvalue\u001b[0m\u001b[1;33m)\u001b[0m\u001b[1;33m:\u001b[0m\u001b[1;33m\u001b[0m\u001b[1;33m\u001b[0m\u001b[0m\n",
      "\u001b[1;31mAttributeError\u001b[0m: 'DataFrame' object has no attribute 'so'"
     ]
    }
   ],
   "source": [
    "eedf.inelas_rctn_info.so"
   ]
  },
  {
   "cell_type": "code",
   "execution_count": null,
   "metadata": {},
   "outputs": [],
   "source": []
  },
  {
   "cell_type": "code",
   "execution_count": null,
   "metadata": {},
   "outputs": [],
   "source": []
  },
  {
   "cell_type": "code",
   "execution_count": null,
   "metadata": {},
   "outputs": [],
   "source": []
  },
  {
   "cell_type": "code",
   "execution_count": null,
   "metadata": {},
   "outputs": [],
   "source": []
  }
 ],
 "metadata": {
  "kernelspec": {
   "display_name": "Python 3",
   "language": "python",
   "name": "python3"
  },
  "language_info": {
   "codemirror_mode": {
    "name": "ipython",
    "version": 3
   },
   "file_extension": ".py",
   "mimetype": "text/x-python",
   "name": "python",
   "nbconvert_exporter": "python",
   "pygments_lexer": "ipython3",
   "version": "3.7.3"
  }
 },
 "nbformat": 4,
 "nbformat_minor": 2
}
