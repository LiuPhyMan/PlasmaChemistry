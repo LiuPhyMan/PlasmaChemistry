{
 "cells": [
  {
   "cell_type": "code",
   "execution_count": 1,
   "metadata": {},
   "outputs": [],
   "source": [
    "import timeit\n",
    "import math\n",
    "import numpy as np\n",
    "import timeit\n",
    "import numba as nb\n",
    "import importlib"
   ]
  },
  {
   "cell_type": "code",
   "execution_count": 13,
   "metadata": {},
   "outputs": [],
   "source": [
    "_number = int(5e3)\n",
    "one_expr = r\"0.44*exp(-407.0*Tgas**(-1/3)+824.0*Tgas**(-2/3))\"\n",
    "_multi_list = []\n",
    "for i in range(_number):\n",
    "    _random_n = np.random.randn()\n",
    "    _multi_list.append(f\"{_random_n:.2f}*exp(-407.0*Tgas**(-1/3)+824.0*Tgas**(-2/3))\")\n",
    "    # _multi_list.append(f\"{_random_n:.2f} + Tgas\")\n",
    "_str = \",\".join(_multi_list)\n",
    "multi_expr = \"[\" + _str + \"]\"\n",
    "\n",
    "one_expr_compiled = compile(one_expr,'<string>','eval')\n",
    "multi_expr_compiled = compile(multi_expr,'<string>','eval')\n",
    "one_expr_lamb = eval('lambda Tgas: ' + one_expr,{\"__builtins__\":__builtins__,\"exp\":math.exp},{})\n",
    "multi_expr_lamb = eval('lambda Tgas:' + multi_expr,{\"__builtins__\":__builtins__,\"exp\":math.exp})"
   ]
  },
  {
   "cell_type": "markdown",
   "metadata": {},
   "source": [
    "%timeit eval(one_expr,{\"__builtins__\":__builtins__,},dict(exp=math.exp,Tgas=2000))\n",
    "%timeit eval(one_expr_compiled,{\"__builtins__\":__builtins__,\"exp\":math.exp,\"Tgas\":2000})\n",
    "%timeit one_expr_lamb(Tgas=2000)"
   ]
  },
  {
   "cell_type": "code",
   "execution_count": 14,
   "metadata": {},
   "outputs": [
    {
     "name": "stdout",
     "output_type": "stream",
     "text": [
      "98.9 ms ± 2.46 ms per loop (mean ± std. dev. of 7 runs, 10 loops each)\n",
      "2.8 ms ± 161 µs per loop (mean ± std. dev. of 7 runs, 100 loops each)\n",
      "2.99 ms ± 173 µs per loop (mean ± std. dev. of 7 runs, 100 loops each)\n"
     ]
    }
   ],
   "source": [
    "%timeit eval(multi_expr,{\"__builtins__\":__builtins__,},dict(exp=math.exp,Tgas=2000))\n",
    "%timeit eval(multi_expr_compiled,{\"__builtins__\":__builtins__,\"exp\":math.exp,\"Tgas\":2000})\n",
    "%timeit multi_expr_lamb(Tgas=2000)"
   ]
  },
  {
   "cell_type": "code",
   "execution_count": 15,
   "metadata": {},
   "outputs": [
    {
     "name": "stdout",
     "output_type": "stream",
     "text": [
      "C:\\Users\\LiuJinbao\\Documents\\Code\\PlasmaChemistry\n"
     ]
    }
   ],
   "source": [
    "%cd \"C:\\Users\\LiuJinbao\\Documents\\Code\\PlasmaChemistry\""
   ]
  },
  {
   "cell_type": "code",
   "execution_count": 16,
   "metadata": {},
   "outputs": [],
   "source": [
    "with open(r\"_cache/cache_template.py\") as f:\n",
    "    _str = f.readlines()\n",
    "_str = \"\".join(_str)\n",
    "_list = [f\"value[{i}] = {_}\" for i,_ in enumerate(_multi_list)]\n",
    "# _list = [f\"va.append({_})\" for i,_ in enumerate(_multi_list)]\n",
    "_multi_expr_str = \"\\n    \".join(_list)"
   ]
  },
  {
   "cell_type": "code",
   "execution_count": 17,
   "metadata": {},
   "outputs": [],
   "source": [
    "# _str_to_write = _str.replace('\"\"\"__REPLACE__\"\"\"', f\"a = np.zeros({_number})\\n    {_multi_expr_str}\")\n",
    "_str_to_write = _str.replace('\"\"\"__REPLACE__\"\"\"', f\"{_multi_expr_str}\")"
   ]
  },
  {
   "cell_type": "code",
   "execution_count": 18,
   "metadata": {},
   "outputs": [],
   "source": [
    "with open(r\"_cache/cache.py\", \"r+\") as f:\n",
    "    f.seek(0)\n",
    "    f.truncate()\n",
    "    f.write(_str_to_write)"
   ]
  },
  {
   "cell_type": "code",
   "execution_count": 19,
   "metadata": {},
   "outputs": [
    {
     "data": {
      "text/plain": [
       "<module '_cache.cache' from 'C:\\\\Users\\\\LiuJinbao\\\\Documents\\\\Code\\\\PlasmaChemistry\\\\_cache\\\\cache.py'>"
      ]
     },
     "execution_count": 19,
     "metadata": {},
     "output_type": "execute_result"
    }
   ],
   "source": [
    "from _cache import cache\n",
    "importlib.reload(cache)"
   ]
  },
  {
   "cell_type": "code",
   "execution_count": 20,
   "metadata": {},
   "outputs": [],
   "source": [
    "a = np.zeros(_number)\n",
    "cache.test(2000, a)"
   ]
  },
  {
   "cell_type": "code",
   "execution_count": 21,
   "metadata": {},
   "outputs": [
    {
     "data": {
      "text/plain": [
       "array([ 5.20534793e-13, -7.55615022e-13, -1.96459906e-12, ...,\n",
       "        3.08962587e-12, -1.15860970e-12, -1.42727282e-12])"
      ]
     },
     "execution_count": 21,
     "metadata": {},
     "output_type": "execute_result"
    }
   ],
   "source": [
    "a"
   ]
  },
  {
   "cell_type": "code",
   "execution_count": 22,
   "metadata": {},
   "outputs": [
    {
     "name": "stdout",
     "output_type": "stream",
     "text": [
      "2.08 µs ± 75.8 ns per loop (mean ± std. dev. of 7 runs, 100000 loops each)\n"
     ]
    }
   ],
   "source": [
    "%timeit cache.test(3000, a)"
   ]
  },
  {
   "cell_type": "code",
   "execution_count": null,
   "metadata": {},
   "outputs": [],
   "source": [
    "@numba.jit((float32,), nopython=True) 770 ns\n",
    "@numba.jit(nopython=True)             754 ns\n",
    "@numba.jit()                          747 ns"
   ]
  }
 ],
 "metadata": {
  "kernelspec": {
   "display_name": "Python 3",
   "language": "python",
   "name": "python3"
  },
  "language_info": {
   "codemirror_mode": {
    "name": "ipython",
    "version": 3
   },
   "file_extension": ".py",
   "mimetype": "text/x-python",
   "name": "python",
   "nbconvert_exporter": "python",
   "pygments_lexer": "ipython3",
   "version": "3.7.0"
  }
 },
 "nbformat": 4,
 "nbformat_minor": 2
}
