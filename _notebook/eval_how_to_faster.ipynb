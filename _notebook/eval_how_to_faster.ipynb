{
 "cells": [
  {
   "cell_type": "code",
   "execution_count": 1,
   "metadata": {},
   "outputs": [],
   "source": [
    "import time\n",
    "import timeit\n",
    "import math\n",
    "\n",
    "import numpy as np\n",
    "import timeit\n",
    "import numba as nb\n",
    "import importlib"
   ]
  },
  {
   "cell_type": "code",
   "execution_count": 34,
   "metadata": {},
   "outputs": [],
   "source": [
    "_number = int(8e3)\n",
    "one_expr = r\"0.44*exp(-407.0*Tgas**(-1/3)+824.0*Tgas**(-2/3))\"\n",
    "_multi_list = []\n",
    "for i in range(_number):\n",
    "    _random_n = np.random.randn()\n",
    "    _multi_list.append(f\"{_random_n:.2f}*exp(-407.0*Tgas**(-1/3)+824.0*Tgas**(-2/3))\")\n",
    "    # _multi_list.append(f\"{_random_n:.2f} + Tgas\")\n",
    "_str = \",\".join(_multi_list)\n",
    "multi_expr = \"[\" + _str + \"]\"\n",
    "\n",
    "one_expr_compiled = compile(one_expr,'<string>','eval')\n",
    "multi_expr_compiled = compile(multi_expr,'<string>','eval')\n",
    "one_expr_lamb = eval('lambda Tgas: ' + one_expr,{\"__builtins__\":__builtins__,\"exp\":math.exp},{})\n",
    "multi_expr_lamb = eval('lambda Tgas:' + multi_expr,{\"__builtins__\":__builtins__,\"exp\":math.exp})"
   ]
  },
  {
   "cell_type": "code",
   "execution_count": 35,
   "metadata": {},
   "outputs": [
    {
     "name": "stdout",
     "output_type": "stream",
     "text": [
      "151 ms ± 569 µs per loop (mean ± std. dev. of 7 runs, 10 loops each)\n",
      "4.47 ms ± 32.9 µs per loop (mean ± std. dev. of 7 runs, 100 loops each)\n",
      "4.28 ms ± 14.2 µs per loop (mean ± std. dev. of 7 runs, 100 loops each)\n"
     ]
    }
   ],
   "source": [
    "%timeit eval(multi_expr,{\"__builtins__\":__builtins__,},dict(exp=math.exp,Tgas=2000))\n",
    "%timeit eval(multi_expr_compiled,{\"__builtins__\":__builtins__,\"exp\":math.exp,\"Tgas\":2000})\n",
    "%timeit multi_expr_lamb(Tgas=2000)"
   ]
  },
  {
   "cell_type": "code",
   "execution_count": 36,
   "metadata": {},
   "outputs": [
    {
     "name": "stdout",
     "output_type": "stream",
     "text": [
      "C:\\Users\\LiuJinbao\\Documents\\Code\\PlasmaChemistry\n"
     ]
    }
   ],
   "source": [
    "%cd \"C:\\Users\\LiuJinbao\\Documents\\Code\\PlasmaChemistry\""
   ]
  },
  {
   "cell_type": "code",
   "execution_count": 45,
   "metadata": {},
   "outputs": [],
   "source": [
    "with open(r\"_cache/cache_template.py\") as f:\n",
    "    _str = f.readlines()\n",
    "_str = \"\".join(_str)\n",
    "_list = [f\"value[{i}] = {_}\" for i,_ in enumerate(_multi_list)]\n",
    "# _list = [f\"va.append({_})\" for i,_ in enumerate(_multi_list)]\n",
    "# _list = [f\"{_}\" for i,_ in enumerate(_multi_list)]\n",
    "# _multi_expr_str = \"\\n    \".join(_list)\n",
    "_multi_expr_str = \"\\n    \".join(_list)"
   ]
  },
  {
   "cell_type": "code",
   "execution_count": 46,
   "metadata": {},
   "outputs": [],
   "source": [
    "# _str_to_write = _str.replace('\"\"\"__REPLACE__\"\"\"', f\"a = np.zeros({_number})\\n    {_multi_expr_str}\")\n",
    "_str_to_write = _str.replace('\"\"\"__REPLACE__\"\"\"', f\"{_multi_expr_str}\")"
   ]
  },
  {
   "cell_type": "code",
   "execution_count": 47,
   "metadata": {},
   "outputs": [],
   "source": [
    "with open(r\"_cache/cache.py\", \"r+\") as f:\n",
    "    f.seek(0)\n",
    "    f.truncate()\n",
    "    f.write(_str_to_write)"
   ]
  },
  {
   "cell_type": "code",
   "execution_count": 48,
   "metadata": {},
   "outputs": [],
   "source": [
    "start = time.time()\n",
    "from _cache import cache\n",
    "import importlib\n",
    "importlib.reload(cache)\n",
    "end = time.time()"
   ]
  },
  {
   "cell_type": "code",
   "execution_count": 50,
   "metadata": {},
   "outputs": [],
   "source": [
    "a = np.zeros(_number)\n",
    "start = time.time()\n",
    "cache.test(a, 3000.0)\n",
    "end = time.time()"
   ]
  },
  {
   "cell_type": "code",
   "execution_count": 49,
   "metadata": {},
   "outputs": [
    {
     "name": "stdout",
     "output_type": "stream",
     "text": [
      "179.5 s\n"
     ]
    }
   ],
   "source": [
    "print(f\"{end-start:.1f} s\")"
   ]
  },
  {
   "cell_type": "code",
   "execution_count": 51,
   "metadata": {},
   "outputs": [
    {
     "name": "stdout",
     "output_type": "stream",
     "text": [
      "3.6 µs ± 6.01 ns per loop (mean ± std. dev. of 7 runs, 100000 loops each)\n"
     ]
    }
   ],
   "source": [
    "%timeit cache.test(a, 3000)"
   ]
  },
  {
   "attachments": {
    "%E5%9B%BE%E7%89%87.png": {
     "image/png": "[encoded data removed]"
    }
   },
   "cell_type": "markdown",
   "metadata": {},
   "source": [
    "![%E5%9B%BE%E7%89%87.png](attachment:%E5%9B%BE%E7%89%87.png)\n",
    "8000 reactions\n",
    "\n",
    "(numpy)exec time   :   4.4 ms\n",
    "\n",
    "(numba)exec time   :   3.6 us\n",
    "\n",
    "1000 higher speed\n",
    "\n",
    "compile time   : 179.5  s"
   ]
  },
  {
   "cell_type": "code",
   "execution_count": null,
   "metadata": {},
   "outputs": [],
   "source": []
  }
 ],
 "metadata": {
  "kernelspec": {
   "display_name": "Python 3",
   "language": "python",
   "name": "python3"
  },
  "language_info": {
   "codemirror_mode": {
    "name": "ipython",
    "version": 3
   },
   "file_extension": ".py",
   "mimetype": "text/x-python",
   "name": "python",
   "nbconvert_exporter": "python",
   "pygments_lexer": "ipython3",
   "version": "3.7.0"
  }
 },
 "nbformat": 4,
 "nbformat_minor": 2
}
