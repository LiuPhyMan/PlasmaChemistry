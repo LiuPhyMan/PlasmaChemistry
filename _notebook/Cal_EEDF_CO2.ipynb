{
 "cells": [
  {
   "cell_type": "markdown",
   "metadata": {
    "toc": true
   },
   "source": [
    "<h1>Table of Contents<span class=\"tocSkip\"></span></h1>\n",
    "<div class=\"toc\"><ul class=\"toc-item\"><li><span><a href=\"#Read-inelas-reactions\" data-toc-modified-id=\"Read-inelas-reactions-1\"><span class=\"toc-item-num\">1&nbsp;&nbsp;</span>Read inelas reactions</a></span><ul class=\"toc-item\"><li><span><a href=\"#Choose-the-reactions-considered.\" data-toc-modified-id=\"Choose-the-reactions-considered.-1.1\"><span class=\"toc-item-num\">1.1&nbsp;&nbsp;</span>Choose the reactions considered.</a></span></li></ul></li><li><span><a href=\"#Set-parameters\" data-toc-modified-id=\"Set-parameters-2\"><span class=\"toc-item-num\">2&nbsp;&nbsp;</span>Set parameters</a></span></li><li><span><a href=\"#Evolve\" data-toc-modified-id=\"Evolve-3\"><span class=\"toc-item-num\">3&nbsp;&nbsp;</span>Evolve</a></span></li><li><span><a href=\"#plot\" data-toc-modified-id=\"plot-4\"><span class=\"toc-item-num\">4&nbsp;&nbsp;</span>plot</a></span><ul class=\"toc-item\"><li><span><a href=\"#plot-final\" data-toc-modified-id=\"plot-final-4.1\"><span class=\"toc-item-num\">4.1&nbsp;&nbsp;</span>plot final</a></span></li></ul></li></ul></div>"
   ]
  },
  {
   "cell_type": "code",
   "execution_count": 2,
   "metadata": {},
   "outputs": [
    {
     "name": "stdout",
     "output_type": "stream",
     "text": [
      "C:\\Users\\LiuJinbao\\Documents\\Code\\PlasmaChemistry\n"
     ]
    }
   ],
   "source": [
    "%cd .."
   ]
  },
  {
   "cell_type": "code",
   "execution_count": 3,
   "metadata": {},
   "outputs": [],
   "source": [
    "import numpy as np\n",
    "import pandas as pd\n",
    "from scipy.integrate import solve_ivp\n",
    "from matplotlib import pyplot as plt\n",
    "from plasmistry.electron import EEDF\n",
    "from plasmistry.electron import get_maxwell_eedf\n",
    "from plasmistry.molecule import get_ideal_gas_density"
   ]
  },
  {
   "cell_type": "code",
   "execution_count": 4,
   "metadata": {},
   "outputs": [],
   "source": [
    "import matplotlib.pyplot as plt\n",
    "plt.rcParams[\"figure.figsize\"] = (12,9)\n",
    "plt.rcParams[\"font.size\"] = 14"
   ]
  },
  {
   "cell_type": "code",
   "execution_count": 5,
   "metadata": {},
   "outputs": [],
   "source": [
    "np.set_printoptions(precision=1, linewidth=130, edgeitems=5)\n",
    "pd.options.display.float_format = '{:,.1e}'.format"
   ]
  },
  {
   "cell_type": "markdown",
   "metadata": {},
   "source": [
    "# Read inelas reactions"
   ]
  },
  {
   "cell_type": "code",
   "execution_count": 7,
   "metadata": {},
   "outputs": [],
   "source": [
    "inelas_df = pd.read_pickle('rctn_df.pkl')"
   ]
  },
  {
   "cell_type": "code",
   "execution_count": 8,
   "metadata": {},
   "outputs": [
    {
     "data": {
      "text/plain": [
       "array([[1.0e-04, 1.0e-04, 1.0e-04, 1.0e-04, 1.0e-04, ..., 9.9e+02, 1.0e+03, 1.0e+03, 1.0e+03, 1.0e+03],\n",
       "       [0.0e+00, 0.0e+00, 0.0e+00, 0.0e+00, 0.0e+00, ..., 2.2e-25, 2.2e-25, 2.2e-25, 2.2e-25, 2.2e-25]])"
      ]
     },
     "execution_count": 8,
     "metadata": {},
     "output_type": "execute_result"
    }
   ],
   "source": [
    "inelas_df.loc[0, 'cross_section']"
   ]
  },
  {
   "cell_type": "code",
   "execution_count": 9,
   "metadata": {
    "cell_style": "split"
   },
   "outputs": [
    {
     "data": {
      "text/html": [
       "<div>\n",
       "<style scoped>\n",
       "    .dataframe tbody tr th:only-of-type {\n",
       "        vertical-align: middle;\n",
       "    }\n",
       "\n",
       "    .dataframe tbody tr th {\n",
       "        vertical-align: top;\n",
       "    }\n",
       "\n",
       "    .dataframe thead th {\n",
       "        text-align: right;\n",
       "    }\n",
       "</style>\n",
       "<table border=\"1\" class=\"dataframe\">\n",
       "  <thead>\n",
       "    <tr style=\"text-align: right;\">\n",
       "      <th></th>\n",
       "      <th>formula</th>\n",
       "      <th>type</th>\n",
       "      <th>threshold_eV</th>\n",
       "      <th>cross_section</th>\n",
       "    </tr>\n",
       "  </thead>\n",
       "  <tbody>\n",
       "    <tr>\n",
       "      <th>0</th>\n",
       "      <td>E + H2 =&gt; E + H2(v1)</td>\n",
       "      <td>EXCITATION</td>\n",
       "      <td>5.2e-01</td>\n",
       "      <td>[[0.0001, 0.00010016132706854269, 0.0001003229...</td>\n",
       "    </tr>\n",
       "    <tr>\n",
       "      <th>1</th>\n",
       "      <td>E + H2 =&gt; E + H2(v2)</td>\n",
       "      <td>EXCITATION</td>\n",
       "      <td>1.0e+00</td>\n",
       "      <td>[[0.4856084787426168, 0.48560864006968535, 0.4...</td>\n",
       "    </tr>\n",
       "    <tr>\n",
       "      <th>2</th>\n",
       "      <td>E + H2 =&gt; E + H2(v3)</td>\n",
       "      <td>EXCITATION</td>\n",
       "      <td>1.5e+00</td>\n",
       "      <td>[[0.9410309521450216, 0.9410311134720902, 0.94...</td>\n",
       "    </tr>\n",
       "    <tr>\n",
       "      <th>3</th>\n",
       "      <td>E + H2(v1) =&gt; E + H2(v2)</td>\n",
       "      <td>EXCITATION</td>\n",
       "      <td>4.9e-01</td>\n",
       "      <td>[[4.044021386589297e-05, 8.904232533439929e-05...</td>\n",
       "    </tr>\n",
       "    <tr>\n",
       "      <th>4</th>\n",
       "      <td>E + H2(v1) =&gt; E + H2(v3)</td>\n",
       "      <td>EXCITATION</td>\n",
       "      <td>9.4e-01</td>\n",
       "      <td>[[0.4254364680621926, 0.42543662938926113, 0.4...</td>\n",
       "    </tr>\n",
       "    <tr>\n",
       "      <th>...</th>\n",
       "      <td>...</td>\n",
       "      <td>...</td>\n",
       "      <td>...</td>\n",
       "      <td>...</td>\n",
       "    </tr>\n",
       "    <tr>\n",
       "      <th>484</th>\n",
       "      <td>E + CO(v6) =&gt; E + C + O</td>\n",
       "      <td>EXCITATION</td>\n",
       "      <td>9.6e+00</td>\n",
       "      <td>[[9.6151, 11.955, 16.955, 19.455, 21.955, 26.9...</td>\n",
       "    </tr>\n",
       "    <tr>\n",
       "      <th>485</th>\n",
       "      <td>E + CO(v7) =&gt; E + C + O</td>\n",
       "      <td>EXCITATION</td>\n",
       "      <td>9.4e+00</td>\n",
       "      <td>[[9.3691, 11.709, 16.709, 19.209, 21.709, 26.7...</td>\n",
       "    </tr>\n",
       "    <tr>\n",
       "      <th>486</th>\n",
       "      <td>E + CO(v8) =&gt; E + C + O</td>\n",
       "      <td>EXCITATION</td>\n",
       "      <td>9.1e+00</td>\n",
       "      <td>[[9.1264, 11.466, 16.466, 18.966, 21.466, 26.4...</td>\n",
       "    </tr>\n",
       "    <tr>\n",
       "      <th>487</th>\n",
       "      <td>E + CO(v9) =&gt; E + C + O</td>\n",
       "      <td>EXCITATION</td>\n",
       "      <td>8.9e+00</td>\n",
       "      <td>[[8.8871, 11.227, 16.227, 18.727, 21.227, 26.2...</td>\n",
       "    </tr>\n",
       "    <tr>\n",
       "      <th>488</th>\n",
       "      <td>E + CO(v10) =&gt; E + C + O</td>\n",
       "      <td>EXCITATION</td>\n",
       "      <td>8.7e+00</td>\n",
       "      <td>[[8.651, 10.991, 15.991, 18.491, 20.991, 25.99...</td>\n",
       "    </tr>\n",
       "  </tbody>\n",
       "</table>\n",
       "<p>489 rows × 4 columns</p>\n",
       "</div>"
      ],
      "text/plain": [
       "                      formula        type  threshold_eV  \\\n",
       "0        E + H2 => E + H2(v1)  EXCITATION       5.2e-01   \n",
       "1        E + H2 => E + H2(v2)  EXCITATION       1.0e+00   \n",
       "2        E + H2 => E + H2(v3)  EXCITATION       1.5e+00   \n",
       "3    E + H2(v1) => E + H2(v2)  EXCITATION       4.9e-01   \n",
       "4    E + H2(v1) => E + H2(v3)  EXCITATION       9.4e-01   \n",
       "..                        ...         ...           ...   \n",
       "484   E + CO(v6) => E + C + O  EXCITATION       9.6e+00   \n",
       "485   E + CO(v7) => E + C + O  EXCITATION       9.4e+00   \n",
       "486   E + CO(v8) => E + C + O  EXCITATION       9.1e+00   \n",
       "487   E + CO(v9) => E + C + O  EXCITATION       8.9e+00   \n",
       "488  E + CO(v10) => E + C + O  EXCITATION       8.7e+00   \n",
       "\n",
       "                                         cross_section  \n",
       "0    [[0.0001, 0.00010016132706854269, 0.0001003229...  \n",
       "1    [[0.4856084787426168, 0.48560864006968535, 0.4...  \n",
       "2    [[0.9410309521450216, 0.9410311134720902, 0.94...  \n",
       "3    [[4.044021386589297e-05, 8.904232533439929e-05...  \n",
       "4    [[0.4254364680621926, 0.42543662938926113, 0.4...  \n",
       "..                                                 ...  \n",
       "484  [[9.6151, 11.955, 16.955, 19.455, 21.955, 26.9...  \n",
       "485  [[9.3691, 11.709, 16.709, 19.209, 21.709, 26.7...  \n",
       "486  [[9.1264, 11.466, 16.466, 18.966, 21.466, 26.4...  \n",
       "487  [[8.8871, 11.227, 16.227, 18.727, 21.227, 26.2...  \n",
       "488  [[8.651, 10.991, 15.991, 18.491, 20.991, 25.99...  \n",
       "\n",
       "[489 rows x 4 columns]"
      ]
     },
     "execution_count": 9,
     "metadata": {},
     "output_type": "execute_result"
    }
   ],
   "source": [
    "inelas_df"
   ]
  },
  {
   "cell_type": "markdown",
   "metadata": {},
   "source": [
    "## Choose the reactions considered."
   ]
  },
  {
   "cell_type": "code",
   "execution_count": 51,
   "metadata": {},
   "outputs": [],
   "source": [
    "species = pd.read_pickle(\"species.pkl\")"
   ]
  },
  {
   "cell_type": "code",
   "execution_count": 52,
   "metadata": {},
   "outputs": [],
   "source": [
    "eedf = EEDF(max_energy_eV=50, grid_number=500)\n",
    "eedf.initialize(rctn_with_crostn_df=inelas_df, total_species=species.to_list())"
   ]
  },
  {
   "cell_type": "code",
   "execution_count": 53,
   "metadata": {},
   "outputs": [
    {
     "data": {
      "text/plain": [
       "array(['E', 'H2', 'H2(v1)', 'H2(v2)', 'H2(v3)', 'H2(v4)', 'H2(v5)', 'H2(v6)', 'H2(v7)', 'H2(v8)', 'H2(v9)', 'H2(v10)', 'H2(v11)',\n",
       "       'H2(v12)', 'H2(v13)', 'H2(v14)', 'CO2(va)', 'CO2(vb)', 'CO2(vc)', 'CO2(vd)', 'CO2', 'CO2(v1)', 'CO2(v2)', 'CO2(v3)',\n",
       "       'CO2(v4)', 'CO2(v5)', 'CO2(v6)', 'CO2(v7)', 'CO2(v8)', 'CO2(v9)', 'CO2(v10)', 'CO2(v11)', 'CO2(v12)', 'CO2(v13)',\n",
       "       'CO2(v14)', 'CO2(v15)', 'CO2(v16)', 'CO2(v17)', 'CO2(v18)', 'CO2(v19)', 'CO2(v20)', 'CO2(v21)', 'CO', 'CO(v1)', 'CO(v2)',\n",
       "       'CO(v3)', 'CO(v4)', 'CO(v5)', 'CO(v6)', 'CO(v7)', 'CO(v8)', 'CO(v9)', 'CO(v10)', 'O2', 'H2O', 'H2(all)', 'CO2(all)',\n",
       "       'CO(all)', 'H2O(all)', 'O2(all)', 'H', 'O', 'C', 'OH'], dtype=object)"
      ]
     },
     "execution_count": 53,
     "metadata": {},
     "output_type": "execute_result"
    }
   ],
   "source": [
    "species.values"
   ]
  },
  {
   "cell_type": "code",
   "execution_count": 19,
   "metadata": {},
   "outputs": [
    {
     "data": {
      "text/plain": [
       "array([[ 0.0e+00,  0.0e+00,  0.0e+00,  3.3e-16,  0.0e+00, ...,  0.0e+00,  0.0e+00,  0.0e+00,  0.0e+00,  0.0e+00],\n",
       "       [ 0.0e+00,  0.0e+00,  0.0e+00,  1.7e-16,  4.1e-16, ...,  0.0e+00,  0.0e+00,  0.0e+00,  0.0e+00,  0.0e+00],\n",
       "       [ 0.0e+00,  0.0e+00,  0.0e+00,  0.0e+00,  2.1e-16, ...,  0.0e+00,  0.0e+00,  0.0e+00,  0.0e+00,  0.0e+00],\n",
       "       [ 0.0e+00,  0.0e+00,  0.0e+00, -5.1e-16,  0.0e+00, ...,  0.0e+00,  0.0e+00,  0.0e+00,  0.0e+00,  0.0e+00],\n",
       "       [ 0.0e+00,  0.0e+00,  0.0e+00,  0.0e+00, -6.3e-16, ...,  0.0e+00,  0.0e+00,  0.0e+00,  0.0e+00,  0.0e+00],\n",
       "       ...,\n",
       "       [ 0.0e+00,  0.0e+00,  0.0e+00,  0.0e+00,  0.0e+00, ..., -1.7e-14,  0.0e+00,  4.5e-15,  3.6e-15,  1.9e-16],\n",
       "       [ 0.0e+00,  0.0e+00,  0.0e+00,  0.0e+00,  0.0e+00, ...,  0.0e+00, -1.7e-14,  0.0e+00,  4.5e-15,  3.6e-15],\n",
       "       [ 0.0e+00,  0.0e+00,  0.0e+00,  0.0e+00,  0.0e+00, ...,  1.5e-15,  0.0e+00, -1.0e-14,  0.0e+00,  4.5e-15],\n",
       "       [ 0.0e+00,  0.0e+00,  0.0e+00,  0.0e+00,  0.0e+00, ...,  4.6e-15,  1.5e-15,  0.0e+00, -1.0e-14,  0.0e+00],\n",
       "       [ 0.0e+00,  0.0e+00,  0.0e+00,  0.0e+00,  0.0e+00, ...,  0.0e+00,  4.6e-15,  0.0e+00,  0.0e+00, -1.0e-14]])"
      ]
     },
     "execution_count": 19,
     "metadata": {},
     "output_type": "execute_result"
    }
   ],
   "source": [
    "eedf.rate_const_matrix_e_inelas_electron.toarray()"
   ]
  },
  {
   "cell_type": "code",
   "execution_count": 20,
   "metadata": {},
   "outputs": [
    {
     "data": {
      "text/plain": [
       "(26000, 500)"
      ]
     },
     "execution_count": 20,
     "metadata": {},
     "output_type": "execute_result"
    }
   ],
   "source": [
    "eedf.rate_const_matrix_e_inelas_electron.shape"
   ]
  },
  {
   "cell_type": "code",
   "execution_count": 21,
   "metadata": {},
   "outputs": [
    {
     "data": {
      "text/plain": [
       "(489, 500)"
      ]
     },
     "execution_count": 21,
     "metadata": {},
     "output_type": "execute_result"
    }
   ],
   "source": [
    "eedf.rate_const_matrix_e_inelas_molecule.shape"
   ]
  },
  {
   "cell_type": "code",
   "execution_count": 22,
   "metadata": {},
   "outputs": [
    {
     "data": {
      "text/plain": [
       "<matplotlib.image.AxesImage at 0x1fcaf378d88>"
      ]
     },
     "execution_count": 22,
     "metadata": {},
     "output_type": "execute_result"
    },
    {
     "data": {
      "image/png": "[encoded data removed]",
      "text/plain": [
       "<Figure size 662.577x648 with 1 Axes>"
      ]
     },
     "metadata": {
      "needs_background": "light"
     },
     "output_type": "display_data"
    }
   ],
   "source": [
    "plt.matshow(eedf.rate_const_matrix_e_inelas_molecule)"
   ]
  },
  {
   "cell_type": "code",
   "execution_count": 23,
   "metadata": {},
   "outputs": [
    {
     "data": {
      "text/plain": [
       "5"
      ]
     },
     "execution_count": 23,
     "metadata": {},
     "output_type": "execute_result"
    }
   ],
   "source": [
    "eedf.n_bg_molecule_elas"
   ]
  },
  {
   "cell_type": "code",
   "execution_count": 24,
   "metadata": {},
   "outputs": [
    {
     "data": {
      "text/plain": [
       "['H2', 'CO2', 'CO', 'O2', 'H2O']"
      ]
     },
     "execution_count": 24,
     "metadata": {},
     "output_type": "execute_result"
    }
   ],
   "source": [
    "eedf.bg_molecule_elas"
   ]
  },
  {
   "cell_type": "code",
   "execution_count": 25,
   "metadata": {},
   "outputs": [
    {
     "data": {
      "text/plain": [
       "52"
      ]
     },
     "execution_count": 25,
     "metadata": {},
     "output_type": "execute_result"
    }
   ],
   "source": [
    "eedf.n_bg_molecule_inelas"
   ]
  },
  {
   "cell_type": "code",
   "execution_count": 26,
   "metadata": {},
   "outputs": [
    {
     "data": {
      "text/plain": [
       "array(['CO', 'CO(v1)', 'CO(v10)', 'CO(v2)', 'CO(v3)', 'CO(v4)', 'CO(v5)', 'CO(v6)', 'CO(v7)', 'CO(v8)', 'CO(v9)', 'CO2',\n",
       "       'CO2(v1)', 'CO2(v10)', 'CO2(v11)', 'CO2(v12)', 'CO2(v13)', 'CO2(v14)', 'CO2(v15)', 'CO2(v16)', 'CO2(v17)', 'CO2(v18)',\n",
       "       'CO2(v19)', 'CO2(v2)', 'CO2(v20)', 'CO2(v21)', 'CO2(v3)', 'CO2(v4)', 'CO2(v5)', 'CO2(v6)', 'CO2(v7)', 'CO2(v8)',\n",
       "       'CO2(v9)', 'CO2(va)', 'CO2(vb)', 'CO2(vc)', 'CO2(vd)', 'H2', 'H2(v1)', 'H2(v10)', 'H2(v11)', 'H2(v12)', 'H2(v13)',\n",
       "       'H2(v14)', 'H2(v2)', 'H2(v3)', 'H2(v4)', 'H2(v5)', 'H2(v6)', 'H2(v7)', 'H2(v8)', 'H2(v9)'], dtype=object)"
      ]
     },
     "execution_count": 26,
     "metadata": {},
     "output_type": "execute_result"
    }
   ],
   "source": [
    "eedf.bg_molecule_inelas"
   ]
  },
  {
   "cell_type": "code",
   "execution_count": 27,
   "metadata": {},
   "outputs": [
    {
     "data": {
      "text/plain": [
       "489"
      ]
     },
     "execution_count": 27,
     "metadata": {},
     "output_type": "execute_result"
    }
   ],
   "source": [
    "eedf.n_inelas_rctn"
   ]
  },
  {
   "cell_type": "code",
   "execution_count": 28,
   "metadata": {},
   "outputs": [
    {
     "data": {
      "text/plain": [
       "array(['H2', 'H2', 'H2', 'H2(v1)', 'H2(v1)', 'H2(v1)', 'H2(v2)', 'H2(v2)', 'H2(v2)', 'H2(v3)', 'H2(v3)', 'H2(v3)', 'H2(v4)',\n",
       "       'H2(v4)', 'H2(v4)', 'H2(v5)', 'H2(v5)', 'H2(v5)', 'H2(v6)', 'H2(v6)', 'H2(v6)', 'H2(v7)', 'H2(v7)', 'H2(v7)', 'H2(v8)',\n",
       "       'H2(v8)', 'H2(v8)', 'H2(v9)', 'H2(v9)', 'H2(v9)', 'H2(v10)', 'H2(v10)', 'H2(v10)', 'H2(v11)', 'H2(v11)', 'H2(v11)',\n",
       "       'H2(v12)', 'H2(v12)', 'H2(v13)', 'H2(v1)', 'H2(v2)', 'H2(v2)', 'H2(v3)', 'H2(v3)', 'H2(v3)', 'H2(v4)', 'H2(v4)', 'H2(v4)',\n",
       "       'H2(v5)', 'H2(v5)', 'H2(v5)', 'H2(v6)', 'H2(v6)', 'H2(v6)', 'H2(v7)', 'H2(v7)', 'H2(v7)', 'H2(v8)', 'H2(v8)', 'H2(v8)',\n",
       "       'H2(v9)', 'H2(v9)', 'H2(v9)', 'H2(v10)', 'H2(v10)', 'H2(v10)', 'H2(v11)', 'H2(v11)', 'H2(v11)', 'H2(v12)', 'H2(v12)',\n",
       "       'H2(v12)', 'H2(v13)', 'H2(v13)', 'H2(v13)', 'H2(v14)', 'H2(v14)', 'H2(v14)', 'H2', 'H2(v1)', 'H2(v2)', 'H2(v3)', 'H2(v4)',\n",
       "       'H2(v5)', 'H2(v6)', 'H2(v7)', 'H2(v8)', 'H2(v9)', 'H2(v10)', 'H2(v11)', 'H2(v12)', 'H2(v13)', 'CO2', 'CO2', 'CO2',\n",
       "       'CO2(v1)', 'CO2(v1)', 'CO2(v1)', 'CO2(v2)', 'CO2(v2)', 'CO2(v2)', 'CO2(v3)', 'CO2(v3)', 'CO2(v3)', 'CO2(v4)', 'CO2(v4)',\n",
       "       'CO2(v4)', 'CO2(v5)', 'CO2(v5)', 'CO2(v5)', 'CO2(v6)', 'CO2(v6)', 'CO2(v6)', 'CO2(v7)', 'CO2(v7)', 'CO2(v7)', 'CO2(v8)',\n",
       "       'CO2(v8)', 'CO2(v8)', 'CO2(v9)', 'CO2(v9)', 'CO2(v9)', 'CO2(v10)', 'CO2(v10)', 'CO2(v10)', 'CO2(v11)', 'CO2(v11)',\n",
       "       'CO2(v11)', 'CO2(v12)', 'CO2(v12)', 'CO2(v12)', 'CO2(v13)', 'CO2(v13)', 'CO2(v13)', 'CO2(v14)', 'CO2(v14)', 'CO2(v14)',\n",
       "       'CO2(v15)', 'CO2(v15)', 'CO2(v15)', 'CO2(v16)', 'CO2(v16)', 'CO2(v16)', 'CO2(v17)', 'CO2(v17)', 'CO2(v17)', 'CO2(v18)',\n",
       "       'CO2(v18)', 'CO2(v18)', 'CO2(v19)', 'CO2(v19)', 'CO2(v20)', 'CO2(v1)', 'CO2(v2)', 'CO2(v2)', 'CO2(v3)', 'CO2(v3)',\n",
       "       'CO2(v3)', 'CO2(v4)', 'CO2(v4)', 'CO2(v4)', 'CO2(v5)', 'CO2(v5)', 'CO2(v5)', 'CO2(v6)', 'CO2(v6)', 'CO2(v6)', 'CO2(v7)',\n",
       "       'CO2(v7)', 'CO2(v7)', 'CO2(v8)', 'CO2(v8)', 'CO2(v8)', 'CO2(v9)', 'CO2(v9)', 'CO2(v9)', 'CO2(v10)', 'CO2(v10)',\n",
       "       'CO2(v10)', 'CO2(v11)', 'CO2(v11)', 'CO2(v11)', 'CO2(v12)', 'CO2(v12)', 'CO2(v12)', 'CO2(v13)', 'CO2(v13)', 'CO2(v13)',\n",
       "       'CO2(v14)', 'CO2(v14)', 'CO2(v14)', 'CO2(v15)', 'CO2(v15)', 'CO2(v15)', 'CO2(v16)', 'CO2(v16)', 'CO2(v16)', 'CO2(v17)',\n",
       "       'CO2(v17)', 'CO2(v17)', 'CO2(v18)', 'CO2(v18)', 'CO2(v18)', 'CO2(v19)', 'CO2(v19)', 'CO2(v19)', 'CO2(v20)', 'CO2(v20)',\n",
       "       'CO2(v20)', 'CO2(v21)', 'CO2(v21)', 'CO2(v21)', 'CO2', 'CO2', 'CO2', 'CO2', 'CO2(va)', 'CO2(va)', 'CO2(va)', 'CO2(vb)',\n",
       "       'CO2(vb)', 'CO2(vc)', 'CO2(vd)', 'CO2(vd)', 'CO2(vd)', 'CO2(vd)', 'CO2(vc)', 'CO2(vc)', 'CO2(vc)', 'CO2(vb)', 'CO2(vb)',\n",
       "       'CO2(va)', 'CO2(va)', 'CO2(va)', 'CO2(va)', 'CO2(va)', 'CO2(va)', 'CO2(va)', 'CO2(va)', 'CO2(va)', 'CO2(va)', 'CO2(va)',\n",
       "       'CO2(va)', 'CO2(va)', 'CO2(va)', 'CO2(va)', 'CO2(va)', 'CO2(va)', 'CO2(va)', 'CO2(va)', 'CO2(va)', 'CO2(va)', 'CO2(va)',\n",
       "       'CO2(v1)', 'CO2(v2)', 'CO2(v3)', 'CO2(v4)', 'CO2(v5)', 'CO2(v6)', 'CO2(v7)', 'CO2(v8)', 'CO2(v9)', 'CO2(v10)', 'CO2(v11)',\n",
       "       'CO2(v12)', 'CO2(v13)', 'CO2(v14)', 'CO2(v15)', 'CO2(v16)', 'CO2(v17)', 'CO2(v18)', 'CO2(v19)', 'CO2(v20)', 'CO2(v21)',\n",
       "       'CO2(vb)', 'CO2(vb)', 'CO2(vb)', 'CO2(vb)', 'CO2(vb)', 'CO2(vb)', 'CO2(vb)', 'CO2(vb)', 'CO2(vb)', 'CO2(vb)', 'CO2(vb)',\n",
       "       'CO2(vb)', 'CO2(vb)', 'CO2(vb)', 'CO2(vb)', 'CO2(vb)', 'CO2(vb)', 'CO2(vb)', 'CO2(vb)', 'CO2(vb)', 'CO2(vb)', 'CO2(v1)',\n",
       "       'CO2(v2)', 'CO2(v3)', 'CO2(v4)', 'CO2(v5)', 'CO2(v6)', 'CO2(v7)', 'CO2(v8)', 'CO2(v9)', 'CO2(v10)', 'CO2(v11)',\n",
       "       'CO2(v12)', 'CO2(v13)', 'CO2(v14)', 'CO2(v15)', 'CO2(v16)', 'CO2(v17)', 'CO2(v18)', 'CO2(v19)', 'CO2(v20)', 'CO2(v21)',\n",
       "       'CO2(vc)', 'CO2(vc)', 'CO2(vc)', 'CO2(vc)', 'CO2(vc)', 'CO2(vc)', 'CO2(vc)', 'CO2(vc)', 'CO2(vc)', 'CO2(vc)', 'CO2(vc)',\n",
       "       'CO2(vc)', 'CO2(vc)', 'CO2(vc)', 'CO2(vc)', 'CO2(vc)', 'CO2(vc)', 'CO2(vc)', 'CO2(vc)', 'CO2(vc)', 'CO2(vc)', 'CO2(v1)',\n",
       "       'CO2(v2)', 'CO2(v3)', 'CO2(v4)', 'CO2(v5)', 'CO2(v6)', 'CO2(v7)', 'CO2(v8)', 'CO2(v9)', 'CO2(v10)', 'CO2(v11)',\n",
       "       'CO2(v12)', 'CO2(v13)', 'CO2(v14)', 'CO2(v15)', 'CO2(v16)', 'CO2(v17)', 'CO2(v18)', 'CO2(v19)', 'CO2(v20)', 'CO2(v21)',\n",
       "       'CO2(vd)', 'CO2(vd)', 'CO2(vd)', 'CO2(vd)', 'CO2(vd)', 'CO2(vd)', 'CO2(vd)', 'CO2(vd)', 'CO2(vd)', 'CO2(vd)', 'CO2(vd)',\n",
       "       'CO2(vd)', 'CO2(vd)', 'CO2(vd)', 'CO2(vd)', 'CO2(vd)', 'CO2(vd)', 'CO2(vd)', 'CO2(vd)', 'CO2(vd)', 'CO2(v2)', 'CO2(v3)',\n",
       "       'CO2(v4)', 'CO2(v5)', 'CO2(v6)', 'CO2(v7)', 'CO2(v8)', 'CO2(v9)', 'CO2(v10)', 'CO2(v11)', 'CO2(v12)', 'CO2(v13)',\n",
       "       'CO2(v14)', 'CO2(v15)', 'CO2(v16)', 'CO2(v17)', 'CO2(v18)', 'CO2(v19)', 'CO2(v20)', 'CO2(v21)', 'CO2', 'CO2(va)',\n",
       "       'CO2(vb)', 'CO2(vc)', 'CO2(vd)', 'CO2(v1)', 'CO2(v2)', 'CO2(v3)', 'CO2(v4)', 'CO2(v5)', 'CO2(v6)', 'CO2(v7)', 'CO2(v8)',\n",
       "       'CO2(v9)', 'CO2(v10)', 'CO2(v11)', 'CO2(v12)', 'CO2(v13)', 'CO2(v14)', 'CO2(v15)', 'CO2(v16)', 'CO2(v17)', 'CO2(v18)',\n",
       "       'CO2(v19)', 'CO2(v20)', 'CO2(v21)', 'CO', 'CO', 'CO', 'CO(v1)', 'CO(v1)', 'CO(v1)', 'CO(v2)', 'CO(v2)', 'CO(v2)',\n",
       "       'CO(v3)', 'CO(v3)', 'CO(v3)', 'CO(v4)', 'CO(v4)', 'CO(v4)', 'CO(v5)', 'CO(v5)', 'CO(v5)', 'CO(v6)', 'CO(v6)', 'CO(v6)',\n",
       "       'CO(v7)', 'CO(v7)', 'CO(v7)', 'CO(v8)', 'CO(v8)', 'CO(v9)', 'CO(v1)', 'CO(v2)', 'CO(v2)', 'CO(v3)', 'CO(v3)', 'CO(v3)',\n",
       "       'CO(v4)', 'CO(v4)', 'CO(v4)', 'CO(v5)', 'CO(v5)', 'CO(v5)', 'CO(v6)', 'CO(v6)', 'CO(v6)', 'CO(v7)', 'CO(v7)', 'CO(v7)',\n",
       "       'CO(v8)', 'CO(v8)', 'CO(v8)', 'CO(v9)', 'CO(v9)', 'CO(v9)', 'CO(v10)', 'CO(v10)', 'CO(v10)', 'CO', 'CO(v1)', 'CO(v2)',\n",
       "       'CO(v3)', 'CO(v4)', 'CO(v5)', 'CO(v6)', 'CO(v7)', 'CO(v8)', 'CO(v9)', 'CO(v10)'], dtype=object)"
      ]
     },
     "execution_count": 28,
     "metadata": {},
     "output_type": "execute_result"
    }
   ],
   "source": [
    "eedf.bg_molecule_inelas_in_order"
   ]
  },
  {
   "cell_type": "code",
   "execution_count": 50,
   "metadata": {},
   "outputs": [
    {
     "data": {
      "text/plain": [
       "<matplotlib.lines.Line2D at 0x1fcbafb9dc8>"
      ]
     },
     "execution_count": 50,
     "metadata": {},
     "output_type": "execute_result"
    },
    {
     "data": {
      "image/png": "[encoded data removed]",
      "text/plain": [
       "<Figure size 864x648 with 1 Axes>"
      ]
     },
     "metadata": {
      "needs_background": "light"
     },
     "output_type": "display_data"
    }
   ],
   "source": [
    "plt.spy(eedf.rate_const_matrix_e_inelas_electron, markersize=2)"
   ]
  },
  {
   "cell_type": "code",
   "execution_count": 30,
   "metadata": {},
   "outputs": [
    {
     "data": {
      "text/plain": [
       "array([[0.0e+00, 0.0e+00, 0.0e+00, 0.0e+00, 0.0e+00, ..., 5.4e-36, 5.4e-36, 5.4e-36, 5.4e-36, 5.3e-36],\n",
       "       [0.0e+00, 0.0e+00, 0.0e+00, 0.0e+00, 0.0e+00, ..., 3.1e-37, 3.1e-37, 3.1e-37, 3.1e-37, 3.1e-37],\n",
       "       [0.0e+00, 0.0e+00, 0.0e+00, 0.0e+00, 0.0e+00, ..., 4.0e-38, 4.0e-38, 4.0e-38, 4.0e-38, 4.0e-38],\n",
       "       [0.0e+00, 0.0e+00, 0.0e+00, 0.0e+00, 1.1e-49, ..., 8.9e-36, 8.9e-36, 8.9e-36, 8.8e-36, 8.8e-36],\n",
       "       [0.0e+00, 0.0e+00, 0.0e+00, 0.0e+00, 0.0e+00, ..., 5.1e-37, 5.1e-37, 5.1e-37, 5.1e-37, 5.0e-37],\n",
       "       ...,\n",
       "       [0.0e+00, 0.0e+00, 0.0e+00, 0.0e+00, 0.0e+00, ..., 5.0e-34, 5.1e-34, 5.1e-34, 5.1e-34, 5.1e-34],\n",
       "       [0.0e+00, 0.0e+00, 0.0e+00, 0.0e+00, 0.0e+00, ..., 5.0e-34, 5.1e-34, 5.1e-34, 5.1e-34, 5.1e-34],\n",
       "       [0.0e+00, 0.0e+00, 0.0e+00, 0.0e+00, 0.0e+00, ..., 5.0e-34, 5.0e-34, 5.1e-34, 5.1e-34, 5.1e-34],\n",
       "       [0.0e+00, 0.0e+00, 0.0e+00, 0.0e+00, 0.0e+00, ..., 5.0e-34, 5.0e-34, 5.1e-34, 5.1e-34, 5.1e-34],\n",
       "       [0.0e+00, 0.0e+00, 0.0e+00, 0.0e+00, 0.0e+00, ..., 5.0e-34, 5.0e-34, 5.1e-34, 5.1e-34, 5.1e-34]])"
      ]
     },
     "execution_count": 30,
     "metadata": {},
     "output_type": "execute_result"
    }
   ],
   "source": [
    "eedf.rate_const_matrix_e_inelas_molecule"
   ]
  },
  {
   "cell_type": "code",
   "execution_count": 31,
   "metadata": {},
   "outputs": [
    {
     "data": {
      "text/plain": [
       "7.242973087680333e+24"
      ]
     },
     "execution_count": 31,
     "metadata": {},
     "output_type": "execute_result"
    }
   ],
   "source": [
    "N = get_ideal_gas_density(p_Pa=1e5, Tgas_K=1000)\n",
    "N"
   ]
  },
  {
   "cell_type": "markdown",
   "metadata": {},
   "source": [
    "# Set parameters"
   ]
  },
  {
   "cell_type": "code",
   "execution_count": 32,
   "metadata": {},
   "outputs": [],
   "source": [
    "eedf.set_parameters(E=1e6, Tgas=1000, N=N)"
   ]
  },
  {
   "cell_type": "markdown",
   "metadata": {},
   "source": [
    "# Evolve"
   ]
  },
  {
   "cell_type": "code",
   "execution_count": 37,
   "metadata": {},
   "outputs": [],
   "source": [
    "total_species_density = np.ones(len(species))\n",
    "# total_species_density = np.array([0,1,0,0,0])*N\n",
    "def dndt_all(t, y):\n",
    "    eedf.set_density_per_J(y)\n",
    "    eedf.set_flux(total_species_density=total_species_density)\n",
    "    return eedf.get_deriv_total(total_species_density=total_species_density) "
   ]
  },
  {
   "cell_type": "code",
   "execution_count": 38,
   "metadata": {},
   "outputs": [],
   "source": [
    "y0 = get_maxwell_eedf(eedf.energy_point, Te_eV=0.7)*1e17\n",
    "time_span = [0, 1e3]\n",
    "sol = solve_ivp(dndt_all, time_span, y0, method=\"BDF\", rtol=5e-2)"
   ]
  },
  {
   "cell_type": "code",
   "execution_count": 39,
   "metadata": {},
   "outputs": [
    {
     "data": {
      "text/plain": [
       "array([0.0e+00, 4.1e-16, 8.2e-16, 4.9e-15, 9.0e-15, 4.2e-14, 7.4e-14, 1.4e-13, 2.1e-13, 2.8e-13, 4.0e-13, 5.2e-13, 6.3e-13,\n",
       "       7.5e-13, 9.1e-13, 1.1e-12, 1.2e-12, 1.4e-12, 1.6e-12, 1.8e-12, 2.0e-12, 2.2e-12, 2.5e-12, 2.7e-12, 3.0e-12, 3.3e-12,\n",
       "       3.6e-12, 3.9e-12, 4.2e-12, 4.6e-12, 5.0e-12, 5.4e-12, 5.8e-12, 6.2e-12, 6.7e-12, 7.3e-12, 7.8e-12, 8.3e-12, 9.0e-12,\n",
       "       9.7e-12, 1.0e-11, 1.1e-11, 1.2e-11, 1.3e-11, 1.4e-11, 1.5e-11, 1.6e-11, 1.8e-11, 1.9e-11, 2.1e-11, 2.2e-11, 2.4e-11,\n",
       "       2.8e-11, 3.1e-11, 3.5e-11, 3.8e-11, 4.2e-11, 4.5e-11, 5.4e-11, 6.3e-11, 7.3e-11, 8.2e-11, 9.1e-11, 1.2e-10, 1.4e-10,\n",
       "       1.7e-10, 1.9e-10, 2.5e-10, 3.1e-10, 3.7e-10, 4.6e-10, 5.5e-10, 6.4e-10, 7.4e-10, 1.4e-09, 2.0e-09, 2.6e-09, 5.1e-09,\n",
       "       7.6e-09, 3.3e-08, 5.8e-08, 3.1e-07, 5.6e-07, 3.1e-06, 5.6e-06, 3.1e-05, 5.6e-05, 3.1e-04, 5.6e-04, 8.7e-04, 9.1e-04,\n",
       "       9.5e-04, 1.3e-03, 1.5e-03, 1.7e-03, 3.7e-03, 5.7e-03, 2.5e-02, 4.5e-02, 2.4e-01, 3.4e-01, 3.9e-01, 4.4e-01, 5.6e-01,\n",
       "       6.2e-01, 6.8e-01, 1.3e+00, 1.9e+00, 5.0e+00, 8.0e+00, 3.9e+01, 6.9e+01, 1.5e+02, 1.8e+02, 2.2e+02, 6.1e+02, 8.0e+02,\n",
       "       9.9e+02, 1.0e+03])"
      ]
     },
     "execution_count": 39,
     "metadata": {},
     "output_type": "execute_result"
    }
   ],
   "source": [
    "sol.t"
   ]
  },
  {
   "cell_type": "code",
   "execution_count": 40,
   "metadata": {},
   "outputs": [
    {
     "data": {
      "text/plain": [
       "119"
      ]
     },
     "execution_count": 40,
     "metadata": {},
     "output_type": "execute_result"
    }
   ],
   "source": [
    "len(sol.t)"
   ]
  },
  {
   "cell_type": "code",
   "execution_count": 41,
   "metadata": {
    "cell_style": "center"
   },
   "outputs": [
    {
     "data": {
      "text/plain": [
       "[<matplotlib.lines.Line2D at 0x1fcaedca908>,\n",
       " <matplotlib.lines.Line2D at 0x1fcb1510e48>,\n",
       " <matplotlib.lines.Line2D at 0x1fcb1515048>]"
      ]
     },
     "execution_count": 41,
     "metadata": {},
     "output_type": "execute_result"
    },
    {
     "data": {
      "image/png": "[encoded data removed]",
      "text/plain": [
       "<Figure size 864x648 with 1 Axes>"
      ]
     },
     "metadata": {
      "needs_background": "light"
     },
     "output_type": "display_data"
    }
   ],
   "source": [
    "plt.semilogy(eedf.energy_point_eV, (sol.y.transpose()/np.sqrt(eedf.energy_point)).transpose()[:,::50])"
   ]
  },
  {
   "cell_type": "code",
   "execution_count": 42,
   "metadata": {
    "cell_style": "split"
   },
   "outputs": [
    {
     "data": {
      "image/png": "[encoded data removed]",
      "text/plain": [
       "<Figure size 864x648 with 1 Axes>"
      ]
     },
     "metadata": {
      "needs_background": "light"
     },
     "output_type": "display_data"
    }
   ],
   "source": [
    "eedf.set_density_per_J(sol.y[:,0])\n",
    "eedf.plot_normalized_eepf()"
   ]
  },
  {
   "cell_type": "code",
   "execution_count": 43,
   "metadata": {
    "cell_style": "split"
   },
   "outputs": [
    {
     "data": {
      "image/png": "[encoded data removed]",
      "text/plain": [
       "<Figure size 864x648 with 1 Axes>"
      ]
     },
     "metadata": {
      "needs_background": "light"
     },
     "output_type": "display_data"
    }
   ],
   "source": [
    "eedf.plot_normalized_eedf()"
   ]
  },
  {
   "cell_type": "code",
   "execution_count": 44,
   "metadata": {},
   "outputs": [
    {
     "data": {
      "image/png": "[encoded data removed]",
      "text/plain": [
       "<Figure size 864x648 with 1 Axes>"
      ]
     },
     "metadata": {
      "needs_background": "light"
     },
     "output_type": "display_data"
    }
   ],
   "source": [
    "eedf.set_density_per_J(sol.y[:,-1])\n",
    "eedf.plot_normalized_eepf(xlim=(0,12), ylim=(1e-12, 1e1))"
   ]
  },
  {
   "cell_type": "code",
   "execution_count": 45,
   "metadata": {},
   "outputs": [
    {
     "name": "stdout",
     "output_type": "stream",
     "text": [
      "\n",
      "        \n",
      " ===============\n",
      "        \n",
      "               ENERGY SPACE (eV) : (0.0, 50.0)\n",
      "        \n",
      "     NUMBER OF DISCRETIZED CELLS : 500 cells\n",
      "        \n",
      "            ENERGY INTERVAL (eV) : 0.100 \n",
      "        \n",
      " ===============\n",
      "        \n",
      "            ELECTRON TEMPERATURE : 19.9183 eV\n",
      "        \n",
      "            ELECTRON MEAN ENERGY : 29.8775 eV\n",
      "        \n",
      "                ELECTRON DENSITY : 1.00e+17 m^-3\n",
      "        \n",
      " ===============\n",
      "        \n",
      "              ELECTRIC FIELD (E) : 1000000 V/m (10.00 kV/cm) \n",
      "        \n",
      "          GAS TEMPERATURE (Tgas) : 1000 K\n",
      "        \n",
      " BACKGROUND MOLECULE DENSITY (N) : 7.2e+24 m^-3\n",
      "        \n",
      "    REDUCED ELECTRIC FIELD (E/N) : 138.1 Td\n",
      "        \n",
      " ===============\n",
      "        \n",
      "     ELASTIC COLLISION MOLECULES : ['H2', 'CO2', 'CO', 'O2', 'H2O']\n",
      "        \n",
      "   INELASTIC COLLISION MOLECULES : ['CO' 'CO(v1)' 'CO(v10)' 'CO(v2)' 'CO(v3)' 'CO(v4)' 'CO(v5)' 'CO(v6)' 'CO(v7)' 'CO(v8)' 'CO(v9)' 'CO2' 'CO2(v1)' 'CO2(v10)'\n",
      " 'CO2(v11)' 'CO2(v12)' 'CO2(v13)' 'CO2(v14)' 'CO2(v15)' 'CO2(v16)' 'CO2(v17)' 'CO2(v18)' 'CO2(v19)' 'CO2(v2)' 'CO2(v20)'\n",
      " 'CO2(v21)' 'CO2(v3)' 'CO2(v4)' 'CO2(v5)' 'CO2(v6)' 'CO2(v7)' 'CO2(v8)' 'CO2(v9)' 'CO2(va)' 'CO2(vb)' 'CO2(vc)' 'CO2(vd)' 'H2'\n",
      " 'H2(v1)' 'H2(v10)' 'H2(v11)' 'H2(v12)' 'H2(v13)' 'H2(v14)' 'H2(v2)' 'H2(v3)' 'H2(v4)' 'H2(v5)' 'H2(v6)' 'H2(v7)' 'H2(v8)'\n",
      " 'H2(v9)']\n",
      "        \n"
     ]
    }
   ],
   "source": [
    "print(eedf)"
   ]
  },
  {
   "cell_type": "code",
   "execution_count": 46,
   "metadata": {},
   "outputs": [
    {
     "data": {
      "text/plain": [
       "array([1.0e-15, 6.1e-17, 8.1e-18, 1.7e-15, 1.0e-16, 1.3e-17, 2.5e-15, 1.4e-16, 1.9e-17, 3.5e-15, 2.0e-16, 2.7e-17, 5.0e-15,\n",
       "       2.9e-16, 3.8e-17, 7.1e-15, 4.1e-16, 5.4e-17, 9.9e-15, 5.7e-16, 7.5e-17, 1.4e-14, 7.9e-16, 1.0e-16, 1.9e-14, 1.1e-15,\n",
       "       1.4e-16, 2.5e-14, 1.4e-15, 1.8e-16, 3.2e-14, 1.9e-15, 2.4e-16, 4.2e-14, 2.4e-15, 3.1e-16, 5.2e-14, 3.0e-15, 6.5e-14,\n",
       "       1.0e-15, 6.1e-17, 1.7e-15, 8.1e-18, 1.0e-16, 2.5e-15, 1.3e-17, 1.4e-16, 3.5e-15, 1.9e-17, 2.0e-16, 5.0e-15, 2.7e-17,\n",
       "       2.9e-16, 7.1e-15, 3.8e-17, 4.1e-16, 9.9e-15, 5.4e-17, 5.7e-16, 1.4e-14, 7.5e-17, 7.9e-16, 1.9e-14, 1.0e-16, 1.1e-15,\n",
       "       2.5e-14, 1.4e-16, 1.4e-15, 3.2e-14, 1.8e-16, 1.9e-15, 4.2e-14, 2.4e-16, 2.4e-15, 5.2e-14, 3.1e-16, 3.0e-15, 6.5e-14,\n",
       "       4.1e-15, 4.3e-15, 4.5e-15, 4.6e-15, 4.8e-15, 5.0e-15, 5.1e-15, 5.3e-15, 5.4e-15, 5.5e-15, 5.6e-15, 5.7e-15, 5.8e-15,\n",
       "       5.7e-15, 3.9e-15, 2.4e-15, 1.5e-15, 3.9e-15, 2.4e-15, 1.5e-15, 3.9e-15, 2.4e-15, 1.5e-15, 3.9e-15, 2.4e-15, 1.5e-15,\n",
       "       3.9e-15, 2.4e-15, 1.5e-15, 3.9e-15, 2.4e-15, 1.5e-15, 3.9e-15, 2.4e-15, 1.5e-15, 3.9e-15, 2.4e-15, 1.5e-15, 3.9e-15,\n",
       "       2.4e-15, 1.5e-15, 3.9e-15, 2.4e-15, 1.5e-15, 3.9e-15, 2.4e-15, 1.5e-15, 3.9e-15, 2.4e-15, 1.5e-15, 3.9e-15, 2.4e-15,\n",
       "       1.5e-15, 3.9e-15, 2.4e-15, 1.5e-15, 3.9e-15, 2.4e-15, 1.5e-15, 3.9e-15, 2.4e-15, 1.5e-15, 3.9e-15, 2.4e-15, 1.5e-15,\n",
       "       3.9e-15, 2.4e-15, 1.5e-15, 3.9e-15, 2.4e-15, 1.5e-15, 3.9e-15, 2.4e-15, 3.9e-15, 3.9e-15, 2.4e-15, 3.9e-15, 1.5e-15,\n",
       "       2.4e-15, 3.9e-15, 1.5e-15, 2.4e-15, 3.9e-15, 1.5e-15, 2.4e-15, 3.9e-15, 1.5e-15, 2.4e-15, 3.9e-15, 1.5e-15, 2.4e-15,\n",
       "       3.9e-15, 1.5e-15, 2.4e-15, 3.9e-15, 1.5e-15, 2.4e-15, 3.9e-15, 1.5e-15, 2.4e-15, 3.9e-15, 1.5e-15, 2.4e-15, 3.9e-15,\n",
       "       1.5e-15, 2.4e-15, 3.9e-15, 1.5e-15, 2.4e-15, 3.9e-15, 1.5e-15, 2.4e-15, 3.9e-15, 1.5e-15, 2.4e-15, 3.9e-15, 1.5e-15,\n",
       "       2.4e-15, 3.9e-15, 1.5e-15, 2.4e-15, 3.9e-15, 1.5e-15, 2.4e-15, 3.9e-15, 1.5e-15, 2.4e-15, 3.9e-15, 1.5e-15, 2.4e-15,\n",
       "       3.9e-15, 1.5e-15, 2.4e-15, 3.9e-15, 1.1e-15, 8.8e-16, 7.0e-17, 8.4e-17, 5.6e-15, 4.9e-15, 4.2e-15, 5.6e-15, 4.9e-15,\n",
       "       5.6e-15, 2.8e-15, 2.4e-15, 7.0e-16, 1.4e-17, 5.6e-15, 1.6e-15, 2.4e-17, 1.9e-15, 2.9e-16, 1.1e-15, 1.7e-15, 1.0e-15,\n",
       "       6.2e-16, 3.8e-16, 2.4e-16, 1.4e-16, 8.9e-17, 5.4e-17, 3.3e-17, 2.0e-17, 1.2e-17, 7.7e-18, 4.7e-18, 2.9e-18, 1.8e-18,\n",
       "       1.1e-18, 6.6e-19, 4.0e-19, 2.5e-19, 1.5e-19, 9.2e-20, 1.6e-15, 1.0e-15, 6.2e-16, 3.8e-16, 2.3e-16, 1.4e-16, 8.9e-17,\n",
       "       5.4e-17, 3.3e-17, 2.0e-17, 1.2e-17, 7.6e-18, 4.7e-18, 2.9e-18, 1.8e-18, 1.1e-18, 6.6e-19, 4.0e-19, 2.5e-19, 1.5e-19,\n",
       "       9.2e-20, 1.9e-15, 1.2e-15, 7.1e-16, 4.4e-16, 2.7e-16, 1.7e-16, 1.0e-16, 6.2e-17, 3.8e-17, 2.3e-17, 1.4e-17, 8.8e-18,\n",
       "       5.4e-18, 3.3e-18, 2.0e-18, 1.2e-18, 7.5e-19, 4.6e-19, 2.8e-19, 1.7e-19, 1.1e-19, 5.7e-15, 3.5e-15, 2.1e-15, 1.3e-15,\n",
       "       8.1e-16, 5.0e-16, 3.0e-16, 1.9e-16, 1.1e-16, 7.0e-17, 4.3e-17, 2.6e-17, 1.6e-17, 9.9e-18, 6.1e-18, 3.7e-18, 2.3e-18,\n",
       "       1.4e-18, 8.5e-19, 5.2e-19, 3.2e-19, 2.2e-15, 1.3e-15, 8.2e-16, 5.0e-16, 3.1e-16, 1.9e-16, 1.2e-16, 7.1e-17, 4.4e-17,\n",
       "       2.7e-17, 1.6e-17, 1.0e-17, 6.2e-18, 3.8e-18, 2.3e-18, 1.4e-18, 8.7e-19, 5.3e-19, 3.2e-19, 2.0e-19, 1.2e-19, 6.5e-15,\n",
       "       4.0e-15, 2.5e-15, 1.5e-15, 9.3e-16, 5.7e-16, 3.5e-16, 2.1e-16, 1.3e-16, 8.0e-17, 4.9e-17, 3.0e-17, 1.9e-17, 1.1e-17,\n",
       "       6.9e-18, 4.2e-18, 2.6e-18, 1.6e-18, 9.7e-19, 5.9e-19, 3.6e-19, 1.5e-15, 9.4e-16, 5.8e-16, 3.5e-16, 2.2e-16, 1.3e-16,\n",
       "       8.2e-17, 5.0e-17, 3.1e-17, 1.9e-17, 1.2e-17, 7.1e-18, 4.3e-18, 2.7e-18, 1.6e-18, 9.9e-19, 6.1e-19, 3.7e-19, 2.3e-19,\n",
       "       1.4e-19, 9.2e-15, 5.6e-15, 3.5e-15, 2.1e-15, 1.3e-15, 8.0e-16, 4.9e-16, 3.0e-16, 1.8e-16, 1.1e-16, 6.9e-17, 4.2e-17,\n",
       "       2.6e-17, 1.6e-17, 9.7e-18, 6.0e-18, 3.6e-18, 2.2e-18, 1.4e-18, 8.3e-19, 3.0e-16, 3.0e-16, 3.0e-16, 3.0e-16, 2.9e-16,\n",
       "       2.9e-16, 2.8e-16, 2.7e-16, 2.6e-16, 2.5e-16, 2.4e-16, 2.3e-16, 2.2e-16, 2.2e-16, 2.1e-16, 2.0e-16, 1.9e-16, 1.8e-16,\n",
       "       1.7e-16, 1.6e-16, 1.5e-16, 1.4e-16, 1.3e-16, 1.3e-16, 1.2e-16, 1.1e-16, 4.5e-16, 2.8e-16, 1.7e-16, 4.5e-16, 2.8e-16,\n",
       "       1.7e-16, 4.5e-16, 2.7e-16, 1.7e-16, 4.4e-16, 2.7e-16, 1.7e-16, 4.4e-16, 2.7e-16, 1.7e-16, 4.4e-16, 2.7e-16, 1.6e-16,\n",
       "       4.4e-16, 2.7e-16, 1.6e-16, 4.4e-16, 2.7e-16, 1.6e-16, 4.4e-16, 2.7e-16, 4.4e-16, 4.5e-16, 2.8e-16, 4.5e-16, 1.7e-16,\n",
       "       2.8e-16, 4.5e-16, 1.7e-16, 2.7e-16, 4.4e-16, 1.7e-16, 2.7e-16, 4.4e-16, 1.7e-16, 2.7e-16, 4.4e-16, 1.7e-16, 2.7e-16,\n",
       "       4.4e-16, 1.6e-16, 2.7e-16, 4.4e-16, 1.6e-16, 2.7e-16, 4.4e-16, 1.6e-16, 2.7e-16, 4.4e-16, 1.9e-14, 1.9e-14, 1.9e-14,\n",
       "       1.9e-14, 1.9e-14, 1.9e-14, 1.9e-14, 2.0e-14, 2.0e-14, 2.0e-14, 2.0e-14])"
      ]
     },
     "execution_count": 46,
     "metadata": {},
     "output_type": "execute_result"
    }
   ],
   "source": [
    "eedf._get_molecule_rate_const_e_inelas()"
   ]
  },
  {
   "cell_type": "code",
   "execution_count": 47,
   "metadata": {},
   "outputs": [
    {
     "data": {
      "text/plain": [
       "[Text(0, 0, 'E + H2 => E + H2(v1)'),\n",
       " Text(0, 0, 'E + H2 => E + H2(v2)'),\n",
       " Text(0, 0, 'E + H2 => E + H2(v3)'),\n",
       " Text(0, 0, 'E + H2(v1) => E + H2(v2)'),\n",
       " Text(0, 0, 'E + H2(v1) => E + H2(v3)'),\n",
       " Text(0, 0, 'E + H2(v1) => E + H2(v4)'),\n",
       " Text(0, 0, 'E + H2(v2) => E + H2(v3)'),\n",
       " Text(0, 0, 'E + H2(v2) => E + H2(v4)'),\n",
       " Text(0, 0, 'E + H2(v2) => E + H2(v5)'),\n",
       " Text(0, 0, 'E + H2(v3) => E + H2(v4)'),\n",
       " Text(0, 0, 'E + H2(v3) => E + H2(v5)'),\n",
       " Text(0, 0, 'E + H2(v3) => E + H2(v6)'),\n",
       " Text(0, 0, 'E + H2(v4) => E + H2(v5)'),\n",
       " Text(0, 0, 'E + H2(v4) => E + H2(v6)'),\n",
       " Text(0, 0, 'E + H2(v4) => E + H2(v7)'),\n",
       " Text(0, 0, 'E + H2(v5) => E + H2(v6)'),\n",
       " Text(0, 0, 'E + H2(v5) => E + H2(v7)'),\n",
       " Text(0, 0, 'E + H2(v5) => E + H2(v8)'),\n",
       " Text(0, 0, 'E + H2(v6) => E + H2(v7)'),\n",
       " Text(0, 0, 'E + H2(v6) => E + H2(v8)'),\n",
       " Text(0, 0, 'E + H2(v6) => E + H2(v9)'),\n",
       " Text(0, 0, 'E + H2(v7) => E + H2(v8)'),\n",
       " Text(0, 0, 'E + H2(v7) => E + H2(v9)'),\n",
       " Text(0, 0, 'E + H2(v7) => E + H2(v10)'),\n",
       " Text(0, 0, 'E + H2(v8) => E + H2(v9)'),\n",
       " Text(0, 0, 'E + H2(v8) => E + H2(v10)'),\n",
       " Text(0, 0, 'E + H2(v8) => E + H2(v11)'),\n",
       " Text(0, 0, 'E + H2(v9) => E + H2(v10)'),\n",
       " Text(0, 0, 'E + H2(v9) => E + H2(v11)'),\n",
       " Text(0, 0, 'E + H2(v9) => E + H2(v12)'),\n",
       " Text(0, 0, 'E + H2(v10) => E + H2(v11)'),\n",
       " Text(0, 0, 'E + H2(v10) => E + H2(v12)'),\n",
       " Text(0, 0, 'E + H2(v10) => E + H2(v13)'),\n",
       " Text(0, 0, 'E + H2(v11) => E + H2(v12)'),\n",
       " Text(0, 0, 'E + H2(v11) => E + H2(v13)'),\n",
       " Text(0, 0, 'E + H2(v11) => E + H2(v14)'),\n",
       " Text(0, 0, 'E + H2(v12) => E + H2(v13)'),\n",
       " Text(0, 0, 'E + H2(v12) => E + H2(v14)'),\n",
       " Text(0, 0, 'E + H2(v13) => E + H2(v14)'),\n",
       " Text(0, 0, 'E + H2(v1) => E + H2'),\n",
       " Text(0, 0, 'E + H2(v2) => E + H2'),\n",
       " Text(0, 0, 'E + H2(v2) => E + H2(v1)'),\n",
       " Text(0, 0, 'E + H2(v3) => E + H2'),\n",
       " Text(0, 0, 'E + H2(v3) => E + H2(v1)'),\n",
       " Text(0, 0, 'E + H2(v3) => E + H2(v2)'),\n",
       " Text(0, 0, 'E + H2(v4) => E + H2(v1)'),\n",
       " Text(0, 0, 'E + H2(v4) => E + H2(v2)'),\n",
       " Text(0, 0, 'E + H2(v4) => E + H2(v3)'),\n",
       " Text(0, 0, 'E + H2(v5) => E + H2(v2)'),\n",
       " Text(0, 0, 'E + H2(v5) => E + H2(v3)'),\n",
       " Text(0, 0, 'E + H2(v5) => E + H2(v4)'),\n",
       " Text(0, 0, 'E + H2(v6) => E + H2(v3)'),\n",
       " Text(0, 0, 'E + H2(v6) => E + H2(v4)'),\n",
       " Text(0, 0, 'E + H2(v6) => E + H2(v5)'),\n",
       " Text(0, 0, 'E + H2(v7) => E + H2(v4)'),\n",
       " Text(0, 0, 'E + H2(v7) => E + H2(v5)'),\n",
       " Text(0, 0, 'E + H2(v7) => E + H2(v6)'),\n",
       " Text(0, 0, 'E + H2(v8) => E + H2(v5)'),\n",
       " Text(0, 0, 'E + H2(v8) => E + H2(v6)'),\n",
       " Text(0, 0, 'E + H2(v8) => E + H2(v7)'),\n",
       " Text(0, 0, 'E + H2(v9) => E + H2(v6)'),\n",
       " Text(0, 0, 'E + H2(v9) => E + H2(v7)'),\n",
       " Text(0, 0, 'E + H2(v9) => E + H2(v8)'),\n",
       " Text(0, 0, 'E + H2(v10) => E + H2(v7)'),\n",
       " Text(0, 0, 'E + H2(v10) => E + H2(v8)'),\n",
       " Text(0, 0, 'E + H2(v10) => E + H2(v9)'),\n",
       " Text(0, 0, 'E + H2(v11) => E + H2(v8)'),\n",
       " Text(0, 0, 'E + H2(v11) => E + H2(v9)'),\n",
       " Text(0, 0, 'E + H2(v11) => E + H2(v10)'),\n",
       " Text(0, 0, 'E + H2(v12) => E + H2(v9)'),\n",
       " Text(0, 0, 'E + H2(v12) => E + H2(v10)'),\n",
       " Text(0, 0, 'E + H2(v12) => E + H2(v11)'),\n",
       " Text(0, 0, 'E + H2(v13) => E + H2(v10)'),\n",
       " Text(0, 0, 'E + H2(v13) => E + H2(v11)'),\n",
       " Text(0, 0, 'E + H2(v13) => E + H2(v12)'),\n",
       " Text(0, 0, 'E + H2(v14) => E + H2(v11)'),\n",
       " Text(0, 0, 'E + H2(v14) => E + H2(v12)'),\n",
       " Text(0, 0, 'E + H2(v14) => E + H2(v13)'),\n",
       " Text(0, 0, 'E + H2 => E + H + H'),\n",
       " Text(0, 0, 'E + H2(v1) => E + H + H'),\n",
       " Text(0, 0, 'E + H2(v2) => E + H + H'),\n",
       " Text(0, 0, 'E + H2(v3) => E + H + H'),\n",
       " Text(0, 0, 'E + H2(v4) => E + H + H'),\n",
       " Text(0, 0, 'E + H2(v5) => E + H + H'),\n",
       " Text(0, 0, 'E + H2(v6) => E + H + H'),\n",
       " Text(0, 0, 'E + H2(v7) => E + H + H'),\n",
       " Text(0, 0, 'E + H2(v8) => E + H + H'),\n",
       " Text(0, 0, 'E + H2(v9) => E + H + H'),\n",
       " Text(0, 0, 'E + H2(v10) => E + H + H'),\n",
       " Text(0, 0, 'E + H2(v11) => E + H + H'),\n",
       " Text(0, 0, 'E + H2(v12) => E + H + H'),\n",
       " Text(0, 0, 'E + H2(v13) => E + H + H'),\n",
       " Text(0, 0, 'E + CO2 => E + CO2(v1)'),\n",
       " Text(0, 0, 'E + CO2 => E + CO2(v2)'),\n",
       " Text(0, 0, 'E + CO2 => E + CO2(v3)'),\n",
       " Text(0, 0, 'E + CO2(v1) => E + CO2(v2)'),\n",
       " Text(0, 0, 'E + CO2(v1) => E + CO2(v3)'),\n",
       " Text(0, 0, 'E + CO2(v1) => E + CO2(v4)'),\n",
       " Text(0, 0, 'E + CO2(v2) => E + CO2(v3)'),\n",
       " Text(0, 0, 'E + CO2(v2) => E + CO2(v4)'),\n",
       " Text(0, 0, 'E + CO2(v2) => E + CO2(v5)'),\n",
       " Text(0, 0, 'E + CO2(v3) => E + CO2(v4)'),\n",
       " Text(0, 0, 'E + CO2(v3) => E + CO2(v5)'),\n",
       " Text(0, 0, 'E + CO2(v3) => E + CO2(v6)'),\n",
       " Text(0, 0, 'E + CO2(v4) => E + CO2(v5)'),\n",
       " Text(0, 0, 'E + CO2(v4) => E + CO2(v6)'),\n",
       " Text(0, 0, 'E + CO2(v4) => E + CO2(v7)'),\n",
       " Text(0, 0, 'E + CO2(v5) => E + CO2(v6)'),\n",
       " Text(0, 0, 'E + CO2(v5) => E + CO2(v7)'),\n",
       " Text(0, 0, 'E + CO2(v5) => E + CO2(v8)'),\n",
       " Text(0, 0, 'E + CO2(v6) => E + CO2(v7)'),\n",
       " Text(0, 0, 'E + CO2(v6) => E + CO2(v8)'),\n",
       " Text(0, 0, 'E + CO2(v6) => E + CO2(v9)'),\n",
       " Text(0, 0, 'E + CO2(v7) => E + CO2(v8)'),\n",
       " Text(0, 0, 'E + CO2(v7) => E + CO2(v9)'),\n",
       " Text(0, 0, 'E + CO2(v7) => E + CO2(v10)'),\n",
       " Text(0, 0, 'E + CO2(v8) => E + CO2(v9)'),\n",
       " Text(0, 0, 'E + CO2(v8) => E + CO2(v10)'),\n",
       " Text(0, 0, 'E + CO2(v8) => E + CO2(v11)'),\n",
       " Text(0, 0, 'E + CO2(v9) => E + CO2(v10)'),\n",
       " Text(0, 0, 'E + CO2(v9) => E + CO2(v11)'),\n",
       " Text(0, 0, 'E + CO2(v9) => E + CO2(v12)'),\n",
       " Text(0, 0, 'E + CO2(v10) => E + CO2(v11)'),\n",
       " Text(0, 0, 'E + CO2(v10) => E + CO2(v12)'),\n",
       " Text(0, 0, 'E + CO2(v10) => E + CO2(v13)'),\n",
       " Text(0, 0, 'E + CO2(v11) => E + CO2(v12)'),\n",
       " Text(0, 0, 'E + CO2(v11) => E + CO2(v13)'),\n",
       " Text(0, 0, 'E + CO2(v11) => E + CO2(v14)'),\n",
       " Text(0, 0, 'E + CO2(v12) => E + CO2(v13)'),\n",
       " Text(0, 0, 'E + CO2(v12) => E + CO2(v14)'),\n",
       " Text(0, 0, 'E + CO2(v12) => E + CO2(v15)'),\n",
       " Text(0, 0, 'E + CO2(v13) => E + CO2(v14)'),\n",
       " Text(0, 0, 'E + CO2(v13) => E + CO2(v15)'),\n",
       " Text(0, 0, 'E + CO2(v13) => E + CO2(v16)'),\n",
       " Text(0, 0, 'E + CO2(v14) => E + CO2(v15)'),\n",
       " Text(0, 0, 'E + CO2(v14) => E + CO2(v16)'),\n",
       " Text(0, 0, 'E + CO2(v14) => E + CO2(v17)'),\n",
       " Text(0, 0, 'E + CO2(v15) => E + CO2(v16)'),\n",
       " Text(0, 0, 'E + CO2(v15) => E + CO2(v17)'),\n",
       " Text(0, 0, 'E + CO2(v15) => E + CO2(v18)'),\n",
       " Text(0, 0, 'E + CO2(v16) => E + CO2(v17)'),\n",
       " Text(0, 0, 'E + CO2(v16) => E + CO2(v18)'),\n",
       " Text(0, 0, 'E + CO2(v16) => E + CO2(v19)'),\n",
       " Text(0, 0, 'E + CO2(v17) => E + CO2(v18)'),\n",
       " Text(0, 0, 'E + CO2(v17) => E + CO2(v19)'),\n",
       " Text(0, 0, 'E + CO2(v17) => E + CO2(v20)'),\n",
       " Text(0, 0, 'E + CO2(v18) => E + CO2(v19)'),\n",
       " Text(0, 0, 'E + CO2(v18) => E + CO2(v20)'),\n",
       " Text(0, 0, 'E + CO2(v18) => E + CO2(v21)'),\n",
       " Text(0, 0, 'E + CO2(v19) => E + CO2(v20)'),\n",
       " Text(0, 0, 'E + CO2(v19) => E + CO2(v21)'),\n",
       " Text(0, 0, 'E + CO2(v20) => E + CO2(v21)'),\n",
       " Text(0, 0, 'E + CO2(v1) => E + CO2'),\n",
       " Text(0, 0, 'E + CO2(v2) => E + CO2'),\n",
       " Text(0, 0, 'E + CO2(v2) => E + CO2(v1)'),\n",
       " Text(0, 0, 'E + CO2(v3) => E + CO2'),\n",
       " Text(0, 0, 'E + CO2(v3) => E + CO2(v1)'),\n",
       " Text(0, 0, 'E + CO2(v3) => E + CO2(v2)'),\n",
       " Text(0, 0, 'E + CO2(v4) => E + CO2(v1)'),\n",
       " Text(0, 0, 'E + CO2(v4) => E + CO2(v2)'),\n",
       " Text(0, 0, 'E + CO2(v4) => E + CO2(v3)'),\n",
       " Text(0, 0, 'E + CO2(v5) => E + CO2(v2)'),\n",
       " Text(0, 0, 'E + CO2(v5) => E + CO2(v3)'),\n",
       " Text(0, 0, 'E + CO2(v5) => E + CO2(v4)'),\n",
       " Text(0, 0, 'E + CO2(v6) => E + CO2(v3)'),\n",
       " Text(0, 0, 'E + CO2(v6) => E + CO2(v4)'),\n",
       " Text(0, 0, 'E + CO2(v6) => E + CO2(v5)'),\n",
       " Text(0, 0, 'E + CO2(v7) => E + CO2(v4)'),\n",
       " Text(0, 0, 'E + CO2(v7) => E + CO2(v5)'),\n",
       " Text(0, 0, 'E + CO2(v7) => E + CO2(v6)'),\n",
       " Text(0, 0, 'E + CO2(v8) => E + CO2(v5)'),\n",
       " Text(0, 0, 'E + CO2(v8) => E + CO2(v6)'),\n",
       " Text(0, 0, 'E + CO2(v8) => E + CO2(v7)'),\n",
       " Text(0, 0, 'E + CO2(v9) => E + CO2(v6)'),\n",
       " Text(0, 0, 'E + CO2(v9) => E + CO2(v7)'),\n",
       " Text(0, 0, 'E + CO2(v9) => E + CO2(v8)'),\n",
       " Text(0, 0, 'E + CO2(v10) => E + CO2(v7)'),\n",
       " Text(0, 0, 'E + CO2(v10) => E + CO2(v8)'),\n",
       " Text(0, 0, 'E + CO2(v10) => E + CO2(v9)'),\n",
       " Text(0, 0, 'E + CO2(v11) => E + CO2(v8)'),\n",
       " Text(0, 0, 'E + CO2(v11) => E + CO2(v9)'),\n",
       " Text(0, 0, 'E + CO2(v11) => E + CO2(v10)'),\n",
       " Text(0, 0, 'E + CO2(v12) => E + CO2(v9)'),\n",
       " Text(0, 0, 'E + CO2(v12) => E + CO2(v10)'),\n",
       " Text(0, 0, 'E + CO2(v12) => E + CO2(v11)'),\n",
       " Text(0, 0, 'E + CO2(v13) => E + CO2(v10)'),\n",
       " Text(0, 0, 'E + CO2(v13) => E + CO2(v11)'),\n",
       " Text(0, 0, 'E + CO2(v13) => E + CO2(v12)'),\n",
       " Text(0, 0, 'E + CO2(v14) => E + CO2(v11)'),\n",
       " Text(0, 0, 'E + CO2(v14) => E + CO2(v12)'),\n",
       " Text(0, 0, 'E + CO2(v14) => E + CO2(v13)'),\n",
       " Text(0, 0, 'E + CO2(v15) => E + CO2(v12)'),\n",
       " Text(0, 0, 'E + CO2(v15) => E + CO2(v13)'),\n",
       " Text(0, 0, 'E + CO2(v15) => E + CO2(v14)'),\n",
       " Text(0, 0, 'E + CO2(v16) => E + CO2(v13)'),\n",
       " Text(0, 0, 'E + CO2(v16) => E + CO2(v14)'),\n",
       " Text(0, 0, 'E + CO2(v16) => E + CO2(v15)'),\n",
       " Text(0, 0, 'E + CO2(v17) => E + CO2(v14)'),\n",
       " Text(0, 0, 'E + CO2(v17) => E + CO2(v15)'),\n",
       " Text(0, 0, 'E + CO2(v17) => E + CO2(v16)'),\n",
       " Text(0, 0, 'E + CO2(v18) => E + CO2(v15)'),\n",
       " Text(0, 0, 'E + CO2(v18) => E + CO2(v16)'),\n",
       " Text(0, 0, 'E + CO2(v18) => E + CO2(v17)'),\n",
       " Text(0, 0, 'E + CO2(v19) => E + CO2(v16)'),\n",
       " Text(0, 0, 'E + CO2(v19) => E + CO2(v17)'),\n",
       " Text(0, 0, 'E + CO2(v19) => E + CO2(v18)'),\n",
       " Text(0, 0, 'E + CO2(v20) => E + CO2(v17)'),\n",
       " Text(0, 0, 'E + CO2(v20) => E + CO2(v18)'),\n",
       " Text(0, 0, 'E + CO2(v20) => E + CO2(v19)'),\n",
       " Text(0, 0, 'E + CO2(v21) => E + CO2(v18)'),\n",
       " Text(0, 0, 'E + CO2(v21) => E + CO2(v19)'),\n",
       " Text(0, 0, 'E + CO2(v21) => E + CO2(v20)'),\n",
       " Text(0, 0, 'E + CO2 => E + CO2(va)'),\n",
       " Text(0, 0, 'E + CO2 => E + CO2(vb)'),\n",
       " Text(0, 0, 'E + CO2 => E + CO2(vc)'),\n",
       " Text(0, 0, 'E + CO2 => E + CO2(vd)'),\n",
       " Text(0, 0, 'E + CO2(va) => E + CO2(vb)'),\n",
       " Text(0, 0, 'E + CO2(va) => E + CO2(vc)'),\n",
       " Text(0, 0, 'E + CO2(va) => E + CO2(vd)'),\n",
       " Text(0, 0, 'E + CO2(vb) => E + CO2(vc)'),\n",
       " Text(0, 0, 'E + CO2(vb) => E + CO2(vd)'),\n",
       " Text(0, 0, 'E + CO2(vc) => E + CO2(vd)'),\n",
       " Text(0, 0, 'E + CO2(vd) => E + CO2(vc)'),\n",
       " Text(0, 0, 'E + CO2(vd) => E + CO2(vb)'),\n",
       " Text(0, 0, 'E + CO2(vd) => E + CO2(va)'),\n",
       " Text(0, 0, 'E + CO2(vd) => E + CO2'),\n",
       " Text(0, 0, 'E + CO2(vc) => E + CO2(vb)'),\n",
       " Text(0, 0, 'E + CO2(vc) => E + CO2(va)'),\n",
       " Text(0, 0, 'E + CO2(vc) => E + CO2'),\n",
       " Text(0, 0, 'E + CO2(vb) => E + CO2(va)'),\n",
       " Text(0, 0, 'E + CO2(vb) => E + CO2'),\n",
       " Text(0, 0, 'E + CO2(va) => E + CO2'),\n",
       " Text(0, 0, 'E + CO2(va) => E + CO2(v1)'),\n",
       " Text(0, 0, 'E + CO2(va) => E + CO2(v2)'),\n",
       " Text(0, 0, 'E + CO2(va) => E + CO2(v3)'),\n",
       " Text(0, 0, 'E + CO2(va) => E + CO2(v4)'),\n",
       " Text(0, 0, 'E + CO2(va) => E + CO2(v5)'),\n",
       " Text(0, 0, 'E + CO2(va) => E + CO2(v6)'),\n",
       " Text(0, 0, 'E + CO2(va) => E + CO2(v7)'),\n",
       " Text(0, 0, 'E + CO2(va) => E + CO2(v8)'),\n",
       " Text(0, 0, 'E + CO2(va) => E + CO2(v9)'),\n",
       " Text(0, 0, 'E + CO2(va) => E + CO2(v10)'),\n",
       " Text(0, 0, 'E + CO2(va) => E + CO2(v11)'),\n",
       " Text(0, 0, 'E + CO2(va) => E + CO2(v12)'),\n",
       " Text(0, 0, 'E + CO2(va) => E + CO2(v13)'),\n",
       " Text(0, 0, 'E + CO2(va) => E + CO2(v14)'),\n",
       " Text(0, 0, 'E + CO2(va) => E + CO2(v15)'),\n",
       " Text(0, 0, 'E + CO2(va) => E + CO2(v16)'),\n",
       " Text(0, 0, 'E + CO2(va) => E + CO2(v17)'),\n",
       " Text(0, 0, 'E + CO2(va) => E + CO2(v18)'),\n",
       " Text(0, 0, 'E + CO2(va) => E + CO2(v19)'),\n",
       " Text(0, 0, 'E + CO2(va) => E + CO2(v20)'),\n",
       " Text(0, 0, 'E + CO2(va) => E + CO2(v21)'),\n",
       " Text(0, 0, 'E + CO2(v1) => E + CO2(va)'),\n",
       " Text(0, 0, 'E + CO2(v2) => E + CO2(va)'),\n",
       " Text(0, 0, 'E + CO2(v3) => E + CO2(va)'),\n",
       " Text(0, 0, 'E + CO2(v4) => E + CO2(va)'),\n",
       " Text(0, 0, 'E + CO2(v5) => E + CO2(va)'),\n",
       " Text(0, 0, 'E + CO2(v6) => E + CO2(va)'),\n",
       " Text(0, 0, 'E + CO2(v7) => E + CO2(va)'),\n",
       " Text(0, 0, 'E + CO2(v8) => E + CO2(va)'),\n",
       " Text(0, 0, 'E + CO2(v9) => E + CO2(va)'),\n",
       " Text(0, 0, 'E + CO2(v10) => E + CO2(va)'),\n",
       " Text(0, 0, 'E + CO2(v11) => E + CO2(va)'),\n",
       " Text(0, 0, 'E + CO2(v12) => E + CO2(va)'),\n",
       " Text(0, 0, 'E + CO2(v13) => E + CO2(va)'),\n",
       " Text(0, 0, 'E + CO2(v14) => E + CO2(va)'),\n",
       " Text(0, 0, 'E + CO2(v15) => E + CO2(va)'),\n",
       " Text(0, 0, 'E + CO2(v16) => E + CO2(va)'),\n",
       " Text(0, 0, 'E + CO2(v17) => E + CO2(va)'),\n",
       " Text(0, 0, 'E + CO2(v18) => E + CO2(va)'),\n",
       " Text(0, 0, 'E + CO2(v19) => E + CO2(va)'),\n",
       " Text(0, 0, 'E + CO2(v20) => E + CO2(va)'),\n",
       " Text(0, 0, 'E + CO2(v21) => E + CO2(va)'),\n",
       " Text(0, 0, 'E + CO2(vb) => E + CO2(v1)'),\n",
       " Text(0, 0, 'E + CO2(vb) => E + CO2(v2)'),\n",
       " Text(0, 0, 'E + CO2(vb) => E + CO2(v3)'),\n",
       " Text(0, 0, 'E + CO2(vb) => E + CO2(v4)'),\n",
       " Text(0, 0, 'E + CO2(vb) => E + CO2(v5)'),\n",
       " Text(0, 0, 'E + CO2(vb) => E + CO2(v6)'),\n",
       " Text(0, 0, 'E + CO2(vb) => E + CO2(v7)'),\n",
       " Text(0, 0, 'E + CO2(vb) => E + CO2(v8)'),\n",
       " Text(0, 0, 'E + CO2(vb) => E + CO2(v9)'),\n",
       " Text(0, 0, 'E + CO2(vb) => E + CO2(v10)'),\n",
       " Text(0, 0, 'E + CO2(vb) => E + CO2(v11)'),\n",
       " Text(0, 0, 'E + CO2(vb) => E + CO2(v12)'),\n",
       " Text(0, 0, 'E + CO2(vb) => E + CO2(v13)'),\n",
       " Text(0, 0, 'E + CO2(vb) => E + CO2(v14)'),\n",
       " Text(0, 0, 'E + CO2(vb) => E + CO2(v15)'),\n",
       " Text(0, 0, 'E + CO2(vb) => E + CO2(v16)'),\n",
       " Text(0, 0, 'E + CO2(vb) => E + CO2(v17)'),\n",
       " Text(0, 0, 'E + CO2(vb) => E + CO2(v18)'),\n",
       " Text(0, 0, 'E + CO2(vb) => E + CO2(v19)'),\n",
       " Text(0, 0, 'E + CO2(vb) => E + CO2(v20)'),\n",
       " Text(0, 0, 'E + CO2(vb) => E + CO2(v21)'),\n",
       " Text(0, 0, 'E + CO2(v1) => E + CO2(vb)'),\n",
       " Text(0, 0, 'E + CO2(v2) => E + CO2(vb)'),\n",
       " Text(0, 0, 'E + CO2(v3) => E + CO2(vb)'),\n",
       " Text(0, 0, 'E + CO2(v4) => E + CO2(vb)'),\n",
       " Text(0, 0, 'E + CO2(v5) => E + CO2(vb)'),\n",
       " Text(0, 0, 'E + CO2(v6) => E + CO2(vb)'),\n",
       " Text(0, 0, 'E + CO2(v7) => E + CO2(vb)'),\n",
       " Text(0, 0, 'E + CO2(v8) => E + CO2(vb)'),\n",
       " Text(0, 0, 'E + CO2(v9) => E + CO2(vb)'),\n",
       " Text(0, 0, 'E + CO2(v10) => E + CO2(vb)'),\n",
       " Text(0, 0, 'E + CO2(v11) => E + CO2(vb)'),\n",
       " Text(0, 0, 'E + CO2(v12) => E + CO2(vb)'),\n",
       " Text(0, 0, 'E + CO2(v13) => E + CO2(vb)'),\n",
       " Text(0, 0, 'E + CO2(v14) => E + CO2(vb)'),\n",
       " Text(0, 0, 'E + CO2(v15) => E + CO2(vb)'),\n",
       " Text(0, 0, 'E + CO2(v16) => E + CO2(vb)'),\n",
       " Text(0, 0, 'E + CO2(v17) => E + CO2(vb)'),\n",
       " Text(0, 0, 'E + CO2(v18) => E + CO2(vb)'),\n",
       " Text(0, 0, 'E + CO2(v19) => E + CO2(vb)'),\n",
       " Text(0, 0, 'E + CO2(v20) => E + CO2(vb)'),\n",
       " Text(0, 0, 'E + CO2(v21) => E + CO2(vb)'),\n",
       " Text(0, 0, 'E + CO2(vc) => E + CO2(v1)'),\n",
       " Text(0, 0, 'E + CO2(vc) => E + CO2(v2)'),\n",
       " Text(0, 0, 'E + CO2(vc) => E + CO2(v3)'),\n",
       " Text(0, 0, 'E + CO2(vc) => E + CO2(v4)'),\n",
       " Text(0, 0, 'E + CO2(vc) => E + CO2(v5)'),\n",
       " Text(0, 0, 'E + CO2(vc) => E + CO2(v6)'),\n",
       " Text(0, 0, 'E + CO2(vc) => E + CO2(v7)'),\n",
       " Text(0, 0, 'E + CO2(vc) => E + CO2(v8)'),\n",
       " Text(0, 0, 'E + CO2(vc) => E + CO2(v9)'),\n",
       " Text(0, 0, 'E + CO2(vc) => E + CO2(v10)'),\n",
       " Text(0, 0, 'E + CO2(vc) => E + CO2(v11)'),\n",
       " Text(0, 0, 'E + CO2(vc) => E + CO2(v12)'),\n",
       " Text(0, 0, 'E + CO2(vc) => E + CO2(v13)'),\n",
       " Text(0, 0, 'E + CO2(vc) => E + CO2(v14)'),\n",
       " Text(0, 0, 'E + CO2(vc) => E + CO2(v15)'),\n",
       " Text(0, 0, 'E + CO2(vc) => E + CO2(v16)'),\n",
       " Text(0, 0, 'E + CO2(vc) => E + CO2(v17)'),\n",
       " Text(0, 0, 'E + CO2(vc) => E + CO2(v18)'),\n",
       " Text(0, 0, 'E + CO2(vc) => E + CO2(v19)'),\n",
       " Text(0, 0, 'E + CO2(vc) => E + CO2(v20)'),\n",
       " Text(0, 0, 'E + CO2(vc) => E + CO2(v21)'),\n",
       " Text(0, 0, 'E + CO2(v1) => E + CO2(vc)'),\n",
       " Text(0, 0, 'E + CO2(v2) => E + CO2(vc)'),\n",
       " Text(0, 0, 'E + CO2(v3) => E + CO2(vc)'),\n",
       " Text(0, 0, 'E + CO2(v4) => E + CO2(vc)'),\n",
       " Text(0, 0, 'E + CO2(v5) => E + CO2(vc)'),\n",
       " Text(0, 0, 'E + CO2(v6) => E + CO2(vc)'),\n",
       " Text(0, 0, 'E + CO2(v7) => E + CO2(vc)'),\n",
       " Text(0, 0, 'E + CO2(v8) => E + CO2(vc)'),\n",
       " Text(0, 0, 'E + CO2(v9) => E + CO2(vc)'),\n",
       " Text(0, 0, 'E + CO2(v10) => E + CO2(vc)'),\n",
       " Text(0, 0, 'E + CO2(v11) => E + CO2(vc)'),\n",
       " Text(0, 0, 'E + CO2(v12) => E + CO2(vc)'),\n",
       " Text(0, 0, 'E + CO2(v13) => E + CO2(vc)'),\n",
       " Text(0, 0, 'E + CO2(v14) => E + CO2(vc)'),\n",
       " Text(0, 0, 'E + CO2(v15) => E + CO2(vc)'),\n",
       " Text(0, 0, 'E + CO2(v16) => E + CO2(vc)'),\n",
       " Text(0, 0, 'E + CO2(v17) => E + CO2(vc)'),\n",
       " Text(0, 0, 'E + CO2(v18) => E + CO2(vc)'),\n",
       " Text(0, 0, 'E + CO2(v19) => E + CO2(vc)'),\n",
       " Text(0, 0, 'E + CO2(v20) => E + CO2(vc)'),\n",
       " Text(0, 0, 'E + CO2(v21) => E + CO2(vc)'),\n",
       " Text(0, 0, 'E + CO2(vd) => E + CO2(v2)'),\n",
       " Text(0, 0, 'E + CO2(vd) => E + CO2(v3)'),\n",
       " Text(0, 0, 'E + CO2(vd) => E + CO2(v4)'),\n",
       " Text(0, 0, 'E + CO2(vd) => E + CO2(v5)'),\n",
       " Text(0, 0, 'E + CO2(vd) => E + CO2(v6)'),\n",
       " Text(0, 0, 'E + CO2(vd) => E + CO2(v7)'),\n",
       " Text(0, 0, 'E + CO2(vd) => E + CO2(v8)'),\n",
       " Text(0, 0, 'E + CO2(vd) => E + CO2(v9)'),\n",
       " Text(0, 0, 'E + CO2(vd) => E + CO2(v10)'),\n",
       " Text(0, 0, 'E + CO2(vd) => E + CO2(v11)'),\n",
       " Text(0, 0, 'E + CO2(vd) => E + CO2(v12)'),\n",
       " Text(0, 0, 'E + CO2(vd) => E + CO2(v13)'),\n",
       " Text(0, 0, 'E + CO2(vd) => E + CO2(v14)'),\n",
       " Text(0, 0, 'E + CO2(vd) => E + CO2(v15)'),\n",
       " Text(0, 0, 'E + CO2(vd) => E + CO2(v16)'),\n",
       " Text(0, 0, 'E + CO2(vd) => E + CO2(v17)'),\n",
       " Text(0, 0, 'E + CO2(vd) => E + CO2(v18)'),\n",
       " Text(0, 0, 'E + CO2(vd) => E + CO2(v19)'),\n",
       " Text(0, 0, 'E + CO2(vd) => E + CO2(v20)'),\n",
       " Text(0, 0, 'E + CO2(vd) => E + CO2(v21)'),\n",
       " Text(0, 0, 'E + CO2(v2) => E + CO2(vd)'),\n",
       " Text(0, 0, 'E + CO2(v3) => E + CO2(vd)'),\n",
       " Text(0, 0, 'E + CO2(v4) => E + CO2(vd)'),\n",
       " Text(0, 0, 'E + CO2(v5) => E + CO2(vd)'),\n",
       " Text(0, 0, 'E + CO2(v6) => E + CO2(vd)'),\n",
       " Text(0, 0, 'E + CO2(v7) => E + CO2(vd)'),\n",
       " Text(0, 0, 'E + CO2(v8) => E + CO2(vd)'),\n",
       " Text(0, 0, 'E + CO2(v9) => E + CO2(vd)'),\n",
       " Text(0, 0, 'E + CO2(v10) => E + CO2(vd)'),\n",
       " Text(0, 0, 'E + CO2(v11) => E + CO2(vd)'),\n",
       " Text(0, 0, 'E + CO2(v12) => E + CO2(vd)'),\n",
       " Text(0, 0, 'E + CO2(v13) => E + CO2(vd)'),\n",
       " Text(0, 0, 'E + CO2(v14) => E + CO2(vd)'),\n",
       " Text(0, 0, 'E + CO2(v15) => E + CO2(vd)'),\n",
       " Text(0, 0, 'E + CO2(v16) => E + CO2(vd)'),\n",
       " Text(0, 0, 'E + CO2(v17) => E + CO2(vd)'),\n",
       " Text(0, 0, 'E + CO2(v18) => E + CO2(vd)'),\n",
       " Text(0, 0, 'E + CO2(v19) => E + CO2(vd)'),\n",
       " Text(0, 0, 'E + CO2(v20) => E + CO2(vd)'),\n",
       " Text(0, 0, 'E + CO2(v21) => E + CO2(vd)'),\n",
       " Text(0, 0, 'E + CO2 => E + CO + O'),\n",
       " Text(0, 0, 'E + CO2(va) => E + CO + O'),\n",
       " Text(0, 0, 'E + CO2(vb) => E + CO + O'),\n",
       " Text(0, 0, 'E + CO2(vc) => E + CO + O'),\n",
       " Text(0, 0, 'E + CO2(vd) => E + CO + O'),\n",
       " Text(0, 0, 'E + CO2(v1) => E + CO + O'),\n",
       " Text(0, 0, 'E + CO2(v2) => E + CO + O'),\n",
       " Text(0, 0, 'E + CO2(v3) => E + CO + O'),\n",
       " Text(0, 0, 'E + CO2(v4) => E + CO + O'),\n",
       " Text(0, 0, 'E + CO2(v5) => E + CO + O'),\n",
       " Text(0, 0, 'E + CO2(v6) => E + CO + O'),\n",
       " Text(0, 0, 'E + CO2(v7) => E + CO + O'),\n",
       " Text(0, 0, 'E + CO2(v8) => E + CO + O'),\n",
       " Text(0, 0, 'E + CO2(v9) => E + CO + O'),\n",
       " Text(0, 0, 'E + CO2(v10) => E + CO + O'),\n",
       " Text(0, 0, 'E + CO2(v11) => E + CO + O'),\n",
       " Text(0, 0, 'E + CO2(v12) => E + CO + O'),\n",
       " Text(0, 0, 'E + CO2(v13) => E + CO + O'),\n",
       " Text(0, 0, 'E + CO2(v14) => E + CO + O'),\n",
       " Text(0, 0, 'E + CO2(v15) => E + CO + O'),\n",
       " Text(0, 0, 'E + CO2(v16) => E + CO + O'),\n",
       " Text(0, 0, 'E + CO2(v17) => E + CO + O'),\n",
       " Text(0, 0, 'E + CO2(v18) => E + CO + O'),\n",
       " Text(0, 0, 'E + CO2(v19) => E + CO + O'),\n",
       " Text(0, 0, 'E + CO2(v20) => E + CO + O'),\n",
       " Text(0, 0, 'E + CO2(v21) => E + CO + O'),\n",
       " Text(0, 0, 'E + CO => E + CO(v1)'),\n",
       " Text(0, 0, 'E + CO => E + CO(v2)'),\n",
       " Text(0, 0, 'E + CO => E + CO(v3)'),\n",
       " Text(0, 0, 'E + CO(v1) => E + CO(v2)'),\n",
       " Text(0, 0, 'E + CO(v1) => E + CO(v3)'),\n",
       " Text(0, 0, 'E + CO(v1) => E + CO(v4)'),\n",
       " Text(0, 0, 'E + CO(v2) => E + CO(v3)'),\n",
       " Text(0, 0, 'E + CO(v2) => E + CO(v4)'),\n",
       " Text(0, 0, 'E + CO(v2) => E + CO(v5)'),\n",
       " Text(0, 0, 'E + CO(v3) => E + CO(v4)'),\n",
       " Text(0, 0, 'E + CO(v3) => E + CO(v5)'),\n",
       " Text(0, 0, 'E + CO(v3) => E + CO(v6)'),\n",
       " Text(0, 0, 'E + CO(v4) => E + CO(v5)'),\n",
       " Text(0, 0, 'E + CO(v4) => E + CO(v6)'),\n",
       " Text(0, 0, 'E + CO(v4) => E + CO(v7)'),\n",
       " Text(0, 0, 'E + CO(v5) => E + CO(v6)'),\n",
       " Text(0, 0, 'E + CO(v5) => E + CO(v7)'),\n",
       " Text(0, 0, 'E + CO(v5) => E + CO(v8)'),\n",
       " Text(0, 0, 'E + CO(v6) => E + CO(v7)'),\n",
       " Text(0, 0, 'E + CO(v6) => E + CO(v8)'),\n",
       " Text(0, 0, 'E + CO(v6) => E + CO(v9)'),\n",
       " Text(0, 0, 'E + CO(v7) => E + CO(v8)'),\n",
       " Text(0, 0, 'E + CO(v7) => E + CO(v9)'),\n",
       " Text(0, 0, 'E + CO(v7) => E + CO(v10)'),\n",
       " Text(0, 0, 'E + CO(v8) => E + CO(v9)'),\n",
       " Text(0, 0, 'E + CO(v8) => E + CO(v10)'),\n",
       " Text(0, 0, 'E + CO(v9) => E + CO(v10)'),\n",
       " Text(0, 0, 'E + CO(v1) => E + CO'),\n",
       " Text(0, 0, 'E + CO(v2) => E + CO'),\n",
       " Text(0, 0, 'E + CO(v2) => E + CO(v1)'),\n",
       " Text(0, 0, 'E + CO(v3) => E + CO'),\n",
       " Text(0, 0, 'E + CO(v3) => E + CO(v1)'),\n",
       " Text(0, 0, 'E + CO(v3) => E + CO(v2)'),\n",
       " Text(0, 0, 'E + CO(v4) => E + CO(v1)'),\n",
       " Text(0, 0, 'E + CO(v4) => E + CO(v2)'),\n",
       " Text(0, 0, 'E + CO(v4) => E + CO(v3)'),\n",
       " Text(0, 0, 'E + CO(v5) => E + CO(v2)'),\n",
       " Text(0, 0, 'E + CO(v5) => E + CO(v3)'),\n",
       " Text(0, 0, 'E + CO(v5) => E + CO(v4)'),\n",
       " Text(0, 0, 'E + CO(v6) => E + CO(v3)'),\n",
       " Text(0, 0, 'E + CO(v6) => E + CO(v4)'),\n",
       " Text(0, 0, 'E + CO(v6) => E + CO(v5)'),\n",
       " Text(0, 0, 'E + CO(v7) => E + CO(v4)'),\n",
       " Text(0, 0, 'E + CO(v7) => E + CO(v5)'),\n",
       " Text(0, 0, 'E + CO(v7) => E + CO(v6)'),\n",
       " Text(0, 0, 'E + CO(v8) => E + CO(v5)'),\n",
       " Text(0, 0, 'E + CO(v8) => E + CO(v6)'),\n",
       " Text(0, 0, 'E + CO(v8) => E + CO(v7)'),\n",
       " Text(0, 0, 'E + CO(v9) => E + CO(v6)'),\n",
       " Text(0, 0, 'E + CO(v9) => E + CO(v7)'),\n",
       " Text(0, 0, 'E + CO(v9) => E + CO(v8)'),\n",
       " Text(0, 0, 'E + CO(v10) => E + CO(v7)'),\n",
       " Text(0, 0, 'E + CO(v10) => E + CO(v8)'),\n",
       " Text(0, 0, 'E + CO(v10) => E + CO(v9)'),\n",
       " Text(0, 0, 'E + CO => E + C + O'),\n",
       " Text(0, 0, 'E + CO(v1) => E + C + O'),\n",
       " Text(0, 0, 'E + CO(v2) => E + C + O'),\n",
       " Text(0, 0, 'E + CO(v3) => E + C + O'),\n",
       " Text(0, 0, 'E + CO(v4) => E + C + O'),\n",
       " Text(0, 0, 'E + CO(v5) => E + C + O'),\n",
       " Text(0, 0, 'E + CO(v6) => E + C + O'),\n",
       " Text(0, 0, 'E + CO(v7) => E + C + O'),\n",
       " Text(0, 0, 'E + CO(v8) => E + C + O'),\n",
       " Text(0, 0, 'E + CO(v9) => E + C + O'),\n",
       " Text(0, 0, 'E + CO(v10) => E + C + O')]"
      ]
     },
     "execution_count": 47,
     "metadata": {},
     "output_type": "execute_result"
    },
    {
     "data": {
      "image/png": "[encoded data removed]",
      "text/plain": [
       "<Figure size 864x648 with 1 Axes>"
      ]
     },
     "metadata": {
      "needs_background": "light"
     },
     "output_type": "display_data"
    }
   ],
   "source": [
    "fig = plt.figure()\n",
    "ax = fig.add_subplot(111)\n",
    "ax.barh(range(eedf.n_inelas_rctn),\n",
    "        width=eedf._get_molecule_rate_const_e_inelas(),\n",
    "        height=0.6, log=True)\n",
    "ax.set_yticks(range(eedf.n_inelas_rctn))\n",
    "ax.set_yticklabels(eedf.inelas_reaction_dataframe['formula'])"
   ]
  },
  {
   "cell_type": "code",
   "execution_count": 48,
   "metadata": {
    "cell_style": "center"
   },
   "outputs": [
    {
     "data": {
      "image/png": "[encoded data removed]",
      "text/plain": [
       "<Figure size 864x648 with 1 Axes>"
      ]
     },
     "metadata": {
      "needs_background": "light"
     },
     "output_type": "display_data"
    }
   ],
   "source": [
    "eedf.plot_normalized_eedf()"
   ]
  },
  {
   "cell_type": "code",
   "execution_count": 49,
   "metadata": {
    "cell_style": "split"
   },
   "outputs": [
    {
     "data": {
      "text/plain": [
       "Text(0.5, 1.0, 'Te vs. t')"
      ]
     },
     "execution_count": 49,
     "metadata": {},
     "output_type": "execute_result"
    },
    {
     "data": {
      "image/png": "[encoded data removed]",
      "text/plain": [
       "<Figure size 864x648 with 1 Axes>"
      ]
     },
     "metadata": {
      "needs_background": "light"
     },
     "output_type": "display_data"
    }
   ],
   "source": [
    "Te_seq = []\n",
    "ne_seq = []\n",
    "for _array in sol.y.transpose():\n",
    "    eedf.set_density_per_J(_array)\n",
    "    Te_seq.append(eedf.electron_temperature_in_eV)\n",
    "    ne_seq.append(eedf.electron_density)\n",
    "plt.semilogx(sol.t, Te_seq, marker='.')\n",
    "plt.title(\"Te vs. t\")"
   ]
  },
  {
   "cell_type": "code",
   "execution_count": 40,
   "metadata": {
    "cell_style": "split"
   },
   "outputs": [
    {
     "data": {
      "text/plain": [
       "Text(0.5, 1.0, 'ne vs. t')"
      ]
     },
     "execution_count": 40,
     "metadata": {},
     "output_type": "execute_result"
    },
    {
     "data": {
      "image/png": "[encoded data removed]",
      "text/plain": [
       "<Figure size 864x648 with 1 Axes>"
      ]
     },
     "metadata": {
      "needs_background": "light"
     },
     "output_type": "display_data"
    }
   ],
   "source": [
    "plt.semilogx(sol.t, ne_seq, marker='.')\n",
    "plt.title(\"ne vs. t\")"
   ]
  },
  {
   "cell_type": "code",
   "execution_count": 41,
   "metadata": {},
   "outputs": [
    {
     "data": {
      "text/plain": [
       "array([[2.5e+35, 2.5e+35, 2.5e+35, 2.6e+35, 2.6e+35, ..., 1.1e+36, 1.1e+36, 1.1e+36, 1.1e+36, 1.1e+36],\n",
       "       [3.8e+35, 3.8e+35, 3.8e+35, 3.8e+35, 3.9e+35, ..., 1.1e+36, 1.1e+36, 1.1e+36, 1.0e+36, 1.0e+36],\n",
       "       [4.2e+35, 4.2e+35, 4.2e+35, 4.3e+35, 4.3e+35, ..., 8.1e+35, 8.1e+35, 8.1e+35, 7.9e+35, 7.9e+35],\n",
       "       [4.3e+35, 4.3e+35, 4.3e+35, 4.3e+35, 4.3e+35, ..., 5.8e+35, 5.8e+35, 5.8e+35, 5.7e+35, 5.6e+35],\n",
       "       [4.2e+35, 4.2e+35, 4.2e+35, 4.2e+35, 4.2e+35, ..., 4.3e+35, 4.3e+35, 4.3e+35, 4.2e+35, 4.1e+35],\n",
       "       ...,\n",
       "       [1.5e+06, 1.5e+06, 1.5e+06, 1.6e+06, 1.7e+06, ..., 1.1e+24, 1.1e+24, 1.1e+24, 1.1e+24, 1.1e+24],\n",
       "       [1.3e+06, 1.3e+06, 1.3e+06, 1.4e+06, 1.5e+06, ..., 1.1e+24, 1.1e+24, 1.1e+24, 1.1e+24, 1.1e+24],\n",
       "       [1.2e+06, 1.2e+06, 1.2e+06, 1.3e+06, 1.4e+06, ..., 1.1e+24, 1.1e+24, 1.1e+24, 1.1e+24, 1.1e+24],\n",
       "       [1.0e+06, 1.0e+06, 1.0e+06, 1.1e+06, 1.3e+06, ..., 1.1e+24, 1.1e+24, 1.1e+24, 1.1e+24, 1.1e+24],\n",
       "       [8.7e+05, 9.0e+05, 9.2e+05, 1.1e+06, 1.2e+06, ..., 1.1e+24, 1.1e+24, 1.1e+24, 1.1e+24, 1.0e+24]])"
      ]
     },
     "execution_count": 41,
     "metadata": {},
     "output_type": "execute_result"
    }
   ],
   "source": [
    "sol.y"
   ]
  },
  {
   "cell_type": "code",
   "execution_count": 42,
   "metadata": {},
   "outputs": [],
   "source": [
    "eedf.set_density_per_J(sol.y[:,-1])\n",
    "eedf.set_flux(total_species_density=total_species_density)"
   ]
  },
  {
   "cell_type": "markdown",
   "metadata": {},
   "source": [
    "# plot"
   ]
  },
  {
   "cell_type": "markdown",
   "metadata": {},
   "source": [
    "## plot final"
   ]
  },
  {
   "cell_type": "code",
   "execution_count": 43,
   "metadata": {},
   "outputs": [
    {
     "data": {
      "text/plain": [
       "<matplotlib.legend.Legend at 0x1de63981828>"
      ]
     },
     "execution_count": 43,
     "metadata": {},
     "output_type": "execute_result"
    },
    {
     "data": {
      "image/png": "[encoded data removed]",
      "text/plain": [
       "<Figure size 864x648 with 1 Axes>"
      ]
     },
     "metadata": {
      "needs_background": "light"
     },
     "output_type": "display_data"
    }
   ],
   "source": [
    "fig = plt.figure()\n",
    "ax = fig.add_subplot(111)\n",
    "ax.plot(eedf.energy_point_eV, eedf._get_deriv_ef(), \n",
    "        linewidth=0.4, marker='.', label='ef')\n",
    "ax.plot(eedf.energy_point_eV, eedf._get_deriv_el(), \n",
    "        linewidth=0.4, marker='.', label='el')\n",
    "ax.plot(eedf.energy_point_eV, eedf._get_deriv_ee(), \n",
    "        linewidth=0.4, marker='.', label='ee')\n",
    "ax.plot(eedf.energy_point_eV, eedf._get_electron_rate_e_inelas(density=total_species_density), \n",
    "        linewidth=0.4, marker='.', label='e_inelas')\n",
    "ax.plot(eedf.energy_point_eV, eedf.get_deriv_total(total_species_density=total_species_density), \n",
    "        linewidth=1.5, marker='.', label='sum')\n",
    "# ax.plot(eedf.energy_nodes,eedf.J_flux_el, marker='.', label='el')\n",
    "# ax.plot(eedf.energy_nodes,eedf.J_flux_ee, marker='.', label='ee')\n",
    "# ax.plot(eedf.energy_nodes,eedf.J_flux_ef+eedf.J_flux_el+eedf.J_flux_ee, marker='.', label='ef+el+ee')\n",
    "# ax.set_yscale('symlog')\n",
    "# ax.set_xscale('log')\n",
    "ax.set_xlim((0,2))\n",
    "ax.legend()"
   ]
  },
  {
   "cell_type": "code",
   "execution_count": 44,
   "metadata": {},
   "outputs": [
    {
     "data": {
      "text/plain": [
       "<matplotlib.legend.Legend at 0x1de611004a8>"
      ]
     },
     "execution_count": 44,
     "metadata": {},
     "output_type": "execute_result"
    },
    {
     "data": {
      "image/png": "[encoded data removed]",
      "text/plain": [
       "<Figure size 864x648 with 1 Axes>"
      ]
     },
     "metadata": {
      "needs_background": "light"
     },
     "output_type": "display_data"
    }
   ],
   "source": [
    "fig = plt.figure()\n",
    "ax = fig.add_subplot(111)\n",
    "ax.plot(eedf.energy_point_eV, eedf._get_deriv_ef()*eedf.energy_point, \n",
    "        linewidth=0.4, marker='.', label='ef')\n",
    "ax.plot(eedf.energy_point_eV, eedf._get_deriv_el()*eedf.energy_point, \n",
    "        linewidth=0.4, marker='.', label='el')\n",
    "ax.plot(eedf.energy_point_eV, eedf._get_deriv_ee()*eedf.energy_point, \n",
    "        linewidth=0.4, marker='.', label='ee')\n",
    "ax.plot(eedf.energy_point_eV, eedf._get_electron_rate_e_inelas(density=total_species_density)*eedf.energy_point, \n",
    "        linewidth=0.4, marker='.', label='e_inelas')\n",
    "ax.plot(eedf.energy_point_eV, eedf.get_deriv_total(total_species_density=total_species_density)*eedf.energy_point, \n",
    "        linewidth=1.5, marker='.', label='sum')\n",
    "# ax.plot(eedf.energy_nodes,eedf.J_flux_el, marker='.', label='el')\n",
    "# ax.plot(eedf.energy_nodes,eedf.J_flux_ee, marker='.', label='ee')\n",
    "# ax.plot(eedf.energy_nodes,eedf.J_flux_ef+eedf.J_flux_el+eedf.J_flux_ee, marker='.', label='ef+el+ee')\n",
    "# ax.set_yscale('symlog')\n",
    "# ax.set_xscale('log')\n",
    "ax.set_xlim((0,2))\n",
    "ax.legend()"
   ]
  },
  {
   "cell_type": "code",
   "execution_count": 45,
   "metadata": {},
   "outputs": [],
   "source": [
    "energy_gain_ef = (eedf._get_deriv_ef()*eedf.energy_point).sum()\n",
    "energy_lose_el = (eedf._get_deriv_el()*eedf.energy_point).sum()\n",
    "energy_gain_ee = (eedf._get_deriv_ee()*eedf.energy_point).sum()\n",
    "energy_gain_e_inelas = (eedf._get_electron_rate_e_inelas(density=total_species_density)*eedf.energy_point).sum()\n",
    "energy_gain_net = (eedf.get_deriv_total(total_species_density=total_species_density)*eedf.energy_point).sum()"
   ]
  },
  {
   "cell_type": "code",
   "execution_count": 46,
   "metadata": {},
   "outputs": [
    {
     "data": {
      "text/plain": [
       "Text(0.5, 1.0, 'energy lose')"
      ]
     },
     "execution_count": 46,
     "metadata": {},
     "output_type": "execute_result"
    },
    {
     "data": {
      "image/png": "[encoded data removed]",
      "text/plain": [
       "<Figure size 864x648 with 1 Axes>"
      ]
     },
     "metadata": {
      "needs_background": "light"
     },
     "output_type": "display_data"
    }
   ],
   "source": [
    "fig = plt.figure()\n",
    "ax = fig.add_subplot(111)\n",
    "ax.barh(range(5),\n",
    "        width=[energy_gain_ef, energy_lose_el, energy_gain_ee, energy_gain_e_inelas, energy_gain_net],\n",
    "       height=0.6)\n",
    "ax.set_yticks(range(5))\n",
    "ax.set_yticklabels(['ef', 'el', 'ee', 'inelas', 'net'])\n",
    "ax.set_title(\"energy lose\")"
   ]
  },
  {
   "cell_type": "code",
   "execution_count": 47,
   "metadata": {},
   "outputs": [
    {
     "data": {
      "text/html": [
       "<div>\n",
       "<style scoped>\n",
       "    .dataframe tbody tr th:only-of-type {\n",
       "        vertical-align: middle;\n",
       "    }\n",
       "\n",
       "    .dataframe tbody tr th {\n",
       "        vertical-align: top;\n",
       "    }\n",
       "\n",
       "    .dataframe thead th {\n",
       "        text-align: right;\n",
       "    }\n",
       "</style>\n",
       "<table border=\"1\" class=\"dataframe\">\n",
       "  <thead>\n",
       "    <tr style=\"text-align: right;\">\n",
       "      <th></th>\n",
       "      <th>formula</th>\n",
       "      <th>type</th>\n",
       "      <th>threshold_eV</th>\n",
       "      <th>rate const</th>\n",
       "      <th>energy lose</th>\n",
       "    </tr>\n",
       "  </thead>\n",
       "  <tbody>\n",
       "    <tr>\n",
       "      <th>0</th>\n",
       "      <td>E + CO2 =&gt; E + CO2(v1)</td>\n",
       "      <td>excitation</td>\n",
       "      <td>2.9e-01</td>\n",
       "      <td>3.7e-15</td>\n",
       "      <td>1.1e-15</td>\n",
       "    </tr>\n",
       "    <tr>\n",
       "      <th>1</th>\n",
       "      <td>E + CO2 =&gt; E + CO2(v2)</td>\n",
       "      <td>excitation</td>\n",
       "      <td>5.8e-01</td>\n",
       "      <td>1.6e-15</td>\n",
       "      <td>9.0e-16</td>\n",
       "    </tr>\n",
       "    <tr>\n",
       "      <th>2</th>\n",
       "      <td>E + CO2 =&gt; E + CO2(v3)</td>\n",
       "      <td>excitation</td>\n",
       "      <td>8.6e-01</td>\n",
       "      <td>7.3e-16</td>\n",
       "      <td>6.3e-16</td>\n",
       "    </tr>\n",
       "    <tr>\n",
       "      <th>3</th>\n",
       "      <td>E + CO2 =&gt; E + CO2(v4)</td>\n",
       "      <td>excitation</td>\n",
       "      <td>1.1e+00</td>\n",
       "      <td>3.5e-16</td>\n",
       "      <td>4.0e-16</td>\n",
       "    </tr>\n",
       "    <tr>\n",
       "      <th>4</th>\n",
       "      <td>E + CO2 =&gt; E + CO2(v5)</td>\n",
       "      <td>excitation</td>\n",
       "      <td>1.4e+00</td>\n",
       "      <td>1.7e-16</td>\n",
       "      <td>2.5e-16</td>\n",
       "    </tr>\n",
       "    <tr>\n",
       "      <th>5</th>\n",
       "      <td>E + CO2 =&gt; E + CO2(v6)</td>\n",
       "      <td>excitation</td>\n",
       "      <td>1.7e+00</td>\n",
       "      <td>8.5e-17</td>\n",
       "      <td>1.4e-16</td>\n",
       "    </tr>\n",
       "    <tr>\n",
       "      <th>6</th>\n",
       "      <td>E + CO2 =&gt; E + CO2(v7)</td>\n",
       "      <td>excitation</td>\n",
       "      <td>2.0e+00</td>\n",
       "      <td>4.1e-17</td>\n",
       "      <td>8.1e-17</td>\n",
       "    </tr>\n",
       "    <tr>\n",
       "      <th>7</th>\n",
       "      <td>E + CO2 =&gt; E + CO2(v8)</td>\n",
       "      <td>excitation</td>\n",
       "      <td>2.2e+00</td>\n",
       "      <td>2.0e-17</td>\n",
       "      <td>4.5e-17</td>\n",
       "    </tr>\n",
       "    <tr>\n",
       "      <th>8</th>\n",
       "      <td>E + CO2 =&gt; E + CO2(v9)</td>\n",
       "      <td>excitation</td>\n",
       "      <td>2.5e+00</td>\n",
       "      <td>9.5e-18</td>\n",
       "      <td>2.4e-17</td>\n",
       "    </tr>\n",
       "    <tr>\n",
       "      <th>9</th>\n",
       "      <td>E + CO2 =&gt; E + CO2(v10)</td>\n",
       "      <td>excitation</td>\n",
       "      <td>2.8e+00</td>\n",
       "      <td>4.4e-18</td>\n",
       "      <td>1.2e-17</td>\n",
       "    </tr>\n",
       "    <tr>\n",
       "      <th>10</th>\n",
       "      <td>E + CO2 =&gt; E + CO2(v11)</td>\n",
       "      <td>excitation</td>\n",
       "      <td>3.0e+00</td>\n",
       "      <td>2.0e-18</td>\n",
       "      <td>6.2e-18</td>\n",
       "    </tr>\n",
       "    <tr>\n",
       "      <th>11</th>\n",
       "      <td>E + CO2 =&gt; E + CO2(v12)</td>\n",
       "      <td>excitation</td>\n",
       "      <td>3.3e+00</td>\n",
       "      <td>9.2e-19</td>\n",
       "      <td>3.0e-18</td>\n",
       "    </tr>\n",
       "    <tr>\n",
       "      <th>12</th>\n",
       "      <td>E + CO2 =&gt; E + CO2(v13)</td>\n",
       "      <td>excitation</td>\n",
       "      <td>3.5e+00</td>\n",
       "      <td>4.1e-19</td>\n",
       "      <td>1.5e-18</td>\n",
       "    </tr>\n",
       "    <tr>\n",
       "      <th>13</th>\n",
       "      <td>E + CO2 =&gt; E + CO2(v14)</td>\n",
       "      <td>excitation</td>\n",
       "      <td>3.8e+00</td>\n",
       "      <td>1.8e-19</td>\n",
       "      <td>7.0e-19</td>\n",
       "    </tr>\n",
       "    <tr>\n",
       "      <th>14</th>\n",
       "      <td>E + CO2 =&gt; E + CO2(v15)</td>\n",
       "      <td>excitation</td>\n",
       "      <td>4.0e+00</td>\n",
       "      <td>8.3e-20</td>\n",
       "      <td>3.3e-19</td>\n",
       "    </tr>\n",
       "    <tr>\n",
       "      <th>15</th>\n",
       "      <td>E + CO2 =&gt; E + CO2(v16)</td>\n",
       "      <td>excitation</td>\n",
       "      <td>4.3e+00</td>\n",
       "      <td>3.8e-20</td>\n",
       "      <td>1.6e-19</td>\n",
       "    </tr>\n",
       "    <tr>\n",
       "      <th>16</th>\n",
       "      <td>E + CO2 =&gt; E + CO2(v17)</td>\n",
       "      <td>excitation</td>\n",
       "      <td>4.5e+00</td>\n",
       "      <td>1.8e-20</td>\n",
       "      <td>8.0e-20</td>\n",
       "    </tr>\n",
       "    <tr>\n",
       "      <th>17</th>\n",
       "      <td>E + CO2 =&gt; E + CO2(v18)</td>\n",
       "      <td>excitation</td>\n",
       "      <td>4.8e+00</td>\n",
       "      <td>8.3e-21</td>\n",
       "      <td>3.9e-20</td>\n",
       "    </tr>\n",
       "    <tr>\n",
       "      <th>18</th>\n",
       "      <td>E + CO2 =&gt; E + CO2(v19)</td>\n",
       "      <td>excitation</td>\n",
       "      <td>5.0e+00</td>\n",
       "      <td>4.0e-21</td>\n",
       "      <td>2.0e-20</td>\n",
       "    </tr>\n",
       "    <tr>\n",
       "      <th>19</th>\n",
       "      <td>E + CO2 =&gt; E + CO2(v20)</td>\n",
       "      <td>excitation</td>\n",
       "      <td>5.2e+00</td>\n",
       "      <td>1.9e-21</td>\n",
       "      <td>1.0e-20</td>\n",
       "    </tr>\n",
       "    <tr>\n",
       "      <th>20</th>\n",
       "      <td>E + CO2 =&gt; E + CO2(v21)</td>\n",
       "      <td>excitation</td>\n",
       "      <td>5.5e+00</td>\n",
       "      <td>9.3e-22</td>\n",
       "      <td>5.1e-21</td>\n",
       "    </tr>\n",
       "    <tr>\n",
       "      <th>21</th>\n",
       "      <td>E + CO2(v1) =&gt; E + CO2(v2)</td>\n",
       "      <td>excitation</td>\n",
       "      <td>2.9e-01</td>\n",
       "      <td>3.7e-15</td>\n",
       "      <td>1.1e-15</td>\n",
       "    </tr>\n",
       "    <tr>\n",
       "      <th>22</th>\n",
       "      <td>E + CO2(v1) =&gt; E + CO2(v3)</td>\n",
       "      <td>excitation</td>\n",
       "      <td>5.7e-01</td>\n",
       "      <td>1.6e-15</td>\n",
       "      <td>9.0e-16</td>\n",
       "    </tr>\n",
       "    <tr>\n",
       "      <th>23</th>\n",
       "      <td>E + CO2(v1) =&gt; E + CO2(v4)</td>\n",
       "      <td>excitation</td>\n",
       "      <td>8.6e-01</td>\n",
       "      <td>7.3e-16</td>\n",
       "      <td>6.3e-16</td>\n",
       "    </tr>\n",
       "    <tr>\n",
       "      <th>24</th>\n",
       "      <td>E + CO2(v1) =&gt; E + CO2(v5)</td>\n",
       "      <td>excitation</td>\n",
       "      <td>1.1e+00</td>\n",
       "      <td>3.6e-16</td>\n",
       "      <td>4.0e-16</td>\n",
       "    </tr>\n",
       "    <tr>\n",
       "      <th>25</th>\n",
       "      <td>E + CO2(v1) =&gt; E + CO2(v6)</td>\n",
       "      <td>excitation</td>\n",
       "      <td>1.4e+00</td>\n",
       "      <td>1.8e-16</td>\n",
       "      <td>2.5e-16</td>\n",
       "    </tr>\n",
       "    <tr>\n",
       "      <th>26</th>\n",
       "      <td>E + CO2(v1) =&gt; E + CO2(v7)</td>\n",
       "      <td>excitation</td>\n",
       "      <td>1.7e+00</td>\n",
       "      <td>8.5e-17</td>\n",
       "      <td>1.4e-16</td>\n",
       "    </tr>\n",
       "    <tr>\n",
       "      <th>27</th>\n",
       "      <td>E + CO2(v1) =&gt; E + CO2(v8)</td>\n",
       "      <td>excitation</td>\n",
       "      <td>2.0e+00</td>\n",
       "      <td>4.2e-17</td>\n",
       "      <td>8.2e-17</td>\n",
       "    </tr>\n",
       "    <tr>\n",
       "      <th>28</th>\n",
       "      <td>E + CO2(v1) =&gt; E + CO2(v9)</td>\n",
       "      <td>excitation</td>\n",
       "      <td>2.2e+00</td>\n",
       "      <td>2.0e-17</td>\n",
       "      <td>4.5e-17</td>\n",
       "    </tr>\n",
       "    <tr>\n",
       "      <th>29</th>\n",
       "      <td>E + CO2(v1) =&gt; E + CO2(v10)</td>\n",
       "      <td>excitation</td>\n",
       "      <td>2.5e+00</td>\n",
       "      <td>9.7e-18</td>\n",
       "      <td>2.4e-17</td>\n",
       "    </tr>\n",
       "    <tr>\n",
       "      <th>...</th>\n",
       "      <td>...</td>\n",
       "      <td>...</td>\n",
       "      <td>...</td>\n",
       "      <td>...</td>\n",
       "      <td>...</td>\n",
       "    </tr>\n",
       "    <tr>\n",
       "      <th>201</th>\n",
       "      <td>E + CO2(v13) =&gt; E + CO2(v20)</td>\n",
       "      <td>excitation</td>\n",
       "      <td>1.7e+00</td>\n",
       "      <td>5.2e-17</td>\n",
       "      <td>8.7e-17</td>\n",
       "    </tr>\n",
       "    <tr>\n",
       "      <th>202</th>\n",
       "      <td>E + CO2(v13) =&gt; E + CO2(v21)</td>\n",
       "      <td>excitation</td>\n",
       "      <td>1.9e+00</td>\n",
       "      <td>2.6e-17</td>\n",
       "      <td>5.0e-17</td>\n",
       "    </tr>\n",
       "    <tr>\n",
       "      <th>203</th>\n",
       "      <td>E + CO2(v14) =&gt; E + CO2(v15)</td>\n",
       "      <td>excitation</td>\n",
       "      <td>2.5e-01</td>\n",
       "      <td>3.8e-15</td>\n",
       "      <td>9.5e-16</td>\n",
       "    </tr>\n",
       "    <tr>\n",
       "      <th>204</th>\n",
       "      <td>E + CO2(v14) =&gt; E + CO2(v16)</td>\n",
       "      <td>excitation</td>\n",
       "      <td>4.9e-01</td>\n",
       "      <td>1.7e-15</td>\n",
       "      <td>8.5e-16</td>\n",
       "    </tr>\n",
       "    <tr>\n",
       "      <th>205</th>\n",
       "      <td>E + CO2(v14) =&gt; E + CO2(v17)</td>\n",
       "      <td>excitation</td>\n",
       "      <td>7.3e-01</td>\n",
       "      <td>8.2e-16</td>\n",
       "      <td>6.0e-16</td>\n",
       "    </tr>\n",
       "    <tr>\n",
       "      <th>206</th>\n",
       "      <td>E + CO2(v14) =&gt; E + CO2(v18)</td>\n",
       "      <td>excitation</td>\n",
       "      <td>9.7e-01</td>\n",
       "      <td>4.0e-16</td>\n",
       "      <td>3.9e-16</td>\n",
       "    </tr>\n",
       "    <tr>\n",
       "      <th>207</th>\n",
       "      <td>E + CO2(v14) =&gt; E + CO2(v19)</td>\n",
       "      <td>excitation</td>\n",
       "      <td>1.2e+00</td>\n",
       "      <td>2.0e-16</td>\n",
       "      <td>2.5e-16</td>\n",
       "    </tr>\n",
       "    <tr>\n",
       "      <th>208</th>\n",
       "      <td>E + CO2(v14) =&gt; E + CO2(v20)</td>\n",
       "      <td>excitation</td>\n",
       "      <td>1.4e+00</td>\n",
       "      <td>1.0e-16</td>\n",
       "      <td>1.5e-16</td>\n",
       "    </tr>\n",
       "    <tr>\n",
       "      <th>209</th>\n",
       "      <td>E + CO2(v14) =&gt; E + CO2(v21)</td>\n",
       "      <td>excitation</td>\n",
       "      <td>1.7e+00</td>\n",
       "      <td>5.2e-17</td>\n",
       "      <td>8.7e-17</td>\n",
       "    </tr>\n",
       "    <tr>\n",
       "      <th>210</th>\n",
       "      <td>E + CO2(v15) =&gt; E + CO2(v16)</td>\n",
       "      <td>excitation</td>\n",
       "      <td>2.4e-01</td>\n",
       "      <td>3.9e-15</td>\n",
       "      <td>9.5e-16</td>\n",
       "    </tr>\n",
       "    <tr>\n",
       "      <th>211</th>\n",
       "      <td>E + CO2(v15) =&gt; E + CO2(v17)</td>\n",
       "      <td>excitation</td>\n",
       "      <td>4.9e-01</td>\n",
       "      <td>1.7e-15</td>\n",
       "      <td>8.4e-16</td>\n",
       "    </tr>\n",
       "    <tr>\n",
       "      <th>212</th>\n",
       "      <td>E + CO2(v15) =&gt; E + CO2(v18)</td>\n",
       "      <td>excitation</td>\n",
       "      <td>7.3e-01</td>\n",
       "      <td>8.2e-16</td>\n",
       "      <td>6.0e-16</td>\n",
       "    </tr>\n",
       "    <tr>\n",
       "      <th>213</th>\n",
       "      <td>E + CO2(v15) =&gt; E + CO2(v19)</td>\n",
       "      <td>excitation</td>\n",
       "      <td>9.6e-01</td>\n",
       "      <td>4.1e-16</td>\n",
       "      <td>3.9e-16</td>\n",
       "    </tr>\n",
       "    <tr>\n",
       "      <th>214</th>\n",
       "      <td>E + CO2(v15) =&gt; E + CO2(v20)</td>\n",
       "      <td>excitation</td>\n",
       "      <td>1.2e+00</td>\n",
       "      <td>2.1e-16</td>\n",
       "      <td>2.5e-16</td>\n",
       "    </tr>\n",
       "    <tr>\n",
       "      <th>215</th>\n",
       "      <td>E + CO2(v15) =&gt; E + CO2(v21)</td>\n",
       "      <td>excitation</td>\n",
       "      <td>1.4e+00</td>\n",
       "      <td>1.0e-16</td>\n",
       "      <td>1.5e-16</td>\n",
       "    </tr>\n",
       "    <tr>\n",
       "      <th>216</th>\n",
       "      <td>E + CO2(v16) =&gt; E + CO2(v17)</td>\n",
       "      <td>excitation</td>\n",
       "      <td>2.4e-01</td>\n",
       "      <td>3.9e-15</td>\n",
       "      <td>9.4e-16</td>\n",
       "    </tr>\n",
       "    <tr>\n",
       "      <th>217</th>\n",
       "      <td>E + CO2(v16) =&gt; E + CO2(v18)</td>\n",
       "      <td>excitation</td>\n",
       "      <td>4.8e-01</td>\n",
       "      <td>1.7e-15</td>\n",
       "      <td>8.3e-16</td>\n",
       "    </tr>\n",
       "    <tr>\n",
       "      <th>218</th>\n",
       "      <td>E + CO2(v16) =&gt; E + CO2(v19)</td>\n",
       "      <td>excitation</td>\n",
       "      <td>7.2e-01</td>\n",
       "      <td>8.3e-16</td>\n",
       "      <td>6.0e-16</td>\n",
       "    </tr>\n",
       "    <tr>\n",
       "      <th>219</th>\n",
       "      <td>E + CO2(v16) =&gt; E + CO2(v20)</td>\n",
       "      <td>excitation</td>\n",
       "      <td>9.5e-01</td>\n",
       "      <td>4.1e-16</td>\n",
       "      <td>3.9e-16</td>\n",
       "    </tr>\n",
       "    <tr>\n",
       "      <th>220</th>\n",
       "      <td>E + CO2(v16) =&gt; E + CO2(v21)</td>\n",
       "      <td>excitation</td>\n",
       "      <td>1.2e+00</td>\n",
       "      <td>2.1e-16</td>\n",
       "      <td>2.4e-16</td>\n",
       "    </tr>\n",
       "    <tr>\n",
       "      <th>221</th>\n",
       "      <td>E + CO2(v17) =&gt; E + CO2(v18)</td>\n",
       "      <td>excitation</td>\n",
       "      <td>2.4e-01</td>\n",
       "      <td>3.9e-15</td>\n",
       "      <td>9.3e-16</td>\n",
       "    </tr>\n",
       "    <tr>\n",
       "      <th>222</th>\n",
       "      <td>E + CO2(v17) =&gt; E + CO2(v19)</td>\n",
       "      <td>excitation</td>\n",
       "      <td>4.7e-01</td>\n",
       "      <td>1.7e-15</td>\n",
       "      <td>8.3e-16</td>\n",
       "    </tr>\n",
       "    <tr>\n",
       "      <th>223</th>\n",
       "      <td>E + CO2(v17) =&gt; E + CO2(v20)</td>\n",
       "      <td>excitation</td>\n",
       "      <td>7.1e-01</td>\n",
       "      <td>8.4e-16</td>\n",
       "      <td>6.0e-16</td>\n",
       "    </tr>\n",
       "    <tr>\n",
       "      <th>224</th>\n",
       "      <td>E + CO2(v17) =&gt; E + CO2(v21)</td>\n",
       "      <td>excitation</td>\n",
       "      <td>9.4e-01</td>\n",
       "      <td>4.2e-16</td>\n",
       "      <td>3.9e-16</td>\n",
       "    </tr>\n",
       "    <tr>\n",
       "      <th>225</th>\n",
       "      <td>E + CO2(v18) =&gt; E + CO2(v19)</td>\n",
       "      <td>excitation</td>\n",
       "      <td>2.4e-01</td>\n",
       "      <td>3.9e-15</td>\n",
       "      <td>9.2e-16</td>\n",
       "    </tr>\n",
       "    <tr>\n",
       "      <th>226</th>\n",
       "      <td>E + CO2(v18) =&gt; E + CO2(v20)</td>\n",
       "      <td>excitation</td>\n",
       "      <td>4.7e-01</td>\n",
       "      <td>1.8e-15</td>\n",
       "      <td>8.2e-16</td>\n",
       "    </tr>\n",
       "    <tr>\n",
       "      <th>227</th>\n",
       "      <td>E + CO2(v18) =&gt; E + CO2(v21)</td>\n",
       "      <td>excitation</td>\n",
       "      <td>7.0e-01</td>\n",
       "      <td>8.5e-16</td>\n",
       "      <td>5.9e-16</td>\n",
       "    </tr>\n",
       "    <tr>\n",
       "      <th>228</th>\n",
       "      <td>E + CO2(v19) =&gt; E + CO2(v20)</td>\n",
       "      <td>excitation</td>\n",
       "      <td>2.3e-01</td>\n",
       "      <td>3.9e-15</td>\n",
       "      <td>9.2e-16</td>\n",
       "    </tr>\n",
       "    <tr>\n",
       "      <th>229</th>\n",
       "      <td>E + CO2(v19) =&gt; E + CO2(v21)</td>\n",
       "      <td>excitation</td>\n",
       "      <td>4.6e-01</td>\n",
       "      <td>1.8e-15</td>\n",
       "      <td>8.2e-16</td>\n",
       "    </tr>\n",
       "    <tr>\n",
       "      <th>230</th>\n",
       "      <td>E + CO2(v20) =&gt; E + CO2(v21)</td>\n",
       "      <td>excitation</td>\n",
       "      <td>2.3e-01</td>\n",
       "      <td>4.0e-15</td>\n",
       "      <td>9.1e-16</td>\n",
       "    </tr>\n",
       "  </tbody>\n",
       "</table>\n",
       "<p>231 rows × 5 columns</p>\n",
       "</div>"
      ],
      "text/plain": [
       "                          formula        type  threshold_eV  rate const  \\\n",
       "0          E + CO2 => E + CO2(v1)  excitation       2.9e-01     3.7e-15   \n",
       "1          E + CO2 => E + CO2(v2)  excitation       5.8e-01     1.6e-15   \n",
       "2          E + CO2 => E + CO2(v3)  excitation       8.6e-01     7.3e-16   \n",
       "3          E + CO2 => E + CO2(v4)  excitation       1.1e+00     3.5e-16   \n",
       "4          E + CO2 => E + CO2(v5)  excitation       1.4e+00     1.7e-16   \n",
       "5          E + CO2 => E + CO2(v6)  excitation       1.7e+00     8.5e-17   \n",
       "6          E + CO2 => E + CO2(v7)  excitation       2.0e+00     4.1e-17   \n",
       "7          E + CO2 => E + CO2(v8)  excitation       2.2e+00     2.0e-17   \n",
       "8          E + CO2 => E + CO2(v9)  excitation       2.5e+00     9.5e-18   \n",
       "9         E + CO2 => E + CO2(v10)  excitation       2.8e+00     4.4e-18   \n",
       "10        E + CO2 => E + CO2(v11)  excitation       3.0e+00     2.0e-18   \n",
       "11        E + CO2 => E + CO2(v12)  excitation       3.3e+00     9.2e-19   \n",
       "12        E + CO2 => E + CO2(v13)  excitation       3.5e+00     4.1e-19   \n",
       "13        E + CO2 => E + CO2(v14)  excitation       3.8e+00     1.8e-19   \n",
       "14        E + CO2 => E + CO2(v15)  excitation       4.0e+00     8.3e-20   \n",
       "15        E + CO2 => E + CO2(v16)  excitation       4.3e+00     3.8e-20   \n",
       "16        E + CO2 => E + CO2(v17)  excitation       4.5e+00     1.8e-20   \n",
       "17        E + CO2 => E + CO2(v18)  excitation       4.8e+00     8.3e-21   \n",
       "18        E + CO2 => E + CO2(v19)  excitation       5.0e+00     4.0e-21   \n",
       "19        E + CO2 => E + CO2(v20)  excitation       5.2e+00     1.9e-21   \n",
       "20        E + CO2 => E + CO2(v21)  excitation       5.5e+00     9.3e-22   \n",
       "21     E + CO2(v1) => E + CO2(v2)  excitation       2.9e-01     3.7e-15   \n",
       "22     E + CO2(v1) => E + CO2(v3)  excitation       5.7e-01     1.6e-15   \n",
       "23     E + CO2(v1) => E + CO2(v4)  excitation       8.6e-01     7.3e-16   \n",
       "24     E + CO2(v1) => E + CO2(v5)  excitation       1.1e+00     3.6e-16   \n",
       "25     E + CO2(v1) => E + CO2(v6)  excitation       1.4e+00     1.8e-16   \n",
       "26     E + CO2(v1) => E + CO2(v7)  excitation       1.7e+00     8.5e-17   \n",
       "27     E + CO2(v1) => E + CO2(v8)  excitation       2.0e+00     4.2e-17   \n",
       "28     E + CO2(v1) => E + CO2(v9)  excitation       2.2e+00     2.0e-17   \n",
       "29    E + CO2(v1) => E + CO2(v10)  excitation       2.5e+00     9.7e-18   \n",
       "..                            ...         ...           ...         ...   \n",
       "201  E + CO2(v13) => E + CO2(v20)  excitation       1.7e+00     5.2e-17   \n",
       "202  E + CO2(v13) => E + CO2(v21)  excitation       1.9e+00     2.6e-17   \n",
       "203  E + CO2(v14) => E + CO2(v15)  excitation       2.5e-01     3.8e-15   \n",
       "204  E + CO2(v14) => E + CO2(v16)  excitation       4.9e-01     1.7e-15   \n",
       "205  E + CO2(v14) => E + CO2(v17)  excitation       7.3e-01     8.2e-16   \n",
       "206  E + CO2(v14) => E + CO2(v18)  excitation       9.7e-01     4.0e-16   \n",
       "207  E + CO2(v14) => E + CO2(v19)  excitation       1.2e+00     2.0e-16   \n",
       "208  E + CO2(v14) => E + CO2(v20)  excitation       1.4e+00     1.0e-16   \n",
       "209  E + CO2(v14) => E + CO2(v21)  excitation       1.7e+00     5.2e-17   \n",
       "210  E + CO2(v15) => E + CO2(v16)  excitation       2.4e-01     3.9e-15   \n",
       "211  E + CO2(v15) => E + CO2(v17)  excitation       4.9e-01     1.7e-15   \n",
       "212  E + CO2(v15) => E + CO2(v18)  excitation       7.3e-01     8.2e-16   \n",
       "213  E + CO2(v15) => E + CO2(v19)  excitation       9.6e-01     4.1e-16   \n",
       "214  E + CO2(v15) => E + CO2(v20)  excitation       1.2e+00     2.1e-16   \n",
       "215  E + CO2(v15) => E + CO2(v21)  excitation       1.4e+00     1.0e-16   \n",
       "216  E + CO2(v16) => E + CO2(v17)  excitation       2.4e-01     3.9e-15   \n",
       "217  E + CO2(v16) => E + CO2(v18)  excitation       4.8e-01     1.7e-15   \n",
       "218  E + CO2(v16) => E + CO2(v19)  excitation       7.2e-01     8.3e-16   \n",
       "219  E + CO2(v16) => E + CO2(v20)  excitation       9.5e-01     4.1e-16   \n",
       "220  E + CO2(v16) => E + CO2(v21)  excitation       1.2e+00     2.1e-16   \n",
       "221  E + CO2(v17) => E + CO2(v18)  excitation       2.4e-01     3.9e-15   \n",
       "222  E + CO2(v17) => E + CO2(v19)  excitation       4.7e-01     1.7e-15   \n",
       "223  E + CO2(v17) => E + CO2(v20)  excitation       7.1e-01     8.4e-16   \n",
       "224  E + CO2(v17) => E + CO2(v21)  excitation       9.4e-01     4.2e-16   \n",
       "225  E + CO2(v18) => E + CO2(v19)  excitation       2.4e-01     3.9e-15   \n",
       "226  E + CO2(v18) => E + CO2(v20)  excitation       4.7e-01     1.8e-15   \n",
       "227  E + CO2(v18) => E + CO2(v21)  excitation       7.0e-01     8.5e-16   \n",
       "228  E + CO2(v19) => E + CO2(v20)  excitation       2.3e-01     3.9e-15   \n",
       "229  E + CO2(v19) => E + CO2(v21)  excitation       4.6e-01     1.8e-15   \n",
       "230  E + CO2(v20) => E + CO2(v21)  excitation       2.3e-01     4.0e-15   \n",
       "\n",
       "     energy lose  \n",
       "0        1.1e-15  \n",
       "1        9.0e-16  \n",
       "2        6.3e-16  \n",
       "3        4.0e-16  \n",
       "4        2.5e-16  \n",
       "5        1.4e-16  \n",
       "6        8.1e-17  \n",
       "7        4.5e-17  \n",
       "8        2.4e-17  \n",
       "9        1.2e-17  \n",
       "10       6.2e-18  \n",
       "11       3.0e-18  \n",
       "12       1.5e-18  \n",
       "13       7.0e-19  \n",
       "14       3.3e-19  \n",
       "15       1.6e-19  \n",
       "16       8.0e-20  \n",
       "17       3.9e-20  \n",
       "18       2.0e-20  \n",
       "19       1.0e-20  \n",
       "20       5.1e-21  \n",
       "21       1.1e-15  \n",
       "22       9.0e-16  \n",
       "23       6.3e-16  \n",
       "24       4.0e-16  \n",
       "25       2.5e-16  \n",
       "26       1.4e-16  \n",
       "27       8.2e-17  \n",
       "28       4.5e-17  \n",
       "29       2.4e-17  \n",
       "..           ...  \n",
       "201      8.7e-17  \n",
       "202      5.0e-17  \n",
       "203      9.5e-16  \n",
       "204      8.5e-16  \n",
       "205      6.0e-16  \n",
       "206      3.9e-16  \n",
       "207      2.5e-16  \n",
       "208      1.5e-16  \n",
       "209      8.7e-17  \n",
       "210      9.5e-16  \n",
       "211      8.4e-16  \n",
       "212      6.0e-16  \n",
       "213      3.9e-16  \n",
       "214      2.5e-16  \n",
       "215      1.5e-16  \n",
       "216      9.4e-16  \n",
       "217      8.3e-16  \n",
       "218      6.0e-16  \n",
       "219      3.9e-16  \n",
       "220      2.4e-16  \n",
       "221      9.3e-16  \n",
       "222      8.3e-16  \n",
       "223      6.0e-16  \n",
       "224      3.9e-16  \n",
       "225      9.2e-16  \n",
       "226      8.2e-16  \n",
       "227      5.9e-16  \n",
       "228      9.2e-16  \n",
       "229      8.2e-16  \n",
       "230      9.1e-16  \n",
       "\n",
       "[231 rows x 5 columns]"
      ]
     },
     "execution_count": 47,
     "metadata": {},
     "output_type": "execute_result"
    }
   ],
   "source": [
    "eedf.inelas_rctn_info"
   ]
  },
  {
   "cell_type": "code",
   "execution_count": 48,
   "metadata": {},
   "outputs": [
    {
     "ename": "AttributeError",
     "evalue": "'DataFrame' object has no attribute 'so'",
     "output_type": "error",
     "traceback": [
      "\u001b[1;31m---------------------------------------------------------------------------\u001b[0m",
      "\u001b[1;31mAttributeError\u001b[0m                            Traceback (most recent call last)",
      "\u001b[1;32m<ipython-input-48-b3a1eba709b0>\u001b[0m in \u001b[0;36m<module>\u001b[1;34m\u001b[0m\n\u001b[1;32m----> 1\u001b[1;33m \u001b[0meedf\u001b[0m\u001b[1;33m.\u001b[0m\u001b[0minelas_rctn_info\u001b[0m\u001b[1;33m.\u001b[0m\u001b[0mso\u001b[0m\u001b[1;33m\u001b[0m\u001b[1;33m\u001b[0m\u001b[0m\n\u001b[0m",
      "\u001b[1;32m~\\Anaconda3\\lib\\site-packages\\pandas\\core\\generic.py\u001b[0m in \u001b[0;36m__getattr__\u001b[1;34m(self, name)\u001b[0m\n\u001b[0;32m   5065\u001b[0m             \u001b[1;32mif\u001b[0m \u001b[0mself\u001b[0m\u001b[1;33m.\u001b[0m\u001b[0m_info_axis\u001b[0m\u001b[1;33m.\u001b[0m\u001b[0m_can_hold_identifiers_and_holds_name\u001b[0m\u001b[1;33m(\u001b[0m\u001b[0mname\u001b[0m\u001b[1;33m)\u001b[0m\u001b[1;33m:\u001b[0m\u001b[1;33m\u001b[0m\u001b[1;33m\u001b[0m\u001b[0m\n\u001b[0;32m   5066\u001b[0m                 \u001b[1;32mreturn\u001b[0m \u001b[0mself\u001b[0m\u001b[1;33m[\u001b[0m\u001b[0mname\u001b[0m\u001b[1;33m]\u001b[0m\u001b[1;33m\u001b[0m\u001b[1;33m\u001b[0m\u001b[0m\n\u001b[1;32m-> 5067\u001b[1;33m             \u001b[1;32mreturn\u001b[0m \u001b[0mobject\u001b[0m\u001b[1;33m.\u001b[0m\u001b[0m__getattribute__\u001b[0m\u001b[1;33m(\u001b[0m\u001b[0mself\u001b[0m\u001b[1;33m,\u001b[0m \u001b[0mname\u001b[0m\u001b[1;33m)\u001b[0m\u001b[1;33m\u001b[0m\u001b[1;33m\u001b[0m\u001b[0m\n\u001b[0m\u001b[0;32m   5068\u001b[0m \u001b[1;33m\u001b[0m\u001b[0m\n\u001b[0;32m   5069\u001b[0m     \u001b[1;32mdef\u001b[0m \u001b[0m__setattr__\u001b[0m\u001b[1;33m(\u001b[0m\u001b[0mself\u001b[0m\u001b[1;33m,\u001b[0m \u001b[0mname\u001b[0m\u001b[1;33m,\u001b[0m \u001b[0mvalue\u001b[0m\u001b[1;33m)\u001b[0m\u001b[1;33m:\u001b[0m\u001b[1;33m\u001b[0m\u001b[1;33m\u001b[0m\u001b[0m\n",
      "\u001b[1;31mAttributeError\u001b[0m: 'DataFrame' object has no attribute 'so'"
     ]
    }
   ],
   "source": [
    "1e-06*(7.14e-8 * exp(-177*Tg_K()^(-1/3.0) + 451*Tg_K()^(-2/3.0) ) *(1.000000)*(1.000000)*\n",
    "           (0.5 * (3-exp(-2/3.0*(0.320000*0.082942*11604.5/4.441624* sqrt(22.004750/Tg_K())))) \n",
    "                *    exp(-2/3.0*(0.320000*0.082942*11604.5/4.441624* sqrt(22.004750/Tg_K())))\n",
    "           )/(0.5*(3-exp(-2/3.0*(0.320000*0.082942*11604.5/4.441624* sqrt(22.004750/Tg_K()))))\n",
    "                *    exp(-2/3.0 *(0.320000*0.082942*11604.5/4.441624* sqrt(22.004750/Tg_K()))))\n",
    "      )\""
   ]
  },
  {
   "cell_type": "code",
   "execution_count": null,
   "metadata": {},
   "outputs": [],
   "source": [
    "1e-06*(7.14e-8*exp(-177*Tg_K()^(-1/3.0)+451*Tg_K()^(-2/3.0))*(0.700000)*(1.000000)*\n",
    "       (0.5  *(3-exp(-2/3.0*(0.320000*0.082942*11604.5/4.587156* sqrt(17.116320/Tg_K()))))\n",
    "             *   exp(-2/3.0 *(0.320000*0.082942*11604.5/4.587156* sqrt(17.116320/Tg_K())))\n",
    "       )/(0.5*(3-exp(-2/3.0*(0.320000*0.082942*11604.5/4.587156* sqrt(17.116320/Tg_K()))))\n",
    "             *   exp(-2/3.0 *(0.320000*0.082942*11604.5/4.587156* sqrt(17.116320/Tg_K())))))\"\n"
   ]
  },
  {
   "cell_type": "code",
   "execution_count": 64,
   "metadata": {},
   "outputs": [],
   "source": [
    "a = r\"\"\"1e-06*(4.25e-1*exp(-407*Tg_K()^(-1/3.0)+824*Tg_K()^(-2/3.0))*(1.000000)*(3.022449)*\n",
    "       (0.5  *(3-exp(-2/3.0*(0.320000*0.205413*11604.5/4.441624* sqrt(22.004750/Tg_K()))))\n",
    "             *   exp(-2/3.0 *(0.320000*0.205413*11604.5/4.441624* sqrt(22.004750/Tg_K())))\n",
    "       )/(0.5*(3-exp(-2/3.0*(0.320000*0.208548*11604.5/4.441624* sqrt(22.004750/Tg_K()))))\n",
    "             *   exp(-2/3.0 *(0.320000*0.208548*11604.5/4.441624* sqrt(22.004750/Tg_K()))))\n",
    "       + 8.57e-1*exp(-404*Tg_K()^(-1/3.0)+1096*Tg_K()^(-2/3.0))*(1.000000)*(3.006018)*\n",
    "       (0.5  *(3-exp(-2/3.0*(0.320000*0.125192*11604.5/4.441624* sqrt(22.004750/Tg_K()))))\n",
    "             *   exp(-2/3.0 *(0.320000*0.125192*11604.5/4.441624* sqrt(22.004750/Tg_K())))\n",
    "       )/(0.5*(3-exp(-2/3.0*(0.320000*0.125271*11604.5/4.441624* sqrt(22.004750/Tg_K()))))\n",
    "             *   exp(-2/3.0 *(0.320000*0.125271*11604.5/4.441624* sqrt(22.004750/Tg_K())))) \n",
    "       + 1.43e-5*exp(-252*Tg_K()^(-1/3.0)+685*Tg_K()^(-2/3.0))*(1.000000)*(2.910585)*\n",
    "         (0.5*(3-exp(-2/3.0*(0.320000*0.044635*11604.5/4.441624* sqrt(22.004750/Tg_K()))))\n",
    "             *   exp(-2/3.0 *(0.320000*0.044635*11604.5/4.441624* sqrt(22.004750/Tg_K())))\n",
    "         )/(0.5*(3-exp(-2/3.0*(0.320000*0.041659*11604.5/4.441624* sqrt(22.004750/Tg_K()))))\n",
    "               *   exp(-2/3.0 *(0.320000*0.041659*11604.5/4.441624* sqrt(22.004750/Tg_K())))))\"\"\"\n"
   ]
  },
  {
   "cell_type": "code",
   "execution_count": 65,
   "metadata": {},
   "outputs": [],
   "source": [
    "from math import (exp, sqrt)\n",
    "a = a.replace(\"Tg_K()\", 'Tgas').replace('^', '**')"
   ]
  }
 ],
 "metadata": {
  "kernelspec": {
   "display_name": "Python 3",
   "language": "python",
   "name": "python3"
  },
  "language_info": {
   "codemirror_mode": {
    "name": "ipython",
    "version": 3
   },
   "file_extension": ".py",
   "mimetype": "text/x-python",
   "name": "python",
   "nbconvert_exporter": "python",
   "pygments_lexer": "ipython3",
   "version": "3.7.4"
  },
  "toc": {
   "base_numbering": 1,
   "nav_menu": {
    "height": "387px",
    "width": "270px"
   },
   "number_sections": true,
   "sideBar": false,
   "skip_h1_title": false,
   "title_cell": "Table of Contents",
   "title_sidebar": "Contents",
   "toc_cell": true,
   "toc_position": {
    "height": "205px",
    "left": "923px",
    "top": "168px",
    "width": "341px"
   },
   "toc_section_display": true,
   "toc_window_display": true
  },
  "varInspector": {
   "cols": {
    "lenName": 16,
    "lenType": 16,
    "lenVar": 40
   },
   "kernels_config": {
    "python": {
     "delete_cmd_postfix": "",
     "delete_cmd_prefix": "del ",
     "library": "var_list.py",
     "varRefreshCmd": "print(var_dic_list())"
    },
    "r": {
     "delete_cmd_postfix": ") ",
     "delete_cmd_prefix": "rm(",
     "library": "var_list.r",
     "varRefreshCmd": "cat(var_dic_list()) "
    }
   },
   "types_to_exclude": [
    "module",
    "function",
    "builtin_function_or_method",
    "instance",
    "_Feature"
   ],
   "window_display": false
  }
 },
 "nbformat": 4,
 "nbformat_minor": 2
}
