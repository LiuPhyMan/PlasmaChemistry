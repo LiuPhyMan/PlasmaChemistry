{
 "cells": [
  {
   "cell_type": "code",
   "execution_count": 1,
   "metadata": {},
   "outputs": [
    {
     "name": "stdout",
     "output_type": "stream",
     "text": [
      "E:\\Coding\\Python\\PlasmaChemistry\n"
     ]
    }
   ],
   "source": [
    "%cd .."
   ]
  },
  {
   "cell_type": "code",
   "execution_count": 3,
   "metadata": {},
   "outputs": [],
   "source": [
    "import pandas as pd\n",
    "from plasmistry.reactions import CoefReactions"
   ]
  },
  {
   "cell_type": "code",
   "execution_count": 7,
   "metadata": {},
   "outputs": [],
   "source": [
    "coef = CoefReactions(species=pd.Series([\"O(1)\", \"O(2)\", \"O(3)\", \"O2\", \"O3\"]),\n",
    "                    reactant=pd.Series([\"O(1)\", \"O(2)\", \"O(1) + O(2)\", \"3O2 + O(1)\",\n",
    "                                       \"3O2 + O(2)\", \"3O2 + O(3)\"]),\n",
    "                    product=pd.Series([\"O(2)\", \"O(3)\", \"O2\", \"2O3 + O(1)\", \n",
    "                                      \"2O3 + O(2)\", \"2O3 + O(3)\"]),\n",
    "                    k_str=pd.Series([\"1\", \"2\", \"3\", \"4\", \"5\", \"6\"]))\n"
   ]
  },
  {
   "cell_type": "code",
   "execution_count": 8,
   "metadata": {},
   "outputs": [
    {
     "data": {
      "text/html": [
       "<div>\n",
       "<style scoped>\n",
       "    .dataframe tbody tr th:only-of-type {\n",
       "        vertical-align: middle;\n",
       "    }\n",
       "\n",
       "    .dataframe tbody tr th {\n",
       "        vertical-align: top;\n",
       "    }\n",
       "\n",
       "    .dataframe thead th {\n",
       "        text-align: right;\n",
       "    }\n",
       "</style>\n",
       "<table border=\"1\" class=\"dataframe\">\n",
       "  <thead>\n",
       "    <tr style=\"text-align: right;\">\n",
       "      <th></th>\n",
       "      <th>formula</th>\n",
       "      <th>dH_e</th>\n",
       "      <th>dH_g</th>\n",
       "      <th>k_str</th>\n",
       "      <th>rate_const</th>\n",
       "      <th>rate</th>\n",
       "    </tr>\n",
       "  </thead>\n",
       "  <tbody>\n",
       "    <tr>\n",
       "      <th>0</th>\n",
       "      <td>O(1) =&gt; O(2)</td>\n",
       "      <td>0.0</td>\n",
       "      <td>0.0</td>\n",
       "      <td>1</td>\n",
       "      <td>NaN</td>\n",
       "      <td>NaN</td>\n",
       "    </tr>\n",
       "    <tr>\n",
       "      <th>1</th>\n",
       "      <td>O(2) =&gt; O(3)</td>\n",
       "      <td>0.0</td>\n",
       "      <td>0.0</td>\n",
       "      <td>2</td>\n",
       "      <td>NaN</td>\n",
       "      <td>NaN</td>\n",
       "    </tr>\n",
       "    <tr>\n",
       "      <th>2</th>\n",
       "      <td>O(1) + O(2) =&gt; O2</td>\n",
       "      <td>0.0</td>\n",
       "      <td>0.0</td>\n",
       "      <td>3</td>\n",
       "      <td>NaN</td>\n",
       "      <td>NaN</td>\n",
       "    </tr>\n",
       "    <tr>\n",
       "      <th>3</th>\n",
       "      <td>3O2 + O(1) =&gt; 2O3 + O(1)</td>\n",
       "      <td>0.0</td>\n",
       "      <td>0.0</td>\n",
       "      <td>4</td>\n",
       "      <td>NaN</td>\n",
       "      <td>NaN</td>\n",
       "    </tr>\n",
       "    <tr>\n",
       "      <th>4</th>\n",
       "      <td>3O2 + O(2) =&gt; 2O3 + O(2)</td>\n",
       "      <td>0.0</td>\n",
       "      <td>0.0</td>\n",
       "      <td>5</td>\n",
       "      <td>NaN</td>\n",
       "      <td>NaN</td>\n",
       "    </tr>\n",
       "    <tr>\n",
       "      <th>5</th>\n",
       "      <td>3O2 + O(3) =&gt; 2O3 + O(3)</td>\n",
       "      <td>0.0</td>\n",
       "      <td>0.0</td>\n",
       "      <td>6</td>\n",
       "      <td>NaN</td>\n",
       "      <td>NaN</td>\n",
       "    </tr>\n",
       "  </tbody>\n",
       "</table>\n",
       "</div>"
      ],
      "text/plain": [
       "                    formula  dH_e  dH_g k_str rate_const rate\n",
       "0              O(1) => O(2)   0.0   0.0     1        NaN  NaN\n",
       "1              O(2) => O(3)   0.0   0.0     2        NaN  NaN\n",
       "2         O(1) + O(2) => O2   0.0   0.0     3        NaN  NaN\n",
       "3  3O2 + O(1) => 2O3 + O(1)   0.0   0.0     4        NaN  NaN\n",
       "4  3O2 + O(2) => 2O3 + O(2)   0.0   0.0     5        NaN  NaN\n",
       "5  3O2 + O(3) => 2O3 + O(3)   0.0   0.0     6        NaN  NaN"
      ]
     },
     "execution_count": 8,
     "metadata": {},
     "output_type": "execute_result"
    }
   ],
   "source": [
    "coef.view()"
   ]
  },
  {
   "cell_type": "code",
   "execution_count": 11,
   "metadata": {},
   "outputs": [
    {
     "data": {
      "text/plain": [
       "array([[-1,  0, -1,  0,  0,  0],\n",
       "       [ 1, -1, -1,  0,  0,  0],\n",
       "       [ 0,  1,  0,  0,  0,  0],\n",
       "       [ 0,  0,  1, -3, -3, -3],\n",
       "       [ 0,  0,  0,  2,  2,  2]], dtype=int64)"
      ]
     },
     "execution_count": 11,
     "metadata": {},
     "output_type": "execute_result"
    }
   ],
   "source": [
    "coef._Reactions__sij.toarray()"
   ]
  },
  {
   "cell_type": "code",
   "execution_count": 12,
   "metadata": {},
   "outputs": [],
   "source": [
    "coef = CoefReactions(species=pd.Series([\"O(1)\", \"O(2)\", \"O(3)\", \"O2\", \"O3\",\"O(all)\"]),\n",
    "                    reactant=pd.Series([\"O(1)\", \"O(2)\", \"O(1) + O(2)\", \"3O2 + O(all)\"]),\n",
    "                    product=pd.Series([\"O(2)\", \"O(3)\", \"O2\", \"2O3 + O(all)\"]),\n",
    "                    k_str=pd.Series([\"1\", \"2\", \"3\", \"4\"]))"
   ]
  },
  {
   "cell_type": "code",
   "execution_count": 13,
   "metadata": {},
   "outputs": [
    {
     "data": {
      "text/plain": [
       "array([[-1,  0, -1,  0],\n",
       "       [ 1, -1, -1,  0],\n",
       "       [ 0,  1,  0,  0],\n",
       "       [ 0,  0,  1, -3],\n",
       "       [ 0,  0,  0,  2],\n",
       "       [ 0,  0,  0,  0]], dtype=int64)"
      ]
     },
     "execution_count": 13,
     "metadata": {},
     "output_type": "execute_result"
    }
   ],
   "source": [
    "coef._Reactions__sij.toarray()"
   ]
  },
  {
   "cell_type": "code",
   "execution_count": 14,
   "metadata": {},
   "outputs": [
    {
     "data": {
      "text/html": [
       "<div>\n",
       "<style scoped>\n",
       "    .dataframe tbody tr th:only-of-type {\n",
       "        vertical-align: middle;\n",
       "    }\n",
       "\n",
       "    .dataframe tbody tr th {\n",
       "        vertical-align: top;\n",
       "    }\n",
       "\n",
       "    .dataframe thead th {\n",
       "        text-align: right;\n",
       "    }\n",
       "</style>\n",
       "<table border=\"1\" class=\"dataframe\">\n",
       "  <thead>\n",
       "    <tr style=\"text-align: right;\">\n",
       "      <th></th>\n",
       "      <th>formula</th>\n",
       "      <th>dH_e</th>\n",
       "      <th>dH_g</th>\n",
       "      <th>k_str</th>\n",
       "      <th>rate_const</th>\n",
       "      <th>rate</th>\n",
       "    </tr>\n",
       "  </thead>\n",
       "  <tbody>\n",
       "    <tr>\n",
       "      <th>0</th>\n",
       "      <td>O(1) =&gt; O(2)</td>\n",
       "      <td>0.0</td>\n",
       "      <td>0.0</td>\n",
       "      <td>1</td>\n",
       "      <td>NaN</td>\n",
       "      <td>NaN</td>\n",
       "    </tr>\n",
       "    <tr>\n",
       "      <th>1</th>\n",
       "      <td>O(2) =&gt; O(3)</td>\n",
       "      <td>0.0</td>\n",
       "      <td>0.0</td>\n",
       "      <td>2</td>\n",
       "      <td>NaN</td>\n",
       "      <td>NaN</td>\n",
       "    </tr>\n",
       "    <tr>\n",
       "      <th>2</th>\n",
       "      <td>O(1) + O(2) =&gt; O2</td>\n",
       "      <td>0.0</td>\n",
       "      <td>0.0</td>\n",
       "      <td>3</td>\n",
       "      <td>NaN</td>\n",
       "      <td>NaN</td>\n",
       "    </tr>\n",
       "    <tr>\n",
       "      <th>3</th>\n",
       "      <td>3O2 + O(all) =&gt; 2O3 + O(all)</td>\n",
       "      <td>0.0</td>\n",
       "      <td>0.0</td>\n",
       "      <td>4</td>\n",
       "      <td>NaN</td>\n",
       "      <td>NaN</td>\n",
       "    </tr>\n",
       "  </tbody>\n",
       "</table>\n",
       "</div>"
      ],
      "text/plain": [
       "                        formula  dH_e  dH_g k_str rate_const rate\n",
       "0                  O(1) => O(2)   0.0   0.0     1        NaN  NaN\n",
       "1                  O(2) => O(3)   0.0   0.0     2        NaN  NaN\n",
       "2             O(1) + O(2) => O2   0.0   0.0     3        NaN  NaN\n",
       "3  3O2 + O(all) => 2O3 + O(all)   0.0   0.0     4        NaN  NaN"
      ]
     },
     "execution_count": 14,
     "metadata": {},
     "output_type": "execute_result"
    }
   ],
   "source": [
    "coef.view()"
   ]
  },
  {
   "cell_type": "code",
   "execution_count": 15,
   "metadata": {},
   "outputs": [
    {
     "data": {
      "text/plain": [
       "0      O(1)\n",
       "1      O(2)\n",
       "2      O(3)\n",
       "3        O2\n",
       "4        O3\n",
       "5    O(all)\n",
       "dtype: object"
      ]
     },
     "execution_count": 15,
     "metadata": {},
     "output_type": "execute_result"
    }
   ],
   "source": [
    "coef.species"
   ]
  },
  {
   "cell_type": "code",
   "execution_count": 16,
   "metadata": {},
   "outputs": [],
   "source": [
    "coef._set_species_group({\"O(all)\": [\"O(1)\", \"O(2)\", \"O(3)\"]})"
   ]
  },
  {
   "cell_type": "code",
   "execution_count": 17,
   "metadata": {},
   "outputs": [
    {
     "data": {
      "text/plain": [
       "array([[-1,  0, -1,  0],\n",
       "       [ 1, -1, -1,  0],\n",
       "       [ 0,  1,  0,  0],\n",
       "       [ 0,  0,  1, -3],\n",
       "       [ 0,  0,  0,  2],\n",
       "       [ 0,  0, -2,  0]], dtype=int64)"
      ]
     },
     "execution_count": 17,
     "metadata": {},
     "output_type": "execute_result"
    }
   ],
   "source": [
    "coef._Reactions__sij.toarray()"
   ]
  },
  {
   "cell_type": "code",
   "execution_count": 21,
   "metadata": {},
   "outputs": [],
   "source": [
    "y0 = coef.get_initial_density(density_dict={\"O(1)\":1, \"O(2)\":2, \"O(3)\":3, \"O2\":4, \"O3\":5, \"O(all)\":6})"
   ]
  },
  {
   "cell_type": "code",
   "execution_count": 20,
   "metadata": {},
   "outputs": [],
   "source": [
    "def dndt(t, y):\n",
    "    coef.set_rate_const(Tgas_K=1000, Te_eV=1.0, EN_Td=1.0)\n",
    "    coef.set_rate(density=y)\n",
    "    return coef.get_dn()"
   ]
  },
  {
   "cell_type": "code",
   "execution_count": 23,
   "metadata": {},
   "outputs": [
    {
     "data": {
      "text/plain": [
       "array([-7.000e+00, -9.000e+00,  4.000e+00, -4.602e+03,  3.072e+03,\n",
       "       -1.200e+01])"
      ]
     },
     "execution_count": 23,
     "metadata": {},
     "output_type": "execute_result"
    }
   ],
   "source": [
    "coef.compile_k_str()\n",
    "dndt(0, y0)"
   ]
  },
  {
   "cell_type": "code",
   "execution_count": 24,
   "metadata": {},
   "outputs": [],
   "source": [
    "from scipy.integrate import solve_ivp"
   ]
  },
  {
   "cell_type": "code",
   "execution_count": 25,
   "metadata": {},
   "outputs": [],
   "source": [
    "sol = solve_ivp(dndt, [0, 1e2], y0, method=\"BDF\")"
   ]
  },
  {
   "cell_type": "code",
   "execution_count": 35,
   "metadata": {},
   "outputs": [
    {
     "data": {
      "text/plain": [
       "<matplotlib.legend.Legend at 0x1784e9d7128>"
      ]
     },
     "execution_count": 35,
     "metadata": {},
     "output_type": "execute_result"
    },
    {
     "data": {
      "image/png": "[encoded data removed]",
      "text/plain": [
       "<Figure size 432x288 with 1 Axes>"
      ]
     },
     "metadata": {
      "needs_background": "light"
     },
     "output_type": "display_data"
    }
   ],
   "source": [
    "from matplotlib import pyplot as plt\n",
    "result = sol.y.transpose()\n",
    "plt.semilogx(sol.t,result,label=coef.species.tolist())\n",
    "plt.legend()"
   ]
  },
  {
   "cell_type": "code",
   "execution_count": 43,
   "metadata": {},
   "outputs": [
    {
     "data": {
      "text/plain": [
       "[<matplotlib.lines.Line2D at 0x1784ebd0240>]"
      ]
     },
     "execution_count": 43,
     "metadata": {},
     "output_type": "execute_result"
    },
    {
     "data": {
      "image/png": "[encoded data removed]",
      "text/plain": [
       "<Figure size 432x288 with 1 Axes>"
      ]
     },
     "metadata": {
      "needs_background": "light"
     },
     "output_type": "display_data"
    }
   ],
   "source": [
    "plt.semilogx(sol.t, result[:,:3].sum(axis=1))\n",
    "plt.semilogx(sol.t, result[:,-1])"
   ]
  },
  {
   "cell_type": "code",
   "execution_count": 41,
   "metadata": {},
   "outputs": [
    {
     "data": {
      "text/plain": [
       "array([6.        , 5.99997172, 5.99994345, 5.99966074, 5.99937812,\n",
       "       5.99784131, 5.9967766 , 5.99571296, 5.99465042, 5.99321298,\n",
       "       5.99177753, 5.99034406, 5.98891257, 5.98648188, 5.98405689,\n",
       "       5.98163758, 5.97922392, 5.97573375, 5.97225539, 5.96878878,\n",
       "       5.96533389, 5.95983889, 5.95437341, 5.94893723, 5.94353014,\n",
       "       5.93595849, 5.92844363, 5.92098499, 5.91358199, 5.90000272,\n",
       "       5.88660931, 5.87339834, 5.86036648, 5.84030129, 5.82065567,\n",
       "       5.80141787, 5.78257663, 5.75256822, 5.72354741, 5.69547106,\n",
       "       5.66829853, 5.62983765, 5.59314043, 5.55810056, 5.5246201 ,\n",
       "       5.47275773, 5.42449991, 5.37952169, 5.3375362 , 5.26939415,\n",
       "       5.20871332, 5.15445468, 5.10576507, 5.03300729, 4.97177972,\n",
       "       4.91981639, 4.87541406, 4.81478149, 4.7670147 , 4.72882118,\n",
       "       4.69795602, 4.664881  , 4.63946386, 4.61972708, 4.60421158,\n",
       "       4.59186494, 4.57689979, 4.5661432 , 4.55835377, 4.55265515,\n",
       "       4.54842035, 4.54429109, 4.54142137, 4.53942205, 4.53802292,\n",
       "       4.53703036, 4.53611614, 4.53551565, 4.5351222 , 4.5348649 ,\n",
       "       4.53469414, 4.53456147, 4.53447585, 4.53442099, 4.53438607,\n",
       "       4.53436349, 4.5343466 , 4.53433592, 4.53432928, 4.53432522,\n",
       "       4.53432268, 4.53432073, 4.53431961, 4.53431905, 4.53431878,\n",
       "       4.53431863, 4.53431854, 4.53431859, 4.53431876, 4.53431894,\n",
       "       4.53431904, 4.53431916, 4.53431926, 4.53431935, 4.5343195 ,\n",
       "       4.53431966, 4.5343197 , 4.5343196 , 4.53431945, 4.53431935,\n",
       "       4.53431927, 4.53431926, 4.53431926, 4.53431928, 4.53431928,\n",
       "       4.53431928, 4.53431927, 4.53431927, 4.53431927, 4.53431927,\n",
       "       4.53431927, 4.53431927, 4.53431927, 4.53431927, 4.53431927,\n",
       "       4.53431927, 4.53431927])"
      ]
     },
     "execution_count": 41,
     "metadata": {},
     "output_type": "execute_result"
    }
   ],
   "source": [
    "result[:,-1]"
   ]
  },
  {
   "cell_type": "code",
   "execution_count": null,
   "metadata": {},
   "outputs": [],
   "source": []
  }
 ],
 "metadata": {
  "hide_input": false,
  "kernelspec": {
   "display_name": "Python 3",
   "language": "python",
   "name": "python3"
  },
  "language_info": {
   "codemirror_mode": {
    "name": "ipython",
    "version": 3
   },
   "file_extension": ".py",
   "mimetype": "text/x-python",
   "name": "python",
   "nbconvert_exporter": "python",
   "pygments_lexer": "ipython3",
   "version": "3.7.1"
  },
  "toc": {
   "base_numbering": 1,
   "nav_menu": {},
   "number_sections": true,
   "sideBar": true,
   "skip_h1_title": false,
   "title_cell": "Table of Contents",
   "title_sidebar": "Contents",
   "toc_cell": false,
   "toc_position": {},
   "toc_section_display": true,
   "toc_window_display": true
  },
  "varInspector": {
   "cols": {
    "lenName": 16,
    "lenType": 16,
    "lenVar": 40
   },
   "kernels_config": {
    "python": {
     "delete_cmd_postfix": "",
     "delete_cmd_prefix": "del ",
     "library": "var_list.py",
     "varRefreshCmd": "print(var_dic_list())"
    },
    "r": {
     "delete_cmd_postfix": ") ",
     "delete_cmd_prefix": "rm(",
     "library": "var_list.r",
     "varRefreshCmd": "cat(var_dic_list()) "
    }
   },
   "types_to_exclude": [
    "module",
    "function",
    "builtin_function_or_method",
    "instance",
    "_Feature"
   ],
   "window_display": false
  }
 },
 "nbformat": 4,
 "nbformat_minor": 2
}
