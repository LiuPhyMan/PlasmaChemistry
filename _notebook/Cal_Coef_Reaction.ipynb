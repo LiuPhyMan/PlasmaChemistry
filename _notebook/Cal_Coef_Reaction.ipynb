{
 "cells": [
  {
   "cell_type": "code",
   "execution_count": 1,
   "metadata": {
    "ExecuteTime": {
     "end_time": "2019-09-09T05:04:28.761588Z",
     "start_time": "2019-09-09T05:04:28.083401Z"
    }
   },
   "outputs": [],
   "source": [
    "import numpy as np\n",
    "import pandas as pd\n",
    "import yaml\n",
    "from scipy.integrate import solve_ivp\n",
    "from matplotlib import pyplot as plt\n",
    "import re"
   ]
  },
  {
   "cell_type": "code",
   "execution_count": 2,
   "metadata": {
    "ExecuteTime": {
     "end_time": "2019-09-09T05:04:31.649870Z",
     "start_time": "2019-09-09T05:04:28.769568Z"
    }
   },
   "outputs": [],
   "source": [
    "from plasmistry.reactions import (Reactions, CoefReactions, CrosReactions)"
   ]
  },
  {
   "cell_type": "code",
   "execution_count": 3,
   "metadata": {
    "ExecuteTime": {
     "end_time": "2019-09-09T05:04:31.663832Z",
     "start_time": "2019-09-09T05:04:31.658847Z"
    }
   },
   "outputs": [],
   "source": [
    "plt.rcParams[\"figure.figsize\"] = (12,9)\n",
    "plt.rcParams[\"font.size\"] = 14"
   ]
  },
  {
   "cell_type": "code",
   "execution_count": 4,
   "metadata": {
    "ExecuteTime": {
     "end_time": "2019-09-09T05:04:31.742621Z",
     "start_time": "2019-09-09T05:04:31.673807Z"
    }
   },
   "outputs": [],
   "source": [
    "np.set_printoptions(precision=1, linewidth=130, edgeitems=5)\n",
    "pd.options.display.float_format = '{:,.1e}'.format"
   ]
  },
  {
   "cell_type": "markdown",
   "metadata": {},
   "source": [
    "# Read reactions"
   ]
  },
  {
   "cell_type": "code",
   "execution_count": 5,
   "metadata": {
    "scrolled": true
   },
   "outputs": [],
   "source": [
    "file_name_list = ['rctn_df_CO2_VT_with_CO2.pkl',\n",
    "                  'rctn_df_CO2_VT_with_CO2_reversed.pkl']\n",
    "_df = pd.DataFrame(columns=['formula','reactant', 'product', 'type', 'kstr'])\n",
    "for file_name in file_name_list:\n",
    "    _df = _df.append(pd.read_pickle(file_name), ignore_index=True)\n",
    "rctn_df = _df"
   ]
  },
  {
   "cell_type": "code",
   "execution_count": 6,
   "metadata": {
    "ExecuteTime": {
     "end_time": "2019-09-06T01:47:01.541437Z",
     "start_time": "2019-09-06T01:47:01.440710Z"
    }
   },
   "outputs": [],
   "source": [
    "coef = CoefReactions(reactant=rctn_df['reactant'],\n",
    "                     product=rctn_df['product'],\n",
    "                     k_str=rctn_df['kstr'])"
   ]
  },
  {
   "cell_type": "code",
   "execution_count": 7,
   "metadata": {
    "ExecuteTime": {
     "end_time": "2019-09-06T01:47:02.444026Z",
     "start_time": "2019-09-06T01:47:02.357258Z"
    }
   },
   "outputs": [],
   "source": [
    "coef.compile_k_str()"
   ]
  },
  {
   "cell_type": "code",
   "execution_count": 8,
   "metadata": {
    "ExecuteTime": {
     "end_time": "2019-09-06T01:47:02.646484Z",
     "start_time": "2019-09-06T01:47:02.540767Z"
    }
   },
   "outputs": [],
   "source": [
    "coef.set_rate_const(Tgas_K=1000, EN_Td=1, Te_eV=0)"
   ]
  },
  {
   "cell_type": "code",
   "execution_count": 9,
   "metadata": {
    "ExecuteTime": {
     "end_time": "2019-09-06T01:47:02.743226Z",
     "start_time": "2019-09-06T01:47:02.648479Z"
    },
    "scrolled": true
   },
   "outputs": [
    {
     "name": "stdout",
     "output_type": "stream",
     "text": [
      "\n",
      "        \n",
      "====SPECIES====\n",
      "        \n",
      "0           CO\n",
      "1          CO2\n",
      "2      CO2(v1)\n",
      "3     CO2(v10)\n",
      "4     CO2(v11)\n",
      "5     CO2(v12)\n",
      "6     CO2(v13)\n",
      "7     CO2(v14)\n",
      "8     CO2(v15)\n",
      "9     CO2(v16)\n",
      "10    CO2(v17)\n",
      "11    CO2(v18)\n",
      "12    CO2(v19)\n",
      "13     CO2(v2)\n",
      "14    CO2(v20)\n",
      "15    CO2(v21)\n",
      "16     CO2(v3)\n",
      "17     CO2(v4)\n",
      "18     CO2(v5)\n",
      "19     CO2(v6)\n",
      "20     CO2(v7)\n",
      "21     CO2(v8)\n",
      "22     CO2(v9)\n",
      "dtype: object\n",
      "        \n",
      "====REACTIONS====\n",
      "        \n",
      " columns: reactions dH_g[eV] dH_e[eV] k_str rate_const rate\n",
      "        \n",
      "                         reactions  dH_g[eV]  dH_e[eV]  \\\n",
      "0         CO2(v1) + CO => CO2 + CO   0.0e+00   0.0e+00   \n",
      "1     CO2(v2) + CO => CO2(v1) + CO   0.0e+00   0.0e+00   \n",
      "2     CO2(v3) + CO => CO2(v2) + CO   0.0e+00   0.0e+00   \n",
      "3     CO2(v4) + CO => CO2(v3) + CO   0.0e+00   0.0e+00   \n",
      "4     CO2(v5) + CO => CO2(v4) + CO   0.0e+00   0.0e+00   \n",
      "5     CO2(v6) + CO => CO2(v5) + CO   0.0e+00   0.0e+00   \n",
      "6     CO2(v7) + CO => CO2(v6) + CO   0.0e+00   0.0e+00   \n",
      "7     CO2(v8) + CO => CO2(v7) + CO   0.0e+00   0.0e+00   \n",
      "8     CO2(v9) + CO => CO2(v8) + CO   0.0e+00   0.0e+00   \n",
      "9    CO2(v10) + CO => CO2(v9) + CO   0.0e+00   0.0e+00   \n",
      "10  CO2(v11) + CO => CO2(v10) + CO   0.0e+00   0.0e+00   \n",
      "11  CO2(v12) + CO => CO2(v11) + CO   0.0e+00   0.0e+00   \n",
      "12  CO2(v13) + CO => CO2(v12) + CO   0.0e+00   0.0e+00   \n",
      "13  CO2(v14) + CO => CO2(v13) + CO   0.0e+00   0.0e+00   \n",
      "14  CO2(v15) + CO => CO2(v14) + CO   0.0e+00   0.0e+00   \n",
      "15  CO2(v16) + CO => CO2(v15) + CO   0.0e+00   0.0e+00   \n",
      "16  CO2(v17) + CO => CO2(v16) + CO   0.0e+00   0.0e+00   \n",
      "17  CO2(v18) + CO => CO2(v17) + CO   0.0e+00   0.0e+00   \n",
      "18  CO2(v19) + CO => CO2(v18) + CO   0.0e+00   0.0e+00   \n",
      "19  CO2(v20) + CO => CO2(v19) + CO   0.0e+00   0.0e+00   \n",
      "20  CO2(v21) + CO => CO2(v20) + CO   0.0e+00   0.0e+00   \n",
      "21        CO2 + CO => CO2(v1) + CO   0.0e+00   0.0e+00   \n",
      "22    CO2(v1) + CO => CO2(v2) + CO   0.0e+00   0.0e+00   \n",
      "23    CO2(v2) + CO => CO2(v3) + CO   0.0e+00   0.0e+00   \n",
      "24    CO2(v3) + CO => CO2(v4) + CO   0.0e+00   0.0e+00   \n",
      "25    CO2(v4) + CO => CO2(v5) + CO   0.0e+00   0.0e+00   \n",
      "26    CO2(v5) + CO => CO2(v6) + CO   0.0e+00   0.0e+00   \n",
      "27    CO2(v6) + CO => CO2(v7) + CO   0.0e+00   0.0e+00   \n",
      "28    CO2(v7) + CO => CO2(v8) + CO   0.0e+00   0.0e+00   \n",
      "29    CO2(v8) + CO => CO2(v9) + CO   0.0e+00   0.0e+00   \n",
      "30   CO2(v9) + CO => CO2(v10) + CO   0.0e+00   0.0e+00   \n",
      "31  CO2(v10) + CO => CO2(v11) + CO   0.0e+00   0.0e+00   \n",
      "32  CO2(v11) + CO => CO2(v12) + CO   0.0e+00   0.0e+00   \n",
      "33  CO2(v12) + CO => CO2(v13) + CO   0.0e+00   0.0e+00   \n",
      "34  CO2(v13) + CO => CO2(v14) + CO   0.0e+00   0.0e+00   \n",
      "35  CO2(v14) + CO => CO2(v15) + CO   0.0e+00   0.0e+00   \n",
      "36  CO2(v15) + CO => CO2(v16) + CO   0.0e+00   0.0e+00   \n",
      "37  CO2(v16) + CO => CO2(v17) + CO   0.0e+00   0.0e+00   \n",
      "38  CO2(v17) + CO => CO2(v18) + CO   0.0e+00   0.0e+00   \n",
      "39  CO2(v18) + CO => CO2(v19) + CO   0.0e+00   0.0e+00   \n",
      "40  CO2(v19) + CO => CO2(v20) + CO   0.0e+00   0.0e+00   \n",
      "41  CO2(v20) + CO => CO2(v21) + CO   0.0e+00   0.0e+00   \n",
      "\n",
      "                                       rate_const_str  rate_const rate  \n",
      "0   (((0.425)*exp((-407)*Tgas**(-1/3)+(824)*Tgas**...     5.1e-19  NaN  \n",
      "1   (((0.425)*exp((-407)*Tgas**(-1/3)+(824)*Tgas**...     6.6e-19  NaN  \n",
      "2   (((0.425)*exp((-407)*Tgas**(-1/3)+(824)*Tgas**...     8.4e-19  NaN  \n",
      "3   (((0.425)*exp((-407)*Tgas**(-1/3)+(824)*Tgas**...     1.1e-18  NaN  \n",
      "4   (((0.425)*exp((-407)*Tgas**(-1/3)+(824)*Tgas**...     1.4e-18  NaN  \n",
      "5   (((0.425)*exp((-407)*Tgas**(-1/3)+(824)*Tgas**...     1.8e-18  NaN  \n",
      "6   (((0.425)*exp((-407)*Tgas**(-1/3)+(824)*Tgas**...     2.3e-18  NaN  \n",
      "7   (((0.425)*exp((-407)*Tgas**(-1/3)+(824)*Tgas**...     2.9e-18  NaN  \n",
      "8   (((0.425)*exp((-407)*Tgas**(-1/3)+(824)*Tgas**...     3.7e-18  NaN  \n",
      "9   (((0.425)*exp((-407)*Tgas**(-1/3)+(824)*Tgas**...     4.8e-18  NaN  \n",
      "10  (((0.425)*exp((-407)*Tgas**(-1/3)+(824)*Tgas**...     6.1e-18  NaN  \n",
      "11  (((0.425)*exp((-407)*Tgas**(-1/3)+(824)*Tgas**...     7.8e-18  NaN  \n",
      "12  (((0.425)*exp((-407)*Tgas**(-1/3)+(824)*Tgas**...     1.0e-17  NaN  \n",
      "13  (((0.425)*exp((-407)*Tgas**(-1/3)+(824)*Tgas**...     1.3e-17  NaN  \n",
      "14  (((0.425)*exp((-407)*Tgas**(-1/3)+(824)*Tgas**...     1.6e-17  NaN  \n",
      "15  (((0.425)*exp((-407)*Tgas**(-1/3)+(824)*Tgas**...     2.1e-17  NaN  \n",
      "16  (((0.425)*exp((-407)*Tgas**(-1/3)+(824)*Tgas**...     2.7e-17  NaN  \n",
      "17  (((0.425)*exp((-407)*Tgas**(-1/3)+(824)*Tgas**...     3.4e-17  NaN  \n",
      "18  (((0.425)*exp((-407)*Tgas**(-1/3)+(824)*Tgas**...     4.4e-17  NaN  \n",
      "19  (((0.425)*exp((-407)*Tgas**(-1/3)+(824)*Tgas**...     5.7e-17  NaN  \n",
      "20  (((0.425)*exp((-407)*Tgas**(-1/3)+(824)*Tgas**...     7.2e-17  NaN  \n",
      "21  (((0.425)*exp((-407)*Tgas**(-1/3)+(824)*Tgas**...     1.7e-20  NaN  \n",
      "22  (((0.425)*exp((-407)*Tgas**(-1/3)+(824)*Tgas**...     2.3e-20  NaN  \n",
      "23  (((0.425)*exp((-407)*Tgas**(-1/3)+(824)*Tgas**...     3.1e-20  NaN  \n",
      "24  (((0.425)*exp((-407)*Tgas**(-1/3)+(824)*Tgas**...     4.1e-20  NaN  \n",
      "25  (((0.425)*exp((-407)*Tgas**(-1/3)+(824)*Tgas**...     5.4e-20  NaN  \n",
      "26  (((0.425)*exp((-407)*Tgas**(-1/3)+(824)*Tgas**...     7.2e-20  NaN  \n",
      "27  (((0.425)*exp((-407)*Tgas**(-1/3)+(824)*Tgas**...     9.6e-20  NaN  \n",
      "28  (((0.425)*exp((-407)*Tgas**(-1/3)+(824)*Tgas**...     1.3e-19  NaN  \n",
      "29  (((0.425)*exp((-407)*Tgas**(-1/3)+(824)*Tgas**...     1.7e-19  NaN  \n",
      "30  (((0.425)*exp((-407)*Tgas**(-1/3)+(824)*Tgas**...     2.2e-19  NaN  \n",
      "31  (((0.425)*exp((-407)*Tgas**(-1/3)+(824)*Tgas**...     3.0e-19  NaN  \n",
      "32  (((0.425)*exp((-407)*Tgas**(-1/3)+(824)*Tgas**...     3.9e-19  NaN  \n",
      "33  (((0.425)*exp((-407)*Tgas**(-1/3)+(824)*Tgas**...     5.2e-19  NaN  \n",
      "34  (((0.425)*exp((-407)*Tgas**(-1/3)+(824)*Tgas**...     6.9e-19  NaN  \n",
      "35  (((0.425)*exp((-407)*Tgas**(-1/3)+(824)*Tgas**...     9.2e-19  NaN  \n",
      "36  (((0.425)*exp((-407)*Tgas**(-1/3)+(824)*Tgas**...     1.2e-18  NaN  \n",
      "37  (((0.425)*exp((-407)*Tgas**(-1/3)+(824)*Tgas**...     1.6e-18  NaN  \n",
      "38  (((0.425)*exp((-407)*Tgas**(-1/3)+(824)*Tgas**...     2.2e-18  NaN  \n",
      "39  (((0.425)*exp((-407)*Tgas**(-1/3)+(824)*Tgas**...     2.9e-18  NaN  \n",
      "40  (((0.425)*exp((-407)*Tgas**(-1/3)+(824)*Tgas**...     3.8e-18  NaN  \n",
      "41  (((0.425)*exp((-407)*Tgas**(-1/3)+(824)*Tgas**...     5.1e-18  NaN  \n",
      "        \n",
      "====PROPERTIES====\n",
      "        \n",
      "CLASS : <class 'plasmistry.reactions.reaction_class.CoefReactions'>.\n",
      "        \n",
      "Type : k_coefficients related.\n",
      "        \n",
      "__23__ species. \n",
      "        \n",
      "__42__ reactions.\n",
      "        \n",
      "        \n",
      "====PRE_EXEC_LIST====\n",
      "        \n",
      "[]\n",
      "        \n",
      "====K_STR_COMPILED====\n",
      "        \n",
      "<code object <module> at 0x000001E8E0FC79C0, file \"<string>\", line 1>\n",
      "        \n",
      "====MID_VARIABLES====\n",
      "        \n",
      "EN         1\n",
      "Tgas    1000\n",
      "Te         0\n",
      "dtype: int64\n"
     ]
    }
   ],
   "source": [
    "print(coef)"
   ]
  },
  {
   "cell_type": "code",
   "execution_count": 10,
   "metadata": {
    "ExecuteTime": {
     "end_time": "2019-09-06T01:49:11.958893Z",
     "start_time": "2019-09-06T01:49:04.343246Z"
    }
   },
   "outputs": [],
   "source": [
    "coef.set_rate(density=np.arange(1,24)*1e22)"
   ]
  },
  {
   "cell_type": "code",
   "execution_count": 11,
   "metadata": {},
   "outputs": [
    {
     "name": "stdout",
     "output_type": "stream",
     "text": [
      "\n",
      "        \n",
      "====SPECIES====\n",
      "        \n",
      "0           CO\n",
      "1          CO2\n",
      "2      CO2(v1)\n",
      "3     CO2(v10)\n",
      "4     CO2(v11)\n",
      "5     CO2(v12)\n",
      "6     CO2(v13)\n",
      "7     CO2(v14)\n",
      "8     CO2(v15)\n",
      "9     CO2(v16)\n",
      "10    CO2(v17)\n",
      "11    CO2(v18)\n",
      "12    CO2(v19)\n",
      "13     CO2(v2)\n",
      "14    CO2(v20)\n",
      "15    CO2(v21)\n",
      "16     CO2(v3)\n",
      "17     CO2(v4)\n",
      "18     CO2(v5)\n",
      "19     CO2(v6)\n",
      "20     CO2(v7)\n",
      "21     CO2(v8)\n",
      "22     CO2(v9)\n",
      "dtype: object\n",
      "        \n",
      "====REACTIONS====\n",
      "        \n",
      " columns: reactions dH_g[eV] dH_e[eV] k_str rate_const rate\n",
      "        \n",
      "                         reactions  dH_g[eV]  dH_e[eV]  \\\n",
      "0         CO2(v1) + CO => CO2 + CO   0.0e+00   0.0e+00   \n",
      "1     CO2(v2) + CO => CO2(v1) + CO   0.0e+00   0.0e+00   \n",
      "2     CO2(v3) + CO => CO2(v2) + CO   0.0e+00   0.0e+00   \n",
      "3     CO2(v4) + CO => CO2(v3) + CO   0.0e+00   0.0e+00   \n",
      "4     CO2(v5) + CO => CO2(v4) + CO   0.0e+00   0.0e+00   \n",
      "5     CO2(v6) + CO => CO2(v5) + CO   0.0e+00   0.0e+00   \n",
      "6     CO2(v7) + CO => CO2(v6) + CO   0.0e+00   0.0e+00   \n",
      "7     CO2(v8) + CO => CO2(v7) + CO   0.0e+00   0.0e+00   \n",
      "8     CO2(v9) + CO => CO2(v8) + CO   0.0e+00   0.0e+00   \n",
      "9    CO2(v10) + CO => CO2(v9) + CO   0.0e+00   0.0e+00   \n",
      "10  CO2(v11) + CO => CO2(v10) + CO   0.0e+00   0.0e+00   \n",
      "11  CO2(v12) + CO => CO2(v11) + CO   0.0e+00   0.0e+00   \n",
      "12  CO2(v13) + CO => CO2(v12) + CO   0.0e+00   0.0e+00   \n",
      "13  CO2(v14) + CO => CO2(v13) + CO   0.0e+00   0.0e+00   \n",
      "14  CO2(v15) + CO => CO2(v14) + CO   0.0e+00   0.0e+00   \n",
      "15  CO2(v16) + CO => CO2(v15) + CO   0.0e+00   0.0e+00   \n",
      "16  CO2(v17) + CO => CO2(v16) + CO   0.0e+00   0.0e+00   \n",
      "17  CO2(v18) + CO => CO2(v17) + CO   0.0e+00   0.0e+00   \n",
      "18  CO2(v19) + CO => CO2(v18) + CO   0.0e+00   0.0e+00   \n",
      "19  CO2(v20) + CO => CO2(v19) + CO   0.0e+00   0.0e+00   \n",
      "20  CO2(v21) + CO => CO2(v20) + CO   0.0e+00   0.0e+00   \n",
      "21        CO2 + CO => CO2(v1) + CO   0.0e+00   0.0e+00   \n",
      "22    CO2(v1) + CO => CO2(v2) + CO   0.0e+00   0.0e+00   \n",
      "23    CO2(v2) + CO => CO2(v3) + CO   0.0e+00   0.0e+00   \n",
      "24    CO2(v3) + CO => CO2(v4) + CO   0.0e+00   0.0e+00   \n",
      "25    CO2(v4) + CO => CO2(v5) + CO   0.0e+00   0.0e+00   \n",
      "26    CO2(v5) + CO => CO2(v6) + CO   0.0e+00   0.0e+00   \n",
      "27    CO2(v6) + CO => CO2(v7) + CO   0.0e+00   0.0e+00   \n",
      "28    CO2(v7) + CO => CO2(v8) + CO   0.0e+00   0.0e+00   \n",
      "29    CO2(v8) + CO => CO2(v9) + CO   0.0e+00   0.0e+00   \n",
      "30   CO2(v9) + CO => CO2(v10) + CO   0.0e+00   0.0e+00   \n",
      "31  CO2(v10) + CO => CO2(v11) + CO   0.0e+00   0.0e+00   \n",
      "32  CO2(v11) + CO => CO2(v12) + CO   0.0e+00   0.0e+00   \n",
      "33  CO2(v12) + CO => CO2(v13) + CO   0.0e+00   0.0e+00   \n",
      "34  CO2(v13) + CO => CO2(v14) + CO   0.0e+00   0.0e+00   \n",
      "35  CO2(v14) + CO => CO2(v15) + CO   0.0e+00   0.0e+00   \n",
      "36  CO2(v15) + CO => CO2(v16) + CO   0.0e+00   0.0e+00   \n",
      "37  CO2(v16) + CO => CO2(v17) + CO   0.0e+00   0.0e+00   \n",
      "38  CO2(v17) + CO => CO2(v18) + CO   0.0e+00   0.0e+00   \n",
      "39  CO2(v18) + CO => CO2(v19) + CO   0.0e+00   0.0e+00   \n",
      "40  CO2(v19) + CO => CO2(v20) + CO   0.0e+00   0.0e+00   \n",
      "41  CO2(v20) + CO => CO2(v21) + CO   0.0e+00   0.0e+00   \n",
      "\n",
      "                                       rate_const_str  rate_const    rate  \n",
      "0   (((0.425)*exp((-407)*Tgas**(-1/3)+(824)*Tgas**...     5.1e-19 1.5e+26  \n",
      "1   (((0.425)*exp((-407)*Tgas**(-1/3)+(824)*Tgas**...     6.6e-19 9.2e+26  \n",
      "2   (((0.425)*exp((-407)*Tgas**(-1/3)+(824)*Tgas**...     8.4e-19 1.4e+27  \n",
      "3   (((0.425)*exp((-407)*Tgas**(-1/3)+(824)*Tgas**...     1.1e-18 1.9e+27  \n",
      "4   (((0.425)*exp((-407)*Tgas**(-1/3)+(824)*Tgas**...     1.4e-18 2.6e+27  \n",
      "5   (((0.425)*exp((-407)*Tgas**(-1/3)+(824)*Tgas**...     1.8e-18 3.5e+27  \n",
      "6   (((0.425)*exp((-407)*Tgas**(-1/3)+(824)*Tgas**...     2.3e-18 4.8e+27  \n",
      "7   (((0.425)*exp((-407)*Tgas**(-1/3)+(824)*Tgas**...     2.9e-18 6.4e+27  \n",
      "8   (((0.425)*exp((-407)*Tgas**(-1/3)+(824)*Tgas**...     3.7e-18 8.5e+27  \n",
      "9   (((0.425)*exp((-407)*Tgas**(-1/3)+(824)*Tgas**...     4.8e-18 1.9e+27  \n",
      "10  (((0.425)*exp((-407)*Tgas**(-1/3)+(824)*Tgas**...     6.1e-18 3.0e+27  \n",
      "11  (((0.425)*exp((-407)*Tgas**(-1/3)+(824)*Tgas**...     7.8e-18 4.7e+27  \n",
      "12  (((0.425)*exp((-407)*Tgas**(-1/3)+(824)*Tgas**...     1.0e-17 7.0e+27  \n",
      "13  (((0.425)*exp((-407)*Tgas**(-1/3)+(824)*Tgas**...     1.3e-17 1.0e+28  \n",
      "14  (((0.425)*exp((-407)*Tgas**(-1/3)+(824)*Tgas**...     1.6e-17 1.5e+28  \n",
      "15  (((0.425)*exp((-407)*Tgas**(-1/3)+(824)*Tgas**...     2.1e-17 2.1e+28  \n",
      "16  (((0.425)*exp((-407)*Tgas**(-1/3)+(824)*Tgas**...     2.7e-17 3.0e+28  \n",
      "17  (((0.425)*exp((-407)*Tgas**(-1/3)+(824)*Tgas**...     3.4e-17 4.1e+28  \n",
      "18  (((0.425)*exp((-407)*Tgas**(-1/3)+(824)*Tgas**...     4.4e-17 5.7e+28  \n",
      "19  (((0.425)*exp((-407)*Tgas**(-1/3)+(824)*Tgas**...     5.7e-17 8.5e+28  \n",
      "20  (((0.425)*exp((-407)*Tgas**(-1/3)+(824)*Tgas**...     7.2e-17 1.2e+29  \n",
      "21  (((0.425)*exp((-407)*Tgas**(-1/3)+(824)*Tgas**...     1.7e-20 3.5e+24  \n",
      "22  (((0.425)*exp((-407)*Tgas**(-1/3)+(824)*Tgas**...     2.3e-20 7.0e+24  \n",
      "23  (((0.425)*exp((-407)*Tgas**(-1/3)+(824)*Tgas**...     3.1e-20 4.3e+25  \n",
      "24  (((0.425)*exp((-407)*Tgas**(-1/3)+(824)*Tgas**...     4.1e-20 6.9e+25  \n",
      "25  (((0.425)*exp((-407)*Tgas**(-1/3)+(824)*Tgas**...     5.4e-20 9.8e+25  \n",
      "26  (((0.425)*exp((-407)*Tgas**(-1/3)+(824)*Tgas**...     7.2e-20 1.4e+26  \n",
      "27  (((0.425)*exp((-407)*Tgas**(-1/3)+(824)*Tgas**...     9.6e-20 1.9e+26  \n",
      "28  (((0.425)*exp((-407)*Tgas**(-1/3)+(824)*Tgas**...     1.3e-19 2.7e+26  \n",
      "29  (((0.425)*exp((-407)*Tgas**(-1/3)+(824)*Tgas**...     1.7e-19 3.7e+26  \n",
      "30  (((0.425)*exp((-407)*Tgas**(-1/3)+(824)*Tgas**...     2.2e-19 5.1e+26  \n",
      "31  (((0.425)*exp((-407)*Tgas**(-1/3)+(824)*Tgas**...     3.0e-19 1.2e+26  \n",
      "32  (((0.425)*exp((-407)*Tgas**(-1/3)+(824)*Tgas**...     3.9e-19 2.0e+26  \n",
      "33  (((0.425)*exp((-407)*Tgas**(-1/3)+(824)*Tgas**...     5.2e-19 3.1e+26  \n",
      "34  (((0.425)*exp((-407)*Tgas**(-1/3)+(824)*Tgas**...     6.9e-19 4.9e+26  \n",
      "35  (((0.425)*exp((-407)*Tgas**(-1/3)+(824)*Tgas**...     9.2e-19 7.4e+26  \n",
      "36  (((0.425)*exp((-407)*Tgas**(-1/3)+(824)*Tgas**...     1.2e-18 1.1e+27  \n",
      "37  (((0.425)*exp((-407)*Tgas**(-1/3)+(824)*Tgas**...     1.6e-18 1.6e+27  \n",
      "38  (((0.425)*exp((-407)*Tgas**(-1/3)+(824)*Tgas**...     2.2e-18 2.4e+27  \n",
      "39  (((0.425)*exp((-407)*Tgas**(-1/3)+(824)*Tgas**...     2.9e-18 3.4e+27  \n",
      "40  (((0.425)*exp((-407)*Tgas**(-1/3)+(824)*Tgas**...     3.8e-18 4.9e+27  \n",
      "41  (((0.425)*exp((-407)*Tgas**(-1/3)+(824)*Tgas**...     5.1e-18 7.6e+27  \n",
      "        \n",
      "====PROPERTIES====\n",
      "        \n",
      "CLASS : <class 'plasmistry.reactions.reaction_class.CoefReactions'>.\n",
      "        \n",
      "Type : k_coefficients related.\n",
      "        \n",
      "__23__ species. \n",
      "        \n",
      "__42__ reactions.\n",
      "        \n",
      "        \n",
      "====PRE_EXEC_LIST====\n",
      "        \n",
      "[]\n",
      "        \n",
      "====K_STR_COMPILED====\n",
      "        \n",
      "<code object <module> at 0x000001E8E0FC79C0, file \"<string>\", line 1>\n",
      "        \n",
      "====MID_VARIABLES====\n",
      "        \n",
      "EN         1\n",
      "Tgas    1000\n",
      "Te         0\n",
      "dtype: int64\n"
     ]
    }
   ],
   "source": [
    "print(coef)"
   ]
  },
  {
   "cell_type": "code",
   "execution_count": 12,
   "metadata": {
    "ExecuteTime": {
     "end_time": "2019-09-06T01:50:43.552107Z",
     "start_time": "2019-09-06T01:50:43.547121Z"
    }
   },
   "outputs": [
    {
     "data": {
      "text/plain": [
       "'(((0.425)*exp((-407)*Tgas**(-1/3)+(824)*Tgas**(-2/3)))+((0.425)*exp((-404)*Tgas**(-1/3)+(1096)*Tgas**(-2/3)))+((0.425)*exp((-252)*Tgas**(-1/3)+(685)*Tgas**(-2/3))))*(0.5*(3-exp(-2/3*(0.32*3379.9038207443914/(4.587156)*sqrt((22)/Tgas))))*exp(-2/3*(0.32*3379.9038207443914/(4.587156)*sqrt((22)/Tgas))))'"
      ]
     },
     "execution_count": 12,
     "metadata": {},
     "output_type": "execute_result"
    }
   ],
   "source": [
    "coef.k_str[0]"
   ]
  },
  {
   "cell_type": "code",
   "execution_count": 13,
   "metadata": {},
   "outputs": [
    {
     "data": {
      "text/plain": [
       "'(((0.425)*exp((-407)*Tgas**(-1/3)+(824)*Tgas**(-2/3)))+((0.425)*exp((-404)*Tgas**(-1/3)+(1096)*Tgas**(-2/3)))+((0.425)*exp((-252)*Tgas**(-1/3)+(685)*Tgas**(-2/3))))*(0.5*(3-exp(-2/3*(0.32*3379.9038207443914/(4.587156)*sqrt((22)/Tgas))))*exp(-2/3*(0.32*3379.9038207443914/(4.587156)*sqrt((22)/Tgas))))*exp(-3379.9038207443914/Tgas)'"
      ]
     },
     "execution_count": 13,
     "metadata": {},
     "output_type": "execute_result"
    }
   ],
   "source": [
    "coef.k_str[21]"
   ]
  },
  {
   "cell_type": "code",
   "execution_count": 14,
   "metadata": {},
   "outputs": [],
   "source": [
    "y0 = np.arange(1,24)*1e22\n",
    "def dndt(t, y):\n",
    "    coef.set_rate_const(Tgas_K=5000)\n",
    "    coef.set_rate(density=y)\n",
    "    return coef.get_dn()"
   ]
  },
  {
   "cell_type": "code",
   "execution_count": 15,
   "metadata": {},
   "outputs": [],
   "source": [
    "time_span = [0, 1e3]\n",
    "sol = solve_ivp(dndt, time_span, y0, method='BDF')"
   ]
  },
  {
   "cell_type": "code",
   "execution_count": 16,
   "metadata": {
    "scrolled": true
   },
   "outputs": [
    {
     "data": {
      "text/plain": [
       "array([0.0e+00, 1.0e-15, 2.0e-15, 1.2e-14, 2.2e-14, 6.1e-14, 9.9e-14, 1.4e-13, 2.1e-13, 2.8e-13, 3.6e-13, 4.3e-13, 5.1e-13,\n",
       "       5.9e-13, 6.7e-13, 7.5e-13, 8.9e-13, 1.0e-12, 1.2e-12, 1.3e-12, 1.5e-12, 1.7e-12, 1.9e-12, 2.1e-12, 2.4e-12, 2.7e-12,\n",
       "       3.0e-12, 3.3e-12, 3.7e-12, 4.1e-12, 4.5e-12, 4.8e-12, 5.3e-12, 5.8e-12, 6.4e-12, 6.9e-12, 7.4e-12, 8.1e-12, 8.8e-12,\n",
       "       9.6e-12, 1.0e-11, 1.1e-11, 1.2e-11, 1.3e-11, 1.4e-11, 1.5e-11, 1.6e-11, 1.7e-11, 1.8e-11, 1.9e-11, 2.0e-11, 2.1e-11,\n",
       "       2.3e-11, 2.4e-11, 2.6e-11, 2.7e-11, 2.8e-11, 3.0e-11, 3.2e-11, 3.3e-11, 3.5e-11, 3.7e-11, 3.9e-11, 4.1e-11, 4.3e-11,\n",
       "       4.5e-11, 4.7e-11, 4.9e-11, 5.2e-11, 5.5e-11, 5.7e-11, 6.0e-11, 6.4e-11, 6.7e-11, 7.1e-11, 7.5e-11, 7.9e-11, 8.5e-11,\n",
       "       9.1e-11, 9.7e-11, 1.0e-10, 1.2e-10, 1.4e-10, 1.6e-10, 3.1e-10, 4.5e-10, 1.9e-09, 3.4e-09, 1.8e-08, 3.2e-08, 1.8e-07,\n",
       "       3.2e-07, 1.8e-06, 3.2e-06, 1.8e-05, 3.2e-05, 1.8e-04, 3.2e-04, 1.8e-03, 3.2e-03, 1.8e-02, 3.2e-02, 1.8e-01, 3.2e-01,\n",
       "       1.8e+00, 3.2e+00, 1.8e+01, 3.2e+01, 1.8e+02, 3.2e+02, 1.0e+03])"
      ]
     },
     "execution_count": 16,
     "metadata": {},
     "output_type": "execute_result"
    }
   ],
   "source": [
    "sol.t"
   ]
  },
  {
   "cell_type": "code",
   "execution_count": 17,
   "metadata": {
    "scrolled": false
   },
   "outputs": [
    {
     "data": {
      "text/plain": [
       "array([[1.0e+22, 1.0e+22, 1.0e+22, 1.0e+22, 1.0e+22, ..., 1.0e+22, 1.0e+22, 1.0e+22, 1.0e+22, 1.0e+22],\n",
       "       [2.0e+22, 2.0e+22, 2.0e+22, 2.0e+22, 2.0e+22, ..., 1.3e+24, 1.3e+24, 1.3e+24, 1.3e+24, 1.3e+24],\n",
       "       [3.0e+22, 3.0e+22, 3.0e+22, 3.1e+22, 3.2e+22, ..., 6.8e+23, 6.8e+23, 6.8e+23, 6.8e+23, 6.8e+23],\n",
       "       [4.0e+22, 4.0e+22, 4.0e+22, 4.3e+22, 4.5e+22, ..., 2.1e+21, 2.1e+21, 2.1e+21, 2.1e+21, 2.1e+21],\n",
       "       [5.0e+22, 5.0e+22, 5.0e+22, 5.0e+22, 5.1e+22, ..., 1.2e+21, 1.2e+21, 1.2e+21, 1.2e+21, 1.2e+21],\n",
       "       ...,\n",
       "       [1.9e+23, 1.9e+23, 1.9e+23, 1.9e+23, 1.9e+23, ..., 4.9e+22, 4.9e+22, 4.9e+22, 4.9e+22, 4.9e+22],\n",
       "       [2.0e+23, 2.0e+23, 2.0e+23, 2.0e+23, 2.0e+23, ..., 2.6e+22, 2.6e+22, 2.6e+22, 2.6e+22, 2.6e+22],\n",
       "       [2.1e+23, 2.1e+23, 2.1e+23, 2.1e+23, 2.1e+23, ..., 1.4e+22, 1.4e+22, 1.4e+22, 1.4e+22, 1.4e+22],\n",
       "       [2.2e+23, 2.2e+23, 2.2e+23, 2.2e+23, 2.2e+23, ..., 7.3e+21, 7.3e+21, 7.3e+21, 7.3e+21, 7.3e+21],\n",
       "       [2.3e+23, 2.3e+23, 2.3e+23, 2.3e+23, 2.2e+23, ..., 4.0e+21, 4.0e+21, 4.0e+21, 4.0e+21, 4.0e+21]])"
      ]
     },
     "execution_count": 17,
     "metadata": {},
     "output_type": "execute_result"
    }
   ],
   "source": [
    "sol.y"
   ]
  },
  {
   "cell_type": "code",
   "execution_count": 18,
   "metadata": {
    "scrolled": true
   },
   "outputs": [
    {
     "data": {
      "text/plain": [
       "[<matplotlib.lines.Line2D at 0x1e8e0fe3320>,\n",
       " <matplotlib.lines.Line2D at 0x1e8e11bd2b0>,\n",
       " <matplotlib.lines.Line2D at 0x1e8e11bd3c8>,\n",
       " <matplotlib.lines.Line2D at 0x1e8e11bd518>,\n",
       " <matplotlib.lines.Line2D at 0x1e8e11bd668>,\n",
       " <matplotlib.lines.Line2D at 0x1e8e11bd7b8>,\n",
       " <matplotlib.lines.Line2D at 0x1e8e11bd908>,\n",
       " <matplotlib.lines.Line2D at 0x1e8e11bda58>,\n",
       " <matplotlib.lines.Line2D at 0x1e8e11bdba8>,\n",
       " <matplotlib.lines.Line2D at 0x1e8e11bdcf8>,\n",
       " <matplotlib.lines.Line2D at 0x1e8e1229ba8>,\n",
       " <matplotlib.lines.Line2D at 0x1e8e11bdf60>,\n",
       " <matplotlib.lines.Line2D at 0x1e8e109c0f0>,\n",
       " <matplotlib.lines.Line2D at 0x1e8e109c240>,\n",
       " <matplotlib.lines.Line2D at 0x1e8e109c390>,\n",
       " <matplotlib.lines.Line2D at 0x1e8e109c4e0>,\n",
       " <matplotlib.lines.Line2D at 0x1e8e109c630>,\n",
       " <matplotlib.lines.Line2D at 0x1e8e109c780>,\n",
       " <matplotlib.lines.Line2D at 0x1e8e109c8d0>,\n",
       " <matplotlib.lines.Line2D at 0x1e8e109ca20>,\n",
       " <matplotlib.lines.Line2D at 0x1e8e109cb70>,\n",
       " <matplotlib.lines.Line2D at 0x1e8e109ccc0>,\n",
       " <matplotlib.lines.Line2D at 0x1e8e109ce10>]"
      ]
     },
     "execution_count": 18,
     "metadata": {},
     "output_type": "execute_result"
    },
    {
     "data": {
      "image/png": "[encoded data removed]",
      "text/plain": [
       "<Figure size 864x648 with 1 Axes>"
      ]
     },
     "metadata": {
      "needs_background": "light"
     },
     "output_type": "display_data"
    }
   ],
   "source": [
    "plt.semilogx(sol.t, sol.y.transpose(), marker='.')"
   ]
  },
  {
   "cell_type": "code",
   "execution_count": 22,
   "metadata": {
    "scrolled": false
   },
   "outputs": [
    {
     "data": {
      "text/html": [
       "<div>\n",
       "<style scoped>\n",
       "    .dataframe tbody tr th:only-of-type {\n",
       "        vertical-align: middle;\n",
       "    }\n",
       "\n",
       "    .dataframe tbody tr th {\n",
       "        vertical-align: top;\n",
       "    }\n",
       "\n",
       "    .dataframe thead th {\n",
       "        text-align: right;\n",
       "    }\n",
       "</style>\n",
       "<table border=\"1\" class=\"dataframe\">\n",
       "  <thead>\n",
       "    <tr style=\"text-align: right;\">\n",
       "      <th></th>\n",
       "      <th>density</th>\n",
       "      <th>ratio</th>\n",
       "    </tr>\n",
       "  </thead>\n",
       "  <tbody>\n",
       "    <tr>\n",
       "      <th>CO2</th>\n",
       "      <td>1.3e+24</td>\n",
       "      <td>48.6%</td>\n",
       "    </tr>\n",
       "    <tr>\n",
       "      <th>CO2(v1)</th>\n",
       "      <td>6.8e+23</td>\n",
       "      <td>24.7%</td>\n",
       "    </tr>\n",
       "    <tr>\n",
       "      <th>CO2(v2)</th>\n",
       "      <td>3.5e+23</td>\n",
       "      <td>12.7%</td>\n",
       "    </tr>\n",
       "    <tr>\n",
       "      <th>CO2(v3)</th>\n",
       "      <td>1.8e+23</td>\n",
       "      <td>6.5%</td>\n",
       "    </tr>\n",
       "    <tr>\n",
       "      <th>CO2(v4)</th>\n",
       "      <td>9.4e+22</td>\n",
       "      <td>3.4%</td>\n",
       "    </tr>\n",
       "    <tr>\n",
       "      <th>CO2(v5)</th>\n",
       "      <td>4.9e+22</td>\n",
       "      <td>1.8%</td>\n",
       "    </tr>\n",
       "    <tr>\n",
       "      <th>CO2(v6)</th>\n",
       "      <td>2.6e+22</td>\n",
       "      <td>0.9%</td>\n",
       "    </tr>\n",
       "    <tr>\n",
       "      <th>CO2(v7)</th>\n",
       "      <td>1.4e+22</td>\n",
       "      <td>0.5%</td>\n",
       "    </tr>\n",
       "    <tr>\n",
       "      <th>CO</th>\n",
       "      <td>1.0e+22</td>\n",
       "      <td>0.4%</td>\n",
       "    </tr>\n",
       "    <tr>\n",
       "      <th>CO2(v8)</th>\n",
       "      <td>7.3e+21</td>\n",
       "      <td>0.3%</td>\n",
       "    </tr>\n",
       "    <tr>\n",
       "      <th>CO2(v9)</th>\n",
       "      <td>4.0e+21</td>\n",
       "      <td>0.1%</td>\n",
       "    </tr>\n",
       "    <tr>\n",
       "      <th>CO2(v10)</th>\n",
       "      <td>2.1e+21</td>\n",
       "      <td>0.1%</td>\n",
       "    </tr>\n",
       "    <tr>\n",
       "      <th>CO2(v11)</th>\n",
       "      <td>1.2e+21</td>\n",
       "      <td>0.0%</td>\n",
       "    </tr>\n",
       "    <tr>\n",
       "      <th>CO2(v12)</th>\n",
       "      <td>6.5e+20</td>\n",
       "      <td>0.0%</td>\n",
       "    </tr>\n",
       "    <tr>\n",
       "      <th>CO2(v13)</th>\n",
       "      <td>3.6e+20</td>\n",
       "      <td>0.0%</td>\n",
       "    </tr>\n",
       "    <tr>\n",
       "      <th>CO2(v14)</th>\n",
       "      <td>2.0e+20</td>\n",
       "      <td>0.0%</td>\n",
       "    </tr>\n",
       "    <tr>\n",
       "      <th>CO2(v15)</th>\n",
       "      <td>1.1e+20</td>\n",
       "      <td>0.0%</td>\n",
       "    </tr>\n",
       "    <tr>\n",
       "      <th>CO2(v16)</th>\n",
       "      <td>6.4e+19</td>\n",
       "      <td>0.0%</td>\n",
       "    </tr>\n",
       "    <tr>\n",
       "      <th>CO2(v17)</th>\n",
       "      <td>3.6e+19</td>\n",
       "      <td>0.0%</td>\n",
       "    </tr>\n",
       "    <tr>\n",
       "      <th>CO2(v18)</th>\n",
       "      <td>2.1e+19</td>\n",
       "      <td>0.0%</td>\n",
       "    </tr>\n",
       "    <tr>\n",
       "      <th>CO2(v19)</th>\n",
       "      <td>1.2e+19</td>\n",
       "      <td>0.0%</td>\n",
       "    </tr>\n",
       "    <tr>\n",
       "      <th>CO2(v20)</th>\n",
       "      <td>7.0e+18</td>\n",
       "      <td>0.0%</td>\n",
       "    </tr>\n",
       "    <tr>\n",
       "      <th>CO2(v21)</th>\n",
       "      <td>4.1e+18</td>\n",
       "      <td>0.0%</td>\n",
       "    </tr>\n",
       "  </tbody>\n",
       "</table>\n",
       "</div>"
      ],
      "text/plain": [
       "          density  ratio\n",
       "CO2       1.3e+24  48.6%\n",
       "CO2(v1)   6.8e+23  24.7%\n",
       "CO2(v2)   3.5e+23  12.7%\n",
       "CO2(v3)   1.8e+23   6.5%\n",
       "CO2(v4)   9.4e+22   3.4%\n",
       "CO2(v5)   4.9e+22   1.8%\n",
       "CO2(v6)   2.6e+22   0.9%\n",
       "CO2(v7)   1.4e+22   0.5%\n",
       "CO        1.0e+22   0.4%\n",
       "CO2(v8)   7.3e+21   0.3%\n",
       "CO2(v9)   4.0e+21   0.1%\n",
       "CO2(v10)  2.1e+21   0.1%\n",
       "CO2(v11)  1.2e+21   0.0%\n",
       "CO2(v12)  6.5e+20   0.0%\n",
       "CO2(v13)  3.6e+20   0.0%\n",
       "CO2(v14)  2.0e+20   0.0%\n",
       "CO2(v15)  1.1e+20   0.0%\n",
       "CO2(v16)  6.4e+19   0.0%\n",
       "CO2(v17)  3.6e+19   0.0%\n",
       "CO2(v18)  2.1e+19   0.0%\n",
       "CO2(v19)  1.2e+19   0.0%\n",
       "CO2(v20)  7.0e+18   0.0%\n",
       "CO2(v21)  4.1e+18   0.0%"
      ]
     },
     "execution_count": 22,
     "metadata": {},
     "output_type": "execute_result"
    }
   ],
   "source": [
    "coef.view_density(sol.y.transpose()[-1]).sort_values(by=['density'],ascending=False)"
   ]
  },
  {
   "cell_type": "code",
   "execution_count": null,
   "metadata": {},
   "outputs": [],
   "source": []
  }
 ],
 "metadata": {
  "hide_input": false,
  "kernelspec": {
   "display_name": "Python 3",
   "language": "python",
   "name": "python3"
  },
  "language_info": {
   "codemirror_mode": {
    "name": "ipython",
    "version": 3
   },
   "file_extension": ".py",
   "mimetype": "text/x-python",
   "name": "python",
   "nbconvert_exporter": "python",
   "pygments_lexer": "ipython3",
   "version": "3.7.0"
  },
  "nbTranslate": {
   "displayLangs": [
    "*"
   ],
   "hotkey": "alt-t",
   "langInMainMenu": true,
   "sourceLang": "en",
   "targetLang": "fr",
   "useGoogleTranslate": true
  },
  "notify_time": "0",
  "toc": {
   "base_numbering": 1,
   "nav_menu": {},
   "number_sections": true,
   "sideBar": false,
   "skip_h1_title": false,
   "title_cell": "Table of Contents",
   "title_sidebar": "Contents",
   "toc_cell": false,
   "toc_position": {
    "height": "313px",
    "left": "1143px",
    "top": "144px",
    "width": "263.844px"
   },
   "toc_section_display": true,
   "toc_window_display": true
  },
  "varInspector": {
   "cols": {
    "lenName": 16,
    "lenType": 16,
    "lenVar": 40
   },
   "kernels_config": {
    "python": {
     "delete_cmd_postfix": "",
     "delete_cmd_prefix": "del ",
     "library": "var_list.py",
     "varRefreshCmd": "print(var_dic_list())"
    },
    "r": {
     "delete_cmd_postfix": ") ",
     "delete_cmd_prefix": "rm(",
     "library": "var_list.r",
     "varRefreshCmd": "cat(var_dic_list()) "
    }
   },
   "position": {
    "height": "512px",
    "left": "904px",
    "right": "20px",
    "top": "158px",
    "width": "517px"
   },
   "types_to_exclude": [
    "module",
    "function",
    "builtin_function_or_method",
    "instance",
    "_Feature"
   ],
   "window_display": false
  }
 },
 "nbformat": 4,
 "nbformat_minor": 2
}
