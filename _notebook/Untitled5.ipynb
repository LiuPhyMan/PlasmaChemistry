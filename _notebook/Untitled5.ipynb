{
 "cells": [
  {
   "cell_type": "code",
   "execution_count": 1,
   "metadata": {},
   "outputs": [],
   "source": [
    "import numpy as np\n",
    "import numba"
   ]
  },
  {
   "cell_type": "code",
   "execution_count": 2,
   "metadata": {},
   "outputs": [],
   "source": [
    "_number = int(8e3)"
   ]
  },
  {
   "cell_type": "code",
   "execution_count": 3,
   "metadata": {},
   "outputs": [],
   "source": [
    "density = np.arange(_number, dtype=np.float)\n",
    "_index = np.arange(_number)[np.newaxis].transpose()\n",
    "_expnt = (np.ones(_number)*2)[np.newaxis].transpose()"
   ]
  },
  {
   "cell_type": "code",
   "execution_count": 4,
   "metadata": {},
   "outputs": [],
   "source": [
    "def _eval_pure_python():\n",
    "    a = np.zeros(_number)\n",
    "    for i in range(_number):\n",
    "        a[i] = density[_index[i]]**_expnt[i]\n",
    "    return a\n",
    "\n",
    "def _eval_numpy(density, _index, _expnt):\n",
    "    return np.prod(density[_index]**_expnt, axis=1)\n",
    "\n",
    "@numba.jit(nopython=True, nogil=False, parallel=True, fastmath=True)\n",
    "def _eval_njit(value, density, _index, _expnt):\n",
    "    for i in numba.prange(density.shape[0]):\n",
    "        value[i] = density[_index[i]]**_expnt[i]\n",
    "    return value\n",
    "\n",
    "\n",
    "a = np.zeros(_number)\n",
    "b = np.arange(_number)\n",
    "c = np.ones(_number)*2"
   ]
  },
  {
   "cell_type": "code",
   "execution_count": 9,
   "metadata": {},
   "outputs": [
    {
     "name": "stdout",
     "output_type": "stream",
     "text": [
      "21.9 ms ± 219 µs per loop (mean ± std. dev. of 7 runs, 10 loops each)\n",
      "264 µs ± 141 ns per loop (mean ± std. dev. of 7 runs, 1000 loops each)\n"
     ]
    }
   ],
   "source": [
    "%timeit _eval_pure_python()\n",
    "%timeit _eval_numpy(density, _index, _expnt)"
   ]
  },
  {
   "cell_type": "code",
   "execution_count": 10,
   "metadata": {},
   "outputs": [
    {
     "name": "stdout",
     "output_type": "stream",
     "text": [
      "34.8 µs ± 1.77 µs per loop (mean ± std. dev. of 7 runs, 10000 loops each)\n"
     ]
    }
   ],
   "source": [
    "numba.config.NUMBA_DEFAULT_NUM_THREADS=8\n",
    "%timeit _eval_njit(a, density, b, c)"
   ]
  },
  {
   "attachments": {
    "%E5%9B%BE%E7%89%87.png": {
     "image/png": "[encoded data removed]"
    }
   },
   "cell_type": "markdown",
   "metadata": {},
   "source": [
    "![%E5%9B%BE%E7%89%87.png](attachment:%E5%9B%BE%E7%89%87.png)\n",
    "8000 reactions\n",
    "\n",
    "(numpy) exec time:  264 us\n",
    "\n",
    "(numba) exec time: 34.8 us\n",
    "\n",
    "       7.5 higher speed"
   ]
  },
  {
   "cell_type": "code",
   "execution_count": null,
   "metadata": {},
   "outputs": [],
   "source": []
  }
 ],
 "metadata": {
  "kernelspec": {
   "display_name": "Python 3",
   "language": "python",
   "name": "python3"
  },
  "language_info": {
   "codemirror_mode": {
    "name": "ipython",
    "version": 3
   },
   "file_extension": ".py",
   "mimetype": "text/x-python",
   "name": "python",
   "nbconvert_exporter": "python",
   "pygments_lexer": "ipython3",
   "version": "3.7.0"
  }
 },
 "nbformat": 4,
 "nbformat_minor": 2
}
