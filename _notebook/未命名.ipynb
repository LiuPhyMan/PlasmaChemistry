{
 "cells": [
  {
   "cell_type": "code",
   "execution_count": 1,
   "metadata": {},
   "outputs": [
    {
     "name": "stdout",
     "output_type": "stream",
     "text": [
      "E:\\Coding\\Python\\PlasmaChemistry\n"
     ]
    }
   ],
   "source": [
    "%cd .."
   ]
  },
  {
   "cell_type": "code",
   "execution_count": 2,
   "metadata": {},
   "outputs": [],
   "source": [
    "import re"
   ]
  },
  {
   "cell_type": "code",
   "execution_count": 3,
   "metadata": {},
   "outputs": [],
   "source": [
    "with open('_rctn_list/CO2_chemistry.dat') as f:\n",
    "    lines = f.readlines()\n",
    "lines = ''.join(lines)"
   ]
  },
  {
   "cell_type": "code",
   "execution_count": 4,
   "metadata": {},
   "outputs": [
    {
     "data": {
      "text/plain": [
       "[]"
      ]
     },
     "execution_count": 4,
     "metadata": {},
     "output_type": "execute_result"
    }
   ],
   "source": [
    "re.findall(\"\"\"Name\\s*[^\\n]*:\\s*([^\\n]*\"$\\n)\n",
    "           (.+\\n)+\"\"\",lines, flags=re.VERBOSE|re.MULTILINE)"
   ]
  },
  {
   "cell_type": "code",
   "execution_count": 5,
   "metadata": {},
   "outputs": [
    {
     "data": {
      "text/plain": [
       "'Name afd: fdsafdsa\\n  fdsafdas\\n  Function\\n'"
      ]
     },
     "execution_count": 5,
     "metadata": {},
     "output_type": "execute_result"
    }
   ],
   "source": [
    "_str = r\"\"\"Name afd: fdsafdsa\n",
    "  fdsafdas\n",
    "  Function\n",
    "\"\"\"\n",
    "_str"
   ]
  },
  {
   "cell_type": "code",
   "execution_count": 6,
   "metadata": {},
   "outputs": [
    {
     "data": {
      "text/plain": [
       "['Name afd: fdsafdsa\\n  fdsafdas\\n  Function']"
      ]
     },
     "execution_count": 6,
     "metadata": {},
     "output_type": "execute_result"
    }
   ],
   "source": [
    "re.findall(\"\"\"Name\\s*[^\\n]*:\\s*(?:[^\\n]*$\\n)(?:(?:[^\\n]*\\n)+)\\s*Function\"\"\",_str,flags=re.MULTILINE)"
   ]
  },
  {
   "cell_type": "code",
   "execution_count": 7,
   "metadata": {},
   "outputs": [],
   "source": [
    "result = re.findall(\"\"\"Name\\s*[^\\n]*:\\s*(?:([^\\n]*)\\\"$\\n)(?:(?:[^\\n]*\\n){,8})\\s*Function\\s*\\\"([^\"]+)\\\"\"\"\",lines,flags=re.MULTILINE)"
   ]
  },
  {
   "cell_type": "code",
   "execution_count": 8,
   "metadata": {},
   "outputs": [
    {
     "name": "stdout",
     "output_type": "stream",
     "text": [
      "('e + CO2 -> e + e + CO2+', \"lut[file='@PLASIMO_INPUTDATA_DIR/input/published/koelman2016/rc_set/rc_CO2_ion_new.lut',units='eVT m^3/s',clip_low,clip_high](Temperature('e'))\")\n"
     ]
    }
   ],
   "source": [
    "print(result[0])"
   ]
  },
  {
   "cell_type": "code",
   "execution_count": 9,
   "metadata": {},
   "outputs": [
    {
     "data": {
      "application/vnd.jupyter.widget-view+json": {
       "model_id": "59334d0f06e4497185203e58b318afc6",
       "version_major": 2,
       "version_minor": 0
      },
      "text/plain": [
       "QgridWidget(grid_options={'fullWidthRows': True, 'syncColumnCellResize': True, 'forceFitColumns': True, 'defau…"
      ]
     },
     "metadata": {},
     "output_type": "display_data"
    }
   ],
   "source": [
    "import pandas as pd\n",
    "import qgrid\n",
    "qgrid.show_grid(pd.DataFrame(result))"
   ]
  },
  {
   "cell_type": "code",
   "execution_count": 10,
   "metadata": {},
   "outputs": [],
   "source": [
    "with open('_cs_list/bolsigdb.dat') as f:\n",
    "    lines = f.readlines()\n",
    "lines = ''.join(lines)"
   ]
  },
  {
   "cell_type": "code",
   "execution_count": 11,
   "metadata": {},
   "outputs": [],
   "source": [
    "result = re.findall(r\"\"\"-+\\n\\n?\n",
    "               (^[^-][^\\n]*)\\n # type\n",
    "               (^[^-][^\\n]*)\\n # formula\n",
    "                (?:(?:^[^-][^\\n]*)\\n)*\n",
    "               -+\\n\n",
    "               ((?:^\\s*[0-9][^\\n]*\\n)+)\"\"\", lines, flags=re.VERBOSE|re.MULTILINE)"
   ]
  },
  {
   "cell_type": "code",
   "execution_count": 12,
   "metadata": {},
   "outputs": [
    {
     "data": {
      "text/plain": [
       "('ELASTIC',\n",
       " 'CO2',\n",
       " ' 1.0000e-2\\t1.8200e-18\\n 1.5000e-2\\t1.4800e-18\\n 2.0000e-2\\t1.2800e-18\\n 3.0000e-2\\t1.0400e-18\\n 4.0000e-2\\t9.0000e-19\\n 5.0000e-2\\t8.0600e-19\\n 6.0000e-2\\t7.3200e-19\\n 7.0000e-2\\t6.6800e-19\\n 8.0000e-2\\t6.1900e-19\\n 9.0000e-2\\t5.6800e-19\\n 1.0000e-1\\t5.3600e-19\\n 1.2000e-1\\t4.6400e-19\\n 1.5000e-1\\t3.7200e-19\\n 1.8000e-1\\t3.0100e-19\\n 2.0000e-1\\t2.6200e-19\\n 2.5000e-1\\t1.9800e-19\\n 3.0000e-1\\t1.5050e-19\\n 4.0000e-1\\t1.0480e-19\\n 5.0000e-1\\t8.0900e-20\\n 6.0000e-1\\t6.7700e-20\\n 7.0000e-1\\t5.6900e-20\\n 8.0000e-1\\t5.1800e-20\\n 9.0000e-1\\t4.6900e-20\\n 1.0000e+0\\t4.2500e-20\\n 1.2000e+0\\t3.5900e-20\\n 1.5000e+0\\t3.2400e-20\\n 1.8000e+0\\t3.2400e-20\\n 2.0000e+0\\t3.3900e-20\\n 2.5000e+0\\t3.9100e-20\\n 3.0000e+0\\t4.6700e-20\\n 3.5000e+0\\t5.6400e-20\\n 4.0000e+0\\t5.7900e-20\\n 4.5000e+0\\t5.0200e-20\\n 5.0000e+0\\t4.5800e-20\\n 6.0000e+0\\t4.9100e-20\\n 7.0000e+0\\t6.0800e-20\\n 8.0000e+0\\t7.4000e-20\\n 9.0000e+0\\t8.0900e-20\\n 1.0000e+1\\t9.0200e-20\\n 1.2000e+1\\t1.0000e-19\\n 1.5000e+1\\t1.0860e-19\\n 1.8000e+1\\t1.0760e-19\\n 2.0000e+1\\t1.0170e-19\\n 2.5000e+1\\t8.7400e-20\\n 3.0000e+1\\t7.5100e-20\\n 4.0000e+1\\t5.8400e-20\\n 5.0000e+1\\t4.7900e-20\\n 6.0000e+1\\t4.1500e-20\\n 7.0000e+1\\t3.6100e-20\\n 8.0000e+1\\t3.1900e-20\\n 9.0000e+1\\t2.8300e-20\\n 1.0000e+2\\t2.5300e-20\\n')"
      ]
     },
     "execution_count": 12,
     "metadata": {},
     "output_type": "execute_result"
    }
   ],
   "source": [
    "result[0]"
   ]
  },
  {
   "cell_type": "code",
   "execution_count": 47,
   "metadata": {},
   "outputs": [
    {
     "name": "stdout",
     "output_type": "stream",
     "text": [
      "0 elastic CO2\n",
      "1 excitation CO2_to_CO2(Va)\n",
      "2 excitation CO2_to_CO2(Vb)\n",
      "3 excitation CO2_to_CO2(Vc)\n",
      "4 excitation CO2_to_CO2(Vd)\n",
      "5 excitation CO2_to_CO2(V1)\n",
      "6 excitation CO2(Va)_to_CO2(V1)\n",
      "7 excitation CO2(Vb)_to_CO2(V1)\n",
      "8 excitation CO2(Vc)_to_CO2(V1)\n",
      "9 excitation CO2(Vd)_to_CO2(V1)\n",
      "10 excitation CO2_to_CO2(V2)\n",
      "11 excitation CO2(Va)_to_CO2(V2)\n",
      "12 excitation CO2(Vb)_to_CO2(V2)\n",
      "13 excitation CO2(Vc)_to_CO2(V2)\n",
      "14 excitation CO2(Vd)_to_CO2(V2)\n",
      "15 excitation CO2_to_CO2(V3)\n",
      "16 excitation CO2(Va)_to_CO2(V3)\n",
      "17 excitation CO2(Vb)_to_CO2(V3)\n",
      "18 excitation CO2(Vc)_to_CO2(V3)\n",
      "19 excitation CO2(Vd)_to_CO2(V3)\n",
      "20 excitation CO2_to_CO2(V4)\n",
      "21 excitation CO2_to_CO2(V5)\n",
      "22 excitation CO2_to_CO2(V6)\n",
      "23 excitation CO2_to_CO2(V7)\n",
      "24 excitation CO2_to_CO2(V8)\n",
      "25 excitation CO2_to_CO2(V9)\n",
      "26 excitation CO2_to_CO2(V10)\n",
      "27 excitation CO2_to_CO2(V11)\n",
      "28 excitation CO2_to_CO2(V12)\n",
      "29 excitation CO2_to_CO2(V13)\n",
      "30 excitation CO2_to_CO2(V14)\n",
      "31 excitation CO2_to_CO2(V15)\n",
      "32 excitation CO2_to_CO2(V16)\n",
      "33 excitation CO2_to_CO2(V17)\n",
      "34 excitation CO2_to_CO2(V18)\n",
      "35 excitation CO2_to_CO2(V19)\n",
      "36 excitation CO2_to_CO2(V20)\n",
      "37 excitation CO2_to_CO2(V21)\n",
      "38 excitation CO2(V1)_to_CO2(V2)\n",
      "39 excitation CO2(V1)_to_CO2(V3)\n",
      "40 excitation CO2(V1)_to_CO2(V4)\n",
      "41 excitation CO2(V1)_to_CO2(V5)\n",
      "42 excitation CO2(V1)_to_CO2(V6)\n",
      "43 excitation CO2(V1)_to_CO2(V7)\n",
      "44 excitation CO2(V1)_to_CO2(V8)\n",
      "45 excitation CO2(V1)_to_CO2(V9)\n",
      "46 excitation CO2(V1)_to_CO2(V10)\n",
      "47 excitation CO2(V1)_to_CO2(V11)\n",
      "48 excitation CO2(V1)_to_CO2(V12)\n",
      "49 excitation CO2(V1)_to_CO2(V13)\n",
      "50 excitation CO2(V1)_to_CO2(V14)\n",
      "51 excitation CO2(V1)_to_CO2(V15)\n",
      "52 excitation CO2(V1)_to_CO2(V16)\n",
      "53 excitation CO2(V1)_to_CO2(V17)\n",
      "54 excitation CO2(V1)_to_CO2(V18)\n",
      "55 excitation CO2(V1)_to_CO2(V19)\n",
      "56 excitation CO2(V1)_to_CO2(V20)\n",
      "57 excitation CO2(V1)_to_CO2(V21)\n",
      "58 excitation CO2(V2)_to_CO2(V3)\n",
      "59 excitation CO2(V2)_to_CO2(V4)\n",
      "60 excitation CO2(V2)_to_CO2(V5)\n",
      "61 excitation CO2(V2)_to_CO2(V6)\n",
      "62 excitation CO2(V2)_to_CO2(V7)\n",
      "63 excitation CO2(V2)_to_CO2(V8)\n",
      "64 excitation CO2(V2)_to_CO2(V9)\n",
      "65 excitation CO2(V2)_to_CO2(V10)\n",
      "66 excitation CO2(V2)_to_CO2(V11)\n",
      "67 excitation CO2(V2)_to_CO2(V12)\n",
      "68 excitation CO2(V2)_to_CO2(V13)\n",
      "69 excitation CO2(V2)_to_CO2(V14)\n",
      "70 excitation CO2(V2)_to_CO2(V15)\n",
      "71 excitation CO2(V2)_to_CO2(V16)\n",
      "72 excitation CO2(V2)_to_CO2(V17)\n",
      "73 excitation CO2(V2)_to_CO2(V18)\n",
      "74 excitation CO2(V2)_to_CO2(V19)\n",
      "75 excitation CO2(V2)_to_CO2(V20)\n",
      "76 excitation CO2(V2)_to_CO2(V21)\n",
      "77 excitation CO2(V3)_to_CO2(V4)\n",
      "78 excitation CO2(V3)_to_CO2(V5)\n",
      "79 excitation CO2(V3)_to_CO2(V6)\n",
      "80 excitation CO2(V3)_to_CO2(V7)\n",
      "81 excitation CO2(V3)_to_CO2(V8)\n",
      "82 excitation CO2(V3)_to_CO2(V9)\n",
      "83 excitation CO2(V3)_to_CO2(V10)\n",
      "84 excitation CO2(V3)_to_CO2(V11)\n",
      "85 excitation CO2(V3)_to_CO2(V12)\n",
      "86 excitation CO2(V3)_to_CO2(V13)\n",
      "87 excitation CO2(V3)_to_CO2(V14)\n",
      "88 excitation CO2(V3)_to_CO2(V15)\n",
      "89 excitation CO2(V3)_to_CO2(V16)\n",
      "90 excitation CO2(V3)_to_CO2(V17)\n",
      "91 excitation CO2(V3)_to_CO2(V18)\n",
      "92 excitation CO2(V3)_to_CO2(V19)\n",
      "93 excitation CO2(V3)_to_CO2(V20)\n",
      "94 excitation CO2(V3)_to_CO2(V21)\n",
      "95 attachment CO2_to_CO+O^-\n",
      "96 excitation CO2_to_CO+O\n",
      "97 excitation CO2(Va)_to_CO+O\n",
      "98 excitation CO2(Vb)_to_CO+O\n",
      "99 excitation CO2(Vc)_to_CO+O\n",
      "100 excitation CO2(V1)_to_CO+O\n",
      "101 excitation CO2(Vd)_to_CO+O\n",
      "102 excitation CO2(V2)_to_CO+O\n",
      "103 excitation CO2(V3)_to_CO+O\n",
      "104 excitation CO2(V4)_to_CO+O\n",
      "105 excitation CO2(V5)_to_CO+O\n",
      "106 excitation CO2(V6)_to_CO+O\n",
      "107 excitation CO2(V7)_to_CO+O\n",
      "108 excitation CO2(V8)_to_CO+O\n",
      "109 excitation CO2(V9)_to_CO+O\n",
      "110 excitation CO2(V10)_to_CO+O\n",
      "111 excitation CO2(V11)_to_CO+O\n",
      "112 excitation CO2(V12)_to_CO+O\n",
      "113 excitation CO2(V13)_to_CO+O\n",
      "114 excitation CO2(V14)_to_CO+O\n",
      "115 excitation CO2(V15)_to_CO+O\n",
      "116 excitation CO2(V16)_to_CO+O\n",
      "117 excitation CO2(V17)_to_CO+O\n",
      "118 excitation CO2(V18)_to_CO+O\n",
      "119 excitation CO2(V19)_to_CO+O\n",
      "120 excitation CO2(V20)_to_CO+O\n",
      "121 excitation CO2(V21)_to_CO+O\n",
      "122 ionization CO2_to_CO2^+\n",
      "123 ionization CO2(Va)_to_CO2^+\n",
      "124 ionization CO2(Vb)_to_CO2^+\n",
      "125 ionization CO2(Vc)_to_CO2^+\n",
      "126 ionization CO2(V1)_to_CO2^+\n",
      "127 ionization CO2(Vd)_to_CO2^+\n",
      "128 ionization CO2(V2)_to_CO2^+\n",
      "129 ionization CO2(V3)_to_CO2^+\n",
      "130 ionization CO2(V4)_to_CO2^+\n",
      "131 ionization CO2(V5)_to_CO2^+\n",
      "132 ionization CO2(V6)_to_CO2^+\n",
      "133 ionization CO2(V7)_to_CO2^+\n",
      "134 ionization CO2(V8)_to_CO2^+\n",
      "135 ionization CO2(V9)_to_CO2^+\n",
      "136 ionization CO2(V10)_to_CO2^+\n",
      "137 ionization CO2(V11)_to_CO2^+\n",
      "138 ionization CO2(V12)_to_CO2^+\n",
      "139 ionization CO2(V13)_to_CO2^+\n",
      "140 ionization CO2(V14)_to_CO2^+\n",
      "141 ionization CO2(V15)_to_CO2^+\n",
      "142 ionization CO2(V16)_to_CO2^+\n",
      "143 ionization CO2(V17)_to_CO2^+\n",
      "144 ionization CO2(V18)_to_CO2^+\n",
      "145 ionization CO2(V19)_to_CO2^+\n",
      "146 ionization CO2(V20)_to_CO2^+\n",
      "147 ionization CO2(V21)_to_CO2^+\n",
      "148 ionization CO2_to_O^+\n",
      "149 ionization CO2(Va)_to_O^+\n",
      "150 ionization CO2(Vb)_to_O^+\n",
      "151 ionization CO2(Vc)_to_O^+\n",
      "152 ionization CO2(V1)_to_O^+\n",
      "153 ionization CO2(Vd)_to_O^+\n",
      "154 ionization CO2(V2)_to_O^+\n",
      "155 ionization CO2(V3)_to_O^+\n",
      "156 ionization CO2(V4)_to_O^+\n",
      "157 ionization CO2(V5)_to_O^+\n",
      "158 ionization CO2(V6)_to_O^+\n",
      "159 ionization CO2(V7)_to_O^+\n",
      "160 ionization CO2(V8)_to_O^+\n",
      "161 ionization CO2(V9)_to_O^+\n",
      "162 ionization CO2(V10)_to_O^+\n",
      "163 ionization CO2(V11)_to_O^+\n",
      "164 ionization CO2(V12)_to_O^+\n",
      "165 ionization CO2(V13)_to_O^+\n",
      "166 ionization CO2(V14)_to_O^+\n",
      "167 ionization CO2(V15)_to_O^+\n",
      "168 ionization CO2(V16)_to_O^+\n",
      "169 ionization CO2(V17)_to_O^+\n",
      "170 ionization CO2(V18)_to_O^+\n",
      "171 ionization CO2(V19)_to_O^+\n",
      "172 ionization CO2(V20)_to_O^+\n",
      "173 ionization CO2(V21)_to_O^+\n",
      "174 ionization CO2_to_CO^+\n",
      "175 ionization CO2(Va)_to_CO^+\n",
      "176 ionization CO2(Vb)_to_CO^+\n",
      "177 ionization CO2(Vc)_to_CO^+\n",
      "178 ionization CO2(V1)_to_CO^+\n",
      "179 ionization CO2(Vd)_to_CO^+\n",
      "180 ionization CO2(V2)_to_CO^+\n",
      "181 ionization CO2(V3)_to_CO^+\n",
      "182 ionization CO2(V4)_to_CO^+\n",
      "183 ionization CO2(V5)_to_CO^+\n",
      "184 ionization CO2(V6)_to_CO^+\n",
      "185 ionization CO2(V7)_to_CO^+\n",
      "186 ionization CO2(V8)_to_CO^+\n",
      "187 ionization CO2(V9)_to_CO^+\n",
      "188 ionization CO2(V10)_to_CO^+\n",
      "189 ionization CO2(V11)_to_CO^+\n",
      "190 ionization CO2(V12)_to_CO^+\n",
      "191 ionization CO2(V13)_to_CO^+\n",
      "192 ionization CO2(V14)_to_CO^+\n",
      "193 ionization CO2(V15)_to_CO^+\n",
      "194 ionization CO2(V16)_to_CO^+\n",
      "195 ionization CO2(V17)_to_CO^+\n",
      "196 ionization CO2(V18)_to_CO^+\n",
      "197 ionization CO2(V19)_to_CO^+\n",
      "198 ionization CO2(V20)_to_CO^+\n",
      "199 ionization CO2(V21)_to_CO^+\n",
      "200 ionization CO2_to_C^+\n",
      "201 ionization CO2(Va)_to_C^+\n",
      "202 ionization CO2(Vb)_to_C^+\n",
      "203 ionization CO2(Vc)_to_C^+\n",
      "204 ionization CO2(V1)_to_C^+\n",
      "205 ionization CO2(Vd)_to_C^+\n",
      "206 ionization CO2(V2)_to_C^+\n",
      "207 ionization CO2(V3)_to_C^+\n",
      "208 ionization CO2(V4)_to_C^+\n",
      "209 ionization CO2(V5)_to_C^+\n",
      "210 ionization CO2(V6)_to_C^+\n",
      "211 ionization CO2(V7)_to_C^+\n",
      "212 ionization CO2(V8)_to_C^+\n",
      "213 ionization CO2(V9)_to_C^+\n",
      "214 ionization CO2(V10)_to_C^+\n",
      "215 ionization CO2(V11)_to_C^+\n",
      "216 ionization CO2(V12)_to_C^+\n",
      "217 ionization CO2(V13)_to_C^+\n",
      "218 ionization CO2(V14)_to_C^+\n",
      "219 ionization CO2(V15)_to_C^+\n",
      "220 ionization CO2(V16)_to_C^+\n",
      "221 ionization CO2(V17)_to_C^+\n",
      "222 ionization CO2(V18)_to_C^+\n",
      "223 ionization CO2(V19)_to_C^+\n",
      "224 ionization CO2(V20)_to_C^+\n",
      "225 ionization CO2(V21)_to_C^+\n",
      "226 excitation CO2_to_CO2(E1)\n",
      "227 excitation CO2(Va)_to_CO2(E1)\n",
      "228 excitation CO2(Vb)_to_CO2(E1)\n",
      "229 excitation CO2(Vc)_to_CO2(E1)\n",
      "230 excitation CO2(V1)_to_CO2(E1)\n",
      "231 excitation CO2(Vd)_to_CO2(E1)\n",
      "232 excitation CO2(V2)_to_CO2(E1)\n",
      "233 excitation CO2(V3)_to_CO2(E1)\n",
      "234 excitation CO2(V4)_to_CO2(E1)\n",
      "235 excitation CO2(V5)_to_CO2(E1)\n",
      "236 excitation CO2(V6)_to_CO2(E1)\n",
      "237 excitation CO2(V7)_to_CO2(E1)\n",
      "238 excitation CO2(V8)_to_CO2(E1)\n",
      "239 excitation CO2(V9)_to_CO2(E1)\n",
      "240 excitation CO2(V10)_to_CO2(E1)\n",
      "241 excitation CO2_to_CO2(E2)\n",
      "242 excitation CO2(Va)_to_CO2(E2)\n",
      "243 excitation CO2(Vb)_to_CO2(E2)\n",
      "244 excitation CO2(Vc)_to_CO2(E2)\n",
      "245 excitation CO2(V1)_to_CO2(E2)\n",
      "246 excitation CO2(Vd)_to_CO2(E2)\n",
      "247 excitation CO2(V2)_to_CO2(E2)\n",
      "248 excitation CO2(V3)_to_CO2(E2)\n",
      "249 excitation CO2(V4)_to_CO2(E2)\n",
      "250 excitation CO2(V5)_to_CO2(E2)\n",
      "251 excitation CO2(V6)_to_CO2(E2)\n",
      "252 excitation CO2(V7)_to_CO2(E2)\n",
      "253 excitation CO2(V8)_to_CO2(E2)\n",
      "254 excitation CO2(V9)_to_CO2(E2)\n",
      "255 excitation CO2(V10)_to_CO2(E2)\n",
      "256 effective CO\n",
      "257 excitation CO_to_CO(V1)\n",
      "258 excitation CO_to_CO(V2)\n",
      "259 excitation CO_to_CO(V3)\n",
      "260 excitation CO_to_CO(V4)\n",
      "261 excitation CO_to_CO(V5)\n",
      "262 excitation CO_to_CO(V6)\n",
      "263 excitation CO_to_CO(V7)\n",
      "264 excitation CO_to_CO(V8)\n",
      "265 excitation CO_to_CO(V9)\n",
      "266 excitation CO_to_CO(V10)\n",
      "267 excitation CO_to_CO(E1)\n",
      "268 excitation CO(V1)_to_CO(E1)\n",
      "269 excitation CO(V2)_to_CO(E1)\n",
      "270 excitation CO(V3)_to_CO(E1)\n",
      "271 excitation CO(V4)_to_CO(E1)\n",
      "272 excitation CO(V5)_to_CO(E1)\n",
      "273 excitation CO(V6)_to_CO(E1)\n",
      "274 excitation CO(V7)_to_CO(E1)\n",
      "275 excitation CO(V8)_to_CO(E1)\n",
      "276 excitation CO(V9)_to_CO(E1)\n",
      "277 excitation CO(V10)_to_CO(E1)\n",
      "278 excitation CO_to_CO(E2)\n",
      "279 excitation CO(V1)_to_CO(E2)\n",
      "280 excitation CO(V2)_to_CO(E2)\n",
      "281 excitation CO(V3)_to_CO(E2)\n",
      "282 excitation CO(V4)_to_CO(E2)\n",
      "283 excitation CO(V5)_to_CO(E2)\n",
      "284 excitation CO(V6)_to_CO(E2)\n",
      "285 excitation CO(V7)_to_CO(E2)\n",
      "286 excitation CO(V8)_to_CO(E2)\n",
      "287 excitation CO(V9)_to_CO(E2)\n",
      "288 excitation CO(V10)_to_CO(E2)\n",
      "289 excitation CO_to_CO(E3)\n",
      "290 excitation CO(V1)_to_CO(E3)\n"
     ]
    },
    {
     "name": "stdout",
     "output_type": "stream",
     "text": [
      "291 excitation CO(V2)_to_CO(E3)\n",
      "292 excitation CO(V3)_to_CO(E3)\n",
      "293 excitation CO(V4)_to_CO(E3)\n",
      "294 excitation CO(V5)_to_CO(E3)\n",
      "295 excitation CO(V6)_to_CO(E3)\n",
      "296 excitation CO(V7)_to_CO(E3)\n",
      "297 excitation CO(V8)_to_CO(E3)\n",
      "298 excitation CO(V9)_to_CO(E3)\n",
      "299 excitation CO(V10)_to_CO(E3)\n",
      "300 excitation CO_to_CO(E4)\n",
      "301 excitation CO(V1)_to_CO(E4)\n",
      "302 excitation CO(V2)_to_CO(E4)\n",
      "303 excitation CO(V3)_to_CO(E4)\n",
      "304 excitation CO(V4)_to_CO(E4)\n",
      "305 excitation CO(V5)_to_CO(E4)\n",
      "306 excitation CO(V6)_to_CO(E4)\n",
      "307 excitation CO(V7)_to_CO(E4)\n",
      "308 excitation CO(V8)_to_CO(E4)\n",
      "309 excitation CO(V9)_to_CO(E4)\n",
      "310 excitation CO(V10)_to_CO(E4)\n",
      "311 excitation CO_to_C+O\n",
      "312 excitation CO(V1)_to_C+O\n",
      "313 excitation CO(V2)_to_C+O\n",
      "314 excitation CO(V3)_to_C+O\n",
      "315 excitation CO(V4)_to_C+O\n",
      "316 excitation CO(V5)_to_C+O\n",
      "317 excitation CO(V6)_to_C+O\n",
      "318 excitation CO(V7)_to_C+O\n",
      "319 excitation CO(V8)_to_C+O\n",
      "320 excitation CO(V9)_to_C+O\n",
      "321 excitation CO(V10)_to_C+O\n",
      "322 ionization CO_to_CO^+\n",
      "323 ionization CO(V1)_to_CO^+\n",
      "324 ionization CO(V2)_to_CO^+\n",
      "325 ionization CO(V3)_to_CO^+\n",
      "326 ionization CO(V4)_to_CO^+\n",
      "327 ionization CO(V5)_to_CO^+\n",
      "328 ionization CO(V6)_to_CO^+\n",
      "329 ionization CO(V7)_to_CO^+\n",
      "330 ionization CO(V8)_to_CO^+\n",
      "331 ionization CO(V9)_to_CO^+\n",
      "332 ionization CO(V10)_to_CO^+\n",
      "333 ionization CO_to_C^+\n",
      "334 ionization CO(V1)_to_C^+\n",
      "335 ionization CO(V2)_to_C^+\n",
      "336 ionization CO(V3)_to_C^+\n",
      "337 ionization CO(V4)_to_C^+\n",
      "338 ionization CO(V5)_to_C^+\n",
      "339 ionization CO(V6)_to_C^+\n",
      "340 ionization CO(V7)_to_C^+\n",
      "341 ionization CO(V8)_to_C^+\n",
      "342 ionization CO(V9)_to_C^+\n",
      "343 ionization CO(V10)_to_C^+\n",
      "344 ionization CO_to_O^+\n",
      "345 ionization CO(V1)_to_O^+\n",
      "346 ionization CO(V2)_to_O^+\n",
      "347 ionization CO(V3)_to_O^+\n",
      "348 ionization CO(V4)_to_O^+\n",
      "349 ionization CO(V5)_to_O^+\n",
      "350 ionization CO(V6)_to_O^+\n",
      "351 ionization CO(V7)_to_O^+\n",
      "352 ionization CO(V8)_to_O^+\n",
      "353 ionization CO(V9)_to_O^+\n",
      "354 ionization CO(V10)_to_O^+\n",
      "355 attachment CO_to_O^-\n",
      "356 effective C\n",
      "357 ionization C_to_C^+\n",
      "358 excitation C2_to_C+C\n",
      "359 ionization C2_to_C2^+\n",
      "360 attachment O2_to_O2^-\n",
      "361 attachment O2_to_O^-\n",
      "362 effective O2\n",
      "363 excitation O2_to_O+O\n",
      "364 ionization O2_to_O2^+\n",
      "365 ionization O2_to_O^+\n",
      "366 excitation O2_to_O2(E1)\n",
      "367 excitation O2_to_O2(E2)\n",
      "368 excitation O2_to_O2(V1)res\n",
      "369 excitation O2_to_O2(V1)\n",
      "370 excitation O2_to_O2(V2)res\n",
      "371 excitation O2_to_O2(V2)\n",
      "372 excitation O2_to_O2(V3)res\n",
      "373 excitation O2_to_O2(V3)\n",
      "374 excitation O2_to_O2(V4)res\n",
      "375 excitation O2_to_O2(V4)\n",
      "376 attachment O3_to_O^-\n",
      "377 attachment O3_to_O2^-\n",
      "378 effective O3\n",
      "379 excitation O3_to_O2+O\n",
      "380 ionization O3_to_O2^+\n",
      "381 ionization O3_to_O^+\n",
      "382 effective O\n",
      "383 ionization O_to_O^+\n"
     ]
    }
   ],
   "source": [
    "i = 0\n",
    "for _type, _formula, _crostn in result:\n",
    "    _type = _type.strip().lower()\n",
    "    _formula = _formula.replace('->', '=>').replace(' ', '').replace('<=>', '_to_').replace('=>', '_to_')\n",
    "   #  _threshold = _threshold.strip().split()[0] if len(_threshold.strip().split()) else 'attac'\n",
    "    _crostn = re.sub('[ ]+', ' ', re.sub('\\s*\\n\\s*', '\\n', _crostn.lstrip().replace('\\t', ' ')))\n",
    "    print(i, end=' ')\n",
    "    print(_type, end=' ')\n",
    "    print(_formula)\n",
    "    i += 1\n",
    "    file_name = r\"_cs_list\\bolsigdb\\[{_type}][{_formula}].dat\".format(i=i, _type=_type, _formula=_formula)\n",
    "    with open(file_name, 'x') as f:\n",
    "        f.write(_crostn)"
   ]
  },
  {
   "cell_type": "code",
   "execution_count": 16,
   "metadata": {},
   "outputs": [
    {
     "ename": "IndexError",
     "evalue": "tuple index out of range",
     "output_type": "error",
     "traceback": [
      "\u001b[1;31m---------------------------------------------------------------------------\u001b[0m",
      "\u001b[1;31mIndexError\u001b[0m                                Traceback (most recent call last)",
      "\u001b[1;32m<ipython-input-16-5a6955d8c3da>\u001b[0m in \u001b[0;36m<module>\u001b[1;34m\u001b[0m\n\u001b[1;32m----> 1\u001b[1;33m \u001b[0m_str\u001b[0m \u001b[1;33m=\u001b[0m \u001b[0mre\u001b[0m\u001b[1;33m.\u001b[0m\u001b[0msub\u001b[0m\u001b[1;33m(\u001b[0m\u001b[1;34m'[ ]+'\u001b[0m\u001b[1;33m,\u001b[0m \u001b[1;34m' '\u001b[0m\u001b[1;33m,\u001b[0m \u001b[0mre\u001b[0m\u001b[1;33m.\u001b[0m\u001b[0msub\u001b[0m\u001b[1;33m(\u001b[0m\u001b[1;34m'\\s*\\n\\s*'\u001b[0m\u001b[1;33m,\u001b[0m \u001b[1;34m'\\n'\u001b[0m\u001b[1;33m,\u001b[0m \u001b[0mresult\u001b[0m\u001b[1;33m[\u001b[0m\u001b[1;36m1\u001b[0m\u001b[1;33m]\u001b[0m\u001b[1;33m[\u001b[0m\u001b[1;36m3\u001b[0m\u001b[1;33m]\u001b[0m\u001b[1;33m.\u001b[0m\u001b[0mlstrip\u001b[0m\u001b[1;33m(\u001b[0m\u001b[1;33m)\u001b[0m\u001b[1;33m.\u001b[0m\u001b[0mreplace\u001b[0m\u001b[1;33m(\u001b[0m\u001b[1;34m'\\t'\u001b[0m\u001b[1;33m,\u001b[0m \u001b[1;34m' '\u001b[0m\u001b[1;33m)\u001b[0m\u001b[1;33m)\u001b[0m\u001b[1;33m)\u001b[0m\u001b[1;33m\u001b[0m\u001b[1;33m\u001b[0m\u001b[0m\n\u001b[0m",
      "\u001b[1;31mIndexError\u001b[0m: tuple index out of range"
     ]
    }
   ],
   "source": [
    "_str = re.sub('[ ]+', ' ', re.sub('\\s*\\n\\s*', '\\n', result[1][3].lstrip().replace('\\t', ' ')))"
   ]
  },
  {
   "cell_type": "code",
   "execution_count": null,
   "metadata": {},
   "outputs": [],
   "source": [
    "_str"
   ]
  },
  {
   "cell_type": "code",
   "execution_count": null,
   "metadata": {},
   "outputs": [],
   "source": [
    "import numpy as np"
   ]
  },
  {
   "cell_type": "code",
   "execution_count": null,
   "metadata": {},
   "outputs": [],
   "source": []
  },
  {
   "cell_type": "code",
   "execution_count": null,
   "metadata": {},
   "outputs": [],
   "source": [
    "result[213]"
   ]
  },
  {
   "cell_type": "code",
   "execution_count": null,
   "metadata": {},
   "outputs": [],
   "source": [
    "len(result[295])"
   ]
  },
  {
   "cell_type": "code",
   "execution_count": null,
   "metadata": {},
   "outputs": [],
   "source": [
    "''.strip().split()"
   ]
  },
  {
   "cell_type": "code",
   "execution_count": 35,
   "metadata": {},
   "outputs": [],
   "source": [
    "with open('_cs_list/bolsigdb/EXCITATION_CO2_to_CO2(Va).dat', 'x') as f:\n",
    "    f.write('abc')"
   ]
  },
  {
   "cell_type": "code",
   "execution_count": null,
   "metadata": {},
   "outputs": [],
   "source": []
  }
 ],
 "metadata": {
  "hide_input": false,
  "kernelspec": {
   "display_name": "Python 3",
   "language": "python",
   "name": "python3"
  },
  "language_info": {
   "codemirror_mode": {
    "name": "ipython",
    "version": 3
   },
   "file_extension": ".py",
   "mimetype": "text/x-python",
   "name": "python",
   "nbconvert_exporter": "python",
   "pygments_lexer": "ipython3",
   "version": "3.7.1"
  },
  "toc": {
   "base_numbering": 1,
   "nav_menu": {},
   "number_sections": true,
   "sideBar": false,
   "skip_h1_title": false,
   "title_cell": "Table of Contents",
   "title_sidebar": "Contents",
   "toc_cell": false,
   "toc_position": {
    "height": "450.868px",
    "left": "1647.43px",
    "top": "217.753px",
    "width": "306.146px"
   },
   "toc_section_display": true,
   "toc_window_display": true
  },
  "varInspector": {
   "cols": {
    "lenName": 16,
    "lenType": 16,
    "lenVar": 40
   },
   "kernels_config": {
    "python": {
     "delete_cmd_postfix": "",
     "delete_cmd_prefix": "del ",
     "library": "var_list.py",
     "varRefreshCmd": "print(var_dic_list())"
    },
    "r": {
     "delete_cmd_postfix": ") ",
     "delete_cmd_prefix": "rm(",
     "library": "var_list.r",
     "varRefreshCmd": "cat(var_dic_list()) "
    }
   },
   "types_to_exclude": [
    "module",
    "function",
    "builtin_function_or_method",
    "instance",
    "_Feature"
   ],
   "window_display": false
  }
 },
 "nbformat": 4,
 "nbformat_minor": 2
}
