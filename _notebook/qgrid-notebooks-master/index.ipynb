{
 "cells": [
  {
   "cell_type": "markdown",
   "metadata": {},
   "source": [
    "qgrid - An interactive grid for viewing and editing pandas DataFrames\n",
    "=======================================================\n",
    "Qgrid is an Jupyter notebook widget which uses a javascript library called SlickGrid to render pandas DataFrames within a Jupyter notebook. It was developed for use in [Quantopian's hosted research environment]( https://www.quantopian.com/research?utm_source=github&utm_medium=web&utm_campaign=qgrid-nbviewer).\n",
    "\n",
    "The purpose of this notebook is to give an overview of what qgrid is capable of. Execute the cells below to generate some qgrids using a diverse set of DataFrames."
   ]
  },
  {
   "cell_type": "markdown",
   "metadata": {},
   "source": [
    "## Overview\n",
    "* [SlickGrid](https://github.com/mleibman/SlickGrid) is a javascript grid which allows users to scroll, sort, \n",
    "and filter hundreds of thousands of rows with extreme responsiveness.  \n",
    "* [Pandas](https://github.com/pydata/pandas) is a powerful data analysis / manipulation library for Python, and DataFrames are the primary way of storing and manipulating two-dimensional data in pandas.\n",
    "\n",
    "[Qgrid](https://github.com/quantopian/qgrid) renders pandas DataFrames as SlickGrids, which enables users to explore the entire contents of a DataFrame using intuitive sorting and filtering controls.  It's built on the ipywidget framework and is designed to be used in Jupyter notebook, Jupyterhub, or Jupyterlab"
   ]
  },
  {
   "cell_type": "markdown",
   "metadata": {},
   "source": [
    "## What's new\n",
    "\n",
    "#### Column options and new \"live-updating\" API methods - as of 1.1.0\n",
    "* Column options can be provided via the `show_grid` method. Options can be provided for all columns via the `column_options` parameter, and for individual columns via the `column_definitions` parameter.\n",
    "* Added `edit_cell`, `change_selection`, `toggle_editable` methods for updating the state of an existing grid widget without having to call `show_grid`.\n",
    "* Updated the `add_row` method so that the caller can specify the values for the new row via the `row` parameter. This will allow people to add rows to a qgrid instance even if it's showing a DataFrame that doesn't have an integer index.\n",
    "* Updated the `remove_row` method so that the indices of the rows to remove can optionally be provided via the `rows` parameter.\n",
    "* Fixed issue where moving the scroll bar around a bunch of times quickly can cause a series of grid refreshes to occur.\n",
    "\n",
    "#### Multi-index support - as of 1.0.6-beta.6\n",
    "* Improves support for viewing DataFrames with a MultiIndex.\n",
    "* Cells are merged vertically (similar to how pandas does it) to make it easier to identify the levels of the index.\n",
    "* Sorting or grouping any column other than level 0 of the multi-index results in the DataFrame returning to it's       normal behavior of never merging cells vertically.\n",
    "* Column header is hidden for unnamed levels of the index (instead of showing \"level_0\", \"level_1\", etc)\n",
    "\n",
    "#### Events API - as of 1.0.3:\n",
    "* Added the ability to listen for events on all QgridWidget instances (using `qgrid.on`) as well as on individual instances (using `QgridWidget.on`).\n",
    "* **Breaking API Change:** Previously the recommended (but not officially documented) way of attaching event handlers to a QgridWidget instance was to listen for changes to the ``_df`` attribute using the ``observe`` method (i.e.``qgrid_widget.observe(handle_df_changed, names=['_df'])``). This method will no longer work for most events (scrolling, sorting, filtering, etc) so the new ``QgridWidget.on`` method should be used instead."
   ]
  },
  {
   "cell_type": "markdown",
   "metadata": {},
   "source": [
    "## API & Usage\n",
    "API documentation is hosted on [readthedocs](http://qgrid.readthedocs.io/en/widget-guidelines/). \n",
    "\n",
    "The API documentation can also be accessed via the \"?\" operator in IPython.  To use the \"?\" operator, type the name of the function followed by \"?\" to see the documentation for that function, like this:\n",
    "```\n",
    "qgrid.show_grid?\n",
    "qgrid.set_defaults?\n",
    "qgrid.set_grid_options?\n",
    "qgrid.enable?\n",
    "qgrid.disable?\n",
    "\n",
    "```"
   ]
  },
  {
   "cell_type": "markdown",
   "metadata": {},
   "source": [
    "## Example 1 - Render a DataFrame with many different types of columns"
   ]
  },
  {
   "cell_type": "code",
   "execution_count": 1,
   "metadata": {},
   "outputs": [
    {
     "data": {
      "application/vnd.jupyter.widget-view+json": {
       "model_id": "4fa7f7392ef645509cdcf76f9216f740",
       "version_major": 2,
       "version_minor": 0
      },
      "text/plain": [
       "QgridWidget(grid_options={'fullWidthRows': True, 'syncColumnCellResize': True, 'forceFitColumns': True, 'defau…"
      ]
     },
     "metadata": {},
     "output_type": "display_data"
    }
   ],
   "source": [
    "import numpy as np\n",
    "import pandas as pd\n",
    "import qgrid\n",
    "randn = np.random.randn\n",
    "df_types = pd.DataFrame({\n",
    "    'A' : pd.Series(['2013-01-01', '2013-01-02', '2013-01-03', '2013-01-04',\n",
    "               '2013-01-05', '2013-01-06', '2013-01-07', '2013-01-08', '2013-01-09'],index=list(range(9)),dtype='datetime64[ns]'),\n",
    "    'B' : pd.Series(randn(9),index=list(range(9)),dtype='float32'),\n",
    "    'C' : pd.Categorical([\"washington\", \"adams\", \"washington\", \"madison\", \"lincoln\",\"jefferson\", \"hamilton\", \"roosevelt\", \"kennedy\"]),\n",
    "    'D' : [\"foo\", \"bar\", \"buzz\", \"bippity\",\"boppity\", \"foo\", \"foo\", \"bar\", \"zoo\"] })\n",
    "df_types['E'] = df_types['D'] == 'foo'\n",
    "qgrid_widget = qgrid.show_grid(df_types, show_toolbar=True)\n",
    "qgrid_widget"
   ]
  },
  {
   "cell_type": "markdown",
   "metadata": {},
   "source": [
    "If you make any sorting/filtering changes, or edit the grid by double clicking, you can retrieve a copy of your DataFrame which reflects these changes by calling `get_changed_df` on the `QgridWidget` instance returned by `show_grid`."
   ]
  },
  {
   "cell_type": "code",
   "execution_count": 4,
   "metadata": {
    "scrolled": true
   },
   "outputs": [
    {
     "data": {
      "text/html": [
       "<div>\n",
       "<style scoped>\n",
       "    .dataframe tbody tr th:only-of-type {\n",
       "        vertical-align: middle;\n",
       "    }\n",
       "\n",
       "    .dataframe tbody tr th {\n",
       "        vertical-align: top;\n",
       "    }\n",
       "\n",
       "    .dataframe thead th {\n",
       "        text-align: right;\n",
       "    }\n",
       "</style>\n",
       "<table border=\"1\" class=\"dataframe\">\n",
       "  <thead>\n",
       "    <tr style=\"text-align: right;\">\n",
       "      <th></th>\n",
       "      <th>A</th>\n",
       "      <th>B</th>\n",
       "      <th>C</th>\n",
       "      <th>D</th>\n",
       "      <th>E</th>\n",
       "    </tr>\n",
       "  </thead>\n",
       "  <tbody>\n",
       "    <tr>\n",
       "      <th>6</th>\n",
       "      <td>2013-01-07</td>\n",
       "      <td>-0.594725</td>\n",
       "      <td>hamilton</td>\n",
       "      <td>foo</td>\n",
       "      <td>True</td>\n",
       "    </tr>\n",
       "    <tr>\n",
       "      <th>5</th>\n",
       "      <td>2013-01-06</td>\n",
       "      <td>-0.271464</td>\n",
       "      <td>jefferson</td>\n",
       "      <td>foo</td>\n",
       "      <td>True</td>\n",
       "    </tr>\n",
       "    <tr>\n",
       "      <th>0</th>\n",
       "      <td>2013-01-01</td>\n",
       "      <td>-0.138499</td>\n",
       "      <td>washington</td>\n",
       "      <td>foo</td>\n",
       "      <td>True</td>\n",
       "    </tr>\n",
       "    <tr>\n",
       "      <th>4</th>\n",
       "      <td>2013-01-05</td>\n",
       "      <td>-1.567196</td>\n",
       "      <td>lincoln</td>\n",
       "      <td>boppity</td>\n",
       "      <td>False</td>\n",
       "    </tr>\n",
       "    <tr>\n",
       "      <th>7</th>\n",
       "      <td>2013-01-08</td>\n",
       "      <td>-1.349560</td>\n",
       "      <td>roosevelt</td>\n",
       "      <td>bar</td>\n",
       "      <td>False</td>\n",
       "    </tr>\n",
       "    <tr>\n",
       "      <th>8</th>\n",
       "      <td>2013-01-09</td>\n",
       "      <td>-0.678935</td>\n",
       "      <td>kennedy</td>\n",
       "      <td>zoo</td>\n",
       "      <td>False</td>\n",
       "    </tr>\n",
       "    <tr>\n",
       "      <th>2</th>\n",
       "      <td>2013-01-03</td>\n",
       "      <td>-0.515026</td>\n",
       "      <td>washington</td>\n",
       "      <td>buzz</td>\n",
       "      <td>False</td>\n",
       "    </tr>\n",
       "    <tr>\n",
       "      <th>1</th>\n",
       "      <td>2013-01-02</td>\n",
       "      <td>0.765528</td>\n",
       "      <td>adams</td>\n",
       "      <td>bar</td>\n",
       "      <td>False</td>\n",
       "    </tr>\n",
       "    <tr>\n",
       "      <th>3</th>\n",
       "      <td>2013-01-04</td>\n",
       "      <td>1.409632</td>\n",
       "      <td>madison</td>\n",
       "      <td>bippity</td>\n",
       "      <td>False</td>\n",
       "    </tr>\n",
       "  </tbody>\n",
       "</table>\n",
       "</div>"
      ],
      "text/plain": [
       "           A         B           C        D      E\n",
       "6 2013-01-07 -0.594725    hamilton      foo   True\n",
       "5 2013-01-06 -0.271464   jefferson      foo   True\n",
       "0 2013-01-01 -0.138499  washington      foo   True\n",
       "4 2013-01-05 -1.567196     lincoln  boppity  False\n",
       "7 2013-01-08 -1.349560   roosevelt      bar  False\n",
       "8 2013-01-09 -0.678935     kennedy      zoo  False\n",
       "2 2013-01-03 -0.515026  washington     buzz  False\n",
       "1 2013-01-02  0.765528       adams      bar  False\n",
       "3 2013-01-04  1.409632     madison  bippity  False"
      ]
     },
     "execution_count": 4,
     "metadata": {},
     "output_type": "execute_result"
    }
   ],
   "source": [
    "qgrid_widget.get_changed_df()"
   ]
  },
  {
   "cell_type": "markdown",
   "metadata": {},
   "source": [
    "## Example 2 - Render a DataFrame with 1 million rows\n",
    "*Note: The reason for the redundant \"import\" statements in the next cell (and many subsequent cells) is because it allows us to run the cells in any order.*"
   ]
  },
  {
   "cell_type": "code",
   "execution_count": 5,
   "metadata": {},
   "outputs": [
    {
     "data": {
      "application/vnd.jupyter.widget-view+json": {
       "model_id": "d0996c1b2cbf48738856939d5fb9888a",
       "version_major": 2,
       "version_minor": 0
      },
      "text/plain": [
       "QgridWidget(grid_options={'fullWidthRows': True, 'syncColumnCellResize': True, 'forceFitColumns': False, 'defa…"
      ]
     },
     "metadata": {},
     "output_type": "display_data"
    }
   ],
   "source": [
    "import pandas as pd\n",
    "import numpy as np\n",
    "import qgrid\n",
    "\n",
    "# set the default max number of rows to 10 so the larger DataFrame we render don't take up to much space \n",
    "qgrid.set_grid_option('maxVisibleRows', 10)\n",
    "\n",
    "df_scale = pd.DataFrame(np.random.randn(1000000, 4), columns=list('ABCD'))\n",
    "# duplicate column B as a string column, to test scalability for text column filters\n",
    "df_scale['B (as str)'] = df_scale['B'].map(lambda x: str(x))\n",
    "q_scale = qgrid.show_grid(df_scale, show_toolbar=True, grid_options={'forceFitColumns': False, 'defaultColumnWidth': 200})\n",
    "q_scale"
   ]
  },
  {
   "cell_type": "code",
   "execution_count": 6,
   "metadata": {
    "scrolled": true
   },
   "outputs": [
    {
     "data": {
      "text/html": [
       "<div>\n",
       "<style scoped>\n",
       "    .dataframe tbody tr th:only-of-type {\n",
       "        vertical-align: middle;\n",
       "    }\n",
       "\n",
       "    .dataframe tbody tr th {\n",
       "        vertical-align: top;\n",
       "    }\n",
       "\n",
       "    .dataframe thead th {\n",
       "        text-align: right;\n",
       "    }\n",
       "</style>\n",
       "<table border=\"1\" class=\"dataframe\">\n",
       "  <thead>\n",
       "    <tr style=\"text-align: right;\">\n",
       "      <th></th>\n",
       "      <th>A</th>\n",
       "      <th>B</th>\n",
       "      <th>C</th>\n",
       "      <th>D</th>\n",
       "      <th>B (as str)</th>\n",
       "    </tr>\n",
       "  </thead>\n",
       "  <tbody>\n",
       "    <tr>\n",
       "      <th>105101</th>\n",
       "      <td>1.338018</td>\n",
       "      <td>-4.989447</td>\n",
       "      <td>1.011744</td>\n",
       "      <td>0.462926</td>\n",
       "      <td>-4.989447011773955</td>\n",
       "    </tr>\n",
       "    <tr>\n",
       "      <th>864689</th>\n",
       "      <td>0.820927</td>\n",
       "      <td>-4.660080</td>\n",
       "      <td>-0.571666</td>\n",
       "      <td>-0.329916</td>\n",
       "      <td>-4.660080061869613</td>\n",
       "    </tr>\n",
       "    <tr>\n",
       "      <th>117056</th>\n",
       "      <td>1.618749</td>\n",
       "      <td>-4.494460</td>\n",
       "      <td>-1.063972</td>\n",
       "      <td>0.270623</td>\n",
       "      <td>-4.494459965078872</td>\n",
       "    </tr>\n",
       "    <tr>\n",
       "      <th>768684</th>\n",
       "      <td>-0.428959</td>\n",
       "      <td>-4.483811</td>\n",
       "      <td>1.088658</td>\n",
       "      <td>0.175013</td>\n",
       "      <td>-4.483811372841016</td>\n",
       "    </tr>\n",
       "    <tr>\n",
       "      <th>560702</th>\n",
       "      <td>-0.085889</td>\n",
       "      <td>-4.474289</td>\n",
       "      <td>-1.317840</td>\n",
       "      <td>-0.757852</td>\n",
       "      <td>-4.4742891416253325</td>\n",
       "    </tr>\n",
       "    <tr>\n",
       "      <th>481721</th>\n",
       "      <td>1.644112</td>\n",
       "      <td>-4.469877</td>\n",
       "      <td>0.413577</td>\n",
       "      <td>-0.564065</td>\n",
       "      <td>-4.469876672067811</td>\n",
       "    </tr>\n",
       "    <tr>\n",
       "      <th>193752</th>\n",
       "      <td>-0.721723</td>\n",
       "      <td>-4.437168</td>\n",
       "      <td>-2.243909</td>\n",
       "      <td>-0.251722</td>\n",
       "      <td>-4.437168138098922</td>\n",
       "    </tr>\n",
       "    <tr>\n",
       "      <th>198548</th>\n",
       "      <td>1.510897</td>\n",
       "      <td>-4.328416</td>\n",
       "      <td>-0.137798</td>\n",
       "      <td>0.913583</td>\n",
       "      <td>-4.328416498187886</td>\n",
       "    </tr>\n",
       "    <tr>\n",
       "      <th>233390</th>\n",
       "      <td>0.743484</td>\n",
       "      <td>-4.314467</td>\n",
       "      <td>1.134280</td>\n",
       "      <td>0.733260</td>\n",
       "      <td>-4.314466626278919</td>\n",
       "    </tr>\n",
       "    <tr>\n",
       "      <th>65475</th>\n",
       "      <td>-0.041197</td>\n",
       "      <td>-4.275940</td>\n",
       "      <td>0.008954</td>\n",
       "      <td>0.406949</td>\n",
       "      <td>-4.275940295544723</td>\n",
       "    </tr>\n",
       "    <tr>\n",
       "      <th>194436</th>\n",
       "      <td>-0.034064</td>\n",
       "      <td>-4.264467</td>\n",
       "      <td>-1.620048</td>\n",
       "      <td>0.719883</td>\n",
       "      <td>-4.264467046143213</td>\n",
       "    </tr>\n",
       "    <tr>\n",
       "      <th>516333</th>\n",
       "      <td>1.580670</td>\n",
       "      <td>-4.240924</td>\n",
       "      <td>-1.426675</td>\n",
       "      <td>0.612912</td>\n",
       "      <td>-4.240924143686755</td>\n",
       "    </tr>\n",
       "    <tr>\n",
       "      <th>612034</th>\n",
       "      <td>0.809223</td>\n",
       "      <td>-4.236436</td>\n",
       "      <td>-0.525417</td>\n",
       "      <td>0.362413</td>\n",
       "      <td>-4.236435702390058</td>\n",
       "    </tr>\n",
       "    <tr>\n",
       "      <th>840564</th>\n",
       "      <td>0.127888</td>\n",
       "      <td>-4.177791</td>\n",
       "      <td>0.749280</td>\n",
       "      <td>-1.337484</td>\n",
       "      <td>-4.177790677260948</td>\n",
       "    </tr>\n",
       "    <tr>\n",
       "      <th>123971</th>\n",
       "      <td>0.546807</td>\n",
       "      <td>-4.170891</td>\n",
       "      <td>-1.034285</td>\n",
       "      <td>0.340122</td>\n",
       "      <td>-4.170891059946108</td>\n",
       "    </tr>\n",
       "    <tr>\n",
       "      <th>802169</th>\n",
       "      <td>0.217236</td>\n",
       "      <td>-4.165781</td>\n",
       "      <td>0.751445</td>\n",
       "      <td>-2.101539</td>\n",
       "      <td>-4.165781290721342</td>\n",
       "    </tr>\n",
       "    <tr>\n",
       "      <th>534602</th>\n",
       "      <td>-1.206300</td>\n",
       "      <td>-4.147154</td>\n",
       "      <td>0.420793</td>\n",
       "      <td>-1.144585</td>\n",
       "      <td>-4.147154150648064</td>\n",
       "    </tr>\n",
       "    <tr>\n",
       "      <th>563651</th>\n",
       "      <td>1.357881</td>\n",
       "      <td>-4.139655</td>\n",
       "      <td>-2.224482</td>\n",
       "      <td>0.522425</td>\n",
       "      <td>-4.13965508615448</td>\n",
       "    </tr>\n",
       "    <tr>\n",
       "      <th>704039</th>\n",
       "      <td>-1.111450</td>\n",
       "      <td>-4.132945</td>\n",
       "      <td>-1.050337</td>\n",
       "      <td>0.074886</td>\n",
       "      <td>-4.132945148687354</td>\n",
       "    </tr>\n",
       "    <tr>\n",
       "      <th>676768</th>\n",
       "      <td>0.018773</td>\n",
       "      <td>-4.107149</td>\n",
       "      <td>-0.430343</td>\n",
       "      <td>1.154471</td>\n",
       "      <td>-4.107149217271896</td>\n",
       "    </tr>\n",
       "    <tr>\n",
       "      <th>772934</th>\n",
       "      <td>-0.318160</td>\n",
       "      <td>-4.068215</td>\n",
       "      <td>0.919860</td>\n",
       "      <td>-1.345892</td>\n",
       "      <td>-4.068215000893887</td>\n",
       "    </tr>\n",
       "    <tr>\n",
       "      <th>444849</th>\n",
       "      <td>0.189867</td>\n",
       "      <td>-4.064426</td>\n",
       "      <td>0.604610</td>\n",
       "      <td>0.252193</td>\n",
       "      <td>-4.064425825431235</td>\n",
       "    </tr>\n",
       "    <tr>\n",
       "      <th>806747</th>\n",
       "      <td>-0.143190</td>\n",
       "      <td>-4.033019</td>\n",
       "      <td>-0.498105</td>\n",
       "      <td>2.779888</td>\n",
       "      <td>-4.033018895267733</td>\n",
       "    </tr>\n",
       "    <tr>\n",
       "      <th>752177</th>\n",
       "      <td>-1.264995</td>\n",
       "      <td>-4.025530</td>\n",
       "      <td>-1.862314</td>\n",
       "      <td>-0.782751</td>\n",
       "      <td>-4.025529624323759</td>\n",
       "    </tr>\n",
       "    <tr>\n",
       "      <th>939830</th>\n",
       "      <td>-0.649365</td>\n",
       "      <td>-3.988027</td>\n",
       "      <td>1.083394</td>\n",
       "      <td>0.817418</td>\n",
       "      <td>-3.9880271328664496</td>\n",
       "    </tr>\n",
       "    <tr>\n",
       "      <th>859421</th>\n",
       "      <td>0.040653</td>\n",
       "      <td>-3.983950</td>\n",
       "      <td>-0.848338</td>\n",
       "      <td>2.078289</td>\n",
       "      <td>-3.9839501892997897</td>\n",
       "    </tr>\n",
       "    <tr>\n",
       "      <th>308791</th>\n",
       "      <td>-1.354877</td>\n",
       "      <td>-3.980231</td>\n",
       "      <td>0.407204</td>\n",
       "      <td>-0.625272</td>\n",
       "      <td>-3.9802306237302245</td>\n",
       "    </tr>\n",
       "    <tr>\n",
       "      <th>129233</th>\n",
       "      <td>-0.686561</td>\n",
       "      <td>-3.974975</td>\n",
       "      <td>0.382901</td>\n",
       "      <td>0.595750</td>\n",
       "      <td>-3.9749749452960588</td>\n",
       "    </tr>\n",
       "    <tr>\n",
       "      <th>440931</th>\n",
       "      <td>-0.839993</td>\n",
       "      <td>-3.971029</td>\n",
       "      <td>0.819018</td>\n",
       "      <td>1.708095</td>\n",
       "      <td>-3.9710287132434683</td>\n",
       "    </tr>\n",
       "    <tr>\n",
       "      <th>237069</th>\n",
       "      <td>0.573986</td>\n",
       "      <td>-3.967074</td>\n",
       "      <td>-1.372012</td>\n",
       "      <td>-0.571848</td>\n",
       "      <td>-3.9670742557709517</td>\n",
       "    </tr>\n",
       "    <tr>\n",
       "      <th>...</th>\n",
       "      <td>...</td>\n",
       "      <td>...</td>\n",
       "      <td>...</td>\n",
       "      <td>...</td>\n",
       "      <td>...</td>\n",
       "    </tr>\n",
       "    <tr>\n",
       "      <th>546092</th>\n",
       "      <td>-0.118650</td>\n",
       "      <td>3.988635</td>\n",
       "      <td>-0.430087</td>\n",
       "      <td>-1.804123</td>\n",
       "      <td>3.9886350401288584</td>\n",
       "    </tr>\n",
       "    <tr>\n",
       "      <th>642292</th>\n",
       "      <td>0.599246</td>\n",
       "      <td>3.995950</td>\n",
       "      <td>1.530613</td>\n",
       "      <td>0.406273</td>\n",
       "      <td>3.995949523527399</td>\n",
       "    </tr>\n",
       "    <tr>\n",
       "      <th>97602</th>\n",
       "      <td>-0.903641</td>\n",
       "      <td>4.000605</td>\n",
       "      <td>-0.919827</td>\n",
       "      <td>-1.645150</td>\n",
       "      <td>4.000604873835217</td>\n",
       "    </tr>\n",
       "    <tr>\n",
       "      <th>989936</th>\n",
       "      <td>0.248508</td>\n",
       "      <td>4.058426</td>\n",
       "      <td>0.799779</td>\n",
       "      <td>1.234859</td>\n",
       "      <td>4.058425888080259</td>\n",
       "    </tr>\n",
       "    <tr>\n",
       "      <th>682783</th>\n",
       "      <td>-0.395544</td>\n",
       "      <td>4.060297</td>\n",
       "      <td>-0.024039</td>\n",
       "      <td>-1.229269</td>\n",
       "      <td>4.060297244483485</td>\n",
       "    </tr>\n",
       "    <tr>\n",
       "      <th>56971</th>\n",
       "      <td>1.193619</td>\n",
       "      <td>4.068569</td>\n",
       "      <td>-0.049482</td>\n",
       "      <td>1.755498</td>\n",
       "      <td>4.068568784204715</td>\n",
       "    </tr>\n",
       "    <tr>\n",
       "      <th>310615</th>\n",
       "      <td>0.356366</td>\n",
       "      <td>4.097610</td>\n",
       "      <td>-1.118328</td>\n",
       "      <td>-0.663116</td>\n",
       "      <td>4.097610071871968</td>\n",
       "    </tr>\n",
       "    <tr>\n",
       "      <th>292203</th>\n",
       "      <td>0.673407</td>\n",
       "      <td>4.107301</td>\n",
       "      <td>-0.032767</td>\n",
       "      <td>-0.554870</td>\n",
       "      <td>4.107300872765029</td>\n",
       "    </tr>\n",
       "    <tr>\n",
       "      <th>503394</th>\n",
       "      <td>-0.051695</td>\n",
       "      <td>4.107775</td>\n",
       "      <td>0.985560</td>\n",
       "      <td>0.076978</td>\n",
       "      <td>4.1077754447042825</td>\n",
       "    </tr>\n",
       "    <tr>\n",
       "      <th>753380</th>\n",
       "      <td>0.243147</td>\n",
       "      <td>4.129516</td>\n",
       "      <td>0.325076</td>\n",
       "      <td>-0.149455</td>\n",
       "      <td>4.129516288611239</td>\n",
       "    </tr>\n",
       "    <tr>\n",
       "      <th>826922</th>\n",
       "      <td>0.745789</td>\n",
       "      <td>4.134371</td>\n",
       "      <td>-2.074565</td>\n",
       "      <td>1.180809</td>\n",
       "      <td>4.1343705718150305</td>\n",
       "    </tr>\n",
       "    <tr>\n",
       "      <th>583215</th>\n",
       "      <td>-0.040799</td>\n",
       "      <td>4.145076</td>\n",
       "      <td>0.903350</td>\n",
       "      <td>1.325934</td>\n",
       "      <td>4.145075651500543</td>\n",
       "    </tr>\n",
       "    <tr>\n",
       "      <th>796837</th>\n",
       "      <td>0.202894</td>\n",
       "      <td>4.167471</td>\n",
       "      <td>-1.018549</td>\n",
       "      <td>-1.236810</td>\n",
       "      <td>4.16747086923224</td>\n",
       "    </tr>\n",
       "    <tr>\n",
       "      <th>631184</th>\n",
       "      <td>-0.829880</td>\n",
       "      <td>4.187170</td>\n",
       "      <td>-0.664449</td>\n",
       "      <td>0.200616</td>\n",
       "      <td>4.187169654110764</td>\n",
       "    </tr>\n",
       "    <tr>\n",
       "      <th>139995</th>\n",
       "      <td>-1.425054</td>\n",
       "      <td>4.205751</td>\n",
       "      <td>1.455411</td>\n",
       "      <td>-0.792239</td>\n",
       "      <td>4.205751146594708</td>\n",
       "    </tr>\n",
       "    <tr>\n",
       "      <th>293747</th>\n",
       "      <td>0.237181</td>\n",
       "      <td>4.210332</td>\n",
       "      <td>0.040030</td>\n",
       "      <td>0.141937</td>\n",
       "      <td>4.210331782562336</td>\n",
       "    </tr>\n",
       "    <tr>\n",
       "      <th>547694</th>\n",
       "      <td>-1.913666</td>\n",
       "      <td>4.225712</td>\n",
       "      <td>-0.050069</td>\n",
       "      <td>-1.608476</td>\n",
       "      <td>4.2257118894436285</td>\n",
       "    </tr>\n",
       "    <tr>\n",
       "      <th>700040</th>\n",
       "      <td>-0.426015</td>\n",
       "      <td>4.246379</td>\n",
       "      <td>0.168116</td>\n",
       "      <td>-1.381881</td>\n",
       "      <td>4.246378549354105</td>\n",
       "    </tr>\n",
       "    <tr>\n",
       "      <th>147553</th>\n",
       "      <td>0.945428</td>\n",
       "      <td>4.254873</td>\n",
       "      <td>0.008740</td>\n",
       "      <td>-0.961824</td>\n",
       "      <td>4.254872515803899</td>\n",
       "    </tr>\n",
       "    <tr>\n",
       "      <th>533826</th>\n",
       "      <td>1.405148</td>\n",
       "      <td>4.269672</td>\n",
       "      <td>0.038227</td>\n",
       "      <td>-0.989798</td>\n",
       "      <td>4.269671909541809</td>\n",
       "    </tr>\n",
       "    <tr>\n",
       "      <th>79569</th>\n",
       "      <td>-0.633574</td>\n",
       "      <td>4.272604</td>\n",
       "      <td>-1.045050</td>\n",
       "      <td>0.552417</td>\n",
       "      <td>4.272604459276244</td>\n",
       "    </tr>\n",
       "    <tr>\n",
       "      <th>39663</th>\n",
       "      <td>-1.082124</td>\n",
       "      <td>4.283644</td>\n",
       "      <td>0.966629</td>\n",
       "      <td>-0.596159</td>\n",
       "      <td>4.283644267673644</td>\n",
       "    </tr>\n",
       "    <tr>\n",
       "      <th>586526</th>\n",
       "      <td>-0.541032</td>\n",
       "      <td>4.291794</td>\n",
       "      <td>0.910246</td>\n",
       "      <td>0.491152</td>\n",
       "      <td>4.2917944079794275</td>\n",
       "    </tr>\n",
       "    <tr>\n",
       "      <th>626335</th>\n",
       "      <td>0.608415</td>\n",
       "      <td>4.296469</td>\n",
       "      <td>-1.817345</td>\n",
       "      <td>-0.073129</td>\n",
       "      <td>4.296468552655182</td>\n",
       "    </tr>\n",
       "    <tr>\n",
       "      <th>839936</th>\n",
       "      <td>0.084023</td>\n",
       "      <td>4.408855</td>\n",
       "      <td>-1.466174</td>\n",
       "      <td>1.016179</td>\n",
       "      <td>4.408854688934638</td>\n",
       "    </tr>\n",
       "    <tr>\n",
       "      <th>779377</th>\n",
       "      <td>-0.635379</td>\n",
       "      <td>4.419225</td>\n",
       "      <td>0.852613</td>\n",
       "      <td>0.432142</td>\n",
       "      <td>4.4192253315477155</td>\n",
       "    </tr>\n",
       "    <tr>\n",
       "      <th>147076</th>\n",
       "      <td>2.066257</td>\n",
       "      <td>4.495437</td>\n",
       "      <td>-0.054125</td>\n",
       "      <td>2.143132</td>\n",
       "      <td>4.495437016830563</td>\n",
       "    </tr>\n",
       "    <tr>\n",
       "      <th>271710</th>\n",
       "      <td>-1.062095</td>\n",
       "      <td>4.513203</td>\n",
       "      <td>-0.805127</td>\n",
       "      <td>-1.098890</td>\n",
       "      <td>4.513203146246573</td>\n",
       "    </tr>\n",
       "    <tr>\n",
       "      <th>911935</th>\n",
       "      <td>1.057697</td>\n",
       "      <td>4.529686</td>\n",
       "      <td>0.196304</td>\n",
       "      <td>-1.314846</td>\n",
       "      <td>4.529686191066103</td>\n",
       "    </tr>\n",
       "    <tr>\n",
       "      <th>798994</th>\n",
       "      <td>1.560117</td>\n",
       "      <td>4.768506</td>\n",
       "      <td>0.648620</td>\n",
       "      <td>1.191480</td>\n",
       "      <td>4.76850620949409</td>\n",
       "    </tr>\n",
       "  </tbody>\n",
       "</table>\n",
       "<p>1000000 rows × 5 columns</p>\n",
       "</div>"
      ],
      "text/plain": [
       "               A         B         C         D           B (as str)\n",
       "105101  1.338018 -4.989447  1.011744  0.462926   -4.989447011773955\n",
       "864689  0.820927 -4.660080 -0.571666 -0.329916   -4.660080061869613\n",
       "117056  1.618749 -4.494460 -1.063972  0.270623   -4.494459965078872\n",
       "768684 -0.428959 -4.483811  1.088658  0.175013   -4.483811372841016\n",
       "560702 -0.085889 -4.474289 -1.317840 -0.757852  -4.4742891416253325\n",
       "481721  1.644112 -4.469877  0.413577 -0.564065   -4.469876672067811\n",
       "193752 -0.721723 -4.437168 -2.243909 -0.251722   -4.437168138098922\n",
       "198548  1.510897 -4.328416 -0.137798  0.913583   -4.328416498187886\n",
       "233390  0.743484 -4.314467  1.134280  0.733260   -4.314466626278919\n",
       "65475  -0.041197 -4.275940  0.008954  0.406949   -4.275940295544723\n",
       "194436 -0.034064 -4.264467 -1.620048  0.719883   -4.264467046143213\n",
       "516333  1.580670 -4.240924 -1.426675  0.612912   -4.240924143686755\n",
       "612034  0.809223 -4.236436 -0.525417  0.362413   -4.236435702390058\n",
       "840564  0.127888 -4.177791  0.749280 -1.337484   -4.177790677260948\n",
       "123971  0.546807 -4.170891 -1.034285  0.340122   -4.170891059946108\n",
       "802169  0.217236 -4.165781  0.751445 -2.101539   -4.165781290721342\n",
       "534602 -1.206300 -4.147154  0.420793 -1.144585   -4.147154150648064\n",
       "563651  1.357881 -4.139655 -2.224482  0.522425    -4.13965508615448\n",
       "704039 -1.111450 -4.132945 -1.050337  0.074886   -4.132945148687354\n",
       "676768  0.018773 -4.107149 -0.430343  1.154471   -4.107149217271896\n",
       "772934 -0.318160 -4.068215  0.919860 -1.345892   -4.068215000893887\n",
       "444849  0.189867 -4.064426  0.604610  0.252193   -4.064425825431235\n",
       "806747 -0.143190 -4.033019 -0.498105  2.779888   -4.033018895267733\n",
       "752177 -1.264995 -4.025530 -1.862314 -0.782751   -4.025529624323759\n",
       "939830 -0.649365 -3.988027  1.083394  0.817418  -3.9880271328664496\n",
       "859421  0.040653 -3.983950 -0.848338  2.078289  -3.9839501892997897\n",
       "308791 -1.354877 -3.980231  0.407204 -0.625272  -3.9802306237302245\n",
       "129233 -0.686561 -3.974975  0.382901  0.595750  -3.9749749452960588\n",
       "440931 -0.839993 -3.971029  0.819018  1.708095  -3.9710287132434683\n",
       "237069  0.573986 -3.967074 -1.372012 -0.571848  -3.9670742557709517\n",
       "...          ...       ...       ...       ...                  ...\n",
       "546092 -0.118650  3.988635 -0.430087 -1.804123   3.9886350401288584\n",
       "642292  0.599246  3.995950  1.530613  0.406273    3.995949523527399\n",
       "97602  -0.903641  4.000605 -0.919827 -1.645150    4.000604873835217\n",
       "989936  0.248508  4.058426  0.799779  1.234859    4.058425888080259\n",
       "682783 -0.395544  4.060297 -0.024039 -1.229269    4.060297244483485\n",
       "56971   1.193619  4.068569 -0.049482  1.755498    4.068568784204715\n",
       "310615  0.356366  4.097610 -1.118328 -0.663116    4.097610071871968\n",
       "292203  0.673407  4.107301 -0.032767 -0.554870    4.107300872765029\n",
       "503394 -0.051695  4.107775  0.985560  0.076978   4.1077754447042825\n",
       "753380  0.243147  4.129516  0.325076 -0.149455    4.129516288611239\n",
       "826922  0.745789  4.134371 -2.074565  1.180809   4.1343705718150305\n",
       "583215 -0.040799  4.145076  0.903350  1.325934    4.145075651500543\n",
       "796837  0.202894  4.167471 -1.018549 -1.236810     4.16747086923224\n",
       "631184 -0.829880  4.187170 -0.664449  0.200616    4.187169654110764\n",
       "139995 -1.425054  4.205751  1.455411 -0.792239    4.205751146594708\n",
       "293747  0.237181  4.210332  0.040030  0.141937    4.210331782562336\n",
       "547694 -1.913666  4.225712 -0.050069 -1.608476   4.2257118894436285\n",
       "700040 -0.426015  4.246379  0.168116 -1.381881    4.246378549354105\n",
       "147553  0.945428  4.254873  0.008740 -0.961824    4.254872515803899\n",
       "533826  1.405148  4.269672  0.038227 -0.989798    4.269671909541809\n",
       "79569  -0.633574  4.272604 -1.045050  0.552417    4.272604459276244\n",
       "39663  -1.082124  4.283644  0.966629 -0.596159    4.283644267673644\n",
       "586526 -0.541032  4.291794  0.910246  0.491152   4.2917944079794275\n",
       "626335  0.608415  4.296469 -1.817345 -0.073129    4.296468552655182\n",
       "839936  0.084023  4.408855 -1.466174  1.016179    4.408854688934638\n",
       "779377 -0.635379  4.419225  0.852613  0.432142   4.4192253315477155\n",
       "147076  2.066257  4.495437 -0.054125  2.143132    4.495437016830563\n",
       "271710 -1.062095  4.513203 -0.805127 -1.098890    4.513203146246573\n",
       "911935  1.057697  4.529686  0.196304 -1.314846    4.529686191066103\n",
       "798994  1.560117  4.768506  0.648620  1.191480     4.76850620949409\n",
       "\n",
       "[1000000 rows x 5 columns]"
      ]
     },
     "execution_count": 6,
     "metadata": {},
     "output_type": "execute_result"
    }
   ],
   "source": [
    "q_scale.get_changed_df()"
   ]
  },
  {
   "cell_type": "markdown",
   "metadata": {},
   "source": [
    "## Example 3 - Render a DataFrame returned by Yahoo Finance by enabling automatic qgrids"
   ]
  },
  {
   "cell_type": "code",
   "execution_count": 7,
   "metadata": {},
   "outputs": [
    {
     "ename": "ModuleNotFoundError",
     "evalue": "No module named 'pandas_datareader'",
     "output_type": "error",
     "traceback": [
      "\u001b[1;31m---------------------------------------------------------------------------\u001b[0m",
      "\u001b[1;31mModuleNotFoundError\u001b[0m                       Traceback (most recent call last)",
      "\u001b[1;32m<ipython-input-7-ec04466a02e8>\u001b[0m in \u001b[0;36m<module>\u001b[1;34m\u001b[0m\n\u001b[0;32m      5\u001b[0m \u001b[1;33m\u001b[0m\u001b[0m\n\u001b[0;32m      6\u001b[0m \u001b[1;31m# Get a pandas DataFrame containing the daily prices for the S&P 500 from 1/1/2014 - 1/1/2017\u001b[0m\u001b[1;33m\u001b[0m\u001b[1;33m\u001b[0m\u001b[1;33m\u001b[0m\u001b[0m\n\u001b[1;32m----> 7\u001b[1;33m \u001b[1;32mfrom\u001b[0m \u001b[0mpandas_datareader\u001b[0m\u001b[1;33m.\u001b[0m\u001b[0mdata\u001b[0m \u001b[1;32mimport\u001b[0m \u001b[0mDataReader\u001b[0m\u001b[1;33m\u001b[0m\u001b[1;33m\u001b[0m\u001b[0m\n\u001b[0m\u001b[0;32m      8\u001b[0m spy = DataReader(\n\u001b[0;32m      9\u001b[0m     \u001b[1;34m'SPY'\u001b[0m\u001b[1;33m,\u001b[0m\u001b[1;33m\u001b[0m\u001b[1;33m\u001b[0m\u001b[0m\n",
      "\u001b[1;31mModuleNotFoundError\u001b[0m: No module named 'pandas_datareader'"
     ]
    }
   ],
   "source": [
    "import pandas as pd\n",
    "import numpy as np\n",
    "import qgrid\n",
    "randn = np.random.randn\n",
    "\n",
    "# Get a pandas DataFrame containing the daily prices for the S&P 500 from 1/1/2014 - 1/1/2017\n",
    "from pandas_datareader.data import DataReader\n",
    "spy = DataReader(\n",
    "    'SPY',\n",
    "    'yahoo',\n",
    "    pd.Timestamp('2014-01-01'),  \n",
    "    pd.Timestamp('2017-01-01'),\n",
    ")\n",
    "# Tell qgrid to automatically render all DataFrames and Series as qgrids.\n",
    "qgrid.enable()\n",
    "\n",
    "# Render the DataFrame as a qgrid automatically\n",
    "spy"
   ]
  },
  {
   "cell_type": "code",
   "execution_count": null,
   "metadata": {},
   "outputs": [],
   "source": [
    "# Disable automatic display so we can display DataFrames in the normal way\n",
    "qgrid.disable()"
   ]
  },
  {
   "cell_type": "markdown",
   "metadata": {},
   "source": [
    "## Example 4 - Render a DataFrame with a multi-index\n",
    "\n",
    "Create a sample DataFrame using the `wb.download` function and render it without using qgrid"
   ]
  },
  {
   "cell_type": "code",
   "execution_count": null,
   "metadata": {},
   "outputs": [],
   "source": [
    "import qgrid\n",
    "import pandas as pd\n",
    "from pandas_datareader import wb\n",
    "df_countries = wb.download(indicator='NY.GDP.PCAP.KD', country=['all'], start=2005, end=2008)\n",
    "df_countries.columns = ['GDP per capita (constant 2005 US$)']\n",
    "qgrid.show_grid(df_countries)"
   ]
  },
  {
   "cell_type": "code",
   "execution_count": null,
   "metadata": {
    "scrolled": true
   },
   "outputs": [],
   "source": [
    "df_countries"
   ]
  },
  {
   "cell_type": "markdown",
   "metadata": {},
   "source": [
    "## Example 5 - Render a DataFrame with an interval column\n",
    "Create a sample DataFrame using the `wb.download` function and render it without using qgrid"
   ]
  },
  {
   "cell_type": "code",
   "execution_count": null,
   "metadata": {},
   "outputs": [],
   "source": [
    "import numpy as np\n",
    "import pandas as pd\n",
    "import qgrid\n",
    "\n",
    "td = np.cumsum(np.random.randint(1, 15*60, 1000))\n",
    "start = pd.Timestamp('2017-04-17')\n",
    "df_interval = pd.DataFrame(\n",
    "    [(start + pd.Timedelta(seconds=d)) for d in td],\n",
    "    columns=['time'])\n",
    "\n",
    "freq = '15Min'\n",
    "start = df_interval['time'].min().floor(freq)\n",
    "end = df_interval['time'].max().ceil(freq)\n",
    "bins = pd.date_range(start, end, freq=freq)\n",
    "\n",
    "df_interval['time_bin'] = pd.cut(df_interval['time'], bins)\n",
    "\n",
    "qgrid.show_grid(df_interval, show_toolbar=True)"
   ]
  },
  {
   "cell_type": "code",
   "execution_count": null,
   "metadata": {
    "scrolled": true
   },
   "outputs": [],
   "source": [
    "df_interval"
   ]
  },
  {
   "cell_type": "markdown",
   "metadata": {},
   "source": [
    "## Example 6 - Render a DataFrame with unnamed columns\n",
    "Create a sample DataFrame using the `wb.download` function and render it without using qgrid"
   ]
  },
  {
   "cell_type": "code",
   "execution_count": 8,
   "metadata": {},
   "outputs": [
    {
     "data": {
      "application/vnd.jupyter.widget-view+json": {
       "model_id": "aa74a01183ca4f8fb5d785e4b7cc3530",
       "version_major": 2,
       "version_minor": 0
      },
      "text/plain": [
       "QgridWidget(grid_options={'fullWidthRows': True, 'syncColumnCellResize': True, 'forceFitColumns': True, 'defau…"
      ]
     },
     "metadata": {},
     "output_type": "display_data"
    }
   ],
   "source": [
    "import numpy as np\n",
    "import pandas as pd\n",
    "import qgrid\n",
    "\n",
    "arrays = [['bar', 'bar', 'baz', 'baz', 'foo', 'foo', 'qux', 'qux'],\n",
    "          ['one', 'two', 'one', 'two', 'one', 'two', 'one', 'two']]\n",
    "df_multi = pd.DataFrame(np.random.randn(8, 4), index=arrays)\n",
    "qgrid.show_grid(df_multi, show_toolbar=True)"
   ]
  },
  {
   "cell_type": "code",
   "execution_count": 9,
   "metadata": {},
   "outputs": [
    {
     "data": {
      "text/html": [
       "<div>\n",
       "<style scoped>\n",
       "    .dataframe tbody tr th:only-of-type {\n",
       "        vertical-align: middle;\n",
       "    }\n",
       "\n",
       "    .dataframe tbody tr th {\n",
       "        vertical-align: top;\n",
       "    }\n",
       "\n",
       "    .dataframe thead th {\n",
       "        text-align: right;\n",
       "    }\n",
       "</style>\n",
       "<table border=\"1\" class=\"dataframe\">\n",
       "  <thead>\n",
       "    <tr style=\"text-align: right;\">\n",
       "      <th></th>\n",
       "      <th></th>\n",
       "      <th>0</th>\n",
       "      <th>1</th>\n",
       "      <th>2</th>\n",
       "      <th>3</th>\n",
       "    </tr>\n",
       "  </thead>\n",
       "  <tbody>\n",
       "    <tr>\n",
       "      <th rowspan=\"2\" valign=\"top\">bar</th>\n",
       "      <th>one</th>\n",
       "      <td>0.214750</td>\n",
       "      <td>-1.060516</td>\n",
       "      <td>0.168871</td>\n",
       "      <td>0.607136</td>\n",
       "    </tr>\n",
       "    <tr>\n",
       "      <th>two</th>\n",
       "      <td>-0.230562</td>\n",
       "      <td>1.581056</td>\n",
       "      <td>1.769808</td>\n",
       "      <td>-0.014029</td>\n",
       "    </tr>\n",
       "    <tr>\n",
       "      <th rowspan=\"2\" valign=\"top\">baz</th>\n",
       "      <th>one</th>\n",
       "      <td>-0.748355</td>\n",
       "      <td>0.629113</td>\n",
       "      <td>-0.470666</td>\n",
       "      <td>-0.317054</td>\n",
       "    </tr>\n",
       "    <tr>\n",
       "      <th>two</th>\n",
       "      <td>0.216143</td>\n",
       "      <td>-2.000143</td>\n",
       "      <td>1.482417</td>\n",
       "      <td>0.236795</td>\n",
       "    </tr>\n",
       "    <tr>\n",
       "      <th rowspan=\"2\" valign=\"top\">foo</th>\n",
       "      <th>one</th>\n",
       "      <td>1.680394</td>\n",
       "      <td>0.616333</td>\n",
       "      <td>-0.303708</td>\n",
       "      <td>0.426046</td>\n",
       "    </tr>\n",
       "    <tr>\n",
       "      <th>two</th>\n",
       "      <td>-0.404316</td>\n",
       "      <td>0.617708</td>\n",
       "      <td>1.120770</td>\n",
       "      <td>0.306395</td>\n",
       "    </tr>\n",
       "    <tr>\n",
       "      <th rowspan=\"2\" valign=\"top\">qux</th>\n",
       "      <th>one</th>\n",
       "      <td>1.458127</td>\n",
       "      <td>-0.890752</td>\n",
       "      <td>-1.196239</td>\n",
       "      <td>0.068242</td>\n",
       "    </tr>\n",
       "    <tr>\n",
       "      <th>two</th>\n",
       "      <td>0.133616</td>\n",
       "      <td>1.428289</td>\n",
       "      <td>1.429211</td>\n",
       "      <td>-0.100638</td>\n",
       "    </tr>\n",
       "  </tbody>\n",
       "</table>\n",
       "</div>"
      ],
      "text/plain": [
       "                0         1         2         3\n",
       "bar one  0.214750 -1.060516  0.168871  0.607136\n",
       "    two -0.230562  1.581056  1.769808 -0.014029\n",
       "baz one -0.748355  0.629113 -0.470666 -0.317054\n",
       "    two  0.216143 -2.000143  1.482417  0.236795\n",
       "foo one  1.680394  0.616333 -0.303708  0.426046\n",
       "    two -0.404316  0.617708  1.120770  0.306395\n",
       "qux one  1.458127 -0.890752 -1.196239  0.068242\n",
       "    two  0.133616  1.428289  1.429211 -0.100638"
      ]
     },
     "execution_count": 9,
     "metadata": {},
     "output_type": "execute_result"
    }
   ],
   "source": [
    "df_multi"
   ]
  },
  {
   "cell_type": "markdown",
   "metadata": {},
   "source": [
    "## Example 7 - Render a narrow DataFrame inside a Layout widget\n",
    "Create a sample DataFrame with only two columns using `randint`, and render it in a Layout widget that's 20% of the width of the output area."
   ]
  },
  {
   "cell_type": "code",
   "execution_count": 10,
   "metadata": {},
   "outputs": [
    {
     "data": {
      "application/vnd.jupyter.widget-view+json": {
       "model_id": "ab8ab9ed6ff24245869ccc006cccc18c",
       "version_major": 2,
       "version_minor": 0
      },
      "text/plain": [
       "QgridWidget(grid_options={'fullWidthRows': True, 'syncColumnCellResize': True, 'forceFitColumns': True, 'defau…"
      ]
     },
     "metadata": {},
     "output_type": "display_data"
    }
   ],
   "source": [
    "import numpy as np\n",
    "import pandas as pd\n",
    "import qgrid\n",
    "import ipywidgets as ipyw\n",
    "randn = np.random.randn\n",
    "df_types = pd.DataFrame(np.random.randint(1,14,14))\n",
    "qgrid_widget = qgrid.show_grid(df_types, show_toolbar=False)\n",
    "qgrid_widget.layout = ipyw.Layout(width='20%')\n",
    "qgrid_widget"
   ]
  },
  {
   "cell_type": "markdown",
   "metadata": {},
   "source": [
    "## Example 8 - Render a DataFrame with an index and column that contain multiple types"
   ]
  },
  {
   "cell_type": "code",
   "execution_count": 11,
   "metadata": {},
   "outputs": [
    {
     "data": {
      "application/vnd.jupyter.widget-view+json": {
       "model_id": "9f3e4ee5725c4010ab6bae75db21a7f5",
       "version_major": 2,
       "version_minor": 0
      },
      "text/plain": [
       "QgridWidget(grid_options={'fullWidthRows': True, 'syncColumnCellResize': True, 'forceFitColumns': True, 'defau…"
      ]
     },
     "metadata": {},
     "output_type": "display_data"
    }
   ],
   "source": [
    "import pandas as pd\n",
    "import qgrid\n",
    "df = pd.DataFrame({'A': [1.2, 'xy', 4], 'B': [3, 4, 5]})\n",
    "df = df.set_index(pd.Index(['yz', 7, 3.2]))\n",
    "view = qgrid.show_grid(df)\n",
    "view"
   ]
  },
  {
   "cell_type": "markdown",
   "metadata": {},
   "source": [
    "## Example 9 - Render a DataFrame with a Period index and Period column"
   ]
  },
  {
   "cell_type": "code",
   "execution_count": 12,
   "metadata": {},
   "outputs": [
    {
     "data": {
      "application/vnd.jupyter.widget-view+json": {
       "model_id": "1679959e23a1486e8cad216af036db4c",
       "version_major": 2,
       "version_minor": 0
      },
      "text/plain": [
       "QgridWidget(grid_options={'fullWidthRows': True, 'syncColumnCellResize': True, 'forceFitColumns': True, 'defau…"
      ]
     },
     "metadata": {},
     "output_type": "display_data"
    }
   ],
   "source": [
    "import pandas as pd\n",
    "import qgrid\n",
    "range_index = pd.period_range(start='2000', periods=10, freq='B')\n",
    "df = pd.DataFrame({'a': 5, 'b': range_index}, index=range_index)\n",
    "view = qgrid.show_grid(df)\n",
    "view"
   ]
  },
  {
   "cell_type": "markdown",
   "metadata": {},
   "source": [
    "## Example 10 - Render a DataFrame with NaN and None"
   ]
  },
  {
   "cell_type": "code",
   "execution_count": 13,
   "metadata": {},
   "outputs": [
    {
     "data": {
      "application/vnd.jupyter.widget-view+json": {
       "model_id": "361889fb8ed5465896e1fd0850031424",
       "version_major": 2,
       "version_minor": 0
      },
      "text/plain": [
       "QgridWidget(grid_options={'fullWidthRows': True, 'syncColumnCellResize': True, 'forceFitColumns': True, 'defau…"
      ]
     },
     "metadata": {},
     "output_type": "display_data"
    }
   ],
   "source": [
    "import pandas as pd\n",
    "import numpy as np\n",
    "import qgrid\n",
    "df = pd.DataFrame([(pd.Timestamp('2017-02-02'), None, 3.4), (np.nan, 2, 4.7), (pd.Timestamp('2017-02-03'), 3, None)])\n",
    "qgrid.show_grid(df)"
   ]
  },
  {
   "cell_type": "code",
   "execution_count": null,
   "metadata": {},
   "outputs": [],
   "source": []
  }
 ],
 "metadata": {
  "hide_input": false,
  "kernelspec": {
   "display_name": "Python 3",
   "language": "python",
   "name": "python3"
  },
  "language_info": {
   "codemirror_mode": {
    "name": "ipython",
    "version": 3
   },
   "file_extension": ".py",
   "mimetype": "text/x-python",
   "name": "python",
   "nbconvert_exporter": "python",
   "pygments_lexer": "ipython3",
   "version": "3.7.1"
  },
  "toc": {
   "base_numbering": 1,
   "nav_menu": {},
   "number_sections": true,
   "sideBar": true,
   "skip_h1_title": false,
   "title_cell": "Table of Contents",
   "title_sidebar": "Contents",
   "toc_cell": false,
   "toc_position": {},
   "toc_section_display": true,
   "toc_window_display": true
  },
  "varInspector": {
   "cols": {
    "lenName": 16,
    "lenType": 16,
    "lenVar": 40
   },
   "kernels_config": {
    "python": {
     "delete_cmd_postfix": "",
     "delete_cmd_prefix": "del ",
     "library": "var_list.py",
     "varRefreshCmd": "print(var_dic_list())"
    },
    "r": {
     "delete_cmd_postfix": ") ",
     "delete_cmd_prefix": "rm(",
     "library": "var_list.r",
     "varRefreshCmd": "cat(var_dic_list()) "
    }
   },
   "types_to_exclude": [
    "module",
    "function",
    "builtin_function_or_method",
    "instance",
    "_Feature"
   ],
   "window_display": false
  },
  "widgets": {
   "application/vnd.jupyter.widget-state+json": {
    "state": {
     "1a834c4c69af4c48bed691594ce5e0ad": {
      "model_module": "@jupyter-widgets/base",
      "model_module_version": "1.0.0",
      "model_name": "LayoutModel",
      "state": {}
     },
     "3fb8c261d3e249248ea7703065634285": {
      "model_module": "@jupyter-widgets/base",
      "model_module_version": "1.0.0",
      "model_name": "LayoutModel",
      "state": {}
     },
     "7aa5e1ce49fc4d0f9366bea5c684c58d": {
      "model_module": "qgrid",
      "model_module_version": "1.0.0-alpha.6",
      "model_name": "QgridModel",
      "state": {
       "_columns": {
        "A": {
         "name": "A",
         "type": "number"
        },
        "B": {
         "name": "B",
         "type": "datetime"
        },
        "C": {
         "name": "C",
         "type": "number"
        },
        "D": {
         "name": "D",
         "type": "integer"
        },
        "E": {
         "constraints": {
          "enum": [
           "adams",
           "hamilton",
           "jefferson",
           "kennedy",
           "lincoln",
           "madison",
           "roosevelt",
           "washington"
          ]
         },
         "name": "E",
         "ordered": false,
         "type": "any"
        },
        "F": {
         "name": "F",
         "type": "string"
        },
        "G": {
         "name": "G",
         "type": "boolean"
        },
        "index": {
         "name": "index",
         "type": "integer"
        }
       },
       "_df_json": "{\"schema\": {\"fields\":[{\"name\":\"index\",\"type\":\"integer\"},{\"name\":\"A\",\"type\":\"number\"},{\"name\":\"B\",\"type\":\"datetime\"},{\"name\":\"C\",\"type\":\"number\"},{\"name\":\"D\",\"type\":\"integer\"},{\"name\":\"E\",\"type\":\"any\",\"constraints\":{\"enum\":[\"adams\",\"hamilton\",\"jefferson\",\"kennedy\",\"lincoln\",\"madison\",\"roosevelt\",\"washington\"]},\"ordered\":false},{\"name\":\"F\",\"type\":\"string\"},{\"name\":\"G\",\"type\":\"boolean\"}],\"primaryKey\":[\"index\"],\"pandas_version\":\"0.20.0\"}, \"data\": [{\"index\":0,\"A\":1.0,\"B\":\"2013-01-01T00:00:00.000Z\",\"C\":-0.09128,\"D\":3,\"E\":\"washington\",\"F\":\"foo\",\"G\":true},{\"index\":1,\"A\":1.0,\"B\":\"2013-01-02T00:00:00.000Z\",\"C\":-0.57373,\"D\":3,\"E\":\"adams\",\"F\":\"bar\",\"G\":false},{\"index\":2,\"A\":1.0,\"B\":\"2013-01-03T00:00:00.000Z\",\"C\":0.4723,\"D\":3,\"E\":\"washington\",\"F\":\"buzz\",\"G\":false},{\"index\":3,\"A\":1.0,\"B\":\"2013-01-04T00:00:00.000Z\",\"C\":-0.09316,\"D\":3,\"E\":\"madison\",\"F\":\"bippity\",\"G\":false},{\"index\":4,\"A\":1.0,\"B\":\"2013-01-05T00:00:00.000Z\",\"C\":-0.20181,\"D\":3,\"E\":\"lincoln\",\"F\":\"boppity\",\"G\":false},{\"index\":5,\"A\":1.0,\"B\":\"2013-01-06T00:00:00.000Z\",\"C\":1.7561,\"D\":3,\"E\":\"jefferson\",\"F\":\"foo\",\"G\":true},{\"index\":6,\"A\":1.0,\"B\":\"2013-01-07T00:00:00.000Z\",\"C\":1.20064,\"D\":3,\"E\":\"hamilton\",\"F\":\"foo\",\"G\":true},{\"index\":7,\"A\":1.0,\"B\":\"2013-01-08T00:00:00.000Z\",\"C\":0.98097,\"D\":3,\"E\":\"roosevelt\",\"F\":\"bar\",\"G\":false},{\"index\":8,\"A\":1.0,\"B\":\"2013-01-09T00:00:00.000Z\",\"C\":0.8321,\"D\":3,\"E\":\"kennedy\",\"F\":\"zoo\",\"G\":false}]}",
       "_df_range": [
        0,
        100
       ],
       "_interval_columns": [],
       "_model_module_version": "1.0.0-alpha.6",
       "_row_count": 9,
       "_sort_ascending": true,
       "_sort_field": "",
       "_view_module_version": "1.0.0-alpha.6",
       "grid_options": {
        "autoEdit": false,
        "defaultColumnWidth": 150,
        "editable": true,
        "enableColumnReorder": false,
        "enableTextSelectionOnCells": true,
        "explicitInitialization": true,
        "forceFitColumns": true,
        "fullWidthRows": true,
        "rowHeight": 28,
        "syncColumnCellResize": true
       },
       "layout": "IPY_MODEL_1a834c4c69af4c48bed691594ce5e0ad",
       "precision": 5,
       "show_toolbar": false
      }
     },
     "7ec042abef044645a9f8bd38a3f69faf": {
      "model_module": "qgrid",
      "model_module_version": "1.0.0-alpha.6",
      "model_name": "QgridModel",
      "state": {
       "_columns": {
        "A": {
         "name": "A",
         "type": "number"
        },
        "B": {
         "name": "B",
         "type": "datetime"
        },
        "C": {
         "name": "C",
         "type": "number"
        },
        "D": {
         "name": "D",
         "type": "integer"
        },
        "E": {
         "constraints": {
          "enum": [
           "adams",
           "hamilton",
           "jefferson",
           "kennedy",
           "lincoln",
           "madison",
           "roosevelt",
           "washington"
          ]
         },
         "name": "E",
         "ordered": false,
         "type": "any"
        },
        "F": {
         "name": "F",
         "type": "string"
        },
        "G": {
         "name": "G",
         "type": "boolean"
        },
        "index": {
         "name": "index",
         "type": "integer"
        }
       },
       "_df_json": "{\"schema\": {\"fields\":[{\"name\":\"index\",\"type\":\"integer\"},{\"name\":\"A\",\"type\":\"number\"},{\"name\":\"B\",\"type\":\"datetime\"},{\"name\":\"C\",\"type\":\"number\"},{\"name\":\"D\",\"type\":\"integer\"},{\"name\":\"E\",\"type\":\"any\",\"constraints\":{\"enum\":[\"adams\",\"hamilton\",\"jefferson\",\"kennedy\",\"lincoln\",\"madison\",\"roosevelt\",\"washington\"]},\"ordered\":false},{\"name\":\"F\",\"type\":\"string\"},{\"name\":\"G\",\"type\":\"boolean\"}],\"primaryKey\":[\"index\"],\"pandas_version\":\"0.20.0\"}, \"data\": [{\"index\":0,\"A\":1.0,\"B\":\"2013-01-01T00:00:00.000Z\",\"C\":0.13177,\"D\":3,\"E\":\"washington\",\"F\":\"foo\",\"G\":true},{\"index\":1,\"A\":1.0,\"B\":\"2013-01-02T00:00:00.000Z\",\"C\":-1.56846,\"D\":3,\"E\":\"adams\",\"F\":\"bar\",\"G\":false},{\"index\":2,\"A\":1.0,\"B\":\"2013-01-03T00:00:00.000Z\",\"C\":1.2584,\"D\":3,\"E\":\"washington\",\"F\":\"buzz\",\"G\":false},{\"index\":3,\"A\":1.0,\"B\":\"2013-01-04T00:00:00.000Z\",\"C\":-1.54316,\"D\":3,\"E\":\"madison\",\"F\":\"bippity\",\"G\":false},{\"index\":4,\"A\":1.0,\"B\":\"2013-01-05T00:00:00.000Z\",\"C\":0.01483,\"D\":3,\"E\":\"lincoln\",\"F\":\"boppity\",\"G\":false},{\"index\":5,\"A\":1.0,\"B\":\"2013-01-06T00:00:00.000Z\",\"C\":-0.26442,\"D\":3,\"E\":\"jefferson\",\"F\":\"foo\",\"G\":true},{\"index\":6,\"A\":1.0,\"B\":\"2013-01-07T00:00:00.000Z\",\"C\":-1.85692,\"D\":3,\"E\":\"hamilton\",\"F\":\"foo\",\"G\":true},{\"index\":7,\"A\":1.0,\"B\":\"2013-01-08T00:00:00.000Z\",\"C\":1.38498,\"D\":3,\"E\":\"roosevelt\",\"F\":\"bar\",\"G\":false},{\"index\":8,\"A\":1.0,\"B\":\"2013-01-09T00:00:00.000Z\",\"C\":0.40905,\"D\":3,\"E\":\"kennedy\",\"F\":\"zoo\",\"G\":false}]}",
       "_df_range": [
        0,
        100
       ],
       "_interval_columns": [],
       "_model_module_version": "1.0.0-alpha.6",
       "_row_count": 9,
       "_sort_ascending": true,
       "_sort_field": "",
       "_view_module_version": "1.0.0-alpha.6",
       "grid_options": {
        "autoEdit": false,
        "defaultColumnWidth": 150,
        "editable": true,
        "enableColumnReorder": false,
        "enableTextSelectionOnCells": true,
        "explicitInitialization": true,
        "forceFitColumns": true,
        "fullWidthRows": true,
        "rowHeight": 28,
        "syncColumnCellResize": true
       },
       "layout": "IPY_MODEL_8eb3cf5ce7da431db4a3e4e9d3d64511",
       "precision": 5,
       "show_toolbar": false
      }
     },
     "8eb3cf5ce7da431db4a3e4e9d3d64511": {
      "model_module": "@jupyter-widgets/base",
      "model_module_version": "1.0.0",
      "model_name": "LayoutModel",
      "state": {}
     },
     "fa118ab9f1c840cd83509f56d50ee163": {
      "model_module": "qgrid",
      "model_module_version": "1.0.0-alpha.6",
      "model_name": "QgridModel",
      "state": {
       "_columns": {
        "A": {
         "name": "A",
         "type": "number"
        },
        "B": {
         "name": "B",
         "type": "datetime"
        },
        "C": {
         "name": "C",
         "type": "number"
        },
        "D": {
         "name": "D",
         "type": "integer"
        },
        "E": {
         "constraints": {
          "enum": [
           "adams",
           "hamilton",
           "jefferson",
           "kennedy",
           "lincoln",
           "madison",
           "roosevelt",
           "washington"
          ]
         },
         "name": "E",
         "ordered": false,
         "type": "any"
        },
        "F": {
         "name": "F",
         "type": "string"
        },
        "G": {
         "name": "G",
         "type": "boolean"
        },
        "index": {
         "name": "index",
         "type": "integer"
        }
       },
       "_df_json": "{\"schema\": {\"fields\":[{\"name\":\"index\",\"type\":\"integer\"},{\"name\":\"A\",\"type\":\"number\"},{\"name\":\"B\",\"type\":\"datetime\"},{\"name\":\"C\",\"type\":\"number\"},{\"name\":\"D\",\"type\":\"integer\"},{\"name\":\"E\",\"type\":\"any\",\"constraints\":{\"enum\":[\"adams\",\"hamilton\",\"jefferson\",\"kennedy\",\"lincoln\",\"madison\",\"roosevelt\",\"washington\"]},\"ordered\":false},{\"name\":\"F\",\"type\":\"string\"},{\"name\":\"G\",\"type\":\"boolean\"}],\"primaryKey\":[\"index\"],\"pandas_version\":\"0.20.0\"}, \"data\": [{\"index\":0,\"A\":1.0,\"B\":\"2013-01-01T00:00:00.000Z\",\"C\":-0.67408,\"D\":3,\"E\":\"washington\",\"F\":\"foo\",\"G\":true},{\"index\":1,\"A\":1.0,\"B\":\"2013-01-02T00:00:00.000Z\",\"C\":-0.87122,\"D\":3,\"E\":\"adams\",\"F\":\"bar\",\"G\":false},{\"index\":2,\"A\":1.0,\"B\":\"2013-01-03T00:00:00.000Z\",\"C\":0.58722,\"D\":3,\"E\":\"washington\",\"F\":\"buzz\",\"G\":false},{\"index\":3,\"A\":1.0,\"B\":\"2013-01-04T00:00:00.000Z\",\"C\":0.14947,\"D\":3,\"E\":\"madison\",\"F\":\"bippity\",\"G\":false},{\"index\":4,\"A\":1.0,\"B\":\"2013-01-05T00:00:00.000Z\",\"C\":0.89719,\"D\":3,\"E\":\"lincoln\",\"F\":\"boppity\",\"G\":false},{\"index\":5,\"A\":1.0,\"B\":\"2013-01-06T00:00:00.000Z\",\"C\":0.41141,\"D\":3,\"E\":\"jefferson\",\"F\":\"foo\",\"G\":true},{\"index\":6,\"A\":1.0,\"B\":\"2013-01-07T00:00:00.000Z\",\"C\":0.66837,\"D\":3,\"E\":\"hamilton\",\"F\":\"foo\",\"G\":true},{\"index\":7,\"A\":1.0,\"B\":\"2013-01-08T00:00:00.000Z\",\"C\":0.42815,\"D\":3,\"E\":\"roosevelt\",\"F\":\"bar\",\"G\":false},{\"index\":8,\"A\":1.0,\"B\":\"2013-01-09T00:00:00.000Z\",\"C\":-0.49399,\"D\":3,\"E\":\"kennedy\",\"F\":\"zoo\",\"G\":false}]}",
       "_df_range": [
        0,
        100
       ],
       "_interval_columns": [],
       "_model_module_version": "1.0.0-alpha.6",
       "_row_count": 9,
       "_sort_ascending": true,
       "_sort_field": "",
       "_view_module_version": "1.0.0-alpha.6",
       "grid_options": {
        "autoEdit": false,
        "defaultColumnWidth": 150,
        "editable": true,
        "enableColumnReorder": false,
        "enableTextSelectionOnCells": true,
        "explicitInitialization": true,
        "forceFitColumns": true,
        "fullWidthRows": true,
        "rowHeight": 28,
        "syncColumnCellResize": true
       },
       "layout": "IPY_MODEL_3fb8c261d3e249248ea7703065634285",
       "precision": 5,
       "show_toolbar": false
      }
     }
    },
    "version_major": 2,
    "version_minor": 0
   }
  }
 },
 "nbformat": 4,
 "nbformat_minor": 2
}
