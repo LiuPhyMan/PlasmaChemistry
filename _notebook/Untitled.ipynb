{
 "cells": [
  {
   "cell_type": "code",
   "execution_count": 1,
   "metadata": {},
   "outputs": [
    {
     "name": "stdout",
     "output_type": "stream",
     "text": [
      "C:\\Users\\LiuJinbao\\Documents\\Code\\PlasmaChemistry_Copy\n"
     ]
    }
   ],
   "source": [
    "%cd .."
   ]
  },
  {
   "cell_type": "code",
   "execution_count": 10,
   "metadata": {},
   "outputs": [],
   "source": [
    "from plasmistry.molecule import get_vib_energy\n",
    "from plasmistry import constants as const"
   ]
  },
  {
   "cell_type": "code",
   "execution_count": 3,
   "metadata": {},
   "outputs": [
    {
     "data": {
      "text/plain": [
       "0.2912574773137701"
      ]
     },
     "execution_count": 3,
     "metadata": {},
     "output_type": "execute_result"
    }
   ],
   "source": [
    "get_vib_energy(\"CO2\",quantum_number=(0,0,1),minimum_is_zero=True)"
   ]
  },
  {
   "cell_type": "code",
   "execution_count": 7,
   "metadata": {},
   "outputs": [],
   "source": [
    "vib_energy_seq = np.array([get_vib_energy(\"CO2\",quantum_number=(0,0,_),minimum_is_zero=True) for _ in range(22)])"
   ]
  },
  {
   "cell_type": "code",
   "execution_count": 11,
   "metadata": {},
   "outputs": [
    {
     "data": {
      "text/plain": [
       "array([1.00000000e+00, 4.29567687e-01, 1.86191208e-01, 8.14296733e-02,\n",
       "       3.59337196e-02, 1.59999128e-02, 7.18834669e-03, 3.25863992e-03,\n",
       "       1.49052646e-03, 6.87921633e-04, 3.20356988e-04, 1.50530809e-04,\n",
       "       7.13694827e-05, 3.41425269e-05, 1.64806650e-05, 8.02693526e-06,\n",
       "       3.94476148e-06, 1.95608488e-06, 9.78702284e-07, 4.94093871e-07,\n",
       "       2.51689032e-07, 1.29364488e-07])"
      ]
     },
     "execution_count": 11,
     "metadata": {},
     "output_type": "execute_result"
    }
   ],
   "source": [
    "Tvib=4000\n",
    "np.exp(-vib_energy_seq*const.eV2K/Tvib)"
   ]
  },
  {
   "cell_type": "code",
   "execution_count": 23,
   "metadata": {},
   "outputs": [
    {
     "name": "stdout",
     "output_type": "stream",
     "text": [
      "CO2(v0) 6.809065804417496e+17\n",
      "CO2(v1) 2.924954647973315e+17\n",
      "CO2(v2) 1.267788187131161e+17\n",
      "CO2(v3) 5.544600041487556e+16\n",
      "CO2(v4) 2.446750612949822e+16\n",
      "CO2(v5) 1.0894445899353524e+16\n",
      "CO2(v6) 4894592565425459.0\n",
      "CO2(v7) 2218829364000352.5\n",
      "CO2(v8) 1014909276473236.6\n",
      "CO2(v9) 468410366834991.2\n",
      "CO2(v10) 218133181364772.0\n",
      "CO2(v11) 102497418486921.62\n",
      "CO2(v12) 48595950403022.336\n",
      "CO2(v13) 23247871252779.008\n",
      "CO2(v14) 11221793233423.432\n",
      "CO2(v15) 5465593041788.417\n",
      "CO2(v16) 2686014049989.3237\n",
      "CO2(v17) 1331911065893.1233\n",
      "CO2(v18) 666404825489.197\n",
      "CO2(v19) 336431768119.2252\n",
      "CO2(v20) 171376718101.81656\n",
      "CO2(v21) 88085130954.55788\n"
     ]
    }
   ],
   "source": [
    "ratio_seq = np.exp(-vib_energy_seq*const.eV2K/Tvib)\n",
    "total_density = 1.2e18\n",
    "for _ in range(22):\n",
    "    print(f\"CO2(v{_:.0f})\", end=\" \")\n",
    "    print(total_density/ratio_seq.sum()*ratio_seq[_])"
   ]
  },
  {
   "cell_type": "code",
   "execution_count": 21,
   "metadata": {},
   "outputs": [
    {
     "data": {
      "text/plain": [
       "1.762356297425529"
      ]
     },
     "execution_count": 21,
     "metadata": {},
     "output_type": "execute_result"
    }
   ],
   "source": [
    "ratio_seq.sum()"
   ]
  },
  {
   "cell_type": "code",
   "execution_count": null,
   "metadata": {},
   "outputs": [],
   "source": []
  }
 ],
 "metadata": {
  "kernelspec": {
   "display_name": "Python 3",
   "language": "python",
   "name": "python3"
  },
  "language_info": {
   "codemirror_mode": {
    "name": "ipython",
    "version": 3
   },
   "file_extension": ".py",
   "mimetype": "text/x-python",
   "name": "python",
   "nbconvert_exporter": "python",
   "pygments_lexer": "ipython3",
   "version": "3.7.4"
  },
  "toc": {
   "base_numbering": 1,
   "nav_menu": {},
   "number_sections": true,
   "sideBar": true,
   "skip_h1_title": false,
   "title_cell": "Table of Contents",
   "title_sidebar": "Contents",
   "toc_cell": false,
   "toc_position": {},
   "toc_section_display": true,
   "toc_window_display": false
  },
  "varInspector": {
   "cols": {
    "lenName": 16,
    "lenType": 16,
    "lenVar": 40
   },
   "kernels_config": {
    "python": {
     "delete_cmd_postfix": "",
     "delete_cmd_prefix": "del ",
     "library": "var_list.py",
     "varRefreshCmd": "print(var_dic_list())"
    },
    "r": {
     "delete_cmd_postfix": ") ",
     "delete_cmd_prefix": "rm(",
     "library": "var_list.r",
     "varRefreshCmd": "cat(var_dic_list()) "
    }
   },
   "types_to_exclude": [
    "module",
    "function",
    "builtin_function_or_method",
    "instance",
    "_Feature"
   ],
   "window_display": false
  }
 },
 "nbformat": 4,
 "nbformat_minor": 2
}
