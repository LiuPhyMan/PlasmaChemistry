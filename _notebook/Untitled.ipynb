{
 "cells": [
  {
   "cell_type": "markdown",
   "metadata": {},
   "source": [
    "# Init"
   ]
  },
  {
   "cell_type": "code",
   "execution_count": null,
   "metadata": {
    "ExecuteTime": {
     "end_time": "2019-09-06T07:11:18.823669Z",
     "start_time": "2019-09-06T07:11:15.490579Z"
    },
    "deletable": false,
    "editable": false,
    "init_cell": true
   },
   "outputs": [],
   "source": [
    "import yaml\n",
    "import re\n",
    "import numpy as np\n",
    "import pandas as pd\n",
    "from matplotlib import pyplot as plt\n",
    "from scipy.integrate import (solve_ivp,\n",
    "                             ode)\n",
    "from plasmistry import constants as const\n",
    "from plasmistry.molecule import get_vib_energy"
   ]
  },
  {
   "cell_type": "code",
   "execution_count": 2,
   "metadata": {
    "ExecuteTime": {
     "end_time": "2019-09-06T07:11:18.827660Z",
     "start_time": "2019-09-06T07:11:18.824667Z"
    },
    "deletable": false,
    "editable": false
   },
   "outputs": [],
   "source": [
    "from plasmistry.reactions import CoefReactions"
   ]
  },
  {
   "cell_type": "code",
   "execution_count": 3,
   "metadata": {
    "ExecuteTime": {
     "end_time": "2019-09-06T07:11:18.928391Z",
     "start_time": "2019-09-06T07:11:18.829655Z"
    },
    "deletable": false,
    "editable": false
   },
   "outputs": [],
   "source": [
    "np.set_printoptions(precision=1, linewidth=130, edgeitems=5)\n",
    "pd.options.display.float_format = '{:,.1e}'.format"
   ]
  },
  {
   "cell_type": "code",
   "execution_count": 4,
   "metadata": {
    "ExecuteTime": {
     "end_time": "2019-09-06T07:11:19.074002Z",
     "start_time": "2019-09-06T07:11:18.935372Z"
    }
   },
   "outputs": [],
   "source": [
    "import matplotlib.pyplot as plt\n",
    "plt.rcParams[\"figure.figsize\"] = (12,9)\n",
    "plt.rcParams[\"font.size\"] = 14"
   ]
  },
  {
   "cell_type": "code",
   "execution_count": null,
   "metadata": {
    "ExecuteTime": {
     "end_time": "2019-09-06T07:11:19.221607Z",
     "start_time": "2019-09-06T07:11:19.077993Z"
    },
    "deletable": false,
    "editable": false,
    "init_cell": true
   },
   "outputs": [],
   "source": [
    "from yaml_demo import (eval_constructor, LT_constructor, Arr_constructor,\n",
    "                       H2_vib_energy_in_eV, \n",
    "                       CO2_vib_energy_in_eV, \n",
    "                       CO_vib_energy_in_eV,\n",
    "                       Reaction_block,\n",
    "                       Cros_Reaction_block,\n",
    "                       Coef_Reaction_block)\n",
    "\n",
    "yaml.add_constructor(u\"!eval\", eval_constructor)\n",
    "yaml.add_constructor(u\"!LT\", LT_constructor)\n",
    "yaml.add_constructor(u\"!Arr\", Arr_constructor)"
   ]
  },
  {
   "cell_type": "markdown",
   "metadata": {
    "heading_collapsed": true
   },
   "source": [
    "# Read reactions"
   ]
  },
  {
   "cell_type": "code",
   "execution_count": 6,
   "metadata": {
    "ExecuteTime": {
     "end_time": "2019-09-06T07:11:19.350264Z",
     "start_time": "2019-09-06T07:11:19.223602Z"
    },
    "hidden": true
   },
   "outputs": [
    {
     "name": "stdout",
     "output_type": "stream",
     "text": [
      "H2_ele_vib_rctn_forward\n",
      "H2_ele_vib_rctn_backward\n",
      "CO2_VT_with_CO2\n"
     ]
    }
   ],
   "source": [
    "with open(\"test_0.yaml\") as f:\n",
    "    all_rctns = yaml.load(f)\n",
    "rctn_considered = all_rctns[-1]['The reactions considered']['electron reactions']\n",
    "for _key in rctn_considered:\n",
    "    print(_key)"
   ]
  },
  {
   "cell_type": "code",
   "execution_count": 7,
   "metadata": {
    "ExecuteTime": {
     "end_time": "2019-09-06T07:11:19.452988Z",
     "start_time": "2019-09-06T07:11:19.352257Z"
    },
    "hidden": true
   },
   "outputs": [],
   "source": [
    "coef_block = Coef_Reaction_block(rctn_dict=rctn_considered[\"CO2_VT_with_CO2\"])"
   ]
  },
  {
   "cell_type": "code",
   "execution_count": 8,
   "metadata": {
    "ExecuteTime": {
     "end_time": "2019-09-06T07:11:19.542748Z",
     "start_time": "2019-09-06T07:11:19.453985Z"
    },
    "hidden": true
   },
   "outputs": [],
   "source": [
    "coef_df = coef_block.generate_crostn_dataframe()"
   ]
  },
  {
   "cell_type": "code",
   "execution_count": 9,
   "metadata": {
    "ExecuteTime": {
     "end_time": "2019-09-06T07:11:19.633505Z",
     "start_time": "2019-09-06T07:11:19.543746Z"
    },
    "hidden": true
   },
   "outputs": [
    {
     "data": {
      "text/plain": [
       "Index(['formula', 'reactant', 'product', 'type', 'kstr'], dtype='object')"
      ]
     },
     "execution_count": 9,
     "metadata": {},
     "output_type": "execute_result"
    }
   ],
   "source": [
    "coef_df.columns"
   ]
  },
  {
   "cell_type": "markdown",
   "metadata": {},
   "source": [
    "# Instance reaction\n",
    "- \\__init__\n",
    "- .set_pre_exec_list() (optional)\n",
    "- .compile_k_str()\n",
    "\n",
    "\n",
    "\n",
    "\n",
    "\n",
    "\n"
   ]
  },
  {
   "cell_type": "code",
   "execution_count": 10,
   "metadata": {
    "ExecuteTime": {
     "end_time": "2019-09-06T07:11:19.748200Z",
     "start_time": "2019-09-06T07:11:19.634502Z"
    }
   },
   "outputs": [],
   "source": [
    "coef = CoefReactions(reactant=coef_df['reactant'],\n",
    "                    product=coef_df['product'],\n",
    "                    k_str=coef_df['kstr'])"
   ]
  },
  {
   "cell_type": "code",
   "execution_count": 11,
   "metadata": {
    "ExecuteTime": {
     "end_time": "2019-09-06T07:11:19.836962Z",
     "start_time": "2019-09-06T07:11:19.749197Z"
    }
   },
   "outputs": [
    {
     "name": "stdout",
     "output_type": "stream",
     "text": [
      "\n",
      "        \n",
      "====SPECIES====\n",
      "        \n",
      "0           CO\n",
      "1       CO(v1)\n",
      "2      CO(v10)\n",
      "3       CO(v2)\n",
      "4       CO(v3)\n",
      "5       CO(v4)\n",
      "6       CO(v5)\n",
      "7       CO(v6)\n",
      "8       CO(v7)\n",
      "9       CO(v8)\n",
      "10      CO(v9)\n",
      "11         CO2\n",
      "12     CO2(v1)\n",
      "13    CO2(v10)\n",
      "14    CO2(v11)\n",
      "15    CO2(v12)\n",
      "16    CO2(v13)\n",
      "17    CO2(v14)\n",
      "18    CO2(v15)\n",
      "19    CO2(v16)\n",
      "20    CO2(v17)\n",
      "21    CO2(v18)\n",
      "22    CO2(v19)\n",
      "23     CO2(v2)\n",
      "24    CO2(v20)\n",
      "25    CO2(v21)\n",
      "26     CO2(v3)\n",
      "27     CO2(v4)\n",
      "28     CO2(v5)\n",
      "29     CO2(v6)\n",
      "30     CO2(v7)\n",
      "31     CO2(v8)\n",
      "32     CO2(v9)\n",
      "dtype: object\n",
      "        \n",
      "====REACTIONS====\n",
      "        \n",
      " columns: reactions dH_g[eV] dH_e[eV] k_str rate_const rate\n",
      "        \n",
      "                                    reactions  dH_g[eV]  dH_e[eV]  \\\n",
      "0                    CO2(v1) + CO => CO2 + CO   0.0e+00   0.0e+00   \n",
      "1                CO2(v2) + CO => CO2(v1) + CO   0.0e+00   0.0e+00   \n",
      "2                CO2(v3) + CO => CO2(v2) + CO   0.0e+00   0.0e+00   \n",
      "3                CO2(v4) + CO => CO2(v3) + CO   0.0e+00   0.0e+00   \n",
      "4                CO2(v5) + CO => CO2(v4) + CO   0.0e+00   0.0e+00   \n",
      "5                CO2(v6) + CO => CO2(v5) + CO   0.0e+00   0.0e+00   \n",
      "6                CO2(v7) + CO => CO2(v6) + CO   0.0e+00   0.0e+00   \n",
      "7                CO2(v8) + CO => CO2(v7) + CO   0.0e+00   0.0e+00   \n",
      "8                CO2(v9) + CO => CO2(v8) + CO   0.0e+00   0.0e+00   \n",
      "9               CO2(v10) + CO => CO2(v9) + CO   0.0e+00   0.0e+00   \n",
      "10             CO2(v11) + CO => CO2(v10) + CO   0.0e+00   0.0e+00   \n",
      "11             CO2(v12) + CO => CO2(v11) + CO   0.0e+00   0.0e+00   \n",
      "12             CO2(v13) + CO => CO2(v12) + CO   0.0e+00   0.0e+00   \n",
      "13             CO2(v14) + CO => CO2(v13) + CO   0.0e+00   0.0e+00   \n",
      "14             CO2(v15) + CO => CO2(v14) + CO   0.0e+00   0.0e+00   \n",
      "15             CO2(v16) + CO => CO2(v15) + CO   0.0e+00   0.0e+00   \n",
      "16             CO2(v17) + CO => CO2(v16) + CO   0.0e+00   0.0e+00   \n",
      "17             CO2(v18) + CO => CO2(v17) + CO   0.0e+00   0.0e+00   \n",
      "18             CO2(v19) + CO => CO2(v18) + CO   0.0e+00   0.0e+00   \n",
      "19             CO2(v20) + CO => CO2(v19) + CO   0.0e+00   0.0e+00   \n",
      "20             CO2(v21) + CO => CO2(v20) + CO   0.0e+00   0.0e+00   \n",
      "21           CO2(v1) + CO(v1) => CO2 + CO(v1)   0.0e+00   0.0e+00   \n",
      "22       CO2(v2) + CO(v1) => CO2(v1) + CO(v1)   0.0e+00   0.0e+00   \n",
      "23       CO2(v3) + CO(v1) => CO2(v2) + CO(v1)   0.0e+00   0.0e+00   \n",
      "24       CO2(v4) + CO(v1) => CO2(v3) + CO(v1)   0.0e+00   0.0e+00   \n",
      "25       CO2(v5) + CO(v1) => CO2(v4) + CO(v1)   0.0e+00   0.0e+00   \n",
      "26       CO2(v6) + CO(v1) => CO2(v5) + CO(v1)   0.0e+00   0.0e+00   \n",
      "27       CO2(v7) + CO(v1) => CO2(v6) + CO(v1)   0.0e+00   0.0e+00   \n",
      "28       CO2(v8) + CO(v1) => CO2(v7) + CO(v1)   0.0e+00   0.0e+00   \n",
      "29       CO2(v9) + CO(v1) => CO2(v8) + CO(v1)   0.0e+00   0.0e+00   \n",
      "..                                        ...       ...       ...   \n",
      "201    CO2(v13) + CO(v9) => CO2(v12) + CO(v9)   0.0e+00   0.0e+00   \n",
      "202    CO2(v14) + CO(v9) => CO2(v13) + CO(v9)   0.0e+00   0.0e+00   \n",
      "203    CO2(v15) + CO(v9) => CO2(v14) + CO(v9)   0.0e+00   0.0e+00   \n",
      "204    CO2(v16) + CO(v9) => CO2(v15) + CO(v9)   0.0e+00   0.0e+00   \n",
      "205    CO2(v17) + CO(v9) => CO2(v16) + CO(v9)   0.0e+00   0.0e+00   \n",
      "206    CO2(v18) + CO(v9) => CO2(v17) + CO(v9)   0.0e+00   0.0e+00   \n",
      "207    CO2(v19) + CO(v9) => CO2(v18) + CO(v9)   0.0e+00   0.0e+00   \n",
      "208    CO2(v20) + CO(v9) => CO2(v19) + CO(v9)   0.0e+00   0.0e+00   \n",
      "209    CO2(v21) + CO(v9) => CO2(v20) + CO(v9)   0.0e+00   0.0e+00   \n",
      "210        CO2(v1) + CO(v10) => CO2 + CO(v10)   0.0e+00   0.0e+00   \n",
      "211    CO2(v2) + CO(v10) => CO2(v1) + CO(v10)   0.0e+00   0.0e+00   \n",
      "212    CO2(v3) + CO(v10) => CO2(v2) + CO(v10)   0.0e+00   0.0e+00   \n",
      "213    CO2(v4) + CO(v10) => CO2(v3) + CO(v10)   0.0e+00   0.0e+00   \n",
      "214    CO2(v5) + CO(v10) => CO2(v4) + CO(v10)   0.0e+00   0.0e+00   \n",
      "215    CO2(v6) + CO(v10) => CO2(v5) + CO(v10)   0.0e+00   0.0e+00   \n",
      "216    CO2(v7) + CO(v10) => CO2(v6) + CO(v10)   0.0e+00   0.0e+00   \n",
      "217    CO2(v8) + CO(v10) => CO2(v7) + CO(v10)   0.0e+00   0.0e+00   \n",
      "218    CO2(v9) + CO(v10) => CO2(v8) + CO(v10)   0.0e+00   0.0e+00   \n",
      "219   CO2(v10) + CO(v10) => CO2(v9) + CO(v10)   0.0e+00   0.0e+00   \n",
      "220  CO2(v11) + CO(v10) => CO2(v10) + CO(v10)   0.0e+00   0.0e+00   \n",
      "221  CO2(v12) + CO(v10) => CO2(v11) + CO(v10)   0.0e+00   0.0e+00   \n",
      "222  CO2(v13) + CO(v10) => CO2(v12) + CO(v10)   0.0e+00   0.0e+00   \n",
      "223  CO2(v14) + CO(v10) => CO2(v13) + CO(v10)   0.0e+00   0.0e+00   \n",
      "224  CO2(v15) + CO(v10) => CO2(v14) + CO(v10)   0.0e+00   0.0e+00   \n",
      "225  CO2(v16) + CO(v10) => CO2(v15) + CO(v10)   0.0e+00   0.0e+00   \n",
      "226  CO2(v17) + CO(v10) => CO2(v16) + CO(v10)   0.0e+00   0.0e+00   \n",
      "227  CO2(v18) + CO(v10) => CO2(v17) + CO(v10)   0.0e+00   0.0e+00   \n",
      "228  CO2(v19) + CO(v10) => CO2(v18) + CO(v10)   0.0e+00   0.0e+00   \n",
      "229  CO2(v20) + CO(v10) => CO2(v19) + CO(v10)   0.0e+00   0.0e+00   \n",
      "230  CO2(v21) + CO(v10) => CO2(v20) + CO(v10)   0.0e+00   0.0e+00   \n",
      "\n",
      "                                        rate_const_str rate_const rate  \n",
      "0    (((0.425)*exp((-407)*Tgas**(-1/3)+(824)*Tgas**...        NaN  NaN  \n",
      "1    (((0.425)*exp((-407)*Tgas**(-1/3)+(824)*Tgas**...        NaN  NaN  \n",
      "2    (((0.425)*exp((-407)*Tgas**(-1/3)+(824)*Tgas**...        NaN  NaN  \n",
      "3    (((0.425)*exp((-407)*Tgas**(-1/3)+(824)*Tgas**...        NaN  NaN  \n",
      "4    (((0.425)*exp((-407)*Tgas**(-1/3)+(824)*Tgas**...        NaN  NaN  \n",
      "5    (((0.425)*exp((-407)*Tgas**(-1/3)+(824)*Tgas**...        NaN  NaN  \n",
      "6    (((0.425)*exp((-407)*Tgas**(-1/3)+(824)*Tgas**...        NaN  NaN  \n",
      "7    (((0.425)*exp((-407)*Tgas**(-1/3)+(824)*Tgas**...        NaN  NaN  \n",
      "8    (((0.425)*exp((-407)*Tgas**(-1/3)+(824)*Tgas**...        NaN  NaN  \n",
      "9    (((0.425)*exp((-407)*Tgas**(-1/3)+(824)*Tgas**...        NaN  NaN  \n",
      "10   (((0.425)*exp((-407)*Tgas**(-1/3)+(824)*Tgas**...        NaN  NaN  \n",
      "11   (((0.425)*exp((-407)*Tgas**(-1/3)+(824)*Tgas**...        NaN  NaN  \n",
      "12   (((0.425)*exp((-407)*Tgas**(-1/3)+(824)*Tgas**...        NaN  NaN  \n",
      "13   (((0.425)*exp((-407)*Tgas**(-1/3)+(824)*Tgas**...        NaN  NaN  \n",
      "14   (((0.425)*exp((-407)*Tgas**(-1/3)+(824)*Tgas**...        NaN  NaN  \n",
      "15   (((0.425)*exp((-407)*Tgas**(-1/3)+(824)*Tgas**...        NaN  NaN  \n",
      "16   (((0.425)*exp((-407)*Tgas**(-1/3)+(824)*Tgas**...        NaN  NaN  \n",
      "17   (((0.425)*exp((-407)*Tgas**(-1/3)+(824)*Tgas**...        NaN  NaN  \n",
      "18   (((0.425)*exp((-407)*Tgas**(-1/3)+(824)*Tgas**...        NaN  NaN  \n",
      "19   (((0.425)*exp((-407)*Tgas**(-1/3)+(824)*Tgas**...        NaN  NaN  \n",
      "20   (((0.425)*exp((-407)*Tgas**(-1/3)+(824)*Tgas**...        NaN  NaN  \n",
      "21   (((0.425)*exp((-407)*Tgas**(-1/3)+(824)*Tgas**...        NaN  NaN  \n",
      "22   (((0.425)*exp((-407)*Tgas**(-1/3)+(824)*Tgas**...        NaN  NaN  \n",
      "23   (((0.425)*exp((-407)*Tgas**(-1/3)+(824)*Tgas**...        NaN  NaN  \n",
      "24   (((0.425)*exp((-407)*Tgas**(-1/3)+(824)*Tgas**...        NaN  NaN  \n",
      "25   (((0.425)*exp((-407)*Tgas**(-1/3)+(824)*Tgas**...        NaN  NaN  \n",
      "26   (((0.425)*exp((-407)*Tgas**(-1/3)+(824)*Tgas**...        NaN  NaN  \n",
      "27   (((0.425)*exp((-407)*Tgas**(-1/3)+(824)*Tgas**...        NaN  NaN  \n",
      "28   (((0.425)*exp((-407)*Tgas**(-1/3)+(824)*Tgas**...        NaN  NaN  \n",
      "29   (((0.425)*exp((-407)*Tgas**(-1/3)+(824)*Tgas**...        NaN  NaN  \n",
      "..                                                 ...        ...  ...  \n",
      "201  (((0.425)*exp((-407)*Tgas**(-1/3)+(824)*Tgas**...        NaN  NaN  \n",
      "202  (((0.425)*exp((-407)*Tgas**(-1/3)+(824)*Tgas**...        NaN  NaN  \n",
      "203  (((0.425)*exp((-407)*Tgas**(-1/3)+(824)*Tgas**...        NaN  NaN  \n",
      "204  (((0.425)*exp((-407)*Tgas**(-1/3)+(824)*Tgas**...        NaN  NaN  \n",
      "205  (((0.425)*exp((-407)*Tgas**(-1/3)+(824)*Tgas**...        NaN  NaN  \n",
      "206  (((0.425)*exp((-407)*Tgas**(-1/3)+(824)*Tgas**...        NaN  NaN  \n",
      "207  (((0.425)*exp((-407)*Tgas**(-1/3)+(824)*Tgas**...        NaN  NaN  \n",
      "208  (((0.425)*exp((-407)*Tgas**(-1/3)+(824)*Tgas**...        NaN  NaN  \n",
      "209  (((0.425)*exp((-407)*Tgas**(-1/3)+(824)*Tgas**...        NaN  NaN  \n",
      "210  (((0.425)*exp((-407)*Tgas**(-1/3)+(824)*Tgas**...        NaN  NaN  \n",
      "211  (((0.425)*exp((-407)*Tgas**(-1/3)+(824)*Tgas**...        NaN  NaN  \n",
      "212  (((0.425)*exp((-407)*Tgas**(-1/3)+(824)*Tgas**...        NaN  NaN  \n",
      "213  (((0.425)*exp((-407)*Tgas**(-1/3)+(824)*Tgas**...        NaN  NaN  \n",
      "214  (((0.425)*exp((-407)*Tgas**(-1/3)+(824)*Tgas**...        NaN  NaN  \n",
      "215  (((0.425)*exp((-407)*Tgas**(-1/3)+(824)*Tgas**...        NaN  NaN  \n",
      "216  (((0.425)*exp((-407)*Tgas**(-1/3)+(824)*Tgas**...        NaN  NaN  \n",
      "217  (((0.425)*exp((-407)*Tgas**(-1/3)+(824)*Tgas**...        NaN  NaN  \n",
      "218  (((0.425)*exp((-407)*Tgas**(-1/3)+(824)*Tgas**...        NaN  NaN  \n",
      "219  (((0.425)*exp((-407)*Tgas**(-1/3)+(824)*Tgas**...        NaN  NaN  \n",
      "220  (((0.425)*exp((-407)*Tgas**(-1/3)+(824)*Tgas**...        NaN  NaN  \n",
      "221  (((0.425)*exp((-407)*Tgas**(-1/3)+(824)*Tgas**...        NaN  NaN  \n",
      "222  (((0.425)*exp((-407)*Tgas**(-1/3)+(824)*Tgas**...        NaN  NaN  \n",
      "223  (((0.425)*exp((-407)*Tgas**(-1/3)+(824)*Tgas**...        NaN  NaN  \n",
      "224  (((0.425)*exp((-407)*Tgas**(-1/3)+(824)*Tgas**...        NaN  NaN  \n",
      "225  (((0.425)*exp((-407)*Tgas**(-1/3)+(824)*Tgas**...        NaN  NaN  \n",
      "226  (((0.425)*exp((-407)*Tgas**(-1/3)+(824)*Tgas**...        NaN  NaN  \n",
      "227  (((0.425)*exp((-407)*Tgas**(-1/3)+(824)*Tgas**...        NaN  NaN  \n",
      "228  (((0.425)*exp((-407)*Tgas**(-1/3)+(824)*Tgas**...        NaN  NaN  \n",
      "229  (((0.425)*exp((-407)*Tgas**(-1/3)+(824)*Tgas**...        NaN  NaN  \n",
      "230  (((0.425)*exp((-407)*Tgas**(-1/3)+(824)*Tgas**...        NaN  NaN  \n",
      "\n",
      "[231 rows x 6 columns]\n",
      "        \n",
      "====PROPERTIES====\n",
      "        \n",
      "CLASS : <class 'plasmistry.reactions.reaction_class.CoefReactions'>.\n",
      "        \n",
      "Type : k_coefficients related.\n",
      "        \n",
      "__33__ species. \n",
      "        \n",
      "__231__ reactions.\n",
      "        \n",
      "        \n",
      "====PRE_EXEC_LIST====\n",
      "        \n",
      "[]\n",
      "        \n",
      "====K_STR_COMPILED====\n",
      "        \n",
      "None\n",
      "        \n",
      "====MID_VARIABLES====\n",
      "        \n",
      "Series([], dtype: float64)\n"
     ]
    }
   ],
   "source": [
    "print(coef)"
   ]
  },
  {
   "cell_type": "code",
   "execution_count": 12,
   "metadata": {
    "ExecuteTime": {
     "end_time": "2019-09-06T07:11:19.960631Z",
     "start_time": "2019-09-06T07:11:19.837960Z"
    }
   },
   "outputs": [],
   "source": [
    "coef.compile_k_str()"
   ]
  },
  {
   "cell_type": "markdown",
   "metadata": {},
   "source": [
    " ## set rate constant\n",
    "- .set_rate_const(*, Tgas_K, Te_eV, EN_Td)"
   ]
  },
  {
   "cell_type": "code",
   "execution_count": 13,
   "metadata": {
    "ExecuteTime": {
     "end_time": "2019-09-06T07:11:23.951965Z",
     "start_time": "2019-09-06T07:11:19.961629Z"
    }
   },
   "outputs": [
    {
     "name": "stdout",
     "output_type": "stream",
     "text": [
      "479 µs ± 33.7 µs per loop (mean ± std. dev. of 7 runs, 1000 loops each)\n"
     ]
    }
   ],
   "source": [
    "%timeit coef.set_rate_const(Tgas_K=1000, Te_eV=1.0, EN_Td=3)"
   ]
  },
  {
   "cell_type": "code",
   "execution_count": 14,
   "metadata": {
    "ExecuteTime": {
     "end_time": "2019-09-06T07:11:23.959943Z",
     "start_time": "2019-09-06T07:11:23.952962Z"
    }
   },
   "outputs": [
    {
     "data": {
      "text/plain": [
       "array([1.7e-08, 1.7e-08, 1.8e-08, 1.8e-08, 1.8e-08, 1.8e-08, 1.9e-08, 1.9e-08, 1.9e-08, 1.9e-08, 2.0e-08, 2.0e-08, 2.0e-08,\n",
       "       2.0e-08, 2.1e-08, 2.1e-08, 2.1e-08, 2.2e-08, 2.2e-08, 2.2e-08, 2.3e-08, 1.7e-08, 1.7e-08, 1.8e-08, 1.8e-08, 1.8e-08,\n",
       "       1.8e-08, 1.9e-08, 1.9e-08, 1.9e-08, 1.9e-08, 2.0e-08, 2.0e-08, 2.0e-08, 2.0e-08, 2.1e-08, 2.1e-08, 2.1e-08, 2.2e-08,\n",
       "       2.2e-08, 2.2e-08, 2.3e-08, 1.7e-08, 1.7e-08, 1.8e-08, 1.8e-08, 1.8e-08, 1.8e-08, 1.9e-08, 1.9e-08, 1.9e-08, 1.9e-08,\n",
       "       2.0e-08, 2.0e-08, 2.0e-08, 2.0e-08, 2.1e-08, 2.1e-08, 2.1e-08, 2.2e-08, 2.2e-08, 2.2e-08, 2.3e-08, 1.7e-08, 1.7e-08,\n",
       "       1.8e-08, 1.8e-08, 1.8e-08, 1.8e-08, 1.9e-08, 1.9e-08, 1.9e-08, 1.9e-08, 2.0e-08, 2.0e-08, 2.0e-08, 2.0e-08, 2.1e-08,\n",
       "       2.1e-08, 2.1e-08, 2.2e-08, 2.2e-08, 2.2e-08, 2.3e-08, 1.7e-08, 1.7e-08, 1.8e-08, 1.8e-08, 1.8e-08, 1.8e-08, 1.9e-08,\n",
       "       1.9e-08, 1.9e-08, 1.9e-08, 2.0e-08, 2.0e-08, 2.0e-08, 2.0e-08, 2.1e-08, 2.1e-08, 2.1e-08, 2.2e-08, 2.2e-08, 2.2e-08,\n",
       "       2.3e-08, 1.7e-08, 1.7e-08, 1.8e-08, 1.8e-08, 1.8e-08, 1.8e-08, 1.9e-08, 1.9e-08, 1.9e-08, 1.9e-08, 2.0e-08, 2.0e-08,\n",
       "       2.0e-08, 2.0e-08, 2.1e-08, 2.1e-08, 2.1e-08, 2.2e-08, 2.2e-08, 2.2e-08, 2.3e-08, 1.7e-08, 1.7e-08, 1.8e-08, 1.8e-08,\n",
       "       1.8e-08, 1.8e-08, 1.9e-08, 1.9e-08, 1.9e-08, 1.9e-08, 2.0e-08, 2.0e-08, 2.0e-08, 2.0e-08, 2.1e-08, 2.1e-08, 2.1e-08,\n",
       "       2.2e-08, 2.2e-08, 2.2e-08, 2.3e-08, 1.7e-08, 1.7e-08, 1.8e-08, 1.8e-08, 1.8e-08, 1.8e-08, 1.9e-08, 1.9e-08, 1.9e-08,\n",
       "       1.9e-08, 2.0e-08, 2.0e-08, 2.0e-08, 2.0e-08, 2.1e-08, 2.1e-08, 2.1e-08, 2.2e-08, 2.2e-08, 2.2e-08, 2.3e-08, 1.7e-08,\n",
       "       1.7e-08, 1.8e-08, 1.8e-08, 1.8e-08, 1.8e-08, 1.9e-08, 1.9e-08, 1.9e-08, 1.9e-08, 2.0e-08, 2.0e-08, 2.0e-08, 2.0e-08,\n",
       "       2.1e-08, 2.1e-08, 2.1e-08, 2.2e-08, 2.2e-08, 2.2e-08, 2.3e-08, 1.7e-08, 1.7e-08, 1.8e-08, 1.8e-08, 1.8e-08, 1.8e-08,\n",
       "       1.9e-08, 1.9e-08, 1.9e-08, 1.9e-08, 2.0e-08, 2.0e-08, 2.0e-08, 2.0e-08, 2.1e-08, 2.1e-08, 2.1e-08, 2.2e-08, 2.2e-08,\n",
       "       2.2e-08, 2.3e-08, 1.7e-08, 1.7e-08, 1.8e-08, 1.8e-08, 1.8e-08, 1.8e-08, 1.9e-08, 1.9e-08, 1.9e-08, 1.9e-08, 2.0e-08,\n",
       "       2.0e-08, 2.0e-08, 2.0e-08, 2.1e-08, 2.1e-08, 2.1e-08, 2.2e-08, 2.2e-08, 2.2e-08, 2.3e-08])"
      ]
     },
     "execution_count": 14,
     "metadata": {},
     "output_type": "execute_result"
    }
   ],
   "source": [
    "coef.rate_const"
   ]
  },
  {
   "cell_type": "markdown",
   "metadata": {},
   "source": [
    " ## set rate\n",
    "- .set_rate(*, density)"
   ]
  },
  {
   "cell_type": "code",
   "execution_count": 15,
   "metadata": {
    "ExecuteTime": {
     "end_time": "2019-09-06T07:11:24.044716Z",
     "start_time": "2019-09-06T07:11:23.960941Z"
    }
   },
   "outputs": [],
   "source": [
    "coef.set_rate(density=coef.get_initial_density(density_dict={'CO2':1e25,\n",
    "                                                            'CO2(v1)': 1e25,\n",
    "                                                            'CO2(v2)': 1e25,\n",
    "                                                            'CO': 1e25}))"
   ]
  },
  {
   "cell_type": "code",
   "execution_count": 16,
   "metadata": {
    "ExecuteTime": {
     "end_time": "2019-09-06T07:11:24.146444Z",
     "start_time": "2019-09-06T07:11:24.045714Z"
    }
   },
   "outputs": [
    {
     "data": {
      "text/plain": [
       "array([1.7e+42, 1.7e+42, 0.0e+00, 0.0e+00, 0.0e+00, 0.0e+00, 0.0e+00, 0.0e+00, 0.0e+00, 0.0e+00, 0.0e+00, 0.0e+00, 0.0e+00,\n",
       "       0.0e+00, 0.0e+00, 0.0e+00, 0.0e+00, 0.0e+00, 0.0e+00, 0.0e+00, 0.0e+00, 0.0e+00, 0.0e+00, 0.0e+00, 0.0e+00, 0.0e+00,\n",
       "       0.0e+00, 0.0e+00, 0.0e+00, 0.0e+00, 0.0e+00, 0.0e+00, 0.0e+00, 0.0e+00, 0.0e+00, 0.0e+00, 0.0e+00, 0.0e+00, 0.0e+00,\n",
       "       0.0e+00, 0.0e+00, 0.0e+00, 0.0e+00, 0.0e+00, 0.0e+00, 0.0e+00, 0.0e+00, 0.0e+00, 0.0e+00, 0.0e+00, 0.0e+00, 0.0e+00,\n",
       "       0.0e+00, 0.0e+00, 0.0e+00, 0.0e+00, 0.0e+00, 0.0e+00, 0.0e+00, 0.0e+00, 0.0e+00, 0.0e+00, 0.0e+00, 0.0e+00, 0.0e+00,\n",
       "       0.0e+00, 0.0e+00, 0.0e+00, 0.0e+00, 0.0e+00, 0.0e+00, 0.0e+00, 0.0e+00, 0.0e+00, 0.0e+00, 0.0e+00, 0.0e+00, 0.0e+00,\n",
       "       0.0e+00, 0.0e+00, 0.0e+00, 0.0e+00, 0.0e+00, 0.0e+00, 0.0e+00, 0.0e+00, 0.0e+00, 0.0e+00, 0.0e+00, 0.0e+00, 0.0e+00,\n",
       "       0.0e+00, 0.0e+00, 0.0e+00, 0.0e+00, 0.0e+00, 0.0e+00, 0.0e+00, 0.0e+00, 0.0e+00, 0.0e+00, 0.0e+00, 0.0e+00, 0.0e+00,\n",
       "       0.0e+00, 0.0e+00, 0.0e+00, 0.0e+00, 0.0e+00, 0.0e+00, 0.0e+00, 0.0e+00, 0.0e+00, 0.0e+00, 0.0e+00, 0.0e+00, 0.0e+00,\n",
       "       0.0e+00, 0.0e+00, 0.0e+00, 0.0e+00, 0.0e+00, 0.0e+00, 0.0e+00, 0.0e+00, 0.0e+00, 0.0e+00, 0.0e+00, 0.0e+00, 0.0e+00,\n",
       "       0.0e+00, 0.0e+00, 0.0e+00, 0.0e+00, 0.0e+00, 0.0e+00, 0.0e+00, 0.0e+00, 0.0e+00, 0.0e+00, 0.0e+00, 0.0e+00, 0.0e+00,\n",
       "       0.0e+00, 0.0e+00, 0.0e+00, 0.0e+00, 0.0e+00, 0.0e+00, 0.0e+00, 0.0e+00, 0.0e+00, 0.0e+00, 0.0e+00, 0.0e+00, 0.0e+00,\n",
       "       0.0e+00, 0.0e+00, 0.0e+00, 0.0e+00, 0.0e+00, 0.0e+00, 0.0e+00, 0.0e+00, 0.0e+00, 0.0e+00, 0.0e+00, 0.0e+00, 0.0e+00,\n",
       "       0.0e+00, 0.0e+00, 0.0e+00, 0.0e+00, 0.0e+00, 0.0e+00, 0.0e+00, 0.0e+00, 0.0e+00, 0.0e+00, 0.0e+00, 0.0e+00, 0.0e+00,\n",
       "       0.0e+00, 0.0e+00, 0.0e+00, 0.0e+00, 0.0e+00, 0.0e+00, 0.0e+00, 0.0e+00, 0.0e+00, 0.0e+00, 0.0e+00, 0.0e+00, 0.0e+00,\n",
       "       0.0e+00, 0.0e+00, 0.0e+00, 0.0e+00, 0.0e+00, 0.0e+00, 0.0e+00, 0.0e+00, 0.0e+00, 0.0e+00, 0.0e+00, 0.0e+00, 0.0e+00,\n",
       "       0.0e+00, 0.0e+00, 0.0e+00, 0.0e+00, 0.0e+00, 0.0e+00, 0.0e+00, 0.0e+00, 0.0e+00, 0.0e+00, 0.0e+00, 0.0e+00, 0.0e+00,\n",
       "       0.0e+00, 0.0e+00, 0.0e+00, 0.0e+00, 0.0e+00, 0.0e+00, 0.0e+00, 0.0e+00, 0.0e+00, 0.0e+00])"
      ]
     },
     "execution_count": 16,
     "metadata": {},
     "output_type": "execute_result"
    }
   ],
   "source": [
    "coef.rate"
   ]
  },
  {
   "cell_type": "markdown",
   "metadata": {},
   "source": [
    "## get\n",
    "- .get_dn()\n",
    "- .get_dH_e()\n",
    "- .get_dH_g()"
   ]
  },
  {
   "cell_type": "code",
   "execution_count": 17,
   "metadata": {
    "ExecuteTime": {
     "end_time": "2019-09-06T07:11:24.228226Z",
     "start_time": "2019-09-06T07:11:24.147442Z"
    }
   },
   "outputs": [
    {
     "data": {
      "text/plain": [
       "array([ 0.0e+00,  0.0e+00,  0.0e+00,  0.0e+00,  0.0e+00,  0.0e+00,  0.0e+00,  0.0e+00,  0.0e+00,  0.0e+00,  0.0e+00,  1.7e+42,\n",
       "        2.2e+40,  0.0e+00,  0.0e+00,  0.0e+00,  0.0e+00,  0.0e+00,  0.0e+00,  0.0e+00,  0.0e+00,  0.0e+00,  0.0e+00, -1.7e+42,\n",
       "        0.0e+00,  0.0e+00,  0.0e+00,  0.0e+00,  0.0e+00,  0.0e+00,  0.0e+00,  0.0e+00,  0.0e+00])"
      ]
     },
     "execution_count": 17,
     "metadata": {},
     "output_type": "execute_result"
    }
   ],
   "source": [
    "coef.get_dn()"
   ]
  },
  {
   "cell_type": "code",
   "execution_count": 18,
   "metadata": {
    "ExecuteTime": {
     "end_time": "2019-09-06T07:11:24.312003Z",
     "start_time": "2019-09-06T07:11:24.235210Z"
    }
   },
   "outputs": [
    {
     "data": {
      "text/plain": [
       "0           CO\n",
       "1       CO(v1)\n",
       "2      CO(v10)\n",
       "3       CO(v2)\n",
       "4       CO(v3)\n",
       "5       CO(v4)\n",
       "6       CO(v5)\n",
       "7       CO(v6)\n",
       "8       CO(v7)\n",
       "9       CO(v8)\n",
       "10      CO(v9)\n",
       "11         CO2\n",
       "12     CO2(v1)\n",
       "13    CO2(v10)\n",
       "14    CO2(v11)\n",
       "15    CO2(v12)\n",
       "16    CO2(v13)\n",
       "17    CO2(v14)\n",
       "18    CO2(v15)\n",
       "19    CO2(v16)\n",
       "20    CO2(v17)\n",
       "21    CO2(v18)\n",
       "22    CO2(v19)\n",
       "23     CO2(v2)\n",
       "24    CO2(v20)\n",
       "25    CO2(v21)\n",
       "26     CO2(v3)\n",
       "27     CO2(v4)\n",
       "28     CO2(v5)\n",
       "29     CO2(v6)\n",
       "30     CO2(v7)\n",
       "31     CO2(v8)\n",
       "32     CO2(v9)\n",
       "dtype: object"
      ]
     },
     "execution_count": 18,
     "metadata": {},
     "output_type": "execute_result"
    }
   ],
   "source": [
    "coef.species"
   ]
  },
  {
   "cell_type": "code",
   "execution_count": 19,
   "metadata": {
    "ExecuteTime": {
     "end_time": "2019-09-06T07:11:24.410739Z",
     "start_time": "2019-09-06T07:11:24.313997Z"
    }
   },
   "outputs": [
    {
     "name": "stdout",
     "output_type": "stream",
     "text": [
      "\n",
      "        \n",
      "====SPECIES====\n",
      "        \n",
      "0           CO\n",
      "1       CO(v1)\n",
      "2      CO(v10)\n",
      "3       CO(v2)\n",
      "4       CO(v3)\n",
      "5       CO(v4)\n",
      "6       CO(v5)\n",
      "7       CO(v6)\n",
      "8       CO(v7)\n",
      "9       CO(v8)\n",
      "10      CO(v9)\n",
      "11         CO2\n",
      "12     CO2(v1)\n",
      "13    CO2(v10)\n",
      "14    CO2(v11)\n",
      "15    CO2(v12)\n",
      "16    CO2(v13)\n",
      "17    CO2(v14)\n",
      "18    CO2(v15)\n",
      "19    CO2(v16)\n",
      "20    CO2(v17)\n",
      "21    CO2(v18)\n",
      "22    CO2(v19)\n",
      "23     CO2(v2)\n",
      "24    CO2(v20)\n",
      "25    CO2(v21)\n",
      "26     CO2(v3)\n",
      "27     CO2(v4)\n",
      "28     CO2(v5)\n",
      "29     CO2(v6)\n",
      "30     CO2(v7)\n",
      "31     CO2(v8)\n",
      "32     CO2(v9)\n",
      "dtype: object\n",
      "        \n",
      "====REACTIONS====\n",
      "        \n",
      " columns: reactions dH_g[eV] dH_e[eV] k_str rate_const rate\n",
      "        \n",
      "                                    reactions  dH_g[eV]  dH_e[eV]  \\\n",
      "0                    CO2(v1) + CO => CO2 + CO   0.0e+00   0.0e+00   \n",
      "1                CO2(v2) + CO => CO2(v1) + CO   0.0e+00   0.0e+00   \n",
      "2                CO2(v3) + CO => CO2(v2) + CO   0.0e+00   0.0e+00   \n",
      "3                CO2(v4) + CO => CO2(v3) + CO   0.0e+00   0.0e+00   \n",
      "4                CO2(v5) + CO => CO2(v4) + CO   0.0e+00   0.0e+00   \n",
      "5                CO2(v6) + CO => CO2(v5) + CO   0.0e+00   0.0e+00   \n",
      "6                CO2(v7) + CO => CO2(v6) + CO   0.0e+00   0.0e+00   \n",
      "7                CO2(v8) + CO => CO2(v7) + CO   0.0e+00   0.0e+00   \n",
      "8                CO2(v9) + CO => CO2(v8) + CO   0.0e+00   0.0e+00   \n",
      "9               CO2(v10) + CO => CO2(v9) + CO   0.0e+00   0.0e+00   \n",
      "10             CO2(v11) + CO => CO2(v10) + CO   0.0e+00   0.0e+00   \n",
      "11             CO2(v12) + CO => CO2(v11) + CO   0.0e+00   0.0e+00   \n",
      "12             CO2(v13) + CO => CO2(v12) + CO   0.0e+00   0.0e+00   \n",
      "13             CO2(v14) + CO => CO2(v13) + CO   0.0e+00   0.0e+00   \n",
      "14             CO2(v15) + CO => CO2(v14) + CO   0.0e+00   0.0e+00   \n",
      "15             CO2(v16) + CO => CO2(v15) + CO   0.0e+00   0.0e+00   \n",
      "16             CO2(v17) + CO => CO2(v16) + CO   0.0e+00   0.0e+00   \n",
      "17             CO2(v18) + CO => CO2(v17) + CO   0.0e+00   0.0e+00   \n",
      "18             CO2(v19) + CO => CO2(v18) + CO   0.0e+00   0.0e+00   \n",
      "19             CO2(v20) + CO => CO2(v19) + CO   0.0e+00   0.0e+00   \n",
      "20             CO2(v21) + CO => CO2(v20) + CO   0.0e+00   0.0e+00   \n",
      "21           CO2(v1) + CO(v1) => CO2 + CO(v1)   0.0e+00   0.0e+00   \n",
      "22       CO2(v2) + CO(v1) => CO2(v1) + CO(v1)   0.0e+00   0.0e+00   \n",
      "23       CO2(v3) + CO(v1) => CO2(v2) + CO(v1)   0.0e+00   0.0e+00   \n",
      "24       CO2(v4) + CO(v1) => CO2(v3) + CO(v1)   0.0e+00   0.0e+00   \n",
      "25       CO2(v5) + CO(v1) => CO2(v4) + CO(v1)   0.0e+00   0.0e+00   \n",
      "26       CO2(v6) + CO(v1) => CO2(v5) + CO(v1)   0.0e+00   0.0e+00   \n",
      "27       CO2(v7) + CO(v1) => CO2(v6) + CO(v1)   0.0e+00   0.0e+00   \n",
      "28       CO2(v8) + CO(v1) => CO2(v7) + CO(v1)   0.0e+00   0.0e+00   \n",
      "29       CO2(v9) + CO(v1) => CO2(v8) + CO(v1)   0.0e+00   0.0e+00   \n",
      "..                                        ...       ...       ...   \n",
      "201    CO2(v13) + CO(v9) => CO2(v12) + CO(v9)   0.0e+00   0.0e+00   \n",
      "202    CO2(v14) + CO(v9) => CO2(v13) + CO(v9)   0.0e+00   0.0e+00   \n",
      "203    CO2(v15) + CO(v9) => CO2(v14) + CO(v9)   0.0e+00   0.0e+00   \n",
      "204    CO2(v16) + CO(v9) => CO2(v15) + CO(v9)   0.0e+00   0.0e+00   \n",
      "205    CO2(v17) + CO(v9) => CO2(v16) + CO(v9)   0.0e+00   0.0e+00   \n",
      "206    CO2(v18) + CO(v9) => CO2(v17) + CO(v9)   0.0e+00   0.0e+00   \n",
      "207    CO2(v19) + CO(v9) => CO2(v18) + CO(v9)   0.0e+00   0.0e+00   \n",
      "208    CO2(v20) + CO(v9) => CO2(v19) + CO(v9)   0.0e+00   0.0e+00   \n",
      "209    CO2(v21) + CO(v9) => CO2(v20) + CO(v9)   0.0e+00   0.0e+00   \n",
      "210        CO2(v1) + CO(v10) => CO2 + CO(v10)   0.0e+00   0.0e+00   \n",
      "211    CO2(v2) + CO(v10) => CO2(v1) + CO(v10)   0.0e+00   0.0e+00   \n",
      "212    CO2(v3) + CO(v10) => CO2(v2) + CO(v10)   0.0e+00   0.0e+00   \n",
      "213    CO2(v4) + CO(v10) => CO2(v3) + CO(v10)   0.0e+00   0.0e+00   \n",
      "214    CO2(v5) + CO(v10) => CO2(v4) + CO(v10)   0.0e+00   0.0e+00   \n",
      "215    CO2(v6) + CO(v10) => CO2(v5) + CO(v10)   0.0e+00   0.0e+00   \n",
      "216    CO2(v7) + CO(v10) => CO2(v6) + CO(v10)   0.0e+00   0.0e+00   \n",
      "217    CO2(v8) + CO(v10) => CO2(v7) + CO(v10)   0.0e+00   0.0e+00   \n",
      "218    CO2(v9) + CO(v10) => CO2(v8) + CO(v10)   0.0e+00   0.0e+00   \n",
      "219   CO2(v10) + CO(v10) => CO2(v9) + CO(v10)   0.0e+00   0.0e+00   \n",
      "220  CO2(v11) + CO(v10) => CO2(v10) + CO(v10)   0.0e+00   0.0e+00   \n",
      "221  CO2(v12) + CO(v10) => CO2(v11) + CO(v10)   0.0e+00   0.0e+00   \n",
      "222  CO2(v13) + CO(v10) => CO2(v12) + CO(v10)   0.0e+00   0.0e+00   \n",
      "223  CO2(v14) + CO(v10) => CO2(v13) + CO(v10)   0.0e+00   0.0e+00   \n",
      "224  CO2(v15) + CO(v10) => CO2(v14) + CO(v10)   0.0e+00   0.0e+00   \n",
      "225  CO2(v16) + CO(v10) => CO2(v15) + CO(v10)   0.0e+00   0.0e+00   \n",
      "226  CO2(v17) + CO(v10) => CO2(v16) + CO(v10)   0.0e+00   0.0e+00   \n",
      "227  CO2(v18) + CO(v10) => CO2(v17) + CO(v10)   0.0e+00   0.0e+00   \n",
      "228  CO2(v19) + CO(v10) => CO2(v18) + CO(v10)   0.0e+00   0.0e+00   \n",
      "229  CO2(v20) + CO(v10) => CO2(v19) + CO(v10)   0.0e+00   0.0e+00   \n",
      "230  CO2(v21) + CO(v10) => CO2(v20) + CO(v10)   0.0e+00   0.0e+00   \n",
      "\n",
      "                                        rate_const_str  rate_const    rate  \n",
      "0    (((0.425)*exp((-407)*Tgas**(-1/3)+(824)*Tgas**...     1.7e-08 1.7e+42  \n",
      "1    (((0.425)*exp((-407)*Tgas**(-1/3)+(824)*Tgas**...     1.7e-08 1.7e+42  \n",
      "2    (((0.425)*exp((-407)*Tgas**(-1/3)+(824)*Tgas**...     1.8e-08 0.0e+00  \n",
      "3    (((0.425)*exp((-407)*Tgas**(-1/3)+(824)*Tgas**...     1.8e-08 0.0e+00  \n",
      "4    (((0.425)*exp((-407)*Tgas**(-1/3)+(824)*Tgas**...     1.8e-08 0.0e+00  \n",
      "5    (((0.425)*exp((-407)*Tgas**(-1/3)+(824)*Tgas**...     1.8e-08 0.0e+00  \n",
      "6    (((0.425)*exp((-407)*Tgas**(-1/3)+(824)*Tgas**...     1.9e-08 0.0e+00  \n",
      "7    (((0.425)*exp((-407)*Tgas**(-1/3)+(824)*Tgas**...     1.9e-08 0.0e+00  \n",
      "8    (((0.425)*exp((-407)*Tgas**(-1/3)+(824)*Tgas**...     1.9e-08 0.0e+00  \n",
      "9    (((0.425)*exp((-407)*Tgas**(-1/3)+(824)*Tgas**...     1.9e-08 0.0e+00  \n",
      "10   (((0.425)*exp((-407)*Tgas**(-1/3)+(824)*Tgas**...     2.0e-08 0.0e+00  \n",
      "11   (((0.425)*exp((-407)*Tgas**(-1/3)+(824)*Tgas**...     2.0e-08 0.0e+00  \n",
      "12   (((0.425)*exp((-407)*Tgas**(-1/3)+(824)*Tgas**...     2.0e-08 0.0e+00  \n",
      "13   (((0.425)*exp((-407)*Tgas**(-1/3)+(824)*Tgas**...     2.0e-08 0.0e+00  \n",
      "14   (((0.425)*exp((-407)*Tgas**(-1/3)+(824)*Tgas**...     2.1e-08 0.0e+00  \n",
      "15   (((0.425)*exp((-407)*Tgas**(-1/3)+(824)*Tgas**...     2.1e-08 0.0e+00  \n",
      "16   (((0.425)*exp((-407)*Tgas**(-1/3)+(824)*Tgas**...     2.1e-08 0.0e+00  \n",
      "17   (((0.425)*exp((-407)*Tgas**(-1/3)+(824)*Tgas**...     2.2e-08 0.0e+00  \n",
      "18   (((0.425)*exp((-407)*Tgas**(-1/3)+(824)*Tgas**...     2.2e-08 0.0e+00  \n",
      "19   (((0.425)*exp((-407)*Tgas**(-1/3)+(824)*Tgas**...     2.2e-08 0.0e+00  \n",
      "20   (((0.425)*exp((-407)*Tgas**(-1/3)+(824)*Tgas**...     2.3e-08 0.0e+00  \n",
      "21   (((0.425)*exp((-407)*Tgas**(-1/3)+(824)*Tgas**...     1.7e-08 0.0e+00  \n",
      "22   (((0.425)*exp((-407)*Tgas**(-1/3)+(824)*Tgas**...     1.7e-08 0.0e+00  \n",
      "23   (((0.425)*exp((-407)*Tgas**(-1/3)+(824)*Tgas**...     1.8e-08 0.0e+00  \n",
      "24   (((0.425)*exp((-407)*Tgas**(-1/3)+(824)*Tgas**...     1.8e-08 0.0e+00  \n",
      "25   (((0.425)*exp((-407)*Tgas**(-1/3)+(824)*Tgas**...     1.8e-08 0.0e+00  \n",
      "26   (((0.425)*exp((-407)*Tgas**(-1/3)+(824)*Tgas**...     1.8e-08 0.0e+00  \n",
      "27   (((0.425)*exp((-407)*Tgas**(-1/3)+(824)*Tgas**...     1.9e-08 0.0e+00  \n",
      "28   (((0.425)*exp((-407)*Tgas**(-1/3)+(824)*Tgas**...     1.9e-08 0.0e+00  \n",
      "29   (((0.425)*exp((-407)*Tgas**(-1/3)+(824)*Tgas**...     1.9e-08 0.0e+00  \n",
      "..                                                 ...         ...     ...  \n",
      "201  (((0.425)*exp((-407)*Tgas**(-1/3)+(824)*Tgas**...     2.0e-08 0.0e+00  \n",
      "202  (((0.425)*exp((-407)*Tgas**(-1/3)+(824)*Tgas**...     2.0e-08 0.0e+00  \n",
      "203  (((0.425)*exp((-407)*Tgas**(-1/3)+(824)*Tgas**...     2.1e-08 0.0e+00  \n",
      "204  (((0.425)*exp((-407)*Tgas**(-1/3)+(824)*Tgas**...     2.1e-08 0.0e+00  \n",
      "205  (((0.425)*exp((-407)*Tgas**(-1/3)+(824)*Tgas**...     2.1e-08 0.0e+00  \n",
      "206  (((0.425)*exp((-407)*Tgas**(-1/3)+(824)*Tgas**...     2.2e-08 0.0e+00  \n",
      "207  (((0.425)*exp((-407)*Tgas**(-1/3)+(824)*Tgas**...     2.2e-08 0.0e+00  \n",
      "208  (((0.425)*exp((-407)*Tgas**(-1/3)+(824)*Tgas**...     2.2e-08 0.0e+00  \n",
      "209  (((0.425)*exp((-407)*Tgas**(-1/3)+(824)*Tgas**...     2.3e-08 0.0e+00  \n",
      "210  (((0.425)*exp((-407)*Tgas**(-1/3)+(824)*Tgas**...     1.7e-08 0.0e+00  \n",
      "211  (((0.425)*exp((-407)*Tgas**(-1/3)+(824)*Tgas**...     1.7e-08 0.0e+00  \n",
      "212  (((0.425)*exp((-407)*Tgas**(-1/3)+(824)*Tgas**...     1.8e-08 0.0e+00  \n",
      "213  (((0.425)*exp((-407)*Tgas**(-1/3)+(824)*Tgas**...     1.8e-08 0.0e+00  \n",
      "214  (((0.425)*exp((-407)*Tgas**(-1/3)+(824)*Tgas**...     1.8e-08 0.0e+00  \n",
      "215  (((0.425)*exp((-407)*Tgas**(-1/3)+(824)*Tgas**...     1.8e-08 0.0e+00  \n",
      "216  (((0.425)*exp((-407)*Tgas**(-1/3)+(824)*Tgas**...     1.9e-08 0.0e+00  \n",
      "217  (((0.425)*exp((-407)*Tgas**(-1/3)+(824)*Tgas**...     1.9e-08 0.0e+00  \n",
      "218  (((0.425)*exp((-407)*Tgas**(-1/3)+(824)*Tgas**...     1.9e-08 0.0e+00  \n",
      "219  (((0.425)*exp((-407)*Tgas**(-1/3)+(824)*Tgas**...     1.9e-08 0.0e+00  \n",
      "220  (((0.425)*exp((-407)*Tgas**(-1/3)+(824)*Tgas**...     2.0e-08 0.0e+00  \n",
      "221  (((0.425)*exp((-407)*Tgas**(-1/3)+(824)*Tgas**...     2.0e-08 0.0e+00  \n",
      "222  (((0.425)*exp((-407)*Tgas**(-1/3)+(824)*Tgas**...     2.0e-08 0.0e+00  \n",
      "223  (((0.425)*exp((-407)*Tgas**(-1/3)+(824)*Tgas**...     2.0e-08 0.0e+00  \n",
      "224  (((0.425)*exp((-407)*Tgas**(-1/3)+(824)*Tgas**...     2.1e-08 0.0e+00  \n",
      "225  (((0.425)*exp((-407)*Tgas**(-1/3)+(824)*Tgas**...     2.1e-08 0.0e+00  \n",
      "226  (((0.425)*exp((-407)*Tgas**(-1/3)+(824)*Tgas**...     2.1e-08 0.0e+00  \n",
      "227  (((0.425)*exp((-407)*Tgas**(-1/3)+(824)*Tgas**...     2.2e-08 0.0e+00  \n",
      "228  (((0.425)*exp((-407)*Tgas**(-1/3)+(824)*Tgas**...     2.2e-08 0.0e+00  \n",
      "229  (((0.425)*exp((-407)*Tgas**(-1/3)+(824)*Tgas**...     2.2e-08 0.0e+00  \n",
      "230  (((0.425)*exp((-407)*Tgas**(-1/3)+(824)*Tgas**...     2.3e-08 0.0e+00  \n",
      "\n",
      "[231 rows x 6 columns]\n",
      "        \n",
      "====PROPERTIES====\n",
      "        \n",
      "CLASS : <class 'plasmistry.reactions.reaction_class.CoefReactions'>.\n",
      "        \n",
      "Type : k_coefficients related.\n",
      "        \n",
      "__33__ species. \n",
      "        \n",
      "__231__ reactions.\n",
      "        \n",
      "        \n",
      "====PRE_EXEC_LIST====\n",
      "        \n",
      "[]\n",
      "        \n",
      "====K_STR_COM"
     ]
    },
    {
     "data": {
      "text/html": [
       "<b>limit_output extension: Maximum message size of 10000 exceeded with 10189 characters</b>"
      ]
     },
     "metadata": {},
     "output_type": "display_data"
    }
   ],
   "source": [
    "print(coef)"
   ]
  },
  {
   "cell_type": "markdown",
   "metadata": {},
   "source": [
    "# Evolve"
   ]
  },
  {
   "cell_type": "code",
   "execution_count": 20,
   "metadata": {
    "ExecuteTime": {
     "end_time": "2019-09-06T07:11:24.528424Z",
     "start_time": "2019-09-06T07:11:24.411736Z"
    }
   },
   "outputs": [],
   "source": [
    "def dndt(t, y):\n",
    "    coef.set_rate_const(Tgas_K=1000)\n",
    "    coef.set_rate(density=y)\n",
    "    return coef.get_dn()"
   ]
  },
  {
   "cell_type": "code",
   "execution_count": 21,
   "metadata": {
    "ExecuteTime": {
     "end_time": "2019-09-06T07:11:24.644114Z",
     "start_time": "2019-09-06T07:11:24.530419Z"
    }
   },
   "outputs": [],
   "source": [
    "y0 = np.ones_like(coef.species)*1e20"
   ]
  },
  {
   "cell_type": "code",
   "execution_count": 22,
   "metadata": {
    "ExecuteTime": {
     "end_time": "2019-09-06T07:11:25.185666Z",
     "start_time": "2019-09-06T07:11:24.645112Z"
    }
   },
   "outputs": [],
   "source": [
    "time_span = [0, 1e3]\n",
    "sol = solve_ivp(dndt, time_span, y0, method=\"BDF\", rtol=5e-2)"
   ]
  },
  {
   "cell_type": "code",
   "execution_count": 23,
   "metadata": {
    "ExecuteTime": {
     "end_time": "2019-09-06T07:11:25.190656Z",
     "start_time": "2019-09-06T07:11:25.186664Z"
    }
   },
   "outputs": [
    {
     "data": {
      "text/plain": [
       "(270,)"
      ]
     },
     "execution_count": 23,
     "metadata": {},
     "output_type": "execute_result"
    }
   ],
   "source": [
    "sol.t.shape"
   ]
  },
  {
   "cell_type": "code",
   "execution_count": 24,
   "metadata": {
    "ExecuteTime": {
     "end_time": "2019-09-06T07:11:25.275428Z",
     "start_time": "2019-09-06T07:11:25.191652Z"
    }
   },
   "outputs": [
    {
     "data": {
      "text/plain": [
       "(33, 270)"
      ]
     },
     "execution_count": 24,
     "metadata": {},
     "output_type": "execute_result"
    }
   ],
   "source": [
    "sol.y.shape"
   ]
  },
  {
   "cell_type": "code",
   "execution_count": 25,
   "metadata": {
    "ExecuteTime": {
     "end_time": "2019-09-06T07:11:25.851886Z",
     "start_time": "2019-09-06T07:11:25.276425Z"
    }
   },
   "outputs": [
    {
     "data": {
      "text/plain": [
       "[<matplotlib.lines.Line2D at 0x2664c51aa90>,\n",
       " <matplotlib.lines.Line2D at 0x2664c543198>,\n",
       " <matplotlib.lines.Line2D at 0x2664c5439e8>,\n",
       " <matplotlib.lines.Line2D at 0x2664c543c18>,\n",
       " <matplotlib.lines.Line2D at 0x2664c543828>,\n",
       " <matplotlib.lines.Line2D at 0x2664c543f28>,\n",
       " <matplotlib.lines.Line2D at 0x2664c537240>,\n",
       " <matplotlib.lines.Line2D at 0x2664c537588>,\n",
       " <matplotlib.lines.Line2D at 0x2664c537438>,\n",
       " <matplotlib.lines.Line2D at 0x2664c5371d0>,\n",
       " <matplotlib.lines.Line2D at 0x2664c51ae80>,\n",
       " <matplotlib.lines.Line2D at 0x2664c537668>,\n",
       " <matplotlib.lines.Line2D at 0x2664c4fa3c8>,\n",
       " <matplotlib.lines.Line2D at 0x2664c500048>,\n",
       " <matplotlib.lines.Line2D at 0x2664c500198>,\n",
       " <matplotlib.lines.Line2D at 0x2664c5009b0>,\n",
       " <matplotlib.lines.Line2D at 0x2664c5006d8>,\n",
       " <matplotlib.lines.Line2D at 0x2664c5006a0>,\n",
       " <matplotlib.lines.Line2D at 0x2664c5008d0>,\n",
       " <matplotlib.lines.Line2D at 0x2664c500b70>,\n",
       " <matplotlib.lines.Line2D at 0x2664c500b00>,\n",
       " <matplotlib.lines.Line2D at 0x2664c500f98>,\n",
       " <matplotlib.lines.Line2D at 0x2664c500eb8>,\n",
       " <matplotlib.lines.Line2D at 0x2664c500ba8>,\n",
       " <matplotlib.lines.Line2D at 0x2664c4dc198>,\n",
       " <matplotlib.lines.Line2D at 0x2664c4dcdd8>,\n",
       " <matplotlib.lines.Line2D at 0x2664c4dccf8>,\n",
       " <matplotlib.lines.Line2D at 0x2664c4dcc18>,\n",
       " <matplotlib.lines.Line2D at 0x2664c4dcc50>,\n",
       " <matplotlib.lines.Line2D at 0x2664c546048>,\n",
       " <matplotlib.lines.Line2D at 0x2664c546470>,\n",
       " <matplotlib.lines.Line2D at 0x2664c546588>,\n",
       " <matplotlib.lines.Line2D at 0x2664c5466a0>]"
      ]
     },
     "execution_count": 25,
     "metadata": {},
     "output_type": "execute_result"
    },
    {
     "data": {
      "image/png": "[encoded data removed]",
      "text/plain": [
       "<Figure size 864x648 with 1 Axes>"
      ]
     },
     "metadata": {
      "needs_background": "light"
     },
     "output_type": "display_data"
    }
   ],
   "source": [
    "plt.semilogx(sol.t, sol.y.transpose(), marker='.')"
   ]
  },
  {
   "cell_type": "code",
   "execution_count": 26,
   "metadata": {
    "ExecuteTime": {
     "end_time": "2019-09-06T07:11:25.857871Z",
     "start_time": "2019-09-06T07:11:25.852884Z"
    }
   },
   "outputs": [
    {
     "data": {
      "text/plain": [
       "array([1e+20, 1e+20, 1e+20, 1e+20, 1e+20, 1e+20, 1e+20, 1e+20, 1e+20, 1e+20, 1e+20, 2.1999999999859098e+21,\n",
       "       -4.257959840008151e-109, 4.060706939705039e-115, 2.537941837315649e-115, 5.075883674631298e-115, 2.0303534698525194e-115,\n",
       "       4.060706939705039e-115, 1.0151767349262597e-115, 2.537941837315649e-115, 2.0303534698525194e-115, 2.0303534698525194e-115,\n",
       "       1.2689709186578246e-116, -2.6612249000050942e-110, -7.931068241611404e-118, -1.5862136483222808e-117,\n",
       "       -3.326531125006368e-111, 6.2372458593869395e-112, 1.5593114648467349e-112, 9.745696655292093e-114, 8.121413879410078e-115,\n",
       "       -1.0151767349262597e-115, -2.0303534698525194e-115], dtype=object)"
      ]
     },
     "execution_count": 26,
     "metadata": {},
     "output_type": "execute_result"
    }
   ],
   "source": [
    "sol.y[:,-1]"
   ]
  },
  {
   "cell_type": "code",
   "execution_count": 27,
   "metadata": {
    "ExecuteTime": {
     "end_time": "2019-09-06T07:11:25.969572Z",
     "start_time": "2019-09-06T07:11:25.859866Z"
    }
   },
   "outputs": [],
   "source": [
    "coef.set_rate(density=sol.y[:,-1].astype(np.float))"
   ]
  },
  {
   "cell_type": "code",
   "execution_count": 28,
   "metadata": {
    "ExecuteTime": {
     "end_time": "2019-09-06T07:11:26.131141Z",
     "start_time": "2019-09-06T07:11:25.970569Z"
    }
   },
   "outputs": [
    {
     "data": {
      "text/html": [
       "<div>\n",
       "<style scoped>\n",
       "    .dataframe tbody tr th:only-of-type {\n",
       "        vertical-align: middle;\n",
       "    }\n",
       "\n",
       "    .dataframe tbody tr th {\n",
       "        vertical-align: top;\n",
       "    }\n",
       "\n",
       "    .dataframe thead th {\n",
       "        text-align: right;\n",
       "    }\n",
       "</style>\n",
       "<table border=\"1\" class=\"dataframe\">\n",
       "  <thead>\n",
       "    <tr style=\"text-align: right;\">\n",
       "      <th></th>\n",
       "      <th>dndt</th>\n",
       "    </tr>\n",
       "  </thead>\n",
       "  <tbody>\n",
       "    <tr>\n",
       "      <th>CO</th>\n",
       "      <td>0.0e+00</td>\n",
       "    </tr>\n",
       "    <tr>\n",
       "      <th>CO(v1)</th>\n",
       "      <td>0.0e+00</td>\n",
       "    </tr>\n",
       "    <tr>\n",
       "      <th>CO(v10)</th>\n",
       "      <td>0.0e+00</td>\n",
       "    </tr>\n",
       "    <tr>\n",
       "      <th>CO(v2)</th>\n",
       "      <td>0.0e+00</td>\n",
       "    </tr>\n",
       "    <tr>\n",
       "      <th>CO(v3)</th>\n",
       "      <td>0.0e+00</td>\n",
       "    </tr>\n",
       "    <tr>\n",
       "      <th>CO(v4)</th>\n",
       "      <td>0.0e+00</td>\n",
       "    </tr>\n",
       "    <tr>\n",
       "      <th>CO(v5)</th>\n",
       "      <td>0.0e+00</td>\n",
       "    </tr>\n",
       "    <tr>\n",
       "      <th>CO(v6)</th>\n",
       "      <td>0.0e+00</td>\n",
       "    </tr>\n",
       "    <tr>\n",
       "      <th>CO(v7)</th>\n",
       "      <td>0.0e+00</td>\n",
       "    </tr>\n",
       "    <tr>\n",
       "      <th>CO(v8)</th>\n",
       "      <td>0.0e+00</td>\n",
       "    </tr>\n",
       "    <tr>\n",
       "      <th>CO(v9)</th>\n",
       "      <td>0.0e+00</td>\n",
       "    </tr>\n",
       "    <tr>\n",
       "      <th>CO2</th>\n",
       "      <td>-8.0e-96</td>\n",
       "    </tr>\n",
       "    <tr>\n",
       "      <th>CO2(v1)</th>\n",
       "      <td>7.5e-96</td>\n",
       "    </tr>\n",
       "    <tr>\n",
       "      <th>CO2(v10)</th>\n",
       "      <td>-3.2e-102</td>\n",
       "    </tr>\n",
       "    <tr>\n",
       "      <th>CO2(v11)</th>\n",
       "      <td>5.6e-102</td>\n",
       "    </tr>\n",
       "    <tr>\n",
       "      <th>CO2(v12)</th>\n",
       "      <td>-6.6e-102</td>\n",
       "    </tr>\n",
       "    <tr>\n",
       "      <th>CO2(v13)</th>\n",
       "      <td>4.6e-102</td>\n",
       "    </tr>\n",
       "    <tr>\n",
       "      <th>CO2(v14)</th>\n",
       "      <td>-6.8e-102</td>\n",
       "    </tr>\n",
       "    <tr>\n",
       "      <th>CO2(v15)</th>\n",
       "      <td>3.6e-102</td>\n",
       "    </tr>\n",
       "    <tr>\n",
       "      <th>CO2(v16)</th>\n",
       "      <td>-1.1e-102</td>\n",
       "    </tr>\n",
       "    <tr>\n",
       "      <th>CO2(v17)</th>\n",
       "      <td>7.5e-104</td>\n",
       "    </tr>\n",
       "    <tr>\n",
       "      <th>CO2(v18)</th>\n",
       "      <td>-4.5e-102</td>\n",
       "    </tr>\n",
       "    <tr>\n",
       "      <th>CO2(v19)</th>\n",
       "      <td>-3.3e-103</td>\n",
       "    </tr>\n",
       "    <tr>\n",
       "      <th>CO2(v2)</th>\n",
       "      <td>4.4e-97</td>\n",
       "    </tr>\n",
       "    <tr>\n",
       "      <th>CO2(v20)</th>\n",
       "      <td>-2.0e-104</td>\n",
       "    </tr>\n",
       "    <tr>\n",
       "      <th>CO2(v21)</th>\n",
       "      <td>4.0e-104</td>\n",
       "    </tr>\n",
       "    <tr>\n",
       "      <th>CO2(v3)</th>\n",
       "      <td>7.7e-98</td>\n",
       "    </tr>\n",
       "    <tr>\n",
       "      <th>CO2(v4)</th>\n",
       "      <td>-9.1e-99</td>\n",
       "    </tr>\n",
       "    <tr>\n",
       "      <th>CO2(v5)</th>\n",
       "      <td>-2.9e-99</td>\n",
       "    </tr>\n",
       "    <tr>\n",
       "      <th>CO2(v6)</th>\n",
       "      <td>-1.8e-100</td>\n",
       "    </tr>\n",
       "    <tr>\n",
       "      <th>CO2(v7)</th>\n",
       "      <td>-1.9e-101</td>\n",
       "    </tr>\n",
       "    <tr>\n",
       "      <th>CO2(v8)</th>\n",
       "      <td>-2.2e-102</td>\n",
       "    </tr>\n",
       "    <tr>\n",
       "      <th>CO2(v9)</th>\n",
       "      <td>1.3e-101</td>\n",
       "    </tr>\n",
       "  </tbody>\n",
       "</table>\n",
       "</div>"
      ],
      "text/plain": [
       "              dndt\n",
       "CO         0.0e+00\n",
       "CO(v1)     0.0e+00\n",
       "CO(v10)    0.0e+00\n",
       "CO(v2)     0.0e+00\n",
       "CO(v3)     0.0e+00\n",
       "CO(v4)     0.0e+00\n",
       "CO(v5)     0.0e+00\n",
       "CO(v6)     0.0e+00\n",
       "CO(v7)     0.0e+00\n",
       "CO(v8)     0.0e+00\n",
       "CO(v9)     0.0e+00\n",
       "CO2       -8.0e-96\n",
       "CO2(v1)    7.5e-96\n",
       "CO2(v10) -3.2e-102\n",
       "CO2(v11)  5.6e-102\n",
       "CO2(v12) -6.6e-102\n",
       "CO2(v13)  4.6e-102\n",
       "CO2(v14) -6.8e-102\n",
       "CO2(v15)  3.6e-102\n",
       "CO2(v16) -1.1e-102\n",
       "CO2(v17)  7.5e-104\n",
       "CO2(v18) -4.5e-102\n",
       "CO2(v19) -3.3e-103\n",
       "CO2(v2)    4.4e-97\n",
       "CO2(v20) -2.0e-104\n",
       "CO2(v21)  4.0e-104\n",
       "CO2(v3)    7.7e-98\n",
       "CO2(v4)   -9.1e-99\n",
       "CO2(v5)   -2.9e-99\n",
       "CO2(v6)  -1.8e-100\n",
       "CO2(v7)  -1.9e-101\n",
       "CO2(v8)  -2.2e-102\n",
       "CO2(v9)   1.3e-101"
      ]
     },
     "execution_count": 28,
     "metadata": {},
     "output_type": "execute_result"
    }
   ],
   "source": [
    "coef.view_dndt()"
   ]
  },
  {
   "cell_type": "code",
   "execution_count": 29,
   "metadata": {
    "ExecuteTime": {
     "end_time": "2019-09-06T07:11:42.365754Z",
     "start_time": "2019-09-06T07:11:42.357776Z"
    }
   },
   "outputs": [
    {
     "data": {
      "text/html": [
       "<div>\n",
       "<style scoped>\n",
       "    .dataframe tbody tr th:only-of-type {\n",
       "        vertical-align: middle;\n",
       "    }\n",
       "\n",
       "    .dataframe tbody tr th {\n",
       "        vertical-align: top;\n",
       "    }\n",
       "\n",
       "    .dataframe thead th {\n",
       "        text-align: right;\n",
       "    }\n",
       "</style>\n",
       "<table border=\"1\" class=\"dataframe\">\n",
       "  <thead>\n",
       "    <tr style=\"text-align: right;\">\n",
       "      <th></th>\n",
       "      <th>density</th>\n",
       "    </tr>\n",
       "  </thead>\n",
       "  <tbody>\n",
       "    <tr>\n",
       "      <th>CO</th>\n",
       "      <td>1.0e+20</td>\n",
       "    </tr>\n",
       "    <tr>\n",
       "      <th>CO(v1)</th>\n",
       "      <td>1.0e+20</td>\n",
       "    </tr>\n",
       "    <tr>\n",
       "      <th>CO(v10)</th>\n",
       "      <td>1.0e+20</td>\n",
       "    </tr>\n",
       "    <tr>\n",
       "      <th>CO(v2)</th>\n",
       "      <td>1.0e+20</td>\n",
       "    </tr>\n",
       "    <tr>\n",
       "      <th>CO(v3)</th>\n",
       "      <td>1.0e+20</td>\n",
       "    </tr>\n",
       "    <tr>\n",
       "      <th>CO(v4)</th>\n",
       "      <td>1.0e+20</td>\n",
       "    </tr>\n",
       "    <tr>\n",
       "      <th>CO(v5)</th>\n",
       "      <td>1.0e+20</td>\n",
       "    </tr>\n",
       "    <tr>\n",
       "      <th>CO(v6)</th>\n",
       "      <td>1.0e+20</td>\n",
       "    </tr>\n",
       "    <tr>\n",
       "      <th>CO(v7)</th>\n",
       "      <td>1.0e+20</td>\n",
       "    </tr>\n",
       "    <tr>\n",
       "      <th>CO(v8)</th>\n",
       "      <td>1.0e+20</td>\n",
       "    </tr>\n",
       "    <tr>\n",
       "      <th>CO(v9)</th>\n",
       "      <td>1.0e+20</td>\n",
       "    </tr>\n",
       "    <tr>\n",
       "      <th>CO2</th>\n",
       "      <td>2.2e+21</td>\n",
       "    </tr>\n",
       "    <tr>\n",
       "      <th>CO2(v1)</th>\n",
       "      <td>-4.3e-109</td>\n",
       "    </tr>\n",
       "    <tr>\n",
       "      <th>CO2(v10)</th>\n",
       "      <td>4.1e-115</td>\n",
       "    </tr>\n",
       "    <tr>\n",
       "      <th>CO2(v11)</th>\n",
       "      <td>2.5e-115</td>\n",
       "    </tr>\n",
       "    <tr>\n",
       "      <th>CO2(v12)</th>\n",
       "      <td>5.1e-115</td>\n",
       "    </tr>\n",
       "    <tr>\n",
       "      <th>CO2(v13)</th>\n",
       "      <td>2.0e-115</td>\n",
       "    </tr>\n",
       "    <tr>\n",
       "      <th>CO2(v14)</th>\n",
       "      <td>4.1e-115</td>\n",
       "    </tr>\n",
       "    <tr>\n",
       "      <th>CO2(v15)</th>\n",
       "      <td>1.0e-115</td>\n",
       "    </tr>\n",
       "    <tr>\n",
       "      <th>CO2(v16)</th>\n",
       "      <td>2.5e-115</td>\n",
       "    </tr>\n",
       "    <tr>\n",
       "      <th>CO2(v17)</th>\n",
       "      <td>2.0e-115</td>\n",
       "    </tr>\n",
       "    <tr>\n",
       "      <th>CO2(v18)</th>\n",
       "      <td>2.0e-115</td>\n",
       "    </tr>\n",
       "    <tr>\n",
       "      <th>CO2(v19)</th>\n",
       "      <td>1.3e-116</td>\n",
       "    </tr>\n",
       "    <tr>\n",
       "      <th>CO2(v2)</th>\n",
       "      <td>-2.7e-110</td>\n",
       "    </tr>\n",
       "    <tr>\n",
       "      <th>CO2(v20)</th>\n",
       "      <td>-7.9e-118</td>\n",
       "    </tr>\n",
       "    <tr>\n",
       "      <th>CO2(v21)</th>\n",
       "      <td>-1.6e-117</td>\n",
       "    </tr>\n",
       "    <tr>\n",
       "      <th>CO2(v3)</th>\n",
       "      <td>-3.3e-111</td>\n",
       "    </tr>\n",
       "    <tr>\n",
       "      <th>CO2(v4)</th>\n",
       "      <td>6.2e-112</td>\n",
       "    </tr>\n",
       "    <tr>\n",
       "      <th>CO2(v5)</th>\n",
       "      <td>1.6e-112</td>\n",
       "    </tr>\n",
       "    <tr>\n",
       "      <th>CO2(v6)</th>\n",
       "      <td>9.7e-114</td>\n",
       "    </tr>\n",
       "    <tr>\n",
       "      <th>CO2(v7)</th>\n",
       "      <td>8.1e-115</td>\n",
       "    </tr>\n",
       "    <tr>\n",
       "      <th>CO2(v8)</th>\n",
       "      <td>-1.0e-115</td>\n",
       "    </tr>\n",
       "    <tr>\n",
       "      <th>CO2(v9)</th>\n",
       "      <td>-2.0e-115</td>\n",
       "    </tr>\n",
       "  </tbody>\n",
       "</table>\n",
       "</div>"
      ],
      "text/plain": [
       "           density\n",
       "CO         1.0e+20\n",
       "CO(v1)     1.0e+20\n",
       "CO(v10)    1.0e+20\n",
       "CO(v2)     1.0e+20\n",
       "CO(v3)     1.0e+20\n",
       "CO(v4)     1.0e+20\n",
       "CO(v5)     1.0e+20\n",
       "CO(v6)     1.0e+20\n",
       "CO(v7)     1.0e+20\n",
       "CO(v8)     1.0e+20\n",
       "CO(v9)     1.0e+20\n",
       "CO2        2.2e+21\n",
       "CO2(v1)  -4.3e-109\n",
       "CO2(v10)  4.1e-115\n",
       "CO2(v11)  2.5e-115\n",
       "CO2(v12)  5.1e-115\n",
       "CO2(v13)  2.0e-115\n",
       "CO2(v14)  4.1e-115\n",
       "CO2(v15)  1.0e-115\n",
       "CO2(v16)  2.5e-115\n",
       "CO2(v17)  2.0e-115\n",
       "CO2(v18)  2.0e-115\n",
       "CO2(v19)  1.3e-116\n",
       "CO2(v2)  -2.7e-110\n",
       "CO2(v20) -7.9e-118\n",
       "CO2(v21) -1.6e-117\n",
       "CO2(v3)  -3.3e-111\n",
       "CO2(v4)   6.2e-112\n",
       "CO2(v5)   1.6e-112\n",
       "CO2(v6)   9.7e-114\n",
       "CO2(v7)   8.1e-115\n",
       "CO2(v8)  -1.0e-115\n",
       "CO2(v9)  -2.0e-115"
      ]
     },
     "execution_count": 29,
     "metadata": {},
     "output_type": "execute_result"
    }
   ],
   "source": [
    "coef.view_density(density=sol.y[:,-1])"
   ]
  },
  {
   "cell_type": "code",
   "execution_count": null,
   "metadata": {},
   "outputs": [],
   "source": []
  },
  {
   "cell_type": "code",
   "execution_count": null,
   "metadata": {},
   "outputs": [],
   "source": []
  }
 ],
 "metadata": {
  "celltoolbar": "Initialization Cell",
  "hide_input": false,
  "kernelspec": {
   "display_name": "Python 3",
   "language": "python",
   "name": "python3"
  },
  "language_info": {
   "codemirror_mode": {
    "name": "ipython",
    "version": 3
   },
   "file_extension": ".py",
   "mimetype": "text/x-python",
   "name": "python",
   "nbconvert_exporter": "python",
   "pygments_lexer": "ipython3",
   "version": "3.7.3"
  },
  "nbTranslate": {
   "displayLangs": [
    "*"
   ],
   "hotkey": "alt-t",
   "langInMainMenu": true,
   "sourceLang": "en",
   "targetLang": "fr",
   "useGoogleTranslate": true
  },
  "toc": {
   "base_numbering": 1,
   "nav_menu": {},
   "number_sections": true,
   "sideBar": false,
   "skip_h1_title": false,
   "title_cell": "Table of Contents",
   "title_sidebar": "Contents",
   "toc_cell": false,
   "toc_position": {
    "height": "231px",
    "left": "1206px",
    "top": "144px",
    "width": "237px"
   },
   "toc_section_display": true,
   "toc_window_display": true
  },
  "varInspector": {
   "cols": {
    "lenName": 16,
    "lenType": 16,
    "lenVar": 40
   },
   "kernels_config": {
    "python": {
     "delete_cmd_postfix": "",
     "delete_cmd_prefix": "del ",
     "library": "var_list.py",
     "varRefreshCmd": "print(var_dic_list())"
    },
    "r": {
     "delete_cmd_postfix": ") ",
     "delete_cmd_prefix": "rm(",
     "library": "var_list.r",
     "varRefreshCmd": "cat(var_dic_list()) "
    }
   },
   "types_to_exclude": [
    "module",
    "function",
    "builtin_function_or_method",
    "instance",
    "_Feature"
   ],
   "window_display": false
  }
 },
 "nbformat": 4,
 "nbformat_minor": 2
}
