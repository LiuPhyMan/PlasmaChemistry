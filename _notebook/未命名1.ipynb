{
 "cells": [
  {
   "cell_type": "markdown",
   "metadata": {},
   "source": [
    "# Load package"
   ]
  },
  {
   "cell_type": "code",
   "execution_count": 1,
   "metadata": {
    "deletable": false,
    "run_control": {
     "marked": false
    }
   },
   "outputs": [
    {
     "name": "stdout",
     "output_type": "stream",
     "text": [
      "E:\\Coding\\PlasmaChemistry\n"
     ]
    }
   ],
   "source": [
    "%cd .."
   ]
  },
  {
   "cell_type": "code",
   "execution_count": 2,
   "metadata": {
    "deletable": false,
    "run_control": {
     "marked": false
    }
   },
   "outputs": [],
   "source": [
    "import os\n",
    "import numpy as np\n",
    "import pandas as pd\n",
    "from matplotlib import pyplot as plt"
   ]
  },
  {
   "cell_type": "code",
   "execution_count": 3,
   "metadata": {
    "deletable": false,
    "run_control": {
     "marked": false
    }
   },
   "outputs": [],
   "source": [
    "from ipywidgets import interact, interactive, fixed, interact_manual\n",
    "from ipywidgets import Layout\n",
    "from IPython.display import display\n",
    "import ipywidgets as widgets"
   ]
  },
  {
   "cell_type": "code",
   "execution_count": 4,
   "metadata": {
    "deletable": false,
    "run_control": {
     "marked": false
    }
   },
   "outputs": [],
   "source": [
    "from plasmistry.molecule import (H2_vib_group, CO_vib_group, CO2_vib_group)\n",
    "from plasmistry.molecule import (H2_vib_energy_in_eV, H2_vib_energy_in_K,\n",
    "                                 CO2_vib_energy_in_eV, CO2_vib_energy_in_K,\n",
    "                                 CO_vib_energy_in_eV, CO_vib_energy_in_K)\n",
    "from plasmistry.io import (LT_constructor, Arr_constructor, eval_constructor,\n",
    "                           Cros_Reaction_block, Coef_Reaction_block)"
   ]
  },
  {
   "cell_type": "code",
   "execution_count": 5,
   "metadata": {
    "deletable": false,
    "run_control": {
     "marked": false
    }
   },
   "outputs": [],
   "source": [
    "import yaml\n",
    "yaml.add_constructor(u\"!eval\", eval_constructor)\n",
    "yaml.add_constructor(u\"!LT\", LT_constructor)\n",
    "yaml.add_constructor(u\"!Arr\", Arr_constructor)"
   ]
  },
  {
   "cell_type": "markdown",
   "metadata": {},
   "source": [
    "# Load reactions"
   ]
  },
  {
   "cell_type": "code",
   "execution_count": 6,
   "metadata": {
    "deletable": false,
    "run_control": {
     "marked": false
    }
   },
   "outputs": [],
   "source": [
    "_widgets = dict()"
   ]
  },
  {
   "cell_type": "code",
   "execution_count": 7,
   "metadata": {
    "deletable": false,
    "run_control": {
     "marked": false
    },
    "scrolled": false
   },
   "outputs": [
    {
     "data": {
      "application/vnd.jupyter.widget-view+json": {
       "model_id": "66f9a256c3644172950f370bb64debd9",
       "version_major": 2,
       "version_minor": 0
      },
      "text/plain": [
       "Text(value='./_yaml/test_0.yaml', description='yaml file path')"
      ]
     },
     "metadata": {},
     "output_type": "display_data"
    }
   ],
   "source": [
    "_widgets['path'] = widgets.Text(value='./_yaml/test_0.yaml',\n",
    "                                description='yaml file path')\n",
    "display(_widgets['path'])"
   ]
  },
  {
   "cell_type": "code",
   "execution_count": 8,
   "metadata": {
    "code_folding": [],
    "deletable": false,
    "run_control": {
     "marked": false
    }
   },
   "outputs": [],
   "source": [
    "with open(_widgets['path'].value) as f:\n",
    "    rctn_block = yaml.load(f)\n",
    "rctn_considered = rctn_block[-1]['The reactions considered']"
   ]
  },
  {
   "cell_type": "markdown",
   "metadata": {},
   "source": [
    "\n",
    "Reactions contains `electron reactions` and `relaxation reactions`\n",
    "\n"
   ]
  },
  {
   "cell_type": "markdown",
   "metadata": {},
   "source": [
    "# Choose reations"
   ]
  },
  {
   "cell_type": "code",
   "execution_count": 9,
   "metadata": {
    "deletable": false,
    "run_control": {
     "marked": false
    }
   },
   "outputs": [],
   "source": [
    "_species_list = ['E', 'H2(v0-14)', 'CO2(v0-21)', 'CO(v0-10)', 'H', 'O', 'OH']\n",
    "# --------------------------------------------------------------------------- #\n",
    "# set select multiple\n",
    "for _, _option in [('ele', rctn_considered['electron reactions'].keys()),\n",
    "                   ('rel', rctn_considered['relaxation reactions'].keys()),\n",
    "                   ('species', _species_list)]:\n",
    "    _widgets[_] = widgets.SelectMultiple(options=_option,\n",
    "                                         layout=Layout(height='300px'))\n",
    "# --------------------------------------------------------------------------- #\n",
    "# set floattext\n",
    "for _, _value in [('electron_density', 1.0), ('Te', 1.0), ('CO2_density', 1.0),\n",
    "                  ('CO2_Tvib', 1000), ('H2_density', 1.0), ('H2_Tvib', 1000)]:\n",
    "    _widgets[_] = widgets.FloatText(value=_value, layout=Layout(width='100px'))"
   ]
  },
  {
   "cell_type": "code",
   "execution_count": 10,
   "metadata": {
    "run_control": {
     "marked": false
    }
   },
   "outputs": [],
   "source": [
    "_button = dict()\n",
    "_button['load reactions'] = widgets.Button(description='Load Reactions')"
   ]
  },
  {
   "cell_type": "code",
   "execution_count": 11,
   "metadata": {
    "deletable": false,
    "run_control": {
     "marked": false
    }
   },
   "outputs": [],
   "source": [
    "def get_species_from_widgets():\n",
    "    _species = []\n",
    "    for _ in _widgets['species'].value:\n",
    "        if _ == 'H2(v0-14)':\n",
    "            _species.append('H2')\n",
    "            _species.extend([f'H2(v{v})' for v in range(1, 15)])\n",
    "        elif _ == 'CO2(v0-21)':\n",
    "            _species.append('CO2')\n",
    "            _species.extend([f'CO2(v{v})' for v in range(1, 22)])\n",
    "        elif _ == 'CO(v0-10)':\n",
    "            _species.append('CO')\n",
    "            _species.extend([f'CO(v{v})' for v in range(11)])\n",
    "        else:\n",
    "            _species.append(_)\n",
    "    return _species"
   ]
  },
  {
   "cell_type": "markdown",
   "metadata": {},
   "source": [
    "# Set GUI"
   ]
  },
  {
   "cell_type": "code",
   "execution_count": 12,
   "metadata": {
    "run_control": {
     "marked": false
    }
   },
   "outputs": [
    {
     "data": {
      "application/vnd.jupyter.widget-view+json": {
       "model_id": "57da2f0d2d1f437d8988dc9f82b8ad61",
       "version_major": 2,
       "version_minor": 0
      },
      "text/plain": [
       "HBox(children=(VBox(children=(HTML(value='<b>ELECTRON REACTIONS:</b>'), SelectMultiple(layout=Layout(height='3…"
      ]
     },
     "metadata": {},
     "output_type": "display_data"
    },
    {
     "data": {
      "application/vnd.jupyter.widget-view+json": {
       "model_id": "a16bdae73dfb4a6ea7af5c6607b114b6",
       "version_major": 2,
       "version_minor": 0
      },
      "text/plain": [
       "GridBox(children=(HTML(value='<b>electron density</b>'), FloatText(value=1.0, layout=Layout(width='100px')), H…"
      ]
     },
     "metadata": {},
     "output_type": "display_data"
    },
    {
     "data": {
      "application/vnd.jupyter.widget-view+json": {
       "model_id": "db06b0cf856c47b79bcbf32d19e745cb",
       "version_major": 2,
       "version_minor": 0
      },
      "text/plain": [
       "Button(description='Load Reactions', style=ButtonStyle())"
      ]
     },
     "metadata": {},
     "output_type": "display_data"
    }
   ],
   "source": [
    "display(\n",
    "    widgets.HBox([\n",
    "        widgets.VBox(\n",
    "            [widgets.HTML('<b>ELECTRON REACTIONS:</b>'), _widgets['ele']]),\n",
    "        widgets.VBox(\n",
    "            [widgets.HTML('<b>RELAXATION REACTIONS:</b>'), _widgets['rel']]),\n",
    "        widgets.VBox([widgets.HTML('<b>SPECIES</b>'), _widgets['species']])\n",
    "    ]))\n",
    "display(\n",
    "    widgets.GridBox([\n",
    "        widgets.HTML('<b>electron density</b>'), _widgets['electron_density'],\n",
    "        widgets.HTML('<b>Te_eV</b>'), _widgets['Te'],\n",
    "        widgets.HTML('<b>CO2_density</b>'), _widgets['CO2_density'],\n",
    "        widgets.HTML('<b>CO2_Tvib</b>'), _widgets['CO2_Tvib'],\n",
    "        widgets.HTML('<b>H2_density</b>'), _widgets['H2_density'],\n",
    "        widgets.HTML('<b>H2_Tvib'), _widgets['H2_Tvib']\n",
    "    ],\n",
    "                    layout=widgets.Layout(\n",
    "                        grid_template_columns=\"repeat(4, 20%)\")))\n",
    "display(_button['load reactions'])"
   ]
  },
  {
   "cell_type": "code",
   "execution_count": 13,
   "metadata": {},
   "outputs": [],
   "source": [
    "def get_rctn_df_from_widgets():\n",
    "    pass"
   ]
  },
  {
   "cell_type": "code",
   "execution_count": 14,
   "metadata": {},
   "outputs": [
    {
     "data": {
      "text/plain": [
       "()"
      ]
     },
     "execution_count": 14,
     "metadata": {},
     "output_type": "execute_result"
    }
   ],
   "source": [
    "_widgets['ele'].value"
   ]
  },
  {
   "cell_type": "code",
   "execution_count": 16,
   "metadata": {
    "scrolled": false
   },
   "outputs": [
    {
     "name": "stdout",
     "output_type": "stream",
     "text": [
      "['E + H2(v_A_) => E + H2(v_B_)'.replace('_A_', str(v_lower)).replace('_B_', str(v_upper)) for v_lower in range(15) for v_upper in range(15) if v_lower > v_upper]\n",
      "['cs_path/H2(X)_to_H2(X)_vibexc/H2(v_A_)_to_H2(v_B_).csv'.replace('_A_', str(v_lower)).replace('_B_', str(v_upper)) for v_lower in range(15) for v_upper in range(15) if v_lower > v_upper]\n",
      "['_thres_'.replace('_thres_', str(H2_vib_energy_in_eV(v=v_upper) - H2_vib_energy_in_eV(v=v_lower))) for v_lower in range(15) for v_upper in range(15) if v_lower > v_upper]\n",
      "['_thres_'.replace('_thres_', str(H2_vib_energy_in_eV(v=v_upper) - H2_vib_energy_in_eV(v=v_lower))) for v_lower in range(15) for v_upper in range(15) if v_lower > v_upper]\n"
     ]
    },
    {
     "ename": "NameError",
     "evalue": "name 'H2_vib_energy_in_eV' is not defined",
     "output_type": "error",
     "traceback": [
      "\u001b[1;31m---------------------------------------------------------------------------\u001b[0m",
      "\u001b[1;31mNameError\u001b[0m                                 Traceback (most recent call last)",
      "\u001b[1;32m<ipython-input-16-362d656552b5>\u001b[0m in \u001b[0;36m<module>\u001b[1;34m\u001b[0m\n\u001b[0;32m      3\u001b[0m \u001b[1;32mfor\u001b[0m \u001b[0m_\u001b[0m \u001b[1;32min\u001b[0m \u001b[0m_widgets\u001b[0m\u001b[1;33m[\u001b[0m\u001b[1;34m'ele'\u001b[0m\u001b[1;33m]\u001b[0m\u001b[1;33m.\u001b[0m\u001b[0mvalue\u001b[0m\u001b[1;33m:\u001b[0m\u001b[1;33m\u001b[0m\u001b[1;33m\u001b[0m\u001b[0m\n\u001b[0;32m      4\u001b[0m     \u001b[0m_df\u001b[0m\u001b[1;33m=\u001b[0m \u001b[0mrctn_considered\u001b[0m\u001b[1;33m[\u001b[0m\u001b[1;34m'electron reactions'\u001b[0m\u001b[1;33m]\u001b[0m\u001b[1;33m[\u001b[0m\u001b[0m_\u001b[0m\u001b[1;33m]\u001b[0m\u001b[1;33m\u001b[0m\u001b[1;33m\u001b[0m\u001b[0m\n\u001b[1;32m----> 5\u001b[1;33m \u001b[0mCros_Reaction_block\u001b[0m\u001b[1;33m(\u001b[0m\u001b[0mrctn_dict\u001b[0m\u001b[1;33m=\u001b[0m\u001b[0m_df\u001b[0m\u001b[1;33m)\u001b[0m\u001b[1;33m\u001b[0m\u001b[1;33m\u001b[0m\u001b[0m\n\u001b[0m",
      "\u001b[1;32mE:\\Coding\\PlasmaChemistry\\plasmistry\\io\\io_reactions.py\u001b[0m in \u001b[0;36m__init__\u001b[1;34m(self, rctn_dict)\u001b[0m\n\u001b[0;32m    569\u001b[0m         \u001b[1;32mif\u001b[0m \u001b[0mrctn_dict\u001b[0m \u001b[1;32mis\u001b[0m \u001b[1;32mnot\u001b[0m \u001b[1;32mNone\u001b[0m\u001b[1;33m:\u001b[0m\u001b[1;33m\u001b[0m\u001b[1;33m\u001b[0m\u001b[0m\n\u001b[0;32m    570\u001b[0m             \u001b[0mself\u001b[0m\u001b[1;33m.\u001b[0m\u001b[0m_threshold\u001b[0m \u001b[1;33m=\u001b[0m \u001b[0mself\u001b[0m\u001b[1;33m.\u001b[0m\u001b[0mrctn_dict\u001b[0m\u001b[1;33m[\u001b[0m\u001b[1;34m\"threshold\"\u001b[0m\u001b[1;33m]\u001b[0m\u001b[1;33m\u001b[0m\u001b[1;33m\u001b[0m\u001b[0m\n\u001b[1;32m--> 571\u001b[1;33m         \u001b[0mself\u001b[0m\u001b[1;33m.\u001b[0m\u001b[0m_set_threshold_list\u001b[0m\u001b[1;33m(\u001b[0m\u001b[1;33m)\u001b[0m\u001b[1;33m\u001b[0m\u001b[1;33m\u001b[0m\u001b[0m\n\u001b[0m\u001b[0;32m    572\u001b[0m \u001b[1;33m\u001b[0m\u001b[0m\n\u001b[0;32m    573\u001b[0m     \u001b[1;32mdef\u001b[0m \u001b[0m__add__\u001b[0m\u001b[1;33m(\u001b[0m\u001b[0mself\u001b[0m\u001b[1;33m,\u001b[0m \u001b[0mother\u001b[0m\u001b[1;33m)\u001b[0m\u001b[1;33m:\u001b[0m\u001b[1;33m\u001b[0m\u001b[1;33m\u001b[0m\u001b[0m\n",
      "\u001b[1;32mE:\\Coding\\PlasmaChemistry\\plasmistry\\io\\io_reactions.py\u001b[0m in \u001b[0;36m_set_threshold_list\u001b[1;34m(self)\u001b[0m\n\u001b[0;32m    587\u001b[0m                                        _iter)\n\u001b[0;32m    588\u001b[0m             \u001b[0mprint\u001b[0m\u001b[1;33m(\u001b[0m\u001b[0m_eval_str\u001b[0m\u001b[1;33m)\u001b[0m\u001b[1;33m\u001b[0m\u001b[1;33m\u001b[0m\u001b[0m\n\u001b[1;32m--> 589\u001b[1;33m             \u001b[0mself\u001b[0m\u001b[1;33m.\u001b[0m\u001b[0m_threshold_list\u001b[0m \u001b[1;33m=\u001b[0m \u001b[0meval\u001b[0m\u001b[1;33m(\u001b[0m\u001b[0m_eval_str\u001b[0m\u001b[1;33m)\u001b[0m\u001b[1;33m\u001b[0m\u001b[1;33m\u001b[0m\u001b[0m\n\u001b[0m\u001b[0;32m    590\u001b[0m         \u001b[1;32melse\u001b[0m\u001b[1;33m:\u001b[0m\u001b[1;33m\u001b[0m\u001b[1;33m\u001b[0m\u001b[0m\n\u001b[0;32m    591\u001b[0m             \u001b[0mself\u001b[0m\u001b[1;33m.\u001b[0m\u001b[0m_threshold_list\u001b[0m \u001b[1;33m=\u001b[0m \u001b[0mself\u001b[0m\u001b[1;33m.\u001b[0m\u001b[0m_threshold\u001b[0m\u001b[1;33m\u001b[0m\u001b[1;33m\u001b[0m\u001b[0m\n",
      "\u001b[1;32mE:\\Coding\\PlasmaChemistry\\plasmistry\\io\\io_reactions.py\u001b[0m in \u001b[0;36m<module>\u001b[1;34m\u001b[0m\n",
      "\u001b[1;32mE:\\Coding\\PlasmaChemistry\\plasmistry\\io\\io_reactions.py\u001b[0m in \u001b[0;36m<listcomp>\u001b[1;34m(.0)\u001b[0m\n",
      "\u001b[1;31mNameError\u001b[0m: name 'H2_vib_energy_in_eV' is not defined"
     ]
    }
   ],
   "source": [
    "def H2_vib_energy_in_eV(*,v):\n",
    "    return v\n",
    "for _ in _widgets['ele'].value:\n",
    "    _df= rctn_considered['electron reactions'][_]\n",
    "Cros_Reaction_block(rctn_dict=_df)\n"
   ]
  },
  {
   "cell_type": "code",
   "execution_count": null,
   "metadata": {
    "code_folding": [
     0
    ],
    "run_control": {
     "marked": false
    }
   },
   "outputs": [],
   "source": [
    "species = get_species_from_widgets()"
   ]
  },
  {
   "cell_type": "code",
   "execution_count": null,
   "metadata": {
    "run_control": {
     "marked": false
    }
   },
   "outputs": [],
   "source": [
    "density_df = pd.Series(0, index=species)\n",
    "H2 = H2_vib_group(total_density=_widgets['H2_density'].value,\n",
    "                  Tvib_K=_widgets['H2_Tvib'].value)\n",
    "CO2 = CO2_vib_group(total_density=_widgets['CO2_density'].value,\n",
    "                    Tvib_K=_widgets['CO2_Tvib'].value)"
   ]
  },
  {
   "cell_type": "code",
   "execution_count": null,
   "metadata": {
    "run_control": {
     "marked": false
    },
    "scrolled": true
   },
   "outputs": [],
   "source": [
    "H2"
   ]
  },
  {
   "cell_type": "code",
   "execution_count": null,
   "metadata": {
    "run_control": {
     "marked": false
    },
    "scrolled": true
   },
   "outputs": [],
   "source": [
    "CO2"
   ]
  },
  {
   "cell_type": "code",
   "execution_count": null,
   "metadata": {
    "run_control": {
     "marked": false
    },
    "scrolled": true
   },
   "outputs": [],
   "source": [
    "rctn_ele_df = pd.DataFrame(\n",
    "    columns=['formula', 'type', 'threshold_eV', 'cross_section'])\n",
    "rctn_rel_df = pd.DataFrame(\n",
    "    columns=['formula', 'type', 'threshold_eV', 'cross_section'])\n",
    "for _ in _widgets['ele'].value:\n",
    "    _dict = rctn_considered['electron reactions'][_]\n",
    "    print(_dict)\n",
    "    _df = Cros_Reaction_block(rctn_dict=_dict).generate_crostn_dataframe()\n",
    "    rctn_ele_df = rctn_ele_df.append(_df)"
   ]
  },
  {
   "cell_type": "code",
   "execution_count": null,
   "metadata": {
    "run_control": {
     "marked": false
    }
   },
   "outputs": [],
   "source": [
    "_widgets['ele'].value"
   ]
  },
  {
   "cell_type": "code",
   "execution_count": null,
   "metadata": {
    "run_control": {
     "marked": false
    }
   },
   "outputs": [],
   "source": []
  }
 ],
 "metadata": {
  "kernelspec": {
   "display_name": "Python 3",
   "language": "python",
   "name": "python3"
  },
  "language_info": {
   "codemirror_mode": {
    "name": "ipython",
    "version": 3
   },
   "file_extension": ".py",
   "mimetype": "text/x-python",
   "name": "python",
   "nbconvert_exporter": "python",
   "pygments_lexer": "ipython3",
   "version": "3.7.3"
  },
  "toc": {
   "base_numbering": 1,
   "nav_menu": {},
   "number_sections": true,
   "sideBar": false,
   "skip_h1_title": false,
   "title_cell": "Table of Contents",
   "title_sidebar": "Contents",
   "toc_cell": false,
   "toc_position": {
    "height": "208.875px",
    "left": "842.288px",
    "top": "58.8px",
    "width": "206.512px"
   },
   "toc_section_display": true,
   "toc_window_display": true
  },
  "varInspector": {
   "cols": {
    "lenName": 16,
    "lenType": 16,
    "lenVar": 40
   },
   "kernels_config": {
    "python": {
     "delete_cmd_postfix": "",
     "delete_cmd_prefix": "del ",
     "library": "var_list.py",
     "varRefreshCmd": "print(var_dic_list())"
    },
    "r": {
     "delete_cmd_postfix": ") ",
     "delete_cmd_prefix": "rm(",
     "library": "var_list.r",
     "varRefreshCmd": "cat(var_dic_list()) "
    }
   },
   "oldHeight": 548,
   "position": {
    "height": "152px",
    "left": "839px",
    "right": "20px",
    "top": "271px",
    "width": "250px"
   },
   "types_to_exclude": [
    "module",
    "function",
    "builtin_function_or_method",
    "instance",
    "_Feature"
   ],
   "varInspector_section_display": "none",
   "window_display": false
  }
 },
 "nbformat": 4,
 "nbformat_minor": 2
}
