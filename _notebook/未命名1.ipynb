{
 "cells": [
  {
   "cell_type": "markdown",
   "metadata": {
    "heading_collapsed": true
   },
   "source": [
    "# Load package"
   ]
  },
  {
   "cell_type": "code",
   "execution_count": 1,
   "metadata": {
    "deletable": false,
    "editable": false,
    "hidden": true
   },
   "outputs": [],
   "source": [
    "%cd .."
   ]
  },
  {
   "cell_type": "code",
   "execution_count": 2,
   "metadata": {
    "deletable": false,
    "editable": false,
    "hidden": true
   },
   "outputs": [],
   "source": [
    "import os\n",
    "import numpy as np\n",
    "import pandas as pd\n",
    "from matplotlib import pyplot as plt"
   ]
  },
  {
   "cell_type": "code",
   "execution_count": 3,
   "metadata": {
    "deletable": false,
    "editable": false,
    "hidden": true
   },
   "outputs": [],
   "source": [
    "from ipywidgets import interact, interactive, fixed, interact_manual\n",
    "from ipywidgets import Layout\n",
    "from IPython.display import display\n",
    "import ipywidgets as widgets"
   ]
  },
  {
   "cell_type": "code",
   "execution_count": 4,
   "metadata": {
    "deletable": false,
    "editable": false,
    "hidden": true
   },
   "outputs": [],
   "source": [
    "import yaml\n",
    "from yaml_demo import (LT_constructor,\n",
    "                       Arr_constructor,\n",
    "                       H2_vib_energy_in_eV,\n",
    "                       H2_vib_energy_in_K,\n",
    "                       CO2_vib_energy_in_eV,\n",
    "                       CO2_vib_energy_in_K,\n",
    "                       CO_vib_energy_in_eV,\n",
    "                       CO_vib_energy_in_K,\n",
    "                       eval_constructor)\n",
    "from yaml_demo import (Cros_Reaction_block,\n",
    "                        Coef_Reaction_block)\n",
    "yaml.add_constructor(u\"!eval\", eval_constructor)\n",
    "yaml.add_constructor(u\"!LT\", LT_constructor)\n",
    "yaml.add_constructor(u\"!Arr\", Arr_constructor)"
   ]
  },
  {
   "cell_type": "markdown",
   "metadata": {},
   "source": [
    "# Load reactions"
   ]
  },
  {
   "cell_type": "code",
   "execution_count": 5,
   "metadata": {
    "run_control": {
     "marked": true
    }
   },
   "outputs": [],
   "source": [
    "rctn_file_name = './_yaml/test_0.yaml'"
   ]
  },
  {
   "cell_type": "code",
   "execution_count": 6,
   "metadata": {
    "deletable": false,
    "editable": false
   },
   "outputs": [],
   "source": [
    "with open(rctn_file_name) as f:\n",
    "    rctn_block = yaml.load(f)\n",
    "rctn_considered = rctn_block[-1]['The reactions considered']"
   ]
  },
  {
   "cell_type": "markdown",
   "metadata": {},
   "source": [
    "\n",
    "Reactions contains `electron reactions` and `relaxation reactions`\n",
    "\n"
   ]
  },
  {
   "cell_type": "markdown",
   "metadata": {},
   "source": [
    "# Choose reations"
   ]
  },
  {
   "cell_type": "code",
   "execution_count": 7,
   "metadata": {
    "run_control": {
     "marked": false
    },
    "scrolled": false
   },
   "outputs": [
    {
     "data": {
      "application/vnd.jupyter.widget-view+json": {
       "model_id": "1b2193ec34d54eeeb1c4b81b461acc1b",
       "version_major": 2,
       "version_minor": 0
      },
      "text/plain": [
       "HBox(children=(VBox(children=(HTML(value='<b>electron reactions:</b>'), SelectMultiple(layout=Layout(height='3…"
      ]
     },
     "metadata": {},
     "output_type": "display_data"
    }
   ],
   "source": [
    "w_ele = widgets.SelectMultiple(options=rctn_considered['electron reactions'].keys(),\n",
    "                          layout=Layout(height='300px'))\n",
    "w_rel = widgets.SelectMultiple(options=rctn_considered['relaxation reactions'].keys(),\n",
    "                          layout=Layout(height='300px'))\n",
    "widgets.HBox([widgets.VBox([widgets.HTML('<b>electron reactions:</b>'), w_ele]),\n",
    "             widgets.VBox([widgets.HTML('<b>relaxation reactions:</b>'), w_rel])])\n",
    "              "
   ]
  },
  {
   "cell_type": "code",
   "execution_count": 10,
   "metadata": {
    "scrolled": true
   },
   "outputs": [],
   "source": [
    "rctn_ele_df = pd.DataFrame(columns=['formula', 'type', 'threshold_eV', 'cross_section'])\n",
    "rctn_rel_df = pd.DataFrame(columns=['formula', 'type', 'threshold_eV', 'cross_section'])\n",
    "for _ in w_ele.value:\n",
    "    _dict = rctn_considered['electron reactions'][_]\n",
    "    _df = Cros_Reaction_block(rctn_dict=_dict).generate_crostn_dataframe()\n",
    "    rctn_ele_df = rctn_ele_df.append(_df)"
   ]
  },
  {
   "cell_type": "code",
   "execution_count": null,
   "metadata": {
    "scrolled": true
   },
   "outputs": [],
   "source": [
    "_df"
   ]
  },
  {
   "cell_type": "code",
   "execution_count": null,
   "metadata": {},
   "outputs": [],
   "source": [
    "rctn_df.generate_crostn_dataframe()"
   ]
  },
  {
   "cell_type": "code",
   "execution_count": null,
   "metadata": {},
   "outputs": [],
   "source": [
    "w_Tgas = widgets.Label('fdsa')"
   ]
  },
  {
   "cell_type": "code",
   "execution_count": null,
   "metadata": {},
   "outputs": [],
   "source": [
    "display(w_Tgas)"
   ]
  },
  {
   "cell_type": "code",
   "execution_count": null,
   "metadata": {},
   "outputs": [],
   "source": [
    "rctn_block[-1]['The reactions considered'].keys()"
   ]
  },
  {
   "cell_type": "code",
   "execution_count": null,
   "metadata": {},
   "outputs": [],
   "source": [
    "_keys = rctn_block[-1]['The reactions considered']['electron reactions'].keys()"
   ]
  },
  {
   "cell_type": "code",
   "execution_count": null,
   "metadata": {},
   "outputs": [],
   "source": [
    "w.value"
   ]
  },
  {
   "cell_type": "code",
   "execution_count": null,
   "metadata": {},
   "outputs": [],
   "source": [
    "Cros_Reaction_block(rctn_dict=)"
   ]
  }
 ],
 "metadata": {
  "kernelspec": {
   "display_name": "Python 3",
   "language": "python",
   "name": "python3"
  },
  "language_info": {
   "codemirror_mode": {
    "name": "ipython",
    "version": 3
   },
   "file_extension": ".py",
   "mimetype": "text/x-python",
   "name": "python",
   "nbconvert_exporter": "python",
   "pygments_lexer": "ipython3",
   "version": "3.7.3"
  },
  "toc": {
   "base_numbering": 1,
   "nav_menu": {},
   "number_sections": true,
   "sideBar": false,
   "skip_h1_title": false,
   "title_cell": "Table of Contents",
   "title_sidebar": "Contents",
   "toc_cell": false,
   "toc_position": {
    "height": "289.875px",
    "left": "819.484px",
    "top": "144px",
    "width": "230.516px"
   },
   "toc_section_display": true,
   "toc_window_display": true
  },
  "varInspector": {
   "cols": {
    "lenName": 16,
    "lenType": 16,
    "lenVar": 40
   },
   "kernels_config": {
    "python": {
     "delete_cmd_postfix": "",
     "delete_cmd_prefix": "del ",
     "library": "var_list.py",
     "varRefreshCmd": "print(var_dic_list())"
    },
    "r": {
     "delete_cmd_postfix": ") ",
     "delete_cmd_prefix": "rm(",
     "library": "var_list.r",
     "varRefreshCmd": "cat(var_dic_list()) "
    }
   },
   "types_to_exclude": [
    "module",
    "function",
    "builtin_function_or_method",
    "instance",
    "_Feature"
   ],
   "window_display": false
  }
 },
 "nbformat": 4,
 "nbformat_minor": 2
}
