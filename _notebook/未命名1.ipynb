{
 "cells": [
  {
   "cell_type": "markdown",
   "metadata": {},
   "source": [
    "# Load package"
   ]
  },
  {
   "cell_type": "code",
   "execution_count": 1,
   "metadata": {},
   "outputs": [
    {
     "name": "stdout",
     "output_type": "stream",
     "text": [
      "C:\\Users\\LiuJinbao\\Documents\\Code\\PlasmaChemistry\n"
     ]
    }
   ],
   "source": [
    "%cd .."
   ]
  },
  {
   "cell_type": "code",
   "execution_count": 2,
   "metadata": {},
   "outputs": [],
   "source": [
    "import os\n",
    "import re\n",
    "import math\n",
    "import numpy as np\n",
    "import pandas as pd\n",
    "from scipy.integrate import solve_ivp\n",
    "from scipy.interpolate import interp1d\n",
    "from matplotlib import pyplot as plt"
   ]
  },
  {
   "cell_type": "code",
   "execution_count": 3,
   "metadata": {},
   "outputs": [],
   "source": [
    "from ipywidgets import interact, interactive, fixed, interact_manual\n",
    "from ipywidgets import Layout\n",
    "from IPython.display import display\n",
    "import ipywidgets as widgets"
   ]
  },
  {
   "cell_type": "code",
   "execution_count": 4,
   "metadata": {},
   "outputs": [],
   "source": [
    "%matplotlib notebook\n",
    "import matplotlib.pyplot as plt\n",
    "plt.rcParams[\"figure.figsize\"] = (4, 3)\n",
    "plt.rcParams[\"font.size\"] = 15"
   ]
  },
  {
   "cell_type": "code",
   "execution_count": 5,
   "metadata": {},
   "outputs": [],
   "source": [
    "from plasmistry.molecule import (H2_vib_group, CO_vib_group, CO2_vib_group)\n",
    "from plasmistry.molecule import (H2_vib_energy_in_eV, H2_vib_energy_in_K,\n",
    "                                 CO2_vib_energy_in_eV, CO2_vib_energy_in_K,\n",
    "                                 CO_vib_energy_in_eV, CO_vib_energy_in_K)\n",
    "from plasmistry.io import (LT_constructor, standard_Arr_constructor,\n",
    "                           chemkin_Arr_2_rcnts_constructor,\n",
    "                           chemkin_Arr_3_rcnts_constructor, eval_constructor,\n",
    "                           reversed_reaction_constructor, alpha_constructor,\n",
    "                           F_gamma_constructor,\n",
    "                           Cros_Reaction_block, Coef_Reaction_block)\n",
    "from plasmistry.reactions import (CrosReactions, CoefReactions)\n",
    "from plasmistry.electron import EEDF\n",
    "from plasmistry.electron import get_maxwell_eedf"
   ]
  },
  {
   "cell_type": "code",
   "execution_count": 6,
   "metadata": {
    "run_control": {
     "marked": true
    }
   },
   "outputs": [],
   "source": [
    "import yaml\n",
    "yaml.add_constructor(\"!StandardArr\", standard_Arr_constructor, Loader=yaml.FullLoader)\n",
    "yaml.add_constructor(\"!ChemKinArr_2_rcnt\", chemkin_Arr_2_rcnts_constructor, Loader=yaml.FullLoader)\n",
    "yaml.add_constructor(\"!ChemKinArr_3_rcnt\", chemkin_Arr_3_rcnts_constructor, Loader=yaml.FullLoader)\n",
    "yaml.add_constructor(\"!rev\", reversed_reaction_constructor, Loader=yaml.FullLoader)\n",
    "yaml.add_constructor(\"!LT\", LT_constructor, Loader=yaml.FullLoader)\n",
    "yaml.add_constructor(\"!alpha\", alpha_constructor, Loader=yaml.FullLoader)\n",
    "yaml.add_constructor(\"!F_gamma\", F_gamma_constructor, Loader=yaml.FullLoader)"
   ]
  },
  {
   "cell_type": "markdown",
   "metadata": {},
   "source": [
    "# variables from widgets"
   ]
  },
  {
   "cell_type": "markdown",
   "metadata": {},
   "source": [
    "`_species_list`\n",
    "\n",
    "`_init_yaml_file_path`\n",
    "\n",
    "`_vari_dict`\n",
    "\n",
    "`rctn_all [dict, ...]`\n",
    " - _electron reactions_\n",
    " - _relaxation reactions_\n",
    " - _chemical reactions_\n",
    " - decom_recom reactions\n",
    "\n",
    "`rctn_df [dataframe, ...]` \n",
    "- _species_\n",
    "- _electron_\n",
    "- _chemical_\n",
    "- decom_recom\n",
    "- _relaxation_\n",
    "\n",
    "`rctn_instances [Reactions instances, ...]`\n",
    "- _cros reactions_\n",
    "- _coef reactions_"
   ]
  },
  {
   "cell_type": "code",
   "execution_count": 7,
   "metadata": {},
   "outputs": [],
   "source": [
    "_species_list = [\n",
    "    'E', 'H2(v0-14)', 'CO2(va-d)', 'CO2(v0-21)', 'CO(v0-10)', 'O2', 'H2O',\n",
    "    'H2(all)', 'CO2(all)', 'CO(all)','O2(all)','H2O(all)',\n",
    "    'C', 'H', 'O', 'OH'\n",
    "]\n",
    "_species_group = {\"H2(all)\": [\"H2\"] + [f\"H2(v{_})\" for _ in range(1,15)],\n",
    "                 \"CO2(all)\": [\"CO2\"] + [f\"CO2(v{_})\" for _ in range(1,22)] + \\\n",
    "                 [\"CO2(va)\", \"CO2(vb)\", \"CO2(vc)\", \"CO2(vd)\"]}\n",
    "_init_yaml_file_path = './_yaml/test_0.yaml'\n",
    "_vari_dict = dict(H2_vib_energy_in_eV=H2_vib_energy_in_eV,\n",
    "                  H2_vib_energy_in_K=H2_vib_energy_in_K,\n",
    "                  CO_vib_energy_in_eV=CO_vib_energy_in_eV,\n",
    "                  CO_vib_energy_in_K=CO_vib_energy_in_K,\n",
    "                  CO2_vib_energy_in_eV=CO2_vib_energy_in_eV,\n",
    "                  CO2_vib_energy_in_K=CO2_vib_energy_in_K)\n",
    "# ---------------------------------------------------------------------------- #\n",
    "rctn_all = {\n",
    "    'global_abbr': None,\n",
    "    'electron reactions': None,\n",
    "    'relaxation reactions': None,\n",
    "    'chemical reactions': None,\n",
    "    'decom_recom reactions': None\n",
    "}\n",
    "with open(_init_yaml_file_path, 'r') as f:\n",
    "    rctn_block = yaml.load(f, Loader=yaml.FullLoader)\n",
    "rctn_all = rctn_block[-1]['The reactions considered']\n",
    "\n",
    "global_abbr = rctn_all['global_abbr']\n",
    "\n",
    "rctn_df = {\n",
    "    'species': None,\n",
    "    'electron': None,\n",
    "    'chemical': None,\n",
    "    'decom_recom': None,\n",
    "    'relaxation': None\n",
    "}\n",
    "rctn_instances = {'cros reactions': None, 'coef reactions': None}"
   ]
  },
  {
   "cell_type": "markdown",
   "metadata": {},
   "source": [
    "# widgets function\n",
    "`yaml file` => `rctn_all` (dict inside)\n",
    "            => `rctn_df` (dataframe insdie) \n",
    "            => `rctn_instances` (instances inside)\n",
    "- `get_species_from_widgets`\n",
    "- `get_rctn_df_from_widgets`\n",
    "- `instance_dataframe`\n",
    "\n"
   ]
  },
  {
   "cell_type": "code",
   "execution_count": 8,
   "metadata": {},
   "outputs": [],
   "source": [
    "def get_species_from_widgets(_event):\n",
    "    with _widgets['output']:\n",
    "        print('Get species from widgets ...', end=' ')\n",
    "    species = []\n",
    "    for _ in _widgets['species'].value:\n",
    "        if _ == 'H2(v0-14)':\n",
    "            species.append('H2')\n",
    "            species.extend([f'H2(v{v})' for v in range(1, 15)])\n",
    "        elif _ == 'CO2(v0-21)':\n",
    "            species.append('CO2')\n",
    "            species.extend([f'CO2(v{v})' for v in range(1, 22)])\n",
    "        elif _ == 'CO2(va-d)':\n",
    "            species.extend(['CO2(va)', 'CO2(vb)', 'CO2(vc)', 'CO2(vd)'])\n",
    "        elif _ == 'CO(v0-10)':\n",
    "            species.append('CO')\n",
    "            species.extend([f'CO(v{v})' for v in range(1, 11)])\n",
    "        else:\n",
    "            species.append(_)\n",
    "    rctn_df['species'] = pd.Series(species)\n",
    "    assert rctn_df['species'][0] == 'E'\n",
    "    with _widgets['output']:\n",
    "        print('DONE!')\n",
    "\n",
    "\n",
    "def get_rctn_df_from_widgets(_event):\n",
    "    with _widgets['output']:\n",
    "        print('Get reaction dataframe from widgets ...', end=' ')\n",
    "    rctn_df['electron'] = pd.DataFrame(\n",
    "        columns=['formula', 'type', 'threshold_eV', 'cross_section'])\n",
    "    rctn_df['chemical'] = pd.DataFrame(\n",
    "        columns=['formula', 'type', 'reactant', 'product', 'kstr'])\n",
    "    rctn_df['relaxation'] = pd.DataFrame(\n",
    "        columns=['formula', 'type', 'reactant', 'product', 'kstr'])\n",
    "    rctn_df['decom_recom'] = pd.DataFrame(\n",
    "        columns=['formula', 'type', 'reactant', 'product', 'kstr'])\n",
    "    # ------------------------------------------------------------------------ #\n",
    "    #    rctn_df that is generated from the widgets and rctn_all.\n",
    "    # ------------------------------------------------------------------------ #\n",
    "    #   electron\n",
    "    for _ in _widgets['electron'].value:\n",
    "        _df = rctn_all['electron reactions'][_]\n",
    "        _cros_block = Cros_Reaction_block(rctn_dict=_df, vari_dict=_vari_dict,\n",
    "                                         global_abbr=global_abbr)\n",
    "        factor = 1\n",
    "        rctn_df['electron'] = pd.concat([\n",
    "            rctn_df['electron'],\n",
    "            _cros_block.generate_crostn_dataframe(factor=factor)\n",
    "        ],\n",
    "                                        ignore_index=True,\n",
    "                                        sort=False)\n",
    "\n",
    "    # ------------------------------------------------------------------------ #\n",
    "    #   relaxation\n",
    "    for _ in _widgets['relaxation'].value:\n",
    "        _df = rctn_all['relaxation reactions'][_]\n",
    "        _coef_block = Coef_Reaction_block(rctn_dict=_df, vari_dict=_vari_dict,\n",
    "                                         global_abbr=global_abbr)\n",
    "        rctn_df['relaxation'] = pd.concat(\n",
    "            [rctn_df['relaxation'],\n",
    "             _coef_block.generate_crostn_dataframe()],\n",
    "            ignore_index=True,\n",
    "            sort=False)\n",
    "\n",
    "    # ------------------------------------------------------------------------ #\n",
    "    #   chemical\n",
    "    for _ in _widgets['chemical'].value:\n",
    "        _df = rctn_all['chemical reactions'][_]\n",
    "        _coef_block = Coef_Reaction_block(rctn_dict=_df, vari_dict=_vari_dict,\n",
    "                                         global_abbr=global_abbr)\n",
    "        rctn_df['chemical'] = pd.concat(\n",
    "            [rctn_df['chemical'],\n",
    "             _coef_block.generate_crostn_dataframe()],\n",
    "            ignore_index=True,\n",
    "            sort=False)\n",
    "\n",
    "    # ------------------------------------------------------------------------ #\n",
    "    #    decom_recom\n",
    "    for _ in _widgets['decom_recom'].value:\n",
    "        _df = rctn_all['decom_recom reactions'][_]\n",
    "        _coef_block = Coef_Reaction_block(rctn_dict=_df, vari_dict=_vari_dict,\n",
    "                                         global_abbr=global_abbr)\n",
    "        rctn_df['decom_recom'] = pd.concat(\n",
    "            [rctn_df['decom_recom'],\n",
    "             _coef_block.generate_crostn_dataframe()],\n",
    "            ignore_index=True,\n",
    "            sort=False)\n",
    "    with _widgets['output']:\n",
    "        print('DONE!')\n",
    "\n",
    "\n",
    "# ---------------------------------------------------------------------------- #\n",
    "def rctn_all_dict_keys_to_formulas(_key):\n",
    "    _formula = _key.replace('_to_', ' => ')\n",
    "    _formula = _formula.replace('_', ' + ')\n",
    "    return _formula\n",
    "\n",
    "\n",
    "# ---------------------------------------------------------------------------- #\n",
    "def from_rctn_df_to_cros_instance(_df):\n",
    "    split_df = _df['formula'].str.split('\\s*=>\\s*', expand=True)\n",
    "    reactant = split_df[0]\n",
    "    product = split_df[1]\n",
    "    return reactant, product\n",
    "\n",
    "\n",
    "def from_rctn_df_to_coef_instance(_df):\n",
    "    reactant = _df['reactant']\n",
    "    product = _df['product']\n",
    "    kstr = _df['kstr']\n",
    "    return reactant, product, kstr\n",
    "\n",
    "\n",
    "# ---------------------------------------------------------------------------- #\n",
    "def instance_dataframe(_):\n",
    "    with _widgets['output']:\n",
    "        print(\"Get instance from rctn_df ...\", end=' ')\n",
    "    # ------------------------------------------------------------------------ #\n",
    "    reactant, product = from_rctn_df_to_cros_instance(rctn_df['electron'])\n",
    "\n",
    "    rctn_instances['cros reactions'] = CrosReactions(\n",
    "        species=rctn_df['species'],\n",
    "        reactant=reactant,\n",
    "        product=product,\n",
    "        dH_e=rctn_df[\"electron\"][\"threshold_eV\"],\n",
    "        k_str=None)\n",
    "    rctn_instances['cros reactions']._set_species_group(_species_group)\n",
    "    # ------------------------------------------------------------------------ #\n",
    "    reactant, product, kstr = pd.Series(), pd.Series(), pd.Series()\n",
    "    for _key in ['relaxation', 'chemical', 'decom_recom']:\n",
    "        _r, _p, _k = from_rctn_df_to_coef_instance(rctn_df[_key])\n",
    "        reactant = pd.concat([reactant, _r], ignore_index=True, sort=False)\n",
    "        product = pd.concat([product, _p], ignore_index=True, sort=False)\n",
    "        kstr = pd.concat([kstr, _k], ignore_index=True, sort=False)\n",
    "\n",
    "    rctn_instances['coef reactions'] = CoefReactions(\n",
    "        species=rctn_df['species'],\n",
    "        reactant=reactant,\n",
    "        product=product,\n",
    "        k_str=kstr)\n",
    "    rctn_instances['coef reactions']._set_species_group(_species_group)\n",
    "    rctn_instances['coef reactions'].compile_k_str()\n",
    "    # ------------------------------------------------------------------------ #\n",
    "    with _widgets['output']:\n",
    "        print('DONE!')\n",
    "\n",
    "\n",
    "def clean_output(_):\n",
    "    _widgets['output'].clear_output()"
   ]
  },
  {
   "cell_type": "markdown",
   "metadata": {},
   "source": [
    "# Set widgets and display widgets"
   ]
  },
  {
   "cell_type": "code",
   "execution_count": 9,
   "metadata": {},
   "outputs": [
    {
     "data": {
      "application/vnd.jupyter.widget-view+json": {
       "model_id": "a05d370e94c34143a470859e3edd9271",
       "version_major": 2,
       "version_minor": 0
      },
      "text/plain": [
       "HBox(children=(HTML(value='<b>Yaml File Path</b>'), Text(value='./_yaml/test_0.yaml', disabled=True)), layout=…"
      ]
     },
     "metadata": {},
     "output_type": "display_data"
    },
    {
     "data": {
      "application/vnd.jupyter.widget-view+json": {
       "model_id": "f905f57bdedc40fb98112082869da6d1",
       "version_major": 2,
       "version_minor": 0
      },
      "text/plain": [
       "HBox(children=(VBox(children=(HTML(value='<b>SPECIES</b>'), SelectMultiple(index=(0, 1, 2, 3, 4, 5, 6, 7, 8, 9…"
      ]
     },
     "metadata": {},
     "output_type": "display_data"
    },
    {
     "data": {
      "application/vnd.jupyter.widget-view+json": {
       "model_id": "6bb952da5bc04ac9950e8b4f2de71907",
       "version_major": 2,
       "version_minor": 0
      },
      "text/plain": [
       "GridBox(children=(HTML(value='<b>electron density</b>'), FloatText(value=1.0, layout=Layout(width='100px')), H…"
      ]
     },
     "metadata": {},
     "output_type": "display_data"
    },
    {
     "data": {
      "application/vnd.jupyter.widget-view+json": {
       "model_id": "79934c7b6f1c4122af6412dd450255e3",
       "version_major": 2,
       "version_minor": 0
      },
      "text/plain": [
       "VBox(children=(Button(description='rctn_all => rctn_df', style=ButtonStyle()), Button(description='=> rctn_ins…"
      ]
     },
     "metadata": {},
     "output_type": "display_data"
    },
    {
     "data": {
      "application/vnd.jupyter.widget-view+json": {
       "model_id": "c75f123c89a34188a436d277ac6ec806",
       "version_major": 2,
       "version_minor": 0
      },
      "text/plain": [
       "Output(layout=Layout(border='2px solid blue', width='80%'))"
      ]
     },
     "metadata": {},
     "output_type": "display_data"
    }
   ],
   "source": [
    "# ---------------------------------------------------------------------------- #\n",
    "_widgets = dict()\n",
    "# ---------------------------------------------------------------------------- #\n",
    "#   Set SelectMultiple widgets\n",
    "# ---------------------------------------------------------------------------- #\n",
    "for _, _option, _height in [\n",
    "    ('species', _species_list, '400px'),\n",
    "    ('electron', rctn_all['electron reactions'].keys(), '150px'),\n",
    "    ('relaxation', rctn_all['relaxation reactions'].keys(), '150px'),\n",
    "    ('chemical', rctn_all['chemical reactions'].keys(), '400px'),\n",
    "    ('decom_recom', rctn_all['decom_recom reactions'].keys(), '400px')\n",
    "]:\n",
    "    if _ in ('chemical', 'decom_recom'):\n",
    "        show_option = [(rctn_all_dict_keys_to_formulas(_o), _o)\n",
    "                       for _o in _option]\n",
    "    else:\n",
    "        show_option = _option\n",
    "    _widgets[_] = widgets.SelectMultiple(options=show_option,\n",
    "                                         value=list(_option),\n",
    "                                         layout=Layout(height=_height,\n",
    "                                                       width='300px'))\n",
    "\n",
    "# ---------------------------------------------------------------------------- #\n",
    "#   Set FloatText widgets\n",
    "# ---------------------------------------------------------------------------- #\n",
    "for _, _value in [('electron_density', 1.0), ('Te', 1.0), ('CO2_density', 1.0),\n",
    "                  ('CO2_Tvib', 1000), ('H2_density', 1.0), ('H2_Tvib', 1000),\n",
    "                  ('CO_density', 1.0), ('CO_Tvib', 1000)]:\n",
    "    _widgets[_] = widgets.FloatText(value=_value, layout=Layout(width='100px'))\n",
    "# ---------------------------------------------------------------------------- #\n",
    "#   Set Buttons\n",
    "# ---------------------------------------------------------------------------- #\n",
    "_button = dict()\n",
    "_button['load reactions'] = widgets.Button(description='rctn_all => rctn_df')\n",
    "_button['instance rctn_df'] = widgets.Button(description='=> rctn_instances')\n",
    "_button['clean output'] = widgets.Button(description='clean output')\n",
    "\n",
    "# ---------------------------------------------------------------------------- #\n",
    "_widgets['output'] = widgets.Output(layout={\n",
    "    'border': '2px solid blue',\n",
    "    'width': '80%'\n",
    "})\n",
    "\n",
    "\n",
    "# ---------------------------------------------------------------------------- #\n",
    "#   Widgets display\n",
    "# ---------------------------------------------------------------------------- #\n",
    "def _label(_str):\n",
    "    return widgets.HTML(f'<b>{_str}</b>')\n",
    "\n",
    "\n",
    "widgets.Text()\n",
    "display(\n",
    "    widgets.HBox([\n",
    "        widgets.HTML('<b>Yaml File Path</b>'),\n",
    "        widgets.Text(value=_init_yaml_file_path, disabled=True)\n",
    "    ],\n",
    "                 layout=Layout(border='solid 2px', width='80%')))\n",
    "display(\n",
    "    widgets.HBox(\n",
    "        [\n",
    "            #1\n",
    "            widgets.VBox([_label('SPECIES'), _widgets['species']]),\n",
    "            #2\n",
    "            widgets.VBox([\n",
    "                _label('ELECTRON REACTIONS'), _widgets['electron'],\n",
    "                _label('RELAXATION REACTIONS'), _widgets['relaxation']\n",
    "            ]),\n",
    "            #3\n",
    "            widgets.VBox([_label('CHEMICAL REACTIONS'), _widgets['chemical']]),\n",
    "            #4\n",
    "            widgets.VBox(\n",
    "                [_label('DECOM_RECOM REACTIONS'), _widgets['decom_recom']])\n",
    "        ],\n",
    "        layout=Layout(width='80%', border='solid 2px')))\n",
    "display(\n",
    "    widgets.GridBox([\n",
    "        widgets.HTML('<b>electron density</b>'), _widgets['electron_density'],\n",
    "        widgets.HTML('<b>Te_eV</b>'), _widgets['Te'],\n",
    "        widgets.HTML('<b>CO2_density</b>'), _widgets['CO2_density'],\n",
    "        widgets.HTML('<b>CO2_Tvib</b>'), _widgets['CO2_Tvib'],\n",
    "        widgets.HTML('<b>H2_density</b>'), _widgets['H2_density'],\n",
    "        widgets.HTML('<b>H2_Tvib'), _widgets['H2_Tvib']\n",
    "    ],\n",
    "                    layout=widgets.Layout(\n",
    "                        grid_template_columns=\"repeat(4, 20%)\",\n",
    "                        width='80%',\n",
    "                        border='solid 2px')))\n",
    "display(\n",
    "    widgets.VBox([\n",
    "        _button['load reactions'], _button['instance rctn_df'],\n",
    "        _button['clean output']\n",
    "    ],\n",
    "                 layout=Layout(border='solid 2px',\n",
    "                               display='flex',\n",
    "                               align_items='stretch',\n",
    "                               width='30%')))\n",
    "display(_widgets['output'])\n",
    "# ---------------------------------------------------------------------------- #\n",
    "#   Widgets events\n",
    "# ---------------------------------------------------------------------------- #\n",
    "_button['load reactions'].on_click(get_rctn_df_from_widgets)\n",
    "_button['load reactions'].on_click(get_species_from_widgets)\n",
    "_button['instance rctn_df'].on_click(instance_dataframe)\n",
    "_button['clean output'].on_click(clean_output)"
   ]
  },
  {
   "cell_type": "code",
   "execution_count": null,
   "metadata": {},
   "outputs": [],
   "source": []
  },
  {
   "cell_type": "code",
   "execution_count": null,
   "metadata": {},
   "outputs": [],
   "source": []
  },
  {
   "cell_type": "code",
   "execution_count": null,
   "metadata": {},
   "outputs": [],
   "source": []
  },
  {
   "cell_type": "code",
   "execution_count": null,
   "metadata": {},
   "outputs": [],
   "source": []
  },
  {
   "cell_type": "code",
   "execution_count": null,
   "metadata": {},
   "outputs": [],
   "source": []
  },
  {
   "cell_type": "markdown",
   "metadata": {},
   "source": [
    "# Prepare rctn_instances"
   ]
  },
  {
   "cell_type": "code",
   "execution_count": 11,
   "metadata": {
    "scrolled": true
   },
   "outputs": [
    {
     "name": "stdout",
     "output_type": "stream",
     "text": [
      "E + H2 => E + H2(v1)\n",
      "E + H2 => E + H2(v2)\n",
      "E + H2 => E + H2(v3)\n",
      "E + H2(v1) => E + H2(v2)\n",
      "E + H2(v1) => E + H2(v3)\n",
      "E + H2(v1) => E + H2(v4)\n",
      "E + H2(v2) => E + H2(v3)\n",
      "E + H2(v2) => E + H2(v4)\n",
      "E + H2(v2) => E + H2(v5)\n",
      "E + H2(v3) => E + H2(v4)\n",
      "E + H2(v3) => E + H2(v5)\n",
      "E + H2(v3) => E + H2(v6)\n",
      "E + H2(v4) => E + H2(v5)\n",
      "E + H2(v4) => E + H2(v6)\n",
      "E + H2(v4) => E + H2(v7)\n",
      "E + H2(v5) => E + H2(v6)\n",
      "E + H2(v5) => E + H2(v7)\n",
      "E + H2(v5) => E + H2(v8)\n",
      "E + H2(v6) => E + H2(v7)\n",
      "E + H2(v6) => E + H2(v8)\n",
      "E + H2(v6) => E + H2(v9)\n",
      "E + H2(v7) => E + H2(v8)\n",
      "E + H2(v7) => E + H2(v9)\n",
      "E + H2(v7) => E + H2(v10)\n",
      "E + H2(v8) => E + H2(v9)\n",
      "E + H2(v8) => E + H2(v10)\n",
      "E + H2(v8) => E + H2(v11)\n",
      "E + H2(v9) => E + H2(v10)\n",
      "E + H2(v9) => E + H2(v11)\n",
      "E + H2(v9) => E + H2(v12)\n",
      "E + H2(v10) => E + H2(v11)\n",
      "E + H2(v10) => E + H2(v12)\n",
      "E + H2(v10) => E + H2(v13)\n",
      "E + H2(v11) => E + H2(v12)\n",
      "E + H2(v11) => E + H2(v13)\n",
      "E + H2(v11) => E + H2(v14)\n",
      "E + H2(v12) => E + H2(v13)\n",
      "E + H2(v12) => E + H2(v14)\n",
      "E + H2(v13) => E + H2(v14)\n",
      "E + H2(v1) => E + H2\n",
      "E + H2(v2) => E + H2\n",
      "E + H2(v2) => E + H2(v1)\n",
      "E + H2(v3) => E + H2\n",
      "E + H2(v3) => E + H2(v1)\n",
      "E + H2(v3) => E + H2(v2)\n",
      "E + H2(v4) => E + H2(v1)\n",
      "E + H2(v4) => E + H2(v2)\n",
      "E + H2(v4) => E + H2(v3)\n",
      "E + H2(v5) => E + H2(v2)\n",
      "E + H2(v5) => E + H2(v3)\n",
      "E + H2(v5) => E + H2(v4)\n",
      "E + H2(v6) => E + H2(v3)\n",
      "E + H2(v6) => E + H2(v4)\n",
      "E + H2(v6) => E + H2(v5)\n",
      "E + H2(v7) => E + H2(v4)\n",
      "E + H2(v7) => E + H2(v5)\n",
      "E + H2(v7) => E + H2(v6)\n",
      "E + H2(v8) => E + H2(v5)\n",
      "E + H2(v8) => E + H2(v6)\n",
      "E + H2(v8) => E + H2(v7)\n",
      "E + H2(v9) => E + H2(v6)\n",
      "E + H2(v9) => E + H2(v7)\n",
      "E + H2(v9) => E + H2(v8)\n",
      "E + H2(v10) => E + H2(v7)\n",
      "E + H2(v10) => E + H2(v8)\n",
      "E + H2(v10) => E + H2(v9)\n",
      "E + H2(v11) => E + H2(v8)\n",
      "E + H2(v11) => E + H2(v9)\n",
      "E + H2(v11) => E + H2(v10)\n",
      "E + H2(v12) => E + H2(v9)\n",
      "E + H2(v12) => E + H2(v10)\n",
      "E + H2(v12) => E + H2(v11)\n",
      "E + H2(v13) => E + H2(v10)\n",
      "E + H2(v13) => E + H2(v11)\n",
      "E + H2(v13) => E + H2(v12)\n",
      "E + H2(v14) => E + H2(v11)\n",
      "E + H2(v14) => E + H2(v12)\n",
      "E + H2(v14) => E + H2(v13)\n",
      "E + H2 => E + H + H\n",
      "E + H2(v1) => E + H + H\n",
      "E + H2(v2) => E + H + H\n",
      "E + H2(v3) => E + H + H\n",
      "E + H2(v4) => E + H + H\n",
      "E + H2(v5) => E + H + H\n",
      "E + H2(v6) => E + H + H\n",
      "E + H2(v7) => E + H + H\n",
      "E + H2(v8) => E + H + H\n",
      "E + H2(v9) => E + H + H\n",
      "E + H2(v10) => E + H + H\n",
      "E + H2(v11) => E + H + H\n",
      "E + H2(v12) => E + H + H\n",
      "E + H2(v13) => E + H + H\n",
      "E + CO2 => E + CO2(v1)\n",
      "E + CO2 => E + CO2(v2)\n",
      "E + CO2 => E + CO2(v3)\n",
      "E + CO2(v1) => E + CO2(v2)\n",
      "E + CO2(v1) => E + CO2(v3)\n",
      "E + CO2(v1) => E + CO2(v4)\n",
      "E + CO2(v2) => E + CO2(v3)\n",
      "E + CO2(v2) => E + CO2(v4)\n",
      "E + CO2(v2) => E + CO2(v5)\n",
      "E + CO2(v3) => E + CO2(v4)\n",
      "E + CO2(v3) => E + CO2(v5)\n",
      "E + CO2(v3) => E + CO2(v6)\n",
      "E + CO2(v4) => E + CO2(v5)\n",
      "E + CO2(v4) => E + CO2(v6)\n",
      "E + CO2(v4) => E + CO2(v7)\n",
      "E + CO2(v5) => E + CO2(v6)\n",
      "E + CO2(v5) => E + CO2(v7)\n",
      "E + CO2(v5) => E + CO2(v8)\n",
      "E + CO2(v6) => E + CO2(v7)\n",
      "E + CO2(v6) => E + CO2(v8)\n",
      "E + CO2(v6) => E + CO2(v9)\n",
      "E + CO2(v7) => E + CO2(v8)\n",
      "E + CO2(v7) => E + CO2(v9)\n",
      "E + CO2(v7) => E + CO2(v10)\n",
      "E + CO2(v8) => E + CO2(v9)\n",
      "E + CO2(v8) => E + CO2(v10)\n",
      "E + CO2(v8) => E + CO2(v11)\n",
      "E + CO2(v9) => E + CO2(v10)\n",
      "E + CO2(v9) => E + CO2(v11)\n",
      "E + CO2(v9) => E + CO2(v12)\n",
      "E + CO2(v10) => E + CO2(v11)\n",
      "E + CO2(v10) => E + CO2(v12)\n",
      "E + CO2(v10) => E + CO2(v13)\n",
      "E + CO2(v11) => E + CO2(v12)\n",
      "E + CO2(v11) => E + CO2(v13)\n",
      "E + CO2(v11) => E + CO2(v14)\n",
      "E + CO2(v12) => E + CO2(v13)\n",
      "E + CO2(v12) => E + CO2(v14)\n",
      "E + CO2(v12) => E + CO2(v15)\n",
      "E + CO2(v13) => E + CO2(v14)\n",
      "E + CO2(v13) => E + CO2(v15)\n",
      "E + CO2(v13) => E + CO2(v16)\n",
      "E + CO2(v14) => E + CO2(v15)\n",
      "E + CO2(v14) => E + CO2(v16)\n",
      "E + CO2(v14) => E + CO2(v17)\n",
      "E + CO2(v15) => E + CO2(v16)\n",
      "E + CO2(v15) => E + CO2(v17)\n",
      "E + CO2(v15) => E + CO2(v18)\n",
      "E + CO2(v16) => E + CO2(v17)\n",
      "E + CO2(v16) => E + CO2(v18)\n",
      "E + CO2(v16) => E + CO2(v19)\n",
      "E + CO2(v17) => E + CO2(v18)\n",
      "E + CO2(v17) => E + CO2(v19)\n",
      "E + CO2(v17) => E + CO2(v20)\n",
      "E + CO2(v18) => E + CO2(v19)\n",
      "E + CO2(v18) => E + CO2(v20)\n",
      "E + CO2(v18) => E + CO2(v21)\n",
      "E + CO2(v19) => E + CO2(v20)\n",
      "E + CO2(v19) => E + CO2(v21)\n",
      "E + CO2(v20) => E + CO2(v21)\n",
      "E + CO2(v1) => E + CO2\n",
      "E + CO2(v2) => E + CO2\n",
      "E + CO2(v2) => E + CO2(v1)\n",
      "E + CO2(v3) => E + CO2\n",
      "E + CO2(v3) => E + CO2(v1)\n",
      "E + CO2(v3) => E + CO2(v2)\n",
      "E + CO2(v4) => E + CO2(v1)\n",
      "E + CO2(v4) => E + CO2(v2)\n",
      "E + CO2(v4) => E + CO2(v3)\n",
      "E + CO2(v5) => E + CO2(v2)\n",
      "E + CO2(v5) => E + CO2(v3)\n",
      "E + CO2(v5) => E + CO2(v4)\n",
      "E + CO2(v6) => E + CO2(v3)\n",
      "E + CO2(v6) => E + CO2(v4)\n",
      "E + CO2(v6) => E + CO2(v5)\n",
      "E + CO2(v7) => E + CO2(v4)\n",
      "E + CO2(v7) => E + CO2(v5)\n",
      "E + CO2(v7) => E + CO2(v6)\n",
      "E + CO2(v8) => E + CO2(v5)\n",
      "E + CO2(v8) => E + CO2(v6)\n",
      "E + CO2(v8) => E + CO2(v7)\n",
      "E + CO2(v9) => E + CO2(v6)\n",
      "E + CO2(v9) => E + CO2(v7)\n",
      "E + CO2(v9) => E + CO2(v8)\n",
      "E + CO2(v10) => E + CO2(v7)\n",
      "E + CO2(v10) => E + CO2(v8)\n",
      "E + CO2(v10) => E + CO2(v9)\n",
      "E + CO2(v11) => E + CO2(v8)\n",
      "E + CO2(v11) => E + CO2(v9)\n",
      "E + CO2(v11) => E + CO2(v10)\n",
      "E + CO2(v12) => E + CO2(v9)\n",
      "E + CO2(v12) => E + CO2(v10)\n",
      "E + CO2(v12) => E + CO2(v11)\n",
      "E + CO2(v13) => E + CO2(v10)\n",
      "E + CO2(v13) => E + CO2(v11)\n",
      "E + CO2(v13) => E + CO2(v12)\n",
      "E + CO2(v14) => E + CO2(v11)\n",
      "E + CO2(v14) => E + CO2(v12)\n",
      "E + CO2(v14) => E + CO2(v13)\n",
      "E + CO2(v15) => E + CO2(v12)\n",
      "E + CO2(v15) => E + CO2(v13)\n",
      "E + CO2(v15) => E + CO2(v14)\n",
      "E + CO2(v16) => E + CO2(v13)\n",
      "E + CO2(v16) => E + CO2(v14)\n",
      "E + CO2(v16) => E + CO2(v15)\n",
      "E + CO2(v17) => E + CO2(v14)\n",
      "E + CO2(v17) => E + CO2(v15)\n",
      "E + CO2(v17) => E + CO2(v16)\n",
      "E + CO2(v18) => E + CO2(v15)\n",
      "E + CO2(v18) => E + CO2(v16)\n",
      "E + CO2(v18) => E + CO2(v17)\n",
      "E + CO2(v19) => E + CO2(v16)\n",
      "E + CO2(v19) => E + CO2(v17)\n",
      "E + CO2(v19) => E + CO2(v18)\n",
      "E + CO2(v20) => E + CO2(v17)\n",
      "E + CO2(v20) => E + CO2(v18)\n",
      "E + CO2(v20) => E + CO2(v19)\n",
      "E + CO2(v21) => E + CO2(v18)\n",
      "E + CO2(v21) => E + CO2(v19)\n",
      "E + CO2(v21) => E + CO2(v20)\n",
      "E + CO2 => E + CO2(va)\n",
      "E + CO2 => E + CO2(vb)\n",
      "E + CO2 => E + CO2(vc)\n",
      "E + CO2 => E + CO2(vd)\n",
      "E + CO2(va) => E + CO2(vb)\n",
      "E + CO2(va) => E + CO2(vc)\n",
      "E + CO2(va) => E + CO2(vd)\n",
      "E + CO2(vb) => E + CO2(vc)\n",
      "E + CO2(vb) => E + CO2(vd)\n",
      "E + CO2(vc) => E + CO2(vd)\n",
      "E + CO2(vd) => E + CO2(vc)\n",
      "E + CO2(vd) => E + CO2(vb)\n",
      "E + CO2(vd) => E + CO2(va)\n",
      "E + CO2(vd) => E + CO2\n",
      "E + CO2(vc) => E + CO2(vb)\n",
      "E + CO2(vc) => E + CO2(va)\n",
      "E + CO2(vc) => E + CO2\n",
      "E + CO2(vb) => E + CO2(va)\n",
      "E + CO2(vb) => E + CO2\n",
      "E + CO2(va) => E + CO2\n",
      "E + CO2(va) => E + CO2(v1)\n",
      "E + CO2(va) => E + CO2(v2)\n",
      "E + CO2(va) => E + CO2(v3)\n",
      "E + CO2(va) => E + CO2(v4)\n",
      "E + CO2(va) => E + CO2(v5)\n",
      "E + CO2(va) => E + CO2(v6)\n",
      "E + CO2(va) => E + CO2(v7)\n",
      "E + CO2(va) => E + CO2(v8)\n",
      "E + CO2(va) => E + CO2(v9)\n",
      "E + CO2(va) => E + CO2(v10)\n",
      "E + CO2(va) => E + CO2(v11)\n",
      "E + CO2(va) => E + CO2(v12)\n",
      "E + CO2(va) => E + CO2(v13)\n",
      "E + CO2(va) => E + CO2(v14)\n",
      "E + CO2(va) => E + CO2(v15)\n",
      "E + CO2(va) => E + CO2(v16)\n",
      "E + CO2(va) => E + CO2(v17)\n",
      "E + CO2(va) => E + CO2(v18)\n",
      "E + CO2(va) => E + CO2(v19)\n",
      "E + CO2(va) => E + CO2(v20)\n",
      "E + CO2(va) => E + CO2(v21)\n",
      "E + CO2(v1) => E + CO2(va)\n",
      "E + CO2(v2) => E + CO2(va)\n",
      "E + CO2(v3) => E + CO2(va)\n",
      "E + CO2(v4) => E + CO2(va)\n",
      "E + CO2(v5) => E + CO2(va)\n",
      "E + CO2(v6) => E + CO2(va)\n",
      "E + CO2(v7) => E + CO2(va)\n",
      "E + CO2(v8) => E + CO2(va)\n",
      "E + CO2(v9) => E + CO2(va)\n",
      "E + CO2(v10) => E + CO2(va)\n",
      "E + CO2(v11) => E + CO2(va)\n",
      "E + CO2(v12) => E + CO2(va)\n",
      "E + CO2(v13) => E + CO2(va)\n",
      "E + CO2(v14) => E + CO2(va)\n",
      "E + CO2(v15) => E + CO2(va)\n",
      "E + CO2(v16) => E + CO2(va)\n",
      "E + CO2(v17) => E + CO2(va)\n",
      "E + CO2(v18) => E + CO2(va)\n",
      "E + CO2(v19) => E + CO2(va)\n",
      "E + CO2(v20) => E + CO2(va)\n",
      "E + CO2(v21) => E + CO2(va)\n",
      "E + CO2(vb) => E + CO2(v1)\n",
      "E + CO2(vb) => E + CO2(v2)\n",
      "E + CO2(vb) => E + CO2(v3)\n",
      "E + CO2(vb) => E + CO2(v4)\n",
      "E + CO2(vb) => E + CO2(v5)\n",
      "E + CO2(vb) => E + CO2(v6)\n",
      "E + CO2(vb) => E + CO2(v7)\n",
      "E + CO2(vb) => E + CO2(v8)\n",
      "E + CO2(vb) => E + CO2(v9)\n",
      "E + CO2(vb) => E + CO2(v10)\n",
      "E + CO2(vb) => E + CO2(v11)\n",
      "E + CO2(vb) => E + CO2(v12)\n",
      "E + CO2(vb) => E + CO2(v13)\n",
      "E + CO2(vb) => E + CO2(v14)\n",
      "E + CO2(vb) => E + CO2(v15)\n",
      "E + CO2(vb) => E + CO2(v16)\n",
      "E + CO2(vb) => E + CO2(v17)\n",
      "E + CO2(vb) => E + CO2(v18)\n",
      "E + CO2(vb) => E + CO2(v19)\n",
      "E + CO2(vb) => E + CO2(v20)\n",
      "E + CO2(vb) => E + CO2(v21)\n",
      "E + CO2(v1) => E + CO2(vb)\n",
      "E + CO2(v2) => E + CO2(vb)\n",
      "E + CO2(v3) => E + CO2(vb)\n",
      "E + CO2(v4) => E + CO2(vb)\n",
      "E + CO2(v5) => E + CO2(vb)\n",
      "E + CO2(v6) => E + CO2(vb)\n",
      "E + CO2(v7) => E + CO2(vb)\n",
      "E + CO2(v8) => E + CO2(vb)\n",
      "E + CO2(v9) => E + CO2(vb)\n",
      "E + CO2(v10) => E + CO2(vb)\n",
      "E + CO2(v11) => E + CO2(vb)\n",
      "E + CO2(v12) => E + CO2(vb)\n",
      "E + CO2(v13) => E + CO2(vb)\n",
      "E + CO2(v14) => E + CO2(vb)\n",
      "E + CO2(v15) => E + CO2(vb)\n",
      "E + CO2(v16) => E + CO2(vb)\n",
      "E + CO2(v17) => E + CO2(vb)\n",
      "E + CO2(v18) => E + CO2(vb)\n",
      "E + CO2(v19) => E + CO2(vb)\n",
      "E + CO2(v20) => E + CO2(vb)\n",
      "E + CO2(v21) => E + CO2(vb)\n",
      "E + CO2(vc) => E + CO2(v1)\n",
      "E + CO2(vc) => E + CO2(v2)\n",
      "E + CO2(vc) => E + CO2(v3)\n",
      "E + CO2(vc) => E + CO2(v4)\n",
      "E + CO2(vc) => E + CO2(v5)\n",
      "E + CO2(vc) => E + CO2(v6)\n",
      "E + CO2(vc) => E + CO2(v7)\n",
      "E + CO2(vc) => E + CO2(v8)\n",
      "E + CO2(vc) => E + CO2(v9)\n",
      "E + CO2(vc) => E + CO2(v10)\n",
      "E + CO2(vc) => E + CO2(v11)\n",
      "E + CO2(vc) => E + CO2(v12)\n",
      "E + CO2(vc) => E + CO2(v13)\n",
      "E + CO2(vc) => E + CO2(v14)\n",
      "E + CO2(vc) => E + CO2(v15)\n",
      "E + CO2(vc) => E + CO2(v16)\n",
      "E + CO2(vc) => E + CO2(v17)\n",
      "E + CO2(vc) => E + CO2(v18)\n",
      "E + CO2(vc) => E + CO2(v19)\n",
      "E + CO2(vc) => E + CO2(v20)\n",
      "E + CO2(vc) => E + CO2(v21)\n",
      "E + CO2(v1) => E + CO2(vc)\n",
      "E + CO2(v2) => E + CO2(vc)\n",
      "E + CO2(v3) => E + CO2(vc)\n",
      "E + CO2(v4) => E + CO2(vc)\n",
      "E + CO2(v5) => E + CO2(vc)\n",
      "E + CO2(v6) => E + CO2(vc)\n",
      "E + CO2(v7) => E + CO2(vc)\n",
      "E + CO2(v8) => E + CO2(vc)\n",
      "E + CO2(v9) => E + CO2(vc)\n",
      "E + CO2(v10) => E + CO2(vc)\n",
      "E + CO2(v11) => E + CO2(vc)\n",
      "E + CO2(v12) => E + CO2(vc)\n",
      "E + CO2(v13) => E + CO2(vc)\n",
      "E + CO2(v14) => E + CO2(vc)\n",
      "E + CO2(v15) => E + CO2(vc)\n",
      "E + CO2(v16) => E + CO2(vc)\n",
      "E + CO2(v17) => E + CO2(vc)\n",
      "E + CO2(v18) => E + CO2(vc)\n",
      "E + CO2(v19) => E + CO2(vc)\n",
      "E + CO2(v20) => E + CO2(vc)\n",
      "E + CO2(v21) => E + CO2(vc)\n",
      "E + CO2(vd) => E + CO2(v2)\n",
      "E + CO2(vd) => E + CO2(v3)\n",
      "E + CO2(vd) => E + CO2(v4)\n",
      "E + CO2(vd) => E + CO2(v5)\n",
      "E + CO2(vd) => E + CO2(v6)\n",
      "E + CO2(vd) => E + CO2(v7)\n",
      "E + CO2(vd) => E + CO2(v8)\n",
      "E + CO2(vd) => E + CO2(v9)\n",
      "E + CO2(vd) => E + CO2(v10)\n",
      "E + CO2(vd) => E + CO2(v11)\n",
      "E + CO2(vd) => E + CO2(v12)\n",
      "E + CO2(vd) => E + CO2(v13)\n",
      "E + CO2(vd) => E + CO2(v14)\n",
      "E + CO2(vd) => E + CO2(v15)\n",
      "E + CO2(vd) => E + CO2(v16)\n",
      "E + CO2(vd) => E + CO2(v17)\n",
      "E + CO2(vd) => E + CO2(v18)\n",
      "E + CO2(vd) => E + CO2(v19)\n",
      "E + CO2(vd) => E + CO2(v20)\n",
      "E + CO2(vd) => E + CO2(v21)\n",
      "E + CO2(v2) => E + CO2(vd)\n",
      "E + CO2(v3) => E + CO2(vd)\n",
      "E + CO2(v4) => E + CO2(vd)\n",
      "E + CO2(v5) => E + CO2(vd)\n",
      "E + CO2(v6) => E + CO2(vd)\n",
      "E + CO2(v7) => E + CO2(vd)\n",
      "E + CO2(v8) => E + CO2(vd)\n",
      "E + CO2(v9) => E + CO2(vd)\n",
      "E + CO2(v10) => E + CO2(vd)\n",
      "E + CO2(v11) => E + CO2(vd)\n",
      "E + CO2(v12) => E + CO2(vd)\n",
      "E + CO2(v13) => E + CO2(vd)\n",
      "E + CO2(v14) => E + CO2(vd)\n",
      "E + CO2(v15) => E + CO2(vd)\n",
      "E + CO2(v16) => E + CO2(vd)\n",
      "E + CO2(v17) => E + CO2(vd)\n",
      "E + CO2(v18) => E + CO2(vd)\n",
      "E + CO2(v19) => E + CO2(vd)\n",
      "E + CO2(v20) => E + CO2(vd)\n",
      "E + CO2(v21) => E + CO2(vd)\n",
      "E + CO2 => E + CO + O\n"
     ]
    },
    {
     "name": "stdout",
     "output_type": "stream",
     "text": [
      "E + CO2(va) => E + CO + O\n",
      "E + CO2(vb) => E + CO + O\n",
      "E + CO2(vc) => E + CO + O\n",
      "E + CO2(vd) => E + CO + O\n",
      "E + CO2(v1) => E + CO + O\n",
      "E + CO2(v2) => E + CO + O\n",
      "E + CO2(v3) => E + CO + O\n",
      "E + CO2(v4) => E + CO + O\n",
      "E + CO2(v5) => E + CO + O\n",
      "E + CO2(v6) => E + CO + O\n",
      "E + CO2(v7) => E + CO + O\n",
      "E + CO2(v8) => E + CO + O\n",
      "E + CO2(v9) => E + CO + O\n",
      "E + CO2(v10) => E + CO + O\n",
      "E + CO2(v11) => E + CO + O\n",
      "E + CO2(v12) => E + CO + O\n",
      "E + CO2(v13) => E + CO + O\n",
      "E + CO2(v14) => E + CO + O\n",
      "E + CO2(v15) => E + CO + O\n",
      "E + CO2(v16) => E + CO + O\n",
      "E + CO2(v17) => E + CO + O\n",
      "E + CO2(v18) => E + CO + O\n",
      "E + CO2(v19) => E + CO + O\n",
      "E + CO2(v20) => E + CO + O\n",
      "E + CO2(v21) => E + CO + O\n",
      "E + CO => E + CO(v1)\n",
      "E + CO => E + CO(v2)\n",
      "E + CO => E + CO(v3)\n",
      "E + CO(v1) => E + CO(v2)\n",
      "E + CO(v1) => E + CO(v3)\n",
      "E + CO(v1) => E + CO(v4)\n",
      "E + CO(v2) => E + CO(v3)\n",
      "E + CO(v2) => E + CO(v4)\n",
      "E + CO(v2) => E + CO(v5)\n",
      "E + CO(v3) => E + CO(v4)\n",
      "E + CO(v3) => E + CO(v5)\n",
      "E + CO(v3) => E + CO(v6)\n",
      "E + CO(v4) => E + CO(v5)\n",
      "E + CO(v4) => E + CO(v6)\n",
      "E + CO(v4) => E + CO(v7)\n",
      "E + CO(v5) => E + CO(v6)\n",
      "E + CO(v5) => E + CO(v7)\n",
      "E + CO(v5) => E + CO(v8)\n",
      "E + CO(v6) => E + CO(v7)\n",
      "E + CO(v6) => E + CO(v8)\n",
      "E + CO(v6) => E + CO(v9)\n",
      "E + CO(v7) => E + CO(v8)\n",
      "E + CO(v7) => E + CO(v9)\n",
      "E + CO(v7) => E + CO(v10)\n",
      "E + CO(v8) => E + CO(v9)\n",
      "E + CO(v8) => E + CO(v10)\n",
      "E + CO(v9) => E + CO(v10)\n",
      "E + CO(v1) => E + CO\n",
      "E + CO(v2) => E + CO\n",
      "E + CO(v2) => E + CO(v1)\n",
      "E + CO(v3) => E + CO\n",
      "E + CO(v3) => E + CO(v1)\n",
      "E + CO(v3) => E + CO(v2)\n",
      "E + CO(v4) => E + CO(v1)\n",
      "E + CO(v4) => E + CO(v2)\n",
      "E + CO(v4) => E + CO(v3)\n",
      "E + CO(v5) => E + CO(v2)\n",
      "E + CO(v5) => E + CO(v3)\n",
      "E + CO(v5) => E + CO(v4)\n",
      "E + CO(v6) => E + CO(v3)\n",
      "E + CO(v6) => E + CO(v4)\n",
      "E + CO(v6) => E + CO(v5)\n",
      "E + CO(v7) => E + CO(v4)\n",
      "E + CO(v7) => E + CO(v5)\n",
      "E + CO(v7) => E + CO(v6)\n",
      "E + CO(v8) => E + CO(v5)\n",
      "E + CO(v8) => E + CO(v6)\n",
      "E + CO(v8) => E + CO(v7)\n",
      "E + CO(v9) => E + CO(v6)\n",
      "E + CO(v9) => E + CO(v7)\n",
      "E + CO(v9) => E + CO(v8)\n",
      "E + CO(v10) => E + CO(v7)\n",
      "E + CO(v10) => E + CO(v8)\n",
      "E + CO(v10) => E + CO(v9)\n",
      "E + CO => E + C + O\n",
      "E + CO(v1) => E + C + O\n",
      "E + CO(v2) => E + C + O\n",
      "E + CO(v3) => E + C + O\n",
      "E + CO(v4) => E + C + O\n",
      "E + CO(v5) => E + C + O\n",
      "E + CO(v6) => E + C + O\n",
      "E + CO(v7) => E + C + O\n",
      "E + CO(v8) => E + C + O\n",
      "E + CO(v9) => E + C + O\n",
      "E + CO(v10) => E + C + O\n"
     ]
    }
   ],
   "source": [
    "eedf = EEDF(max_energy_eV=30, grid_number=300)\n",
    "rctn_instances['cros reactions'].set_rate_const_matrix(\n",
    "    crostn_dataframe=rctn_df['electron'],\n",
    "    electron_energy_grid=eedf.energy_point)"
   ]
  },
  {
   "cell_type": "markdown",
   "metadata": {},
   "source": [
    "# Tgas function"
   ]
  },
  {
   "cell_type": "code",
   "execution_count": 12,
   "metadata": {},
   "outputs": [],
   "source": [
    "# ---------------------------------------------------------------------------- #\n",
    "#   sharp down\n",
    "#   slow down\n",
    "# ---------------------------------------------------------------------------- #\n",
    "def Tgas_func_sharp_down(t, time_end, Tgas_arc):\n",
    "    if t > time_end:\n",
    "        return 300\n",
    "    else:\n",
    "        return Tgas_arc\n",
    "\n",
    "\n",
    "def Tgas_func_slow_down(t, time_end, time_cold, Tgas_arc):\n",
    "    if t > time_end:\n",
    "        return (Tgas_arc - 300) * math.exp(-(t - time_end)**2 / 2 /\n",
    "                                           (time_cold - time_end)**2) + 300\n",
    "    else:\n",
    "        return Tgas_arc"
   ]
  },
  {
   "cell_type": "markdown",
   "metadata": {},
   "source": [
    "# electron density function"
   ]
  },
  {
   "cell_type": "code",
   "execution_count": 13,
   "metadata": {},
   "outputs": [],
   "source": [
    "def electron_density_func(t, time_end, _density):\n",
    "    if t > time_end:\n",
    "        return 0\n",
    "    else:\n",
    "        return _density"
   ]
  },
  {
   "cell_type": "markdown",
   "metadata": {},
   "source": [
    "# dndt functions"
   ]
  },
  {
   "cell_type": "code",
   "execution_count": 14,
   "metadata": {},
   "outputs": [
    {
     "data": {
      "application/vnd.jupyter.widget-view+json": {
       "model_id": "61e9914376f24708b1f894520fefe478",
       "version_major": 2,
       "version_minor": 0
      },
      "text/plain": [
       "Text(value='3000', description='init Tgas_K:')"
      ]
     },
     "metadata": {},
     "output_type": "display_data"
    },
    {
     "data": {
      "application/vnd.jupyter.widget-view+json": {
       "model_id": "7c61917b55a94925b2ae3b3666d55eba",
       "version_major": 2,
       "version_minor": 0
      },
      "text/plain": [
       "Text(value='1.5', description='init Te_eV:')"
      ]
     },
     "metadata": {},
     "output_type": "display_data"
    },
    {
     "data": {
      "application/vnd.jupyter.widget-view+json": {
       "model_id": "900fd9cb5bf646a8999bdeff78b82097",
       "version_major": 2,
       "version_minor": 0
      },
      "text/plain": [
       "Text(value='1e20', description='init ne')"
      ]
     },
     "metadata": {},
     "output_type": "display_data"
    },
    {
     "data": {
      "application/vnd.jupyter.widget-view+json": {
       "model_id": "cf2cad8edab84e58a721ef85538b7c1a",
       "version_major": 2,
       "version_minor": 0
      },
      "text/plain": [
       "Text(value='0, 1e-1', description='Time span:', layout=Layout(width='200px'))"
      ]
     },
     "metadata": {},
     "output_type": "display_data"
    },
    {
     "data": {
      "application/vnd.jupyter.widget-view+json": {
       "model_id": "dc21f63630c843cfa65f75ad56c19966",
       "version_major": 2,
       "version_minor": 0
      },
      "text/plain": [
       "Text(value='1e12', description='atol:', layout=Layout(width='200px'))"
      ]
     },
     "metadata": {},
     "output_type": "display_data"
    },
    {
     "data": {
      "application/vnd.jupyter.widget-view+json": {
       "model_id": "ad021faac890431ab9ceb601c91c1843",
       "version_major": 2,
       "version_minor": 0
      },
      "text/plain": [
       "Text(value='1e-2', description='rtol:', layout=Layout(width='200px'))"
      ]
     },
     "metadata": {},
     "output_type": "display_data"
    }
   ],
   "source": [
    "_widgets['Tgas_K_0'] = widgets.Text(description='init Tgas_K:', value='3000')\n",
    "_widgets['Te_eV_0'] = widgets.Text(description='init Te_eV:', value='1.5')\n",
    "_widgets['ne_0'] = widgets.Text(description='init ne', value='1e20')\n",
    "_widgets['time_span'] = widgets.Text(description='Time span:',\n",
    "                                     value='0, 1e-1',\n",
    "                                     layout=Layout(width='200px'))\n",
    "_widgets['atol'] = widgets.Text(description='atol:',\n",
    "                                value='1e12',\n",
    "                                layout=Layout(width='200px'))\n",
    "_widgets['rtol'] = widgets.Text(description='rtol:',\n",
    "                                value='1e-2',\n",
    "                                layout=Layout(width='200px'))\n",
    "display(_widgets['Tgas_K_0'])\n",
    "display(_widgets['Te_eV_0'])\n",
    "display(_widgets['ne_0'])\n",
    "display(_widgets['time_span'])\n",
    "display(_widgets['atol'])\n",
    "display(_widgets['rtol'])"
   ]
  },
  {
   "cell_type": "code",
   "execution_count": 15,
   "metadata": {},
   "outputs": [
    {
     "name": "stdout",
     "output_type": "stream",
     "text": [
      "Tgas:  3000 K \n",
      "Te_eV:  1.5 eV \n",
      "ne_0:  1.00e+19 m-3\n",
      "atol: 1e+12 \n",
      "rtol: 1e-02\n"
     ]
    }
   ],
   "source": [
    "Tgas_0 = float(_widgets['Tgas_K_0'].value)\n",
    "Te_eV = float(_widgets['Te_eV_0'].value)\n",
    "ne_0 = float(_widgets['ne_0'].value)\n",
    "_atol = float(_widgets['atol'].value)\n",
    "_rtol = float(_widgets['rtol'].value)\n",
    "print(f\"Tgas: {Tgas_0: .0f} K \\nTe_eV: {Te_eV: .1f} eV \\nne_0: {ne_0: .2e} m-3\")\n",
    "print(f\"atol: {_atol:.0e} \\nrtol: {_rtol:.0e}\")"
   ]
  },
  {
   "cell_type": "code",
   "execution_count": 16,
   "metadata": {},
   "outputs": [],
   "source": [
    "def dndt_cros(t, density_without_e, _electron_density):\n",
    "    _instance = rctn_instances['cros reactions']\n",
    "    _instance.set_rate_const(eedf_normalized=normalized_eedf)\n",
    "    _instance.set_rate(\n",
    "        density=np.hstack([_electron_density, density_without_e]))\n",
    "    return _instance.get_dn()\n",
    "\n",
    "\n",
    "def dndt_coef(t, density_without_e, _electron_density, Tgas_K):\n",
    "    _instance = rctn_instances['coef reactions']\n",
    "    _instance.set_rate_const(Tgas_K=Tgas_K)\n",
    "    _instance.set_rate(\n",
    "        density=np.hstack([_electron_density, density_without_e]))\n",
    "    return _instance.get_dn()\n",
    "\n",
    "\n",
    "def dndt_all(t, y):\n",
    "    \n",
    "    _e_density = electron_density_func(t, time_end, ne_0)\n",
    "    \n",
    "    # _Tgas_K = Tgas_func_sharp_down(t, 1e-3, Tgas_0)\n",
    "    _Tgas_K = Tgas_func_slow_down(t, time_end, time_cold, Tgas_0)\n",
    "    print(f\"t = {t:.6e} s    Tgas_K: {_Tgas_K:.0f} K, H2: {y[0]:.1e} CO2: {y[15]:.1e}\")\n",
    "    dydt = dndt_cros(t, y, _e_density) + dndt_coef(t, y, _e_density, _Tgas_K)\n",
    "    return dydt[1:]\n",
    "\n",
    "\n",
    "def dndt_all_with_Tgas(t, y):\n",
    "    pass"
   ]
  },
  {
   "cell_type": "code",
   "execution_count": 17,
   "metadata": {},
   "outputs": [],
   "source": [
    "H2_percent_seq = [\n",
    "    0.9999, 0.93333, 0.88889, 0.83333, 0.77778, 0.66667, 0.5, 0.33333, 0.23077,\n",
    "    0.16667, 0.13043, 0.09091, 0.07407, 0.0566, 0.03, 0.01, 0\n",
    "]\n",
    "time_end_seq = [\n",
    "    0.38564, 0.46339, 0.58923, 0.66704, 0.69614, 0.8726, 0.97919, 1.01216,\n",
    "    1.05427, 1.14294, 1.06026, 1.11772, 1.13853, 1.17361, 1.26435, 1.30063,\n",
    "    1.27632\n",
    "]\n",
    "#### ====================\n",
    "# i_index = 6 for H2/CO2 = 1:1\n",
    "i_index = -1\n",
    "H2_percent = H2_percent_seq[i_index]\n",
    "time_end = time_end_seq[i_index] * 1e-3\n",
    "#\n",
    "# H2_percent = 0.0002\n",
    "# time_end = 1e-3\n",
    "time_cold = time_end + 2e-2\n",
    "# time_end = 1e-3"
   ]
  },
  {
   "cell_type": "code",
   "execution_count": 18,
   "metadata": {},
   "outputs": [],
   "source": [
    "# ---------------------------------------------------------------------------- #\n",
    "density_0 = rctn_instances['cros reactions'].get_initial_density(\n",
    "    density_dict={\n",
    "        'CO2': 2.4e24 * (1 - H2_percent),\n",
    "        'H2': 2.4e24 * H2_percent,\n",
    "        'E': ne_0,\n",
    "        'CO2(all)':2.4e24 * (1 - H2_percent),\n",
    "        'H2(all)': 2.4e24 * H2_percent,\n",
    "    })\n",
    "density_without_e_0 = density_0[1:]\n",
    "normalized_eedf = get_maxwell_eedf(eedf.energy_point, Te_eV=Te_eV)"
   ]
  },
  {
   "cell_type": "markdown",
   "metadata": {},
   "source": [
    "# Start evolution"
   ]
  },
  {
   "cell_type": "code",
   "execution_count": 19,
   "metadata": {},
   "outputs": [
    {
     "name": "stdout",
     "output_type": "stream",
     "text": [
      "t = 0.000000e+00 s    Tgas_K: 3000 K, H2: 0.0e+00 CO2: 0.0e+00\n"
     ]
    },
    {
     "ename": "NameError",
     "evalue": "name 'LT' is not defined",
     "output_type": "error",
     "traceback": [
      "\u001b[1;31m---------------------------------------------------------------------------\u001b[0m",
      "\u001b[1;31mNameError\u001b[0m                                 Traceback (most recent call last)",
      "\u001b[1;32m<ipython-input-19-20f353bc2782>\u001b[0m in \u001b[0;36m<module>\u001b[1;34m\u001b[0m\n\u001b[0;32m      5\u001b[0m     \u001b[0mmethod\u001b[0m\u001b[1;33m=\u001b[0m\u001b[1;34m'BDF'\u001b[0m\u001b[1;33m,\u001b[0m\u001b[1;33m\u001b[0m\u001b[1;33m\u001b[0m\u001b[0m\n\u001b[0;32m      6\u001b[0m     \u001b[0matol\u001b[0m\u001b[1;33m=\u001b[0m\u001b[0mfloat\u001b[0m\u001b[1;33m(\u001b[0m\u001b[0m_widgets\u001b[0m\u001b[1;33m[\u001b[0m\u001b[1;34m'atol'\u001b[0m\u001b[1;33m]\u001b[0m\u001b[1;33m.\u001b[0m\u001b[0mvalue\u001b[0m\u001b[1;33m)\u001b[0m\u001b[1;33m,\u001b[0m\u001b[1;33m\u001b[0m\u001b[1;33m\u001b[0m\u001b[0m\n\u001b[1;32m----> 7\u001b[1;33m     rtol=float(_widgets['rtol'].value))\n\u001b[0m\u001b[0;32m      8\u001b[0m \u001b[0mprint\u001b[0m\u001b[1;33m(\u001b[0m\u001b[1;34m\"Solve Done!\"\u001b[0m\u001b[1;33m)\u001b[0m\u001b[1;33m\u001b[0m\u001b[1;33m\u001b[0m\u001b[0m\n",
      "\u001b[1;32mc:\\users\\liujinbao\\miniconda3\\lib\\site-packages\\scipy\\integrate\\_ivp\\ivp.py\u001b[0m in \u001b[0;36msolve_ivp\u001b[1;34m(fun, t_span, y0, method, t_eval, dense_output, events, vectorized, **options)\u001b[0m\n\u001b[0;32m    475\u001b[0m         \u001b[0mmethod\u001b[0m \u001b[1;33m=\u001b[0m \u001b[0mMETHODS\u001b[0m\u001b[1;33m[\u001b[0m\u001b[0mmethod\u001b[0m\u001b[1;33m]\u001b[0m\u001b[1;33m\u001b[0m\u001b[1;33m\u001b[0m\u001b[0m\n\u001b[0;32m    476\u001b[0m \u001b[1;33m\u001b[0m\u001b[0m\n\u001b[1;32m--> 477\u001b[1;33m     \u001b[0msolver\u001b[0m \u001b[1;33m=\u001b[0m \u001b[0mmethod\u001b[0m\u001b[1;33m(\u001b[0m\u001b[0mfun\u001b[0m\u001b[1;33m,\u001b[0m \u001b[0mt0\u001b[0m\u001b[1;33m,\u001b[0m \u001b[0my0\u001b[0m\u001b[1;33m,\u001b[0m \u001b[0mtf\u001b[0m\u001b[1;33m,\u001b[0m \u001b[0mvectorized\u001b[0m\u001b[1;33m=\u001b[0m\u001b[0mvectorized\u001b[0m\u001b[1;33m,\u001b[0m \u001b[1;33m**\u001b[0m\u001b[0moptions\u001b[0m\u001b[1;33m)\u001b[0m\u001b[1;33m\u001b[0m\u001b[1;33m\u001b[0m\u001b[0m\n\u001b[0m\u001b[0;32m    478\u001b[0m \u001b[1;33m\u001b[0m\u001b[0m\n\u001b[0;32m    479\u001b[0m     \u001b[1;32mif\u001b[0m \u001b[0mt_eval\u001b[0m \u001b[1;32mis\u001b[0m \u001b[1;32mNone\u001b[0m\u001b[1;33m:\u001b[0m\u001b[1;33m\u001b[0m\u001b[1;33m\u001b[0m\u001b[0m\n",
      "\u001b[1;32mc:\\users\\liujinbao\\miniconda3\\lib\\site-packages\\scipy\\integrate\\_ivp\\bdf.py\u001b[0m in \u001b[0;36m__init__\u001b[1;34m(self, fun, t0, y0, t_bound, max_step, rtol, atol, jac, jac_sparsity, vectorized, first_step, **extraneous)\u001b[0m\n\u001b[0;32m    191\u001b[0m         \u001b[0mself\u001b[0m\u001b[1;33m.\u001b[0m\u001b[0mmax_step\u001b[0m \u001b[1;33m=\u001b[0m \u001b[0mvalidate_max_step\u001b[0m\u001b[1;33m(\u001b[0m\u001b[0mmax_step\u001b[0m\u001b[1;33m)\u001b[0m\u001b[1;33m\u001b[0m\u001b[1;33m\u001b[0m\u001b[0m\n\u001b[0;32m    192\u001b[0m         \u001b[0mself\u001b[0m\u001b[1;33m.\u001b[0m\u001b[0mrtol\u001b[0m\u001b[1;33m,\u001b[0m \u001b[0mself\u001b[0m\u001b[1;33m.\u001b[0m\u001b[0matol\u001b[0m \u001b[1;33m=\u001b[0m \u001b[0mvalidate_tol\u001b[0m\u001b[1;33m(\u001b[0m\u001b[0mrtol\u001b[0m\u001b[1;33m,\u001b[0m \u001b[0matol\u001b[0m\u001b[1;33m,\u001b[0m \u001b[0mself\u001b[0m\u001b[1;33m.\u001b[0m\u001b[0mn\u001b[0m\u001b[1;33m)\u001b[0m\u001b[1;33m\u001b[0m\u001b[1;33m\u001b[0m\u001b[0m\n\u001b[1;32m--> 193\u001b[1;33m         \u001b[0mf\u001b[0m \u001b[1;33m=\u001b[0m \u001b[0mself\u001b[0m\u001b[1;33m.\u001b[0m\u001b[0mfun\u001b[0m\u001b[1;33m(\u001b[0m\u001b[0mself\u001b[0m\u001b[1;33m.\u001b[0m\u001b[0mt\u001b[0m\u001b[1;33m,\u001b[0m \u001b[0mself\u001b[0m\u001b[1;33m.\u001b[0m\u001b[0my\u001b[0m\u001b[1;33m)\u001b[0m\u001b[1;33m\u001b[0m\u001b[1;33m\u001b[0m\u001b[0m\n\u001b[0m\u001b[0;32m    194\u001b[0m         \u001b[1;32mif\u001b[0m \u001b[0mfirst_step\u001b[0m \u001b[1;32mis\u001b[0m \u001b[1;32mNone\u001b[0m\u001b[1;33m:\u001b[0m\u001b[1;33m\u001b[0m\u001b[1;33m\u001b[0m\u001b[0m\n\u001b[0;32m    195\u001b[0m             self.h_abs = select_initial_step(self.fun, self.t, self.y, f,\n",
      "\u001b[1;32mc:\\users\\liujinbao\\miniconda3\\lib\\site-packages\\scipy\\integrate\\_ivp\\base.py\u001b[0m in \u001b[0;36mfun\u001b[1;34m(t, y)\u001b[0m\n\u001b[0;32m    137\u001b[0m         \u001b[1;32mdef\u001b[0m \u001b[0mfun\u001b[0m\u001b[1;33m(\u001b[0m\u001b[0mt\u001b[0m\u001b[1;33m,\u001b[0m \u001b[0my\u001b[0m\u001b[1;33m)\u001b[0m\u001b[1;33m:\u001b[0m\u001b[1;33m\u001b[0m\u001b[1;33m\u001b[0m\u001b[0m\n\u001b[0;32m    138\u001b[0m             \u001b[0mself\u001b[0m\u001b[1;33m.\u001b[0m\u001b[0mnfev\u001b[0m \u001b[1;33m+=\u001b[0m \u001b[1;36m1\u001b[0m\u001b[1;33m\u001b[0m\u001b[1;33m\u001b[0m\u001b[0m\n\u001b[1;32m--> 139\u001b[1;33m             \u001b[1;32mreturn\u001b[0m \u001b[0mself\u001b[0m\u001b[1;33m.\u001b[0m\u001b[0mfun_single\u001b[0m\u001b[1;33m(\u001b[0m\u001b[0mt\u001b[0m\u001b[1;33m,\u001b[0m \u001b[0my\u001b[0m\u001b[1;33m)\u001b[0m\u001b[1;33m\u001b[0m\u001b[1;33m\u001b[0m\u001b[0m\n\u001b[0m\u001b[0;32m    140\u001b[0m \u001b[1;33m\u001b[0m\u001b[0m\n\u001b[0;32m    141\u001b[0m         \u001b[0mself\u001b[0m\u001b[1;33m.\u001b[0m\u001b[0mfun\u001b[0m \u001b[1;33m=\u001b[0m \u001b[0mfun\u001b[0m\u001b[1;33m\u001b[0m\u001b[1;33m\u001b[0m\u001b[0m\n",
      "\u001b[1;32mc:\\users\\liujinbao\\miniconda3\\lib\\site-packages\\scipy\\integrate\\_ivp\\base.py\u001b[0m in \u001b[0;36mfun_wrapped\u001b[1;34m(t, y)\u001b[0m\n\u001b[0;32m     19\u001b[0m \u001b[1;33m\u001b[0m\u001b[0m\n\u001b[0;32m     20\u001b[0m     \u001b[1;32mdef\u001b[0m \u001b[0mfun_wrapped\u001b[0m\u001b[1;33m(\u001b[0m\u001b[0mt\u001b[0m\u001b[1;33m,\u001b[0m \u001b[0my\u001b[0m\u001b[1;33m)\u001b[0m\u001b[1;33m:\u001b[0m\u001b[1;33m\u001b[0m\u001b[1;33m\u001b[0m\u001b[0m\n\u001b[1;32m---> 21\u001b[1;33m         \u001b[1;32mreturn\u001b[0m \u001b[0mnp\u001b[0m\u001b[1;33m.\u001b[0m\u001b[0masarray\u001b[0m\u001b[1;33m(\u001b[0m\u001b[0mfun\u001b[0m\u001b[1;33m(\u001b[0m\u001b[0mt\u001b[0m\u001b[1;33m,\u001b[0m \u001b[0my\u001b[0m\u001b[1;33m)\u001b[0m\u001b[1;33m,\u001b[0m \u001b[0mdtype\u001b[0m\u001b[1;33m=\u001b[0m\u001b[0mdtype\u001b[0m\u001b[1;33m)\u001b[0m\u001b[1;33m\u001b[0m\u001b[1;33m\u001b[0m\u001b[0m\n\u001b[0m\u001b[0;32m     22\u001b[0m \u001b[1;33m\u001b[0m\u001b[0m\n\u001b[0;32m     23\u001b[0m     \u001b[1;32mreturn\u001b[0m \u001b[0mfun_wrapped\u001b[0m\u001b[1;33m,\u001b[0m \u001b[0my0\u001b[0m\u001b[1;33m\u001b[0m\u001b[1;33m\u001b[0m\u001b[0m\n",
      "\u001b[1;32m<ipython-input-16-0053206556b7>\u001b[0m in \u001b[0;36mdndt_all\u001b[1;34m(t, y)\u001b[0m\n\u001b[0;32m     22\u001b[0m     \u001b[0m_Tgas_K\u001b[0m \u001b[1;33m=\u001b[0m \u001b[0mTgas_func_slow_down\u001b[0m\u001b[1;33m(\u001b[0m\u001b[0mt\u001b[0m\u001b[1;33m,\u001b[0m \u001b[0mtime_end\u001b[0m\u001b[1;33m,\u001b[0m \u001b[0mtime_cold\u001b[0m\u001b[1;33m,\u001b[0m \u001b[0mTgas_0\u001b[0m\u001b[1;33m)\u001b[0m\u001b[1;33m\u001b[0m\u001b[1;33m\u001b[0m\u001b[0m\n\u001b[0;32m     23\u001b[0m     \u001b[0mprint\u001b[0m\u001b[1;33m(\u001b[0m\u001b[1;34mf\"t = {t:.6e} s    Tgas_K: {_Tgas_K:.0f} K, H2: {y[0]:.1e} CO2: {y[15]:.1e}\"\u001b[0m\u001b[1;33m)\u001b[0m\u001b[1;33m\u001b[0m\u001b[1;33m\u001b[0m\u001b[0m\n\u001b[1;32m---> 24\u001b[1;33m     \u001b[0mdydt\u001b[0m \u001b[1;33m=\u001b[0m \u001b[0mdndt_cros\u001b[0m\u001b[1;33m(\u001b[0m\u001b[0mt\u001b[0m\u001b[1;33m,\u001b[0m \u001b[0my\u001b[0m\u001b[1;33m,\u001b[0m \u001b[0m_e_density\u001b[0m\u001b[1;33m)\u001b[0m \u001b[1;33m+\u001b[0m \u001b[0mdndt_coef\u001b[0m\u001b[1;33m(\u001b[0m\u001b[0mt\u001b[0m\u001b[1;33m,\u001b[0m \u001b[0my\u001b[0m\u001b[1;33m,\u001b[0m \u001b[0m_e_density\u001b[0m\u001b[1;33m,\u001b[0m \u001b[0m_Tgas_K\u001b[0m\u001b[1;33m)\u001b[0m\u001b[1;33m\u001b[0m\u001b[1;33m\u001b[0m\u001b[0m\n\u001b[0m\u001b[0;32m     25\u001b[0m     \u001b[1;32mreturn\u001b[0m \u001b[0mdydt\u001b[0m\u001b[1;33m[\u001b[0m\u001b[1;36m1\u001b[0m\u001b[1;33m:\u001b[0m\u001b[1;33m]\u001b[0m\u001b[1;33m\u001b[0m\u001b[1;33m\u001b[0m\u001b[0m\n\u001b[0;32m     26\u001b[0m \u001b[1;33m\u001b[0m\u001b[0m\n",
      "\u001b[1;32m<ipython-input-16-0053206556b7>\u001b[0m in \u001b[0;36mdndt_coef\u001b[1;34m(t, density_without_e, _electron_density, Tgas_K)\u001b[0m\n\u001b[0;32m      9\u001b[0m \u001b[1;32mdef\u001b[0m \u001b[0mdndt_coef\u001b[0m\u001b[1;33m(\u001b[0m\u001b[0mt\u001b[0m\u001b[1;33m,\u001b[0m \u001b[0mdensity_without_e\u001b[0m\u001b[1;33m,\u001b[0m \u001b[0m_electron_density\u001b[0m\u001b[1;33m,\u001b[0m \u001b[0mTgas_K\u001b[0m\u001b[1;33m)\u001b[0m\u001b[1;33m:\u001b[0m\u001b[1;33m\u001b[0m\u001b[1;33m\u001b[0m\u001b[0m\n\u001b[0;32m     10\u001b[0m     \u001b[0m_instance\u001b[0m \u001b[1;33m=\u001b[0m \u001b[0mrctn_instances\u001b[0m\u001b[1;33m[\u001b[0m\u001b[1;34m'coef reactions'\u001b[0m\u001b[1;33m]\u001b[0m\u001b[1;33m\u001b[0m\u001b[1;33m\u001b[0m\u001b[0m\n\u001b[1;32m---> 11\u001b[1;33m     \u001b[0m_instance\u001b[0m\u001b[1;33m.\u001b[0m\u001b[0mset_rate_const\u001b[0m\u001b[1;33m(\u001b[0m\u001b[0mTgas_K\u001b[0m\u001b[1;33m=\u001b[0m\u001b[0mTgas_K\u001b[0m\u001b[1;33m)\u001b[0m\u001b[1;33m\u001b[0m\u001b[1;33m\u001b[0m\u001b[0m\n\u001b[0m\u001b[0;32m     12\u001b[0m     _instance.set_rate(\n\u001b[0;32m     13\u001b[0m         density=np.hstack([_electron_density, density_without_e]))\n",
      "\u001b[1;32m~\\Documents\\Code\\PlasmaChemistry\\plasmistry\\reactions\\reaction_class.py\u001b[0m in \u001b[0;36mset_rate_const\u001b[1;34m(self, Tgas_K, Te_eV, EN_Td)\u001b[0m\n\u001b[0;32m    770\u001b[0m         self.rate_const = np.array(eval(self.k_str_compiled,\n\u001b[0;32m    771\u001b[0m                                         \u001b[0mself\u001b[0m\u001b[1;33m.\u001b[0m\u001b[0m_operator_in_kstr\u001b[0m\u001b[1;33m,\u001b[0m\u001b[1;33m\u001b[0m\u001b[1;33m\u001b[0m\u001b[0m\n\u001b[1;32m--> 772\u001b[1;33m                                         self.mid_variables), dtype=np.float64)\n\u001b[0m\u001b[0;32m    773\u001b[0m         \u001b[1;31m# -------------------------------------------------------------------- #\u001b[0m\u001b[1;33m\u001b[0m\u001b[1;33m\u001b[0m\u001b[1;33m\u001b[0m\u001b[0m\n\u001b[0;32m    774\u001b[0m         \u001b[1;31m# self.rate_const_instance.set_density(density)\u001b[0m\u001b[1;33m\u001b[0m\u001b[1;33m\u001b[0m\u001b[1;33m\u001b[0m\u001b[0m\n",
      "\u001b[1;32m<string>\u001b[0m in \u001b[0;36m<module>\u001b[1;34m\u001b[0m\n",
      "\u001b[1;31mNameError\u001b[0m: name 'LT' is not defined"
     ]
    }
   ],
   "source": [
    "sol = solve_ivp(\n",
    "    dndt_all,\n",
    "    [float(_.strip()) for _ in _widgets['time_span'].value.split(',')],\n",
    "    density_without_e_0,\n",
    "    method='BDF',\n",
    "    atol=float(_widgets['atol'].value),\n",
    "    rtol=float(_widgets['rtol'].value))\n",
    "print(\"Solve Done!\")"
   ]
  },
  {
   "cell_type": "markdown",
   "metadata": {},
   "source": [
    "# Plot results"
   ]
  },
  {
   "cell_type": "markdown",
   "metadata": {},
   "source": [
    "fig, ax = plt.subplots()\n",
    "_Tgas = [Tgas_func_slow_down(_, 1e-3, 2e-3, Tgas_0) for _ in sol.t]\n",
    "_e_density = [electron_density_func(_, 1e-3, ne_0) for _ in sol.t]\n",
    "ax.semilogx(sol.t, _Tgas, marker='.')\n",
    "ax_right = ax.twinx()\n",
    "ax_right.plot(sol.t, _e_density, marker='.', color='red')"
   ]
  },
  {
   "cell_type": "code",
   "execution_count": null,
   "metadata": {},
   "outputs": [],
   "source": [
    "_CO2_group = ['CO2'] + [f\"CO2(v{_})\" for _ in range(1, 22)]\n",
    "_CO2_group_all = _CO2_group + ['CO2(va)', 'CO2(vb)', 'CO2(vc)', 'CO2(vd)']\n",
    "_H2_group = ['H2'] + [f\"H2(v{_})\" for _ in range(1, 15)]\n",
    "_CO_group = ['CO'] + [f\"CO(v{_})\" for _ in range(1, 11)]\n",
    "density_result = np.vstack(\n",
    "    [[electron_density_func(_, time_end, ne_0) for _ in sol.t], sol.y])\n",
    "density_result_df = pd.DataFrame(\n",
    "    density_result, index=rctn_instances['cros reactions'].species)\n",
    "densities = dict()"
   ]
  },
  {
   "cell_type": "code",
   "execution_count": null,
   "metadata": {},
   "outputs": [],
   "source": [
    "# ---------------------------------------------------------------------------- #\n",
    "#   Plot CO2 vdf\n",
    "# ---------------------------------------------------------------------------- #\n",
    "%matplotlib inline\n",
    "fig, ax = plt.subplots()\n",
    "for _ in ['CO2'] + [f\"CO2(v{_})\" for _ in range(1,22)]:\n",
    "    # for _ in ['CO2_total', 'CO', 'O2', 'O']:\n",
    "    if _ == 'CO2_total':\n",
    "        densities[_] = density_result_df.loc[_CO2_group, :].sum().values\n",
    "    elif _ == 'H2_total':\n",
    "        densities[_] = density_result_df.loc[_H2_group, :].sum().values\n",
    "    elif _ == 'CO_total':\n",
    "        densities[_] = density_result_df.loc[_CO_group, :].sum().values\n",
    "    else:\n",
    "        densities[_] = density_result[rctn_instances['cros reactions'].species\n",
    "                                      == _].transpose()\n",
    "    ax.semilogx(sol.t, densities[_], marker='.', label=_)\n",
    "    # ax.loglog(sol.t, densities[_], marker='.', label=_)\n",
    "ax.axvline(time_end, color='gray', linestyle='-.')\n",
    "ax.set_xlabel('time (s)')\n",
    "ax.set_ylabel('density (m^-3)')\n",
    "fig.legend(loc='upper right', fontsize='small')"
   ]
  },
  {
   "cell_type": "code",
   "execution_count": null,
   "metadata": {
    "scrolled": true
   },
   "outputs": [],
   "source": [
    "density_result_df.loc[_CO2_group_all,:]"
   ]
  },
  {
   "cell_type": "code",
   "execution_count": null,
   "metadata": {},
   "outputs": [],
   "source": [
    "CO2_normal_vdf = (density_result_df.loc[_CO2_group_all,:].values/density_result_df.loc['CO2',:].values).transpose()\n",
    "CO2_normal_vdf.shape\n",
    "sol.t.transpose().shape"
   ]
  },
  {
   "cell_type": "code",
   "execution_count": null,
   "metadata": {},
   "outputs": [],
   "source": [
    "np.savetxt('_output/CO2_vdf.txt', np.vstack((sol.t,CO2_normal_vdf.transpose())).transpose())"
   ]
  },
  {
   "cell_type": "code",
   "execution_count": null,
   "metadata": {},
   "outputs": [],
   "source": [
    "for _ in sol.t:\n",
    "#     print(_, end=' ')\n",
    "    print(Tgas_func_slow_down(_, time_end, time_end+4e-3, Tgas_0))\n",
    "#     print(electron_density_func(_, time_end, 1e20))"
   ]
  },
  {
   "cell_type": "markdown",
   "metadata": {},
   "source": [
    "## reaction info"
   ]
  },
  {
   "cell_type": "code",
   "execution_count": null,
   "metadata": {},
   "outputs": [],
   "source": [
    "print(H2_percent)\n",
    "print(H2_percent/(1-H2_percent))\n",
    "print(\"H O OH\")\n",
    "print(\n",
    "    f\"{density_result_df.loc['H'].max():.1e} {density_result_df.loc['O'].max():.1e} {density_result_df.loc['OH'].max():.1e} \"\n",
    ")\n",
    "print(f\"CO max: {density_result_df.loc[_CO_group, :].sum().values.max():.3e}\")\n",
    "print(f\"CO output: {density_result_df.loc['CO'].values[-1]:.1e}\")"
   ]
  },
  {
   "cell_type": "code",
   "execution_count": null,
   "metadata": {},
   "outputs": [],
   "source": [
    "density_result_df.loc[_CO_group, :].sum().values[-1]"
   ]
  },
  {
   "cell_type": "code",
   "execution_count": null,
   "metadata": {},
   "outputs": [],
   "source": [
    "density_result_df.loc[_CO_group, :].sum().values.max()"
   ]
  },
  {
   "cell_type": "code",
   "execution_count": null,
   "metadata": {},
   "outputs": [],
   "source": [
    "plt.semilogx(sol.t, density_result_df.loc['CO2(all)'])\n",
    "plt.semilogx(sol.t, density_result_df.loc[_CO2_group_all].sum())"
   ]
  },
  {
   "cell_type": "markdown",
   "metadata": {},
   "source": [
    "## show vdf"
   ]
  },
  {
   "cell_type": "code",
   "execution_count": null,
   "metadata": {},
   "outputs": [],
   "source": [
    "# _widgets['plot_vdf'] = widgets.FloatLogSlider(value=sol.t[1], min=sol.t[1], max=sol.t[-1],step=1)\n",
    "_widgets['plot_vdf'] = widgets.FloatLogSlider(value=math.log10(sol.t[1]),\n",
    "                                              min=math.log10(sol.t[1]),\n",
    "                                              max=math.log10(sol.t[-1]),\n",
    "                                              step=0.0001,\n",
    "                                              description='Time (s):')\n",
    "\n",
    "_widgets['output_rctn'] = widgets.Output(layout={\n",
    "    'border': '2px solid blue',\n",
    "    'width': '80%',\n",
    "    'height': '350px'\n",
    "})\n",
    "\n",
    "display(_widgets['output_rctn'])\n",
    "display(_widgets['plot_vdf'])\n",
    "_df_show_vdf = pd.Series(index=rctn_instances['cros reactions'].species)\n",
    "\n",
    "_interp_result = interp1d(sol.t, density_result)\n",
    "\n",
    "\n",
    "def get_CO2_vdf_at_time(_t):\n",
    "    return pd.Series(\n",
    "        _interp_result(_t),\n",
    "        index=rctn_instances['cros reactions'].species)[_CO2_group].values\n",
    "\n",
    "\n",
    "def get_H2_vdf_at_time(_t):\n",
    "    return pd.Series(\n",
    "        _interp_result(_t),\n",
    "        index=rctn_instances['cros reactions'].species)[_H2_group].values\n",
    "\n",
    "# ---------------------------------------------------------------------------- #\n",
    "#   plot main molecule\n",
    "# ---------------------------------------------------------------------------- #\n",
    "fig, ax = plt.subplots()\n",
    "output_evolution = [sol.t]\n",
    "for _ in ['CO2_total', 'H2_total', 'CO_total', 'H2O', 'O2', 'H', 'O', 'OH', 'C']:\n",
    "    # for _ in ['CO2_total', 'CO', 'O2', 'O']:\n",
    "    if _ == 'CO2_total':\n",
    "        densities[_] = density_result_df.loc[_CO2_group_all, :].sum().values\n",
    "    elif _ == 'H2_total':\n",
    "        densities[_] = density_result_df.loc[_H2_group, :].sum().values\n",
    "    elif _ == 'CO_total':\n",
    "        densities[_] = density_result_df.loc[_CO_group, :].sum().values\n",
    "    else:\n",
    "        densities[_] = density_result[rctn_instances['cros reactions'].species\n",
    "                                      == _][0]\n",
    "    line_species, = ax.semilogx(sol.t, densities[_], marker='.', label=_)\n",
    "    output_evolution.append(densities[_])\n",
    "    # ax.loglog(sol.t, densities[_], marker='.', label=_)\n",
    "vline_time_end = ax.axvline(time_end, color='gray', linestyle='-')\n",
    "vline = ax.axvline(time_end, color='black', linestyle='-.')\n",
    "ax.set_xlabel('time (s)')\n",
    "ax.set_ylabel('density (m^-3)')\n",
    "fig.legend(loc='upper right', fontsize='small')\n",
    "# ---------------------------------------------------------------------------- #\n",
    "#   plot the vdf\n",
    "# ---------------------------------------------------------------------------- #\n",
    "fig, ax = plt.subplots()\n",
    "line_CO2_vdf, = ax.semilogy(list(range(22)), get_CO2_vdf_at_time(0), marker='.',label='CO2')\n",
    "line_H2_vdf, = ax.semilogy(list(range(15)), get_H2_vdf_at_time(0), marker='.', label='H2')\n",
    "# ax.set_title('CO2 density vs. v')\n",
    "ax.set_xlabel('vibrational number')\n",
    "ax.set_ylabel('density (m^-3)')\n",
    "fig.legend(loc='upper right')\n",
    "# ax.set_title('H2 density vs. v')\n",
    "# ax.set_xlabel('H2_vdf')\n",
    "# ax.set_ylabel('density')\n",
    "\n",
    "\n",
    "def plot_CO2_vdf(change):\n",
    "    _t = change['new']\n",
    "    _ydata = get_CO2_vdf_at_time(_t)\n",
    "    line_CO2_vdf.set_ydata(_ydata)\n",
    "    ax.set_ylim(_ydata.max()*1e-30, _ydata.max())\n",
    "\n",
    "\n",
    "def plot_H2_vdf(change):\n",
    "    _t = change['new']\n",
    "    line_H2_vdf.set_ydata(get_H2_vdf_at_time(_t))\n",
    "\n",
    "def CO2_consume_regexp_match(_str):\n",
    "    rcnt, prdt = _str.split('=>')\n",
    "    if rcnt.count('CO2') > prdt.count('CO2'):\n",
    "        return True\n",
    "    else:\n",
    "        return False\n",
    "\n",
    "def CO2_produce_regexp_match(_str):\n",
    "    rcnt, prdt = _str.split('=>')\n",
    "    if rcnt.count('CO2') < prdt.count('CO2'):\n",
    "        return True\n",
    "    else:\n",
    "        return False\n",
    "    \n",
    "def show_top_reactions(change):\n",
    "    # _formula_regexp = \"(.*\\s+)?O\\s+.*=>.*\"\n",
    "    regexp_match = CO2_produce_regexp_match\n",
    "    _t = change['new']\n",
    "    _Tgas = Tgas_func_slow_down(_t, time_end, time_cold, Tgas_0)\n",
    "    rctn_instances['coef reactions'].set_rate_const(Tgas_K=_Tgas)\n",
    "    rctn_instances['coef reactions'].set_rate(density=_interp_result(_t))\n",
    "    rctn_instances['cros reactions'].set_rate(density=_interp_result(_t))\n",
    "    _df_coef = rctn_instances['coef reactions'].view_rate_const_and_rate()\n",
    "    _df_cros = rctn_instances['cros reactions'].view_rate_const_and_rate()\n",
    "    # _df_coef = _df_coef[_df_coef['formula'].map(CO2_consume_regexp_match)]\n",
    "    # _df = _df[_df['formula'].str.match(_formula_regexp)]\n",
    "    \n",
    "    # _df_cros = _df_cros[_df_cros['formula'].map(CO2_consume_regexp_match)]\n",
    "    _df = pd.concat([_df_cros, _df_coef], ignore_index=True)\n",
    "    \n",
    "    _df = _df[_df['formula'].map(regexp_match)]\n",
    "    _df = _df.sort_values(by='rate', ascending=False)\n",
    "    _widgets['output_rctn'].clear_output()\n",
    "    vline.set_xdata(_t)\n",
    "    with _widgets['output_rctn']:\n",
    "        print(_df.head(n=20))\n",
    "    \n",
    "_widgets['plot_vdf'].observe(plot_CO2_vdf, names='value')\n",
    "_widgets['plot_vdf'].observe(plot_H2_vdf, names='value')\n",
    "_widgets['plot_vdf'].observe(show_top_reactions, names='value')"
   ]
  },
  {
   "cell_type": "code",
   "execution_count": null,
   "metadata": {},
   "outputs": [],
   "source": [
    "# _formula_regexp = \"(.*\\s+)?O\\s+.*=>.*\"\n",
    "# regexp_match = CO2_produce_regexp_match\n",
    "_rate_consume_total = []\n",
    "_rate_produce_total = []\n",
    "_electron_energy_loss = []\n",
    "for i, _t in enumerate(sol.t):\n",
    "    print(i)\n",
    "    _Tgas = Tgas_func_slow_down(_t, time_end, time_cold, Tgas_0)\n",
    "    rctn_instances['coef reactions'].set_rate_const(Tgas_K=_Tgas)\n",
    "    rctn_instances['coef reactions'].set_rate(density=_interp_result(_t))\n",
    "    rctn_instances['cros reactions'].set_rate(density=_interp_result(_t))\n",
    "    _df_coef = rctn_instances['coef reactions'].view_rate_const_and_rate()\n",
    "    \n",
    "    _df_cros = rctn_instances['cros reactions'].view_rate_const_and_rate()\n",
    "    _electron_energy_loss.append((rctn_instances[\"cros reactions\"].dH_e * rctn_instances[\"cros reactions\"].rate).tolist())\n",
    "    # _df_cros[\"dH_e_rate_const\"] = rctn_instances[\"cros reactions\"].get_dH_e()\n",
    "    # _df_coef = _df_coef[_df_coef['formula'].map(CO2_consume_regexp_match)]\n",
    "    # _df = _df[_df['formula'].str.match(_formula_regexp)]\n",
    "\n",
    "    # _df_cros = _df_cros[_df_cros['formula'].map(CO2_consume_regexp_match)]\n",
    "    _df = pd.concat([_df_cros, _df_coef], ignore_index=True)\n",
    "\n",
    "    _rate_consume = [\n",
    "        _df[_df['formula'].str.match(r\"E \\+ CO2.* => E \\+ CO \\+ O\")]\n",
    "        ['rate'].sum(), _df[_df['formula'].str.match(\n",
    "            r\"CO2.* \\+ \\S* => CO \\+ O \\S*\")]['rate'].sum(),\n",
    "        _df[_df['formula'].str.match(r\"CO2.* \\+ H => CO \\+ OH\")]['rate'].sum(),\n",
    "        _df[_df['formula'].str.match(r\"CO2.* \\+ O => CO \\+ O2\")]['rate'].sum()\n",
    "    ]\n",
    "    _rate_produce = [_df[_df['formula'].str.match(r\"CO \\+ O .* => CO2.* \\+ .*\")]['rate'].sum(),\n",
    "                     _df[_df['formula'].str.match(r\"CO \\+ OH => CO2.* \\+ H\")]['rate'].sum(),\n",
    "                     _df[_df['formula'].str.match(r\"CO \\+ O2 => CO2.* \\+ O\")]['rate'].sum()\n",
    "    ]\n",
    "    _rate_consume_total.append(_rate_consume)\n",
    "    _rate_produce_total.append(_rate_produce)\n",
    "\n",
    "    # _df = _df[_df['formula'].map(regexp_match)]\n",
    "_rate_consume_total = np.array(_rate_consume_total)\n",
    "_rate_produce_total = np.array(_rate_produce_total)\n",
    "_electron_energy_loss = np.array(_electron_energy_loss).transpose()"
   ]
  },
  {
   "cell_type": "code",
   "execution_count": null,
   "metadata": {
    "scrolled": true
   },
   "outputs": [],
   "source": [
    "_electron_energy_loss_vib_exc = _electron_energy_loss[0:78,:].sum(axis=0) + _electron_energy_loss[92:398,:].sum(axis=0) + \\\n",
    "_electron_energy_loss[424:478,:].sum(axis=0)\n",
    "_electron_energy_loss_dis_exc = _electron_energy_loss.sum(axis=0)-_electron_energy_loss_vib_exc"
   ]
  },
  {
   "cell_type": "code",
   "execution_count": null,
   "metadata": {},
   "outputs": [],
   "source": [
    "for i, _ in enumerate(sol.t):\n",
    "    print(_ ,end=' ')\n",
    "    print(_electron_energy_loss_vib_exc[i], end=' ')\n",
    "    print(_electron_energy_loss_dis_exc[i])"
   ]
  },
  {
   "cell_type": "code",
   "execution_count": null,
   "metadata": {},
   "outputs": [],
   "source": [
    "_electron_energy_loss_dis_exc.shape"
   ]
  },
  {
   "cell_type": "code",
   "execution_count": null,
   "metadata": {},
   "outputs": [],
   "source": [
    "for i, _ in enumerate(rctn_instances[\"cros reactions\"].product):\n",
    "    if _.count(\"+\") == 1:\n",
    "        print(i,end=' ')\n",
    "        print(_)"
   ]
  },
  {
   "cell_type": "code",
   "execution_count": null,
   "metadata": {},
   "outputs": [],
   "source": [
    "\"+\".count(\"+\")"
   ]
  },
  {
   "cell_type": "code",
   "execution_count": null,
   "metadata": {},
   "outputs": [],
   "source": [
    "%matplotlib inline\n",
    "fig, ax = plt.subplots()\n",
    "ax.loglog(sol.t, _rate_consume_total)"
   ]
  },
  {
   "cell_type": "code",
   "execution_count": null,
   "metadata": {},
   "outputs": [],
   "source": [
    "from scipy.integrate import trapz"
   ]
  },
  {
   "cell_type": "code",
   "execution_count": null,
   "metadata": {},
   "outputs": [],
   "source": [
    "output_produce = trapz(_rate_produce_total.transpose(), x=sol.t)\n",
    "for _ in output_produce:\n",
    "    print(f\"{_:.9e}\")"
   ]
  },
  {
   "cell_type": "code",
   "execution_count": null,
   "metadata": {},
   "outputs": [],
   "source": [
    "output_consume = trapz(_rate_consume_total.transpose(),x=sol.t)\n",
    "for _ in output_consume:\n",
    "    print(f\"{_:.9e}\")"
   ]
  },
  {
   "cell_type": "code",
   "execution_count": null,
   "metadata": {},
   "outputs": [],
   "source": [
    "print(f\"{output_consume[0]:.9e}\")\n",
    "print(f\"{output_consume[1]-output_produce[0]:.9e}\")\n",
    "print(f\"{output_consume[2]-output_produce[1]:.9e}\")\n",
    "print(f\"{output_consume[3]-output_produce[2]:.9e}\")\n",
    "print(f\"{output_consume.sum()-output_produce.sum():.9e}\")"
   ]
  },
  {
   "cell_type": "code",
   "execution_count": null,
   "metadata": {},
   "outputs": [],
   "source": [
    "output_consume.sum()"
   ]
  },
  {
   "cell_type": "code",
   "execution_count": null,
   "metadata": {},
   "outputs": [],
   "source": [
    "%matplotlib inline\n",
    "fig, ax = plt.subplots()\n",
    "ax.loglog(sol.t, _rate_produce_total)"
   ]
  },
  {
   "cell_type": "code",
   "execution_count": null,
   "metadata": {},
   "outputs": [],
   "source": [
    "_df[_df['formula'].str.match(r\"CO2.* \\+ \\S* => CO \\+ O \\S*\")]"
   ]
  },
  {
   "cell_type": "code",
   "execution_count": null,
   "metadata": {},
   "outputs": [],
   "source": [
    "_df[_df['formula'].str.match(r\"CO2.* \\+ H => CO \\+ OH\")]['rate'].sum()"
   ]
  },
  {
   "cell_type": "code",
   "execution_count": null,
   "metadata": {},
   "outputs": [],
   "source": [
    "_df[_df['formula'].str.match(r\"CO2.* \\+ O => CO \\+ O2\")]"
   ]
  },
  {
   "cell_type": "code",
   "execution_count": null,
   "metadata": {},
   "outputs": [],
   "source": [
    "_df[_df['formula'].str.match(r\"E \\+ CO2.* => E \\+ CO \\+ O\")]"
   ]
  },
  {
   "cell_type": "code",
   "execution_count": null,
   "metadata": {},
   "outputs": [],
   "source": [
    "_df[_df['formula'].str.match(r\"CO2.* \\+ \\S* => CO \\+ O \\S*\")]['rate'].sum()"
   ]
  },
  {
   "cell_type": "code",
   "execution_count": null,
   "metadata": {},
   "outputs": [],
   "source": [
    "np.savetxt('output_evolution.dat', np.array(output_evolution).transpose())"
   ]
  },
  {
   "cell_type": "code",
   "execution_count": null,
   "metadata": {},
   "outputs": [],
   "source": [
    "np.savetxt('output_CO2_vdf.dat', np.array(line_CO2_vdf.get_data()).transpose())\n",
    "np.savetxt('output_H2_vdf.dat', np.array(line_H2_vdf.get_data()).transpose())"
   ]
  },
  {
   "cell_type": "code",
   "execution_count": null,
   "metadata": {},
   "outputs": [],
   "source": [
    "np.array(line_CO2_vdf.get_data()).transpose()"
   ]
  },
  {
   "cell_type": "code",
   "execution_count": null,
   "metadata": {},
   "outputs": [],
   "source": [
    "# ---------------------------------------------------------------------------- #\n",
    "#   choose the time\n",
    "# ---------------------------------------------------------------------------- #\n",
    "t_chosen = 0.9e-3\n",
    "# ---------------------------------------------------------------------------- #\n",
    "_t_index_chosen = np.argmin(np.abs(sol.t - t_chosen))\n",
    "rctn_instances['cros reactions'].set_rate(\n",
    "    density=density_result[:, _t_index_chosen])\n",
    "_df = rctn_instances['cros reactions'].view_rate_const_and_rate().sort_values(\n",
    "    by='rate', ascending=False)\n",
    "\n",
    "\n",
    "def _match(x):\n",
    "    if re.match('.*H2.*=>.*H [+] H|.*CO2.*=>.*CO [+] O', x):\n",
    "        return True\n",
    "    else:\n",
    "        return False\n",
    "\n",
    "\n",
    "_df.loc[_df['formula'].map(_match)]"
   ]
  },
  {
   "cell_type": "code",
   "execution_count": null,
   "metadata": {},
   "outputs": [],
   "source": [
    "rctn_instances['coef reactions'].set_rate_const(Tgas_K=3000,\n",
    "                                                EN_Td=1.0,\n",
    "                                                Te_eV=Te_eV)\n",
    "rctn_instances['coef reactions'].set_rate(\n",
    "    density=density_result[:, _t_index_chosen])\n",
    "_df = rctn_instances['coef reactions'].view_rate_const_and_rate().sort_values(\n",
    "    by='rate_const', ascending=False)\n",
    "\n",
    "\n",
    "def _match(x):\n",
    "    if re.match('H.*[+]\\s*H\\s*=>.*', x):\n",
    "        return True\n",
    "    else:\n",
    "        return False\n",
    "\n",
    "\n",
    "_df.loc[_df['formula'].map(_match)]"
   ]
  },
  {
   "cell_type": "code",
   "execution_count": null,
   "metadata": {},
   "outputs": [],
   "source": [
    "rctn_instances['coef reactions'].mid_variables"
   ]
  },
  {
   "cell_type": "markdown",
   "metadata": {},
   "source": [
    "## Species info"
   ]
  },
  {
   "cell_type": "code",
   "execution_count": null,
   "metadata": {},
   "outputs": [],
   "source": [
    "print(f\"H2 percent: {H2_percent}\")\n",
    "print(f\"time end:{time_end}\")\n",
    "# print(f\"O:  {rctn_instances['electron reactions'].view_density(sol.y[:,-1]).loc['O', 'density']:.2e}\")\n",
    "# print(f\"H:  {rctn_instances['electron reactions'].view_density(sol.y[:,-1]).loc['H', 'density']:.2e}\")\n",
    "# print(f\"OH: {rctn_instances['electron reactions'].view_density(sol.y[:,-1]).loc['OH', 'density']:.2e}\")\n",
    "##########\n",
    "# max density\n",
    "print('H  O  OH  CO Tvib(CO2) Tvib(H2)')\n",
    "print(f\"{sol.y[rctn_instances['electron reactions'].species=='H'].max(): .2e}\",\n",
    "      end=' ')\n",
    "print(f\"{sol.y[rctn_instances['electron reactions'].species=='O'].max(): .2e}\",\n",
    "      end=' ')\n",
    "print(f\"{sol.y[rctn_instances['electron reactions'].species=='OH'].max():.2e}\",\n",
    "      end=' ')\n",
    "_df = rctn_instances['electron reactions'].view_density(sol.y[:, -1])\n",
    "Tv_CO2 = -3380 / np.log(\n",
    "    _df.loc['CO2(v1)', 'density'] / _df.loc['CO2', 'density'])\n",
    "Tv_H2 = -5983 / np.log(_df.loc['H2(v1)', 'density'] / _df.loc['H2', 'density'])\n",
    "print(f\"{Tv_CO2:.0f}\", end=' ')\n",
    "print(f\"{Tv_H2:.0f}\", end=' ')"
   ]
  },
  {
   "cell_type": "code",
   "execution_count": null,
   "metadata": {},
   "outputs": [],
   "source": [
    "sol.y[rctn_instances['electron reactions'].species == 'H'].max()"
   ]
  },
  {
   "cell_type": "code",
   "execution_count": null,
   "metadata": {},
   "outputs": [],
   "source": [
    "# plot CO2 vdf\n",
    "\n",
    "x = ['CO2'] + [f'CO2(v{v})' for v in range(1, 22)]\n",
    "y = [_df.loc[_, 'density'] for _ in x]\n",
    "plt.semilogy(range(22), y, marker='.')"
   ]
  },
  {
   "cell_type": "code",
   "execution_count": null,
   "metadata": {},
   "outputs": [],
   "source": [
    "Tv_CO2 = -3380 / np.log(\n",
    "    _df.loc['CO2(v1)', 'density'] / _df.loc['CO2', 'density'])\n",
    "Tv_H2 = -5983 / np.log(_df.loc['H2(v1)', 'density'] / _df.loc['H2', 'density'])\n",
    "print(f\"Tvib(CO2): {Tv_CO2:.0f} K\")\n",
    "print(f\"Tvib(H2): {Tv_H2:.0f} K\")"
   ]
  },
  {
   "cell_type": "code",
   "execution_count": null,
   "metadata": {},
   "outputs": [],
   "source": []
  },
  {
   "cell_type": "code",
   "execution_count": null,
   "metadata": {},
   "outputs": [],
   "source": []
  },
  {
   "cell_type": "code",
   "execution_count": null,
   "metadata": {},
   "outputs": [],
   "source": []
  }
 ],
 "metadata": {
  "hide_input": false,
  "kernelspec": {
   "display_name": "Python 3",
   "language": "python",
   "name": "python3"
  },
  "language_info": {
   "codemirror_mode": {
    "name": "ipython",
    "version": 3
   },
   "file_extension": ".py",
   "mimetype": "text/x-python",
   "name": "python",
   "nbconvert_exporter": "python",
   "pygments_lexer": "ipython3",
   "version": "3.7.4"
  },
  "toc": {
   "base_numbering": 1,
   "nav_menu": {
    "height": "312px",
    "width": "341px"
   },
   "number_sections": true,
   "sideBar": false,
   "skip_h1_title": false,
   "title_cell": "Table of Contents",
   "title_sidebar": "Contents",
   "toc_cell": false,
   "toc_position": {
    "height": "274.367px",
    "left": "1250.07px",
    "top": "165.6px",
    "width": "316.083px"
   },
   "toc_section_display": true,
   "toc_window_display": true
  },
  "varInspector": {
   "cols": {
    "lenName": 16,
    "lenType": 16,
    "lenVar": 40
   },
   "kernels_config": {
    "python": {
     "delete_cmd_postfix": "",
     "delete_cmd_prefix": "del ",
     "library": "var_list.py",
     "varRefreshCmd": "print(var_dic_list())"
    },
    "r": {
     "delete_cmd_postfix": ") ",
     "delete_cmd_prefix": "rm(",
     "library": "var_list.r",
     "varRefreshCmd": "cat(var_dic_list()) "
    }
   },
   "oldHeight": 548,
   "position": {
    "height": "152px",
    "left": "839px",
    "right": "20px",
    "top": "271px",
    "width": "250px"
   },
   "types_to_exclude": [
    "module",
    "function",
    "builtin_function_or_method",
    "instance",
    "_Feature"
   ],
   "varInspector_section_display": "none",
   "window_display": false
  }
 },
 "nbformat": 4,
 "nbformat_minor": 2
}
