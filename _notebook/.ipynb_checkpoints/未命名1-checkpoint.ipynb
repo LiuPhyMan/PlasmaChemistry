{
 "cells": [
  {
   "cell_type": "markdown",
   "metadata": {},
   "source": [
    "# Load package"
   ]
  },
  {
   "cell_type": "code",
   "execution_count": 1,
   "metadata": {
    "deletable": false,
    "run_control": {
     "marked": false
    }
   },
   "outputs": [
    {
     "name": "stdout",
     "output_type": "stream",
     "text": [
      "E:\\Coding\\PlasmaChemistry\n"
     ]
    }
   ],
   "source": [
    "%cd .."
   ]
  },
  {
   "cell_type": "code",
   "execution_count": 2,
   "metadata": {
    "deletable": false,
    "run_control": {
     "marked": false
    }
   },
   "outputs": [],
   "source": [
    "import os\n",
    "import numpy as np\n",
    "import pandas as pd\n",
    "from matplotlib import pyplot as plt"
   ]
  },
  {
   "cell_type": "code",
   "execution_count": 3,
   "metadata": {
    "deletable": false,
    "run_control": {
     "marked": false
    }
   },
   "outputs": [],
   "source": [
    "from ipywidgets import interact, interactive, fixed, interact_manual\n",
    "from ipywidgets import Layout\n",
    "from IPython.display import display\n",
    "import ipywidgets as widgets"
   ]
  },
  {
   "cell_type": "code",
   "execution_count": 4,
   "metadata": {
    "deletable": false,
    "run_control": {
     "marked": false
    }
   },
   "outputs": [],
   "source": [
    "from plasmistry.molecule import (H2_vib_group, CO_vib_group, CO2_vib_group)\n",
    "from plasmistry.molecule import (H2_vib_energy_in_eV, H2_vib_energy_in_K,\n",
    "                                 CO2_vib_energy_in_eV, CO2_vib_energy_in_K,\n",
    "                                 CO_vib_energy_in_eV, CO_vib_energy_in_K)\n",
    "from plasmistry.io import (LT_constructor, Arr_constructor, eval_constructor,\n",
    "                           Cros_Reaction_block, Coef_Reaction_block)"
   ]
  },
  {
   "cell_type": "code",
   "execution_count": 5,
   "metadata": {
    "deletable": false,
    "run_control": {
     "marked": false
    }
   },
   "outputs": [],
   "source": [
    "import yaml\n",
    "yaml.add_constructor(u\"!eval\", eval_constructor)\n",
    "yaml.add_constructor(u\"!LT\", LT_constructor)\n",
    "yaml.add_constructor(u\"!Arr\", Arr_constructor)"
   ]
  },
  {
   "cell_type": "markdown",
   "metadata": {},
   "source": [
    "# Load reactions"
   ]
  },
  {
   "cell_type": "code",
   "execution_count": 6,
   "metadata": {
    "deletable": false,
    "run_control": {
     "marked": false
    }
   },
   "outputs": [],
   "source": [
    "_widgets = dict()"
   ]
  },
  {
   "cell_type": "code",
   "execution_count": 38,
   "metadata": {
    "run_control": {
     "marked": false
    },
    "scrolled": false
   },
   "outputs": [
    {
     "data": {
      "application/vnd.jupyter.widget-view+json": {
       "model_id": "c915f64fd4aa4235b0ae963bf35542ca",
       "version_major": 2,
       "version_minor": 0
      },
      "text/plain": [
       "HBox(children=(HTML(value='<b>Yaml File Path</b>'), Text(value='./_yaml/test_0.yaml')))"
      ]
     },
     "metadata": {},
     "output_type": "display_data"
    }
   ],
   "source": [
    "_widgets['path'] = widgets.Text(value='./_yaml/test_0.yaml')\n",
    "display(widgets.HBox([widgets.HTML('<b>Yaml File Path</b>'),\n",
    "                      _widgets['path']]))"
   ]
  },
  {
   "cell_type": "code",
   "execution_count": 8,
   "metadata": {
    "code_folding": [],
    "deletable": false,
    "run_control": {
     "marked": false
    }
   },
   "outputs": [],
   "source": [
    "with open(_widgets['path'].value) as f:\n",
    "    rctn_block = yaml.load(f)\n",
    "rctn_considered = rctn_block[-1]['The reactions considered']"
   ]
  },
  {
   "cell_type": "markdown",
   "metadata": {},
   "source": [
    "\n",
    "Reactions contains `electron reactions` and `relaxation reactions`\n",
    "\n"
   ]
  },
  {
   "cell_type": "markdown",
   "metadata": {},
   "source": [
    "# Choose reations"
   ]
  },
  {
   "cell_type": "code",
   "execution_count": 23,
   "metadata": {
    "deletable": false,
    "run_control": {
     "marked": false
    }
   },
   "outputs": [],
   "source": [
    "_species_list = ['E', 'H2(v0-14)', 'CO2(v0-21)', 'CO(v0-10)', 'H', 'O', 'OH']\n",
    "# --------------------------------------------------------------------------- #\n",
    "# set select multiple\n",
    "for _, _option in [('ele', rctn_considered['electron reactions'].keys()),\n",
    "                   ('rel', rctn_considered['relaxation reactions'].keys()),\n",
    "                   ('species', _species_list)]:\n",
    "    _widgets[_] = widgets.SelectMultiple(options=_option,\n",
    "                                         layout=Layout(height='300px'))\n",
    "# --------------------------------------------------------------------------- #\n",
    "# set floattext\n",
    "for _, _value in [('electron_density', 1.0), ('Te', 1.0), ('CO2_density', 1.0),\n",
    "                  ('CO2_Tvib', 1000), ('H2_density', 1.0), ('H2_Tvib', 1000),\n",
    "                  ('CO_density', 1.0), ('CO_Tvib', 1000)]:\n",
    "    _widgets[_] = widgets.FloatText(value=_value, layout=Layout(width='100px'))"
   ]
  },
  {
   "cell_type": "code",
   "execution_count": 24,
   "metadata": {
    "run_control": {
     "marked": false
    }
   },
   "outputs": [],
   "source": [
    "_button = dict()\n",
    "_button['load reactions'] = widgets.Button(description='Load Reactions')"
   ]
  },
  {
   "cell_type": "code",
   "execution_count": 25,
   "metadata": {
    "deletable": false,
    "run_control": {
     "marked": false
    }
   },
   "outputs": [],
   "source": [
    "def get_species_from_widgets():\n",
    "    _species = []\n",
    "    for _ in _widgets['species'].value:\n",
    "        if _ == 'H2(v0-14)':\n",
    "            _species.append('H2')\n",
    "            _species.extend([f'H2(v{v})' for v in range(1, 15)])\n",
    "        elif _ == 'CO2(v0-21)':\n",
    "            _species.append('CO2')\n",
    "            _species.extend([f'CO2(v{v})' for v in range(1, 22)])\n",
    "        elif _ == 'CO(v0-10)':\n",
    "            _species.append('CO')\n",
    "            _species.extend([f'CO(v{v})' for v in range(11)])\n",
    "        else:\n",
    "            _species.append(_)\n",
    "    return _species"
   ]
  },
  {
   "cell_type": "markdown",
   "metadata": {},
   "source": [
    "# Set GUI"
   ]
  },
  {
   "cell_type": "code",
   "execution_count": 26,
   "metadata": {
    "deletable": false,
    "editable": false,
    "run_control": {
     "marked": false
    }
   },
   "outputs": [
    {
     "data": {
      "application/vnd.jupyter.widget-view+json": {
       "model_id": "eda2ae9880794d508b806bc8b8c46dd5",
       "version_major": 2,
       "version_minor": 0
      },
      "text/plain": [
       "HBox(children=(VBox(children=(HTML(value='<b>ELECTRON REACTIONS:</b>'), SelectMultiple(layout=Layout(height='3…"
      ]
     },
     "metadata": {},
     "output_type": "display_data"
    },
    {
     "data": {
      "application/vnd.jupyter.widget-view+json": {
       "model_id": "c1f87bfdcf1449859bfc66160b0a4795",
       "version_major": 2,
       "version_minor": 0
      },
      "text/plain": [
       "GridBox(children=(HTML(value='<b>electron density</b>'), FloatText(value=1.0, layout=Layout(width='100px')), H…"
      ]
     },
     "metadata": {},
     "output_type": "display_data"
    },
    {
     "data": {
      "application/vnd.jupyter.widget-view+json": {
       "model_id": "9508df6a96a64d5384149df930563752",
       "version_major": 2,
       "version_minor": 0
      },
      "text/plain": [
       "Button(description='Load Reactions', style=ButtonStyle())"
      ]
     },
     "metadata": {},
     "output_type": "display_data"
    }
   ],
   "source": [
    "display(\n",
    "    widgets.HBox([\n",
    "        widgets.VBox(\n",
    "            [widgets.HTML('<b>ELECTRON REACTIONS:</b>'), _widgets['ele']]),\n",
    "        widgets.VBox(\n",
    "            [widgets.HTML('<b>RELAXATION REACTIONS:</b>'), _widgets['rel']]),\n",
    "        widgets.VBox([widgets.HTML('<b>SPECIES</b>'), _widgets['species']])\n",
    "    ]))\n",
    "display(\n",
    "    widgets.GridBox([\n",
    "        widgets.HTML('<b>electron density</b>'), _widgets['electron_density'],\n",
    "        widgets.HTML('<b>Te_eV</b>'), _widgets['Te'],\n",
    "        widgets.HTML('<b>CO2_density</b>'), _widgets['CO2_density'],\n",
    "        widgets.HTML('<b>CO2_Tvib</b>'), _widgets['CO2_Tvib'],\n",
    "        widgets.HTML('<b>H2_density</b>'), _widgets['H2_density'],\n",
    "        widgets.HTML('<b>H2_Tvib'), _widgets['H2_Tvib']\n",
    "    ],\n",
    "                    layout=widgets.Layout(\n",
    "                        grid_template_columns=\"repeat(4, 20%)\")))\n",
    "display(_button['load reactions'])"
   ]
  },
  {
   "cell_type": "code",
   "execution_count": 13,
   "metadata": {},
   "outputs": [],
   "source": [
    "def get_rctn_df_from_widgets():\n",
    "    pass"
   ]
  },
  {
   "cell_type": "code",
   "execution_count": 14,
   "metadata": {},
   "outputs": [
    {
     "data": {
      "text/plain": [
       "()"
      ]
     },
     "execution_count": 14,
     "metadata": {},
     "output_type": "execute_result"
    }
   ],
   "source": [
    "_widgets['ele'].value"
   ]
  },
  {
   "cell_type": "code",
   "execution_count": 27,
   "metadata": {
    "scrolled": true
   },
   "outputs": [],
   "source": [
    "vari_dict = dict(H2_vib_energy_in_eV=H2_vib_energy_in_eV)\n",
    "for _ in _widgets['ele'].value:\n",
    "    _df = rctn_considered['electron reactions'][_]\n",
    "    _cros_block = Cros_Reaction_block(rctn_dict=_df, vari_dict=vari_dict)"
   ]
  },
  {
   "cell_type": "code",
   "execution_count": 28,
   "metadata": {},
   "outputs": [
    {
     "data": {
      "text/html": [
       "<div>\n",
       "<style scoped>\n",
       "    .dataframe tbody tr th:only-of-type {\n",
       "        vertical-align: middle;\n",
       "    }\n",
       "\n",
       "    .dataframe tbody tr th {\n",
       "        vertical-align: top;\n",
       "    }\n",
       "\n",
       "    .dataframe thead th {\n",
       "        text-align: right;\n",
       "    }\n",
       "</style>\n",
       "<table border=\"1\" class=\"dataframe\">\n",
       "  <thead>\n",
       "    <tr style=\"text-align: right;\">\n",
       "      <th></th>\n",
       "      <th>formula</th>\n",
       "      <th>type</th>\n",
       "      <th>threshold_eV</th>\n",
       "      <th>cross_section</th>\n",
       "    </tr>\n",
       "  </thead>\n",
       "  <tbody>\n",
       "    <tr>\n",
       "      <th>0</th>\n",
       "      <td>E + H2(v1) =&gt; E + H2</td>\n",
       "      <td>DEEXCITATION</td>\n",
       "      <td>-0.515594</td>\n",
       "      <td>[[0.00019353162758217746, 0.001025637313221694...</td>\n",
       "    </tr>\n",
       "    <tr>\n",
       "      <th>1</th>\n",
       "      <td>E + H2(v2) =&gt; E + H2</td>\n",
       "      <td>DEEXCITATION</td>\n",
       "      <td>-1.001103</td>\n",
       "      <td>[[0.00019353162758228848, 0.001025637313221583...</td>\n",
       "    </tr>\n",
       "    <tr>\n",
       "      <th>2</th>\n",
       "      <td>E + H2(v2) =&gt; E + H2(v1)</td>\n",
       "      <td>DEEXCITATION</td>\n",
       "      <td>-0.485508</td>\n",
       "      <td>[[0.00019353162758217746, 0.001025637313221694...</td>\n",
       "    </tr>\n",
       "    <tr>\n",
       "      <th>3</th>\n",
       "      <td>E + H2(v3) =&gt; E + H2</td>\n",
       "      <td>DEEXCITATION</td>\n",
       "      <td>-1.456525</td>\n",
       "      <td>[[0.00019353162758228848, 0.001025637313221583...</td>\n",
       "    </tr>\n",
       "    <tr>\n",
       "      <th>4</th>\n",
       "      <td>E + H2(v3) =&gt; E + H2(v1)</td>\n",
       "      <td>DEEXCITATION</td>\n",
       "      <td>-0.940931</td>\n",
       "      <td>[[0.00019353162758217746, 0.001025637313221694...</td>\n",
       "    </tr>\n",
       "    <tr>\n",
       "      <th>5</th>\n",
       "      <td>E + H2(v3) =&gt; E + H2(v2)</td>\n",
       "      <td>DEEXCITATION</td>\n",
       "      <td>-0.455422</td>\n",
       "      <td>[[0.00019353162758217746, 0.001025637313221694...</td>\n",
       "    </tr>\n",
       "    <tr>\n",
       "      <th>6</th>\n",
       "      <td>E + H2(v4) =&gt; E + H2</td>\n",
       "      <td>DEEXCITATION</td>\n",
       "      <td>-1.881862</td>\n",
       "      <td>[[0.00019353162758228848, 0.001025637313221805...</td>\n",
       "    </tr>\n",
       "    <tr>\n",
       "      <th>7</th>\n",
       "      <td>E + H2(v4) =&gt; E + H2(v1)</td>\n",
       "      <td>DEEXCITATION</td>\n",
       "      <td>-1.366267</td>\n",
       "      <td>[[0.00019353162758228848, 0.001025637313221583...</td>\n",
       "    </tr>\n",
       "    <tr>\n",
       "      <th>8</th>\n",
       "      <td>E + H2(v4) =&gt; E + H2(v2)</td>\n",
       "      <td>DEEXCITATION</td>\n",
       "      <td>-0.880759</td>\n",
       "      <td>[[0.00019353162758217746, 0.001025637313221694...</td>\n",
       "    </tr>\n",
       "    <tr>\n",
       "      <th>9</th>\n",
       "      <td>E + H2(v4) =&gt; E + H2(v3)</td>\n",
       "      <td>DEEXCITATION</td>\n",
       "      <td>-0.425336</td>\n",
       "      <td>[[0.00019353162758217746, 0.001025637313221694...</td>\n",
       "    </tr>\n",
       "    <tr>\n",
       "      <th>10</th>\n",
       "      <td>E + H2(v5) =&gt; E + H2</td>\n",
       "      <td>DEEXCITATION</td>\n",
       "      <td>-2.277112</td>\n",
       "      <td>[[0.00019353162758228848, 0.001025637313221583...</td>\n",
       "    </tr>\n",
       "    <tr>\n",
       "      <th>11</th>\n",
       "      <td>E + H2(v5) =&gt; E + H2(v1)</td>\n",
       "      <td>DEEXCITATION</td>\n",
       "      <td>-1.761518</td>\n",
       "      <td>[[0.00019353162758228848, 0.001025637313221805...</td>\n",
       "    </tr>\n",
       "    <tr>\n",
       "      <th>12</th>\n",
       "      <td>E + H2(v5) =&gt; E + H2(v2)</td>\n",
       "      <td>DEEXCITATION</td>\n",
       "      <td>-1.276009</td>\n",
       "      <td>[[0.00019353162758228848, 0.001025637313221583...</td>\n",
       "    </tr>\n",
       "    <tr>\n",
       "      <th>13</th>\n",
       "      <td>E + H2(v5) =&gt; E + H2(v3)</td>\n",
       "      <td>DEEXCITATION</td>\n",
       "      <td>-0.820587</td>\n",
       "      <td>[[0.00019353162758217746, 0.001025637313221694...</td>\n",
       "    </tr>\n",
       "    <tr>\n",
       "      <th>14</th>\n",
       "      <td>E + H2(v5) =&gt; E + H2(v4)</td>\n",
       "      <td>DEEXCITATION</td>\n",
       "      <td>-0.395250</td>\n",
       "      <td>[[0.00019353162758217746, 0.001025637313221694...</td>\n",
       "    </tr>\n",
       "    <tr>\n",
       "      <th>15</th>\n",
       "      <td>E + H2(v6) =&gt; E + H2</td>\n",
       "      <td>DEEXCITATION</td>\n",
       "      <td>-2.642277</td>\n",
       "      <td>[[0.00019353162758228848, 0.001025637313222027...</td>\n",
       "    </tr>\n",
       "    <tr>\n",
       "      <th>16</th>\n",
       "      <td>E + H2(v6) =&gt; E + H2(v1)</td>\n",
       "      <td>DEEXCITATION</td>\n",
       "      <td>-2.126682</td>\n",
       "      <td>[[0.00019353162758228848, 0.001025637313222027...</td>\n",
       "    </tr>\n",
       "    <tr>\n",
       "      <th>17</th>\n",
       "      <td>E + H2(v6) =&gt; E + H2(v2)</td>\n",
       "      <td>DEEXCITATION</td>\n",
       "      <td>-1.641174</td>\n",
       "      <td>[[0.00019353162758228848, 0.001025637313221805...</td>\n",
       "    </tr>\n",
       "    <tr>\n",
       "      <th>18</th>\n",
       "      <td>E + H2(v6) =&gt; E + H2(v3)</td>\n",
       "      <td>DEEXCITATION</td>\n",
       "      <td>-1.185751</td>\n",
       "      <td>[[0.00019353162758228848, 0.001025637313221583...</td>\n",
       "    </tr>\n",
       "    <tr>\n",
       "      <th>19</th>\n",
       "      <td>E + H2(v6) =&gt; E + H2(v4)</td>\n",
       "      <td>DEEXCITATION</td>\n",
       "      <td>-0.760415</td>\n",
       "      <td>[[0.00019353162758217746, 0.001025637313221694...</td>\n",
       "    </tr>\n",
       "    <tr>\n",
       "      <th>20</th>\n",
       "      <td>E + H2(v6) =&gt; E + H2(v5)</td>\n",
       "      <td>DEEXCITATION</td>\n",
       "      <td>-0.365164</td>\n",
       "      <td>[[0.00019353162758217746, 0.001025637313221694...</td>\n",
       "    </tr>\n",
       "    <tr>\n",
       "      <th>21</th>\n",
       "      <td>E + H2(v7) =&gt; E + H2</td>\n",
       "      <td>DEEXCITATION</td>\n",
       "      <td>-2.977355</td>\n",
       "      <td>[[0.00019353162758228848, 0.001025637313222027...</td>\n",
       "    </tr>\n",
       "    <tr>\n",
       "      <th>22</th>\n",
       "      <td>E + H2(v7) =&gt; E + H2(v1)</td>\n",
       "      <td>DEEXCITATION</td>\n",
       "      <td>-2.461761</td>\n",
       "      <td>[[0.00019353162758228848, 0.001025637313222027...</td>\n",
       "    </tr>\n",
       "    <tr>\n",
       "      <th>23</th>\n",
       "      <td>E + H2(v7) =&gt; E + H2(v2)</td>\n",
       "      <td>DEEXCITATION</td>\n",
       "      <td>-1.976252</td>\n",
       "      <td>[[0.00019353162758228848, 0.001025637313221805...</td>\n",
       "    </tr>\n",
       "    <tr>\n",
       "      <th>24</th>\n",
       "      <td>E + H2(v7) =&gt; E + H2(v3)</td>\n",
       "      <td>DEEXCITATION</td>\n",
       "      <td>-1.520830</td>\n",
       "      <td>[[0.00019353162758228848, 0.001025637313221805...</td>\n",
       "    </tr>\n",
       "    <tr>\n",
       "      <th>25</th>\n",
       "      <td>E + H2(v7) =&gt; E + H2(v4)</td>\n",
       "      <td>DEEXCITATION</td>\n",
       "      <td>-1.095493</td>\n",
       "      <td>[[0.00019353162758228848, 0.001025637313221583...</td>\n",
       "    </tr>\n",
       "    <tr>\n",
       "      <th>26</th>\n",
       "      <td>E + H2(v7) =&gt; E + H2(v5)</td>\n",
       "      <td>DEEXCITATION</td>\n",
       "      <td>-0.700243</td>\n",
       "      <td>[[0.00019353162758217746, 0.001025637313221694...</td>\n",
       "    </tr>\n",
       "    <tr>\n",
       "      <th>27</th>\n",
       "      <td>E + H2(v7) =&gt; E + H2(v6)</td>\n",
       "      <td>DEEXCITATION</td>\n",
       "      <td>-0.335078</td>\n",
       "      <td>[[0.00019353162758217746, 0.001025637313221694...</td>\n",
       "    </tr>\n",
       "    <tr>\n",
       "      <th>28</th>\n",
       "      <td>E + H2(v8) =&gt; E + H2</td>\n",
       "      <td>DEEXCITATION</td>\n",
       "      <td>-3.282348</td>\n",
       "      <td>[[0.00019353162758228848, 0.001025637313222027...</td>\n",
       "    </tr>\n",
       "    <tr>\n",
       "      <th>29</th>\n",
       "      <td>E + H2(v8) =&gt; E + H2(v1)</td>\n",
       "      <td>DEEXCITATION</td>\n",
       "      <td>-2.766753</td>\n",
       "      <td>[[0.00019353162758228848, 0.001025637313222027...</td>\n",
       "    </tr>\n",
       "    <tr>\n",
       "      <th>...</th>\n",
       "      <td>...</td>\n",
       "      <td>...</td>\n",
       "      <td>...</td>\n",
       "      <td>...</td>\n",
       "    </tr>\n",
       "    <tr>\n",
       "      <th>75</th>\n",
       "      <td>E + H2(v12) =&gt; E + H2(v9)</td>\n",
       "      <td>DEEXCITATION</td>\n",
       "      <td>-0.644203</td>\n",
       "      <td>[[0.00019353162758217746, 0.001025637313221694...</td>\n",
       "    </tr>\n",
       "    <tr>\n",
       "      <th>76</th>\n",
       "      <td>E + H2(v12) =&gt; E + H2(v10)</td>\n",
       "      <td>DEEXCITATION</td>\n",
       "      <td>-0.399383</td>\n",
       "      <td>[[0.00019353162758217746, 0.001025637313221694...</td>\n",
       "    </tr>\n",
       "    <tr>\n",
       "      <th>77</th>\n",
       "      <td>E + H2(v12) =&gt; E + H2(v11)</td>\n",
       "      <td>DEEXCITATION</td>\n",
       "      <td>-0.184648</td>\n",
       "      <td>[[0.00019353162758217746, 0.001025637313221694...</td>\n",
       "    </tr>\n",
       "    <tr>\n",
       "      <th>78</th>\n",
       "      <td>E + H2(v13) =&gt; E + H2</td>\n",
       "      <td>DEEXCITATION</td>\n",
       "      <td>-4.356020</td>\n",
       "      <td>[[0.00019353162758228848, 0.001025637313222027...</td>\n",
       "    </tr>\n",
       "    <tr>\n",
       "      <th>79</th>\n",
       "      <td>E + H2(v13) =&gt; E + H2(v1)</td>\n",
       "      <td>DEEXCITATION</td>\n",
       "      <td>-3.840425</td>\n",
       "      <td>[[0.00019353162758228848, 0.001025637313221583...</td>\n",
       "    </tr>\n",
       "    <tr>\n",
       "      <th>80</th>\n",
       "      <td>E + H2(v13) =&gt; E + H2(v2)</td>\n",
       "      <td>DEEXCITATION</td>\n",
       "      <td>-3.354917</td>\n",
       "      <td>[[0.00019353162758228848, 0.001025637313222027...</td>\n",
       "    </tr>\n",
       "    <tr>\n",
       "      <th>81</th>\n",
       "      <td>E + H2(v13) =&gt; E + H2(v3)</td>\n",
       "      <td>DEEXCITATION</td>\n",
       "      <td>-2.899494</td>\n",
       "      <td>[[0.00019353162758228848, 0.001025637313222027...</td>\n",
       "    </tr>\n",
       "    <tr>\n",
       "      <th>82</th>\n",
       "      <td>E + H2(v13) =&gt; E + H2(v4)</td>\n",
       "      <td>DEEXCITATION</td>\n",
       "      <td>-2.474158</td>\n",
       "      <td>[[0.00019353162758228848, 0.001025637313221583...</td>\n",
       "    </tr>\n",
       "    <tr>\n",
       "      <th>83</th>\n",
       "      <td>E + H2(v13) =&gt; E + H2(v5)</td>\n",
       "      <td>DEEXCITATION</td>\n",
       "      <td>-2.078908</td>\n",
       "      <td>[[0.00019353162758228848, 0.001025637313222027...</td>\n",
       "    </tr>\n",
       "    <tr>\n",
       "      <th>84</th>\n",
       "      <td>E + H2(v13) =&gt; E + H2(v6)</td>\n",
       "      <td>DEEXCITATION</td>\n",
       "      <td>-1.713743</td>\n",
       "      <td>[[0.00019353162758228848, 0.001025637313221805...</td>\n",
       "    </tr>\n",
       "    <tr>\n",
       "      <th>85</th>\n",
       "      <td>E + H2(v13) =&gt; E + H2(v7)</td>\n",
       "      <td>DEEXCITATION</td>\n",
       "      <td>-1.378665</td>\n",
       "      <td>[[0.00019353162758228848, 0.001025637313221583...</td>\n",
       "    </tr>\n",
       "    <tr>\n",
       "      <th>86</th>\n",
       "      <td>E + H2(v13) =&gt; E + H2(v8)</td>\n",
       "      <td>DEEXCITATION</td>\n",
       "      <td>-1.073672</td>\n",
       "      <td>[[0.00019353162758228848, 0.001025637313221583...</td>\n",
       "    </tr>\n",
       "    <tr>\n",
       "      <th>87</th>\n",
       "      <td>E + H2(v13) =&gt; E + H2(v9)</td>\n",
       "      <td>DEEXCITATION</td>\n",
       "      <td>-0.798766</td>\n",
       "      <td>[[0.00019353162758217746, 0.001025637313221694...</td>\n",
       "    </tr>\n",
       "    <tr>\n",
       "      <th>88</th>\n",
       "      <td>E + H2(v13) =&gt; E + H2(v10)</td>\n",
       "      <td>DEEXCITATION</td>\n",
       "      <td>-0.553945</td>\n",
       "      <td>[[0.00019353162758217746, 0.001025637313221694...</td>\n",
       "    </tr>\n",
       "    <tr>\n",
       "      <th>89</th>\n",
       "      <td>E + H2(v13) =&gt; E + H2(v11)</td>\n",
       "      <td>DEEXCITATION</td>\n",
       "      <td>-0.339211</td>\n",
       "      <td>[[0.00019353162758217746, 0.001025637313221694...</td>\n",
       "    </tr>\n",
       "    <tr>\n",
       "      <th>90</th>\n",
       "      <td>E + H2(v13) =&gt; E + H2(v12)</td>\n",
       "      <td>DEEXCITATION</td>\n",
       "      <td>-0.154562</td>\n",
       "      <td>[[0.00019353162758217746, 0.001025637313221694...</td>\n",
       "    </tr>\n",
       "    <tr>\n",
       "      <th>91</th>\n",
       "      <td>E + H2(v14) =&gt; E + H2</td>\n",
       "      <td>DEEXCITATION</td>\n",
       "      <td>-4.480496</td>\n",
       "      <td>[[0.00019353162758228848, 0.001025637313222027...</td>\n",
       "    </tr>\n",
       "    <tr>\n",
       "      <th>92</th>\n",
       "      <td>E + H2(v14) =&gt; E + H2(v1)</td>\n",
       "      <td>DEEXCITATION</td>\n",
       "      <td>-3.964902</td>\n",
       "      <td>[[0.00019353162758228848, 0.001025637313221583...</td>\n",
       "    </tr>\n",
       "    <tr>\n",
       "      <th>93</th>\n",
       "      <td>E + H2(v14) =&gt; E + H2(v2)</td>\n",
       "      <td>DEEXCITATION</td>\n",
       "      <td>-3.479393</td>\n",
       "      <td>[[0.00019353162758228848, 0.001025637313222027...</td>\n",
       "    </tr>\n",
       "    <tr>\n",
       "      <th>94</th>\n",
       "      <td>E + H2(v14) =&gt; E + H2(v3)</td>\n",
       "      <td>DEEXCITATION</td>\n",
       "      <td>-3.023971</td>\n",
       "      <td>[[0.00019353162758228848, 0.001025637313222027...</td>\n",
       "    </tr>\n",
       "    <tr>\n",
       "      <th>95</th>\n",
       "      <td>E + H2(v14) =&gt; E + H2(v4)</td>\n",
       "      <td>DEEXCITATION</td>\n",
       "      <td>-2.598634</td>\n",
       "      <td>[[0.00019353162758228848, 0.001025637313221583...</td>\n",
       "    </tr>\n",
       "    <tr>\n",
       "      <th>96</th>\n",
       "      <td>E + H2(v14) =&gt; E + H2(v5)</td>\n",
       "      <td>DEEXCITATION</td>\n",
       "      <td>-2.203384</td>\n",
       "      <td>[[0.00019353162758228848, 0.001025637313222027...</td>\n",
       "    </tr>\n",
       "    <tr>\n",
       "      <th>97</th>\n",
       "      <td>E + H2(v14) =&gt; E + H2(v6)</td>\n",
       "      <td>DEEXCITATION</td>\n",
       "      <td>-1.838219</td>\n",
       "      <td>[[0.00019353162758228848, 0.001025637313221805...</td>\n",
       "    </tr>\n",
       "    <tr>\n",
       "      <th>98</th>\n",
       "      <td>E + H2(v14) =&gt; E + H2(v7)</td>\n",
       "      <td>DEEXCITATION</td>\n",
       "      <td>-1.503141</td>\n",
       "      <td>[[0.00019353162758228848, 0.001025637313221583...</td>\n",
       "    </tr>\n",
       "    <tr>\n",
       "      <th>99</th>\n",
       "      <td>E + H2(v14) =&gt; E + H2(v8)</td>\n",
       "      <td>DEEXCITATION</td>\n",
       "      <td>-1.198149</td>\n",
       "      <td>[[0.00019353162758228848, 0.001025637313221583...</td>\n",
       "    </tr>\n",
       "    <tr>\n",
       "      <th>100</th>\n",
       "      <td>E + H2(v14) =&gt; E + H2(v9)</td>\n",
       "      <td>DEEXCITATION</td>\n",
       "      <td>-0.923242</td>\n",
       "      <td>[[0.00019353162758217746, 0.001025637313221694...</td>\n",
       "    </tr>\n",
       "    <tr>\n",
       "      <th>101</th>\n",
       "      <td>E + H2(v14) =&gt; E + H2(v10)</td>\n",
       "      <td>DEEXCITATION</td>\n",
       "      <td>-0.678422</td>\n",
       "      <td>[[0.00019353162758217746, 0.001025637313221694...</td>\n",
       "    </tr>\n",
       "    <tr>\n",
       "      <th>102</th>\n",
       "      <td>E + H2(v14) =&gt; E + H2(v11)</td>\n",
       "      <td>DEEXCITATION</td>\n",
       "      <td>-0.463687</td>\n",
       "      <td>[[0.00019353162758217746, 0.001025637313221694...</td>\n",
       "    </tr>\n",
       "    <tr>\n",
       "      <th>103</th>\n",
       "      <td>E + H2(v14) =&gt; E + H2(v12)</td>\n",
       "      <td>DEEXCITATION</td>\n",
       "      <td>-0.279039</td>\n",
       "      <td>[[0.00019353162758217746, 0.001025637313221694...</td>\n",
       "    </tr>\n",
       "    <tr>\n",
       "      <th>104</th>\n",
       "      <td>E + H2(v14) =&gt; E + H2(v13)</td>\n",
       "      <td>DEEXCITATION</td>\n",
       "      <td>-0.124476</td>\n",
       "      <td>[[0.00019353162758217746, 0.001025637313221694...</td>\n",
       "    </tr>\n",
       "  </tbody>\n",
       "</table>\n",
       "<p>105 rows × 4 columns</p>\n",
       "</div>"
      ],
      "text/plain": [
       "                        formula          type  threshold_eV  \\\n",
       "0          E + H2(v1) => E + H2  DEEXCITATION     -0.515594   \n",
       "1          E + H2(v2) => E + H2  DEEXCITATION     -1.001103   \n",
       "2      E + H2(v2) => E + H2(v1)  DEEXCITATION     -0.485508   \n",
       "3          E + H2(v3) => E + H2  DEEXCITATION     -1.456525   \n",
       "4      E + H2(v3) => E + H2(v1)  DEEXCITATION     -0.940931   \n",
       "5      E + H2(v3) => E + H2(v2)  DEEXCITATION     -0.455422   \n",
       "6          E + H2(v4) => E + H2  DEEXCITATION     -1.881862   \n",
       "7      E + H2(v4) => E + H2(v1)  DEEXCITATION     -1.366267   \n",
       "8      E + H2(v4) => E + H2(v2)  DEEXCITATION     -0.880759   \n",
       "9      E + H2(v4) => E + H2(v3)  DEEXCITATION     -0.425336   \n",
       "10         E + H2(v5) => E + H2  DEEXCITATION     -2.277112   \n",
       "11     E + H2(v5) => E + H2(v1)  DEEXCITATION     -1.761518   \n",
       "12     E + H2(v5) => E + H2(v2)  DEEXCITATION     -1.276009   \n",
       "13     E + H2(v5) => E + H2(v3)  DEEXCITATION     -0.820587   \n",
       "14     E + H2(v5) => E + H2(v4)  DEEXCITATION     -0.395250   \n",
       "15         E + H2(v6) => E + H2  DEEXCITATION     -2.642277   \n",
       "16     E + H2(v6) => E + H2(v1)  DEEXCITATION     -2.126682   \n",
       "17     E + H2(v6) => E + H2(v2)  DEEXCITATION     -1.641174   \n",
       "18     E + H2(v6) => E + H2(v3)  DEEXCITATION     -1.185751   \n",
       "19     E + H2(v6) => E + H2(v4)  DEEXCITATION     -0.760415   \n",
       "20     E + H2(v6) => E + H2(v5)  DEEXCITATION     -0.365164   \n",
       "21         E + H2(v7) => E + H2  DEEXCITATION     -2.977355   \n",
       "22     E + H2(v7) => E + H2(v1)  DEEXCITATION     -2.461761   \n",
       "23     E + H2(v7) => E + H2(v2)  DEEXCITATION     -1.976252   \n",
       "24     E + H2(v7) => E + H2(v3)  DEEXCITATION     -1.520830   \n",
       "25     E + H2(v7) => E + H2(v4)  DEEXCITATION     -1.095493   \n",
       "26     E + H2(v7) => E + H2(v5)  DEEXCITATION     -0.700243   \n",
       "27     E + H2(v7) => E + H2(v6)  DEEXCITATION     -0.335078   \n",
       "28         E + H2(v8) => E + H2  DEEXCITATION     -3.282348   \n",
       "29     E + H2(v8) => E + H2(v1)  DEEXCITATION     -2.766753   \n",
       "..                          ...           ...           ...   \n",
       "75    E + H2(v12) => E + H2(v9)  DEEXCITATION     -0.644203   \n",
       "76   E + H2(v12) => E + H2(v10)  DEEXCITATION     -0.399383   \n",
       "77   E + H2(v12) => E + H2(v11)  DEEXCITATION     -0.184648   \n",
       "78        E + H2(v13) => E + H2  DEEXCITATION     -4.356020   \n",
       "79    E + H2(v13) => E + H2(v1)  DEEXCITATION     -3.840425   \n",
       "80    E + H2(v13) => E + H2(v2)  DEEXCITATION     -3.354917   \n",
       "81    E + H2(v13) => E + H2(v3)  DEEXCITATION     -2.899494   \n",
       "82    E + H2(v13) => E + H2(v4)  DEEXCITATION     -2.474158   \n",
       "83    E + H2(v13) => E + H2(v5)  DEEXCITATION     -2.078908   \n",
       "84    E + H2(v13) => E + H2(v6)  DEEXCITATION     -1.713743   \n",
       "85    E + H2(v13) => E + H2(v7)  DEEXCITATION     -1.378665   \n",
       "86    E + H2(v13) => E + H2(v8)  DEEXCITATION     -1.073672   \n",
       "87    E + H2(v13) => E + H2(v9)  DEEXCITATION     -0.798766   \n",
       "88   E + H2(v13) => E + H2(v10)  DEEXCITATION     -0.553945   \n",
       "89   E + H2(v13) => E + H2(v11)  DEEXCITATION     -0.339211   \n",
       "90   E + H2(v13) => E + H2(v12)  DEEXCITATION     -0.154562   \n",
       "91        E + H2(v14) => E + H2  DEEXCITATION     -4.480496   \n",
       "92    E + H2(v14) => E + H2(v1)  DEEXCITATION     -3.964902   \n",
       "93    E + H2(v14) => E + H2(v2)  DEEXCITATION     -3.479393   \n",
       "94    E + H2(v14) => E + H2(v3)  DEEXCITATION     -3.023971   \n",
       "95    E + H2(v14) => E + H2(v4)  DEEXCITATION     -2.598634   \n",
       "96    E + H2(v14) => E + H2(v5)  DEEXCITATION     -2.203384   \n",
       "97    E + H2(v14) => E + H2(v6)  DEEXCITATION     -1.838219   \n",
       "98    E + H2(v14) => E + H2(v7)  DEEXCITATION     -1.503141   \n",
       "99    E + H2(v14) => E + H2(v8)  DEEXCITATION     -1.198149   \n",
       "100   E + H2(v14) => E + H2(v9)  DEEXCITATION     -0.923242   \n",
       "101  E + H2(v14) => E + H2(v10)  DEEXCITATION     -0.678422   \n",
       "102  E + H2(v14) => E + H2(v11)  DEEXCITATION     -0.463687   \n",
       "103  E + H2(v14) => E + H2(v12)  DEEXCITATION     -0.279039   \n",
       "104  E + H2(v14) => E + H2(v13)  DEEXCITATION     -0.124476   \n",
       "\n",
       "                                         cross_section  \n",
       "0    [[0.00019353162758217746, 0.001025637313221694...  \n",
       "1    [[0.00019353162758228848, 0.001025637313221583...  \n",
       "2    [[0.00019353162758217746, 0.001025637313221694...  \n",
       "3    [[0.00019353162758228848, 0.001025637313221583...  \n",
       "4    [[0.00019353162758217746, 0.001025637313221694...  \n",
       "5    [[0.00019353162758217746, 0.001025637313221694...  \n",
       "6    [[0.00019353162758228848, 0.001025637313221805...  \n",
       "7    [[0.00019353162758228848, 0.001025637313221583...  \n",
       "8    [[0.00019353162758217746, 0.001025637313221694...  \n",
       "9    [[0.00019353162758217746, 0.001025637313221694...  \n",
       "10   [[0.00019353162758228848, 0.001025637313221583...  \n",
       "11   [[0.00019353162758228848, 0.001025637313221805...  \n",
       "12   [[0.00019353162758228848, 0.001025637313221583...  \n",
       "13   [[0.00019353162758217746, 0.001025637313221694...  \n",
       "14   [[0.00019353162758217746, 0.001025637313221694...  \n",
       "15   [[0.00019353162758228848, 0.001025637313222027...  \n",
       "16   [[0.00019353162758228848, 0.001025637313222027...  \n",
       "17   [[0.00019353162758228848, 0.001025637313221805...  \n",
       "18   [[0.00019353162758228848, 0.001025637313221583...  \n",
       "19   [[0.00019353162758217746, 0.001025637313221694...  \n",
       "20   [[0.00019353162758217746, 0.001025637313221694...  \n",
       "21   [[0.00019353162758228848, 0.001025637313222027...  \n",
       "22   [[0.00019353162758228848, 0.001025637313222027...  \n",
       "23   [[0.00019353162758228848, 0.001025637313221805...  \n",
       "24   [[0.00019353162758228848, 0.001025637313221805...  \n",
       "25   [[0.00019353162758228848, 0.001025637313221583...  \n",
       "26   [[0.00019353162758217746, 0.001025637313221694...  \n",
       "27   [[0.00019353162758217746, 0.001025637313221694...  \n",
       "28   [[0.00019353162758228848, 0.001025637313222027...  \n",
       "29   [[0.00019353162758228848, 0.001025637313222027...  \n",
       "..                                                 ...  \n",
       "75   [[0.00019353162758217746, 0.001025637313221694...  \n",
       "76   [[0.00019353162758217746, 0.001025637313221694...  \n",
       "77   [[0.00019353162758217746, 0.001025637313221694...  \n",
       "78   [[0.00019353162758228848, 0.001025637313222027...  \n",
       "79   [[0.00019353162758228848, 0.001025637313221583...  \n",
       "80   [[0.00019353162758228848, 0.001025637313222027...  \n",
       "81   [[0.00019353162758228848, 0.001025637313222027...  \n",
       "82   [[0.00019353162758228848, 0.001025637313221583...  \n",
       "83   [[0.00019353162758228848, 0.001025637313222027...  \n",
       "84   [[0.00019353162758228848, 0.001025637313221805...  \n",
       "85   [[0.00019353162758228848, 0.001025637313221583...  \n",
       "86   [[0.00019353162758228848, 0.001025637313221583...  \n",
       "87   [[0.00019353162758217746, 0.001025637313221694...  \n",
       "88   [[0.00019353162758217746, 0.001025637313221694...  \n",
       "89   [[0.00019353162758217746, 0.001025637313221694...  \n",
       "90   [[0.00019353162758217746, 0.001025637313221694...  \n",
       "91   [[0.00019353162758228848, 0.001025637313222027...  \n",
       "92   [[0.00019353162758228848, 0.001025637313221583...  \n",
       "93   [[0.00019353162758228848, 0.001025637313222027...  \n",
       "94   [[0.00019353162758228848, 0.001025637313222027...  \n",
       "95   [[0.00019353162758228848, 0.001025637313221583...  \n",
       "96   [[0.00019353162758228848, 0.001025637313222027...  \n",
       "97   [[0.00019353162758228848, 0.001025637313221805...  \n",
       "98   [[0.00019353162758228848, 0.001025637313221583...  \n",
       "99   [[0.00019353162758228848, 0.001025637313221583...  \n",
       "100  [[0.00019353162758217746, 0.001025637313221694...  \n",
       "101  [[0.00019353162758217746, 0.001025637313221694...  \n",
       "102  [[0.00019353162758217746, 0.001025637313221694...  \n",
       "103  [[0.00019353162758217746, 0.001025637313221694...  \n",
       "104  [[0.00019353162758217746, 0.001025637313221694...  \n",
       "\n",
       "[105 rows x 4 columns]"
      ]
     },
     "execution_count": 28,
     "metadata": {},
     "output_type": "execute_result"
    }
   ],
   "source": [
    "_cros_block.generate_crostn_dataframe()"
   ]
  },
  {
   "cell_type": "code",
   "execution_count": 21,
   "metadata": {
    "code_folding": [
     0
    ],
    "run_control": {
     "marked": false
    },
    "scrolled": true
   },
   "outputs": [
    {
     "data": {
      "text/plain": [
       "['E',\n",
       " 'H2',\n",
       " 'H2(v1)',\n",
       " 'H2(v2)',\n",
       " 'H2(v3)',\n",
       " 'H2(v4)',\n",
       " 'H2(v5)',\n",
       " 'H2(v6)',\n",
       " 'H2(v7)',\n",
       " 'H2(v8)',\n",
       " 'H2(v9)',\n",
       " 'H2(v10)',\n",
       " 'H2(v11)',\n",
       " 'H2(v12)',\n",
       " 'H2(v13)',\n",
       " 'H2(v14)',\n",
       " 'CO2',\n",
       " 'CO2(v1)',\n",
       " 'CO2(v2)',\n",
       " 'CO2(v3)',\n",
       " 'CO2(v4)',\n",
       " 'CO2(v5)',\n",
       " 'CO2(v6)',\n",
       " 'CO2(v7)',\n",
       " 'CO2(v8)',\n",
       " 'CO2(v9)',\n",
       " 'CO2(v10)',\n",
       " 'CO2(v11)',\n",
       " 'CO2(v12)',\n",
       " 'CO2(v13)',\n",
       " 'CO2(v14)',\n",
       " 'CO2(v15)',\n",
       " 'CO2(v16)',\n",
       " 'CO2(v17)',\n",
       " 'CO2(v18)',\n",
       " 'CO2(v19)',\n",
       " 'CO2(v20)',\n",
       " 'CO2(v21)',\n",
       " 'CO',\n",
       " 'CO(v0)',\n",
       " 'CO(v1)',\n",
       " 'CO(v2)',\n",
       " 'CO(v3)',\n",
       " 'CO(v4)',\n",
       " 'CO(v5)',\n",
       " 'CO(v6)',\n",
       " 'CO(v7)',\n",
       " 'CO(v8)',\n",
       " 'CO(v9)',\n",
       " 'CO(v10)',\n",
       " 'H',\n",
       " 'O',\n",
       " 'OH']"
      ]
     },
     "execution_count": 21,
     "metadata": {},
     "output_type": "execute_result"
    }
   ],
   "source": [
    "species = get_species_from_widgets()\n",
    "species"
   ]
  },
  {
   "cell_type": "code",
   "execution_count": 29,
   "metadata": {
    "run_control": {
     "marked": false
    }
   },
   "outputs": [],
   "source": [
    "density_df = pd.Series(0, index=species)\n",
    "H2 = H2_vib_group(total_density=_widgets['H2_density'].value,\n",
    "                  Tvib_K=_widgets['H2_Tvib'].value)\n",
    "CO2 = CO2_vib_group(total_density=_widgets['CO2_density'].value,\n",
    "                    Tvib_K=_widgets['CO2_Tvib'].value)\n",
    "CO = CO_vib_group(total_density=_widgets['CO_density'].value,\n",
    "                  Tvib_K=_widgets['CO_Tvib'].value)"
   ]
  },
  {
   "cell_type": "code",
   "execution_count": 41,
   "metadata": {
    "run_control": {
     "marked": false
    },
    "scrolled": true
   },
   "outputs": [
    {
     "name": "stdout",
     "output_type": "stream",
     "text": [
      "{'type': 'EXCITATION', 'formula': 'E + H2(v_A_) => E + H2(v_B_)', 'kstr': 'cs_path/H2(X)_to_H2(X)_vibexc/H2(v_A_)_to_H2(v_B_).csv', 'threshold': '_thres_', 'where': {'abbr': {'cs_path': 'U:/__[FileSync]__/Coding/Python/CrossSectionFile/H2', 'H2(v0)': 'H2'}}, 'iterator': {'repl': {'formula': {'_A_': 'v_lower', '_B_': 'v_upper'}, 'kstr': {'_A_': 'v_lower', '_B_': 'v_upper'}, 'threshold': {'_thres_': 'H2_vib_energy_in_eV(v=v_upper) - H2_vib_energy_in_eV(v=v_lower)'}}, 'loop': {'product': {'v_lower': 'range(15)', 'v_upper': 'range(15)'}}, 'condition': 'v_lower < v_upper'}}\n",
      "{'type': 'DEEXCITATION', 'formula': 'E + H2(v_A_) => E + H2(v_B_)', 'kstr': 'cs_path/H2(X)_to_H2(X)_vibexc/H2(v_A_)_to_H2(v_B_).csv', 'threshold': '_thres_', 'where': {'abbr': {'cs_path': 'U:/__[FileSync]__/Coding/Python/CrossSectionFile/H2', 'H2(v0)': 'H2'}}, 'iterator': {'repl': {'formula': {'_A_': 'v_lower', '_B_': 'v_upper'}, 'kstr': {'_A_': 'v_lower', '_B_': 'v_upper'}, 'threshold': {'_thres_': 'H2_vib_energy_in_eV(v=v_upper) - H2_vib_energy_in_eV(v=v_lower)'}}, 'loop': {'product': {'v_lower': 'range(15)', 'v_upper': 'range(15)'}}, 'condition': 'v_lower > v_upper'}}\n"
     ]
    }
   ],
   "source": [
    "rctn_ele_df = pd.DataFrame(\n",
    "    columns=['formula', 'type', 'threshold_eV', 'cross_section'])\n",
    "rctn_rel_df = pd.DataFrame(\n",
    "    columns=['formula', 'type', 'threshold_eV', 'cross_section'])\n",
    "# --------------------------------------------------------------------------- #\n",
    "for _ in _widgets['ele'].value:\n",
    "    _dict = rctn_considered['electron reactions'][_]\n",
    "    print(_dict)\n",
    "    _df = Cros_Reaction_block(rctn_dict=_dict,\n",
    "                             vari_dict=vari_dict).generate_crostn_dataframe()\n",
    "    rctn_ele_df = rctn_ele_df.append(_df)"
   ]
  },
  {
   "cell_type": "code",
   "execution_count": 42,
   "metadata": {
    "run_control": {
     "marked": false
    }
   },
   "outputs": [
    {
     "data": {
      "text/plain": [
       "('H2_ele_vib_forward', 'H2_ele_vib_backward')"
      ]
     },
     "execution_count": 42,
     "metadata": {},
     "output_type": "execute_result"
    }
   ],
   "source": [
    "_widgets['ele'].value"
   ]
  },
  {
   "cell_type": "code",
   "execution_count": null,
   "metadata": {
    "run_control": {
     "marked": false
    }
   },
   "outputs": [],
   "source": []
  }
 ],
 "metadata": {
  "kernelspec": {
   "display_name": "Python 3",
   "language": "python",
   "name": "python3"
  },
  "language_info": {
   "codemirror_mode": {
    "name": "ipython",
    "version": 3
   },
   "file_extension": ".py",
   "mimetype": "text/x-python",
   "name": "python",
   "nbconvert_exporter": "python",
   "pygments_lexer": "ipython3",
   "version": "3.7.3"
  },
  "toc": {
   "base_numbering": 1,
   "nav_menu": {},
   "number_sections": true,
   "sideBar": false,
   "skip_h1_title": false,
   "title_cell": "Table of Contents",
   "title_sidebar": "Contents",
   "toc_cell": false,
   "toc_position": {
    "height": "208.875px",
    "left": "842.288px",
    "top": "58.8px",
    "width": "206.512px"
   },
   "toc_section_display": true,
   "toc_window_display": true
  },
  "varInspector": {
   "cols": {
    "lenName": 16,
    "lenType": 16,
    "lenVar": 40
   },
   "kernels_config": {
    "python": {
     "delete_cmd_postfix": "",
     "delete_cmd_prefix": "del ",
     "library": "var_list.py",
     "varRefreshCmd": "print(var_dic_list())"
    },
    "r": {
     "delete_cmd_postfix": ") ",
     "delete_cmd_prefix": "rm(",
     "library": "var_list.r",
     "varRefreshCmd": "cat(var_dic_list()) "
    }
   },
   "oldHeight": 548,
   "position": {
    "height": "152px",
    "left": "839px",
    "right": "20px",
    "top": "271px",
    "width": "250px"
   },
   "types_to_exclude": [
    "module",
    "function",
    "builtin_function_or_method",
    "instance",
    "_Feature"
   ],
   "varInspector_section_display": "none",
   "window_display": false
  }
 },
 "nbformat": 4,
 "nbformat_minor": 2
}
