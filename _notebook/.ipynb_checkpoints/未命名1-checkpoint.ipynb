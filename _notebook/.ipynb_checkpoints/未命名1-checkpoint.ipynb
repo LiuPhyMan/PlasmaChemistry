{
 "cells": [
  {
   "cell_type": "markdown",
   "metadata": {},
   "source": [
    "# Load package"
   ]
  },
  {
   "cell_type": "code",
   "execution_count": 1,
   "metadata": {
    "deletable": false,
    "editable": false
   },
   "outputs": [],
   "source": [
    "%cd .."
   ]
  },
  {
   "cell_type": "code",
   "execution_count": 2,
   "metadata": {
    "deletable": false,
    "editable": false
   },
   "outputs": [],
   "source": [
    "import os\n",
    "import numpy as np\n",
    "import pandas as pd\n",
    "from matplotlib import pyplot as plt"
   ]
  },
  {
   "cell_type": "code",
   "execution_count": 3,
   "metadata": {
    "deletable": false,
    "editable": false
   },
   "outputs": [],
   "source": [
    "from ipywidgets import interact, interactive, fixed, interact_manual\n",
    "from ipywidgets import Layout\n",
    "from IPython.display import display\n",
    "import ipywidgets as widgets"
   ]
  },
  {
   "cell_type": "code",
   "execution_count": 13,
   "metadata": {
    "deletable": false,
    "editable": false
   },
   "outputs": [],
   "source": [
    "from plasmistry.molecule import (H2_vib_group, CO_vib_group, CO2_vib_group)\n",
    "from plasmistry.molecule import (H2_vib_energy_in_eV, H2_vib_energy_in_K,\n",
    "                                 CO2_vib_energy_in_eV, CO2_vib_energy_in_K,\n",
    "                                 CO_vib_energy_in_eV, CO_vib_energy_in_K)\n",
    "from plasmistry.io import (LT_constructor, Arr_constructor, eval_constructor,\n",
    "                           Cros_Reaction_block, Coef_Reaction_block)"
   ]
  },
  {
   "cell_type": "code",
   "execution_count": 14,
   "metadata": {
    "deletable": false,
    "editable": false
   },
   "outputs": [],
   "source": [
    "import yaml\n",
    "yaml.add_constructor(u\"!eval\", eval_constructor)\n",
    "yaml.add_constructor(u\"!LT\", LT_constructor)\n",
    "yaml.add_constructor(u\"!Arr\", Arr_constructor)"
   ]
  },
  {
   "cell_type": "markdown",
   "metadata": {},
   "source": [
    "# Load reactions"
   ]
  },
  {
   "cell_type": "code",
   "execution_count": 15,
   "metadata": {
    "deletable": false,
    "editable": false
   },
   "outputs": [],
   "source": [
    "_widgets = dict()"
   ]
  },
  {
   "cell_type": "code",
   "execution_count": 16,
   "metadata": {
    "deletable": false,
    "editable": false,
    "run_control": {
     "marked": true
    },
    "scrolled": false
   },
   "outputs": [
    {
     "data": {
      "application/vnd.jupyter.widget-view+json": {
       "model_id": "e91cb5b7fb56408b95c218aa832c1f7c",
       "version_major": 2,
       "version_minor": 0
      },
      "text/plain": [
       "Text(value='./_yaml/test_0.yaml', description='yaml file path')"
      ]
     },
     "metadata": {},
     "output_type": "display_data"
    }
   ],
   "source": [
    "_widgets['path'] = widgets.Text(value='./_yaml/test_0.yaml', description='yaml file path')\n",
    "display(_widgets['path'])"
   ]
  },
  {
   "cell_type": "code",
   "execution_count": 17,
   "metadata": {
    "code_folding": [],
    "deletable": false,
    "editable": false,
    "run_control": {
     "marked": false
    }
   },
   "outputs": [],
   "source": [
    "with open(_widgets['path'].value) as f:\n",
    "    rctn_block = yaml.load(f)\n",
    "rctn_considered = rctn_block[-1]['The reactions considered']"
   ]
  },
  {
   "cell_type": "markdown",
   "metadata": {},
   "source": [
    "\n",
    "Reactions contains `electron reactions` and `relaxation reactions`\n",
    "\n"
   ]
  },
  {
   "cell_type": "markdown",
   "metadata": {},
   "source": [
    "# Choose reations"
   ]
  },
  {
   "cell_type": "code",
   "execution_count": 18,
   "metadata": {
    "deletable": false,
    "editable": false
   },
   "outputs": [],
   "source": [
    "_widgets['ele'] = widgets.SelectMultiple(\n",
    "    options=rctn_considered['electron reactions'].keys(),\n",
    "    layout=Layout(height='300px'))\n",
    "_widgets['rel'] = widgets.SelectMultiple(\n",
    "    options=rctn_considered['relaxation reactions'].keys(),\n",
    "    layout=Layout(height='300px'))\n",
    "_widgets['species'] = widgets.SelectMultiple(\n",
    "    options=['E', 'H2(v0-14)', 'CO2(v0-21)', 'CO(v0-10)', 'H', 'O', 'OH'],\n",
    "    layout=Layout(height='300px'))\n",
    "\n",
    "_widgets['electron_density'] = widgets.FloatText(value=1,\n",
    "                                                 layout=Layout(width='100px'))\n",
    "_widgets['Te'] = widgets.FloatText(value=1.0, layout=Layout(width='100px'))\n",
    "_widgets['CO2_density'] = widgets.FloatText(value=1.0,\n",
    "                                            layout=Layout(width='100px'))\n",
    "_widgets['CO2_Tvib'] = widgets.FloatText(value=1000,\n",
    "                                         layout=Layout(width='100px'))\n",
    "_widgets['H2_density'] = widgets.FloatText(value=1.0,\n",
    "                                           layout=Layout(width='100px'))\n",
    "_widgets['H2_Tvib'] = widgets.FloatText(value=1000,\n",
    "                                        layout=Layout(width='100px'))"
   ]
  },
  {
   "cell_type": "code",
   "execution_count": 19,
   "metadata": {
    "deletable": false,
    "editable": false
   },
   "outputs": [
    {
     "data": {
      "application/vnd.jupyter.widget-view+json": {
       "model_id": "e133db9c81df4b31aceb647e641e31d4",
       "version_major": 2,
       "version_minor": 0
      },
      "text/plain": [
       "HBox(children=(VBox(children=(HTML(value='<b>ELECTRON REACTIONS:</b>'), SelectMultiple(layout=Layout(height='3…"
      ]
     },
     "metadata": {},
     "output_type": "display_data"
    },
    {
     "data": {
      "application/vnd.jupyter.widget-view+json": {
       "model_id": "693ce766b03b47159313a814930ba39d",
       "version_major": 2,
       "version_minor": 0
      },
      "text/plain": [
       "GridBox(children=(HTML(value='<b>electron density</b>'), FloatText(value=1.0, layout=Layout(width='100px')), H…"
      ]
     },
     "metadata": {},
     "output_type": "display_data"
    }
   ],
   "source": [
    "display(\n",
    "    widgets.HBox([\n",
    "        widgets.VBox(\n",
    "            [widgets.HTML('<b>ELECTRON REACTIONS:</b>'), _widgets['ele']]),\n",
    "        widgets.VBox(\n",
    "            [widgets.HTML('<b>RELAXATION REACTIONS:</b>'), _widgets['rel']]),\n",
    "        widgets.VBox([widgets.HTML('<b>SPECIES</b>'), _widgets['species']])\n",
    "    ]))\n",
    "display(\n",
    "    widgets.GridBox([\n",
    "        widgets.HTML('<b>electron density</b>'), _widgets['electron_density'],\n",
    "        widgets.HTML('<b>Te_eV</b>'), _widgets['Te'],\n",
    "        widgets.HTML('<b>CO2_density</b>'), _widgets['CO2_density'],\n",
    "        widgets.HTML('<b>CO2_Tvib</b>'), _widgets['CO2_Tvib'],\n",
    "        widgets.HTML('<b>H2_density</b>'), _widgets['H2_density'],\n",
    "        widgets.HTML('<b>H2_Tvib'), _widgets['H2_Tvib']\n",
    "    ],\n",
    "                    layout=widgets.Layout(\n",
    "                        grid_template_columns=\"repeat(4, 20%)\")))"
   ]
  },
  {
   "cell_type": "code",
   "execution_count": 22,
   "metadata": {
    "code_folding": [
     0
    ]
   },
   "outputs": [],
   "source": [
    "def get_species():\n",
    "    _species = []\n",
    "    for _ in _widgets['species'].value:\n",
    "        if _ == 'H2(v0-14)': \n",
    "            _species.append('H2')\n",
    "            _species.extend([f'H2(v{v})' for v in range(1, 15)])\n",
    "        elif _ == 'CO2(v0-21)':\n",
    "            _species.append('CO2')\n",
    "            _species.extend([f'CO2(v{v})' for v in range(1, 22)])\n",
    "        elif _ == 'CO(v0-10)':\n",
    "            _species.append('CO')\n",
    "            _species.extend([f'CO(v{v})' for v in range(11)])\n",
    "        else:\n",
    "            _species.append(_)\n",
    "    return _species\n",
    "species = get_species()"
   ]
  },
  {
   "cell_type": "code",
   "execution_count": 21,
   "metadata": {},
   "outputs": [
    {
     "ename": "ImportError",
     "evalue": "cannot import name 'H2_vib_group' from 'test' (C:\\Users\\PhyMan\\Anaconda3\\lib\\test\\__init__.py)",
     "output_type": "error",
     "traceback": [
      "\u001b[1;31m---------------------------------------------------------------------------\u001b[0m",
      "\u001b[1;31mImportError\u001b[0m                               Traceback (most recent call last)",
      "\u001b[1;32m<ipython-input-21-7226d5c66945>\u001b[0m in \u001b[0;36m<module>\u001b[1;34m\u001b[0m\n\u001b[0;32m      1\u001b[0m \u001b[0mdensity_df\u001b[0m \u001b[1;33m=\u001b[0m \u001b[0mpd\u001b[0m\u001b[1;33m.\u001b[0m\u001b[0mSeries\u001b[0m\u001b[1;33m(\u001b[0m\u001b[1;36m0\u001b[0m\u001b[1;33m,\u001b[0m \u001b[0mindex\u001b[0m\u001b[1;33m=\u001b[0m\u001b[0mspecies\u001b[0m\u001b[1;33m)\u001b[0m\u001b[1;33m\u001b[0m\u001b[1;33m\u001b[0m\u001b[0m\n\u001b[0;32m      2\u001b[0m \u001b[0mdensity_df\u001b[0m\u001b[1;33m\u001b[0m\u001b[1;33m\u001b[0m\u001b[0m\n\u001b[1;32m----> 3\u001b[1;33m \u001b[1;32mfrom\u001b[0m \u001b[0mtest\u001b[0m \u001b[1;32mimport\u001b[0m \u001b[0mH2_vib_group\u001b[0m\u001b[1;33m\u001b[0m\u001b[1;33m\u001b[0m\u001b[0m\n\u001b[0m\u001b[0;32m      4\u001b[0m \u001b[0mH2_vib_group\u001b[0m\u001b[1;33m(\u001b[0m\u001b[0mtotal_density\u001b[0m\u001b[1;33m=\u001b[0m\u001b[0m_widgets\u001b[0m\u001b[1;33m[\u001b[0m\u001b[1;34m''\u001b[0m\u001b[1;33m]\u001b[0m\u001b[1;33m)\u001b[0m\u001b[1;33m\u001b[0m\u001b[1;33m\u001b[0m\u001b[0m\n",
      "\u001b[1;31mImportError\u001b[0m: cannot import name 'H2_vib_group' from 'test' (C:\\Users\\PhyMan\\Anaconda3\\lib\\test\\__init__.py)"
     ]
    }
   ],
   "source": [
    "density_df = pd.Series(0, index=species)\n",
    "density_df\n",
    "H2_vib_group(total_density=_widgets[''])"
   ]
  },
  {
   "cell_type": "code",
   "execution_count": null,
   "metadata": {
    "deletable": false,
    "editable": false,
    "scrolled": true
   },
   "outputs": [],
   "source": [
    "rctn_ele_df = pd.DataFrame(columns=['formula', 'type', 'threshold_eV', 'cross_section'])\n",
    "rctn_rel_df = pd.DataFrame(columns=['formula', 'type', 'threshold_eV', 'cross_section'])\n",
    "for _ in _widgets['ele'].value:\n",
    "    _dict = rctn_considered['electron reactions'][_]\n",
    "    _df = Cros_Reaction_block(rctn_dict=_dict).generate_crostn_dataframe()\n",
    "    rctn_ele_df = rctn_ele_df.append(_df)"
   ]
  },
  {
   "cell_type": "code",
   "execution_count": null,
   "metadata": {},
   "outputs": [],
   "source": [
    "rctn_ele_df"
   ]
  },
  {
   "cell_type": "code",
   "execution_count": null,
   "metadata": {},
   "outputs": [],
   "source": []
  }
 ],
 "metadata": {
  "kernelspec": {
   "display_name": "Python 3",
   "language": "python",
   "name": "python3"
  },
  "language_info": {
   "codemirror_mode": {
    "name": "ipython",
    "version": 3
   },
   "file_extension": ".py",
   "mimetype": "text/x-python",
   "name": "python",
   "nbconvert_exporter": "python",
   "pygments_lexer": "ipython3",
   "version": "3.7.3"
  },
  "toc": {
   "base_numbering": 1,
   "nav_menu": {},
   "number_sections": true,
   "sideBar": false,
   "skip_h1_title": false,
   "title_cell": "Table of Contents",
   "title_sidebar": "Contents",
   "toc_cell": false,
   "toc_position": {
    "height": "208.875px",
    "left": "842.288px",
    "top": "58.8px",
    "width": "206.512px"
   },
   "toc_section_display": true,
   "toc_window_display": true
  },
  "varInspector": {
   "cols": {
    "lenName": 16,
    "lenType": 16,
    "lenVar": 40
   },
   "kernels_config": {
    "python": {
     "delete_cmd_postfix": "",
     "delete_cmd_prefix": "del ",
     "library": "var_list.py",
     "varRefreshCmd": "print(var_dic_list())"
    },
    "r": {
     "delete_cmd_postfix": ") ",
     "delete_cmd_prefix": "rm(",
     "library": "var_list.r",
     "varRefreshCmd": "cat(var_dic_list()) "
    }
   },
   "oldHeight": 548,
   "position": {
    "height": "40px",
    "left": "780px",
    "right": "20px",
    "top": "174px",
    "width": "250px"
   },
   "types_to_exclude": [
    "module",
    "function",
    "builtin_function_or_method",
    "instance",
    "_Feature"
   ],
   "varInspector_section_display": "none",
   "window_display": true
  }
 },
 "nbformat": 4,
 "nbformat_minor": 2
}
