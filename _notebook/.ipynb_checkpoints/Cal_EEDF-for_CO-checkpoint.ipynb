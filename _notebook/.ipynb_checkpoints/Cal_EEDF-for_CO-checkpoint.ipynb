{
 "cells": [
  {
   "cell_type": "markdown",
   "metadata": {},
   "source": [
    "# INIT"
   ]
  },
  {
   "cell_type": "code",
   "execution_count": 1,
   "metadata": {
    "ExecuteTime": {
     "end_time": "2019-09-09T15:13:04.236096Z",
     "start_time": "2019-09-09T15:13:04.232139Z"
    }
   },
   "outputs": [
    {
     "name": "stdout",
     "output_type": "stream",
     "text": [
      "G:\\CODE\\PlasmaChemistry\n"
     ]
    }
   ],
   "source": [
    "%cd .."
   ]
  },
  {
   "cell_type": "code",
   "execution_count": 2,
   "metadata": {
    "ExecuteTime": {
     "end_time": "2019-09-09T15:13:10.782190Z",
     "start_time": "2019-09-09T15:13:08.406024Z"
    }
   },
   "outputs": [],
   "source": [
    "import numpy as np\n",
    "import pandas as pd\n",
    "from scipy.integrate import solve_ivp\n",
    "from matplotlib import pyplot as plt\n",
    "from plasmistry.electron import EEDF\n",
    "from plasmistry.electron import get_maxwell_eedf\n",
    "from plasmistry.molecule import get_ideal_gas_density"
   ]
  },
  {
   "cell_type": "code",
   "execution_count": 3,
   "metadata": {
    "ExecuteTime": {
     "end_time": "2019-09-09T15:13:12.400346Z",
     "start_time": "2019-09-09T15:13:12.397350Z"
    }
   },
   "outputs": [],
   "source": [
    "import matplotlib.pyplot as plt\n",
    "plt.rcParams[\"figure.figsize\"] = (12,9)\n",
    "plt.rcParams[\"font.size\"] = 17"
   ]
  },
  {
   "cell_type": "code",
   "execution_count": 4,
   "metadata": {
    "ExecuteTime": {
     "end_time": "2019-09-09T15:13:13.448318Z",
     "start_time": "2019-09-09T15:13:13.445326Z"
    }
   },
   "outputs": [],
   "source": [
    "np.set_printoptions(precision=1, linewidth=130, edgeitems=5)\n",
    "pd.options.display.float_format = '{:,.1e}'.format"
   ]
  },
  {
   "cell_type": "markdown",
   "metadata": {},
   "source": [
    "# Read inelas reactions"
   ]
  },
  {
   "cell_type": "code",
   "execution_count": 5,
   "metadata": {
    "ExecuteTime": {
     "end_time": "2019-09-09T15:13:16.575199Z",
     "start_time": "2019-09-09T15:13:16.011360Z"
    }
   },
   "outputs": [
    {
     "ename": "FileNotFoundError",
     "evalue": "[Errno 2] No such file or directory: 'rctn_df_CO2_e_vib_forward.pkl'",
     "output_type": "error",
     "traceback": [
      "\u001b[1;31m---------------------------------------------------------------------------\u001b[0m",
      "\u001b[1;31mFileNotFoundError\u001b[0m                         Traceback (most recent call last)",
      "\u001b[1;32mD:\\Anaconda3\\lib\\site-packages\\pandas\\io\\pickle.py\u001b[0m in \u001b[0;36mtry_read\u001b[1;34m(path, encoding)\u001b[0m\n\u001b[0;32m    165\u001b[0m                 \u001b[1;31m# We want to silencce any warnings about, e.g. moved modules.\u001b[0m\u001b[1;33m\u001b[0m\u001b[1;33m\u001b[0m\u001b[0m\n\u001b[1;32m--> 166\u001b[1;33m                 \u001b[1;32mreturn\u001b[0m \u001b[0mread_wrapper\u001b[0m\u001b[1;33m(\u001b[0m\u001b[1;32mlambda\u001b[0m \u001b[0mf\u001b[0m\u001b[1;33m:\u001b[0m \u001b[0mpkl\u001b[0m\u001b[1;33m.\u001b[0m\u001b[0mload\u001b[0m\u001b[1;33m(\u001b[0m\u001b[0mf\u001b[0m\u001b[1;33m)\u001b[0m\u001b[1;33m)\u001b[0m\u001b[1;33m\u001b[0m\u001b[0m\n\u001b[0m\u001b[0;32m    167\u001b[0m         \u001b[1;32mexcept\u001b[0m \u001b[0mException\u001b[0m\u001b[1;33m:\u001b[0m\u001b[1;33m\u001b[0m\u001b[0m\n",
      "\u001b[1;32mD:\\Anaconda3\\lib\\site-packages\\pandas\\io\\pickle.py\u001b[0m in \u001b[0;36mread_wrapper\u001b[1;34m(func)\u001b[0m\n\u001b[0;32m    146\u001b[0m                             \u001b[0mcompression\u001b[0m\u001b[1;33m=\u001b[0m\u001b[0minferred_compression\u001b[0m\u001b[1;33m,\u001b[0m\u001b[1;33m\u001b[0m\u001b[0m\n\u001b[1;32m--> 147\u001b[1;33m                             is_text=False)\n\u001b[0m\u001b[0;32m    148\u001b[0m         \u001b[1;32mtry\u001b[0m\u001b[1;33m:\u001b[0m\u001b[1;33m\u001b[0m\u001b[0m\n",
      "\u001b[1;32mD:\\Anaconda3\\lib\\site-packages\\pandas\\io\\common.py\u001b[0m in \u001b[0;36m_get_handle\u001b[1;34m(path_or_buf, mode, encoding, compression, memory_map, is_text)\u001b[0m\n\u001b[0;32m    405\u001b[0m             \u001b[1;31m# Python 3 and binary mode\u001b[0m\u001b[1;33m\u001b[0m\u001b[1;33m\u001b[0m\u001b[0m\n\u001b[1;32m--> 406\u001b[1;33m             \u001b[0mf\u001b[0m \u001b[1;33m=\u001b[0m \u001b[0mopen\u001b[0m\u001b[1;33m(\u001b[0m\u001b[0mpath_or_buf\u001b[0m\u001b[1;33m,\u001b[0m \u001b[0mmode\u001b[0m\u001b[1;33m)\u001b[0m\u001b[1;33m\u001b[0m\u001b[0m\n\u001b[0m\u001b[0;32m    407\u001b[0m         \u001b[0mhandles\u001b[0m\u001b[1;33m.\u001b[0m\u001b[0mappend\u001b[0m\u001b[1;33m(\u001b[0m\u001b[0mf\u001b[0m\u001b[1;33m)\u001b[0m\u001b[1;33m\u001b[0m\u001b[0m\n",
      "\u001b[1;31mFileNotFoundError\u001b[0m: [Errno 2] No such file or directory: 'rctn_df_CO2_e_vib_forward.pkl'",
      "\nDuring handling of the above exception, another exception occurred:\n",
      "\u001b[1;31mFileNotFoundError\u001b[0m                         Traceback (most recent call last)",
      "\u001b[1;32mD:\\Anaconda3\\lib\\site-packages\\pandas\\io\\pickle.py\u001b[0m in \u001b[0;36mtry_read\u001b[1;34m(path, encoding)\u001b[0m\n\u001b[0;32m    170\u001b[0m                 return read_wrapper(\n\u001b[1;32m--> 171\u001b[1;33m                     lambda f: pc.load(f, encoding=encoding, compat=False))\n\u001b[0m\u001b[0;32m    172\u001b[0m             \u001b[1;31m# compat pickle\u001b[0m\u001b[1;33m\u001b[0m\u001b[1;33m\u001b[0m\u001b[0m\n",
      "\u001b[1;32mD:\\Anaconda3\\lib\\site-packages\\pandas\\io\\pickle.py\u001b[0m in \u001b[0;36mread_wrapper\u001b[1;34m(func)\u001b[0m\n\u001b[0;32m    146\u001b[0m                             \u001b[0mcompression\u001b[0m\u001b[1;33m=\u001b[0m\u001b[0minferred_compression\u001b[0m\u001b[1;33m,\u001b[0m\u001b[1;33m\u001b[0m\u001b[0m\n\u001b[1;32m--> 147\u001b[1;33m                             is_text=False)\n\u001b[0m\u001b[0;32m    148\u001b[0m         \u001b[1;32mtry\u001b[0m\u001b[1;33m:\u001b[0m\u001b[1;33m\u001b[0m\u001b[0m\n",
      "\u001b[1;32mD:\\Anaconda3\\lib\\site-packages\\pandas\\io\\common.py\u001b[0m in \u001b[0;36m_get_handle\u001b[1;34m(path_or_buf, mode, encoding, compression, memory_map, is_text)\u001b[0m\n\u001b[0;32m    405\u001b[0m             \u001b[1;31m# Python 3 and binary mode\u001b[0m\u001b[1;33m\u001b[0m\u001b[1;33m\u001b[0m\u001b[0m\n\u001b[1;32m--> 406\u001b[1;33m             \u001b[0mf\u001b[0m \u001b[1;33m=\u001b[0m \u001b[0mopen\u001b[0m\u001b[1;33m(\u001b[0m\u001b[0mpath_or_buf\u001b[0m\u001b[1;33m,\u001b[0m \u001b[0mmode\u001b[0m\u001b[1;33m)\u001b[0m\u001b[1;33m\u001b[0m\u001b[0m\n\u001b[0m\u001b[0;32m    407\u001b[0m         \u001b[0mhandles\u001b[0m\u001b[1;33m.\u001b[0m\u001b[0mappend\u001b[0m\u001b[1;33m(\u001b[0m\u001b[0mf\u001b[0m\u001b[1;33m)\u001b[0m\u001b[1;33m\u001b[0m\u001b[0m\n",
      "\u001b[1;31mFileNotFoundError\u001b[0m: [Errno 2] No such file or directory: 'rctn_df_CO2_e_vib_forward.pkl'",
      "\nDuring handling of the above exception, another exception occurred:\n",
      "\u001b[1;31mFileNotFoundError\u001b[0m                         Traceback (most recent call last)",
      "\u001b[1;32mD:\\Anaconda3\\lib\\site-packages\\pandas\\io\\pickle.py\u001b[0m in \u001b[0;36mread_pickle\u001b[1;34m(path, compression)\u001b[0m\n\u001b[0;32m    176\u001b[0m     \u001b[1;32mtry\u001b[0m\u001b[1;33m:\u001b[0m\u001b[1;33m\u001b[0m\u001b[0m\n\u001b[1;32m--> 177\u001b[1;33m         \u001b[1;32mreturn\u001b[0m \u001b[0mtry_read\u001b[0m\u001b[1;33m(\u001b[0m\u001b[0mpath\u001b[0m\u001b[1;33m)\u001b[0m\u001b[1;33m\u001b[0m\u001b[0m\n\u001b[0m\u001b[0;32m    178\u001b[0m     \u001b[1;32mexcept\u001b[0m\u001b[1;33m:\u001b[0m\u001b[1;33m\u001b[0m\u001b[0m\n",
      "\u001b[1;32mD:\\Anaconda3\\lib\\site-packages\\pandas\\io\\pickle.py\u001b[0m in \u001b[0;36mtry_read\u001b[1;34m(path, encoding)\u001b[0m\n\u001b[0;32m    174\u001b[0m                 return read_wrapper(\n\u001b[1;32m--> 175\u001b[1;33m                     lambda f: pc.load(f, encoding=encoding, compat=True))\n\u001b[0m\u001b[0;32m    176\u001b[0m     \u001b[1;32mtry\u001b[0m\u001b[1;33m:\u001b[0m\u001b[1;33m\u001b[0m\u001b[0m\n",
      "\u001b[1;32mD:\\Anaconda3\\lib\\site-packages\\pandas\\io\\pickle.py\u001b[0m in \u001b[0;36mread_wrapper\u001b[1;34m(func)\u001b[0m\n\u001b[0;32m    146\u001b[0m                             \u001b[0mcompression\u001b[0m\u001b[1;33m=\u001b[0m\u001b[0minferred_compression\u001b[0m\u001b[1;33m,\u001b[0m\u001b[1;33m\u001b[0m\u001b[0m\n\u001b[1;32m--> 147\u001b[1;33m                             is_text=False)\n\u001b[0m\u001b[0;32m    148\u001b[0m         \u001b[1;32mtry\u001b[0m\u001b[1;33m:\u001b[0m\u001b[1;33m\u001b[0m\u001b[0m\n",
      "\u001b[1;32mD:\\Anaconda3\\lib\\site-packages\\pandas\\io\\common.py\u001b[0m in \u001b[0;36m_get_handle\u001b[1;34m(path_or_buf, mode, encoding, compression, memory_map, is_text)\u001b[0m\n\u001b[0;32m    405\u001b[0m             \u001b[1;31m# Python 3 and binary mode\u001b[0m\u001b[1;33m\u001b[0m\u001b[1;33m\u001b[0m\u001b[0m\n\u001b[1;32m--> 406\u001b[1;33m             \u001b[0mf\u001b[0m \u001b[1;33m=\u001b[0m \u001b[0mopen\u001b[0m\u001b[1;33m(\u001b[0m\u001b[0mpath_or_buf\u001b[0m\u001b[1;33m,\u001b[0m \u001b[0mmode\u001b[0m\u001b[1;33m)\u001b[0m\u001b[1;33m\u001b[0m\u001b[0m\n\u001b[0m\u001b[0;32m    407\u001b[0m         \u001b[0mhandles\u001b[0m\u001b[1;33m.\u001b[0m\u001b[0mappend\u001b[0m\u001b[1;33m(\u001b[0m\u001b[0mf\u001b[0m\u001b[1;33m)\u001b[0m\u001b[1;33m\u001b[0m\u001b[0m\n",
      "\u001b[1;31mFileNotFoundError\u001b[0m: [Errno 2] No such file or directory: 'rctn_df_CO2_e_vib_forward.pkl'",
      "\nDuring handling of the above exception, another exception occurred:\n",
      "\u001b[1;31mFileNotFoundError\u001b[0m                         Traceback (most recent call last)",
      "\u001b[1;32mD:\\Anaconda3\\lib\\site-packages\\pandas\\io\\pickle.py\u001b[0m in \u001b[0;36mtry_read\u001b[1;34m(path, encoding)\u001b[0m\n\u001b[0;32m    165\u001b[0m                 \u001b[1;31m# We want to silencce any warnings about, e.g. moved modules.\u001b[0m\u001b[1;33m\u001b[0m\u001b[1;33m\u001b[0m\u001b[0m\n\u001b[1;32m--> 166\u001b[1;33m                 \u001b[1;32mreturn\u001b[0m \u001b[0mread_wrapper\u001b[0m\u001b[1;33m(\u001b[0m\u001b[1;32mlambda\u001b[0m \u001b[0mf\u001b[0m\u001b[1;33m:\u001b[0m \u001b[0mpkl\u001b[0m\u001b[1;33m.\u001b[0m\u001b[0mload\u001b[0m\u001b[1;33m(\u001b[0m\u001b[0mf\u001b[0m\u001b[1;33m)\u001b[0m\u001b[1;33m)\u001b[0m\u001b[1;33m\u001b[0m\u001b[0m\n\u001b[0m\u001b[0;32m    167\u001b[0m         \u001b[1;32mexcept\u001b[0m \u001b[0mException\u001b[0m\u001b[1;33m:\u001b[0m\u001b[1;33m\u001b[0m\u001b[0m\n",
      "\u001b[1;32mD:\\Anaconda3\\lib\\site-packages\\pandas\\io\\pickle.py\u001b[0m in \u001b[0;36mread_wrapper\u001b[1;34m(func)\u001b[0m\n\u001b[0;32m    146\u001b[0m                             \u001b[0mcompression\u001b[0m\u001b[1;33m=\u001b[0m\u001b[0minferred_compression\u001b[0m\u001b[1;33m,\u001b[0m\u001b[1;33m\u001b[0m\u001b[0m\n\u001b[1;32m--> 147\u001b[1;33m                             is_text=False)\n\u001b[0m\u001b[0;32m    148\u001b[0m         \u001b[1;32mtry\u001b[0m\u001b[1;33m:\u001b[0m\u001b[1;33m\u001b[0m\u001b[0m\n",
      "\u001b[1;32mD:\\Anaconda3\\lib\\site-packages\\pandas\\io\\common.py\u001b[0m in \u001b[0;36m_get_handle\u001b[1;34m(path_or_buf, mode, encoding, compression, memory_map, is_text)\u001b[0m\n\u001b[0;32m    405\u001b[0m             \u001b[1;31m# Python 3 and binary mode\u001b[0m\u001b[1;33m\u001b[0m\u001b[1;33m\u001b[0m\u001b[0m\n\u001b[1;32m--> 406\u001b[1;33m             \u001b[0mf\u001b[0m \u001b[1;33m=\u001b[0m \u001b[0mopen\u001b[0m\u001b[1;33m(\u001b[0m\u001b[0mpath_or_buf\u001b[0m\u001b[1;33m,\u001b[0m \u001b[0mmode\u001b[0m\u001b[1;33m)\u001b[0m\u001b[1;33m\u001b[0m\u001b[0m\n\u001b[0m\u001b[0;32m    407\u001b[0m         \u001b[0mhandles\u001b[0m\u001b[1;33m.\u001b[0m\u001b[0mappend\u001b[0m\u001b[1;33m(\u001b[0m\u001b[0mf\u001b[0m\u001b[1;33m)\u001b[0m\u001b[1;33m\u001b[0m\u001b[0m\n",
      "\u001b[1;31mFileNotFoundError\u001b[0m: [Errno 2] No such file or directory: 'rctn_df_CO2_e_vib_forward.pkl'",
      "\nDuring handling of the above exception, another exception occurred:\n",
      "\u001b[1;31mFileNotFoundError\u001b[0m                         Traceback (most recent call last)",
      "\u001b[1;32mD:\\Anaconda3\\lib\\site-packages\\pandas\\io\\pickle.py\u001b[0m in \u001b[0;36mtry_read\u001b[1;34m(path, encoding)\u001b[0m\n\u001b[0;32m    170\u001b[0m                 return read_wrapper(\n\u001b[1;32m--> 171\u001b[1;33m                     lambda f: pc.load(f, encoding=encoding, compat=False))\n\u001b[0m\u001b[0;32m    172\u001b[0m             \u001b[1;31m# compat pickle\u001b[0m\u001b[1;33m\u001b[0m\u001b[1;33m\u001b[0m\u001b[0m\n",
      "\u001b[1;32mD:\\Anaconda3\\lib\\site-packages\\pandas\\io\\pickle.py\u001b[0m in \u001b[0;36mread_wrapper\u001b[1;34m(func)\u001b[0m\n\u001b[0;32m    146\u001b[0m                             \u001b[0mcompression\u001b[0m\u001b[1;33m=\u001b[0m\u001b[0minferred_compression\u001b[0m\u001b[1;33m,\u001b[0m\u001b[1;33m\u001b[0m\u001b[0m\n\u001b[1;32m--> 147\u001b[1;33m                             is_text=False)\n\u001b[0m\u001b[0;32m    148\u001b[0m         \u001b[1;32mtry\u001b[0m\u001b[1;33m:\u001b[0m\u001b[1;33m\u001b[0m\u001b[0m\n",
      "\u001b[1;32mD:\\Anaconda3\\lib\\site-packages\\pandas\\io\\common.py\u001b[0m in \u001b[0;36m_get_handle\u001b[1;34m(path_or_buf, mode, encoding, compression, memory_map, is_text)\u001b[0m\n\u001b[0;32m    405\u001b[0m             \u001b[1;31m# Python 3 and binary mode\u001b[0m\u001b[1;33m\u001b[0m\u001b[1;33m\u001b[0m\u001b[0m\n\u001b[1;32m--> 406\u001b[1;33m             \u001b[0mf\u001b[0m \u001b[1;33m=\u001b[0m \u001b[0mopen\u001b[0m\u001b[1;33m(\u001b[0m\u001b[0mpath_or_buf\u001b[0m\u001b[1;33m,\u001b[0m \u001b[0mmode\u001b[0m\u001b[1;33m)\u001b[0m\u001b[1;33m\u001b[0m\u001b[0m\n\u001b[0m\u001b[0;32m    407\u001b[0m         \u001b[0mhandles\u001b[0m\u001b[1;33m.\u001b[0m\u001b[0mappend\u001b[0m\u001b[1;33m(\u001b[0m\u001b[0mf\u001b[0m\u001b[1;33m)\u001b[0m\u001b[1;33m\u001b[0m\u001b[0m\n",
      "\u001b[1;31mFileNotFoundError\u001b[0m: [Errno 2] No such file or directory: 'rctn_df_CO2_e_vib_forward.pkl'",
      "\nDuring handling of the above exception, another exception occurred:\n",
      "\u001b[1;31mFileNotFoundError\u001b[0m                         Traceback (most recent call last)",
      "\u001b[1;32m<ipython-input-5-d627c1e0723d>\u001b[0m in \u001b[0;36m<module>\u001b[1;34m()\u001b[0m\n\u001b[0;32m      7\u001b[0m \u001b[0m_df\u001b[0m \u001b[1;33m=\u001b[0m \u001b[0mpd\u001b[0m\u001b[1;33m.\u001b[0m\u001b[0mDataFrame\u001b[0m\u001b[1;33m(\u001b[0m\u001b[0mcolumns\u001b[0m\u001b[1;33m=\u001b[0m\u001b[1;33m[\u001b[0m\u001b[1;34m'formula'\u001b[0m\u001b[1;33m,\u001b[0m\u001b[1;34m'type'\u001b[0m\u001b[1;33m,\u001b[0m \u001b[1;34m'threshold_eV'\u001b[0m\u001b[1;33m,\u001b[0m \u001b[1;34m'cross_section'\u001b[0m\u001b[1;33m]\u001b[0m\u001b[1;33m)\u001b[0m\u001b[1;33m\u001b[0m\u001b[0m\n\u001b[0;32m      8\u001b[0m \u001b[1;32mfor\u001b[0m \u001b[0mfile_name\u001b[0m \u001b[1;32min\u001b[0m \u001b[0mfile_name_list\u001b[0m\u001b[1;33m:\u001b[0m\u001b[1;33m\u001b[0m\u001b[0m\n\u001b[1;32m----> 9\u001b[1;33m     \u001b[0m_df\u001b[0m \u001b[1;33m=\u001b[0m \u001b[0m_df\u001b[0m\u001b[1;33m.\u001b[0m\u001b[0mappend\u001b[0m\u001b[1;33m(\u001b[0m\u001b[0mpd\u001b[0m\u001b[1;33m.\u001b[0m\u001b[0mread_pickle\u001b[0m\u001b[1;33m(\u001b[0m\u001b[0mfile_name\u001b[0m\u001b[1;33m)\u001b[0m\u001b[1;33m,\u001b[0m \u001b[0mignore_index\u001b[0m\u001b[1;33m=\u001b[0m\u001b[1;32mTrue\u001b[0m\u001b[1;33m)\u001b[0m\u001b[1;33m\u001b[0m\u001b[0m\n\u001b[0m\u001b[0;32m     10\u001b[0m \u001b[0minelas_df\u001b[0m \u001b[1;33m=\u001b[0m \u001b[0m_df\u001b[0m\u001b[1;33m\u001b[0m\u001b[0m\n",
      "\u001b[1;32mD:\\Anaconda3\\lib\\site-packages\\pandas\\io\\pickle.py\u001b[0m in \u001b[0;36mread_pickle\u001b[1;34m(path, compression)\u001b[0m\n\u001b[0;32m    178\u001b[0m     \u001b[1;32mexcept\u001b[0m\u001b[1;33m:\u001b[0m\u001b[1;33m\u001b[0m\u001b[0m\n\u001b[0;32m    179\u001b[0m         \u001b[1;32mif\u001b[0m \u001b[0mPY3\u001b[0m\u001b[1;33m:\u001b[0m\u001b[1;33m\u001b[0m\u001b[0m\n\u001b[1;32m--> 180\u001b[1;33m             \u001b[1;32mreturn\u001b[0m \u001b[0mtry_read\u001b[0m\u001b[1;33m(\u001b[0m\u001b[0mpath\u001b[0m\u001b[1;33m,\u001b[0m \u001b[0mencoding\u001b[0m\u001b[1;33m=\u001b[0m\u001b[1;34m'latin1'\u001b[0m\u001b[1;33m)\u001b[0m\u001b[1;33m\u001b[0m\u001b[0m\n\u001b[0m\u001b[0;32m    181\u001b[0m         \u001b[1;32mraise\u001b[0m\u001b[1;33m\u001b[0m\u001b[0m\n\u001b[0;32m    182\u001b[0m \u001b[1;33m\u001b[0m\u001b[0m\n",
      "\u001b[1;32mD:\\Anaconda3\\lib\\site-packages\\pandas\\io\\pickle.py\u001b[0m in \u001b[0;36mtry_read\u001b[1;34m(path, encoding)\u001b[0m\n\u001b[0;32m    173\u001b[0m             \u001b[1;32mexcept\u001b[0m\u001b[1;33m:\u001b[0m\u001b[1;33m\u001b[0m\u001b[0m\n\u001b[0;32m    174\u001b[0m                 return read_wrapper(\n\u001b[1;32m--> 175\u001b[1;33m                     lambda f: pc.load(f, encoding=encoding, compat=True))\n\u001b[0m\u001b[0;32m    176\u001b[0m     \u001b[1;32mtry\u001b[0m\u001b[1;33m:\u001b[0m\u001b[1;33m\u001b[0m\u001b[0m\n\u001b[0;32m    177\u001b[0m         \u001b[1;32mreturn\u001b[0m \u001b[0mtry_read\u001b[0m\u001b[1;33m(\u001b[0m\u001b[0mpath\u001b[0m\u001b[1;33m)\u001b[0m\u001b[1;33m\u001b[0m\u001b[0m\n",
      "\u001b[1;32mD:\\Anaconda3\\lib\\site-packages\\pandas\\io\\pickle.py\u001b[0m in \u001b[0;36mread_wrapper\u001b[1;34m(func)\u001b[0m\n\u001b[0;32m    145\u001b[0m         f, fh = _get_handle(path, 'rb',\n\u001b[0;32m    146\u001b[0m                             \u001b[0mcompression\u001b[0m\u001b[1;33m=\u001b[0m\u001b[0minferred_compression\u001b[0m\u001b[1;33m,\u001b[0m\u001b[1;33m\u001b[0m\u001b[0m\n\u001b[1;32m--> 147\u001b[1;33m                             is_text=False)\n\u001b[0m\u001b[0;32m    148\u001b[0m         \u001b[1;32mtry\u001b[0m\u001b[1;33m:\u001b[0m\u001b[1;33m\u001b[0m\u001b[0m\n\u001b[0;32m    149\u001b[0m             \u001b[1;32mreturn\u001b[0m \u001b[0mfunc\u001b[0m\u001b[1;33m(\u001b[0m\u001b[0mf\u001b[0m\u001b[1;33m)\u001b[0m\u001b[1;33m\u001b[0m\u001b[0m\n",
      "\u001b[1;32mD:\\Anaconda3\\lib\\site-packages\\pandas\\io\\common.py\u001b[0m in \u001b[0;36m_get_handle\u001b[1;34m(path_or_buf, mode, encoding, compression, memory_map, is_text)\u001b[0m\n\u001b[0;32m    404\u001b[0m         \u001b[1;32melse\u001b[0m\u001b[1;33m:\u001b[0m\u001b[1;33m\u001b[0m\u001b[0m\n\u001b[0;32m    405\u001b[0m             \u001b[1;31m# Python 3 and binary mode\u001b[0m\u001b[1;33m\u001b[0m\u001b[1;33m\u001b[0m\u001b[0m\n\u001b[1;32m--> 406\u001b[1;33m             \u001b[0mf\u001b[0m \u001b[1;33m=\u001b[0m \u001b[0mopen\u001b[0m\u001b[1;33m(\u001b[0m\u001b[0mpath_or_buf\u001b[0m\u001b[1;33m,\u001b[0m \u001b[0mmode\u001b[0m\u001b[1;33m)\u001b[0m\u001b[1;33m\u001b[0m\u001b[0m\n\u001b[0m\u001b[0;32m    407\u001b[0m         \u001b[0mhandles\u001b[0m\u001b[1;33m.\u001b[0m\u001b[0mappend\u001b[0m\u001b[1;33m(\u001b[0m\u001b[0mf\u001b[0m\u001b[1;33m)\u001b[0m\u001b[1;33m\u001b[0m\u001b[0m\n\u001b[0;32m    408\u001b[0m \u001b[1;33m\u001b[0m\u001b[0m\n",
      "\u001b[1;31mFileNotFoundError\u001b[0m: [Errno 2] No such file or directory: 'rctn_df_CO2_e_vib_forward.pkl'"
     ]
    }
   ],
   "source": [
    "file_name_list = ['rctn_df_CO_e_vib_forward.pkl',\n",
    "                  'rctn_df_CO_e_vib_backward.pkl',\n",
    "                  'rctn_df_CO2_e_vib_forward.pkl',\n",
    "                  'rctn_df_CO2_e_vib_backward.pkl']\n",
    "chosen = (2,3)\n",
    "file_name_list = [file_name_list[i] for i in range(len(file_name_list)) if i in chosen]\n",
    "_df = pd.DataFrame(columns=['formula','type', 'threshold_eV', 'cross_section'])\n",
    "for file_name in file_name_list:\n",
    "    _df = _df.append(pd.read_pickle(file_name), ignore_index=True)\n",
    "inelas_df = _df"
   ]
  },
  {
   "cell_type": "markdown",
   "metadata": {},
   "source": [
    "# Choose the reactions considered."
   ]
  },
  {
   "cell_type": "code",
   "execution_count": 5,
   "metadata": {
    "ExecuteTime": {
     "end_time": "2019-09-09T02:53:06.630729Z",
     "start_time": "2019-09-09T02:53:06.453204Z"
    }
   },
   "outputs": [
    {
     "data": {
      "text/html": [
       "<div>\n",
       "<style scoped>\n",
       "    .dataframe tbody tr th:only-of-type {\n",
       "        vertical-align: middle;\n",
       "    }\n",
       "\n",
       "    .dataframe tbody tr th {\n",
       "        vertical-align: top;\n",
       "    }\n",
       "\n",
       "    .dataframe thead th {\n",
       "        text-align: right;\n",
       "    }\n",
       "</style>\n",
       "<table border=\"1\" class=\"dataframe\">\n",
       "  <thead>\n",
       "    <tr style=\"text-align: right;\">\n",
       "      <th></th>\n",
       "      <th>formula</th>\n",
       "      <th>type</th>\n",
       "      <th>threshold_eV</th>\n",
       "      <th>cross_section</th>\n",
       "    </tr>\n",
       "  </thead>\n",
       "  <tbody>\n",
       "    <tr>\n",
       "      <th>0</th>\n",
       "      <td>E + CO2 =&gt; E + CO2(v1)</td>\n",
       "      <td>EXCITATION</td>\n",
       "      <td>0.2912574773137701</td>\n",
       "      <td>[[0.291, 0.3, 0.31, 0.32, 0.33, 0.35, 0.38, 0....</td>\n",
       "    </tr>\n",
       "    <tr>\n",
       "      <th>1</th>\n",
       "      <td>E + CO2 =&gt; E + CO2(v2)</td>\n",
       "      <td>EXCITATION</td>\n",
       "      <td>0.5794227887444736</td>\n",
       "      <td>[[0.57939, 0.58839, 0.59839, 0.60839, 0.61839,...</td>\n",
       "    </tr>\n",
       "    <tr>\n",
       "      <th>2</th>\n",
       "      <td>E + CO2 =&gt; E + CO2(v3)</td>\n",
       "      <td>EXCITATION</td>\n",
       "      <td>0.8644959342921104</td>\n",
       "      <td>[[0.86469, 0.87369, 0.88369, 0.89369, 0.90369,...</td>\n",
       "    </tr>\n",
       "    <tr>\n",
       "      <th>3</th>\n",
       "      <td>E + CO2 =&gt; E + CO2(v4)</td>\n",
       "      <td>EXCITATION</td>\n",
       "      <td>1.1464769139566813</td>\n",
       "      <td>[[1.1469, 1.1559, 1.1659, 1.1759, 1.1859, 1.20...</td>\n",
       "    </tr>\n",
       "    <tr>\n",
       "      <th>4</th>\n",
       "      <td>E + CO2 =&gt; E + CO2(v5)</td>\n",
       "      <td>EXCITATION</td>\n",
       "      <td>1.4253657277381855</td>\n",
       "      <td>[[1.42601, 1.43501, 1.44501, 1.45501, 1.46501,...</td>\n",
       "    </tr>\n",
       "    <tr>\n",
       "      <th>5</th>\n",
       "      <td>E + CO2 =&gt; E + CO2(v6)</td>\n",
       "      <td>EXCITATION</td>\n",
       "      <td>1.701162375636623</td>\n",
       "      <td>[[1.70203, 1.71103, 1.72103, 1.73103, 1.74103,...</td>\n",
       "    </tr>\n",
       "    <tr>\n",
       "      <th>6</th>\n",
       "      <td>E + CO2 =&gt; E + CO2(v7)</td>\n",
       "      <td>EXCITATION</td>\n",
       "      <td>1.9738668576519955</td>\n",
       "      <td>[[1.97495, 1.98395, 1.99395, 2.00395, 2.01395,...</td>\n",
       "    </tr>\n",
       "    <tr>\n",
       "      <th>7</th>\n",
       "      <td>E + CO2 =&gt; E + CO2(v8)</td>\n",
       "      <td>EXCITATION</td>\n",
       "      <td>2.2434791737843</td>\n",
       "      <td>[[2.24478, 2.25378, 2.26378, 2.27378, 2.28378,...</td>\n",
       "    </tr>\n",
       "    <tr>\n",
       "      <th>8</th>\n",
       "      <td>E + CO2 =&gt; E + CO2(v9)</td>\n",
       "      <td>EXCITATION</td>\n",
       "      <td>2.5099993240335396</td>\n",
       "      <td>[[2.51151, 2.52051, 2.53051, 2.54051, 2.55051,...</td>\n",
       "    </tr>\n",
       "    <tr>\n",
       "      <th>9</th>\n",
       "      <td>E + CO2 =&gt; E + CO2(v10)</td>\n",
       "      <td>EXCITATION</td>\n",
       "      <td>2.7734273083997114</td>\n",
       "      <td>[[2.77515, 2.78415, 2.79415, 2.80415, 2.81415,...</td>\n",
       "    </tr>\n",
       "    <tr>\n",
       "      <th>10</th>\n",
       "      <td>E + CO2 =&gt; E + CO2(v11)</td>\n",
       "      <td>EXCITATION</td>\n",
       "      <td>3.0337631268828176</td>\n",
       "      <td>[[3.03569, 3.04469, 3.05469, 3.06469, 3.07469,...</td>\n",
       "    </tr>\n",
       "    <tr>\n",
       "      <th>11</th>\n",
       "      <td>E + CO2 =&gt; E + CO2(v12)</td>\n",
       "      <td>EXCITATION</td>\n",
       "      <td>3.2910067794828572</td>\n",
       "      <td>[[3.29314, 3.30214, 3.31214, 3.32214, 3.33214,...</td>\n",
       "    </tr>\n",
       "    <tr>\n",
       "      <th>12</th>\n",
       "      <td>E + CO2 =&gt; E + CO2(v13)</td>\n",
       "      <td>EXCITATION</td>\n",
       "      <td>3.5451582661998304</td>\n",
       "      <td>[[3.54749, 3.55649, 3.56649, 3.57649, 3.58649,...</td>\n",
       "    </tr>\n",
       "    <tr>\n",
       "      <th>13</th>\n",
       "      <td>E + CO2 =&gt; E + CO2(v14)</td>\n",
       "      <td>EXCITATION</td>\n",
       "      <td>3.7962175870337367</td>\n",
       "      <td>[[3.79875, 3.80775, 3.81775, 3.82775, 3.83775,...</td>\n",
       "    </tr>\n",
       "    <tr>\n",
       "      <th>14</th>\n",
       "      <td>E + CO2 =&gt; E + CO2(v15)</td>\n",
       "      <td>EXCITATION</td>\n",
       "      <td>4.044184741984577</td>\n",
       "      <td>[[4.04692, 4.05592, 4.06592, 4.07592, 4.08592,...</td>\n",
       "    </tr>\n",
       "    <tr>\n",
       "      <th>15</th>\n",
       "      <td>E + CO2 =&gt; E + CO2(v16)</td>\n",
       "      <td>EXCITATION</td>\n",
       "      <td>4.289059731052351</td>\n",
       "      <td>[[4.29199, 4.30099, 4.31099, 4.32099, 4.33099,...</td>\n",
       "    </tr>\n",
       "    <tr>\n",
       "      <th>16</th>\n",
       "      <td>E + CO2 =&gt; E + CO2(v17)</td>\n",
       "      <td>EXCITATION</td>\n",
       "      <td>4.530842554237059</td>\n",
       "      <td>[[4.53396, 4.54296, 4.55296, 4.56296, 4.57296,...</td>\n",
       "    </tr>\n",
       "    <tr>\n",
       "      <th>17</th>\n",
       "      <td>E + CO2 =&gt; E + CO2(v18)</td>\n",
       "      <td>EXCITATION</td>\n",
       "      <td>4.7695332115386995</td>\n",
       "      <td>[[4.77284, 4.78184, 4.79184, 4.80184, 4.81184,...</td>\n",
       "    </tr>\n",
       "    <tr>\n",
       "      <th>18</th>\n",
       "      <td>E + CO2 =&gt; E + CO2(v19)</td>\n",
       "      <td>EXCITATION</td>\n",
       "      <td>5.005131702957276</td>\n",
       "      <td>[[5.00863, 5.01763, 5.02763, 5.03763, 5.04763,...</td>\n",
       "    </tr>\n",
       "    <tr>\n",
       "      <th>19</th>\n",
       "      <td>E + CO2 =&gt; E + CO2(v20)</td>\n",
       "      <td>EXCITATION</td>\n",
       "      <td>5.237638028492783</td>\n",
       "      <td>[[5.24132, 5.25032, 5.26032, 5.27032, 5.28032,...</td>\n",
       "    </tr>\n",
       "    <tr>\n",
       "      <th>20</th>\n",
       "      <td>E + CO2(v1) =&gt; E + CO2(v2)</td>\n",
       "      <td>EXCITATION</td>\n",
       "      <td>0.2881653114307035</td>\n",
       "      <td>[[0.28791, 0.29691, 0.30691, 0.31691, 0.32691,...</td>\n",
       "    </tr>\n",
       "    <tr>\n",
       "      <th>21</th>\n",
       "      <td>E + CO2(v1) =&gt; E + CO2(v3)</td>\n",
       "      <td>EXCITATION</td>\n",
       "      <td>0.5732384569783402</td>\n",
       "      <td>[[0.57321, 0.58221, 0.59221, 0.60221, 0.61221,...</td>\n",
       "    </tr>\n",
       "    <tr>\n",
       "      <th>22</th>\n",
       "      <td>E + CO2(v1) =&gt; E + CO2(v4)</td>\n",
       "      <td>EXCITATION</td>\n",
       "      <td>0.8552194366429111</td>\n",
       "      <td>[[0.85541, 0.86441, 0.87441, 0.88441, 0.89441,...</td>\n",
       "    </tr>\n",
       "    <tr>\n",
       "      <th>23</th>\n",
       "      <td>E + CO2(v1) =&gt; E + CO2(v5)</td>\n",
       "      <td>EXCITATION</td>\n",
       "      <td>1.1341082504244153</td>\n",
       "      <td>[[1.13452, 1.14352, 1.15352, 1.16352, 1.17352,...</td>\n",
       "    </tr>\n",
       "    <tr>\n",
       "      <th>24</th>\n",
       "      <td>E + CO2(v1) =&gt; E + CO2(v6)</td>\n",
       "      <td>EXCITATION</td>\n",
       "      <td>1.4099048983228528</td>\n",
       "      <td>[[1.41054, 1.41954, 1.42954, 1.43954, 1.44954,...</td>\n",
       "    </tr>\n",
       "    <tr>\n",
       "      <th>25</th>\n",
       "      <td>E + CO2(v1) =&gt; E + CO2(v7)</td>\n",
       "      <td>EXCITATION</td>\n",
       "      <td>1.6826093803382254</td>\n",
       "      <td>[[1.68346, 1.69246, 1.70246, 1.71246, 1.72246,...</td>\n",
       "    </tr>\n",
       "    <tr>\n",
       "      <th>26</th>\n",
       "      <td>E + CO2(v1) =&gt; E + CO2(v8)</td>\n",
       "      <td>EXCITATION</td>\n",
       "      <td>1.95222169647053</td>\n",
       "      <td>[[1.95329, 1.96229, 1.97229, 1.98229, 1.99229,...</td>\n",
       "    </tr>\n",
       "    <tr>\n",
       "      <th>27</th>\n",
       "      <td>E + CO2(v1) =&gt; E + CO2(v9)</td>\n",
       "      <td>EXCITATION</td>\n",
       "      <td>2.2187418467197695</td>\n",
       "      <td>[[2.22002, 2.22902, 2.23902, 2.24902, 2.25902,...</td>\n",
       "    </tr>\n",
       "    <tr>\n",
       "      <th>28</th>\n",
       "      <td>E + CO2(v1) =&gt; E + CO2(v10)</td>\n",
       "      <td>EXCITATION</td>\n",
       "      <td>2.4821698310859412</td>\n",
       "      <td>[[2.48366, 2.49266, 2.50266, 2.51266, 2.52266,...</td>\n",
       "    </tr>\n",
       "    <tr>\n",
       "      <th>29</th>\n",
       "      <td>E + CO2(v1) =&gt; E + CO2(v11)</td>\n",
       "      <td>EXCITATION</td>\n",
       "      <td>2.7425056495690474</td>\n",
       "      <td>[[2.7442, 2.7532, 2.7632, 2.7732, 2.7832, 2.80...</td>\n",
       "    </tr>\n",
       "    <tr>\n",
       "      <th>...</th>\n",
       "      <td>...</td>\n",
       "      <td>...</td>\n",
       "      <td>...</td>\n",
       "      <td>...</td>\n",
       "    </tr>\n",
       "    <tr>\n",
       "      <th>390</th>\n",
       "      <td>E + CO2(v19) =&gt; E + CO2(v9)</td>\n",
       "      <td>DEEXCITATION</td>\n",
       "      <td>-2.4951323789237363</td>\n",
       "      <td>[[0.1, 0.2, 0.3, 0.4, 0.5, 0.6, 0.7, 0.8, 0.9,...</td>\n",
       "    </tr>\n",
       "    <tr>\n",
       "      <th>391</th>\n",
       "      <td>E + CO2(v19) =&gt; E + CO2(v10)</td>\n",
       "      <td>DEEXCITATION</td>\n",
       "      <td>-2.2317043945575645</td>\n",
       "      <td>[[0.1, 0.2, 0.3, 0.4, 0.5, 0.6, 0.7, 0.8, 0.9,...</td>\n",
       "    </tr>\n",
       "    <tr>\n",
       "      <th>392</th>\n",
       "      <td>E + CO2(v19) =&gt; E + CO2(v11)</td>\n",
       "      <td>DEEXCITATION</td>\n",
       "      <td>-1.9713685760744584</td>\n",
       "      <td>[[0.1, 0.2, 0.3, 0.4, 0.5, 0.6, 0.7, 0.8, 0.9,...</td>\n",
       "    </tr>\n",
       "    <tr>\n",
       "      <th>393</th>\n",
       "      <td>E + CO2(v19) =&gt; E + CO2(v12)</td>\n",
       "      <td>DEEXCITATION</td>\n",
       "      <td>-1.7141249234744187</td>\n",
       "      <td>[[0.1, 0.2, 0.3, 0.4, 0.5, 0.6, 0.7, 0.8, 0.9,...</td>\n",
       "    </tr>\n",
       "    <tr>\n",
       "      <th>394</th>\n",
       "      <td>E + CO2(v19) =&gt; E + CO2(v13)</td>\n",
       "      <td>DEEXCITATION</td>\n",
       "      <td>-1.4599734367574455</td>\n",
       "      <td>[[0.1, 0.2, 0.3, 0.4, 0.5, 0.6, 0.7, 0.8, 0.9,...</td>\n",
       "    </tr>\n",
       "    <tr>\n",
       "      <th>395</th>\n",
       "      <td>E + CO2(v19) =&gt; E + CO2(v14)</td>\n",
       "      <td>DEEXCITATION</td>\n",
       "      <td>-1.2089141159235393</td>\n",
       "      <td>[[0.1, 0.2, 0.3, 0.4, 0.5, 0.6, 0.7, 0.8, 0.9,...</td>\n",
       "    </tr>\n",
       "    <tr>\n",
       "      <th>396</th>\n",
       "      <td>E + CO2(v19) =&gt; E + CO2(v15)</td>\n",
       "      <td>DEEXCITATION</td>\n",
       "      <td>-0.9609469609726986</td>\n",
       "      <td>[[0.1, 0.2, 0.3, 0.4, 0.5, 0.6, 0.7, 0.8, 0.9,...</td>\n",
       "    </tr>\n",
       "    <tr>\n",
       "      <th>397</th>\n",
       "      <td>E + CO2(v19) =&gt; E + CO2(v16)</td>\n",
       "      <td>DEEXCITATION</td>\n",
       "      <td>-0.7160719719049249</td>\n",
       "      <td>[[0.1, 0.2, 0.3, 0.4, 0.5, 0.6, 0.7, 0.8, 0.9,...</td>\n",
       "    </tr>\n",
       "    <tr>\n",
       "      <th>398</th>\n",
       "      <td>E + CO2(v19) =&gt; E + CO2(v17)</td>\n",
       "      <td>DEEXCITATION</td>\n",
       "      <td>-0.4742891487202172</td>\n",
       "      <td>[[0.1, 0.2, 0.3, 0.4, 0.5, 0.6, 0.7, 0.8, 0.9,...</td>\n",
       "    </tr>\n",
       "    <tr>\n",
       "      <th>399</th>\n",
       "      <td>E + CO2(v19) =&gt; E + CO2(v18)</td>\n",
       "      <td>DEEXCITATION</td>\n",
       "      <td>-0.23559849141857647</td>\n",
       "      <td>[[0.1, 0.2, 0.3, 0.4, 0.5, 0.6, 0.7, 0.8, 0.9,...</td>\n",
       "    </tr>\n",
       "    <tr>\n",
       "      <th>400</th>\n",
       "      <td>E + CO2(v20) =&gt; E + CO2</td>\n",
       "      <td>DEEXCITATION</td>\n",
       "      <td>-5.237638028492783</td>\n",
       "      <td>[[0.1, 0.2, 0.3, 0.4, 0.5, 0.6, 0.7, 0.8, 0.9,...</td>\n",
       "    </tr>\n",
       "    <tr>\n",
       "      <th>401</th>\n",
       "      <td>E + CO2(v20) =&gt; E + CO2(v1)</td>\n",
       "      <td>DEEXCITATION</td>\n",
       "      <td>-4.946380551179013</td>\n",
       "      <td>[[0.1, 0.2, 0.3, 0.4, 0.5, 0.6, 0.7, 0.8, 0.9,...</td>\n",
       "    </tr>\n",
       "    <tr>\n",
       "      <th>402</th>\n",
       "      <td>E + CO2(v20) =&gt; E + CO2(v2)</td>\n",
       "      <td>DEEXCITATION</td>\n",
       "      <td>-4.658215239748309</td>\n",
       "      <td>[[0.1, 0.2, 0.3, 0.4, 0.5, 0.6, 0.7, 0.8, 0.9,...</td>\n",
       "    </tr>\n",
       "    <tr>\n",
       "      <th>403</th>\n",
       "      <td>E + CO2(v20) =&gt; E + CO2(v3)</td>\n",
       "      <td>DEEXCITATION</td>\n",
       "      <td>-4.373142094200673</td>\n",
       "      <td>[[0.1, 0.2, 0.3, 0.4, 0.5, 0.6, 0.7, 0.8, 0.9,...</td>\n",
       "    </tr>\n",
       "    <tr>\n",
       "      <th>404</th>\n",
       "      <td>E + CO2(v20) =&gt; E + CO2(v4)</td>\n",
       "      <td>DEEXCITATION</td>\n",
       "      <td>-4.091161114536101</td>\n",
       "      <td>[[0.1, 0.2, 0.3, 0.4, 0.5, 0.6, 0.7, 0.8, 0.9,...</td>\n",
       "    </tr>\n",
       "    <tr>\n",
       "      <th>405</th>\n",
       "      <td>E + CO2(v20) =&gt; E + CO2(v5)</td>\n",
       "      <td>DEEXCITATION</td>\n",
       "      <td>-3.812"
      ],
      "text/plain": [
       "                          formula          type          threshold_eV  \\\n",
       "0          E + CO2 => E + CO2(v1)    EXCITATION    0.2912574773137701   \n",
       "1          E + CO2 => E + CO2(v2)    EXCITATION    0.5794227887444736   \n",
       "2          E + CO2 => E + CO2(v3)    EXCITATION    0.8644959342921104   \n",
       "3          E + CO2 => E + CO2(v4)    EXCITATION    1.1464769139566813   \n",
       "4          E + CO2 => E + CO2(v5)    EXCITATION    1.4253657277381855   \n",
       "5          E + CO2 => E + CO2(v6)    EXCITATION     1.701162375636623   \n",
       "6          E + CO2 => E + CO2(v7)    EXCITATION    1.9738668576519955   \n",
       "7          E + CO2 => E + CO2(v8)    EXCITATION       2.2434791737843   \n",
       "8          E + CO2 => E + CO2(v9)    EXCITATION    2.5099993240335396   \n",
       "9         E + CO2 => E + CO2(v10)    EXCITATION    2.7734273083997114   \n",
       "10        E + CO2 => E + CO2(v11)    EXCITATION    3.0337631268828176   \n",
       "11        E + CO2 => E + CO2(v12)    EXCITATION    3.2910067794828572   \n",
       "12        E + CO2 => E + CO2(v13)    EXCITATION    3.5451582661998304   \n",
       "13        E + CO2 => E + CO2(v14)    EXCITATION    3.7962175870337367   \n",
       "14        E + CO2 => E + CO2(v15)    EXCITATION     4.044184741984577   \n",
       "15        E + CO2 => E + CO2(v16)    EXCITATION     4.289059731052351   \n",
       "16        E + CO2 => E + CO2(v17)    EXCITATION     4.530842554237059   \n",
       "17        E + CO2 => E + CO2(v18)    EXCITATION    4.7695332115386995   \n",
       "18        E + CO2 => E + CO2(v19)    EXCITATION     5.005131702957276   \n",
       "19        E + CO2 => E + CO2(v20)    EXCITATION     5.237638028492783   \n",
       "20     E + CO2(v1) => E + CO2(v2)    EXCITATION    0.2881653114307035   \n",
       "21     E + CO2(v1) => E + CO2(v3)    EXCITATION    0.5732384569783402   \n",
       "22     E + CO2(v1) => E + CO2(v4)    EXCITATION    0.8552194366429111   \n",
       "23     E + CO2(v1) => E + CO2(v5)    EXCITATION    1.1341082504244153   \n",
       "24     E + CO2(v1) => E + CO2(v6)    EXCITATION    1.4099048983228528   \n",
       "25     E + CO2(v1) => E + CO2(v7)    EXCITATION    1.6826093803382254   \n",
       "26     E + CO2(v1) => E + CO2(v8)    EXCITATION      1.95222169647053   \n",
       "27     E + CO2(v1) => E + CO2(v9)    EXCITATION    2.2187418467197695   \n",
       "28    E + CO2(v1) => E + CO2(v10)    EXCITATION    2.4821698310859412   \n",
       "29    E + CO2(v1) => E + CO2(v11)    EXCITATION    2.7425056495690474   \n",
       "..                            ...           ...                   ...   \n",
       "390   E + CO2(v19) => E + CO2(v9)  DEEXCITATION   -2.4951323789237363   \n",
       "391  E + CO2(v19) => E + CO2(v10)  DEEXCITATION   -2.2317043945575645   \n",
       "392  E + CO2(v19) => E + CO2(v11)  DEEXCITATION   -1.9713685760744584   \n",
       "393  E + CO2(v19) => E + CO2(v12)  DEEXCITATION   -1.7141249234744187   \n",
       "394  E + CO2(v19) => E + CO2(v13)  DEEXCITATION   -1.4599734367574455   \n",
       "395  E + CO2(v19) => E + CO2(v14)  DEEXCITATION   -1.2089141159235393   \n",
       "396  E + CO2(v19) => E + CO2(v15)  DEEXCITATION   -0.9609469609726986   \n",
       "397  E + CO2(v19) => E + CO2(v16)  DEEXCITATION   -0.7160719719049249   \n",
       "398  E + CO2(v19) => E + CO2(v17)  DEEXCITATION   -0.4742891487202172   \n",
       "399  E + CO2(v19) => E + CO2(v18)  DEEXCITATION  -0.23559849141857647   \n",
       "400       E + CO2(v20) => E + CO2  DEEXCITATION    -5.237638028492783   \n",
       "401   E + CO2(v20) => E + CO2(v1)  DEEXCITATION    -4.946380551179013   \n",
       "402   E + CO2(v20) => E + CO2(v2)  DEEXCITATION    -4.658215239748309   \n",
       "403   E + CO2(v20) => E + CO2(v3)  DEEXCITATION    -4.373142094200673   \n",
       "404   E + CO2(v20) => E + CO2(v4)  DEEXCITATION    -4.091161114536101   \n",
       "405   E + CO2(v20) => E + CO2(v5)  DEEXCITATION   -3.8122723007545973   \n",
       "406   E + CO2(v20) => E + CO2(v6)  DEEXCITATION   -3.5364756528561596   \n",
       "407   E + CO2(v20) => E + CO2(v7)  DEEXCITATION    -3.263771170840787   \n",
       "408   E + CO2(v20) => E + CO2(v8)  DEEXCITATION   -2.9941588547084828   \n",
       "409   E + CO2(v20) => E + CO2(v9)  DEEXCITATION    -2.727638704459243   \n",
       "410  E + CO2(v20) => E + CO2(v10)  DEEXCITATION   -2.4642107200930714   \n",
       "411  E + CO2(v20) => E + CO2(v11)  DEEXCITATION   -2.2038749016099652   \n",
       "412  E + CO2(v20) => E + CO2(v12)  DEEXCITATION   -1.9466312490099256   \n",
       "413  E + CO2(v20) => E + CO2(v13)  DEEXCITATION   -1.6924797622929524   \n",
       "414  E + CO2(v20) => E + CO2(v14)  DEEXCITATION   -1.4414204414590461   \n",
       "415  E + CO2(v20) => E + CO2(v15)  DEEXCITATION   -1.1934532865082055   \n",
       "416  E + CO2(v20) => E + CO2(v16)  DEEXCITATION   -0.9485782974404318   \n",
       "417  E + CO2(v20) => E + CO2(v17)  DEEXCITATION   -0.7067954742557241   \n",
       "418  E + CO2(v20) => E + CO2(v18)  DEEXCITATION  -0.46810481695408335   \n",
       "419  E + CO2(v20) => E + CO2(v19)  DEEXCITATION  -0.23250632553550687   \n",
       "\n",
       "                                         cross_section  \n",
       "0    [[0.291, 0.3, 0.31, 0.32, 0.33, 0.35, 0.38, 0....  \n",
       "1    [[0.57939, 0.58839, 0.59839, 0.60839, 0.61839,...  \n",
       "2    [[0.86469, 0.87369, 0.88369, 0.89369, 0.90369,...  \n",
       "3    [[1.1469, 1.1559, 1.1659, 1.1759, 1.1859, 1.20...  \n",
       "4    [[1.42601, 1.43501, 1.44501, 1.45501, 1.46501,...  \n",
       "5    [[1.70203, 1.71103, 1.72103, 1.73103, 1.74103,...  \n",
       "6    [[1.97495, 1.98395, 1.99395, 2.00395, 2.01395,...  \n",
       "7    [[2.24478, 2.25378, 2.26378, 2.27378, 2.28378,...  \n",
       "8    [[2.51151, 2.52051, 2.53051, 2.54051, 2.55051,...  \n",
       "9    [[2.77515, 2.78415, 2.79415, 2.80415, 2.81415,...  \n",
       "10   [[3.03569, 3.04469, 3.05469, 3.06469, 3.07469,...  \n",
       "11   [[3.29314, 3.30214, 3.31214, 3.32214, 3.33214,...  \n",
       "12   [[3.54749, 3.55649, 3.56649, 3.57649, 3.58649,...  \n",
       "13   [[3.79875, 3.80775, 3.81775, 3.82775, 3.83775,...  \n",
       "14   [[4.04692, 4.05592, 4.06592, 4.07592, 4.08592,...  \n",
       "15   [[4.29199, 4.30099, 4.31099, 4.32099, 4.33099,...  \n",
       "16   [[4.53396, 4.54296, 4.55296, 4.56296, 4.57296,...  \n",
       "17   [[4.77284, 4.78184, 4.79184, 4.80184, 4.81184,...  \n",
       "18   [[5.00863, 5.01763, 5.02763, 5.03763, 5.04763,...  \n",
       "19   [[5.24132, 5.25032, 5.26032, 5.27032, 5.28032,...  \n",
       "20   [[0.28791, 0.29691, 0.30691, 0.31691, 0.32691,...  \n",
       "21   [[0.57321, 0.58221, 0.59221, 0.60221, 0.61221,...  \n",
       "22   [[0.85541, 0.86441, 0.87441, 0.88441, 0.89441,...  \n",
       "23   [[1.13452, 1.14352, 1.15352, 1.16352, 1.17352,...  \n",
       "24   [[1.41054, 1.41954, 1.42954, 1.43954, 1.44954,...  \n",
       "25   [[1.68346, 1.69246, 1.70246, 1.71246, 1.72246,...  \n",
       "26   [[1.95329, 1.96229, 1.97229, 1.98229, 1.99229,...  \n",
       "27   [[2.22002, 2.22902, 2.23902, 2.24902, 2.25902,...  \n",
       "28   [[2.48366, 2.49266, 2.50266, 2.51266, 2.52266,...  \n",
       "29   [[2.7442, 2.7532, 2.7632, 2.7732, 2.7832, 2.80...  \n",
       "..                                                 ...  \n",
       "390  [[0.1, 0.2, 0.3, 0.4, 0.5, 0.6, 0.7, 0.8, 0.9,...  \n",
       "391  [[0.1, 0.2, 0.3, 0.4, 0.5, 0.6, 0.7, 0.8, 0.9,...  \n",
       "392  [[0.1, 0.2, 0.3, 0.4, 0.5, 0.6, 0.7, 0.8, 0.9,...  \n",
       "393  [[0.1, 0.2, 0.3, 0.4, 0.5, 0.6, 0.7, 0.8, 0.9,...  \n",
       "394  [[0.1, 0.2, 0.3, 0.4, 0.5, 0.6, 0.7, 0.8, 0.9,...  \n",
       "395  [[0.1, 0.2, 0.3, 0.4, 0.5, 0.6, 0.7, 0.8, 0.9,...  \n",
       "396  [[0.1, 0.2, 0.3, 0.4, 0.5, 0.6, 0.7, 0.8, 0.9,...  \n",
       "397  [[0.1, 0.2, 0.3, 0.4, 0.5, 0.6, 0.7, 0.8, 0.9,...  \n",
       "398  [[0.1, 0.2, 0.3, 0.4, 0.5, 0.6, 0.7, 0.8, 0.9,...  \n",
       "399  [[0.1, 0.2, 0.3, 0.4, 0.5, 0.6, 0.7, 0.8, 0.9,...  \n",
       "400  [[0.1, 0.2, 0.3, 0.4, 0.5, 0.6, 0.7, 0.8, 0.9,...  \n",
       "401  [[0.1, 0.2, 0.3, 0.4, 0.5, 0.6, 0.7, 0.8, 0.9,...  \n",
       "402  [[0.1, 0.2, 0.3, 0.4, 0.5, 0.6, 0.7, 0.8, 0.9,...  \n",
       "403  [[0.1, 0.2, 0.3, 0.4, 0.5, 0.6, 0.7, 0.8, 0.9,...  \n",
       "404  [[0.1, 0.2, 0.3, 0.4, 0.5, 0.6, 0.7, 0.8, 0.9,...  \n",
       "405  [[0.1, 0.2, 0.3, 0.4, 0.5, 0.6, 0.7, 0.8, 0.9,...  \n",
       "406  [[0.1, 0.2, 0.3, 0.4, 0.5, 0.6, 0.7, 0.8, 0.9,...  \n",
       "407  [[0.1, 0.2, 0.3, 0.4, 0.5, 0.6, 0.7, 0.8, 0.9,...  \n",
       "408  [[0.1, 0.2, 0.3, 0.4, 0.5, 0.6, 0.7, 0.8, 0.9,...  \n",
       "409  [[0.1, 0.2, 0.3, 0.4, 0.5, 0.6, 0.7, 0.8, 0.9,...  \n",
       "410  [[0.1, 0.2, 0.3, 0.4, 0.5, 0.6, 0.7, 0.8, 0.9,...  \n",
       "411  [[0.1, 0.2, 0.3, 0.4, 0.5, 0.6, 0.7, 0.8, 0.9,...  \n",
       "412  [[0.1, 0.2, 0.3, 0.4, 0.5, 0.6, 0.7, 0.8, 0.9,...  \n",
       "413  [[0.1, 0.2, 0.3, 0.4, 0.5, 0.6, 0.7, 0.8, 0.9,...  \n",
       "414  [[0.1, 0.2, 0.3, 0.4, 0.5, 0.6, 0.7, 0.8, 0.9,...  \n",
       "415  [[0.1, 0.2, 0.3, 0.4, 0.5, 0.6, 0.7, 0.8, 0.9,...  \n",
       "416  [[0.1, 0.2, 0.3, 0.4, 0.5, 0.6, 0.7, 0.8, 0.9,...  \n",
       "417  [[0.1, 0.2, 0.3, 0.4, 0.5, 0.6, 0.7, 0.8, 0.9,...  \n",
       "418  [[0.1, 0.2, 0.3, 0.4, 0.5, 0.6, 0.7, 0.8, 0.9,...  \n",
       "419  [[0.1, 0.2, 0.3, 0.4, 0.5, 0.6, 0.7, 0.8, 0.9,...  \n",
       "\n",
       "[420 rows x 4 columns]"
      ]
     },
     "execution_count": 5,
     "metadata": {},
     "output_type": "execute_result"
    },
    {
     "data": {
      "text/html": [
       "<b>limit_output extension: Maximum message size of 10000 exceeded with 13126 characters</b>"
      ]
     },
     "metadata": {},
     "output_type": "display_data"
    }
   ],
   "source": [
    "# inelas_df = inelas_df.iloc[[0,1,2,3,4,5,6,7,8]].reset_index(drop=True)\n",
    "# inelas_df = inelas_df.iloc[[0,1,2]].reset_index(drop=True)\n",
    "inelas_df"
   ]
  },
  {
   "cell_type": "code",
   "execution_count": 6,
   "metadata": {
    "ExecuteTime": {
     "end_time": "2019-09-09T02:53:06.637711Z",
     "start_time": "2019-09-09T02:53:06.632726Z"
    }
   },
   "outputs": [],
   "source": [
    "inelas_df['threshold_eV'] = inelas_df['threshold_eV'].astype(float)"
   ]
  },
  {
   "cell_type": "code",
   "execution_count": 7,
   "metadata": {
    "ExecuteTime": {
     "end_time": "2019-09-09T02:53:06.719492Z",
     "start_time": "2019-09-09T02:53:06.640703Z"
    }
   },
   "outputs": [
    {
     "data": {
      "text/plain": [
       "array([[2.9e-01, 3.0e-01, 3.1e-01, 3.2e-01, 3.3e-01, 3.5e-01, 3.8e-01, 4.0e-01, 4.5e-01, 5.0e-01, 6.0e-01, 8.0e-01, 1.0e+00,\n",
       "        1.5e+00, 2.0e+00, 3.0e+00, 4.5e+00, 6.0e+00, 8.0e+00, 1.0e+01, 2.5e+01, 3.0e+01, 1.0e+02],\n",
       "       [0.0e+00, 9.5e-21, 1.7e-20, 1.9e-20, 2.0e-20, 2.2e-20, 2.2e-20, 2.2e-20, 2.0e-20, 1.9e-20, 1.5e-20, 1.2e-20, 1.0e-20,\n",
       "        7.6e-21, 6.4e-21, 4.9e-21, 4.4e-21, 4.1e-21, 4.8e-21, 2.6e-21, 1.4e-21, 1.0e-21, 0.0e+00]])"
      ]
     },
     "execution_count": 7,
     "metadata": {},
     "output_type": "execute_result"
    }
   ],
   "source": [
    "inelas_df['cross_section'][0]"
   ]
  },
  {
   "cell_type": "code",
   "execution_count": 8,
   "metadata": {
    "ExecuteTime": {
     "end_time": "2019-09-09T02:53:06.898015Z",
     "start_time": "2019-09-09T02:53:06.721487Z"
    }
   },
   "outputs": [],
   "source": [
    "eedf = EEDF(max_energy_eV=50, grid_number=500)\n",
    "# total_species = ['E', 'CO'] + [f'CO(v{v})' for v in range(1, 11)]\n",
    "total_species = ['E', 'CO2'] + [f'CO2(v{v})' for v in range(1, 22)]"
   ]
  },
  {
   "cell_type": "code",
   "execution_count": 9,
   "metadata": {
    "ExecuteTime": {
     "end_time": "2019-09-09T02:53:09.802253Z",
     "start_time": "2019-09-09T02:53:06.899013Z"
    }
   },
   "outputs": [],
   "source": [
    "eedf.initialize(rctn_with_crostn_df=inelas_df, total_species=total_species)\n",
    "# eedf.initialize(rctn_with_crostn_df=inelas_df, total_species=['E', 'H2', 'H2(v1)', 'H2(v2)', 'H2(v3)'])"
   ]
  },
  {
   "cell_type": "markdown",
   "metadata": {},
   "source": [
    "## properties"
   ]
  },
  {
   "cell_type": "code",
   "execution_count": 10,
   "metadata": {
    "ExecuteTime": {
     "end_time": "2019-09-09T02:53:09.827187Z",
     "start_time": "2019-09-09T02:53:09.804248Z"
    }
   },
   "outputs": [
    {
     "data": {
      "text/plain": [
       "array([[ 0.0e+00,  0.0e+00,  0.0e+00,  6.9e-15,  0.0e+00, ...,  0.0e+00,  0.0e+00,  0.0e+00,  0.0e+00,  0.0e+00],\n",
       "       [ 0.0e+00,  0.0e+00,  0.0e+00,  6.6e-16,  7.3e-15, ...,  0.0e+00,  0.0e+00,  0.0e+00,  0.0e+00,  0.0e+00],\n",
       "       [ 0.0e+00,  0.0e+00,  0.0e+00,  0.0e+00,  7.0e-16, ...,  0.0e+00,  0.0e+00,  0.0e+00,  0.0e+00,  0.0e+00],\n",
       "       [ 0.0e+00,  0.0e+00,  0.0e+00, -7.5e-15,  0.0e+00, ...,  0.0e+00,  0.0e+00,  0.0e+00,  0.0e+00,  0.0e+00],\n",
       "       [ 0.0e+00,  0.0e+00,  0.0e+00,  0.0e+00, -8.0e-15, ...,  0.0e+00,  0.0e+00,  0.0e+00,  0.0e+00,  0.0e+00],\n",
       "       ...,\n",
       "       [ 0.0e+00,  0.0e+00,  0.0e+00,  0.0e+00,  0.0e+00, ..., -1.1e-14,  0.0e+00,  1.1e-15,  1.9e-15,  0.0e+00],\n",
       "       [ 0.0e+00,  0.0e+00,  0.0e+00,  0.0e+00,  0.0e+00, ...,  0.0e+00, -1.1e-14,  0.0e+00,  1.1e-15,  1.9e-15],\n",
       "       [ 0.0e+00,  0.0e+00,  0.0e+00,  0.0e+00,  0.0e+00, ...,  1.0e-15,  0.0e+00, -7.7e-15,  0.0e+00,  1.1e-15],\n",
       "       [ 0.0e+00,  0.0e+00,  0.0e+00,  0.0e+00,  0.0e+00, ...,  2.0e-15,  1.0e-15,  0.0e+00, -7.6e-15,  0.0e+00],\n",
       "       [ 0.0e+00,  0.0e+00,  0.0e+00,  0.0e+00,  0.0e+00, ...,  0.0e+00,  2.0e-15,  0.0e+00,  0.0e+00, -7.6e-15]])"
      ]
     },
     "execution_count": 10,
     "metadata": {},
     "output_type": "execute_result"
    }
   ],
   "source": [
    "eedf.rate_const_matrix_e_inelas_electron.toarray()"
   ]
  },
  {
   "cell_type": "code",
   "execution_count": 11,
   "metadata": {
    "ExecuteTime": {
     "end_time": "2019-09-09T02:53:09.877053Z",
     "start_time": "2019-09-09T02:53:09.828184Z"
    }
   },
   "outputs": [
    {
     "data": {
      "text/plain": [
       "(10500, 500)"
      ]
     },
     "execution_count": 11,
     "metadata": {},
     "output_type": "execute_result"
    }
   ],
   "source": [
    "eedf.rate_const_matrix_e_inelas_electron.shape"
   ]
  },
  {
   "cell_type": "code",
   "execution_count": 12,
   "metadata": {
    "ExecuteTime": {
     "end_time": "2019-09-09T02:53:09.968808Z",
     "start_time": "2019-09-09T02:53:09.878051Z"
    }
   },
   "outputs": [
    {
     "data": {
      "text/plain": [
       "(420, 500)"
      ]
     },
     "execution_count": 12,
     "metadata": {},
     "output_type": "execute_result"
    }
   ],
   "source": [
    "eedf.rate_const_matrix_e_inelas_molecule.shape"
   ]
  },
  {
   "cell_type": "code",
   "execution_count": 13,
   "metadata": {
    "ExecuteTime": {
     "end_time": "2019-09-09T02:53:10.276984Z",
     "start_time": "2019-09-09T02:53:09.969806Z"
    }
   },
   "outputs": [
    {
     "data": {
      "text/plain": [
       "<matplotlib.image.AxesImage at 0x1e3ba153160>"
      ]
     },
     "execution_count": 13,
     "metadata": {},
     "output_type": "execute_result"
    },
    {
     "data": {
      "image/png": "[encoded data removed]",
      "text/plain": [
       "<Figure size 771.429x648 with 1 Axes>"
      ]
     },
     "metadata": {
      "needs_background": "light"
     },
     "output_type": "display_data"
    }
   ],
   "source": [
    "plt.matshow(eedf.rate_const_matrix_e_inelas_molecule)"
   ]
  },
  {
   "cell_type": "code",
   "execution_count": 14,
   "metadata": {
    "ExecuteTime": {
     "end_time": "2019-09-09T02:53:10.283966Z",
     "start_time": "2019-09-09T02:53:10.277982Z"
    }
   },
   "outputs": [
    {
     "data": {
      "text/plain": [
       "1"
      ]
     },
     "execution_count": 14,
     "metadata": {},
     "output_type": "execute_result"
    }
   ],
   "source": [
    "eedf.n_bg_molecule_elas"
   ]
  },
  {
   "cell_type": "code",
   "execution_count": 15,
   "metadata": {
    "ExecuteTime": {
     "end_time": "2019-09-09T02:53:10.376718Z",
     "start_time": "2019-09-09T02:53:10.285961Z"
    }
   },
   "outputs": [
    {
     "data": {
      "text/plain": [
       "['CO2']"
      ]
     },
     "execution_count": 15,
     "metadata": {},
     "output_type": "execute_result"
    }
   ],
   "source": [
    "eedf.bg_molecule_elas"
   ]
  },
  {
   "cell_type": "code",
   "execution_count": 16,
   "metadata": {
    "ExecuteTime": {
     "end_time": "2019-09-09T02:53:10.508367Z",
     "start_time": "2019-09-09T02:53:10.377720Z"
    }
   },
   "outputs": [
    {
     "data": {
      "text/plain": [
       "21"
      ]
     },
     "execution_count": 16,
     "metadata": {},
     "output_type": "execute_result"
    }
   ],
   "source": [
    "eedf.n_bg_molecule_inelas"
   ]
  },
  {
   "cell_type": "code",
   "execution_count": 17,
   "metadata": {
    "ExecuteTime": {
     "end_time": "2019-09-09T02:53:10.585161Z",
     "start_time": "2019-09-09T02:53:10.509364Z"
    }
   },
   "outputs": [
    {
     "data": {
      "text/plain": [
       "array(['CO2', 'CO2(v1)', 'CO2(v10)', 'CO2(v11)', 'CO2(v12)', 'CO2(v13)', 'CO2(v14)', 'CO2(v15)', 'CO2(v16)', 'CO2(v17)',\n",
       "       'CO2(v18)', 'CO2(v19)', 'CO2(v2)', 'CO2(v20)', 'CO2(v3)', 'CO2(v4)', 'CO2(v5)', 'CO2(v6)', 'CO2(v7)', 'CO2(v8)',\n",
       "       'CO2(v9)'], dtype=object)"
      ]
     },
     "execution_count": 17,
     "metadata": {},
     "output_type": "execute_result"
    }
   ],
   "source": [
    "eedf.bg_molecule_inelas"
   ]
  },
  {
   "cell_type": "code",
   "execution_count": 18,
   "metadata": {
    "ExecuteTime": {
     "end_time": "2019-09-09T02:53:10.659961Z",
     "start_time": "2019-09-09T02:53:10.586159Z"
    }
   },
   "outputs": [
    {
     "data": {
      "text/plain": [
       "420"
      ]
     },
     "execution_count": 18,
     "metadata": {},
     "output_type": "execute_result"
    }
   ],
   "source": [
    "eedf.n_inelas_rctn"
   ]
  },
  {
   "cell_type": "code",
   "execution_count": 19,
   "metadata": {
    "ExecuteTime": {
     "end_time": "2019-09-09T02:53:10.741743Z",
     "start_time": "2019-09-09T02:53:10.660959Z"
    }
   },
   "outputs": [
    {
     "data": {
      "text/plain": [
       "array(['CO2', 'CO2', 'CO2', 'CO2', 'CO2', 'CO2', 'CO2', 'CO2', 'CO2', 'CO2', 'CO2', 'CO2', 'CO2', 'CO2', 'CO2', 'CO2', 'CO2',\n",
       "       'CO2', 'CO2', 'CO2', 'CO2(v1)', 'CO2(v1)', 'CO2(v1)', 'CO2(v1)', 'CO2(v1)', 'CO2(v1)', 'CO2(v1)', 'CO2(v1)', 'CO2(v1)',\n",
       "       'CO2(v1)', 'CO2(v1)', 'CO2(v1)', 'CO2(v1)', 'CO2(v1)', 'CO2(v1)', 'CO2(v1)', 'CO2(v1)', 'CO2(v1)', 'CO2(v1)', 'CO2(v2)',\n",
       "       'CO2(v2)', 'CO2(v2)', 'CO2(v2)', 'CO2(v2)', 'CO2(v2)', 'CO2(v2)', 'CO2(v2)', 'CO2(v2)', 'CO2(v2)', 'CO2(v2)', 'CO2(v2)',\n",
       "       'CO2(v2)', 'CO2(v2)', 'CO2(v2)', 'CO2(v2)', 'CO2(v2)', 'CO2(v2)', 'CO2(v3)', 'CO2(v3)', 'CO2(v3)', 'CO2(v3)', 'CO2(v3)',\n",
       "       'CO2(v3)', 'CO2(v3)', 'CO2(v3)', 'CO2(v3)', 'CO2(v3)', 'CO2(v3)', 'CO2(v3)', 'CO2(v3)', 'CO2(v3)', 'CO2(v3)', 'CO2(v3)',\n",
       "       'CO2(v3)', 'CO2(v4)', 'CO2(v4)', 'CO2(v4)', 'CO2(v4)', 'CO2(v4)', 'CO2(v4)', 'CO2(v4)', 'CO2(v4)', 'CO2(v4)', 'CO2(v4)',\n",
       "       'CO2(v4)', 'CO2(v4)', 'CO2(v4)', 'CO2(v4)', 'CO2(v4)', 'CO2(v4)', 'CO2(v5)', 'CO2(v5)', 'CO2(v5)', 'CO2(v5)', 'CO2(v5)',\n",
       "       'CO2(v5)', 'CO2(v5)', 'CO2(v5)', 'CO2(v5)', 'CO2(v5)', 'CO2(v5)', 'CO2(v5)', 'CO2(v5)', 'CO2(v5)', 'CO2(v5)', 'CO2(v6)',\n",
       "       'CO2(v6)', 'CO2(v6)', 'CO2(v6)', 'CO2(v6)', 'CO2(v6)', 'CO2(v6)', 'CO2(v6)', 'CO2(v6)', 'CO2(v6)', 'CO2(v6)', 'CO2(v6)',\n",
       "       'CO2(v6)', 'CO2(v6)', 'CO2(v7)', 'CO2(v7)', 'CO2(v7)', 'CO2(v7)', 'CO2(v7)', 'CO2(v7)', 'CO2(v7)', 'CO2(v7)', 'CO2(v7)',\n",
       "       'CO2(v7)', 'CO2(v7)', 'CO2(v7)', 'CO2(v7)', 'CO2(v8)', 'CO2(v8)', 'CO2(v8)', 'CO2(v8)', 'CO2(v8)', 'CO2(v8)', 'CO2(v8)',\n",
       "       'CO2(v8)', 'CO2(v8)', 'CO2(v8)', 'CO2(v8)', 'CO2(v8)', 'CO2(v9)', 'CO2(v9)', 'CO2(v9)', 'CO2(v9)', 'CO2(v9)', 'CO2(v9)',\n",
       "       'CO2(v9)', 'CO2(v9)', 'CO2(v9)', 'CO2(v9)', 'CO2(v9)', 'CO2(v10)', 'CO2(v10)', 'CO2(v10)', 'CO2(v10)', 'CO2(v10)',\n",
       "       'CO2(v10)', 'CO2(v10)', 'CO2(v10)', 'CO2(v10)', 'CO2(v10)', 'CO2(v11)', 'CO2(v11)', 'CO2(v11)', 'CO2(v11)', 'CO2(v11)',\n",
       "       'CO2(v11)', 'CO2(v11)', 'CO2(v11)', 'CO2(v11)', 'CO2(v12)', 'CO2(v12)', 'CO2(v12)', 'CO2(v12)', 'CO2(v12)', 'CO2(v12)',\n",
       "       'CO2(v12)', 'CO2(v12)', 'CO2(v13)', 'CO2(v13)', 'CO2(v13)', 'CO2(v13)', 'CO2(v13)', 'CO2(v13)', 'CO2(v13)', 'CO2(v14)',\n",
       "       'CO2(v14)', 'CO2(v14)', 'CO2(v14)', 'CO2(v14)', 'CO2(v14)', 'CO2(v15)', 'CO2(v15)', 'CO2(v15)', 'CO2(v15)', 'CO2(v15)',\n",
       "       'CO2(v16)', 'CO2(v16)', 'CO2(v16)', 'CO2(v16)', 'CO2(v17)', 'CO2(v17)', 'CO2(v17)', 'CO2(v18)', 'CO2(v18)', 'CO2(v19)',\n",
       "       'CO2(v1)', 'CO2(v2)', 'CO2(v2)', 'CO2(v3)', 'CO2(v3)', 'CO2(v3)', 'CO2(v4)', 'CO2(v4)', 'CO2(v4)', 'CO2(v4)', 'CO2(v5)',\n",
       "       'CO2(v5)', 'CO2(v5)', 'CO2(v5)', 'CO2(v5)', 'CO2(v6)', 'CO2(v6)', 'CO2(v6)', 'CO2(v6)', 'CO2(v6)', 'CO2(v6)', 'CO2(v7)',\n",
       "       'CO2(v7)', 'CO2(v7)', 'CO2(v7)', 'CO2(v7)', 'CO2(v7)', 'CO2(v7)', 'CO2(v8)', 'CO2(v8)', 'CO2(v8)', 'CO2(v8)', 'CO2(v8)',\n",
       "       'CO2(v8)', 'CO2(v8)', 'CO2(v8)', 'CO2(v9)', 'CO2(v9)', 'CO2(v9)', 'CO2(v9)', 'CO2(v9)', 'CO2(v9)', 'CO2(v9)', 'CO2(v9)',\n",
       "       'CO2(v9)', 'CO2(v10)', 'CO2(v10)', 'CO2(v10)', 'CO2(v10)', 'CO2(v10)', 'CO2(v10)', 'CO2(v10)', 'CO2(v10)', 'CO2(v10)',\n",
       "       'CO2(v10)', 'CO2(v11)', 'CO2(v11)', 'CO2(v11)', 'CO2(v11)', 'CO2(v11)', 'CO2(v11)', 'CO2(v11)', 'CO2(v11)', 'CO2(v11)',\n",
       "       'CO2(v11)', 'CO2(v11)', 'CO2(v12)', 'CO2(v12)', 'CO2(v12)', 'CO2(v12)', 'CO2(v12)', 'CO2(v12)', 'CO2(v12)', 'CO2(v12)',\n",
       "       'CO2(v12)', 'CO2(v12)', 'CO2(v12)', 'CO2(v12)', 'CO2(v13)', 'CO2(v13)', 'CO2(v13)', 'CO2(v13)', 'CO2(v13)', 'CO2(v13)',\n",
       "       'CO2(v13)', 'CO2(v13)', 'CO2(v13)', 'CO2(v13)', 'CO2(v13)', 'CO2(v13)', 'CO2(v13)', 'CO2(v14)', 'CO2(v14)', 'CO2(v14)',\n",
       "       'CO2(v14)', 'CO2(v14)', 'CO2(v14)', 'CO2(v14)', 'CO2(v14)', 'CO2(v14)', 'CO2(v14)', 'CO2(v14)', 'CO2(v14)', 'CO2(v14)',\n",
       "       'CO2(v14)', 'CO2(v15)', 'CO2(v15)', 'CO2(v15)', 'CO2(v15)', 'CO2(v15)', 'CO2(v15)', 'CO2(v15)', 'CO2(v15)', 'CO2(v15)',\n",
       "       'CO2(v15)', 'CO2(v15)', 'CO2(v15)', 'CO2(v15)', 'CO2(v15)', 'CO2(v15)', 'CO2(v16)', 'CO2(v16)', 'CO2(v16)', 'CO2(v16)',\n",
       "       'CO2(v16)', 'CO2(v16)', 'CO2(v16)', 'CO2(v16)', 'CO2(v16)', 'CO2(v16)', 'CO2(v16)', 'CO2(v16)', 'CO2(v16)', 'CO2(v16)',\n",
       "       'CO2(v16)', 'CO2(v16)', 'CO2(v17)', 'CO2(v17)', 'CO2(v17)', 'CO2(v17)', 'CO2(v17)', 'CO2(v17)', 'CO2(v17)', 'CO2(v17)',\n",
       "       'CO2(v17)', 'CO2(v17)', 'CO2(v17)', 'CO2(v17)', 'CO2(v17)', 'CO2(v17)', 'CO2(v17)', 'CO2(v17)', 'CO2(v17)', 'CO2(v18)',\n",
       "       'CO2(v18)', 'CO2(v18)', 'CO2(v18)', 'CO2(v18)', 'CO2(v18)', 'CO2(v18)', 'CO2(v18)', 'CO2(v18)', 'CO2(v18)', 'CO2(v18)',\n",
       "       'CO2(v18)', 'CO2(v18)', 'CO2(v18)', 'CO2(v18)', 'CO2(v18)', 'CO2(v18)', 'CO2(v18)', 'CO2(v19)', 'CO2(v19)', 'CO2(v19)',\n",
       "       'CO2(v19)', 'CO2(v19)', 'CO2(v19)', 'CO2(v19)', 'CO2(v19)', 'CO2(v19)', 'CO2(v19)', 'CO2(v19)', 'CO2(v19)', 'CO2(v19)',\n",
       "       'CO2(v19)', 'CO2(v19)', 'CO2(v19)', 'CO2(v19)', 'CO2(v19)', 'CO2(v19)', 'CO2(v20)', 'CO2(v20)', 'CO2(v20)', 'CO2(v20)',\n",
       "       'CO2(v20)', 'CO2(v20)', 'CO2(v20)', 'CO2(v20)', 'CO2(v20)', 'CO2(v20)', 'CO2(v20)', 'CO2(v20)', 'CO2(v20)', 'CO2(v20)',\n",
       "       'CO2(v20)', 'CO2(v20)', 'CO2(v20)', 'CO2(v20)', 'CO2(v20)', 'CO2(v20)'], dtype=object)"
      ]
     },
     "execution_count": 19,
     "metadata": {},
     "output_type": "execute_result"
    }
   ],
   "source": [
    "eedf.bg_molecule_inelas_in_order"
   ]
  },
  {
   "cell_type": "code",
   "execution_count": 20,
   "metadata": {
    "ExecuteTime": {
     "end_time": "2019-09-09T02:53:11.605434Z",
     "start_time": "2019-09-09T02:53:10.742740Z"
    }
   },
   "outputs": [
    {
     "data": {
      "text/plain": [
       "<matplotlib.lines.Line2D at 0x1e3ba25b470>"
      ]
     },
     "execution_count": 20,
     "metadata": {},
     "output_type": "execute_result"
    },
    {
     "data": {
      "image/png": "[encoded data removed]",
      "text/plain": [
       "<Figure size 864x648 with 1 Axes>"
      ]
     },
     "metadata": {
      "needs_background": "light"
     },
     "output_type": "display_data"
    }
   ],
   "source": [
    "plt.spy(eedf.rate_const_matrix_e_inelas_electron, markersize=2)"
   ]
  },
  {
   "cell_type": "code",
   "execution_count": 21,
   "metadata": {
    "ExecuteTime": {
     "end_time": "2019-09-09T02:53:11.612416Z",
     "start_time": "2019-09-09T02:53:11.606433Z"
    }
   },
   "outputs": [
    {
     "data": {
      "text/plain": [
       "array([[0.0e+00, 0.0e+00, 1.4e-36, 1.2e-34, 1.3e-34, ..., 4.8e-35, 4.8e-35, 4.8e-35, 4.8e-35, 4.8e-35],\n",
       "       [0.0e+00, 0.0e+00, 0.0e+00, 0.0e+00, 0.0e+00, ..., 2.9e-35, 2.9e-35, 2.9e-35, 2.9e-35, 2.9e-35],\n",
       "       [0.0e+00, 0.0e+00, 0.0e+00, 0.0e+00, 0.0e+00, ..., 1.8e-35, 1.8e-35, 1.8e-35, 1.8e-35, 1.8e-35],\n",
       "       [0.0e+00, 0.0e+00, 0.0e+00, 0.0e+00, 0.0e+00, ..., 1.1e-35, 1.1e-35, 1.1e-35, 1.1e-35, 1.1e-35],\n",
       "       [0.0e+00, 0.0e+00, 0.0e+00, 0.0e+00, 0.0e+00, ..., 6.7e-36, 6.7e-36, 6.7e-36, 6.7e-36, 6.6e-36],\n",
       "       ...,\n",
       "       [4.0e-35, 1.0e-34, 6.7e-35, 5.1e-35, 4.2e-35, ..., 0.0e+00, 0.0e+00, 0.0e+00, 0.0e+00, 0.0e+00],\n",
       "       [5.4e-35, 1.4e-34, 9.2e-35, 7.1e-35, 5.9e-35, ..., 0.0e+00, 0.0e+00, 0.0e+00, 0.0e+00, 0.0e+00],\n",
       "       [6.9e-35, 1.8e-34, 1.2e-34, 9.5e-35, 8.1e-35, ..., 0.0e+00, 0.0e+00, 0.0e+00, 0.0e+00, 0.0e+00],\n",
       "       [8.0e-35, 2.1e-34, 1.5e-34, 1.2e-34, 9.7e-35, ..., 0.0e+00, 0.0e+00, 0.0e+00, 0.0e+00, 0.0e+00],\n",
       "       [7.7e-35, 2.1e-34, 1.5e-34, 1.4e-34, 1.3e-34, ..., 4.8e-35, 4.8e-35, 0.0e+00, 0.0e+00, 0.0e+00]])"
      ]
     },
     "execution_count": 21,
     "metadata": {},
     "output_type": "execute_result"
    }
   ],
   "source": [
    "eedf.rate_const_matrix_e_inelas_molecule"
   ]
  },
  {
   "cell_type": "code",
   "execution_count": 22,
   "metadata": {
    "ExecuteTime": {
     "end_time": "2019-09-09T02:53:11.711153Z",
     "start_time": "2019-09-09T02:53:11.616406Z"
    }
   },
   "outputs": [
    {
     "data": {
      "text/plain": [
       "2.0694208821943807e+24"
      ]
     },
     "execution_count": 22,
     "metadata": {},
     "output_type": "execute_result"
    }
   ],
   "source": [
    "N = get_ideal_gas_density(p_Pa=1e5, Tgas_K=3500)\n",
    "N"
   ]
  },
  {
   "cell_type": "markdown",
   "metadata": {},
   "source": [
    "# Set parameters"
   ]
  },
  {
   "cell_type": "code",
   "execution_count": 48,
   "metadata": {
    "ExecuteTime": {
     "end_time": "2019-09-09T02:54:58.793013Z",
     "start_time": "2019-09-09T02:54:58.789024Z"
    }
   },
   "outputs": [],
   "source": [
    "eedf.set_parameters(E=100/0.01, Tgas=3500, N=N)"
   ]
  },
  {
   "cell_type": "code",
   "execution_count": 49,
   "metadata": {
    "ExecuteTime": {
     "end_time": "2019-09-09T02:55:27.890250Z",
     "start_time": "2019-09-09T02:55:27.886261Z"
    }
   },
   "outputs": [],
   "source": [
    "total_species_density = np.ones(len(total_species))* N\n",
    "# total_species_density = np.array([0,1,0,0,0])*N\n",
    "def dndt_all(t, y):\n",
    "    eedf.set_density_per_J(y)\n",
    "    eedf.set_flux(total_species_density=total_species_density)\n",
    "    return eedf.get_deriv_total(total_species_density=total_species_density) "
   ]
  },
  {
   "cell_type": "code",
   "execution_count": 50,
   "metadata": {
    "ExecuteTime": {
     "end_time": "2019-09-09T02:55:32.781179Z",
     "start_time": "2019-09-09T02:55:27.891248Z"
    }
   },
   "outputs": [],
   "source": [
    "y0 = get_maxwell_eedf(eedf.energy_point, Te_eV=0.7)*1e20\n",
    "time_span = [0, 1e3]\n",
    "sol = solve_ivp(dndt_all, time_span, y0, method=\"BDF\")"
   ]
  },
  {
   "cell_type": "code",
   "execution_count": 51,
   "metadata": {
    "ExecuteTime": {
     "end_time": "2019-09-09T02:55:32.787163Z",
     "start_time": "2019-09-09T02:55:32.783173Z"
    }
   },
   "outputs": [
    {
     "data": {
      "text/plain": [
       "201"
      ]
     },
     "execution_count": 51,
     "metadata": {},
     "output_type": "execute_result"
    }
   ],
   "source": [
    "len(sol.t)"
   ]
  },
  {
   "cell_type": "code",
   "execution_count": 52,
   "metadata": {
    "ExecuteTime": {
     "end_time": "2019-09-09T02:55:33.246934Z",
     "start_time": "2019-09-09T02:55:32.789158Z"
    },
    "cell_style": "split"
   },
   "outputs": [
    {
     "data": {
      "text/plain": [
       "[<matplotlib.lines.Line2D at 0x1e3c2c85c88>,\n",
       " <matplotlib.lines.Line2D at 0x1e3c2bbd128>,\n",
       " <matplotlib.lines.Line2D at 0x1e3c2bce9e8>,\n",
       " <matplotlib.lines.Line2D at 0x1e3c2bce780>,\n",
       " <matplotlib.lines.Line2D at 0x1e3c2bdbba8>,\n",
       " <matplotlib.lines.Line2D at 0x1e3c2bdb630>,\n",
       " <matplotlib.lines.Line2D at 0x1e3c2c67cf8>,\n",
       " <matplotlib.lines.Line2D at 0x1e3c2c67320>,\n",
       " <matplotlib.lines.Line2D at 0x1e3ba29bef0>,\n",
       " <matplotlib.lines.Line2D at 0x1e3ba29b860>,\n",
       " <matplotlib.lines.Line2D at 0x1e3c2b89550>,\n",
       " <matplotlib.lines.Line2D at 0x1e3c2c90860>,\n",
       " <matplotlib.lines.Line2D at 0x1e3c2c907f0>,\n",
       " <matplotlib.lines.Line2D at 0x1e3c2ba9eb8>,\n",
       " <matplotlib.lines.Line2D at 0x1e3c2ba99e8>,\n",
       " <matplotlib.lines.Line2D at 0x1e3be58b438>,\n",
       " <matplotlib.lines.Line2D at 0x1e3c26995f8>,\n",
       " <matplotlib.lines.Line2D at 0x1e3c2c76860>,\n",
       " <matplotlib.lines.Line2D at 0x1e3c2c4f080>,\n",
       " <matplotlib.lines.Line2D at 0x1e3c2c4f1d0>,\n",
       " <matplotlib.lines.Line2D at 0x1e3c2c4f320>]"
      ]
     },
     "execution_count": 52,
     "metadata": {},
     "output_type": "execute_result"
    },
    {
     "data": {
      "image/png": "[encoded data removed]",
      "text/plain": [
       "<Figure size 864x648 with 1 Axes>"
      ]
     },
     "metadata": {
      "needs_background": "light"
     },
     "output_type": "display_data"
    }
   ],
   "source": [
    "plt.semilogy(eedf.energy_point_eV, (sol.y.transpose()/np.sqrt(eedf.energy_point)).transpose()[:,::10])"
   ]
  },
  {
   "cell_type": "code",
   "execution_count": 53,
   "metadata": {
    "ExecuteTime": {
     "end_time": "2019-09-09T02:55:33.500257Z",
     "start_time": "2019-09-09T02:55:33.247931Z"
    },
    "cell_style": "split"
   },
   "outputs": [
    {
     "data": {
      "image/png": "[encoded data removed]",
      "text/plain": [
       "<Figure size 864x648 with 1 Axes>"
      ]
     },
     "metadata": {
      "needs_background": "light"
     },
     "output_type": "display_data"
    }
   ],
   "source": [
    "eedf.set_density_per_J(sol.y[:,0])\n",
    "eedf.plot_normalized_eepf()"
   ]
  },
  {
   "cell_type": "code",
   "execution_count": 54,
   "metadata": {
    "ExecuteTime": {
     "end_time": "2019-09-09T02:55:33.679778Z",
     "start_time": "2019-09-09T02:55:33.501254Z"
    },
    "cell_style": "split",
    "scrolled": true
   },
   "outputs": [
    {
     "data": {
      "image/png": "[encoded data removed]",
      "text/plain": [
       "<Figure size 864x648 with 1 Axes>"
      ]
     },
     "metadata": {
      "needs_background": "light"
     },
     "output_type": "display_data"
    }
   ],
   "source": [
    "eedf.plot_normalized_eedf()"
   ]
  },
  {
   "cell_type": "code",
   "execution_count": 55,
   "metadata": {
    "ExecuteTime": {
     "end_time": "2019-09-09T02:55:33.992940Z",
     "start_time": "2019-09-09T02:55:33.681772Z"
    },
    "cell_style": "split"
   },
   "outputs": [
    {
     "data": {
      "image/png": "[encoded data removed]",
      "text/plain": [
       "<Figure size 864x648 with 1 Axes>"
      ]
     },
     "metadata": {
      "needs_background": "light"
     },
     "output_type": "display_data"
    }
   ],
   "source": [
    "eedf.set_density_per_J(sol.y[:,-1])\n",
    "eedf.plot_normalized_eepf(xlim=(0,30), ylim=(1e-12, 1e2))\n"
   ]
  },
  {
   "cell_type": "code",
   "execution_count": 56,
   "metadata": {
    "ExecuteTime": {
     "end_time": "2019-09-09T02:55:34.001917Z",
     "start_time": "2019-09-09T02:55:33.994935Z"
    }
   },
   "outputs": [],
   "source": [
    "np.savetxt('output.dat', np.vstack((eedf.energy_point_eV, eedf.normalized_eepf_eV)).transpose())"
   ]
  },
  {
   "cell_type": "code",
   "execution_count": 57,
   "metadata": {
    "ExecuteTime": {
     "end_time": "2019-09-09T02:55:34.088684Z",
     "start_time": "2019-09-09T02:55:34.002914Z"
    }
   },
   "outputs": [
    {
     "name": "stdout",
     "output_type": "stream",
     "text": [
      "\n",
      "        \n",
      " ===============\n",
      "        \n",
      "               ENERGY SPACE (eV) : (0.0, 50.0)\n",
      "        \n",
      "     NUMBER OF DISCRETIZED CELLS : 500 cells\n",
      "        \n",
      "            ENERGY INTERVAL (eV) : 0.100 \n",
      "        \n",
      " ===============\n",
      "        \n",
      "            ELECTRON TEMPERATURE : 16.1902 eV\n",
      "        \n",
      "            ELECTRON MEAN ENERGY : 24.2853 eV\n",
      "        \n",
      "                ELECTRON DENSITY : 3.39e+20 m^-3\n",
      "        \n",
      " ===============\n",
      "        \n",
      "              ELECTRIC FIELD (E) : 10000 V/m (0.10 kV/cm) \n",
      "        \n",
      "          GAS TEMPERATURE (Tgas) : 3500 K\n",
      "        \n",
      " BACKGROUND MOLECULE DENSITY (N) : 2.1e+24 m^-3\n",
      "        \n",
      "    REDUCED ELECTRIC FIELD (E/N) : 4.8 Td\n",
      "        \n",
      " ===============\n",
      "        \n",
      "     ELASTIC COLLISION MOLECULES : ['CO2']\n",
      "        \n",
      "   INELASTIC COLLISION MOLECULES : ['CO2' 'CO2(v1)' 'CO2(v10)' 'CO2(v11)' 'CO2(v12)' 'CO2(v13)' 'CO2(v14)' 'CO2(v15)' 'CO2(v16)' 'CO2(v17)' 'CO2(v18)' 'CO2(v19)'\n",
      " 'CO2(v2)' 'CO2(v20)' 'CO2(v3)' 'CO2(v4)' 'CO2(v5)' 'CO2(v6)' 'CO2(v7)' 'CO2(v8)' 'CO2(v9)']\n",
      "        \n"
     ]
    }
   ],
   "source": [
    "print(eedf)"
   ]
  },
  {
   "cell_type": "code",
   "execution_count": 58,
   "metadata": {
    "ExecuteTime": {
     "end_time": "2019-09-09T02:55:34.183431Z",
     "start_time": "2019-09-09T02:55:34.089681Z"
    }
   },
   "outputs": [
    {
     "data": {
      "text/plain": [
       "array([3.5e-15, 2.1e-15, 1.3e-15, 7.9e-16, 4.8e-16, 3.0e-16, 1.8e-16, 1.1e-16, 6.8e-17, 4.2e-17, 2.5e-17, 1.6e-17, 9.5e-18,\n",
       "       5.8e-18, 3.6e-18, 2.2e-18, 1.3e-18, 8.2e-19, 5.0e-19, 3.1e-19, 3.5e-15, 2.1e-15, 1.3e-15, 7.9e-16, 4.8e-16, 2.9e-16,\n",
       "       1.8e-16, 1.1e-16, 6.8e-17, 4.1e-17, 2.5e-17, 1.6e-17, 9.5e-18, 5.8e-18, 3.6e-18, 2.2e-18, 1.3e-18, 8.2e-19, 5.0e-19,\n",
       "       3.5e-15, 2.1e-15, 1.3e-15, 7.9e-16, 4.8e-16, 2.9e-16, 1.8e-16, 1.1e-16, 6.8e-17, 4.1e-17, 2.5e-17, 1.6e-17, 9.5e-18,\n",
       "       5.8e-18, 3.6e-18, 2.2e-18, 1.3e-18, 8.1e-19, 3.5e-15, 2.1e-15, 1.3e-15, 7.9e-16, 4.8e-16, 2.9e-16, 1.8e-16, 1.1e-16,\n",
       "       6.8e-17, 4.1e-17, 2.5e-17, 1.6e-17, 9.5e-18, 5.8e-18, 3.6e-18, 2.2e-18, 1.3e-18, 3.5e-15, 2.1e-15, 1.3e-15, 7.9e-16,\n",
       "       4.8e-16, 2.9e-16, 1.8e-16, 1.1e-16, 6.8e-17, 4.1e-17, 2.5e-17, 1.5e-17, 9.5e-18, 5.8e-18, 3.5e-18, 2.2e-18, 3.5e-15,\n",
       "       2.1e-15, 1.3e-15, 7.9e-16, 4.8e-16, 2.9e-16, 1.8e-16, 1.1e-16, 6.7e-17, 4.1e-17, 2.5e-17, 1.5e-17, 9.5e-18, 5.8e-18,\n",
       "       3.5e-18, 3.5e-15, 2.1e-15, 1.3e-15, 7.9e-16, 4.8e-16, 2.9e-16, 1.8e-16, 1.1e-16, 6.7e-17, 4.1e-17, 2.5e-17, 1.5e-17,\n",
       "       9.5e-18, 5.8e-18, 3.5e-15, 2.1e-15, 1.3e-15, 7.9e-16, 4.8e-16, 2.9e-16, 1.8e-16, 1.1e-16, 6.7e-17, 4.1e-17, 2.5e-17,\n",
       "       1.5e-17, 9.4e-18, 3.5e-15, 2.1e-15, 1.3e-15, 7.9e-16, 4.8e-16, 2.9e-16, 1.8e-16, 1.1e-16, 6.7e-17, 4.1e-17, 2.5e-17,\n",
       "       1.5e-17, 3.5e-15, 2.1e-15, 1.3e-15, 7.9e-16, 4.8e-16, 2.9e-16, 1.8e-16, 1.1e-16, 6.7e-17, 4.1e-17, 2.5e-17, 3.5e-15,\n",
       "       2.1e-15, 1.3e-15, 7.9e-16, 4.8e-16, 2.9e-16, 1.8e-16, 1.1e-16, 6.7e-17, 4.1e-17, 3.5e-15, 2.1e-15, 1.3e-15, 7.9e-16,\n",
       "       4.8e-16, 2.9e-16, 1.8e-16, 1.1e-16, 6.7e-17, 3.5e-15, 2.1e-15, 1.3e-15, 7.9e-16, 4.8e-16, 2.9e-16, 1.8e-16, 1.1e-16,\n",
       "       3.5e-15, 2.1e-15, 1.3e-15, 7.9e-16, 4.8e-16, 2.9e-16, 1.8e-16, 3.5e-15, 2.1e-15, 1.3e-15, 7.9e-16, 4.8e-16, 2.9e-16,\n",
       "       3.5e-15, 2.1e-15, 1.3e-15, 7.9e-16, 4.8e-16, 3.5e-15, 2.1e-15, 1.3e-15, 7.8e-16, 3.5e-15, 2.1e-15, 1.3e-15, 3.5e-15,\n",
       "       2.1e-15, 3.5e-15, 5.0e-15, 3.7e-15, 5.0e-15, 2.7e-15, 3.7e-15, 5.0e-15, 1.9e-15, 2.7e-15, 3.7e-15, 5.0e-15, 1.3e-15,\n",
       "       1.9e-15, 2.7e-15, 3.7e-15, 5.0e-15, 8.7e-16, 1.3e-15, 1.8e-15, 2.6e-15, 3.7e-15, 4.9e-15, 5.8e-16, 8.6e-16, 1.3e-15,\n",
       "       1.8e-15, 2.6e-15, 3.7e-15, 4.9e-15, 3.8e-16, 5.8e-16, 8.6e-16, 1.3e-15, 1.8e-15, 2.6e-15, 3.6e-15, 4.9e-15, 2.5e-16,\n",
       "       3.8e-16, 5.7e-16, 8.5e-16, 1.3e-15, 1.8e-15, 2.6e-15, 3.6e-15, 4.9e-15, 1.6e-16, 2.5e-16, 3.8e-16, 5.7e-16, 8.4e-16,\n",
       "       1.2e-15, 1.8e-15, 2.6e-15, 3.6e-15, 4.9e-15, 1.1e-16, 1.6e-16, 2.5e-16, 3.7e-16, 5.6e-16, 8.4e-16, 1.2e-15, 1.8e-15,\n",
       "       2.6e-15, 3.6e-15, 4.9e-15, 6.9e-17, 1.1e-16, 1.6e-16, 2.5e-16, 3.7e-16, 5.6e-16, 8.3e-16, 1.2e-15, 1.8e-15, 2.6e-15,\n",
       "       3.6e-15, 4.9e-15, 4.4e-17, 6.8e-17, 1.0e-16, 1.6e-16, 2.4e-16, 3.7e-16, 5.5e-16, 8.3e-16, 1.2e-15, 1.8e-15, 2.5e-15,\n",
       "       3.6e-15, 4.9e-15, 2.8e-17, 4.4e-17, 6.8e-17, 1.0e-16, 1.6e-16, 2.4e-16, 3.7e-16, 5.5e-16, 8.2e-16, 1.2e-15, 1.8e-15,\n",
       "       2.5e-15, 3.6e-15, 4.9e-15, 1.8e-17, 2.8e-17, 4.3e-17, 6.7e-17, 1.0e-16, 1.6e-16, 2.4e-16, 3.6e-16, 5.5e-16, 8.1e-16,\n",
       "       1.2e-15, 1.8e-15, 2.5e-15, 3.5e-15, 4.8e-15, 1.1e-17, 1.8e-17, 2.8e-17, 4.3e-17, 6.6e-17, 1.0e-16, 1.6e-16, 2.4e-16,\n",
       "       3.6e-16, 5.4e-16, 8.1e-16, 1.2e-15, 1.7e-15, 2.5e-15, 3.5e-15, 4.8e-15, 7.3e-18, 1.1e-17, 1.8e-17, 2.8e-17, 4.3e-17,\n",
       "       6.6e-17, 1.0e-16, 1.5e-16, 2.4e-16, 3.6e-16, 5.4e-16, 8.0e-16, 1.2e-15, 1.7e-15, 2.5e-15, 3.5e-15, 4.8e-15, 4.6e-18,\n",
       "       7.2e-18, 1.1e-17, 1.8e-17, 2.7e-17, 4.2e-17, 6.5e-17, 1.0e-16, 1.5e-16, 2.3e-16, 3.5e-16, 5.3e-16, 8.0e-16, 1.2e-15,\n",
       "       1.7e-15, 2.5e-15, 3.5e-15, 4.8e-15, 2.9e-18, 4.6e-18, 7.1e-18, 1.1e-17, 1.7e-17, 2.7e-17, 4.2e-17, 6.5e-17, 9.9e-17,\n",
       "       1.5e-16, 2.3e-16, 3.5e-16, 5.3e-16, 7.9e-16, 1.2e-15, 1.7e-15, 2.5e-15, 3.5e-15, 4.8e-15, 1.8e-18, 2.9e-18, 4.5e-18,\n",
       "       7.1e-18, 1.1e-17, 1.7e-17, 2.7e-17, 4.1e-17, 6.4e-17, 9.8e-17, 1.5e-16, 2.3e-16, 3.5e-16, 5.2e-16, 7.8e-16, 1.2e-15,\n",
       "       1.7e-15, 2.4e-15, 3.5e-15, 4.8e-15])"
      ]
     },
     "execution_count": 58,
     "metadata": {},
     "output_type": "execute_result"
    }
   ],
   "source": [
    "eedf._get_molecule_rate_const_e_inelas()"
   ]
  },
  {
   "cell_type": "code",
   "execution_count": 59,
   "metadata": {
    "ExecuteTime": {
     "end_time": "2019-09-09T02:55:41.673414Z",
     "start_time": "2019-09-09T02:55:34.185426Z"
    }
   },
   "outputs": [
    {
     "data": {
      "text/plain": [
       "[Text(0, 0, 'E + CO2 => E + CO2(v1)'),\n",
       " Text(0, 0, 'E + CO2 => E + CO2(v2)'),\n",
       " Text(0, 0, 'E + CO2 => E + CO2(v3)'),\n",
       " Text(0, 0, 'E + CO2 => E + CO2(v4)'),\n",
       " Text(0, 0, 'E + CO2 => E + CO2(v5)'),\n",
       " Text(0, 0, 'E + CO2 => E + CO2(v6)'),\n",
       " Text(0, 0, 'E + CO2 => E + CO2(v7)'),\n",
       " Text(0, 0, 'E + CO2 => E + CO2(v8)'),\n",
       " Text(0, 0, 'E + CO2 => E + CO2(v9)'),\n",
       " Text(0, 0, 'E + CO2 => E + CO2(v10)'),\n",
       " Text(0, 0, 'E + CO2 => E + CO2(v11)'),\n",
       " Text(0, 0, 'E + CO2 => E + CO2(v12)'),\n",
       " Text(0, 0, 'E + CO2 => E + CO2(v13)'),\n",
       " Text(0, 0, 'E + CO2 => E + CO2(v14)'),\n",
       " Text(0, 0, 'E + CO2 => E + CO2(v15)'),\n",
       " Text(0, 0, 'E + CO2 => E + CO2(v16)'),\n",
       " Text(0, 0, 'E + CO2 => E + CO2(v17)'),\n",
       " Text(0, 0, 'E + CO2 => E + CO2(v18)'),\n",
       " Text(0, 0, 'E + CO2 => E + CO2(v19)'),\n",
       " Text(0, 0, 'E + CO2 => E + CO2(v20)'),\n",
       " Text(0, 0, 'E + CO2(v1) => E + CO2(v2)'),\n",
       " Text(0, 0, 'E + CO2(v1) => E + CO2(v3)'),\n",
       " Text(0, 0, 'E + CO2(v1) => E + CO2(v4)'),\n",
       " Text(0, 0, 'E + CO2(v1) => E + CO2(v5)'),\n",
       " Text(0, 0, 'E + CO2(v1) => E + CO2(v6)'),\n",
       " Text(0, 0, 'E + CO2(v1) => E + CO2(v7)'),\n",
       " Text(0, 0, 'E + CO2(v1) => E + CO2(v8)'),\n",
       " Text(0, 0, 'E + CO2(v1) => E + CO2(v9)'),\n",
       " Text(0, 0, 'E + CO2(v1) => E + CO2(v10)'),\n",
       " Text(0, 0, 'E + CO2(v1) => E + CO2(v11)'),\n",
       " Text(0, 0, 'E + CO2(v1) => E + CO2(v12)'),\n",
       " Text(0, 0, 'E + CO2(v1) => E + CO2(v13)'),\n",
       " Text(0, 0, 'E + CO2(v1) => E + CO2(v14)'),\n",
       " Text(0, 0, 'E + CO2(v1) => E + CO2(v15)'),\n",
       " Text(0, 0, 'E + CO2(v1) => E + CO2(v16)'),\n",
       " Text(0, 0, 'E + CO2(v1) => E + CO2(v17)'),\n",
       " Text(0, 0, 'E + CO2(v1) => E + CO2(v18)'),\n",
       " Text(0, 0, 'E + CO2(v1) => E + CO2(v19)'),\n",
       " Text(0, 0, 'E + CO2(v1) => E + CO2(v20)'),\n",
       " Text(0, 0, 'E + CO2(v2) => E + CO2(v3)'),\n",
       " Text(0, 0, 'E + CO2(v2) => E + CO2(v4)'),\n",
       " Text(0, 0, 'E + CO2(v2) => E + CO2(v5)'),\n",
       " Text(0, 0, 'E + CO2(v2) => E + CO2(v6)'),\n",
       " Text(0, 0, 'E + CO2(v2) => E + CO2(v7)'),\n",
       " Text(0, 0, 'E + CO2(v2) => E + CO2(v8)'),\n",
       " Text(0, 0, 'E + CO2(v2) => E + CO2(v9)'),\n",
       " Text(0, 0, 'E + CO2(v2) => E + CO2(v10)'),\n",
       " Text(0, 0, 'E + CO2(v2) => E + CO2(v11)'),\n",
       " Text(0, 0, 'E + CO2(v2) => E + CO2(v12)'),\n",
       " Text(0, 0, 'E + CO2(v2) => E + CO2(v13)'),\n",
       " Text(0, 0, 'E + CO2(v2) => E + CO2(v14)'),\n",
       " Text(0, 0, 'E + CO2(v2) => E + CO2(v15)'),\n",
       " Text(0, 0, 'E + CO2(v2) => E + CO2(v16)'),\n",
       " Text(0, 0, 'E + CO2(v2) => E + CO2(v17)'),\n",
       " Text(0, 0, 'E + CO2(v2) => E + CO2(v18)'),\n",
       " Text(0, 0, 'E + CO2(v2) => E + CO2(v19)'),\n",
       " Text(0, 0, 'E + CO2(v2) => E + CO2(v20)'),\n",
       " Text(0, 0, 'E + CO2(v3) => E + CO2(v4)'),\n",
       " Text(0, 0, 'E + CO2(v3) => E + CO2(v5)'),\n",
       " Text(0, 0, 'E + CO2(v3) => E + CO2(v6)'),\n",
       " Text(0, 0, 'E + CO2(v3) => E + CO2(v7)'),\n",
       " Text(0, 0, 'E + CO2(v3) => E + CO2(v8)'),\n",
       " Text(0, 0, 'E + CO2(v3) => E + CO2(v9)'),\n",
       " Text(0, 0, 'E + CO2(v3) => E + CO2(v10)'),\n",
       " Text(0, 0, 'E + CO2(v3) => E + CO2(v11)'),\n",
       " Text(0, 0, 'E + CO2(v3) => E + CO2(v12)'),\n",
       " Text(0, 0, 'E + CO2(v3) => E + CO2(v13)'),\n",
       " Text(0, 0, 'E + CO2(v3) => E + CO2(v14)'),\n",
       " Text(0, 0, 'E + CO2(v3) => E + CO2(v15)'),\n",
       " Text(0, 0, 'E + CO2(v3) => E + CO2(v16)'),\n",
       " Text(0, 0, 'E + CO2(v3) => E + CO2(v17)'),\n",
       " Text(0, 0, 'E + CO2(v3) => E + CO2(v18)'),\n",
       " Text(0, 0, 'E + CO2(v3) => E + CO2(v19)'),\n",
       " Text(0, 0, 'E + CO2(v3) => E + CO2(v20)'),\n",
       " Text(0, 0, 'E + CO2(v4) => E + CO2(v5)'),\n",
       " Text(0, 0, 'E + CO2(v4) => E + CO2(v6)'),\n",
       " Text(0, 0, 'E + CO2(v4) => E + CO2(v7)'),\n",
       " Text(0, 0, 'E + CO2(v4) => E + CO2(v8)'),\n",
       " Text(0, 0, 'E + CO2(v4) => E + CO2(v9)'),\n",
       " Text(0, 0, 'E + CO2(v4) => E + CO2(v10)'),\n",
       " Text(0, 0, 'E + CO2(v4) => E + CO2(v11)'),\n",
       " Text(0, 0, 'E + CO2(v4) => E + CO2(v12)'),\n",
       " Text(0, 0, 'E + CO2(v4) => E + CO2(v13)'),\n",
       " Text(0, 0, 'E + CO2(v4) => E + CO2(v14)'),\n",
       " Text(0, 0, 'E + CO2(v4) => E + CO2(v15)'),\n",
       " Text(0, 0, 'E + CO2(v4) => E + CO2(v16)'),\n",
       " Text(0, 0, 'E + CO2(v4) => E + CO2(v17)'),\n",
       " Text(0, 0, 'E + CO2(v4) => E + CO2(v18)'),\n",
       " Text(0, 0, 'E + CO2(v4) => E + CO2(v19)'),\n",
       " Text(0, 0, 'E + CO2(v4) => E + CO2(v20)'),\n",
       " Text(0, 0, 'E + CO2(v5) => E + CO2(v6)'),\n",
       " Text(0, 0, 'E + CO2(v5) => E + CO2(v7)'),\n",
       " Text(0, 0, 'E + CO2(v5) => E + CO2(v8)'),\n",
       " Text(0, 0, 'E + CO2(v5) => E + CO2(v9)'),\n",
       " Text(0, 0, 'E + CO2(v5) => E + CO2(v10)'),\n",
       " Text(0, 0, 'E + CO2(v5) => E + CO2(v11)'),\n",
       " Text(0, 0, 'E + CO2(v5) => E + CO2(v12)'),\n",
       " Text(0, 0, 'E + CO2(v5) => E + CO2(v13)'),\n",
       " Text(0, 0, 'E + CO2(v5) => E + CO2(v14)'),\n",
       " Text(0, 0, 'E + CO2(v5) => E + CO2(v15)'),\n",
       " Text(0, 0, 'E + CO2(v5) => E + CO2(v16)'),\n",
       " Text(0, 0, 'E + CO2(v5) => E + CO2(v17)'),\n",
       " Text(0, 0, 'E + CO2(v5) => E + CO2(v18)'),\n",
       " Text(0, 0, 'E + CO2(v5) => E + CO2(v19)'),\n",
       " Text(0, 0, 'E + CO2(v5) => E + CO2(v20)'),\n",
       " Text(0, 0, 'E + CO2(v6) => E + CO2(v7)'),\n",
       " Text(0, 0, 'E + CO2(v6) => E + CO2(v8)'),\n",
       " Text(0, 0, 'E + CO2(v6) => E + CO2(v9)'),\n",
       " Text(0, 0, 'E + CO2(v6) => E + CO2(v10)'),\n",
       " Text(0, 0, 'E + CO2(v6) => E + CO2(v11)'),\n",
       " Text(0, 0, 'E + CO2(v6) => E + CO2(v12)'),\n",
       " Text(0, 0, 'E + CO2(v6) => E + CO2(v13)'),\n",
       " Text(0, 0, 'E + CO2(v6) => E + CO2(v14)'),\n",
       " Text(0, 0, 'E + CO2(v6) => E + CO2(v15)'),\n",
       " Text(0, 0, 'E + CO2(v6) => E + CO2(v16)'),\n",
       " Text(0, 0, 'E + CO2(v6) => E + CO2(v17)'),\n",
       " Text(0, 0, 'E + CO2(v6) => E + CO2(v18)'),\n",
       " Text(0, 0, 'E + CO2(v6) => E + CO2(v19)'),\n",
       " Text(0, 0, 'E + CO2(v6) => E + CO2(v20)'),\n",
       " Text(0, 0, 'E + CO2(v7) => E + CO2(v8)'),\n",
       " Text(0, 0, 'E + CO2(v7) => E + CO2(v9)'),\n",
       " Text(0, 0, 'E + CO2(v7) => E + CO2(v10)'),\n",
       " Text(0, 0, 'E + CO2(v7) => E + CO2(v11)'),\n",
       " Text(0, 0, 'E + CO2(v7) => E + CO2(v12)'),\n",
       " Text(0, 0, 'E + CO2(v7) => E + CO2(v13)'),\n",
       " Text(0, 0, 'E + CO2(v7) => E + CO2(v14)'),\n",
       " Text(0, 0, 'E + CO2(v7) => E + CO2(v15)'),\n",
       " Text(0, 0, 'E + CO2(v7) => E + CO2(v16)'),\n",
       " Text(0, 0, 'E + CO2(v7) => E + CO2(v17)'),\n",
       " Text(0, 0, 'E + CO2(v7) => E + CO2(v18)'),\n",
       " Text(0, 0, 'E + CO2(v7) => E + CO2(v19)'),\n",
       " Text(0, 0, 'E + CO2(v7) => E + CO2(v20)'),\n",
       " Text(0, 0, 'E + CO2(v8) => E + CO2(v9)'),\n",
       " Text(0, 0, 'E + CO2(v8) => E + CO2(v10)'),\n",
       " Text(0, 0, 'E + CO2(v8) => E + CO2(v11)'),\n",
       " Text(0, 0, 'E + CO2(v8) => E + CO2(v12)'),\n",
       " Text(0, 0, 'E + CO2(v8) => E + CO2(v13)'),\n",
       " Text(0, 0, 'E + CO2(v8) => E + CO2(v14)'),\n",
       " Text(0, 0, 'E + CO2(v8) => E + CO2(v15)'),\n",
       " Text(0, 0, 'E + CO2(v8) => E + CO2(v16)'),\n",
       " Text(0, 0, 'E + CO2(v8) => E + CO2(v17)'),\n",
       " Text(0, 0, 'E + CO2(v8) => E + CO2(v18)'),\n",
       " Text(0, 0, 'E + CO2(v8) => E + CO2(v19)'),\n",
       " Text(0, 0, 'E + CO2(v8) => E + CO2(v20)'),\n",
       " Text(0, 0, 'E + CO2(v9) => E + CO2(v10)'),\n",
       " Text(0, 0, 'E + CO2(v9) => E + CO2(v11)'),\n",
       " Text(0, 0, 'E + CO2(v9) => E + CO2(v12)'),\n",
       " Text(0, 0, 'E + CO2(v9) => E + CO2(v13)'),\n",
       " Text(0, 0, 'E + CO2(v9) => E + CO2(v14)'),\n",
       " Text(0, 0, 'E + CO2(v9) => E + CO2(v15)'),\n",
       " Text(0, 0, 'E + CO2(v9) => E + CO2(v16)'),\n",
       " Text(0, 0, 'E + CO2(v9) => E + CO2(v17)'),\n",
       " Text(0, 0, 'E + CO2(v9) => E + CO2(v18)'),\n",
       " Text(0, 0, 'E + CO2(v9) => E + CO2(v19)'),\n",
       " Text(0, 0, 'E + CO2(v9) => E + CO2(v20)'),\n",
       " Text(0, 0, 'E + CO2(v10) => E + CO2(v11)'),\n",
       " Text(0, 0, 'E + CO2(v10) => E + CO2(v12)'),\n",
       " Text(0, 0, 'E + CO2(v10) => E + CO2(v13)'),\n",
       " Text(0, 0, 'E + CO2(v10) => E + CO2(v14)'),\n",
       " Text(0, 0, 'E + CO2(v10) => E + CO2(v15)'),\n",
       " Text(0, 0, 'E + CO2(v10) => E + CO2(v16)'),\n",
       " Text(0, 0, 'E + CO2(v10) => E + CO2(v17)'),\n",
       " Text(0, 0, 'E + CO2(v10) => E + CO2(v18)'),\n",
       " Text(0, 0, 'E + CO2(v10) => E + CO2(v19)'),\n",
       " Text(0, 0, 'E + CO2(v10) => E + CO2(v20)'),\n",
       " Text(0, 0, 'E + CO2(v11) => E + CO2(v12)'),\n",
       " Text(0, 0, 'E + CO2(v11) => E + CO2(v13)'),\n",
       " Text(0, 0, 'E + CO2(v11) => E + CO2(v14)'),\n",
       " Text(0, 0, 'E + CO2(v11) => E + CO2(v15)'),\n",
       " Text(0, 0, 'E + CO2(v11) => E + CO2(v16)'),\n",
       " Text(0, 0, 'E + CO2(v11) => E + CO2(v17)'),\n",
       " Text(0, 0, 'E + CO2(v11) => E + CO2(v18)'),\n",
       " Text(0, 0, 'E + CO2(v11) => E + CO2(v19)'),\n",
       " Text(0, 0, 'E + CO2(v11) => E + CO2(v20)'),\n",
       " Text(0, 0, 'E + CO2(v12) => E + CO2(v13)'),\n",
       " Text(0, 0, 'E + CO2(v12) => E + CO2(v14)'),\n",
       " Text(0, 0, 'E + CO2(v12) => E + CO2(v15)'),\n",
       " Text(0, 0, 'E + CO2(v12) => E + CO2(v16)'),\n",
       " Text(0, 0, 'E + CO2(v12) => E + CO2(v17)'),\n",
       " Text(0, 0, 'E + CO2(v12) => E + CO2(v18)'),\n",
       " Text(0, 0, 'E + CO2(v12) => E + CO2(v19)'),\n",
       " Text(0, 0, 'E + CO2(v12) => E + CO2(v20)'),\n",
       " Text(0, 0, 'E + CO2(v13) => E + CO2(v14)'),\n",
       " Text(0, 0, 'E + CO2(v13) => E + CO2(v15)'),\n",
       " Text(0, 0, 'E + CO2(v13) => E + CO2(v16)'),\n",
       " Text(0, 0, 'E + CO2(v13) => E + CO2(v17)'),\n",
       " Text(0, 0, 'E + CO2(v13) => E + CO2(v18)'),\n",
       " Text(0, 0, 'E + CO2(v13) => E + CO2(v19)'),\n",
       " Text(0, 0, 'E + CO2(v13) => E + CO2(v20)'),\n",
       " Text(0, 0, 'E + CO2(v14) => E + CO2(v15)'),\n",
       " Text(0, 0, 'E + CO2(v14) => E + CO2(v16)'),\n",
       " Text(0, 0, 'E + CO2(v14) => E + CO2(v17)'),\n",
       " Text(0, 0, 'E + CO2(v14) => E + CO2(v18)'),\n",
       " Text(0, 0, 'E + CO2(v14) => E + CO2(v19)'),\n",
       " Text(0, 0, 'E + CO2(v14) => E + CO2(v20)'),\n",
       " Text(0, 0, 'E + CO2(v15) => E + CO2(v16)'),\n",
       " Text(0, 0, 'E + CO2(v15) => E + CO2(v17)'),\n",
       " Text(0, 0, 'E + CO2(v15) => E + CO2(v18)'),\n",
       " Text(0, 0, 'E + CO2(v15) => E + CO2(v19)'),\n",
       " Text(0, 0, 'E + CO2(v15) => E + CO2(v20)'),\n",
       " Text(0, 0, 'E + CO2(v16) => E + CO2(v17)'),\n",
       " Text(0, 0, 'E + CO2(v16) => E + CO2(v18)'),\n",
       " Text(0, 0, 'E + CO2(v16) => E + CO2(v19)'),\n",
       " Text(0, 0, 'E + CO2(v16) => E + CO2(v20)'),\n",
       " Text(0, 0, 'E + CO2(v17) => E + CO2(v18)'),\n",
       " Text(0, 0, 'E + CO2(v17) => E + CO2(v19)'),\n",
       " Text(0, 0, 'E + CO2(v17) => E + CO2(v20)'),\n",
       " Text(0, 0, 'E + CO2(v18) => E + CO2(v19)'),\n",
       " Text(0, 0, 'E + CO2(v18) => E + CO2(v20)'),\n",
       " Text(0, 0, 'E + CO2(v19) => E + CO2(v20)'),\n",
       " Text(0, 0, 'E + CO2(v1) => E + CO2'),\n",
       " Text(0, 0, 'E + CO2(v2) => E + CO2'),\n",
       " Text(0, 0, 'E + CO2(v2) => E + CO2(v1)'),\n",
       " Text(0, 0, 'E + CO2(v3) => E + CO2'),\n",
       " Text(0, 0, 'E + CO2(v3) => E + CO2(v1)'),\n",
       " Text(0, 0, 'E + CO2(v3) => E + CO2(v2)'),\n",
       " Text(0, 0, 'E + CO2(v4) => E + CO2'),\n",
       " Text(0, 0, 'E + CO2(v4) => E + CO2(v1)'),\n",
       " Text(0, 0, 'E + CO2(v4) => E + CO2(v2)'),\n",
       " Text(0, 0, 'E + CO2(v4) => E + CO2(v3)'),\n",
       " Text(0, 0, 'E + CO2(v5) => E + CO2'),\n",
       " Text(0, 0, 'E + CO2(v5) => E + CO2(v1)'),\n",
       " Text(0, 0, 'E + CO2(v5) => E + CO2(v2)'),\n",
       " Text(0, 0, 'E + CO2(v5) => E + CO2(v3)'),\n",
       " Text(0, 0, 'E + CO2(v5) => E + CO2(v4)'),\n",
       " Text(0, 0, 'E + CO2(v6) => E + CO2'),\n",
       " Text(0, 0, 'E + CO2(v6) => E + CO2(v1)'),\n",
       " Text(0, 0, 'E + CO2(v6) => E + CO2(v2)'),\n",
       " Text(0, 0, 'E + CO2(v6) => E + CO2(v3)'),\n",
       " Text(0, 0, 'E + CO2(v6) => E + CO2(v"
      ]
     },
     "execution_count": 59,
     "metadata": {},
     "output_type": "execute_result"
    },
    {
     "data": {
      "text/html": [
       "<b>limit_output extension: Maximum message size of 10000 exceeded with 18339 characters</b>"
      ]
     },
     "metadata": {},
     "output_type": "display_data"
    }
   ],
   "source": [
    "fig = plt.figure()\n",
    "ax = fig.add_subplot(111)\n",
    "ax.barh(range(eedf.n_inelas_rctn),\n",
    "        width=eedf._get_molecule_rate_const_e_inelas(),\n",
    "        height=0.6, log=True)\n",
    "ax.set_yticks(range(eedf.n_inelas_rctn))\n",
    "ax.set_yticklabels(eedf.inelas_reaction_dataframe['formula'])"
   ]
  },
  {
   "cell_type": "code",
   "execution_count": 60,
   "metadata": {
    "ExecuteTime": {
     "end_time": "2019-09-09T02:55:41.846950Z",
     "start_time": "2019-09-09T02:55:41.674411Z"
    }
   },
   "outputs": [
    {
     "data": {
      "image/png": "[encoded data removed]",
      "text/plain": [
       "<Figure size 864x648 with 1 Axes>"
      ]
     },
     "metadata": {
      "needs_background": "light"
     },
     "output_type": "display_data"
    }
   ],
   "source": [
    "eedf.plot_normalized_eedf()"
   ]
  },
  {
   "cell_type": "code",
   "execution_count": 61,
   "metadata": {
    "ExecuteTime": {
     "end_time": "2019-09-09T02:55:42.180060Z",
     "start_time": "2019-09-09T02:55:41.847948Z"
    }
   },
   "outputs": [
    {
     "data": {
      "text/plain": [
       "Text(0.5, 1.0, 'Te vs. t')"
      ]
     },
     "execution_count": 61,
     "metadata": {},
     "output_type": "execute_result"
    },
    {
     "data": {
      "image/png": "[encoded data removed]",
      "text/plain": [
       "<Figure size 864x648 with 1 Axes>"
      ]
     },
     "metadata": {
      "needs_background": "light"
     },
     "output_type": "display_data"
    }
   ],
   "source": [
    "Te_seq = []\n",
    "ne_seq = []\n",
    "for _array in sol.y.transpose():\n",
    "    eedf.set_density_per_J(_array)\n",
    "    Te_seq.append(eedf.electron_temperature_in_eV)\n",
    "    ne_seq.append(eedf.electron_density)\n",
    "plt.semilogx(sol.t, Te_seq, marker='.')\n",
    "plt.title(\"Te vs. t\")"
   ]
  },
  {
   "cell_type": "code",
   "execution_count": 62,
   "metadata": {
    "ExecuteTime": {
     "end_time": "2019-09-09T02:55:42.418423Z",
     "start_time": "2019-09-09T02:55:42.181058Z"
    }
   },
   "outputs": [
    {
     "data": {
      "text/plain": [
       "Text(0.5, 1.0, 'ne vs. t')"
      ]
     },
     "execution_count": 62,
     "metadata": {},
     "output_type": "execute_result"
    },
    {
     "data": {
      "image/png": "[encoded data removed]",
      "text/plain": [
       "<Figure size 864x648 with 1 Axes>"
      ]
     },
     "metadata": {
      "needs_background": "light"
     },
     "output_type": "display_data"
    }
   ],
   "source": [
    "plt.semilogx(sol.t, ne_seq, marker='.')\n",
    "plt.title(\"ne vs. t\")"
   ]
  },
  {
   "cell_type": "code",
   "execution_count": 63,
   "metadata": {
    "ExecuteTime": {
     "end_time": "2019-09-09T02:55:42.424407Z",
     "start_time": "2019-09-09T02:55:42.419421Z"
    }
   },
   "outputs": [
    {
     "data": {
      "text/plain": [
       "array([[2.5e+38, 2.5e+38, 2.5e+38, 2.6e+38, 2.7e+38, ..., 1.8e+39, 1.8e+39, 1.8e+39, 1.9e+39, 1.9e+39],\n",
       "       [3.8e+38, 3.8e+38, 3.8e+38, 3.9e+38, 4.0e+38, ..., 8.7e+38, 9.2e+38, 1.0e+39, 1.1e+39, 1.2e+39],\n",
       "       [4.2e+38, 4.2e+38, 4.2e+38, 4.2e+38, 4.3e+38, ..., 1.2e+38, 1.4e+38, 1.9e+38, 2.3e+38, 2.7e+38],\n",
       "       [4.3e+38, 4.3e+38, 4.3e+38, 4.3e+38, 4.3e+38, ..., 3.1e+37, 3.8e+37, 5.7e+37, 7.6e+37, 9.1e+37],\n",
       "       [4.2e+38, 4.2e+38, 4.2e+38, 4.2e+38, 4.2e+38, ..., 4.0e+37, 4.7e+37, 6.4e+37, 8.2e+37, 9.4e+37],\n",
       "       ...,\n",
       "       [1.5e+09, 1.5e+09, 1.5e+09, 1.6e+09, 1.6e+09, ..., 1.9e+37, 2.3e+37, 3.1e+37, 3.9e+37, 4.5e+37],\n",
       "       [1.3e+09, 1.3e+09, 1.3e+09, 1.4e+09, 1.4e+09, ..., 1.9e+37, 2.2e+37, 3.1e+37, 3.9e+37, 4.5e+37],\n",
       "       [1.2e+09, 1.2e+09, 1.2e+09, 1.2e+09, 1.2e+09, ..., 1.9e+37, 2.2e+37, 3.1e+37, 3.9e+37, 4.4e+37],\n",
       "       [1.0e+09, 1.0e+09, 1.0e+09, 1.0e+09, 1.1e+09, ..., 1.8e+37, 2.2e+37, 3.0e+37, 3.8e+37, 4.4e+37],\n",
       "       [8.7e+08, 8.7e+08, 8.7e+08, 8.8e+08, 8.9e+08, ..., 1.8e+37, 2.1e+37, 2.9e+37, 3.7e+37, 4.3e+37]])"
      ]
     },
     "execution_count": 63,
     "metadata": {},
     "output_type": "execute_result"
    }
   ],
   "source": [
    "sol.y"
   ]
  },
  {
   "cell_type": "code",
   "execution_count": 64,
   "metadata": {
    "ExecuteTime": {
     "end_time": "2019-09-09T02:55:42.507186Z",
     "start_time": "2019-09-09T02:55:42.425404Z"
    }
   },
   "outputs": [],
   "source": [
    "eedf.set_density_per_J(sol.y[:,-1])\n",
    "eedf.set_flux(total_species_density=total_species_density)"
   ]
  },
  {
   "cell_type": "code",
   "execution_count": 65,
   "metadata": {
    "ExecuteTime": {
     "end_time": "2019-09-09T02:55:42.824339Z",
     "start_time": "2019-09-09T02:55:42.511176Z"
    }
   },
   "outputs": [
    {
     "data": {
      "text/plain": [
       "<matplotlib.legend.Legend at 0x1e3c3731c88>"
      ]
     },
     "execution_count": 65,
     "metadata": {},
     "output_type": "execute_result"
    },
    {
     "data": {
      "image/png": "[encoded data removed]",
      "text/plain": [
       "<Figure size 864x648 with 1 Axes>"
      ]
     },
     "metadata": {
      "needs_background": "light"
     },
     "output_type": "display_data"
    }
   ],
   "source": [
    "fig = plt.figure()\n",
    "ax = fig.add_subplot(111)\n",
    "ax.plot(eedf.energy_point_eV, eedf._get_deriv_ef(), \n",
    "        linewidth=0.4, marker='.', label='ef')\n",
    "ax.plot(eedf.energy_point_eV, eedf._get_deriv_el(), \n",
    "        linewidth=0.4, marker='.', label='el')\n",
    "ax.plot(eedf.energy_point_eV, eedf._get_deriv_ee(), \n",
    "        linewidth=0.4, marker='.', label='ee')\n",
    "ax.plot(eedf.energy_point_eV, eedf._get_electron_rate_e_inelas(density=total_species_density), \n",
    "        linewidth=0.4, marker='.', label='e_inelas')\n",
    "ax.plot(eedf.energy_point_eV, eedf.get_deriv_total(total_species_density=total_species_density), \n",
    "        linewidth=1.5, marker='.', label='sum')\n",
    "# ax.plot(eedf.energy_nodes,eedf.J_flux_el, marker='.', label='el')\n",
    "# ax.plot(eedf.energy_nodes,eedf.J_flux_ee, marker='.', label='ee')\n",
    "# ax.plot(eedf.energy_nodes,eedf.J_flux_ef+eedf.J_flux_el+eedf.J_flux_ee, marker='.', label='ef+el+ee')\n",
    "# ax.set_yscale('symlog')\n",
    "# ax.set_xscale('log')\n",
    "ax.set_xlim((0,20))\n",
    "ax.legend()"
   ]
  },
  {
   "cell_type": "code",
   "execution_count": 66,
   "metadata": {
    "ExecuteTime": {
     "end_time": "2019-09-09T02:55:43.030786Z",
     "start_time": "2019-09-09T02:55:42.825336Z"
    }
   },
   "outputs": [
    {
     "data": {
      "text/plain": [
       "<matplotlib.legend.Legend at 0x1e3c37b7630>"
      ]
     },
     "execution_count": 66,
     "metadata": {},
     "output_type": "execute_result"
    },
    {
     "data": {
      "image/png": "[encoded data removed]",
      "text/plain": [
       "<Figure size 864x648 with 1 Axes>"
      ]
     },
     "metadata": {
      "needs_background": "light"
     },
     "output_type": "display_data"
    }
   ],
   "source": [
    "fig = plt.figure()\n",
    "ax = fig.add_subplot(111)\n",
    "ax.plot(eedf.energy_point_eV, eedf._get_deriv_ef()*eedf.energy_point, \n",
    "        linewidth=0.4, marker='.', label='ef')\n",
    "ax.plot(eedf.energy_point_eV, eedf._get_deriv_el()*eedf.energy_point, \n",
    "        linewidth=0.4, marker='.', label='el')\n",
    "ax.plot(eedf.energy_point_eV, eedf._get_deriv_ee()*eedf.energy_point, \n",
    "        linewidth=0.4, marker='.', label='ee')\n",
    "ax.plot(eedf.energy_point_eV, eedf._get_electron_rate_e_inelas(density=total_species_density)*eedf.energy_point, \n",
    "        linewidth=0.4, marker='.', label='e_inelas')\n",
    "ax.plot(eedf.energy_point_eV, eedf.get_deriv_total(total_species_density=total_species_density)*eedf.energy_point, \n",
    "        linewidth=1.5, marker='.', label='sum')\n",
    "# ax.plot(eedf.energy_nodes,eedf.J_flux_el, marker='.', label='el')\n",
    "# ax.plot(eedf.energy_nodes,eedf.J_flux_ee, marker='.', label='ee')\n",
    "# ax.plot(eedf.energy_nodes,eedf.J_flux_ef+eedf.J_flux_el+eedf.J_flux_ee, marker='.', label='ef+el+ee')\n",
    "# ax.set_yscale('symlog')\n",
    "# ax.set_xscale('log')\n",
    "ax.set_xlim((0,20))\n",
    "ax.legend()"
   ]
  },
  {
   "cell_type": "code",
   "execution_count": 67,
   "metadata": {
    "ExecuteTime": {
     "end_time": "2019-09-09T02:55:43.040760Z",
     "start_time": "2019-09-09T02:55:43.034775Z"
    }
   },
   "outputs": [],
   "source": [
    "energy_gain_ef = (eedf._get_deriv_ef()*eedf.energy_point).sum()\n",
    "energy_lose_el = (eedf._get_deriv_el()*eedf.energy_point).sum()\n",
    "energy_gain_ee = (eedf._get_deriv_ee()*eedf.energy_point).sum()\n",
    "energy_gain_e_inelas = (eedf._get_electron_rate_e_inelas(density=total_species_density)*eedf.energy_point).sum()\n",
    "energy_gain_net = (eedf.get_deriv_total(total_species_density=total_species_density)*eedf.energy_point).sum()"
   ]
  },
  {
   "cell_type": "code",
   "execution_count": 68,
   "metadata": {
    "ExecuteTime": {
     "end_time": "2019-09-09T02:55:43.263165Z",
     "start_time": "2019-09-09T02:55:43.042754Z"
    }
   },
   "outputs": [
    {
     "data": {
      "text/plain": [
       "Text(0.5, 1.0, 'Energy Gain')"
      ]
     },
     "execution_count": 68,
     "metadata": {},
     "output_type": "execute_result"
    },
    {
     "data": {
      "image/png": "[encoded data removed]",
      "text/plain": [
       "<Figure size 864x648 with 1 Axes>"
      ]
     },
     "metadata": {
      "needs_background": "light"
     },
     "output_type": "display_data"
    }
   ],
   "source": [
    "fig = plt.figure()\n",
    "ax = fig.add_subplot(111)\n",
    "ax.barh(range(5),\n",
    "        width=[energy_gain_ef, energy_lose_el, energy_gain_ee, energy_gain_e_inelas, energy_gain_net],\n",
    "       height=0.6)\n",
    "ax.set_yticks(range(5))\n",
    "ax.set_yticklabels(['electric field', 'elastic collision', 'e-e', 'inelastic collision', 'net'])\n",
    "ax.set_title(\"Energy Gain\")"
   ]
  },
  {
   "cell_type": "code",
   "execution_count": 69,
   "metadata": {
    "ExecuteTime": {
     "end_time": "2019-09-09T02:55:43.276130Z",
     "start_time": "2019-09-09T02:55:43.264163Z"
    }
   },
   "outputs": [
    {
     "data": {
      "text/html": [
       "<div>\n",
       "<style scoped>\n",
       "    .dataframe tbody tr th:only-of-type {\n",
       "        vertical-align: middle;\n",
       "    }\n",
       "\n",
       "    .dataframe tbody tr th {\n",
       "        vertical-align: top;\n",
       "    }\n",
       "\n",
       "    .dataframe thead th {\n",
       "        text-align: right;\n",
       "    }\n",
       "</style>\n",
       "<table border=\"1\" class=\"dataframe\">\n",
       "  <thead>\n",
       "    <tr style=\"text-align: right;\">\n",
       "      <th></th>\n",
       "      <th>formula</th>\n",
       "      <th>type</th>\n",
       "      <th>threshold_eV</th>\n",
       "      <th>rate const</th>\n",
       "      <th>energy lose</th>\n",
       "    </tr>\n",
       "  </thead>\n",
       "  <tbody>\n",
       "    <tr>\n",
       "      <th>210</th>\n",
       "      <td>E + CO2(v1) =&gt; E + CO2</td>\n",
       "      <td>DEEXCITATION</td>\n",
       "      <td>-2.9e-01</td>\n",
       "      <td>5.0e-15</td>\n",
       "      <td>-1.5e-15</td>\n",
       "    </tr>\n",
       "    <tr>\n",
       "      <th>212</th>\n",
       "      <td>E + CO2(v2) =&gt; E + CO2(v1)</td>\n",
       "      <td>DEEXCITATION</td>\n",
       "      <td>-2.9e-01</td>\n",
       "      <td>5.0e-15</td>\n",
       "      <td>-1.4e-15</td>\n",
       "    </tr>\n",
       "    <tr>\n",
       "      <th>215</th>\n",
       "      <td>E + CO2(v3) =&gt; E + CO2(v2)</td>\n",
       "      <td>DEEXCITATION</td>\n",
       "      <td>-2.9e-01</td>\n",
       "      <td>5.0e-15</td>\n",
       "      <td>-1.4e-15</td>\n",
       "    </tr>\n",
       "    <tr>\n",
       "      <th>219</th>\n",
       "      <td>E + CO2(v4) =&gt; E + CO2(v3)</td>\n",
       "      <td>DEEXCITATION</td>\n",
       "      <td>-2.8e-01</td>\n",
       "      <td>5.0e-15</td>\n",
       "      <td>-1.4e-15</td>\n",
       "    </tr>\n",
       "    <tr>\n",
       "      <th>224</th>\n",
       "      <td>E + CO2(v5) =&gt; E + CO2(v4)</td>\n",
       "      <td>DEEXCITATION</td>\n",
       "      <td>-2.8e-01</td>\n",
       "      <td>5.0e-15</td>\n",
       "      <td>-1.4e-15</td>\n",
       "    </tr>\n",
       "  </tbody>\n",
       "</table>\n",
       "</div>"
      ],
      "text/plain": [
       "                        formula          type  threshold_eV  rate const  \\\n",
       "210      E + CO2(v1) => E + CO2  DEEXCITATION      -2.9e-01     5.0e-15   \n",
       "212  E + CO2(v2) => E + CO2(v1)  DEEXCITATION      -2.9e-01     5.0e-15   \n",
       "215  E + CO2(v3) => E + CO2(v2)  DEEXCITATION      -2.9e-01     5.0e-15   \n",
       "219  E + CO2(v4) => E + CO2(v3)  DEEXCITATION      -2.8e-01     5.0e-15   \n",
       "224  E + CO2(v5) => E + CO2(v4)  DEEXCITATION      -2.8e-01     5.0e-15   \n",
       "\n",
       "     energy lose  \n",
       "210     -1.5e-15  \n",
       "212     -1.4e-15  \n",
       "215     -1.4e-15  \n",
       "219     -1.4e-15  \n",
       "224     -1.4e-15  "
      ]
     },
     "execution_count": 69,
     "metadata": {},
     "output_type": "execute_result"
    }
   ],
   "source": [
    "result_df = eedf.inelas_rctn_info\n",
    "result_df.sort_values(by=['rate const'], ascending=False).head()"
   ]
  },
  {
   "cell_type": "code",
   "execution_count": 70,
   "metadata": {
    "ExecuteTime": {
     "end_time": "2019-09-09T02:55:43.350931Z",
     "start_time": "2019-09-09T02:55:43.277128Z"
    }
   },
   "outputs": [
    {
     "data": {
      "text/html": [
       "<div>\n",
       "<style scoped>\n",
       "    .dataframe tbody tr th:only-of-type {\n",
       "        vertical-align: middle;\n",
       "    }\n",
       "\n",
       "    .dataframe tbody tr th {\n",
       "        vertical-align: top;\n",
       "    }\n",
       "\n",
       "    .dataframe thead th {\n",
       "        text-align: right;\n",
       "    }\n",
       "</style>\n",
       "<table border=\"1\" class=\"dataframe\">\n",
       "  <thead>\n",
       "    <tr style=\"text-align: right;\">\n",
       "      <th></th>\n",
       "      <th>formula</th>\n",
       "      <th>type</th>\n",
       "      <th>threshold_eV</th>\n",
       "      <th>rate const</th>\n",
       "      <th>energy lose</th>\n",
       "    </tr>\n",
       "  </thead>\n",
       "  <tbody>\n",
       "    <tr>\n",
       "      <th>209</th>\n",
       "      <td>E + CO2(v19) =&gt; E + CO2(v20)</td>\n",
       "      <td>EXCITATION</td>\n",
       "      <td>2.3e-01</td>\n",
       "      <td>3.5e-15</td>\n",
       "      <td>8.2e-16</td>\n",
       "    </tr>\n",
       "    <tr>\n",
       "      <th>207</th>\n",
       "      <td>E + CO2(v18) =&gt; E + CO2(v19)</td>\n",
       "      <td>EXCITATION</td>\n",
       "      <td>2.4e-01</td>\n",
       "      <td>3.5e-15</td>\n",
       "      <td>8.3e-16</td>\n",
       "    </tr>\n",
       "    <tr>\n",
       "      <th>204</th>\n",
       "      <td>E + CO2(v17) =&gt; E + CO2(v18)</td>\n",
       "      <td>EXCITATION</td>\n",
       "      <td>2.4e-01</td>\n",
       "      <td>3.5e-15</td>\n",
       "      <td>8.4e-16</td>\n",
       "    </tr>\n",
       "    <tr>\n",
       "      <th>200</th>\n",
       "      <td>E + CO2(v16) =&gt; E + CO2(v17)</td>\n",
       "      <td>EXCITATION</td>\n",
       "      <td>2.4e-01</td>\n",
       "      <td>3.5e-15</td>\n",
       "      <td>8.6e-16</td>\n",
       "    </tr>\n",
       "    <tr>\n",
       "      <th>195</th>\n",
       "      <td>E + CO2(v15) =&gt; E + CO2(v16)</td>\n",
       "      <td>EXCITATION</td>\n",
       "      <td>2.4e-01</td>\n",
       "      <td>3.5e-15</td>\n",
       "      <td>8.7e-16</td>\n",
       "    </tr>\n",
       "    <tr>\n",
       "      <th>189</th>\n",
       "      <td>E + CO2(v14) =&gt; E + CO2(v15)</td>\n",
       "      <td>EXCITATION</td>\n",
       "      <td>2.5e-01</td>\n",
       "      <td>3.5e-15</td>\n",
       "      <td>8.8e-16</td>\n",
       "    </tr>\n",
       "    <tr>\n",
       "      <th>182</th>\n",
       "      <td>E + CO2(v13) =&gt; E + CO2(v14)</td>\n",
       "      <td>EXCITATION</td>\n",
       "      <td>2.5e-01</td>\n",
       "      <td>3.5e-15</td>\n",
       "      <td>8.9e-16</td>\n",
       "    </tr>\n",
       "    <tr>\n",
       "      <th>174</th>\n",
       "      <td>E + CO2(v12) =&gt; E + CO2(v13)</td>\n",
       "      <td>EXCITATION</td>\n",
       "      <td>2.5e-01</td>\n",
       "      <td>3.5e-15</td>\n",
       "      <td>9.0e-16</td>\n",
       "    </tr>\n",
       "    <tr>\n",
       "      <th>165</th>\n",
       "      <td>E + CO2(v11) =&gt; E + CO2(v12)</td>\n",
       "      <td>EXCITATION</td>\n",
       "      <td>2.6e-01</td>\n",
       "      <td>3.5e-15</td>\n",
       "      <td>9.1e-16</td>\n",
       "    </tr>\n",
       "    <tr>\n",
       "      <th>155</th>\n",
       "      <td>E + CO2(v10) =&gt; E + CO2(v11)</td>\n",
       "      <td>EXCITATION</td>\n",
       "      <td>2.6e-01</td>\n",
       "      <td>3.5e-15</td>\n",
       "      <td>9.2e-16</td>\n",
       "    </tr>\n",
       "    <tr>\n",
       "      <th>144</th>\n",
       "      <td>E + CO2(v9) =&gt; E + CO2(v10)</td>\n",
       "      <td>EXCITATION</td>\n",
       "      <td>2.6e-01</td>\n",
       "      <td>3.5e-15</td>\n",
       "      <td>9.3e-16</td>\n",
       "    </tr>\n",
       "    <tr>\n",
       "      <th>132</th>\n",
       "      <td>E + CO2(v8) =&gt; E + CO2(v9)</td>\n",
       "      <td>EXCITATION</td>\n",
       "      <td>2.7e-01</td>\n",
       "      <td>3.5e-15</td>\n",
       "      <td>9.4e-16</td>\n",
       "    </tr>\n",
       "    <tr>\n",
       "      <th>119</th>\n",
       "      <td>E + CO2(v7) =&gt; E + CO2(v8)</td>\n",
       "      <td>EXCITATION</td>\n",
       "      <td>2.7e-01</td>\n",
       "      <td>3.5e-15</td>\n",
       "      <td>9.5e-16</td>\n",
       "    </tr>\n",
       "    <tr>\n",
       "      <th>105</th>\n",
       "      <td>E + CO2(v6) =&gt; E + CO2(v7)</td>\n",
       "      <td>EXCITATION</td>\n",
       "      <td>2.7e-01</td>\n",
       "      <td>3.5e-15</td>\n",
       "      <td>9.6e-16</td>\n",
       "    </tr>\n",
       "    <tr>\n",
       "      <th>90</th>\n",
       "      <td>E + CO2(v5) =&gt; E + CO2(v6)</td>\n",
       "      <td>EXCITATION</td>\n",
       "      <td>2.8e-01</td>\n",
       "      <td>3.5e-15</td>\n",
       "      <td>9.7e-16</td>\n",
       "    </tr>\n",
       "    <tr>\n",
       "      <th>74</th>\n",
       "      <td>E + CO2(v4) =&gt; E + CO2(v5)</td>\n",
       "      <td>EXCITATION</td>\n",
       "      <td>2.8e-01</td>\n",
       "      <td>3.5e-15</td>\n",
       "      <td>9.8e-16</td>\n",
       "    </tr>\n",
       "    <tr>\n",
       "      <th>57</th>\n",
       "      <td>E + CO2(v3) =&gt; E + CO2(v4)</td>\n",
       "      <td>EXCITATION</td>\n",
       "      <td>2.8e-01</td>\n",
       "      <td>3.5e-15</td>\n",
       "      <td>9.9e-16</td>\n",
       "    </tr>\n",
       "    <tr>\n",
       "      <th>39</th>\n",
       "      <td>E + CO2(v2) =&gt; E + CO2(v3)</td>\n",
       "      <td>EXCITATION</td>\n",
       "      <td>2.9e-01</td>\n",
       "      <td>3.5e-15</td>\n",
       "      <td>1.0e-15</td>\n",
       "    </tr>\n",
       "    <tr>\n",
       "      <th>0</th>\n",
       "      <td>E + CO2 =&gt; E + CO2(v1)</td>\n",
       "      <td>EXCITATION</td>\n",
       "      <td>2.9e-01</td>\n",
       "      <td>3.5e-15</td>\n",
       "      <td>1.0e-15</td>\n",
       "    </tr>\n",
       "    <tr>\n",
       "      <th>20</th>\n",
       "      <td>E + CO2(v1) =&gt; E + CO2(v2)</td>\n",
       "      <td>EXCITATION</td>\n",
       "      <td>2.9e-01</td>\n",
       "      <td>3.5e-15</td>\n",
       "      <td>1.0e-15</td>\n",
       "    </tr>\n",
       "    <tr>\n",
       "      <th>183</th>\n",
       "      <td>E + CO2(v13) =&gt; E + CO2(v15)</td>\n",
       "      <td>EXCITATION</td>\n",
       "      <td>5.0e-01</td>\n",
       "      <td>2.1e-15</td>\n",
       "      <td>1.1e-15</td>\n",
       "    </tr>\n",
       "    <tr>\n",
       "      <th>208</th>\n",
       "      <td>E + CO2(v18) =&gt; E + CO2(v20)</td>\n",
       "      <td>EXCITATION</td>\n",
       "      <td>4.7e-01</td>\n",
       "      <td>2.1e-15</td>\n",
       "      <td>1.0e-15</td>\n",
       "    </tr>\n",
       "    <tr>\n",
       "      <th>190</th>\n",
       "      <td>E + CO2(v14) =&gt; E + CO2(v16)</td>\n",
       "      <td>EXCITATION</td>\n",
       "      <td>4.9e-01</td>\n",
       "      <td>2.1e-15</td>\n",
       "      <td>1.1e-15</td>\n",
       "    </tr>\n",
       "    <tr>\n",
       "      <th>205</th>\n",
       "      <td>E + CO2(v17) =&gt; E + CO2(v19)</td>\n",
       "      <td>EXCITATION</td>\n",
       "      <td>4.7e-01</td>\n",
       "      <td>2.1e-15</td>\n",
       "      <td>1.0e-15</td>\n",
       "    </tr>\n",
       "    <tr>\n",
       "      <th>196</th>\n",
       "      <td>E + CO2(v15) =&gt; E + CO2(v17)</td>\n",
       "      <td>EXCITATION</td>\n",
       "      <td>4.9e-01</td>\n",
       "      <td>2.1e-15</td>\n",
       "      <td>1.0e-15</td>\n",
       "    </tr>\n",
       "    <tr>\n",
       "      <th>201</th>\n",
       "      <td>E + CO2(v16) =&gt; E + CO2(v18)</td>\n",
       "      <td>EXCITATION</td>\n",
       "      <td>4.8e-01</td>\n",
       "      <td>2.1e-15</td>\n",
       "      <td>1.0e-15</td>\n",
       "    </tr>\n",
       "    <tr>\n",
       "      <th>175</th>\n",
       "      <td>E + CO2(v12) =&gt; E + CO2(v14)</td>\n",
       "      <td>EXCITATION</td>\n",
       "      <td>5.1e-01</td>\n",
       "      <td>2.1e-15</td>\n",
       "      <td>1.1e-15</td>\n",
       "    </tr>\n",
       "    <tr>\n",
       "      <th>166</th>\n",
       "      <td>E + CO2(v11) =&gt; E + CO2(v13)</td>\n",
       "      <td>EXCITATION</td>\n",
       "      <td>5.1e-01</td>\n",
       "      <td>2.1e-15</td>\n",
       "      <td>1.1e-15</td>\n",
       "    </tr>\n",
       "    <tr>\n",
       "      <th>156</th>\n",
       "      <td>E + CO2(v10) =&gt; E + CO2(v12)</td>\n",
       "      <td>EXCITATION</td>\n",
       "      <td>5.2e-01</td>\n",
       "      <td>2.1e-15</td>\n",
       "      <td>1.1e-15</td>\n",
       "    </tr>\n",
       "    <tr>\n",
       "      <th>145</th>\n",
       "      <td>E + CO2(v9) =&gt; E + CO2(v11)</td>\n",
       "      <td>EXCITATION</td>\n",
       "      <td>5.2e-01</td>\n",
       "      <td>2.1e-15</td>\n",
       "      <td>1.1e-15</td>\n",
       "    </tr>\n",
       "    <tr>\n",
       "      <th>...</th>\n",
       "      <td>...</td>\n",
       "      <td>...</td>\n",
       "      <td>...</td>\n",
       "      <td>...</td>\n",
       "      <td>...</td>\n",
       "    </tr>\n",
       "    <tr>\n",
       "      <th>117</th>\n",
       "      <td>E + CO2(v6) =&gt; E + CO2(v19)</td>\n",
       "      <td>EXCITATION</td>\n",
       "      <td>3.3e+00</td>\n",
       "      <td>9.5e-18</td>\n",
       "      <td>3.1e-17</td>\n",
       "    </tr>\n",
       "    <tr>\n",
       "      <th>131</th>\n",
       "      <td>E + CO2(v7) =&gt; E + CO2(v20)</td>\n",
       "      <td>EXCITATION</td>\n",
       "      <td>3.3e+00</td>\n",
       "      <td>9.4e-18</td>\n",
       "      <td>3.1e-17</td>\n",
       "    </tr>\n",
       "    <tr>\n",
       "      <th>13</th>\n",
       "      <td>E + CO2 =&gt; E + CO2(v14)</td>\n",
       "      <td>EXCITATION</td>\n",
       "      <td>3.8e+00</td>\n",
       "      <td>5.8e-18</td>\n",
       "      <td>2.2e-17</td>\n",
       "    </tr>\n",
       "    <tr>\n",
       "      <th>33</th>\n",
       "      <td>E + CO2(v1) =&gt; E + CO2(v15)</td>\n",
       "      <td>EXCITATION</td>\n",
       "      <td>3.8e+00</td>\n",
       "      <td>5.8e-18</td>\n",
       "      <td>2.2e-17</td>\n",
       "    </tr>\n",
       "    <tr>\n",
       "      <th>52</th>\n",
       "      <td>E + CO2(v2) =&gt; E + CO2(v16)</td>\n",
       "      <td>EXCITATION</td>\n",
       "      <td>3.7e+00</td>\n",
       "      <td>5.8e-18</td>\n",
       "      <td>2.2e-17</td>\n",
       "    </tr>\n",
       "    <tr>\n",
       "      <th>70</th>\n",
       "      <td>E + CO2(v3) =&gt; E + CO2(v17)</td>\n",
       "      <td>EXCITATION</td>\n",
       "      <td>3.7e+00</td>\n",
       "      <td>5.8e-18</td>\n",
       "      <td>2.1e-17</td>\n",
       "    </tr>\n",
       "    <tr>\n",
       "      <th>87</th>\n",
       "      <td>E + CO2(v4) =&gt; E + CO2(v18)</td>\n",
       "      <td>EXCITATION</td>\n",
       "      <td>3.6e+00</td>\n",
       "      <td>5.8e-18</td>\n",
       "      <td>2.1e-17</td>\n",
       "    </tr>\n",
       "    <tr>\n",
       "      <th>103</th>\n",
       "      <td>E + CO2(v5) =&gt; E + CO2(v19)</td>\n",
       "      <td>EXCITATION</td>\n",
       "      <td>3.6e+00</td>\n",
       "      <td>5.8e-18</td>\n",
       "      <td>2.1e-17</td>\n",
       "    </tr>\n",
       "    <tr>\n",
       "      <th>118</th>\n",
       "      <td>E + CO2(v6) =&gt; E + CO2(v20)</td>\n",
       "      <td>EXCITATION</td>\n",
       "      <td>3.5e+00</td>\n",
       "      <td>5.8e-18</td>\n",
       "      <td>2.0e-17</td>\n",
       "    </tr>\n",
       "    <tr>\n",
       "      <th>14</th>\n",
       "      <td>E + CO2 =&gt; E + CO2(v15)</td>\n",
       "      <td>EXCITATION</td>\n",
       "      <td>4.0e+00</td>\n",
       "      <td>3.6e-18</td>\n",
       "      <td>1.4e-17</td>\n",
       "    </tr>\n",
       "    <tr>\n",
       "      <th>34</th>\n",
       "      <td>E + CO2(v1) =&gt; E + CO2(v16)</td>\n",
       "      <td>EXCITATION</td>\n",
       "      <td>4.0e+00</td>\n",
       "      <td>3.6e-18</td>\n",
       "      <td>1.4e-17</td>\n",
       "    </tr>\n",
       "    <tr>\n",
       "      <th>53</th>\n",
       "      <td>E + CO2(v2) =&gt; E + CO2(v17)</td>\n",
       "      <td>EXCITATION</td>\n",
       "      <td>4.0e+00</td>\n",
       "      <td>3.6e-18</td>\n",
       "      <td>1.4e-17</td>\n",
       "    </tr>\n",
       "    <tr>\n",
       "      <th>71</th>\n",
       "      <td>E + CO2(v3) =&gt; E + CO2(v18)</td>\n",
       "      <td>EXCITATION</td>\n",
       "      <td>3.9e+00</td>\n",
       "      <td>3.6e-18</td>\n",
       "      <td>1.4e-17</td>\n",
       "    </tr>\n",
       "    <tr>\n",
       "      <th>88</th>\n",
       "      <td>E + CO2(v4) =&gt; E + CO2(v19)</td>\n",
       "      <td>EXCITATION</td>\n",
       "      <td>3.9e+00</td>\n",
       "      <td>3.5e-18</td>\n",
       "      <td>1.4e-17</td>\n",
       "    </tr>\n",
       "    <tr>\n",
       "      <th>104</th>\n",
       "      <td>E + CO2(v5) =&gt; E + CO2(v20)</td>\n",
       "      <td>EXCITATION</td>\n",
       "      <td>3.8e+00</td>\n",
       "      <td>3.5e-18</td>\n",
       "      <td>1.4e-17</td>\n",
       "    </tr>\n",
       "    <tr>\n",
       "      <th>15</th>\n",
       "      <td>E + CO2 =&gt; E + CO2(v16)</td>\n",
       "      <td>EXCITATION</td>\n",
       "      <td>4.3e+00</td>\n",
       "      <td>2.2e-18</td>\n",
       "      <td>9.4e-18</td>\n",
       "    </tr>\n",
       "    <tr>\n",
       "      <th>35</th>\n",
       "      <td>E + CO2(v1) =&gt; E + CO2(v17)</td>\n",
       "      <td>EXCITATION</td>\n",
       "      <td>4.2e+00</td>\n",
       "      <td>2.2e-18</td>\n",
       "      <td>9.2e-18</td>\n",
       "    </tr>\n",
       "    <tr>\n",
       "      <th>54</th>\n",
       "      <td>E + CO2(v2) =&gt; E + CO2(v18)</td>\n",
       "      <td>EXCITATION</td>\n",
       "      <td>4.2e+00</td>\n",
       "      <td>2.2e-18</td>\n",
       "      <td>9.1e-18</td>\n",
       "    </tr>\n",
       "    <tr>\n",
       "      <th>72</th>\n",
       "      <td>E + CO2(v3) =&gt; E + CO2(v19)</td>\n",
       "      <td>EXCITATION</td>\n",
       "      <td>4.1e+00</td>\n",
       "      <td>2.2e-18</td>\n",
       "      <td>9.0e-18</td>\n",
       "    </tr>\n",
       "    <tr>\n",
       "      <th>89</th>\n",
       "      <td>E + CO2(v4) =&gt; E + CO2(v20)</td>\n",
       "      <td>EXCITATION</td>\n",
       "      <td>4.1e+00</td>\n",
       "      <td>2.2e-18</td>\n",
       "      <td>8.9e-18</td>\n",
       "    </tr>\n",
       "    <tr>\n",
       "      <th>16</th>\n",
       "      <td>E + CO2 =&gt; E + CO2(v17)</td>\n",
       "      <td>EXCITATION</td>\n",
       "      <td>4.5e+00</td>\n",
       "      <td>1.3e-18</td>\n",
       "      <td>6.1e-18</td>\n",
       "    </tr>\n",
       "    <tr>\n",
       "      <th>36</th>\n",
       "      <td>E + CO2(v1) =&gt; E + CO2(v18)</td>\n",
       "      <td>EXCITATION</td>\n",
       "      <td>4.5e+00</td>\n",
       "      <td>1.3e-18</td>\n",
       "      <td>6.0e-18</td>\n",
       "    </tr>\n",
       "    <tr>\n",
       "      <th>55</th>\n",
       "      <td>E + CO2(v2) =&gt; E + CO2(v19)</td>\n",
       "      <td>EXCITATION</td>\n",
       "     "
      ],
      "text/plain": [
       "                          formula        type  threshold_eV  rate const  \\\n",
       "209  E + CO2(v19) => E + CO2(v20)  EXCITATION       2.3e-01     3.5e-15   \n",
       "207  E + CO2(v18) => E + CO2(v19)  EXCITATION       2.4e-01     3.5e-15   \n",
       "204  E + CO2(v17) => E + CO2(v18)  EXCITATION       2.4e-01     3.5e-15   \n",
       "200  E + CO2(v16) => E + CO2(v17)  EXCITATION       2.4e-01     3.5e-15   \n",
       "195  E + CO2(v15) => E + CO2(v16)  EXCITATION       2.4e-01     3.5e-15   \n",
       "189  E + CO2(v14) => E + CO2(v15)  EXCITATION       2.5e-01     3.5e-15   \n",
       "182  E + CO2(v13) => E + CO2(v14)  EXCITATION       2.5e-01     3.5e-15   \n",
       "174  E + CO2(v12) => E + CO2(v13)  EXCITATION       2.5e-01     3.5e-15   \n",
       "165  E + CO2(v11) => E + CO2(v12)  EXCITATION       2.6e-01     3.5e-15   \n",
       "155  E + CO2(v10) => E + CO2(v11)  EXCITATION       2.6e-01     3.5e-15   \n",
       "144   E + CO2(v9) => E + CO2(v10)  EXCITATION       2.6e-01     3.5e-15   \n",
       "132    E + CO2(v8) => E + CO2(v9)  EXCITATION       2.7e-01     3.5e-15   \n",
       "119    E + CO2(v7) => E + CO2(v8)  EXCITATION       2.7e-01     3.5e-15   \n",
       "105    E + CO2(v6) => E + CO2(v7)  EXCITATION       2.7e-01     3.5e-15   \n",
       "90     E + CO2(v5) => E + CO2(v6)  EXCITATION       2.8e-01     3.5e-15   \n",
       "74     E + CO2(v4) => E + CO2(v5)  EXCITATION       2.8e-01     3.5e-15   \n",
       "57     E + CO2(v3) => E + CO2(v4)  EXCITATION       2.8e-01     3.5e-15   \n",
       "39     E + CO2(v2) => E + CO2(v3)  EXCITATION       2.9e-01     3.5e-15   \n",
       "0          E + CO2 => E + CO2(v1)  EXCITATION       2.9e-01     3.5e-15   \n",
       "20     E + CO2(v1) => E + CO2(v2)  EXCITATION       2.9e-01     3.5e-15   \n",
       "183  E + CO2(v13) => E + CO2(v15)  EXCITATION       5.0e-01     2.1e-15   \n",
       "208  E + CO2(v18) => E + CO2(v20)  EXCITATION       4.7e-01     2.1e-15   \n",
       "190  E + CO2(v14) => E + CO2(v16)  EXCITATION       4.9e-01     2.1e-15   \n",
       "205  E + CO2(v17) => E + CO2(v19)  EXCITATION       4.7e-01     2.1e-15   \n",
       "196  E + CO2(v15) => E + CO2(v17)  EXCITATION       4.9e-01     2.1e-15   \n",
       "201  E + CO2(v16) => E + CO2(v18)  EXCITATION       4.8e-01     2.1e-15   \n",
       "175  E + CO2(v12) => E + CO2(v14)  EXCITATION       5.1e-01     2.1e-15   \n",
       "166  E + CO2(v11) => E + CO2(v13)  EXCITATION       5.1e-01     2.1e-15   \n",
       "156  E + CO2(v10) => E + CO2(v12)  EXCITATION       5.2e-01     2.1e-15   \n",
       "145   E + CO2(v9) => E + CO2(v11)  EXCITATION       5.2e-01     2.1e-15   \n",
       "..                            ...         ...           ...         ...   \n",
       "117   E + CO2(v6) => E + CO2(v19)  EXCITATION       3.3e+00     9.5e-18   \n",
       "131   E + CO2(v7) => E + CO2(v20)  EXCITATION       3.3e+00     9.4e-18   \n",
       "13        E + CO2 => E + CO2(v14)  EXCITATION       3.8e+00     5.8e-18   \n",
       "33    E + CO2(v1) => E + CO2(v15)  EXCITATION       3.8e+00     5.8e-18   \n",
       "52    E + CO2(v2) => E + CO2(v16)  EXCITATION       3.7e+00     5.8e-18   \n",
       "70    E + CO2(v3) => E + CO2(v17)  EXCITATION       3.7e+00     5.8e-18   \n",
       "87    E + CO2(v4) => E + CO2(v18)  EXCITATION       3.6e+00     5.8e-18   \n",
       "103   E + CO2(v5) => E + CO2(v19)  EXCITATION       3.6e+00     5.8e-18   \n",
       "118   E + CO2(v6) => E + CO2(v20)  EXCITATION       3.5e+00     5.8e-18   \n",
       "14        E + CO2 => E + CO2(v15)  EXCITATION       4.0e+00     3.6e-18   \n",
       "34    E + CO2(v1) => E + CO2(v16)  EXCITATION       4.0e+00     3.6e-18   \n",
       "53    E + CO2(v2) => E + CO2(v17)  EXCITATION       4.0e+00     3.6e-18   \n",
       "71    E + CO2(v3) => E + CO2(v18)  EXCITATION       3.9e+00     3.6e-18   \n",
       "88    E + CO2(v4) => E + CO2(v19)  EXCITATION       3.9e+00     3.5e-18   \n",
       "104   E + CO2(v5) => E + CO2(v20)  EXCITATION       3.8e+00     3.5e-18   \n",
       "15        E + CO2 => E + CO2(v16)  EXCITATION       4.3e+00     2.2e-18   \n",
       "35    E + CO2(v1) => E + CO2(v17)  EXCITATION       4.2e+00     2.2e-18   \n",
       "54    E + CO2(v2) => E + CO2(v18)  EXCITATION       4.2e+00     2.2e-18   \n",
       "72    E + CO2(v3) => E + CO2(v19)  EXCITATION       4.1e+00     2.2e-18   \n",
       "89    E + CO2(v4) => E + CO2(v20)  EXCITATION       4.1e+00     2.2e-18   \n",
       "16        E + CO2 => E + CO2(v17)  EXCITATION       4.5e+00     1.3e-18   \n",
       "36    E + CO2(v1) => E + CO2(v18)  EXCITATION       4.5e+00     1.3e-18   \n",
       "55    E + CO2(v2) => E + CO2(v19)  EXCITATION       4.4e+00     1.3e-18   \n",
       "73    E + CO2(v3) => E + CO2(v20)  EXCITATION       4.4e+00     1.3e-18   \n",
       "17        E + CO2 => E + CO2(v18)  EXCITATION       4.8e+00     8.2e-19   \n",
       "37    E + CO2(v1) => E + CO2(v19)  EXCITATION       4.7e+00     8.2e-19   \n",
       "56    E + CO2(v2) => E + CO2(v20)  EXCITATION       4.7e+00     8.1e-19   \n",
       "18        E + CO2 => E + CO2(v19)  EXCITATION       5.0e+00     5.0e-19   \n",
       "38    E + CO2(v1) => E + CO2(v20)  EXCITATION       4.9e+00     5.0e-19   \n",
       "19        E + CO2 => E + CO2(v20)  EXCITATION       5.2e+00     3.1e-19   \n",
       "\n",
       "     energy lose  \n",
       "209      8.2e-16  \n",
       "207      8.3e-16  \n",
       "204      8.4e-16  \n",
       "200      8.6e-16  \n",
       "195      8.7e-16  \n",
       "189      8.8e-16  \n",
       "182      8.9e-16  \n",
       "174      9.0e-16  \n",
       "165      9.1e-16  \n",
       "155      9.2e-16  \n",
       "144      9.3e-16  \n",
       "132      9.4e-16  \n",
       "119      9.5e-16  \n",
       "105      9.6e-16  \n",
       "90       9.7e-16  \n",
       "74       9.8e-16  \n",
       "57       9.9e-16  \n",
       "39       1.0e-15  \n",
       "0        1.0e-15  \n",
       "20       1.0e-15  \n",
       "183      1.1e-15  \n",
       "208      1.0e-15  \n",
       "190      1.1e-15  \n",
       "205      1.0e-15  \n",
       "196      1.0e-15  \n",
       "201      1.0e-15  \n",
       "175      1.1e-15  \n",
       "166      1.1e-15  \n",
       "156      1.1e-15  \n",
       "145      1.1e-15  \n",
       "..           ...  \n",
       "117      3.1e-17  \n",
       "131      3.1e-17  \n",
       "13       2.2e-17  \n",
       "33       2.2e-17  \n",
       "52       2.2e-17  \n",
       "70       2.1e-17  \n",
       "87       2.1e-17  \n",
       "103      2.1e-17  \n",
       "118      2.0e-17  \n",
       "14       1.4e-17  \n",
       "34       1.4e-17  \n",
       "53       1.4e-17  \n",
       "71       1.4e-17  \n",
       "88       1.4e-17  \n",
       "104      1.4e-17  \n",
       "15       9.4e-18  \n",
       "35       9.2e-18  \n",
       "54       9.1e-18  \n",
       "72       9.0e-18  \n",
       "89       8.9e-18  \n",
       "16       6.1e-18  \n",
       "36       6.0e-18  \n",
       "55       5.9e-18  \n",
       "73       5.8e-18  \n",
       "17       3.9e-18  \n",
       "37       3.8e-18  \n",
       "56       3.8e-18  \n",
       "18       2.5e-18  \n",
       "38       2.5e-18  \n",
       "19       1.6e-18  \n",
       "\n",
       "[210 rows x 5 columns]"
      ]
     },
     "execution_count": 70,
     "metadata": {},
     "output_type": "execute_result"
    },
    {
     "data": {
      "text/html": [
       "<b>limit_output extension: Maximum message size of 10000 exceeded with 11362 characters</b>"
      ]
     },
     "metadata": {},
     "output_type": "display_data"
    }
   ],
   "source": [
    "result_df[result_df['type']=='EXCITATION'].sort_values(by=['rate const'], ascending=False)"
   ]
  },
  {
   "cell_type": "code",
   "execution_count": 71,
   "metadata": {
    "ExecuteTime": {
     "end_time": "2019-09-09T02:55:43.431715Z",
     "start_time": "2019-09-09T02:55:43.352926Z"
    }
   },
   "outputs": [
    {
     "data": {
      "text/html": [
       "<div>\n",
       "<style scoped>\n",
       "    .dataframe tbody tr th:only-of-type {\n",
       "        vertical-align: middle;\n",
       "    }\n",
       "\n",
       "    .dataframe tbody tr th {\n",
       "        vertical-align: top;\n",
       "    }\n",
       "\n",
       "    .dataframe thead th {\n",
       "        text-align: right;\n",
       "    }\n",
       "</style>\n",
       "<table border=\"1\" class=\"dataframe\">\n",
       "  <thead>\n",
       "    <tr style=\"text-align: right;\">\n",
       "      <th></th>\n",
       "      <th>formula</th>\n",
       "      <th>type</th>\n",
       "      <th>threshold_eV</th>\n",
       "      <th>rate const</th>\n",
       "      <th>energy lose</th>\n",
       "    </tr>\n",
       "  </thead>\n",
       "  <tbody>\n",
       "  </tbody>\n",
       "</table>\n",
       "</div>"
      ],
      "text/plain": [
       "Empty DataFrame\n",
       "Columns: [formula, type, threshold_eV, rate const, energy lose]\n",
       "Index: []"
      ]
     },
     "execution_count": 71,
     "metadata": {},
     "output_type": "execute_result"
    }
   ],
   "source": [
    "result_df[result_df['formula'].str.endswith('E + H + H')].sort_values(by=['rate const'], ascending=False)"
   ]
  },
  {
   "cell_type": "code",
   "execution_count": 72,
   "metadata": {
    "ExecuteTime": {
     "end_time": "2019-09-09T02:55:43.522472Z",
     "start_time": "2019-09-09T02:55:43.433710Z"
    }
   },
   "outputs": [
    {
     "data": {
      "text/html": [
       "<div>\n",
       "<style scoped>\n",
       "    .dataframe tbody tr th:only-of-type {\n",
       "        vertical-align: middle;\n",
       "    }\n",
       "\n",
       "    .dataframe tbody tr th {\n",
       "        vertical-align: top;\n",
       "    }\n",
       "\n",
       "    .dataframe thead th {\n",
       "        text-align: right;\n",
       "    }\n",
       "</style>\n",
       "<table border=\"1\" class=\"dataframe\">\n",
       "  <thead>\n",
       "    <tr style=\"text-align: right;\">\n",
       "      <th></th>\n",
       "      <th>formula</th>\n",
       "      <th>type</th>\n",
       "      <th>threshold_eV</th>\n",
       "      <th>rate const</th>\n",
       "      <th>energy lose</th>\n",
       "    </tr>\n",
       "  </thead>\n",
       "  <tbody>\n",
       "  </tbody>\n",
       "</table>\n",
       "</div>"
      ],
      "text/plain": [
       "Empty DataFrame\n",
       "Columns: [formula, type, threshold_eV, rate const, energy lose]\n",
       "Index: []"
      ]
     },
     "execution_count": 72,
     "metadata": {},
     "output_type": "execute_result"
    }
   ],
   "source": [
    "result_df[result_df['formula'].str.endswith('E + CO + O')].sort_values(by=['rate const'], ascending=False)"
   ]
  },
  {
   "cell_type": "code",
   "execution_count": null,
   "metadata": {},
   "outputs": [],
   "source": []
  },
  {
   "cell_type": "code",
   "execution_count": null,
   "metadata": {},
   "outputs": [],
   "source": []
  },
  {
   "cell_type": "code",
   "execution_count": null,
   "metadata": {},
   "outputs": [],
   "source": []
  }
 ],
 "metadata": {
  "kernelspec": {
   "display_name": "Python 3",
   "language": "python",
   "name": "python3"
  },
  "language_info": {
   "codemirror_mode": {
    "name": "ipython",
    "version": 3
   },
   "file_extension": ".py",
   "mimetype": "text/x-python",
   "name": "python",
   "nbconvert_exporter": "python",
   "pygments_lexer": "ipython3",
   "version": "3.7.0"
  },
  "toc": {
   "base_numbering": 1,
   "nav_menu": {},
   "number_sections": true,
   "sideBar": false,
   "skip_h1_title": false,
   "title_cell": "Table of Contents",
   "title_sidebar": "Contents",
   "toc_cell": false,
   "toc_position": {
    "height": "457px",
    "left": "1378.19px",
    "top": "150px",
    "width": "156.813px"
   },
   "toc_section_display": true,
   "toc_window_display": true
  },
  "varInspector": {
   "cols": {
    "lenName": 16,
    "lenType": 16,
    "lenVar": 40
   },
   "kernels_config": {
    "python": {
     "delete_cmd_postfix": "",
     "delete_cmd_prefix": "del ",
     "library": "var_list.py",
     "varRefreshCmd": "print(var_dic_list())"
    },
    "r": {
     "delete_cmd_postfix": ") ",
     "delete_cmd_prefix": "rm(",
     "library": "var_list.r",
     "varRefreshCmd": "cat(var_dic_list()) "
    }
   },
   "types_to_exclude": [
    "module",
    "function",
    "builtin_function_or_method",
    "instance",
    "_Feature"
   ],
   "window_display": false
  }
 },
 "nbformat": 4,
 "nbformat_minor": 2
}
