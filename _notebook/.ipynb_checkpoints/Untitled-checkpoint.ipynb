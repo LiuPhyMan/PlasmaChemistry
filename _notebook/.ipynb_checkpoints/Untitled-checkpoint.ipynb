{
 "cells": [
  {
   "cell_type": "markdown",
   "metadata": {},
   "source": [
    "# Init"
   ]
  },
  {
   "cell_type": "code",
   "execution_count": 1,
   "metadata": {},
   "outputs": [
    {
     "name": "stdout",
     "output_type": "stream",
     "text": [
      "/home/ljb/Documents/Code/PlasmaChemistry\n"
     ]
    }
   ],
   "source": [
    "%cd .."
   ]
  },
  {
   "cell_type": "code",
   "execution_count": 2,
   "metadata": {
    "ExecuteTime": {
     "end_time": "2019-09-06T07:11:18.823669Z",
     "start_time": "2019-09-06T07:11:15.490579Z"
    },
    "deletable": false,
    "editable": false,
    "init_cell": true,
    "run_control": {
     "marked": false
    }
   },
   "outputs": [],
   "source": [
    "import yaml\n",
    "import re\n",
    "import numpy as np\n",
    "import pandas as pd\n",
    "from matplotlib import pyplot as plt\n",
    "from scipy.integrate import (solve_ivp, ode)\n",
    "from plasmistry import constants as const\n",
    "from plasmistry.molecule import get_vib_energy"
   ]
  },
  {
   "cell_type": "code",
   "execution_count": 3,
   "metadata": {
    "ExecuteTime": {
     "end_time": "2019-09-06T07:11:18.827660Z",
     "start_time": "2019-09-06T07:11:18.824667Z"
    },
    "deletable": false,
    "editable": false
   },
   "outputs": [],
   "source": [
    "from plasmistry.reactions import CoefReactions"
   ]
  },
  {
   "cell_type": "code",
   "execution_count": 4,
   "metadata": {
    "ExecuteTime": {
     "end_time": "2019-09-06T07:11:18.928391Z",
     "start_time": "2019-09-06T07:11:18.829655Z"
    },
    "deletable": false,
    "editable": false
   },
   "outputs": [],
   "source": [
    "np.set_printoptions(precision=1, linewidth=130, edgeitems=5)\n",
    "pd.options.display.float_format = '{:,.1e}'.format"
   ]
  },
  {
   "cell_type": "code",
   "execution_count": 5,
   "metadata": {
    "ExecuteTime": {
     "end_time": "2019-09-06T07:11:19.074002Z",
     "start_time": "2019-09-06T07:11:18.935372Z"
    }
   },
   "outputs": [],
   "source": [
    "import matplotlib.pyplot as plt\n",
    "plt.rcParams[\"figure.figsize\"] = (12,9)\n",
    "plt.rcParams[\"font.size\"] = 14"
   ]
  },
  {
   "cell_type": "code",
   "execution_count": 6,
   "metadata": {
    "ExecuteTime": {
     "end_time": "2019-09-06T07:11:19.221607Z",
     "start_time": "2019-09-06T07:11:19.077993Z"
    },
    "deletable": false,
    "editable": false,
    "init_cell": true
   },
   "outputs": [
    {
     "ename": "ImportError",
     "evalue": "cannot import name 'eval_constructor' from 'yaml_demo' (/home/ljb/Documents/Code/PlasmaChemistry/yaml_demo.py)",
     "output_type": "error",
     "traceback": [
      "\u001b[0;31m---------------------------------------------------------------------------\u001b[0m",
      "\u001b[0;31mImportError\u001b[0m                               Traceback (most recent call last)",
      "\u001b[0;32m<ipython-input-6-e559232278eb>\u001b[0m in \u001b[0;36m<module>\u001b[0;34m\u001b[0m\n\u001b[0;32m----> 1\u001b[0;31m from yaml_demo import (eval_constructor, LT_constructor, Arr_constructor,\n\u001b[0m\u001b[1;32m      2\u001b[0m                        \u001b[0mH2_vib_energy_in_eV\u001b[0m\u001b[0;34m,\u001b[0m \u001b[0mCO2_vib_energy_in_eV\u001b[0m\u001b[0;34m,\u001b[0m\u001b[0;34m\u001b[0m\u001b[0;34m\u001b[0m\u001b[0m\n\u001b[1;32m      3\u001b[0m                        \u001b[0mCO_vib_energy_in_eV\u001b[0m\u001b[0;34m,\u001b[0m \u001b[0mReaction_block\u001b[0m\u001b[0;34m,\u001b[0m\u001b[0;34m\u001b[0m\u001b[0;34m\u001b[0m\u001b[0m\n\u001b[1;32m      4\u001b[0m                        Cros_Reaction_block, Coef_Reaction_block)\n\u001b[1;32m      5\u001b[0m \u001b[0;34m\u001b[0m\u001b[0m\n",
      "\u001b[0;31mImportError\u001b[0m: cannot import name 'eval_constructor' from 'yaml_demo' (/home/ljb/Documents/Code/PlasmaChemistry/yaml_demo.py)"
     ]
    }
   ],
   "source": [
    "from yaml_demo import (eval_constructor, LT_constructor, Arr_constructor,\n",
    "                       H2_vib_energy_in_eV, CO2_vib_energy_in_eV,\n",
    "                       CO_vib_energy_in_eV, Reaction_block,\n",
    "                       Cros_Reaction_block, Coef_Reaction_block)\n",
    "\n",
    "yaml.add_constructor(u\"!eval\", eval_constructor)\n",
    "yaml.add_constructor(u\"!LT\", LT_constructor)\n",
    "yaml.add_constructor(u\"!Arr\", Arr_constructor)"
   ]
  },
  {
   "cell_type": "code",
   "execution_count": null,
   "metadata": {},
   "outputs": [],
   "source": [
    "from plasmistry.molecule import (H2_vib_group, CO_vib_group, CO2_vib_group)\n",
    "from plasmistry.molecule import (H2_vib_energy_in_eV, H2_vib_energy_in_K,\n",
    "                                 CO2_vib_energy_in_eV, CO2_vib_energy_in_K,\n",
    "                                 CO_vib_energy_in_eV, CO_vib_energy_in_K)\n",
    "from plasmistry.io import (LT_constructor, standard_Arr_constructor,\n",
    "                           chemkin_Arr_2_rcnts_constructor,\n",
    "                           chemkin_Arr_3_rcnts_constructor, eval_constructor,\n",
    "                           reversed_reaction_constructor, alpha_constructor,\n",
    "                           F_gamma_constructor,\n",
    "                           Cros_Reaction_block, Coef_Reaction_block)\n",
    "from plasmistry.reactions import (CrosReactions, CoefReactions)\n",
    "from plasmistry.electron import EEDF\n",
    "from plasmistry.electron import get_maxwell_eedf"
   ]
  },
  {
   "cell_type": "code",
   "execution_count": null,
   "metadata": {},
   "outputs": [],
   "source": [
    "import yaml\n",
    "yaml.add_constructor(u\"!eval\", eval_constructor)\n",
    "yaml.add_constructor(u\"!LT\", LT_constructor)\n",
    "yaml.add_constructor(\"!StandardArr\", standard_Arr_constructor)\n",
    "yaml.add_constructor(\"!ChemKinArr_2_rcnt\", chemkin_Arr_2_rcnts_constructor)\n",
    "yaml.add_constructor(\"!ChemKinArr_3_rcnt\", chemkin_Arr_3_rcnts_constructor)\n",
    "yaml.add_constructor(\"!rev\", reversed_reaction_constructor)\n",
    "yaml.add_constructor(\"!alpha\", alpha_constructor)\n",
    "yaml.add_constructor(\"!F_gamma\", F_gamma_constructor)"
   ]
  },
  {
   "cell_type": "markdown",
   "metadata": {},
   "source": [
    "# Read reactions"
   ]
  },
  {
   "cell_type": "code",
   "execution_count": null,
   "metadata": {
    "ExecuteTime": {
     "end_time": "2019-09-06T07:11:19.350264Z",
     "start_time": "2019-09-06T07:11:19.223602Z"
    },
    "scrolled": true
   },
   "outputs": [],
   "source": [
    "with open(r\"_yaml/test_0.yaml\") as f:\n",
    "    all_rctns = yaml.load(f)\n",
    "rctn_considered = all_rctns[-1]['The reactions considered']['electron reactions']\n",
    "for _key in rctn_considered:\n",
    "    print(_key)"
   ]
  },
  {
   "cell_type": "code",
   "execution_count": null,
   "metadata": {
    "ExecuteTime": {
     "end_time": "2019-09-06T07:11:19.452988Z",
     "start_time": "2019-09-06T07:11:19.352257Z"
    }
   },
   "outputs": [],
   "source": [
    "coef_block = Coef_Reaction_block(rctn_dict=rctn_considered[\"CO2_VT_with_CO2\"])"
   ]
  },
  {
   "cell_type": "code",
   "execution_count": null,
   "metadata": {
    "ExecuteTime": {
     "end_time": "2019-09-06T07:11:19.542748Z",
     "start_time": "2019-09-06T07:11:19.453985Z"
    }
   },
   "outputs": [],
   "source": [
    "coef_df = coef_block.generate_crostn_dataframe()"
   ]
  },
  {
   "cell_type": "code",
   "execution_count": null,
   "metadata": {
    "ExecuteTime": {
     "end_time": "2019-09-06T07:11:19.633505Z",
     "start_time": "2019-09-06T07:11:19.543746Z"
    }
   },
   "outputs": [],
   "source": [
    "coef_df.columns"
   ]
  },
  {
   "cell_type": "markdown",
   "metadata": {},
   "source": [
    "# Instance reaction\n",
    "- \\__init__\n",
    "- .set_pre_exec_list() (optional)\n",
    "- .compile_k_str()\n",
    "\n",
    "\n",
    "\n",
    "\n",
    "\n",
    "\n"
   ]
  },
  {
   "cell_type": "code",
   "execution_count": null,
   "metadata": {
    "ExecuteTime": {
     "end_time": "2019-09-06T07:11:19.748200Z",
     "start_time": "2019-09-06T07:11:19.634502Z"
    }
   },
   "outputs": [],
   "source": [
    "coef = CoefReactions(reactant=coef_df['reactant'],\n",
    "                    product=coef_df['product'],\n",
    "                    k_str=coef_df['kstr'])"
   ]
  },
  {
   "cell_type": "code",
   "execution_count": null,
   "metadata": {
    "ExecuteTime": {
     "end_time": "2019-09-06T07:11:19.836962Z",
     "start_time": "2019-09-06T07:11:19.749197Z"
    },
    "scrolled": true
   },
   "outputs": [],
   "source": [
    "print(coef)"
   ]
  },
  {
   "cell_type": "code",
   "execution_count": null,
   "metadata": {
    "ExecuteTime": {
     "end_time": "2019-09-06T07:11:19.960631Z",
     "start_time": "2019-09-06T07:11:19.837960Z"
    }
   },
   "outputs": [],
   "source": [
    "coef.compile_k_str()"
   ]
  },
  {
   "cell_type": "markdown",
   "metadata": {},
   "source": [
    " ## set rate constant\n",
    "- .set_rate_const(*, Tgas_K, Te_eV, EN_Td)"
   ]
  },
  {
   "cell_type": "code",
   "execution_count": null,
   "metadata": {
    "ExecuteTime": {
     "end_time": "2019-09-06T07:11:23.951965Z",
     "start_time": "2019-09-06T07:11:19.961629Z"
    }
   },
   "outputs": [],
   "source": [
    "%timeit coef.set_rate_const(Tgas_K=1000, Te_eV=1.0, EN_Td=3)"
   ]
  },
  {
   "cell_type": "code",
   "execution_count": null,
   "metadata": {
    "ExecuteTime": {
     "end_time": "2019-09-06T07:11:23.959943Z",
     "start_time": "2019-09-06T07:11:23.952962Z"
    },
    "scrolled": true
   },
   "outputs": [],
   "source": [
    "coef.rate_const"
   ]
  },
  {
   "cell_type": "markdown",
   "metadata": {},
   "source": [
    " ## set rate\n",
    "- .set_rate(*, density)"
   ]
  },
  {
   "cell_type": "code",
   "execution_count": null,
   "metadata": {
    "ExecuteTime": {
     "end_time": "2019-09-06T07:11:24.044716Z",
     "start_time": "2019-09-06T07:11:23.960941Z"
    }
   },
   "outputs": [],
   "source": [
    "coef.set_rate(density=coef.get_initial_density(density_dict={'CO2':1e25,\n",
    "                                                            'CO2(v1)': 1e25,\n",
    "                                                            'CO2(v2)': 1e25,\n",
    "                                                            'CO': 1e25}))"
   ]
  },
  {
   "cell_type": "code",
   "execution_count": null,
   "metadata": {
    "ExecuteTime": {
     "end_time": "2019-09-06T07:11:24.146444Z",
     "start_time": "2019-09-06T07:11:24.045714Z"
    },
    "scrolled": true
   },
   "outputs": [],
   "source": [
    "coef.rate"
   ]
  },
  {
   "cell_type": "markdown",
   "metadata": {},
   "source": [
    "## get\n",
    "- .get_dn()\n",
    "- .get_dH_e()\n",
    "- .get_dH_g()"
   ]
  },
  {
   "cell_type": "code",
   "execution_count": null,
   "metadata": {
    "ExecuteTime": {
     "end_time": "2019-09-06T07:11:24.228226Z",
     "start_time": "2019-09-06T07:11:24.147442Z"
    }
   },
   "outputs": [],
   "source": [
    "coef.get_dn()"
   ]
  },
  {
   "cell_type": "code",
   "execution_count": null,
   "metadata": {
    "ExecuteTime": {
     "end_time": "2019-09-06T07:11:24.312003Z",
     "start_time": "2019-09-06T07:11:24.235210Z"
    },
    "scrolled": true
   },
   "outputs": [],
   "source": [
    "coef.species"
   ]
  },
  {
   "cell_type": "code",
   "execution_count": null,
   "metadata": {
    "ExecuteTime": {
     "end_time": "2019-09-06T07:11:24.410739Z",
     "start_time": "2019-09-06T07:11:24.313997Z"
    }
   },
   "outputs": [],
   "source": [
    "print(coef)"
   ]
  },
  {
   "cell_type": "markdown",
   "metadata": {},
   "source": [
    "# Evolve"
   ]
  },
  {
   "cell_type": "code",
   "execution_count": null,
   "metadata": {
    "ExecuteTime": {
     "end_time": "2019-09-06T07:11:24.528424Z",
     "start_time": "2019-09-06T07:11:24.411736Z"
    }
   },
   "outputs": [],
   "source": [
    "def dndt(t, y):\n",
    "    coef.set_rate_const(Tgas_K=1000)\n",
    "    coef.set_rate(density=y)\n",
    "    return coef.get_dn()"
   ]
  },
  {
   "cell_type": "code",
   "execution_count": null,
   "metadata": {
    "ExecuteTime": {
     "end_time": "2019-09-06T07:11:24.644114Z",
     "start_time": "2019-09-06T07:11:24.530419Z"
    }
   },
   "outputs": [],
   "source": [
    "y0 = np.ones_like(coef.species)*1e20"
   ]
  },
  {
   "cell_type": "code",
   "execution_count": null,
   "metadata": {
    "ExecuteTime": {
     "end_time": "2019-09-06T07:11:25.185666Z",
     "start_time": "2019-09-06T07:11:24.645112Z"
    }
   },
   "outputs": [],
   "source": [
    "time_span = [0, 1e3]\n",
    "sol = solve_ivp(dndt, time_span, y0, method=\"BDF\", rtol=5e-2)"
   ]
  },
  {
   "cell_type": "code",
   "execution_count": null,
   "metadata": {
    "ExecuteTime": {
     "end_time": "2019-09-06T07:11:25.190656Z",
     "start_time": "2019-09-06T07:11:25.186664Z"
    }
   },
   "outputs": [],
   "source": [
    "sol.t.shape"
   ]
  },
  {
   "cell_type": "code",
   "execution_count": null,
   "metadata": {
    "ExecuteTime": {
     "end_time": "2019-09-06T07:11:25.275428Z",
     "start_time": "2019-09-06T07:11:25.191652Z"
    }
   },
   "outputs": [],
   "source": [
    "sol.y.shape"
   ]
  },
  {
   "cell_type": "code",
   "execution_count": null,
   "metadata": {
    "ExecuteTime": {
     "end_time": "2019-09-06T07:11:25.851886Z",
     "start_time": "2019-09-06T07:11:25.276425Z"
    }
   },
   "outputs": [],
   "source": [
    "plt.semilogx(sol.t, sol.y.transpose(), marker='.')"
   ]
  },
  {
   "cell_type": "code",
   "execution_count": null,
   "metadata": {
    "ExecuteTime": {
     "end_time": "2019-09-06T07:11:25.857871Z",
     "start_time": "2019-09-06T07:11:25.852884Z"
    }
   },
   "outputs": [],
   "source": [
    "sol.y[:,-1]"
   ]
  },
  {
   "cell_type": "code",
   "execution_count": null,
   "metadata": {
    "ExecuteTime": {
     "end_time": "2019-09-06T07:11:25.969572Z",
     "start_time": "2019-09-06T07:11:25.859866Z"
    }
   },
   "outputs": [],
   "source": [
    "coef.set_rate(density=sol.y[:,-1].astype(np.float))"
   ]
  },
  {
   "cell_type": "code",
   "execution_count": null,
   "metadata": {
    "ExecuteTime": {
     "end_time": "2019-09-06T07:11:26.131141Z",
     "start_time": "2019-09-06T07:11:25.970569Z"
    }
   },
   "outputs": [],
   "source": [
    "coef.view_dndt()"
   ]
  },
  {
   "cell_type": "code",
   "execution_count": null,
   "metadata": {
    "ExecuteTime": {
     "end_time": "2019-09-06T07:11:42.365754Z",
     "start_time": "2019-09-06T07:11:42.357776Z"
    }
   },
   "outputs": [],
   "source": [
    "coef.view_density(density=sol.y[:,-1])"
   ]
  },
  {
   "cell_type": "code",
   "execution_count": null,
   "metadata": {},
   "outputs": [],
   "source": []
  },
  {
   "cell_type": "code",
   "execution_count": null,
   "metadata": {},
   "outputs": [],
   "source": []
  }
 ],
 "metadata": {
  "celltoolbar": "Initialization Cell",
  "hide_input": false,
  "kernelspec": {
   "display_name": "Python 3",
   "language": "python",
   "name": "python3"
  },
  "language_info": {
   "codemirror_mode": {
    "name": "ipython",
    "version": 3
   },
   "file_extension": ".py",
   "mimetype": "text/x-python",
   "name": "python",
   "nbconvert_exporter": "python",
   "pygments_lexer": "ipython3",
   "version": "3.7.3"
  },
  "nbTranslate": {
   "displayLangs": [
    "*"
   ],
   "hotkey": "alt-t",
   "langInMainMenu": true,
   "sourceLang": "en",
   "targetLang": "fr",
   "useGoogleTranslate": true
  },
  "toc": {
   "base_numbering": 1,
   "nav_menu": {
    "height": "340.99px",
    "width": "313.993px"
   },
   "number_sections": true,
   "sideBar": false,
   "skip_h1_title": false,
   "title_cell": "Table of Contents",
   "title_sidebar": "Contents",
   "toc_cell": false,
   "toc_position": {
    "height": "231px",
    "left": "1206px",
    "top": "144px",
    "width": "237px"
   },
   "toc_section_display": true,
   "toc_window_display": true
  },
  "varInspector": {
   "cols": {
    "lenName": 16,
    "lenType": 16,
    "lenVar": 40
   },
   "kernels_config": {
    "python": {
     "delete_cmd_postfix": "",
     "delete_cmd_prefix": "del ",
     "library": "var_list.py",
     "varRefreshCmd": "print(var_dic_list())"
    },
    "r": {
     "delete_cmd_postfix": ") ",
     "delete_cmd_prefix": "rm(",
     "library": "var_list.r",
     "varRefreshCmd": "cat(var_dic_list()) "
    }
   },
   "position": {
    "height": "439.547px",
    "left": "623.766px",
    "right": "20px",
    "top": "169px",
    "width": "379px"
   },
   "types_to_exclude": [
    "module",
    "function",
    "builtin_function_or_method",
    "instance",
    "_Feature"
   ],
   "window_display": true
  }
 },
 "nbformat": 4,
 "nbformat_minor": 2
}
