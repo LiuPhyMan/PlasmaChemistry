{
 "cells": [
  {
   "cell_type": "markdown",
   "metadata": {
    "heading_collapsed": true
   },
   "source": [
    "# Init"
   ]
  },
  {
   "cell_type": "code",
   "execution_count": 1,
   "metadata": {
    "ExecuteTime": {
     "end_time": "2019-09-06T03:06:17.984779Z",
     "start_time": "2019-09-06T03:06:14.542979Z"
    },
    "deletable": false,
    "editable": false,
    "hidden": true,
    "init_cell": true
   },
   "outputs": [],
   "source": [
    "import yaml\n",
    "import re\n",
    "import numpy as np\n",
    "import pandas as pd\n",
    "from plasmistry import constants as const\n",
    "from plasmistry.molecule import get_vib_energy"
   ]
  },
  {
   "cell_type": "code",
   "execution_count": 2,
   "metadata": {
    "ExecuteTime": {
     "end_time": "2019-09-06T03:06:17.988769Z",
     "start_time": "2019-09-06T03:06:17.985776Z"
    },
    "deletable": false,
    "editable": false,
    "hidden": true
   },
   "outputs": [],
   "source": [
    "from plasmistry.reactions import CoefReactions"
   ]
  },
  {
   "cell_type": "code",
   "execution_count": 3,
   "metadata": {
    "ExecuteTime": {
     "end_time": "2019-09-06T03:06:18.069552Z",
     "start_time": "2019-09-06T03:06:17.990766Z"
    },
    "deletable": false,
    "editable": false,
    "hidden": true
   },
   "outputs": [],
   "source": [
    "np.set_printoptions(precision=1, linewidth=130, edgeitems=5)"
   ]
  },
  {
   "cell_type": "code",
   "execution_count": 4,
   "metadata": {
    "ExecuteTime": {
     "end_time": "2019-09-06T03:06:18.166294Z",
     "start_time": "2019-09-06T03:06:18.070549Z"
    },
    "deletable": false,
    "editable": false,
    "hidden": true,
    "init_cell": true
   },
   "outputs": [],
   "source": [
    "from yaml_demo import (eval_constructor, LT_constructor, Arr_constructor,\n",
    "                       H2_vib_energy_in_eV, \n",
    "                       CO2_vib_energy_in_eV, \n",
    "                       CO_vib_energy_in_eV,\n",
    "                       Reaction_block,\n",
    "                       Cros_Reaction_block,\n",
    "                       Coef_Reaction_block)\n",
    "\n",
    "yaml.add_constructor(u\"!eval\", eval_constructor)\n",
    "yaml.add_constructor(u\"!LT\", LT_constructor)\n",
    "yaml.add_constructor(u\"!Arr\", Arr_constructor)"
   ]
  },
  {
   "cell_type": "markdown",
   "metadata": {
    "heading_collapsed": true
   },
   "source": [
    "# Read reactions"
   ]
  },
  {
   "cell_type": "code",
   "execution_count": 5,
   "metadata": {
    "ExecuteTime": {
     "end_time": "2019-09-06T03:06:18.305921Z",
     "start_time": "2019-09-06T03:06:18.167291Z"
    },
    "hidden": true
   },
   "outputs": [
    {
     "name": "stdout",
     "output_type": "stream",
     "text": [
      "H2_ele_vib_rctn_forward\n",
      "H2_ele_vib_rctn_backward\n",
      "CO2_VT_with_CO2\n"
     ]
    }
   ],
   "source": [
    "with open(\"test_0.yaml\") as f:\n",
    "    all_rctns = yaml.load(f)\n",
    "rctn_considered = all_rctns[-1]['The reactions considered']['electron reactions']\n",
    "for _key in rctn_considered:\n",
    "    print(_key)"
   ]
  },
  {
   "cell_type": "code",
   "execution_count": 6,
   "metadata": {
    "ExecuteTime": {
     "end_time": "2019-09-06T03:06:18.367755Z",
     "start_time": "2019-09-06T03:06:18.307916Z"
    },
    "hidden": true
   },
   "outputs": [],
   "source": [
    "coef_block = Coef_Reaction_block(rctn_dict=rctn_considered[\"CO2_VT_with_CO2\"])"
   ]
  },
  {
   "cell_type": "code",
   "execution_count": 7,
   "metadata": {
    "ExecuteTime": {
     "end_time": "2019-09-06T03:06:18.432582Z",
     "start_time": "2019-09-06T03:06:18.368753Z"
    },
    "hidden": true
   },
   "outputs": [],
   "source": [
    "coef_df = coef_block.generate_crostn_dataframe()"
   ]
  },
  {
   "cell_type": "code",
   "execution_count": 8,
   "metadata": {
    "ExecuteTime": {
     "end_time": "2019-09-06T03:06:18.537302Z",
     "start_time": "2019-09-06T03:06:18.433580Z"
    },
    "hidden": true
   },
   "outputs": [
    {
     "data": {
      "text/plain": [
       "Index(['formula', 'reactant', 'product', 'type', 'kstr'], dtype='object')"
      ]
     },
     "execution_count": 8,
     "metadata": {},
     "output_type": "execute_result"
    }
   ],
   "source": [
    "coef_df.columns"
   ]
  },
  {
   "cell_type": "markdown",
   "metadata": {},
   "source": [
    "# Instance reaction\n",
    "- \\__init__\n",
    "- .set_pre_exec_list() (optional)\n",
    "- .compile_k_str()\n",
    "\n",
    "\n",
    "\n",
    "\n",
    "\n",
    "\n"
   ]
  },
  {
   "cell_type": "code",
   "execution_count": 9,
   "metadata": {
    "ExecuteTime": {
     "end_time": "2019-09-06T03:06:18.658977Z",
     "start_time": "2019-09-06T03:06:18.538301Z"
    }
   },
   "outputs": [],
   "source": [
    "coef = CoefReactions(reactant=coef_df['reactant'],\n",
    "                    product=coef_df['product'],\n",
    "                    k_str=coef_df['kstr'])"
   ]
  },
  {
   "cell_type": "code",
   "execution_count": 10,
   "metadata": {
    "ExecuteTime": {
     "end_time": "2019-09-06T03:06:18.739761Z",
     "start_time": "2019-09-06T03:06:18.659974Z"
    }
   },
   "outputs": [
    {
     "name": "stdout",
     "output_type": "stream",
     "text": [
      "\n",
      "        \n",
      "====SPECIES====\n",
      "        \n",
      "0           CO\n",
      "1       CO(v1)\n",
      "2      CO(v10)\n",
      "3       CO(v2)\n",
      "4       CO(v3)\n",
      "5       CO(v4)\n",
      "6       CO(v5)\n",
      "7       CO(v6)\n",
      "8       CO(v7)\n",
      "9       CO(v8)\n",
      "10      CO(v9)\n",
      "11         CO2\n",
      "12     CO2(v1)\n",
      "13    CO2(v10)\n",
      "14    CO2(v11)\n",
      "15    CO2(v12)\n",
      "16    CO2(v13)\n",
      "17    CO2(v14)\n",
      "18    CO2(v15)\n",
      "19    CO2(v16)\n",
      "20    CO2(v17)\n",
      "21    CO2(v18)\n",
      "22    CO2(v19)\n",
      "23     CO2(v2)\n",
      "24    CO2(v20)\n",
      "25    CO2(v21)\n",
      "26     CO2(v3)\n",
      "27     CO2(v4)\n",
      "28     CO2(v5)\n",
      "29     CO2(v6)\n",
      "30     CO2(v7)\n",
      "31     CO2(v8)\n",
      "32     CO2(v9)\n",
      "dtype: object\n",
      "        \n",
      "====REACTIONS====\n",
      "        \n",
      " columns: reactions dH_g[eV] dH_e[eV] k_str rate_const rate\n",
      "        \n",
      "                                    reactions  dH_g[eV]  dH_e[eV]  \\\n",
      "0                    CO2(v1) + CO => CO2 + CO       0.0       0.0   \n",
      "1                CO2(v2) + CO => CO2(v1) + CO       0.0       0.0   \n",
      "2                CO2(v3) + CO => CO2(v2) + CO       0.0       0.0   \n",
      "3                CO2(v4) + CO => CO2(v3) + CO       0.0       0.0   \n",
      "4                CO2(v5) + CO => CO2(v4) + CO       0.0       0.0   \n",
      "5                CO2(v6) + CO => CO2(v5) + CO       0.0       0.0   \n",
      "6                CO2(v7) + CO => CO2(v6) + CO       0.0       0.0   \n",
      "7                CO2(v8) + CO => CO2(v7) + CO       0.0       0.0   \n",
      "8                CO2(v9) + CO => CO2(v8) + CO       0.0       0.0   \n",
      "9               CO2(v10) + CO => CO2(v9) + CO       0.0       0.0   \n",
      "10             CO2(v11) + CO => CO2(v10) + CO       0.0       0.0   \n",
      "11             CO2(v12) + CO => CO2(v11) + CO       0.0       0.0   \n",
      "12             CO2(v13) + CO => CO2(v12) + CO       0.0       0.0   \n",
      "13             CO2(v14) + CO => CO2(v13) + CO       0.0       0.0   \n",
      "14             CO2(v15) + CO => CO2(v14) + CO       0.0       0.0   \n",
      "15             CO2(v16) + CO => CO2(v15) + CO       0.0       0.0   \n",
      "16             CO2(v17) + CO => CO2(v16) + CO       0.0       0.0   \n",
      "17             CO2(v18) + CO => CO2(v17) + CO       0.0       0.0   \n",
      "18             CO2(v19) + CO => CO2(v18) + CO       0.0       0.0   \n",
      "19             CO2(v20) + CO => CO2(v19) + CO       0.0       0.0   \n",
      "20             CO2(v21) + CO => CO2(v20) + CO       0.0       0.0   \n",
      "21           CO2(v1) + CO(v1) => CO2 + CO(v1)       0.0       0.0   \n",
      "22       CO2(v2) + CO(v1) => CO2(v1) + CO(v1)       0.0       0.0   \n",
      "23       CO2(v3) + CO(v1) => CO2(v2) + CO(v1)       0.0       0.0   \n",
      "24       CO2(v4) + CO(v1) => CO2(v3) + CO(v1)       0.0       0.0   \n",
      "25       CO2(v5) + CO(v1) => CO2(v4) + CO(v1)       0.0       0.0   \n",
      "26       CO2(v6) + CO(v1) => CO2(v5) + CO(v1)       0.0       0.0   \n",
      "27       CO2(v7) + CO(v1) => CO2(v6) + CO(v1)       0.0       0.0   \n",
      "28       CO2(v8) + CO(v1) => CO2(v7) + CO(v1)       0.0       0.0   \n",
      "29       CO2(v9) + CO(v1) => CO2(v8) + CO(v1)       0.0       0.0   \n",
      "..                                        ...       ...       ...   \n",
      "201    CO2(v13) + CO(v9) => CO2(v12) + CO(v9)       0.0       0.0   \n",
      "202    CO2(v14) + CO(v9) => CO2(v13) + CO(v9)       0.0       0.0   \n",
      "203    CO2(v15) + CO(v9) => CO2(v14) + CO(v9)       0.0       0.0   \n",
      "204    CO2(v16) + CO(v9) => CO2(v15) + CO(v9)       0.0       0.0   \n",
      "205    CO2(v17) + CO(v9) => CO2(v16) + CO(v9)       0.0       0.0   \n",
      "206    CO2(v18) + CO(v9) => CO2(v17) + CO(v9)       0.0       0.0   \n",
      "207    CO2(v19) + CO(v9) => CO2(v18) + CO(v9)       0.0       0.0   \n",
      "208    CO2(v20) + CO(v9) => CO2(v19) + CO(v9)       0.0       0.0   \n",
      "209    CO2(v21) + CO(v9) => CO2(v20) + CO(v9)       0.0       0.0   \n",
      "210        CO2(v1) + CO(v10) => CO2 + CO(v10)       0.0       0.0   \n",
      "211    CO2(v2) + CO(v10) => CO2(v1) + CO(v10)       0.0       0.0   \n",
      "212    CO2(v3) + CO(v10) => CO2(v2) + CO(v10)       0.0       0.0   \n",
      "213    CO2(v4) + CO(v10) => CO2(v3) + CO(v10)       0.0       0.0   \n",
      "214    CO2(v5) + CO(v10) => CO2(v4) + CO(v10)       0.0       0.0   \n",
      "215    CO2(v6) + CO(v10) => CO2(v5) + CO(v10)       0.0       0.0   \n",
      "216    CO2(v7) + CO(v10) => CO2(v6) + CO(v10)       0.0       0.0   \n",
      "217    CO2(v8) + CO(v10) => CO2(v7) + CO(v10)       0.0       0.0   \n",
      "218    CO2(v9) + CO(v10) => CO2(v8) + CO(v10)       0.0       0.0   \n",
      "219   CO2(v10) + CO(v10) => CO2(v9) + CO(v10)       0.0       0.0   \n",
      "220  CO2(v11) + CO(v10) => CO2(v10) + CO(v10)       0.0       0.0   \n",
      "221  CO2(v12) + CO(v10) => CO2(v11) + CO(v10)       0.0       0.0   \n",
      "222  CO2(v13) + CO(v10) => CO2(v12) + CO(v10)       0.0       0.0   \n",
      "223  CO2(v14) + CO(v10) => CO2(v13) + CO(v10)       0.0       0.0   \n",
      "224  CO2(v15) + CO(v10) => CO2(v14) + CO(v10)       0.0       0.0   \n",
      "225  CO2(v16) + CO(v10) => CO2(v15) + CO(v10)       0.0       0.0   \n",
      "226  CO2(v17) + CO(v10) => CO2(v16) + CO(v10)       0.0       0.0   \n",
      "227  CO2(v18) + CO(v10) => CO2(v17) + CO(v10)       0.0       0.0   \n",
      "228  CO2(v19) + CO(v10) => CO2(v18) + CO(v10)       0.0       0.0   \n",
      "229  CO2(v20) + CO(v10) => CO2(v19) + CO(v10)       0.0       0.0   \n",
      "230  CO2(v21) + CO(v10) => CO2(v20) + CO(v10)       0.0       0.0   \n",
      "\n",
      "                                        rate_const_str rate_const rate  \n",
      "0    (((0.425)*exp((-407)*Tgas**(-1/3)+(824)*Tgas**...        NaN  NaN  \n",
      "1    (((0.425)*exp((-407)*Tgas**(-1/3)+(824)*Tgas**...        NaN  NaN  \n",
      "2    (((0.425)*exp((-407)*Tgas**(-1/3)+(824)*Tgas**...        NaN  NaN  \n",
      "3    (((0.425)*exp((-407)*Tgas**(-1/3)+(824)*Tgas**...        NaN  NaN  \n",
      "4    (((0.425)*exp((-407)*Tgas**(-1/3)+(824)*Tgas**...        NaN  NaN  \n",
      "5    (((0.425)*exp((-407)*Tgas**(-1/3)+(824)*Tgas**...        NaN  NaN  \n",
      "6    (((0.425)*exp((-407)*Tgas**(-1/3)+(824)*Tgas**...        NaN  NaN  \n",
      "7    (((0.425)*exp((-407)*Tgas**(-1/3)+(824)*Tgas**...        NaN  NaN  \n",
      "8    (((0.425)*exp((-407)*Tgas**(-1/3)+(824)*Tgas**...        NaN  NaN  \n",
      "9    (((0.425)*exp((-407)*Tgas**(-1/3)+(824)*Tgas**...        NaN  NaN  \n",
      "10   (((0.425)*exp((-407)*Tgas**(-1/3)+(824)*Tgas**...        NaN  NaN  \n",
      "11   (((0.425)*exp((-407)*Tgas**(-1/3)+(824)*Tgas**...        NaN  NaN  \n",
      "12   (((0.425)*exp((-407)*Tgas**(-1/3)+(824)*Tgas**...        NaN  NaN  \n",
      "13   (((0.425)*exp((-407)*Tgas**(-1/3)+(824)*Tgas**...        NaN  NaN  \n",
      "14   (((0.425)*exp((-407)*Tgas**(-1/3)+(824)*Tgas**...        NaN  NaN  \n",
      "15   (((0.425)*exp((-407)*Tgas**(-1/3)+(824)*Tgas**...        NaN  NaN  \n",
      "16   (((0.425)*exp((-407)*Tgas**(-1/3)+(824)*Tgas**...        NaN  NaN  \n",
      "17   (((0.425)*exp((-407)*Tgas**(-1/3)+(824)*Tgas**...        NaN  NaN  \n",
      "18   (((0.425)*exp((-407)*Tgas**(-1/3)+(824)*Tgas**...        NaN  NaN  \n",
      "19   (((0.425)*exp((-407)*Tgas**(-1/3)+(824)*Tgas**...        NaN  NaN  \n",
      "20   (((0.425)*exp((-407)*Tgas**(-1/3)+(824)*Tgas**...        NaN  NaN  \n",
      "21   (((0.425)*exp((-407)*Tgas**(-1/3)+(824)*Tgas**...        NaN  NaN  \n",
      "22   (((0.425)*exp((-407)*Tgas**(-1/3)+(824)*Tgas**...        NaN  NaN  \n",
      "23   (((0.425)*exp((-407)*Tgas**(-1/3)+(824)*Tgas**...        NaN  NaN  \n",
      "24   (((0.425)*exp((-407)*Tgas**(-1/3)+(824)*Tgas**...        NaN  NaN  \n",
      "25   (((0.425)*exp((-407)*Tgas**(-1/3)+(824)*Tgas**...        NaN  NaN  \n",
      "26   (((0.425)*exp((-407)*Tgas**(-1/3)+(824)*Tgas**...        NaN  NaN  \n",
      "27   (((0.425)*exp((-407)*Tgas**(-1/3)+(824)*Tgas**...        NaN  NaN  \n",
      "28   (((0.425)*exp((-407)*Tgas**(-1/3)+(824)*Tgas**...        NaN  NaN  \n",
      "29   (((0.425)*exp((-407)*Tgas**(-1/3)+(824)*Tgas**...        NaN  NaN  \n",
      "..                                                 ...        ...  ...  \n",
      "201  (((0.425)*exp((-407)*Tgas**(-1/3)+(824)*Tgas**...        NaN  NaN  \n",
      "202  (((0.425)*exp((-407)*Tgas**(-1/3)+(824)*Tgas**...        NaN  NaN  \n",
      "203  (((0.425)*exp((-407)*Tgas**(-1/3)+(824)*Tgas**...        NaN  NaN  \n",
      "204  (((0.425)*exp((-407)*Tgas**(-1/3)+(824)*Tgas**...        NaN  NaN  \n",
      "205  (((0.425)*exp((-407)*Tgas**(-1/3)+(824)*Tgas**...        NaN  NaN  \n",
      "206  (((0.425)*exp((-407)*Tgas**(-1/3)+(824)*Tgas**...        NaN  NaN  \n",
      "207  (((0.425)*exp((-407)*Tgas**(-1/3)+(824)*Tgas**...        NaN  NaN  \n",
      "208  (((0.425)*exp((-407)*Tgas**(-1/3)+(824)*Tgas**...        NaN  NaN  \n",
      "209  (((0.425)*exp((-407)*Tgas**(-1/3)+(824)*Tgas**...        NaN  NaN  \n",
      "210  (((0.425)*exp((-407)*Tgas**(-1/3)+(824)*Tgas**...        NaN  NaN  \n",
      "211  (((0.425)*exp((-407)*Tgas**(-1/3)+(824)*Tgas**...        NaN  NaN  \n",
      "212  (((0.425)*exp((-407)*Tgas**(-1/3)+(824)*Tgas**...        NaN  NaN  \n",
      "213  (((0.425)*exp((-407)*Tgas**(-1/3)+(824)*Tgas**...        NaN  NaN  \n",
      "214  (((0.425)*exp((-407)*Tgas**(-1/3)+(824)*Tgas**...        NaN  NaN  \n",
      "215  (((0.425)*exp((-407)*Tgas**(-1/3)+(824)*Tgas**...        NaN  NaN  \n",
      "216  (((0.425)*exp((-407)*Tgas**(-1/3)+(824)*Tgas**...        NaN  NaN  \n",
      "217  (((0.425)*exp((-407)*Tgas**(-1/3)+(824)*Tgas**...        NaN  NaN  \n",
      "218  (((0.425)*exp((-407)*Tgas**(-1/3)+(824)*Tgas**...        NaN  NaN  \n",
      "219  (((0.425)*exp((-407)*Tgas**(-1/3)+(824)*Tgas**...        NaN  NaN  \n",
      "220  (((0.425)*exp((-407)*Tgas**(-1/3)+(824)*Tgas**...        NaN  NaN  \n",
      "221  (((0.425)*exp((-407)*Tgas**(-1/3)+(824)*Tgas**...        NaN  NaN  \n",
      "222  (((0.425)*exp((-407)*Tgas**(-1/3)+(824)*Tgas**...        NaN  NaN  \n",
      "223  (((0.425)*exp((-407)*Tgas**(-1/3)+(824)*Tgas**...        NaN  NaN  \n",
      "224  (((0.425)*exp((-407)*Tgas**(-1/3)+(824)*Tgas**...        NaN  NaN  \n",
      "225  (((0.425)*exp((-407)*Tgas**(-1/3)+(824)*Tgas**...        NaN  NaN  \n",
      "226  (((0.425)*exp((-407)*Tgas**(-1/3)+(824)*Tgas**...        NaN  NaN  \n",
      "227  (((0.425)*exp((-407)*Tgas**(-1/3)+(824)*Tgas**...        NaN  NaN  \n",
      "228  (((0.425)*exp((-407)*Tgas**(-1/3)+(824)*Tgas**...        NaN  NaN  \n",
      "229  (((0.425)*exp((-407)*Tgas**(-1/3)+(824)*Tgas**...        NaN  NaN  \n",
      "230  (((0.425)*exp((-407)*Tgas**(-1/3)+(824)*Tgas**...        NaN  NaN  \n",
      "\n",
      "[231 rows x 6 columns]\n",
      "        \n",
      "====PROPERTIES====\n",
      "        \n",
      "CLASS : <class 'plasmistry.reactions.reaction_class.CoefReactions'>.\n",
      "        \n",
      "Type : k_coefficients related.\n",
      "        \n",
      "__33__ species. \n",
      "        \n",
      "__231__ reactions.\n",
      "        \n",
      "        \n",
      "====PRE_EXEC_LIST====\n",
      "        \n",
      "[]\n",
      "        \n",
      "====K_STR_COMPILED====\n",
      "        \n",
      "None\n",
      "        \n",
      "====MID_VARIABLES====\n",
      "        \n",
      "Series([], dtype: float64)\n"
     ]
    }
   ],
   "source": [
    "print(coef)"
   ]
  },
  {
   "cell_type": "code",
   "execution_count": 11,
   "metadata": {
    "ExecuteTime": {
     "end_time": "2019-09-06T03:06:18.826529Z",
     "start_time": "2019-09-06T03:06:18.740759Z"
    }
   },
   "outputs": [],
   "source": [
    "coef.compile_k_str()"
   ]
  },
  {
   "cell_type": "markdown",
   "metadata": {},
   "source": [
    " ## set rate constant\n",
    "- .set_rate_const(*, Tgas_K, Te_eV, EN_Td)"
   ]
  },
  {
   "cell_type": "code",
   "execution_count": 12,
   "metadata": {
    "ExecuteTime": {
     "end_time": "2019-09-06T03:06:22.848781Z",
     "start_time": "2019-09-06T03:06:18.828525Z"
    }
   },
   "outputs": [
    {
     "name": "stdout",
     "output_type": "stream",
     "text": [
      "487 µs ± 19.8 µs per loop (mean ± std. dev. of 7 runs, 1000 loops each)\n"
     ]
    }
   ],
   "source": [
    "%timeit coef.set_rate_const(Tgas_K=1000, Te_eV=1.0, EN_Td=3)"
   ]
  },
  {
   "cell_type": "code",
   "execution_count": 13,
   "metadata": {
    "ExecuteTime": {
     "end_time": "2019-09-06T03:06:22.856760Z",
     "start_time": "2019-09-06T03:06:22.849778Z"
    }
   },
   "outputs": [
    {
     "data": {
      "text/plain": [
       "array([1.7e-08, 1.7e-08, 1.8e-08, 1.8e-08, 1.8e-08, 1.8e-08, 1.9e-08, 1.9e-08, 1.9e-08, 1.9e-08, 2.0e-08, 2.0e-08, 2.0e-08,\n",
       "       2.0e-08, 2.1e-08, 2.1e-08, 2.1e-08, 2.2e-08, 2.2e-08, 2.2e-08, 2.3e-08, 1.7e-08, 1.7e-08, 1.8e-08, 1.8e-08, 1.8e-08,\n",
       "       1.8e-08, 1.9e-08, 1.9e-08, 1.9e-08, 1.9e-08, 2.0e-08, 2.0e-08, 2.0e-08, 2.0e-08, 2.1e-08, 2.1e-08, 2.1e-08, 2.2e-08,\n",
       "       2.2e-08, 2.2e-08, 2.3e-08, 1.7e-08, 1.7e-08, 1.8e-08, 1.8e-08, 1.8e-08, 1.8e-08, 1.9e-08, 1.9e-08, 1.9e-08, 1.9e-08,\n",
       "       2.0e-08, 2.0e-08, 2.0e-08, 2.0e-08, 2.1e-08, 2.1e-08, 2.1e-08, 2.2e-08, 2.2e-08, 2.2e-08, 2.3e-08, 1.7e-08, 1.7e-08,\n",
       "       1.8e-08, 1.8e-08, 1.8e-08, 1.8e-08, 1.9e-08, 1.9e-08, 1.9e-08, 1.9e-08, 2.0e-08, 2.0e-08, 2.0e-08, 2.0e-08, 2.1e-08,\n",
       "       2.1e-08, 2.1e-08, 2.2e-08, 2.2e-08, 2.2e-08, 2.3e-08, 1.7e-08, 1.7e-08, 1.8e-08, 1.8e-08, 1.8e-08, 1.8e-08, 1.9e-08,\n",
       "       1.9e-08, 1.9e-08, 1.9e-08, 2.0e-08, 2.0e-08, 2.0e-08, 2.0e-08, 2.1e-08, 2.1e-08, 2.1e-08, 2.2e-08, 2.2e-08, 2.2e-08,\n",
       "       2.3e-08, 1.7e-08, 1.7e-08, 1.8e-08, 1.8e-08, 1.8e-08, 1.8e-08, 1.9e-08, 1.9e-08, 1.9e-08, 1.9e-08, 2.0e-08, 2.0e-08,\n",
       "       2.0e-08, 2.0e-08, 2.1e-08, 2.1e-08, 2.1e-08, 2.2e-08, 2.2e-08, 2.2e-08, 2.3e-08, 1.7e-08, 1.7e-08, 1.8e-08, 1.8e-08,\n",
       "       1.8e-08, 1.8e-08, 1.9e-08, 1.9e-08, 1.9e-08, 1.9e-08, 2.0e-08, 2.0e-08, 2.0e-08, 2.0e-08, 2.1e-08, 2.1e-08, 2.1e-08,\n",
       "       2.2e-08, 2.2e-08, 2.2e-08, 2.3e-08, 1.7e-08, 1.7e-08, 1.8e-08, 1.8e-08, 1.8e-08, 1.8e-08, 1.9e-08, 1.9e-08, 1.9e-08,\n",
       "       1.9e-08, 2.0e-08, 2.0e-08, 2.0e-08, 2.0e-08, 2.1e-08, 2.1e-08, 2.1e-08, 2.2e-08, 2.2e-08, 2.2e-08, 2.3e-08, 1.7e-08,\n",
       "       1.7e-08, 1.8e-08, 1.8e-08, 1.8e-08, 1.8e-08, 1.9e-08, 1.9e-08, 1.9e-08, 1.9e-08, 2.0e-08, 2.0e-08, 2.0e-08, 2.0e-08,\n",
       "       2.1e-08, 2.1e-08, 2.1e-08, 2.2e-08, 2.2e-08, 2.2e-08, 2.3e-08, 1.7e-08, 1.7e-08, 1.8e-08, 1.8e-08, 1.8e-08, 1.8e-08,\n",
       "       1.9e-08, 1.9e-08, 1.9e-08, 1.9e-08, 2.0e-08, 2.0e-08, 2.0e-08, 2.0e-08, 2.1e-08, 2.1e-08, 2.1e-08, 2.2e-08, 2.2e-08,\n",
       "       2.2e-08, 2.3e-08, 1.7e-08, 1.7e-08, 1.8e-08, 1.8e-08, 1.8e-08, 1.8e-08, 1.9e-08, 1.9e-08, 1.9e-08, 1.9e-08, 2.0e-08,\n",
       "       2.0e-08, 2.0e-08, 2.0e-08, 2.1e-08, 2.1e-08, 2.1e-08, 2.2e-08, 2.2e-08, 2.2e-08, 2.3e-08])"
      ]
     },
     "execution_count": 13,
     "metadata": {},
     "output_type": "execute_result"
    }
   ],
   "source": [
    "coef.rate_const"
   ]
  },
  {
   "cell_type": "markdown",
   "metadata": {},
   "source": [
    " ## set rate\n",
    "- .set_rate(*, density)"
   ]
  },
  {
   "cell_type": "code",
   "execution_count": 14,
   "metadata": {
    "ExecuteTime": {
     "end_time": "2019-09-06T03:06:22.964471Z",
     "start_time": "2019-09-06T03:06:22.858755Z"
    }
   },
   "outputs": [],
   "source": [
    "coef.set_rate(density=coef.get_initial_density(density_dict={'CO2':1e25,\n",
    "                                                            'CO2(v1)': 1e25,\n",
    "                                                            'CO2(v2)': 1e25,\n",
    "                                                            'CO': 1e25}))"
   ]
  },
  {
   "cell_type": "code",
   "execution_count": 15,
   "metadata": {
    "ExecuteTime": {
     "end_time": "2019-09-06T03:06:23.067198Z",
     "start_time": "2019-09-06T03:06:22.965468Z"
    }
   },
   "outputs": [
    {
     "data": {
      "text/plain": [
       "array([1.7e+42, 1.7e+42, 0.0e+00, 0.0e+00, 0.0e+00, 0.0e+00, 0.0e+00, 0.0e+00, 0.0e+00, 0.0e+00, 0.0e+00, 0.0e+00, 0.0e+00,\n",
       "       0.0e+00, 0.0e+00, 0.0e+00, 0.0e+00, 0.0e+00, 0.0e+00, 0.0e+00, 0.0e+00, 0.0e+00, 0.0e+00, 0.0e+00, 0.0e+00, 0.0e+00,\n",
       "       0.0e+00, 0.0e+00, 0.0e+00, 0.0e+00, 0.0e+00, 0.0e+00, 0.0e+00, 0.0e+00, 0.0e+00, 0.0e+00, 0.0e+00, 0.0e+00, 0.0e+00,\n",
       "       0.0e+00, 0.0e+00, 0.0e+00, 0.0e+00, 0.0e+00, 0.0e+00, 0.0e+00, 0.0e+00, 0.0e+00, 0.0e+00, 0.0e+00, 0.0e+00, 0.0e+00,\n",
       "       0.0e+00, 0.0e+00, 0.0e+00, 0.0e+00, 0.0e+00, 0.0e+00, 0.0e+00, 0.0e+00, 0.0e+00, 0.0e+00, 0.0e+00, 0.0e+00, 0.0e+00,\n",
       "       0.0e+00, 0.0e+00, 0.0e+00, 0.0e+00, 0.0e+00, 0.0e+00, 0.0e+00, 0.0e+00, 0.0e+00, 0.0e+00, 0.0e+00, 0.0e+00, 0.0e+00,\n",
       "       0.0e+00, 0.0e+00, 0.0e+00, 0.0e+00, 0.0e+00, 0.0e+00, 0.0e+00, 0.0e+00, 0.0e+00, 0.0e+00, 0.0e+00, 0.0e+00, 0.0e+00,\n",
       "       0.0e+00, 0.0e+00, 0.0e+00, 0.0e+00, 0.0e+00, 0.0e+00, 0.0e+00, 0.0e+00, 0.0e+00, 0.0e+00, 0.0e+00, 0.0e+00, 0.0e+00,\n",
       "       0.0e+00, 0.0e+00, 0.0e+00, 0.0e+00, 0.0e+00, 0.0e+00, 0.0e+00, 0.0e+00, 0.0e+00, 0.0e+00, 0.0e+00, 0.0e+00, 0.0e+00,\n",
       "       0.0e+00, 0.0e+00, 0.0e+00, 0.0e+00, 0.0e+00, 0.0e+00, 0.0e+00, 0.0e+00, 0.0e+00, 0.0e+00, 0.0e+00, 0.0e+00, 0.0e+00,\n",
       "       0.0e+00, 0.0e+00, 0.0e+00, 0.0e+00, 0.0e+00, 0.0e+00, 0.0e+00, 0.0e+00, 0.0e+00, 0.0e+00, 0.0e+00, 0.0e+00, 0.0e+00,\n",
       "       0.0e+00, 0.0e+00, 0.0e+00, 0.0e+00, 0.0e+00, 0.0e+00, 0.0e+00, 0.0e+00, 0.0e+00, 0.0e+00, 0.0e+00, 0.0e+00, 0.0e+00,\n",
       "       0.0e+00, 0.0e+00, 0.0e+00, 0.0e+00, 0.0e+00, 0.0e+00, 0.0e+00, 0.0e+00, 0.0e+00, 0.0e+00, 0.0e+00, 0.0e+00, 0.0e+00,\n",
       "       0.0e+00, 0.0e+00, 0.0e+00, 0.0e+00, 0.0e+00, 0.0e+00, 0.0e+00, 0.0e+00, 0.0e+00, 0.0e+00, 0.0e+00, 0.0e+00, 0.0e+00,\n",
       "       0.0e+00, 0.0e+00, 0.0e+00, 0.0e+00, 0.0e+00, 0.0e+00, 0.0e+00, 0.0e+00, 0.0e+00, 0.0e+00, 0.0e+00, 0.0e+00, 0.0e+00,\n",
       "       0.0e+00, 0.0e+00, 0.0e+00, 0.0e+00, 0.0e+00, 0.0e+00, 0.0e+00, 0.0e+00, 0.0e+00, 0.0e+00, 0.0e+00, 0.0e+00, 0.0e+00,\n",
       "       0.0e+00, 0.0e+00, 0.0e+00, 0.0e+00, 0.0e+00, 0.0e+00, 0.0e+00, 0.0e+00, 0.0e+00, 0.0e+00, 0.0e+00, 0.0e+00, 0.0e+00,\n",
       "       0.0e+00, 0.0e+00, 0.0e+00, 0.0e+00, 0.0e+00, 0.0e+00, 0.0e+00, 0.0e+00, 0.0e+00, 0.0e+00])"
      ]
     },
     "execution_count": 15,
     "metadata": {},
     "output_type": "execute_result"
    }
   ],
   "source": [
    "coef.rate"
   ]
  },
  {
   "cell_type": "markdown",
   "metadata": {},
   "source": [
    "## get\n",
    "- .get_dn()\n",
    "- .get_dH_e()\n",
    "- .get_dH_g()"
   ]
  },
  {
   "cell_type": "code",
   "execution_count": 16,
   "metadata": {
    "ExecuteTime": {
     "end_time": "2019-09-06T03:06:23.165933Z",
     "start_time": "2019-09-06T03:06:23.070191Z"
    }
   },
   "outputs": [
    {
     "data": {
      "text/plain": [
       "array([ 0.0e+00,  0.0e+00,  0.0e+00,  0.0e+00,  0.0e+00,  0.0e+00,  0.0e+00,  0.0e+00,  0.0e+00,  0.0e+00,  0.0e+00,  1.7e+42,\n",
       "        2.2e+40,  0.0e+00,  0.0e+00,  0.0e+00,  0.0e+00,  0.0e+00,  0.0e+00,  0.0e+00,  0.0e+00,  0.0e+00,  0.0e+00, -1.7e+42,\n",
       "        0.0e+00,  0.0e+00,  0.0e+00,  0.0e+00,  0.0e+00,  0.0e+00,  0.0e+00,  0.0e+00,  0.0e+00])"
      ]
     },
     "execution_count": 16,
     "metadata": {},
     "output_type": "execute_result"
    }
   ],
   "source": [
    "coef.get_dn()"
   ]
  },
  {
   "cell_type": "code",
   "execution_count": 17,
   "metadata": {
    "ExecuteTime": {
     "end_time": "2019-09-06T03:06:23.259685Z",
     "start_time": "2019-09-06T03:06:23.166931Z"
    }
   },
   "outputs": [
    {
     "data": {
      "text/plain": [
       "0           CO\n",
       "1       CO(v1)\n",
       "2      CO(v10)\n",
       "3       CO(v2)\n",
       "4       CO(v3)\n",
       "5       CO(v4)\n",
       "6       CO(v5)\n",
       "7       CO(v6)\n",
       "8       CO(v7)\n",
       "9       CO(v8)\n",
       "10      CO(v9)\n",
       "11         CO2\n",
       "12     CO2(v1)\n",
       "13    CO2(v10)\n",
       "14    CO2(v11)\n",
       "15    CO2(v12)\n",
       "16    CO2(v13)\n",
       "17    CO2(v14)\n",
       "18    CO2(v15)\n",
       "19    CO2(v16)\n",
       "20    CO2(v17)\n",
       "21    CO2(v18)\n",
       "22    CO2(v19)\n",
       "23     CO2(v2)\n",
       "24    CO2(v20)\n",
       "25    CO2(v21)\n",
       "26     CO2(v3)\n",
       "27     CO2(v4)\n",
       "28     CO2(v5)\n",
       "29     CO2(v6)\n",
       "30     CO2(v7)\n",
       "31     CO2(v8)\n",
       "32     CO2(v9)\n",
       "dtype: object"
      ]
     },
     "execution_count": 17,
     "metadata": {},
     "output_type": "execute_result"
    }
   ],
   "source": [
    "coef.species"
   ]
  },
  {
   "cell_type": "code",
   "execution_count": null,
   "metadata": {},
   "outputs": [],
   "source": []
  }
 ],
 "metadata": {
  "celltoolbar": "Initialization Cell",
  "hide_input": false,
  "kernelspec": {
   "display_name": "Python 3",
   "language": "python",
   "name": "python3"
  },
  "language_info": {
   "codemirror_mode": {
    "name": "ipython",
    "version": 3
   },
   "file_extension": ".py",
   "mimetype": "text/x-python",
   "name": "python",
   "nbconvert_exporter": "python",
   "pygments_lexer": "ipython3",
   "version": "3.7.3"
  },
  "nbTranslate": {
   "displayLangs": [
    "*"
   ],
   "hotkey": "alt-t",
   "langInMainMenu": true,
   "sourceLang": "en",
   "targetLang": "fr",
   "useGoogleTranslate": true
  },
  "toc": {
   "base_numbering": 1,
   "nav_menu": {},
   "number_sections": true,
   "sideBar": false,
   "skip_h1_title": false,
   "title_cell": "Table of Contents",
   "title_sidebar": "Contents",
   "toc_cell": false,
   "toc_position": {
    "height": "231px",
    "left": "955px",
    "top": "170px",
    "width": "342px"
   },
   "toc_section_display": true,
   "toc_window_display": true
  },
  "varInspector": {
   "cols": {
    "lenName": 16,
    "lenType": 16,
    "lenVar": 40
   },
   "kernels_config": {
    "python": {
     "delete_cmd_postfix": "",
     "delete_cmd_prefix": "del ",
     "library": "var_list.py",
     "varRefreshCmd": "print(var_dic_list())"
    },
    "r": {
     "delete_cmd_postfix": ") ",
     "delete_cmd_prefix": "rm(",
     "library": "var_list.r",
     "varRefreshCmd": "cat(var_dic_list()) "
    }
   },
   "types_to_exclude": [
    "module",
    "function",
    "builtin_function_or_method",
    "instance",
    "_Feature"
   ],
   "window_display": false
  }
 },
 "nbformat": 4,
 "nbformat_minor": 2
}
