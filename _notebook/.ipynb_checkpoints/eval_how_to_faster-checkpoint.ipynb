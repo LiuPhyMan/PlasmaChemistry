{
 "cells": [
  {
   "cell_type": "code",
   "execution_count": 1,
   "metadata": {},
   "outputs": [],
   "source": [
    "import time\n",
    "import timeit\n",
    "import math\n",
    "\n",
    "import numpy as np\n",
    "import timeit\n",
    "import numba as nb\n",
    "import importlib"
   ]
  },
  {
   "cell_type": "code",
   "execution_count": 2,
   "metadata": {},
   "outputs": [],
   "source": [
    "_number = int(1e3)\n",
    "one_expr = r\"0.44*exp(-407.0*Tgas**(-1/3)+824.0*Tgas**(-2/3))\"\n",
    "_multi_list = []\n",
    "for i in range(_number):\n",
    "    _random_n = np.random.randn()\n",
    "    _multi_list.append(f\"{_random_n:.2f}*exp(-407.0*Tgas**(-1/3)+824.0*Tgas**(-2/3))\")\n",
    "    # _multi_list.append(f\"{_random_n:.2f} + Tgas\")\n",
    "_str = \",\".join(_multi_list)\n",
    "multi_expr = \"[\" + _str + \"]\"\n",
    "\n",
    "one_expr_compiled = compile(one_expr,'<string>','eval')\n",
    "multi_expr_compiled = compile(multi_expr,'<string>','eval')\n",
    "one_expr_lamb = eval('lambda Tgas: ' + one_expr,{\"__builtins__\":__builtins__,\"exp\":math.exp},{})\n",
    "multi_expr_lamb = eval('lambda Tgas:' + multi_expr,{\"__builtins__\":__builtins__,\"exp\":math.exp})"
   ]
  },
  {
   "cell_type": "markdown",
   "metadata": {},
   "source": [
    "%timeit eval(one_expr,{\"__builtins__\":__builtins__,},dict(exp=math.exp,Tgas=2000))\n",
    "%timeit eval(one_expr_compiled,{\"__builtins__\":__builtins__,\"exp\":math.exp,\"Tgas\":2000})\n",
    "%timeit one_expr_lamb(Tgas=2000)"
   ]
  },
  {
   "cell_type": "code",
   "execution_count": 3,
   "metadata": {},
   "outputs": [
    {
     "name": "stdout",
     "output_type": "stream",
     "text": [
      "13.5 ms ± 106 µs per loop (mean ± std. dev. of 7 runs, 100 loops each)\n",
      "440 µs ± 15.1 µs per loop (mean ± std. dev. of 7 runs, 1000 loops each)\n",
      "420 µs ± 25.1 µs per loop (mean ± std. dev. of 7 runs, 1000 loops each)\n"
     ]
    }
   ],
   "source": [
    "%timeit eval(multi_expr,{\"__builtins__\":__builtins__,},dict(exp=math.exp,Tgas=2000))\n",
    "%timeit eval(multi_expr_compiled,{\"__builtins__\":__builtins__,\"exp\":math.exp,\"Tgas\":2000})\n",
    "%timeit multi_expr_lamb(Tgas=2000)"
   ]
  },
  {
   "cell_type": "code",
   "execution_count": 4,
   "metadata": {},
   "outputs": [
    {
     "name": "stdout",
     "output_type": "stream",
     "text": [
      "C:\\Users\\GuiErGuiEr\\Documents\\Code\\PlasmaChemistry\n"
     ]
    }
   ],
   "source": [
    "%cd \"C:\\Users\\GuiErGuiEr\\Documents\\Code\\PlasmaChemistry\""
   ]
  },
  {
   "cell_type": "code",
   "execution_count": 5,
   "metadata": {},
   "outputs": [],
   "source": [
    "with open(r\"_cache/cache_template.py\") as f:\n",
    "    _str = f.readlines()\n",
    "_str = \"\".join(_str)\n",
    "# _list = [f\"value[{i}] = {_}\" for i,_ in enumerate(_multi_list)]\n",
    "# _list = [f\"va.append({_})\" for i,_ in enumerate(_multi_list)]\n",
    "_list = [f\"{_}\" for i,_ in enumerate(_multi_list)]\n",
    "# _multi_expr_str = \"\\n    \".join(_list)\n",
    "_multi_expr_str = \",\".join(_list)"
   ]
  },
  {
   "cell_type": "code",
   "execution_count": 6,
   "metadata": {},
   "outputs": [],
   "source": [
    "# _str_to_write = _str.replace('\"\"\"__REPLACE__\"\"\"', f\"a = np.zeros({_number})\\n    {_multi_expr_str}\")\n",
    "_str_to_write = _str.replace('\"\"\"__REPLACE__\"\"\"', f\"return np.array([{_multi_expr_str}])\")"
   ]
  },
  {
   "cell_type": "code",
   "execution_count": 7,
   "metadata": {},
   "outputs": [],
   "source": [
    "with open(r\"_cache/cache.py\", \"r+\") as f:\n",
    "    f.seek(0)\n",
    "    f.truncate()\n",
    "    f.write(_str_to_write)"
   ]
  },
  {
   "cell_type": "code",
   "execution_count": 8,
   "metadata": {},
   "outputs": [],
   "source": [
    "start = time.time()\n",
    "%run _cache/cache.py\n",
    "end = time.time()"
   ]
  },
  {
   "cell_type": "code",
   "execution_count": 11,
   "metadata": {},
   "outputs": [
    {
     "name": "stdout",
     "output_type": "stream",
     "text": [
      "29.0\n"
     ]
    }
   ],
   "source": [
    "print(f\"{-start+end:.1f}\")"
   ]
  },
  {
   "cell_type": "code",
   "execution_count": 9,
   "metadata": {},
   "outputs": [],
   "source": [
    "import _cache.my_module_1 as m"
   ]
  },
  {
   "cell_type": "code",
   "execution_count": 10,
   "metadata": {},
   "outputs": [
    {
     "name": "stdout",
     "output_type": "stream",
     "text": [
      "945 ns ± 9.83 ns per loop (mean ± std. dev. of 7 runs, 1000000 loops each)\n"
     ]
    }
   ],
   "source": [
    "%timeit m.test(3000)"
   ]
  }
 ],
 "metadata": {
  "kernelspec": {
   "display_name": "Python 3",
   "language": "python",
   "name": "python3"
  },
  "language_info": {
   "codemirror_mode": {
    "name": "ipython",
    "version": 3
   },
   "file_extension": ".py",
   "mimetype": "text/x-python",
   "name": "python",
   "nbconvert_exporter": "python",
   "pygments_lexer": "ipython3",
   "version": "3.7.4"
  }
 },
 "nbformat": 4,
 "nbformat_minor": 2
}
