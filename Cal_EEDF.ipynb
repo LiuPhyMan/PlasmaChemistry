{
 "cells": [
  {
   "cell_type": "markdown",
   "metadata": {},
   "source": [
    "# INIT"
   ]
  },
  {
   "cell_type": "code",
   "execution_count": 1,
   "metadata": {
    "ExecuteTime": {
     "end_time": "2019-09-08T12:24:44.252037Z",
     "start_time": "2019-09-08T12:24:40.752391Z"
    }
   },
   "outputs": [],
   "source": [
    "import numpy as np\n",
    "import pandas as pd\n",
    "from scipy.integrate import solve_ivp\n",
    "from matplotlib import pyplot as plt\n",
    "from plasmistry.electron import EEDF\n",
    "from plasmistry.electron import get_maxwell_eedf\n",
    "from plasmistry.molecule import get_ideal_gas_density"
   ]
  },
  {
   "cell_type": "code",
   "execution_count": 2,
   "metadata": {
    "ExecuteTime": {
     "end_time": "2019-09-08T12:24:44.257025Z",
     "start_time": "2019-09-08T12:24:44.253036Z"
    }
   },
   "outputs": [],
   "source": [
    "import matplotlib.pyplot as plt\n",
    "plt.rcParams[\"figure.figsize\"] = (12,9)\n",
    "plt.rcParams[\"font.size\"] = 17"
   ]
  },
  {
   "cell_type": "code",
   "execution_count": 3,
   "metadata": {
    "ExecuteTime": {
     "end_time": "2019-09-08T12:24:44.328832Z",
     "start_time": "2019-09-08T12:24:44.259019Z"
    }
   },
   "outputs": [],
   "source": [
    "np.set_printoptions(precision=1, linewidth=130, edgeitems=5)\n",
    "pd.options.display.float_format = '{:,.1e}'.format"
   ]
  },
  {
   "cell_type": "markdown",
   "metadata": {},
   "source": [
    "# Read inelas reactions"
   ]
  },
  {
   "cell_type": "code",
   "execution_count": 4,
   "metadata": {
    "ExecuteTime": {
     "end_time": "2019-09-08T12:24:44.448514Z",
     "start_time": "2019-09-08T12:24:44.329830Z"
    }
   },
   "outputs": [],
   "source": [
    "file_name_list = ['rctn_df_H2_ele_vib_forward.pkl',\n",
    "                  'rctn_df_H2_e_vib_backward.pkl',\n",
    "                  'rctn_df_CO2_e_vib_forward.pkl',\n",
    "                  'rctn_df_CO2_e_vib_backward.pkl',\n",
    "                  'rctn_df_H2_ele_dis_via_b.pkl',\n",
    "                  'rctn_df_CO2_ele_diss.pkl']\n",
    "_df = pd.DataFrame(columns=['formula','type', 'threshold_eV', 'cross_section'])\n",
    "for file_name in file_name_list:\n",
    "    _df = _df.append(pd.read_pickle(file_name))\n",
    "inelas_df = _df"
   ]
  },
  {
   "cell_type": "markdown",
   "metadata": {},
   "source": [
    "# Choose the reactions considered."
   ]
  },
  {
   "cell_type": "code",
   "execution_count": 5,
   "metadata": {
    "ExecuteTime": {
     "end_time": "2019-09-08T12:24:44.666929Z",
     "start_time": "2019-09-08T12:24:44.449512Z"
    }
   },
   "outputs": [
    {
     "data": {
      "text/html": [
       "<div>\n",
       "<style scoped>\n",
       "    .dataframe tbody tr th:only-of-type {\n",
       "        vertical-align: middle;\n",
       "    }\n",
       "\n",
       "    .dataframe tbody tr th {\n",
       "        vertical-align: top;\n",
       "    }\n",
       "\n",
       "    .dataframe thead th {\n",
       "        text-align: right;\n",
       "    }\n",
       "</style>\n",
       "<table border=\"1\" class=\"dataframe\">\n",
       "  <thead>\n",
       "    <tr style=\"text-align: right;\">\n",
       "      <th></th>\n",
       "      <th>formula</th>\n",
       "      <th>type</th>\n",
       "      <th>threshold_eV</th>\n",
       "      <th>cross_section</th>\n",
       "    </tr>\n",
       "  </thead>\n",
       "  <tbody>\n",
       "    <tr>\n",
       "      <th>0</th>\n",
       "      <td>E + H2 =&gt; E + H2(v1)</td>\n",
       "      <td>EXCITATION</td>\n",
       "      <td>0.5155944840828292</td>\n",
       "      <td>[[0.0001, 0.00010016132706854269, 0.0001003229...</td>\n",
       "    </tr>\n",
       "    <tr>\n",
       "      <th>1</th>\n",
       "      <td>E + H2 =&gt; E + H2(v2)</td>\n",
       "      <td>EXCITATION</td>\n",
       "      <td>1.001102962825446</td>\n",
       "      <td>[[0.4856084787426168, 0.48560864006968535, 0.4...</td>\n",
       "    </tr>\n",
       "    <tr>\n",
       "      <th>2</th>\n",
       "      <td>E + H2 =&gt; E + H2(v3)</td>\n",
       "      <td>EXCITATION</td>\n",
       "      <td>1.4565254362278508</td>\n",
       "      <td>[[0.9410309521450216, 0.9410311134720902, 0.94...</td>\n",
       "    </tr>\n",
       "    <tr>\n",
       "      <th>3</th>\n",
       "      <td>E + H2 =&gt; E + H2(v4)</td>\n",
       "      <td>EXCITATION</td>\n",
       "      <td>1.8818619042900435</td>\n",
       "      <td>[[1.3663674202072145, 1.366367581534283, 1.366...</td>\n",
       "    </tr>\n",
       "    <tr>\n",
       "      <th>4</th>\n",
       "      <td>E + H2 =&gt; E + H2(v5)</td>\n",
       "      <td>EXCITATION</td>\n",
       "      <td>2.2771123670120237</td>\n",
       "      <td>[[1.7616178829291946, 1.7616180442562632, 1.76...</td>\n",
       "    </tr>\n",
       "    <tr>\n",
       "      <th>5</th>\n",
       "      <td>E + H2 =&gt; E + H2(v6)</td>\n",
       "      <td>EXCITATION</td>\n",
       "      <td>2.642276824393792</td>\n",
       "      <td>[[2.1267823403109634, 2.1267825016380315, 2.12...</td>\n",
       "    </tr>\n",
       "    <tr>\n",
       "      <th>6</th>\n",
       "      <td>E + H2 =&gt; E + H2(v7)</td>\n",
       "      <td>EXCITATION</td>\n",
       "      <td>2.9773552764353477</td>\n",
       "      <td>[[2.461860792352519, 2.461860953679587, 2.4618...</td>\n",
       "    </tr>\n",
       "    <tr>\n",
       "      <th>7</th>\n",
       "      <td>E + H2 =&gt; E + H2(v8)</td>\n",
       "      <td>EXCITATION</td>\n",
       "      <td>3.2823477231366924</td>\n",
       "      <td>[[2.7668532390538636, 2.7668534003809317, 2.76...</td>\n",
       "    </tr>\n",
       "    <tr>\n",
       "      <th>8</th>\n",
       "      <td>E + H2 =&gt; E + H2(v9)</td>\n",
       "      <td>EXCITATION</td>\n",
       "      <td>3.557254164497824</td>\n",
       "      <td>[[3.0417596804149953, 3.0417598417420635, 3.04...</td>\n",
       "    </tr>\n",
       "    <tr>\n",
       "      <th>9</th>\n",
       "      <td>E + H2 =&gt; E + H2(v10)</td>\n",
       "      <td>EXCITATION</td>\n",
       "      <td>3.802074600518744</td>\n",
       "      <td>[[3.286580116435915, 3.286580277762983, 3.2865...</td>\n",
       "    </tr>\n",
       "    <tr>\n",
       "      <th>10</th>\n",
       "      <td>E + H2 =&gt; E + H2(v11)</td>\n",
       "      <td>EXCITATION</td>\n",
       "      <td>4.016809031199451</td>\n",
       "      <td>[[3.5013145471166225, 3.5013147084436906, 3.50...</td>\n",
       "    </tr>\n",
       "    <tr>\n",
       "      <th>11</th>\n",
       "      <td>E + H2 =&gt; E + H2(v12)</td>\n",
       "      <td>EXCITATION</td>\n",
       "      <td>4.201457456539947</td>\n",
       "      <td>[[3.685962972457118, 3.685963133784186, 3.6859...</td>\n",
       "    </tr>\n",
       "    <tr>\n",
       "      <th>12</th>\n",
       "      <td>E + H2 =&gt; E + H2(v13)</td>\n",
       "      <td>EXCITATION</td>\n",
       "      <td>4.3560198765402305</td>\n",
       "      <td>[[3.8405253924574017, 3.84052555378447, 3.8405...</td>\n",
       "    </tr>\n",
       "    <tr>\n",
       "      <th>13</th>\n",
       "      <td>E + H2 =&gt; E + H2(v14)</td>\n",
       "      <td>EXCITATION</td>\n",
       "      <td>4.480496291200301</td>\n",
       "      <td>[[3.965001807117472, 3.96500196844454, 3.96500...</td>\n",
       "    </tr>\n",
       "    <tr>\n",
       "      <th>14</th>\n",
       "      <td>E + H2(v1) =&gt; E + H2(v2)</td>\n",
       "      <td>EXCITATION</td>\n",
       "      <td>0.4855084787426168</td>\n",
       "      <td>[[4.044021386589297e-05, 8.904232533439929e-05...</td>\n",
       "    </tr>\n",
       "    <tr>\n",
       "      <th>15</th>\n",
       "      <td>E + H2(v1) =&gt; E + H2(v3)</td>\n",
       "      <td>EXCITATION</td>\n",
       "      <td>0.9409309521450216</td>\n",
       "      <td>[[0.4254364680621926, 0.42543662938926113, 0.4...</td>\n",
       "    </tr>\n",
       "    <tr>\n",
       "      <th>16</th>\n",
       "      <td>E + H2(v1) =&gt; E + H2(v4)</td>\n",
       "      <td>EXCITATION</td>\n",
       "      <td>1.3662674202072145</td>\n",
       "      <td>[[0.8507729361243853, 0.8507730974514539, 0.85...</td>\n",
       "    </tr>\n",
       "    <tr>\n",
       "      <th>17</th>\n",
       "      <td>E + H2(v1) =&gt; E + H2(v5)</td>\n",
       "      <td>EXCITATION</td>\n",
       "      <td>1.7615178829291946</td>\n",
       "      <td>[[1.2460233988463656, 1.2460235601734342, 1.24...</td>\n",
       "    </tr>\n",
       "    <tr>\n",
       "      <th>18</th>\n",
       "      <td>E + H2(v1) =&gt; E + H2(v6)</td>\n",
       "      <td>EXCITATION</td>\n",
       "      <td>2.126682340310963</td>\n",
       "      <td>[[1.611187856228134, 1.6111880175552027, 1.611...</td>\n",
       "    </tr>\n",
       "    <tr>\n",
       "      <th>19</th>\n",
       "      <td>E + H2(v1) =&gt; E + H2(v7)</td>\n",
       "      <td>EXCITATION</td>\n",
       "      <td>2.4617607923525187</td>\n",
       "      <td>[[1.9462663082696896, 1.9462664695967582, 1.94...</td>\n",
       "    </tr>\n",
       "    <tr>\n",
       "      <th>20</th>\n",
       "      <td>E + H2(v1) =&gt; E + H2(v8)</td>\n",
       "      <td>EXCITATION</td>\n",
       "      <td>2.7667532390538634</td>\n",
       "      <td>[[2.2512587549710346, 2.2512589162981027, 2.25...</td>\n",
       "    </tr>\n",
       "    <tr>\n",
       "      <th>21</th>\n",
       "      <td>E + H2(v1) =&gt; E + H2(v9)</td>\n",
       "      <td>EXCITATION</td>\n",
       "      <td>3.041659680414995</td>\n",
       "      <td>[[2.5261651963321663, 2.5261653576592344, 2.52...</td>\n",
       "    </tr>\n",
       "    <tr>\n",
       "      <th>22</th>\n",
       "      <td>E + H2(v1) =&gt; E + H2(v10)</td>\n",
       "      <td>EXCITATION</td>\n",
       "      <td>3.2864801164359148</td>\n",
       "      <td>[[2.770985632353086, 2.770985793680154, 2.7709...</td>\n",
       "    </tr>\n",
       "    <tr>\n",
       "      <th>23</th>\n",
       "      <td>E + H2(v1) =&gt; E + H2(v11)</td>\n",
       "      <td>EXCITATION</td>\n",
       "      <td>3.5012145471166223</td>\n",
       "      <td>[[2.985720063033793, 2.985720224360861, 2.9857...</td>\n",
       "    </tr>\n",
       "    <tr>\n",
       "      <th>24</th>\n",
       "      <td>E + H2(v1) =&gt; E + H2(v12)</td>\n",
       "      <td>EXCITATION</td>\n",
       "      <td>3.6858629724571177</td>\n",
       "      <td>[[3.1703684883742884, 3.1703686497013566, 3.17...</td>\n",
       "    </tr>\n",
       "    <tr>\n",
       "      <th>25</th>\n",
       "      <td>E + H2(v1) =&gt; E + H2(v13)</td>\n",
       "      <td>EXCITATION</td>\n",
       "      <td>3.8404253924574014</td>\n",
       "      <td>[[3.324930908374572, 3.3249310697016403, 3.324...</td>\n",
       "    </tr>\n",
       "    <tr>\n",
       "      <th>26</th>\n",
       "      <td>E + H2(v1) =&gt; E + H2(v14)</td>\n",
       "      <td>EXCITATION</td>\n",
       "      <td>3.9649018071174718</td>\n",
       "      <td>[[3.4494073230346425, 3.4494074843617106, 3.44...</td>\n",
       "    </tr>\n",
       "    <tr>\n",
       "      <th>27</th>\n",
       "      <td>E + H2(v2) =&gt; E + H2(v3)</td>\n",
       "      <td>EXCITATION</td>\n",
       "      <td>0.4554224734024048</td>\n",
       "      <td>[[8.089532068401156e-05, 0.0001780995676473815...</td>\n",
       "    </tr>\n",
       "    <tr>\n",
       "      <th>28</th>\n",
       "      <td>E + H2(v2) =&gt; E + H2(v4)</td>\n",
       "      <td>EXCITATION</td>\n",
       "      <td>0.8807589414645975</td>\n",
       "      <td>[[0.3652644573817684, 0.3652646187088369, 0.36...</td>\n",
       "    </tr>\n",
       "    <tr>\n",
       "      <th>29</th>\n",
       "      <td>E + H2(v2) =&gt; E + H2(v5)</td>\n",
       "      <td>EXCITATION</td>\n",
       "      <td>1.2760094041865777</td>\n",
       "      <td>[[0.7605149201037485, 0.7605150814308171, 0.76...</td>\n",
       "    </tr>\n",
       "    <tr>\n",
       "      <th>...</th>\n",
       "      <td>...</td>\n",
       "      <td>...</td>\n",
       "      <td>...</td>\n",
       "      <td>...</td>\n",
       "    </tr>\n",
       "    <tr>\n",
       "      <th>6</th>\n",
       "      <td>E + H2(v6) =&gt; E + H + H</td>\n",
       "      <td>EXCITATION</td>\n",
       "      <td>1.9e+00</td>\n",
       "      <td>[[1.94, 2.94, 3.94, 4.94, 5.94, 6.94, 7.94, 8....</td>\n",
       "    </tr>\n",
       "    <tr>\n",
       "      <th>7</th>\n",
       "      <td>E + H2(v7) =&gt; E + H + H</td>\n",
       "      <td>EXCITATION</td>\n",
       "      <td>1.6e+00</td>\n",
       "      <td>[[1.6, 2.6, 3.6, 4.6, 5.6, 6.6, 7.6, 8.6, 9.6,...</td>\n",
       "    </tr>\n",
       "    <tr>\n",
       "      <th>8</th>\n",
       "      <td>E + H2(v8) =&gt; E + H + H</td>\n",
       "      <td>EXCITATION</td>\n",
       "      <td>1.3e+00</td>\n",
       "      <td>[[1.3, 2.3, 3.3, 4.3, 5.3, 6.3, 7.3, 8.3, 9.3,...</td>\n",
       "    </tr>\n",
       "    <tr>\n",
       "      <th>9</th>\n",
       "      <td>E + H2(v9) =&gt; E + H + H</td>\n",
       "      <td>EXCITATION</td>\n",
       "      <td>1.0e+00</td>\n",
       "      <td>[[1.02, 2.02, 3.02, 4.02, 5.02, 6.02, 7.02, 8....</td>\n",
       "    </tr>\n",
       "    <tr>\n",
       "      <th>10</th>\n",
       "      <td>E + H2(v10) =&gt; E + H + H</td>\n",
       "      <td>EXCITATION</td>\n",
       "      <td>7.8e-01</td>\n",
       "      <td>[[0.78, 1.78, 2.78, 3.78, 4.78, 5.78, 6.78, 7....</td>\n",
       "    </tr>\n",
       "    <tr>\n",
       "      <th>11</th>\n",
       "      <td>E + H2(v11) =&gt; E + H + H</td>\n",
       "      <td>EXCITATION</td>\n",
       "      <td>5.6e-01</td>\n",
       "      <td>[[0.56, 1.56, 2.56, 3.56, 4.56, 5.56, 6.56, 7....</td>\n",
       "    </tr>\n",
       "    <tr>\n",
       "      <th>12</th>\n",
       "      <td>E + H2(v12) =&gt; E + H + H</td>\n",
       "      <td>EXCITATION</td>\n",
       "      <td>3.8e-01</td>\n",
       "      <td>[[0.38, 1.38, 2.38, 3.38, 4.38, 5.38, 6.38, 7....</td>\n",
       "    </tr>\n",
       "    <tr>\n",
       "      <th>13</th>\n",
       "      <td>E + H2(v13) =&gt; E + H + H</td>\n",
       "      <td>EXCITATION</td>\n",
       "      <td>2.2e-01</td>\n",
       "      <td>[[0.22, 1.22, 2.22, 3.22, 4.22, 5.22, 6.22, 7....</td>\n",
       "    </tr>\n",
       "    <tr>\n",
       "      <th>0</th>\n",
       "      <td>E + CO2 =&gt; E + CO + O</td>\n",
       "      <td>EXCITATION</td>\n",
       "      <td>1.2e+01</td>\n",
       "      <td>[[11.9, 12.0, 14.0, 16.0, 18.0, 20.0, 24.0, 28...</td>\n",
       "    </tr>\n",
       "    <tr>\n",
       "      <th>1</th>\n",
       "      <td>E + CO2(v1) =&gt; E + CO + O</td>\n",
       "      <td>EXCITATION</td>\n",
       "      <td>1.2e+01</td>\n",
       "      <td>[[11.609, 11.709, 13.709, 15.709, 17.709, 19.7...</td>\n",
       "    </tr>\n",
       "    <tr>\n",
       "      <th>2</th>\n",
       "      <td>E + CO2(v2) =&gt; E + CO + O</td>\n",
       "      <td>EXCITATION</td>\n",
       "      <td>1.1e+01</td>\n",
       "      <td>[[11.321, 11.421, 13.421, 15.421, 17.421, 19.4...</td>\n",
       "    </tr>\n",
       "    <tr>\n",
       "      <th>3</th>\n",
       "      <td>E + CO2(v3) =&gt; E + CO + O</td>\n",
       "      <td>EXCITATION</td>\n",
       "      <td>1.1e+01</td>\n",
       "      <td>[[11.035, 11.135, 13.135, 15.135, 17.135, 19.1...</td>\n",
       "    </tr>\n",
       "    <tr>\n",
       "      <th>4</th>\n",
       "      <td>E + CO2(v4) =&gt; E + CO + O</td>\n",
       "      <td>EXCITATION</td>\n",
       "      <td>1.1e+01</td>\n",
       "      <td>[[10.754, 10.854, 12.854, 14.854, 16.854, 18.8...</td>\n",
       "    </tr>\n",
       "    <tr>\n",
       "      <th>5</th>\n",
       "      <td>E + CO2(v5) =&gt; E + CO + O</td>\n",
       "      <td>EXCITATION</td>\n",
       "      <td>1.1e+01</td>\n",
       "      <td>[[10.475, 10.575, 12.575, 14.575, 16.575, 18.5...</td>\n",
       "    </tr>\n",
       "    <tr>\n",
       "      <th>6</th>\n",
       "      <td>E + CO2(v6) =&gt; E + CO + O</td>\n",
       "      <td>EXCITATION</td>\n",
       "      <td>1.0e+01</td>\n",
       "      <td>[[10.199, 10.299, 12.299, 14.299, 16.299, 18.2...</td>\n",
       "    </tr>\n",
       "    <tr>\n",
       "      <th>7</th>\n",
       "      <td>E + CO2(v7) =&gt; E + CO + O</td>\n",
       "      <td>EXCITATION</td>\n",
       "      <td>1.0e+01</td>\n",
       "      <td>[[9.9261, 10.026, 12.026, 14.026, 16.026, 18.0...</td>\n",
       "    </tr>\n",
       "    <tr>\n",
       "      <th>8</th>\n",
       "      <td>E + CO2(v8) =&gt; E + CO + O</td>\n",
       "      <td>EXCITATION</td>\n",
       "      <td>9.8e+00</td>\n",
       "      <td>[[9.6565, 9.7565, 11.756, 13.756, 15.756, 17.7...</td>\n",
       "    </tr>\n",
       "    <tr>\n",
       "      <th>9</th>\n",
       "      <td>E + CO2(v9) =&"
      ],
      "text/plain": [
       "                       formula        type        threshold_eV  \\\n",
       "0         E + H2 => E + H2(v1)  EXCITATION  0.5155944840828292   \n",
       "1         E + H2 => E + H2(v2)  EXCITATION   1.001102962825446   \n",
       "2         E + H2 => E + H2(v3)  EXCITATION  1.4565254362278508   \n",
       "3         E + H2 => E + H2(v4)  EXCITATION  1.8818619042900435   \n",
       "4         E + H2 => E + H2(v5)  EXCITATION  2.2771123670120237   \n",
       "5         E + H2 => E + H2(v6)  EXCITATION   2.642276824393792   \n",
       "6         E + H2 => E + H2(v7)  EXCITATION  2.9773552764353477   \n",
       "7         E + H2 => E + H2(v8)  EXCITATION  3.2823477231366924   \n",
       "8         E + H2 => E + H2(v9)  EXCITATION   3.557254164497824   \n",
       "9        E + H2 => E + H2(v10)  EXCITATION   3.802074600518744   \n",
       "10       E + H2 => E + H2(v11)  EXCITATION   4.016809031199451   \n",
       "11       E + H2 => E + H2(v12)  EXCITATION   4.201457456539947   \n",
       "12       E + H2 => E + H2(v13)  EXCITATION  4.3560198765402305   \n",
       "13       E + H2 => E + H2(v14)  EXCITATION   4.480496291200301   \n",
       "14    E + H2(v1) => E + H2(v2)  EXCITATION  0.4855084787426168   \n",
       "15    E + H2(v1) => E + H2(v3)  EXCITATION  0.9409309521450216   \n",
       "16    E + H2(v1) => E + H2(v4)  EXCITATION  1.3662674202072145   \n",
       "17    E + H2(v1) => E + H2(v5)  EXCITATION  1.7615178829291946   \n",
       "18    E + H2(v1) => E + H2(v6)  EXCITATION   2.126682340310963   \n",
       "19    E + H2(v1) => E + H2(v7)  EXCITATION  2.4617607923525187   \n",
       "20    E + H2(v1) => E + H2(v8)  EXCITATION  2.7667532390538634   \n",
       "21    E + H2(v1) => E + H2(v9)  EXCITATION   3.041659680414995   \n",
       "22   E + H2(v1) => E + H2(v10)  EXCITATION  3.2864801164359148   \n",
       "23   E + H2(v1) => E + H2(v11)  EXCITATION  3.5012145471166223   \n",
       "24   E + H2(v1) => E + H2(v12)  EXCITATION  3.6858629724571177   \n",
       "25   E + H2(v1) => E + H2(v13)  EXCITATION  3.8404253924574014   \n",
       "26   E + H2(v1) => E + H2(v14)  EXCITATION  3.9649018071174718   \n",
       "27    E + H2(v2) => E + H2(v3)  EXCITATION  0.4554224734024048   \n",
       "28    E + H2(v2) => E + H2(v4)  EXCITATION  0.8807589414645975   \n",
       "29    E + H2(v2) => E + H2(v5)  EXCITATION  1.2760094041865777   \n",
       "..                         ...         ...                 ...   \n",
       "6      E + H2(v6) => E + H + H  EXCITATION             1.9e+00   \n",
       "7      E + H2(v7) => E + H + H  EXCITATION             1.6e+00   \n",
       "8      E + H2(v8) => E + H + H  EXCITATION             1.3e+00   \n",
       "9      E + H2(v9) => E + H + H  EXCITATION             1.0e+00   \n",
       "10    E + H2(v10) => E + H + H  EXCITATION             7.8e-01   \n",
       "11    E + H2(v11) => E + H + H  EXCITATION             5.6e-01   \n",
       "12    E + H2(v12) => E + H + H  EXCITATION             3.8e-01   \n",
       "13    E + H2(v13) => E + H + H  EXCITATION             2.2e-01   \n",
       "0        E + CO2 => E + CO + O  EXCITATION             1.2e+01   \n",
       "1    E + CO2(v1) => E + CO + O  EXCITATION             1.2e+01   \n",
       "2    E + CO2(v2) => E + CO + O  EXCITATION             1.1e+01   \n",
       "3    E + CO2(v3) => E + CO + O  EXCITATION             1.1e+01   \n",
       "4    E + CO2(v4) => E + CO + O  EXCITATION             1.1e+01   \n",
       "5    E + CO2(v5) => E + CO + O  EXCITATION             1.1e+01   \n",
       "6    E + CO2(v6) => E + CO + O  EXCITATION             1.0e+01   \n",
       "7    E + CO2(v7) => E + CO + O  EXCITATION             1.0e+01   \n",
       "8    E + CO2(v8) => E + CO + O  EXCITATION             9.8e+00   \n",
       "9    E + CO2(v9) => E + CO + O  EXCITATION             9.5e+00   \n",
       "10  E + CO2(v10) => E + CO + O  EXCITATION             9.2e+00   \n",
       "11  E + CO2(v11) => E + CO + O  EXCITATION             9.0e+00   \n",
       "12  E + CO2(v12) => E + CO + O  EXCITATION             8.7e+00   \n",
       "13  E + CO2(v13) => E + CO + O  EXCITATION             8.5e+00   \n",
       "14  E + CO2(v14) => E + CO + O  EXCITATION             8.2e+00   \n",
       "15  E + CO2(v15) => E + CO + O  EXCITATION             8.0e+00   \n",
       "16  E + CO2(v16) => E + CO + O  EXCITATION             7.7e+00   \n",
       "17  E + CO2(v17) => E + CO + O  EXCITATION             7.5e+00   \n",
       "18  E + CO2(v18) => E + CO + O  EXCITATION             7.2e+00   \n",
       "19  E + CO2(v19) => E + CO + O  EXCITATION             7.0e+00   \n",
       "20  E + CO2(v20) => E + CO + O  EXCITATION             6.8e+00   \n",
       "21  E + CO2(v21) => E + CO + O  EXCITATION             6.5e+00   \n",
       "\n",
       "                                        cross_section  \n",
       "0   [[0.0001, 0.00010016132706854269, 0.0001003229...  \n",
       "1   [[0.4856084787426168, 0.48560864006968535, 0.4...  \n",
       "2   [[0.9410309521450216, 0.9410311134720902, 0.94...  \n",
       "3   [[1.3663674202072145, 1.366367581534283, 1.366...  \n",
       "4   [[1.7616178829291946, 1.7616180442562632, 1.76...  \n",
       "5   [[2.1267823403109634, 2.1267825016380315, 2.12...  \n",
       "6   [[2.461860792352519, 2.461860953679587, 2.4618...  \n",
       "7   [[2.7668532390538636, 2.7668534003809317, 2.76...  \n",
       "8   [[3.0417596804149953, 3.0417598417420635, 3.04...  \n",
       "9   [[3.286580116435915, 3.286580277762983, 3.2865...  \n",
       "10  [[3.5013145471166225, 3.5013147084436906, 3.50...  \n",
       "11  [[3.685962972457118, 3.685963133784186, 3.6859...  \n",
       "12  [[3.8405253924574017, 3.84052555378447, 3.8405...  \n",
       "13  [[3.965001807117472, 3.96500196844454, 3.96500...  \n",
       "14  [[4.044021386589297e-05, 8.904232533439929e-05...  \n",
       "15  [[0.4254364680621926, 0.42543662938926113, 0.4...  \n",
       "16  [[0.8507729361243853, 0.8507730974514539, 0.85...  \n",
       "17  [[1.2460233988463656, 1.2460235601734342, 1.24...  \n",
       "18  [[1.611187856228134, 1.6111880175552027, 1.611...  \n",
       "19  [[1.9462663082696896, 1.9462664695967582, 1.94...  \n",
       "20  [[2.2512587549710346, 2.2512589162981027, 2.25...  \n",
       "21  [[2.5261651963321663, 2.5261653576592344, 2.52...  \n",
       "22  [[2.770985632353086, 2.770985793680154, 2.7709...  \n",
       "23  [[2.985720063033793, 2.985720224360861, 2.9857...  \n",
       "24  [[3.1703684883742884, 3.1703686497013566, 3.17...  \n",
       "25  [[3.324930908374572, 3.3249310697016403, 3.324...  \n",
       "26  [[3.4494073230346425, 3.4494074843617106, 3.44...  \n",
       "27  [[8.089532068401156e-05, 0.0001780995676473815...  \n",
       "28  [[0.3652644573817684, 0.3652646187088369, 0.36...  \n",
       "29  [[0.7605149201037485, 0.7605150814308171, 0.76...  \n",
       "..                                                ...  \n",
       "6   [[1.94, 2.94, 3.94, 4.94, 5.94, 6.94, 7.94, 8....  \n",
       "7   [[1.6, 2.6, 3.6, 4.6, 5.6, 6.6, 7.6, 8.6, 9.6,...  \n",
       "8   [[1.3, 2.3, 3.3, 4.3, 5.3, 6.3, 7.3, 8.3, 9.3,...  \n",
       "9   [[1.02, 2.02, 3.02, 4.02, 5.02, 6.02, 7.02, 8....  \n",
       "10  [[0.78, 1.78, 2.78, 3.78, 4.78, 5.78, 6.78, 7....  \n",
       "11  [[0.56, 1.56, 2.56, 3.56, 4.56, 5.56, 6.56, 7....  \n",
       "12  [[0.38, 1.38, 2.38, 3.38, 4.38, 5.38, 6.38, 7....  \n",
       "13  [[0.22, 1.22, 2.22, 3.22, 4.22, 5.22, 6.22, 7....  \n",
       "0   [[11.9, 12.0, 14.0, 16.0, 18.0, 20.0, 24.0, 28...  \n",
       "1   [[11.609, 11.709, 13.709, 15.709, 17.709, 19.7...  \n",
       "2   [[11.321, 11.421, 13.421, 15.421, 17.421, 19.4...  \n",
       "3   [[11.035, 11.135, 13.135, 15.135, 17.135, 19.1...  \n",
       "4   [[10.754, 10.854, 12.854, 14.854, 16.854, 18.8...  \n",
       "5   [[10.475, 10.575, 12.575, 14.575, 16.575, 18.5...  \n",
       "6   [[10.199, 10.299, 12.299, 14.299, 16.299, 18.2...  \n",
       "7   [[9.9261, 10.026, 12.026, 14.026, 16.026, 18.0...  \n",
       "8   [[9.6565, 9.7565, 11.756, 13.756, 15.756, 17.7...  \n",
       "9   [[9.39, 9.49, 11.49, 13.49, 15.49, 17.49, 21.4...  \n",
       "10  [[9.1265, 9.2265, 11.227, 13.227, 15.227, 17.2...  \n",
       "11  [[8.8662, 8.9662, 10.966, 12.966, 14.966, 16.9...  \n",
       "12  [[8.6089, 8.7089, 10.709, 12.709, 14.709, 16.7...  \n",
       "13  [[8.3548, 8.4548, 10.455, 12.455, 14.455, 16.4...  \n",
       "14  [[8.1037, 8.2037, 10.204, 12.204, 14.204, 16.2...  \n",
       "15  [[7.8557, 7.9557, 9.9557, 11.956, 13.956, 15.9...  \n",
       "16  [[7.6109, 7.7109, 9.7109, 11.711, 13.711, 15.7...  \n",
       "17  [[7.3691, 7.4691, 9.4691, 11.469, 13.469, 15.4...  \n",
       "18  [[7.1304, 7.2304, 9.2304, 11.23, 13.23, 15.23,...  \n",
       "19  [[6.8948, 6.9948, 8.9948, 10.995, 12.995, 14.9...  \n",
       "20  [[6.6623, 6.7623, 8.7623, 10.762, 12.762, 14.7...  \n",
       "21  [[6.4328, 6.5328, 8.5328, 10.533, 12.533, 14.5...  \n",
       "\n",
       "[666 rows x 4 columns]"
      ]
     },
     "execution_count": 5,
     "metadata": {},
     "output_type": "execute_result"
    },
    {
     "data": {
      "text/html": [
       "<b>limit_output extension: Maximum message size of 10000 exceeded with 12550 characters</b>"
      ]
     },
     "metadata": {},
     "output_type": "display_data"
    }
   ],
   "source": [
    "# inelas_df = inelas_df.iloc[[0,1,2,3,4,5,6,7,8]].reset_index(drop=True)\n",
    "# inelas_df = inelas_df.iloc[[0,1,2]].reset_index(drop=True)\n",
    "inelas_df"
   ]
  },
  {
   "cell_type": "code",
   "execution_count": 6,
   "metadata": {
    "ExecuteTime": {
     "end_time": "2019-09-08T12:24:44.682886Z",
     "start_time": "2019-09-08T12:24:44.667927Z"
    }
   },
   "outputs": [],
   "source": [
    "inelas_df['threshold_eV'] = inelas_df['threshold_eV'].astype(float)"
   ]
  },
  {
   "cell_type": "code",
   "execution_count": 47,
   "metadata": {
    "ExecuteTime": {
     "end_time": "2019-09-08T12:25:19.753160Z",
     "start_time": "2019-09-08T12:25:19.749171Z"
    }
   },
   "outputs": [
    {
     "data": {
      "text/plain": [
       "(666, 4)"
      ]
     },
     "execution_count": 47,
     "metadata": {},
     "output_type": "execute_result"
    }
   ],
   "source": [
    "inelas_df.shape"
   ]
  },
  {
   "cell_type": "code",
   "execution_count": 7,
   "metadata": {
    "ExecuteTime": {
     "end_time": "2019-09-08T12:24:44.864401Z",
     "start_time": "2019-09-08T12:24:44.683884Z"
    }
   },
   "outputs": [],
   "source": [
    "eedf = EEDF(max_energy_eV=50, grid_number=500)\n",
    "total_species = ['E','H2','CO2'] + [f'H2(v{v})' for v in range(1, 15)] + [f'CO2(v{v})' for v in range(1, 22)]"
   ]
  },
  {
   "cell_type": "code",
   "execution_count": 8,
   "metadata": {
    "ExecuteTime": {
     "end_time": "2019-09-08T12:24:49.415239Z",
     "start_time": "2019-09-08T12:24:44.866395Z"
    }
   },
   "outputs": [],
   "source": [
    "eedf.initialize(rctn_with_crostn_df=inelas_df, total_species=total_species)\n",
    "# eedf.initialize(rctn_with_crostn_df=inelas_df, total_species=['E', 'H2', 'H2(v1)', 'H2(v2)', 'H2(v3)'])"
   ]
  },
  {
   "cell_type": "markdown",
   "metadata": {},
   "source": [
    "## properties"
   ]
  },
  {
   "cell_type": "code",
   "execution_count": 9,
   "metadata": {
    "ExecuteTime": {
     "end_time": "2019-09-08T12:24:49.451144Z",
     "start_time": "2019-09-08T12:24:49.417234Z"
    }
   },
   "outputs": [
    {
     "data": {
      "text/plain": [
       "array([[ 0.0e+00,  0.0e+00,  0.0e+00,  6.9e-15,  0.0e+00, ...,  0.0e+00,  0.0e+00,  0.0e+00,  0.0e+00,  0.0e+00],\n",
       "       [ 0.0e+00,  0.0e+00,  0.0e+00,  6.6e-16,  7.3e-15, ...,  0.0e+00,  0.0e+00,  0.0e+00,  0.0e+00,  0.0e+00],\n",
       "       [ 0.0e+00,  0.0e+00,  0.0e+00,  0.0e+00,  7.0e-16, ...,  0.0e+00,  0.0e+00,  0.0e+00,  0.0e+00,  0.0e+00],\n",
       "       [ 0.0e+00,  0.0e+00,  0.0e+00, -7.5e-15,  0.0e+00, ...,  0.0e+00,  0.0e+00,  0.0e+00,  0.0e+00,  0.0e+00],\n",
       "       [ 0.0e+00,  0.0e+00,  0.0e+00,  0.0e+00, -8.0e-15, ...,  0.0e+00,  0.0e+00,  0.0e+00,  0.0e+00,  0.0e+00],\n",
       "       ...,\n",
       "       [ 0.0e+00,  0.0e+00,  0.0e+00,  0.0e+00,  0.0e+00, ..., -1.7e-14,  0.0e+00,  4.5e-15,  3.6e-15,  1.9e-16],\n",
       "       [ 0.0e+00,  0.0e+00,  0.0e+00,  0.0e+00,  0.0e+00, ...,  0.0e+00, -1.7e-14,  0.0e+00,  4.5e-15,  3.6e-15],\n",
       "       [ 0.0e+00,  0.0e+00,  0.0e+00,  0.0e+00,  0.0e+00, ...,  1.5e-15,  0.0e+00, -1.0e-14,  0.0e+00,  4.5e-15],\n",
       "       [ 0.0e+00,  0.0e+00,  0.0e+00,  0.0e+00,  0.0e+00, ...,  4.6e-15,  1.5e-15,  0.0e+00, -1.0e-14,  0.0e+00],\n",
       "       [ 0.0e+00,  0.0e+00,  0.0e+00,  0.0e+00,  0.0e+00, ...,  0.0e+00,  4.6e-15,  0.0e+00,  0.0e+00, -1.0e-14]])"
      ]
     },
     "execution_count": 9,
     "metadata": {},
     "output_type": "execute_result"
    }
   ],
   "source": [
    "eedf.rate_const_matrix_e_inelas_electron.toarray()"
   ]
  },
  {
   "cell_type": "code",
   "execution_count": 10,
   "metadata": {
    "ExecuteTime": {
     "end_time": "2019-09-08T12:24:49.524947Z",
     "start_time": "2019-09-08T12:24:49.452141Z"
    }
   },
   "outputs": [
    {
     "data": {
      "text/plain": [
       "(18500, 500)"
      ]
     },
     "execution_count": 10,
     "metadata": {},
     "output_type": "execute_result"
    }
   ],
   "source": [
    "eedf.rate_const_matrix_e_inelas_electron.shape"
   ]
  },
  {
   "cell_type": "code",
   "execution_count": 11,
   "metadata": {
    "ExecuteTime": {
     "end_time": "2019-09-08T12:24:49.607724Z",
     "start_time": "2019-09-08T12:24:49.526941Z"
    }
   },
   "outputs": [
    {
     "data": {
      "text/plain": [
       "(666, 500)"
      ]
     },
     "execution_count": 11,
     "metadata": {},
     "output_type": "execute_result"
    }
   ],
   "source": [
    "eedf.rate_const_matrix_e_inelas_molecule.shape"
   ]
  },
  {
   "cell_type": "code",
   "execution_count": 12,
   "metadata": {
    "ExecuteTime": {
     "end_time": "2019-09-08T12:24:49.872018Z",
     "start_time": "2019-09-08T12:24:49.609722Z"
    }
   },
   "outputs": [
    {
     "data": {
      "text/plain": [
       "<matplotlib.image.AxesImage at 0x26a87334278>"
      ]
     },
     "execution_count": 12,
     "metadata": {},
     "output_type": "execute_result"
    },
    {
     "data": {
      "image/png": "[encoded data removed]",
      "text/plain": [
       "<Figure size 486.486x648 with 1 Axes>"
      ]
     },
     "metadata": {
      "needs_background": "light"
     },
     "output_type": "display_data"
    }
   ],
   "source": [
    "plt.matshow(eedf.rate_const_matrix_e_inelas_molecule)"
   ]
  },
  {
   "cell_type": "code",
   "execution_count": 13,
   "metadata": {
    "ExecuteTime": {
     "end_time": "2019-09-08T12:24:49.879000Z",
     "start_time": "2019-09-08T12:24:49.873016Z"
    }
   },
   "outputs": [
    {
     "data": {
      "text/plain": [
       "2"
      ]
     },
     "execution_count": 13,
     "metadata": {},
     "output_type": "execute_result"
    }
   ],
   "source": [
    "eedf.n_bg_molecule_elas"
   ]
  },
  {
   "cell_type": "code",
   "execution_count": 14,
   "metadata": {
    "ExecuteTime": {
     "end_time": "2019-09-08T12:24:49.974743Z",
     "start_time": "2019-09-08T12:24:49.879998Z"
    }
   },
   "outputs": [
    {
     "data": {
      "text/plain": [
       "['H2', 'CO2']"
      ]
     },
     "execution_count": 14,
     "metadata": {},
     "output_type": "execute_result"
    }
   ],
   "source": [
    "eedf.bg_molecule_elas"
   ]
  },
  {
   "cell_type": "code",
   "execution_count": 15,
   "metadata": {
    "ExecuteTime": {
     "end_time": "2019-09-08T12:24:50.054531Z",
     "start_time": "2019-09-08T12:24:49.975741Z"
    }
   },
   "outputs": [
    {
     "data": {
      "text/plain": [
       "37"
      ]
     },
     "execution_count": 15,
     "metadata": {},
     "output_type": "execute_result"
    }
   ],
   "source": [
    "eedf.n_bg_molecule_inelas"
   ]
  },
  {
   "cell_type": "code",
   "execution_count": 16,
   "metadata": {
    "ExecuteTime": {
     "end_time": "2019-09-08T12:24:50.129330Z",
     "start_time": "2019-09-08T12:24:50.055529Z"
    }
   },
   "outputs": [
    {
     "data": {
      "text/plain": [
       "array(['CO2', 'CO2(v1)', 'CO2(v10)', 'CO2(v11)', 'CO2(v12)', 'CO2(v13)', 'CO2(v14)', 'CO2(v15)', 'CO2(v16)', 'CO2(v17)',\n",
       "       'CO2(v18)', 'CO2(v19)', 'CO2(v2)', 'CO2(v20)', 'CO2(v21)', 'CO2(v3)', 'CO2(v4)', 'CO2(v5)', 'CO2(v6)', 'CO2(v7)',\n",
       "       'CO2(v8)', 'CO2(v9)', 'H2', 'H2(v1)', 'H2(v10)', 'H2(v11)', 'H2(v12)', 'H2(v13)', 'H2(v14)', 'H2(v2)', 'H2(v3)', 'H2(v4)',\n",
       "       'H2(v5)', 'H2(v6)', 'H2(v7)', 'H2(v8)', 'H2(v9)'], dtype=object)"
      ]
     },
     "execution_count": 16,
     "metadata": {},
     "output_type": "execute_result"
    }
   ],
   "source": [
    "eedf.bg_molecule_inelas"
   ]
  },
  {
   "cell_type": "code",
   "execution_count": 17,
   "metadata": {
    "ExecuteTime": {
     "end_time": "2019-09-08T12:24:50.219091Z",
     "start_time": "2019-09-08T12:24:50.130328Z"
    }
   },
   "outputs": [
    {
     "data": {
      "text/plain": [
       "666"
      ]
     },
     "execution_count": 17,
     "metadata": {},
     "output_type": "execute_result"
    }
   ],
   "source": [
    "eedf.n_inelas_rctn"
   ]
  },
  {
   "cell_type": "code",
   "execution_count": 18,
   "metadata": {
    "ExecuteTime": {
     "end_time": "2019-09-08T12:24:50.291897Z",
     "start_time": "2019-09-08T12:24:50.222085Z"
    }
   },
   "outputs": [
    {
     "data": {
      "text/plain": [
       "array(['H2', 'H2', 'H2', 'H2', 'H2', 'H2', 'H2', 'H2', 'H2', 'H2', 'H2', 'H2', 'H2', 'H2', 'H2(v1)', 'H2(v1)', 'H2(v1)',\n",
       "       'H2(v1)', 'H2(v1)', 'H2(v1)', 'H2(v1)', 'H2(v1)', 'H2(v1)', 'H2(v1)', 'H2(v1)', 'H2(v1)', 'H2(v1)', 'H2(v2)', 'H2(v2)',\n",
       "       'H2(v2)', 'H2(v2)', 'H2(v2)', 'H2(v2)', 'H2(v2)', 'H2(v2)', 'H2(v2)', 'H2(v2)', 'H2(v2)', 'H2(v2)', 'H2(v3)', 'H2(v3)',\n",
       "       'H2(v3)', 'H2(v3)', 'H2(v3)', 'H2(v3)', 'H2(v3)', 'H2(v3)', 'H2(v3)', 'H2(v3)', 'H2(v3)', 'H2(v4)', 'H2(v4)', 'H2(v4)',\n",
       "       'H2(v4)', 'H2(v4)', 'H2(v4)', 'H2(v4)', 'H2(v4)', 'H2(v4)', 'H2(v4)', 'H2(v5)', 'H2(v5)', 'H2(v5)', 'H2(v5)', 'H2(v5)',\n",
       "       'H2(v5)', 'H2(v5)', 'H2(v5)', 'H2(v5)', 'H2(v6)', 'H2(v6)', 'H2(v6)', 'H2(v6)', 'H2(v6)', 'H2(v6)', 'H2(v6)', 'H2(v6)',\n",
       "       'H2(v7)', 'H2(v7)', 'H2(v7)', 'H2(v7)', 'H2(v7)', 'H2(v7)', 'H2(v7)', 'H2(v8)', 'H2(v8)', 'H2(v8)', 'H2(v8)', 'H2(v8)',\n",
       "       'H2(v8)', 'H2(v9)', 'H2(v9)', 'H2(v9)', 'H2(v9)', 'H2(v9)', 'H2(v10)', 'H2(v10)', 'H2(v10)', 'H2(v10)', 'H2(v11)',\n",
       "       'H2(v11)', 'H2(v11)', 'H2(v12)', 'H2(v12)', 'H2(v13)', 'H2(v1)', 'H2(v2)', 'H2(v2)', 'H2(v3)', 'H2(v3)', 'H2(v3)',\n",
       "       'H2(v4)', 'H2(v4)', 'H2(v4)', 'H2(v4)', 'H2(v5)', 'H2(v5)', 'H2(v5)', 'H2(v5)', 'H2(v5)', 'H2(v6)', 'H2(v6)', 'H2(v6)',\n",
       "       'H2(v6)', 'H2(v6)', 'H2(v6)', 'H2(v7)', 'H2(v7)', 'H2(v7)', 'H2(v7)', 'H2(v7)', 'H2(v7)', 'H2(v7)', 'H2(v8)', 'H2(v8)',\n",
       "       'H2(v8)', 'H2(v8)', 'H2(v8)', 'H2(v8)', 'H2(v8)', 'H2(v8)', 'H2(v9)', 'H2(v9)', 'H2(v9)', 'H2(v9)', 'H2(v9)', 'H2(v9)',\n",
       "       'H2(v9)', 'H2(v9)', 'H2(v9)', 'H2(v10)', 'H2(v10)', 'H2(v10)', 'H2(v10)', 'H2(v10)', 'H2(v10)', 'H2(v10)', 'H2(v10)',\n",
       "       'H2(v10)', 'H2(v10)', 'H2(v11)', 'H2(v11)', 'H2(v11)', 'H2(v11)', 'H2(v11)', 'H2(v11)', 'H2(v11)', 'H2(v11)', 'H2(v11)',\n",
       "       'H2(v11)', 'H2(v11)', 'H2(v12)', 'H2(v12)', 'H2(v12)', 'H2(v12)', 'H2(v12)', 'H2(v12)', 'H2(v12)', 'H2(v12)', 'H2(v12)',\n",
       "       'H2(v12)', 'H2(v12)', 'H2(v12)', 'H2(v13)', 'H2(v13)', 'H2(v13)', 'H2(v13)', 'H2(v13)', 'H2(v13)', 'H2(v13)', 'H2(v13)',\n",
       "       'H2(v13)', 'H2(v13)', 'H2(v13)', 'H2(v13)', 'H2(v13)', 'H2(v14)', 'H2(v14)', 'H2(v14)', 'H2(v14)', 'H2(v14)', 'H2(v14)',\n",
       "       'H2(v14)', 'H2(v14)', 'H2(v14)', 'H2(v14)', 'H2(v14)', 'H2(v14)', 'H2(v14)', 'H2(v14)', 'CO2', 'CO2', 'CO2', 'CO2', 'CO2',\n",
       "       'CO2', 'CO2', 'CO2', 'CO2', 'CO2', 'CO2', 'CO2', 'CO2', 'CO2', 'CO2', 'CO2', 'CO2', 'CO2', 'CO2', 'CO2', 'CO2(v1)',\n",
       "       'CO2(v1)', 'CO2(v1)', 'CO2(v1)', 'CO2(v1)', 'CO2(v1)', 'CO2(v1)', 'CO2(v1)', 'CO2(v1)', 'CO2(v1)', 'CO2(v1)', 'CO2(v1)',\n",
       "       'CO2(v1)', 'CO2(v1)', 'CO2(v1)', 'CO2(v1)', 'CO2(v1)', 'CO2(v1)', 'CO2(v1)', 'CO2(v2)', 'CO2(v2)', 'CO2(v2)', 'CO2(v2)',\n",
       "       'CO2(v2)', 'CO2(v2)', 'CO2(v2)', 'CO2(v2)', 'CO2(v2)', 'CO2(v2)', 'CO2(v2)', 'CO2(v2)', 'CO2(v2)', 'CO2(v2)', 'CO2(v2)',\n",
       "       'CO2(v2)', 'CO2(v2)', 'CO2(v2)', 'CO2(v3)', 'CO2(v3)', 'CO2(v3)', 'CO2(v3)', 'CO2(v3)', 'CO2(v3)', 'CO2(v3)', 'CO2(v3)',\n",
       "       'CO2(v3)', 'CO2(v3)', 'CO2(v3)', 'CO2(v3)', 'CO2(v3)', 'CO2(v3)', 'CO2(v3)', 'CO2(v3)', 'CO2(v3)', 'CO2(v4)', 'CO2(v4)',\n",
       "       'CO2(v4)', 'CO2(v4)', 'CO2(v4)', 'CO2(v4)', 'CO2(v4)', 'CO2(v4)', 'CO2(v4)', 'CO2(v4)', 'CO2(v4)', 'CO2(v4)', 'CO2(v4)',\n",
       "       'CO2(v4)', 'CO2(v4)', 'CO2(v4)', 'CO2(v5)', 'CO2(v5)', 'CO2(v5)', 'CO2(v5)', 'CO2(v5)', 'CO2(v5)', 'CO2(v5)', 'CO2(v5)',\n",
       "       'CO2(v5)', 'CO2(v5)', 'CO2(v5)', 'CO2(v5)', 'CO2(v5)', 'CO2(v5)', 'CO2(v5)', 'CO2(v6)', 'CO2(v6)', 'CO2(v6)', 'CO2(v6)',\n",
       "       'CO2(v6)', 'CO2(v6)', 'CO2(v6)', 'CO2(v6)', 'CO2(v6)', 'CO2(v6)', 'CO2(v6)', 'CO2(v6)', 'CO2(v6)', 'CO2(v6)', 'CO2(v7)',\n",
       "       'CO2(v7)', 'CO2(v7)', 'CO2(v7)', 'CO2(v7)', 'CO2(v7)', 'CO2(v7)', 'CO2(v7)', 'CO2(v7)', 'CO2(v7)', 'CO2(v7)', 'CO2(v7)',\n",
       "       'CO2(v7)', 'CO2(v8)', 'CO2(v8)', 'CO2(v8)', 'CO2(v8)', 'CO2(v8)', 'CO2(v8)', 'CO2(v8)', 'CO2(v8)', 'CO2(v8)', 'CO2(v8)',\n",
       "       'CO2(v8)', 'CO2(v8)', 'CO2(v9)', 'CO2(v9)', 'CO2(v9)', 'CO2(v9)', 'CO2(v9)', 'CO2(v9)', 'CO2(v9)', 'CO2(v9)', 'CO2(v9)',\n",
       "       'CO2(v9)', 'CO2(v9)', 'CO2(v10)', 'CO2(v10)', 'CO2(v10)', 'CO2(v10)', 'CO2(v10)', 'CO2(v10)', 'CO2(v10)', 'CO2(v10)',\n",
       "       'CO2(v10)', 'CO2(v10)', 'CO2(v11)', 'CO2(v11)', 'CO2(v11)', 'CO2(v11)', 'CO2(v11)', 'CO2(v11)', 'CO2(v11)', 'CO2(v11)',\n",
       "       'CO2(v11)', 'CO2(v12)', 'CO2(v12)', 'CO2(v12)', 'CO2(v12)', 'CO2(v12)', 'CO2(v12)', 'CO2(v12)', 'CO2(v12)', 'CO2(v13)',\n",
       "       'CO2(v13)', 'CO2(v13)', 'CO2(v13)', 'CO2(v13)', 'CO2(v13)', 'CO2(v13)', 'CO2(v14)', 'CO2(v14)', 'CO2(v14)', 'CO2(v14)',\n",
       "       'CO2(v14)', 'CO2(v14)', 'CO2(v15)', 'CO2(v15)', 'CO2(v15)', 'CO2(v15)', 'CO2(v15)', 'CO2(v16)', 'CO2(v16)', 'CO2(v16)',\n",
       "       'CO2(v16)', 'CO2(v17)', 'CO2(v17)', 'CO2(v17)', 'CO2(v18)', 'CO2(v18)', 'CO2(v19)', 'CO2(v1)', 'CO2(v2)', 'CO2(v2)',\n",
       "       'CO2(v3)', 'CO2(v3)', 'CO2(v3)', 'CO2(v4)', 'CO2(v4)', 'CO2(v4)', 'CO2(v4)', 'CO2(v5)', 'CO2(v5)', 'CO2(v5)', 'CO2(v5)',\n",
       "       'CO2(v5)', 'CO2(v6)', 'CO2(v6)', 'CO2(v6)', 'CO2(v6)', 'CO2(v6)', 'CO2(v6)', 'CO2(v7)', 'CO2(v7)', 'CO2(v7)', 'CO2(v7)',\n",
       "       'CO2(v7)', 'CO2(v7)', 'CO2(v7)', 'CO2(v8)', 'CO2(v8)', 'CO2(v8)', 'CO2(v8)', 'CO2(v8)', 'CO2(v8)', 'CO2(v8)', 'CO2(v8)',\n",
       "       'CO2(v9)', 'CO2(v9)', 'CO2(v9)', 'CO2(v9)', 'CO2(v9)', 'CO2(v9)', 'CO2(v9)', 'CO2(v9)', 'CO2(v9)', 'CO2(v10)', 'CO2(v10)',\n",
       "       'CO2(v10)', 'CO2(v10)', 'CO2(v10)', 'CO2(v10)', 'CO2(v10)', 'CO2(v10)', 'CO2(v10)', 'CO2(v10)', 'CO2(v11)', 'CO2(v11)',\n",
       "       'CO2(v11)', 'CO2(v11)', 'CO2(v11)', 'CO2(v11)', 'CO2(v11)', 'CO2(v11)', 'CO2(v11)', 'CO2(v11)', 'CO2(v11)', 'CO2(v12)',\n",
       "       'CO2(v12)', 'CO2(v12)', 'CO2(v12)', 'CO2(v12)', 'CO2(v12)', 'CO2(v12)', 'CO2(v12)', 'CO2(v12)', 'CO2(v12)', 'CO2(v12)',\n",
       "       'CO2(v12)', 'CO2(v13)', 'CO2(v13)', 'CO2(v13)', 'CO2(v13)', 'CO2(v13)', 'CO2(v13)', 'CO2(v13)', 'CO2(v13)', 'CO2(v13)',\n",
       "       'CO2(v13)', 'CO2(v13)', 'CO2(v13)', 'CO2(v13)', 'CO2(v14)', 'CO2(v14)', 'CO2(v14)', 'CO2(v14)', 'CO2(v14)', 'CO2(v14)',\n",
       "       'CO2(v14)', 'CO2(v14)', 'CO2(v14)', 'CO2(v14)', 'CO2(v14)', 'CO2(v14)', 'CO2(v14)', 'CO2(v14)', 'CO2(v15)', 'CO2(v15)',\n",
       "       'CO2(v15)', 'CO2(v15)', 'CO2(v15)', 'CO2(v15)', 'CO2(v15)', 'CO2(v15)', 'CO2(v15)', 'CO2(v15)', 'CO2(v15)', 'CO2(v15)',\n",
       "       'CO2(v15)', 'CO2(v15)', 'CO2(v15)', 'CO2(v16)', 'CO2(v16)', 'CO2(v16)', 'CO2(v16)', 'CO2(v16)', 'CO2(v16)', 'CO2(v16)',\n",
       "       'CO2(v16)', 'CO2(v16)', 'CO2(v16)', 'CO2(v16)', 'CO2(v16)', 'CO2(v16)', 'CO2(v16)', 'CO2(v16)', 'CO2(v16)', 'CO2(v17)',\n",
       "       'CO2(v17)', 'CO2(v17)', 'CO2(v17)', 'CO2(v17)', 'CO2(v17)', 'CO2(v17)', 'CO2(v17)', 'CO2(v17)', 'CO2(v17)', 'CO2(v17)',\n",
       "       'CO2(v17)', 'CO2(v17)', 'CO2(v17)', 'CO2(v17)', 'CO2(v17)', 'CO2(v17)', 'CO2(v18)', 'CO2(v18)', 'CO2(v18)', 'CO2(v18)',\n",
       "       'CO2(v18)', 'CO2(v18)', 'CO2(v18)', 'CO2(v18)', 'CO2(v18)', 'CO2(v18)', 'CO2(v18)', 'CO2(v18)', 'CO2(v18)', 'CO2(v18)',\n",
       "       'CO2(v18)', 'CO2(v18)', 'CO2(v18)', 'CO2(v18)', 'CO2(v19)', 'CO2(v19)', 'CO2(v19)', 'CO2(v19)', 'CO2(v19)', 'CO2(v19)',\n",
       "       'CO2(v19)', 'CO2(v19)', 'CO2(v19)', 'CO2(v19)', 'CO2(v19)', 'CO2(v19)', 'CO2(v19)', 'CO2(v19)', 'CO2(v19)', 'CO2(v19)',\n",
       "       'CO2(v19)', 'CO2(v19)', 'CO2(v19)', 'CO2(v20)', 'CO2(v20)', 'CO2(v20)', 'CO2(v20)', 'CO2(v20)', 'CO2(v20)', 'CO2(v20)',\n",
       "       'CO2(v20)', 'CO2(v20)', 'CO2(v20)', 'CO2(v20)', 'CO2(v20)', 'CO2(v20)', 'CO2(v20)', 'CO2(v20)', 'CO2(v20)', 'CO2(v20)',\n",
       "       'CO2(v20)', 'CO2(v20)', 'CO2(v20)', 'H2', 'H2(v1)', 'H2(v2)', 'H2(v3)', 'H2(v4)', 'H2(v5)', 'H2(v6)', 'H2(v7)', 'H2(v8)',\n",
       "       'H2(v9)', 'H2(v10)', 'H2(v11)', 'H2(v12)', 'H2(v13)', 'CO2', 'CO2(v1)', 'CO2(v2)', 'CO2(v3)', 'CO2(v4)', 'CO2(v5)',\n",
       "       'CO2(v6)', 'CO2(v7)', 'CO2(v8)', 'CO2(v9)', 'CO2(v10)', 'CO2(v11)', 'CO2(v12)', 'CO2(v13)', 'CO2(v14)', 'CO2(v15)',\n",
       "       'CO2(v16)', 'CO2(v17)', 'CO2(v18)', 'CO2(v19)', 'CO2(v20)', 'CO2(v21)'], dtype=object)"
      ]
     },
     "execution_count": 18,
     "metadata": {},
     "output_type": "execute_result"
    }
   ],
   "source": [
    "eedf.bg_molecule_inelas_in_order"
   ]
  },
  {
   "cell_type": "code",
   "execution_count": 19,
   "metadata": {
    "ExecuteTime": {
     "end_time": "2019-09-08T12:24:51.546543Z",
     "start_time": "2019-09-08T12:24:50.292893Z"
    }
   },
   "outputs": [
    {
     "data": {
      "text/plain": [
       "<matplotlib.lines.Line2D at 0x26a8738fac8>"
      ]
     },
     "execution_count": 19,
     "metadata": {},
     "output_type": "execute_result"
    },
    {
     "data": {
      "image/png": "[encoded data removed]",
      "text/plain": [
       "<Figure size 864x648 with 1 Axes>"
      ]
     },
     "metadata": {
      "needs_background": "light"
     },
     "output_type": "display_data"
    }
   ],
   "source": [
    "plt.spy(eedf.rate_const_matrix_e_inelas_electron, markersize=2)"
   ]
  },
  {
   "cell_type": "code",
   "execution_count": 20,
   "metadata": {
    "ExecuteTime": {
     "end_time": "2019-09-08T12:24:51.553524Z",
     "start_time": "2019-09-08T12:24:51.548539Z"
    }
   },
   "outputs": [
    {
     "data": {
      "text/plain": [
       "array([[0.0e+00, 0.0e+00, 0.0e+00, 0.0e+00, 0.0e+00, ..., 5.4e-36, 5.4e-36, 5.4e-36, 5.4e-36, 5.3e-36],\n",
       "       [0.0e+00, 0.0e+00, 0.0e+00, 0.0e+00, 0.0e+00, ..., 3.1e-37, 3.1e-37, 3.1e-37, 3.1e-37, 3.1e-37],\n",
       "       [0.0e+00, 0.0e+00, 0.0e+00, 0.0e+00, 0.0e+00, ..., 4.0e-38, 4.0e-38, 4.0e-38, 4.0e-38, 4.0e-38],\n",
       "       [0.0e+00, 0.0e+00, 0.0e+00, 0.0e+00, 0.0e+00, ..., 9.7e-39, 9.7e-39, 9.7e-39, 9.6e-39, 9.6e-39],\n",
       "       [0.0e+00, 0.0e+00, 0.0e+00, 0.0e+00, 0.0e+00, ..., 3.3e-39, 3.3e-39, 3.3e-39, 3.3e-39, 3.3e-39],\n",
       "       ...,\n",
       "       [0.0e+00, 0.0e+00, 0.0e+00, 0.0e+00, 0.0e+00, ..., 1.1e-34, 1.1e-34, 1.1e-34, 1.1e-34, 1.1e-34],\n",
       "       [0.0e+00, 0.0e+00, 0.0e+00, 0.0e+00, 0.0e+00, ..., 1.1e-34, 1.1e-34, 1.1e-34, 1.1e-34, 1.1e-34],\n",
       "       [0.0e+00, 0.0e+00, 0.0e+00, 0.0e+00, 0.0e+00, ..., 1.1e-34, 1.1e-34, 1.1e-34, 1.1e-34, 1.1e-34],\n",
       "       [0.0e+00, 0.0e+00, 0.0e+00, 0.0e+00, 0.0e+00, ..., 1.1e-34, 1.1e-34, 1.1e-34, 1.1e-34, 1.1e-34],\n",
       "       [0.0e+00, 0.0e+00, 0.0e+00, 0.0e+00, 0.0e+00, ..., 1.1e-34, 1.1e-34, 1.1e-34, 1.1e-34, 1.1e-34]])"
      ]
     },
     "execution_count": 20,
     "metadata": {},
     "output_type": "execute_result"
    }
   ],
   "source": [
    "eedf.rate_const_matrix_e_inelas_molecule"
   ]
  },
  {
   "cell_type": "code",
   "execution_count": 21,
   "metadata": {
    "ExecuteTime": {
     "end_time": "2019-09-08T12:24:51.632313Z",
     "start_time": "2019-09-08T12:24:51.554522Z"
    }
   },
   "outputs": [
    {
     "data": {
      "text/plain": [
       "2.0694208821943807e+24"
      ]
     },
     "execution_count": 21,
     "metadata": {},
     "output_type": "execute_result"
    }
   ],
   "source": [
    "N = get_ideal_gas_density(p_Pa=1e5, Tgas_K=3500)\n",
    "N"
   ]
  },
  {
   "cell_type": "markdown",
   "metadata": {},
   "source": [
    "# Set parameters"
   ]
  },
  {
   "cell_type": "code",
   "execution_count": 22,
   "metadata": {
    "ExecuteTime": {
     "end_time": "2019-09-08T12:24:51.732047Z",
     "start_time": "2019-09-08T12:24:51.633311Z"
    }
   },
   "outputs": [],
   "source": [
    "eedf.set_parameters(E=1200/0.01, Tgas=3500, N=N)"
   ]
  },
  {
   "cell_type": "code",
   "execution_count": 23,
   "metadata": {
    "ExecuteTime": {
     "end_time": "2019-09-08T12:24:51.812831Z",
     "start_time": "2019-09-08T12:24:51.735039Z"
    }
   },
   "outputs": [],
   "source": [
    "total_species_density = np.ones(len(total_species))* N\n",
    "# total_species_density = np.array([0,1,0,0,0])*N\n",
    "def dndt_all(t, y):\n",
    "    eedf.set_density_per_J(y)\n",
    "    eedf.set_flux(total_species_density=total_species_density)\n",
    "    return eedf.get_deriv_total(total_species_density=total_species_density) "
   ]
  },
  {
   "cell_type": "code",
   "execution_count": 24,
   "metadata": {
    "ExecuteTime": {
     "end_time": "2019-09-08T12:24:56.001637Z",
     "start_time": "2019-09-08T12:24:51.815824Z"
    }
   },
   "outputs": [],
   "source": [
    "y0 = get_maxwell_eedf(eedf.energy_point, Te_eV=0.7)*1e20\n",
    "time_span = [0, 1e3]\n",
    "sol = solve_ivp(dndt_all, time_span, y0, method=\"BDF\")"
   ]
  },
  {
   "cell_type": "code",
   "execution_count": 25,
   "metadata": {
    "ExecuteTime": {
     "end_time": "2019-09-08T12:24:56.007621Z",
     "start_time": "2019-09-08T12:24:56.002635Z"
    }
   },
   "outputs": [
    {
     "data": {
      "text/plain": [
       "129"
      ]
     },
     "execution_count": 25,
     "metadata": {},
     "output_type": "execute_result"
    }
   ],
   "source": [
    "len(sol.t)"
   ]
  },
  {
   "cell_type": "code",
   "execution_count": 26,
   "metadata": {
    "ExecuteTime": {
     "end_time": "2019-09-08T12:24:56.593056Z",
     "start_time": "2019-09-08T12:24:56.009616Z"
    },
    "cell_style": "split"
   },
   "outputs": [
    {
     "data": {
      "text/plain": [
       "[<matplotlib.lines.Line2D at 0x26a85cb3be0>,\n",
       " <matplotlib.lines.Line2D at 0x26a873ddcf8>,\n",
       " <matplotlib.lines.Line2D at 0x26a873dde48>,\n",
       " <matplotlib.lines.Line2D at 0x26a873ddf98>,\n",
       " <matplotlib.lines.Line2D at 0x26a87400128>,\n",
       " <matplotlib.lines.Line2D at 0x26a87400278>,\n",
       " <matplotlib.lines.Line2D at 0x26a874003c8>,\n",
       " <matplotlib.lines.Line2D at 0x26a87400518>,\n",
       " <matplotlib.lines.Line2D at 0x26a87400668>,\n",
       " <matplotlib.lines.Line2D at 0x26a874007b8>,\n",
       " <matplotlib.lines.Line2D at 0x26a85cb38d0>,\n",
       " <matplotlib.lines.Line2D at 0x26a87400a20>,\n",
       " <matplotlib.lines.Line2D at 0x26a87400b70>]"
      ]
     },
     "execution_count": 26,
     "metadata": {},
     "output_type": "execute_result"
    },
    {
     "data": {
      "image/png": "[encoded data removed]",
      "text/plain": [
       "<Figure size 864x648 with 1 Axes>"
      ]
     },
     "metadata": {
      "needs_background": "light"
     },
     "output_type": "display_data"
    }
   ],
   "source": [
    "plt.semilogy(eedf.energy_point_eV, (sol.y.transpose()/np.sqrt(eedf.energy_point)).transpose()[:,::10])"
   ]
  },
  {
   "cell_type": "code",
   "execution_count": 27,
   "metadata": {
    "ExecuteTime": {
     "end_time": "2019-09-08T12:24:56.868321Z",
     "start_time": "2019-09-08T12:24:56.595051Z"
    },
    "cell_style": "split"
   },
   "outputs": [
    {
     "data": {
      "image/png": "[encoded data removed]",
      "text/plain": [
       "<Figure size 864x648 with 1 Axes>"
      ]
     },
     "metadata": {
      "needs_background": "light"
     },
     "output_type": "display_data"
    }
   ],
   "source": [
    "eedf.set_density_per_J(sol.y[:,0])\n",
    "eedf.plot_normalized_eepf()"
   ]
  },
  {
   "cell_type": "code",
   "execution_count": 28,
   "metadata": {
    "ExecuteTime": {
     "end_time": "2019-09-08T12:24:57.038865Z",
     "start_time": "2019-09-08T12:24:56.869318Z"
    },
    "cell_style": "split",
    "scrolled": true
   },
   "outputs": [
    {
     "data": {
      "image/png": "[encoded data removed]",
      "text/plain": [
       "<Figure size 864x648 with 1 Axes>"
      ]
     },
     "metadata": {
      "needs_background": "light"
     },
     "output_type": "display_data"
    }
   ],
   "source": [
    "eedf.plot_normalized_eedf()"
   ]
  },
  {
   "cell_type": "code",
   "execution_count": 29,
   "metadata": {
    "ExecuteTime": {
     "end_time": "2019-09-08T12:24:57.366988Z",
     "start_time": "2019-09-08T12:24:57.039863Z"
    },
    "cell_style": "split"
   },
   "outputs": [
    {
     "data": {
      "image/png": "[encoded data removed]",
      "text/plain": [
       "<Figure size 864x648 with 1 Axes>"
      ]
     },
     "metadata": {
      "needs_background": "light"
     },
     "output_type": "display_data"
    }
   ],
   "source": [
    "eedf.set_density_per_J(sol.y[:,-1])\n",
    "eedf.plot_normalized_eepf(xlim=(0,30), ylim=(1e-12, 1e2))\n"
   ]
  },
  {
   "cell_type": "code",
   "execution_count": 30,
   "metadata": {
    "ExecuteTime": {
     "end_time": "2019-09-08T12:24:57.375964Z",
     "start_time": "2019-09-08T12:24:57.367985Z"
    }
   },
   "outputs": [],
   "source": [
    "np.savetxt('output.dat', np.vstack((eedf.energy_point_eV, eedf.normalized_eepf_eV)).transpose())"
   ]
  },
  {
   "cell_type": "code",
   "execution_count": 31,
   "metadata": {
    "ExecuteTime": {
     "end_time": "2019-09-08T12:24:57.475697Z",
     "start_time": "2019-09-08T12:24:57.376961Z"
    }
   },
   "outputs": [
    {
     "name": "stdout",
     "output_type": "stream",
     "text": [
      "\n",
      "        \n",
      " ===============\n",
      "        \n",
      "               ENERGY SPACE (eV) : (0.0, 50.0)\n",
      "        \n",
      "     NUMBER OF DISCRETIZED CELLS : 500 cells\n",
      "        \n",
      "            ENERGY INTERVAL (eV) : 0.100 \n",
      "        \n",
      " ===============\n",
      "        \n",
      "            ELECTRON TEMPERATURE : 1.6111 eV\n",
      "        \n",
      "            ELECTRON MEAN ENERGY : 2.4167 eV\n",
      "        \n",
      "                ELECTRON DENSITY : 9.56e+19 m^-3\n",
      "        \n",
      " ===============\n",
      "        \n",
      "              ELECTRIC FIELD (E) : 120000 V/m (1.20 kV/cm) \n",
      "        \n",
      "          GAS TEMPERATURE (Tgas) : 3500 K\n",
      "        \n",
      " BACKGROUND MOLECULE DENSITY (N) : 2.1e+24 m^-3\n",
      "        \n",
      "    REDUCED ELECTRIC FIELD (E/N) : 58.0 Td\n",
      "        \n",
      " ===============\n",
      "        \n",
      "     ELASTIC COLLISION MOLECULES : ['H2', 'CO2']\n",
      "        \n",
      "   INELASTIC COLLISION MOLECULES : ['CO2' 'CO2(v1)' 'CO2(v10)' 'CO2(v11)' 'CO2(v12)' 'CO2(v13)' 'CO2(v14)' 'CO2(v15)' 'CO2(v16)' 'CO2(v17)' 'CO2(v18)' 'CO2(v19)'\n",
      " 'CO2(v2)' 'CO2(v20)' 'CO2(v21)' 'CO2(v3)' 'CO2(v4)' 'CO2(v5)' 'CO2(v6)' 'CO2(v7)' 'CO2(v8)' 'CO2(v9)' 'H2' 'H2(v1)' 'H2(v10)'\n",
      " 'H2(v11)' 'H2(v12)' 'H2(v13)' 'H2(v14)' 'H2(v2)' 'H2(v3)' 'H2(v4)' 'H2(v5)' 'H2(v6)' 'H2(v7)' 'H2(v8)' 'H2(v9)']\n",
      "        \n"
     ]
    }
   ],
   "source": [
    "print(eedf)"
   ]
  },
  {
   "cell_type": "code",
   "execution_count": 32,
   "metadata": {
    "ExecuteTime": {
     "end_time": "2019-09-08T12:24:57.582414Z",
     "start_time": "2019-09-08T12:24:57.476694Z"
    }
   },
   "outputs": [
    {
     "data": {
      "text/plain": [
       "array([1.9e-15, 1.1e-16, 1.3e-17, 3.0e-18, 9.7e-19, 3.9e-19, 1.7e-19, 8.2e-20, 4.0e-20, 2.0e-20, 9.9e-21, 4.9e-21, 2.4e-21,\n",
       "       1.1e-21, 3.2e-15, 1.7e-16, 2.2e-17, 5.0e-18, 1.6e-18, 6.5e-19, 2.9e-19, 1.4e-19, 7.0e-20, 3.5e-20, 1.8e-20, 8.8e-21,\n",
       "       4.3e-21, 4.6e-15, 2.5e-16, 3.2e-17, 7.3e-18, 2.4e-18, 9.7e-19, 4.4e-19, 2.1e-19, 1.1e-19, 5.4e-20, 2.7e-20, 1.4e-20,\n",
       "       6.5e-15, 3.6e-16, 4.6e-17, 1.1e-17, 3.5e-18, 1.4e-18, 6.4e-19, 3.1e-19, 1.6e-19, 8.1e-20, 4.1e-20, 9.3e-15, 5.2e-16,\n",
       "       6.5e-17, 1.5e-17, 5.0e-18, 2.0e-18, 9.4e-19, 4.6e-19, 2.3e-19, 1.2e-19, 1.3e-14, 7.4e-16, 9.3e-17, 2.2e-17, 7.2e-18,\n",
       "       3.0e-18, 1.4e-18, 6.7e-19, 3.4e-19, 1.9e-14, 1.0e-15, 1.3e-16, 3.1e-17, 1.0e-17, 4.2e-18, 2.0e-18, 9.7e-19, 2.6e-14,\n",
       "       1.4e-15, 1.8e-16, 4.3e-17, 1.4e-17, 5.9e-18, 2.8e-18, 3.5e-14, 2.0e-15, 2.5e-16, 5.9e-17, 2.0e-17, 8.2e-18, 4.7e-14,\n",
       "       2.6e-15, 3.4e-16, 7.9e-17, 2.7e-17, 6.2e-14, 3.5e-15, 4.4e-16, 1.0e-16, 8.0e-14, 4.5e-15, 5.7e-16, 1.0e-13, 5.7e-15,\n",
       "       1.3e-13, 2.3e-15, 1.5e-16, 3.8e-15, 2.1e-17, 2.4e-16, 5.4e-15, 5.5e-18, 3.4e-17, 3.4e-16, 7.6e-15, 2.0e-18, 8.8e-18,\n",
       "       4.9e-17, 4.8e-16, 1.1e-14, 9.0e-19, 3.2e-18, 1.2e-17, 6.8e-17, 6.7e-16, 1.5e-14, 4.5e-19, 1.4e-18, 4.5e-18, 1.7e-17,\n",
       "       9.4e-17, 9.4e-16, 2.1e-14, 2.4e-19, 7.1e-19, 2.0e-18, 6.2e-18, 2.4e-17, 1.3e-16, 1.3e-15, 2.9e-14, 1.3e-19, 3.7e-19,\n",
       "       9.9e-19, 2.8e-18, 8.6e-18, 3.3e-17, 1.8e-16, 1.8e-15, 3.9e-14, 7.0e-20, 2.0e-19, 5.2e-19, 1.4e-18, 3.8e-18, 1.2e-17,\n",
       "       4.5e-17, 2.4e-16, 2.4e-15, 5.2e-14, 3.8e-20, 1.1e-19, 2.8e-19, 7.1e-19, 1.9e-18, 5.2e-18, 1.6e-17, 6.1e-17, 3.2e-16,\n",
       "       3.1e-15, 6.7e-14, 2.0e-20, 5.9e-20, 1.5e-19, 3.8e-19, 9.6e-19, 2.5e-18, 7.0e-18, 2.2e-17, 8.0e-17, 4.2e-16, 4.0e-15,\n",
       "       8.6e-14, 1.0e-20, 3.1e-20, 8.1e-20, 2.0e-19, 5.1e-19, 1.3e-18, 3.4e-18, 9.3e-18, 2.8e-17, 1.0e-16, 5.4e-16, 5.1e-15,\n",
       "       1.1e-13, 5.2e-21, 1.6e-20, 4.3e-20, 1.1e-19, 2.8e-19, 6.9e-19, 1.8e-18, 4.5e-18, 1.2e-17, 3.6e-17, 1.3e-16, 6.7e-16,\n",
       "       6.3e-15, 1.3e-13, 4.0e-15, 2.2e-15, 1.3e-15, 7.7e-16, 4.6e-16, 2.8e-16, 1.7e-16, 9.9e-17, 5.9e-17, 3.5e-17, 2.1e-17,\n",
       "       1.2e-17, 7.3e-18, 4.3e-18, 2.5e-18, 1.5e-18, 8.6e-19, 4.9e-19, 2.9e-19, 1.6e-19, 4.0e-15, 2.2e-15, 1.3e-15, 7.7e-16,\n",
       "       4.6e-16, 2.8e-16, 1.7e-16, 9.9e-17, 5.9e-17, 3.5e-17, 2.1e-17, 1.2e-17, 7.4e-18, 4.3e-18, 2.5e-18, 1.5e-18, 8.6e-19,\n",
       "       5.0e-19, 2.9e-19, 4.0e-15, 2.2e-15, 1.3e-15, 7.7e-16, 4.6e-16, 2.8e-16, 1.7e-16, 9.9e-17, 6.0e-17, 3.6e-17, 2.1e-17,\n",
       "       1.3e-17, 7.4e-18, 4.4e-18, 2.6e-18, 1.5e-18, 8.7e-19, 5.1e-19, 4.0e-15, 2.2e-15, 1.3e-15, 7.7e-16, 4.6e-16, 2.8e-16,\n",
       "       1.7e-16, 9.9e-17, 6.0e-17, 3.6e-17, 2.1e-17, 1.3e-17, 7.4e-18, 4.4e-18, 2.6e-18, 1.5e-18, 8.8e-19, 4.0e-15, 2.2e-15,\n",
       "       1.3e-15, 7.7e-16, 4.6e-16, 2.8e-16, 1.7e-16, 1.0e-16, 6.0e-17, 3.6e-17, 2.1e-17, 1.3e-17, 7.5e-18, 4.4e-18, 2.6e-18,\n",
       "       1.5e-18, 4.0e-15, 2.2e-15, 1.3e-15, 7.7e-16, 4.6e-16, 2.8e-16, 1.7e-16, 1.0e-16, 6.0e-17, 3.6e-17, 2.1e-17, 1.3e-17,\n",
       "       7.5e-18, 4.4e-18, 2.6e-18, 4.0e-15, 2.2e-15, 1.3e-15, 7.7e-16, 4.6e-16, 2.8e-16, 1.7e-16, 1.0e-16, 6.0e-17, 3.6e-17,\n",
       "       2.1e-17, 1.3e-17, 7.5e-18, 4.4e-18, 4.0e-15, 2.2e-15, 1.3e-15, 7.7e-16, 4.6e-16, 2.8e-16, 1.7e-16, 1.0e-16, 6.0e-17,\n",
       "       3.6e-17, 2.1e-17, 1.3e-17, 7.6e-18, 4.0e-15, 2.3e-15, 1.3e-15, 7.7e-16, 4.6e-16, 2.8e-16, 1.7e-16, 1.0e-16, 6.0e-17,\n",
       "       3.6e-17, 2.1e-17, 1.3e-17, 4.0e-15, 2.3e-15, 1.3e-15, 7.7e-16, 4.6e-16, 2.8e-16, 1.7e-16, 1.0e-16, 6.0e-17, 3.6e-17,\n",
       "       2.2e-17, 4.0e-15, 2.3e-15, 1.3e-15, 7.7e-16, 4.6e-16, 2.8e-16, 1.7e-16, 1.0e-16, 6.0e-17, 3.6e-17, 4.0e-15, 2.3e-15,\n",
       "       1.3e-15, 7.7e-16, 4.6e-16, 2.8e-16, 1.7e-16, 1.0e-16, 6.0e-17, 4.0e-15, 2.3e-15, 1.3e-15, 7.8e-16, 4.6e-16, 2.8e-16,\n",
       "       1.7e-16, 1.0e-16, 4.0e-15, 2.3e-15, 1.3e-15, 7.7e-16, 4.6e-16, 2.8e-16, 1.7e-16, 4.1e-15, 2.3e-15, 1.3e-15, 7.8e-16,\n",
       "       4.6e-16, 2.8e-16, 4.1e-15, 2.3e-15, 1.3e-15, 7.8e-16, 4.6e-16, 4.1e-15, 2.3e-15, 1.3e-15, 7.8e-16, 4.1e-15, 2.3e-15,\n",
       "       1.3e-15, 4.1e-15, 2.3e-15, 4.1e-15, 8.1e-15, 7.0e-15, 8.1e-15, 5.5e-15, 7.0e-15, 8.1e-15, 4.1e-15, 5.5e-15, 6.9e-15,\n",
       "       8.0e-15, 2.9e-15, 4.0e-15, 5.4e-15, 6.9e-15, 8.0e-15, 2.0e-15, 2.9e-15, 4.0e-15, 5.4e-15, 6.9e-15, 8.0e-15, 1.4e-15,\n",
       "       2.0e-15, 2.9e-15, 4.0e-15, 5.3e-15, 6.8e-15, 7.9e-15, 9.4e-16, 1.4e-15, 2.0e-15, 2.8e-15, 3.9e-15, 5.3e-15, 6.8e-15,\n",
       "       7.9e-15, 6.3e-16, 9.3e-16, 1.4e-15, 2.0e-15, 2.8e-15, 3.9e-15, 5.3e-15, 6.7e-15, 7.9e-15, 4.1e-16, 6.2e-16, 9.2e-16,\n",
       "       1.4e-15, 2.0e-15, 2.8e-15, 3.9e-15, 5.2e-15, 6.7e-15, 7.8e-15, 2.7e-16, 4.1e-16, 6.1e-16, 9.1e-16, 1.3e-15, 1.9e-15,\n",
       "       2.8e-15, 3.8e-15, 5.2e-15, 6.6e-15, 7.8e-15, 1.8e-16, 2.7e-16, 4.1e-16, 6.1e-16, 9.0e-16, 1.3e-15, 1.9e-15, 2.7e-15,\n",
       "       3.8e-15, 5.1e-15, 6.6e-15, 7.8e-15, 1.1e-16, 1.8e-16, 2.7e-16, 4.0e-16, 6.0e-16, 9.0e-16, 1.3e-15, 1.9e-15, 2.7e-15,\n",
       "       3.8e-15, 5.1e-15, 6.6e-15, 7.7e-15, 7.4e-17, 1.1e-16, 1.7e-16, 2.6e-16, 4.0e-16, 6.0e-16, 8.9e-16, 1.3e-15, 1.9e-15,\n",
       "       2.7e-15, 3.7e-15, 5.1e-15, 6.5e-15, 7.7e-15, 4.8e-17, 7.3e-17, 1.1e-16, 1.7e-16, 2.6e-16, 3.9e-16, 5.9e-16, 8.8e-16,\n",
       "       1.3e-15, 1.9e-15, 2.7e-15, 3.7e-15, 5.0e-15, 6.5e-15, 7.7e-15, 3.0e-17, 4.7e-17, 7.3e-17, 1.1e-16, 1.7e-16, 2.6e-16,\n",
       "       3.9e-16, 5.8e-16, 8.7e-16, 1.3e-15, 1.9e-15, 2.6e-15, 3.7e-15, 5.0e-15, 6.4e-15, 7.6e-15, 1.9e-17, 3.0e-17, 4.7e-17,\n",
       "       7.2e-17, 1.1e-16, 1.7e-16, 2.6e-16, 3.9e-16, 5.8e-16, 8.6e-16, 1.3e-15, 1.8e-15, 2.6e-15, 3.7e-15, 4.9e-15, 6.4e-15,\n",
       "       7.6e-15, 1.2e-17, 1.9e-17, 3.0e-17, 4.6e-17, 7.1e-17, 1.1e-16, 1.7e-16, 2.5e-16, 3.8e-16, 5.7e-16, 8.5e-16, 1.3e-15,\n",
       "       1.8e-15, 2.6e-15, 3.6e-15, 4.9e-15, 6.3e-15, 7.6e-15, 7.8e-18, 1.2e-17, 1.9e-17, 2.9e-17, 4.6e-17, 7.0e-17, 1.1e-16,\n",
       "       1.6e-16, 2.5e-16, 3.8e-16, 5.7e-16, 8.4e-16, 1.2e-15, 1.8e-15, 2.6e-15, 3.6e-15, 4.9e-15, 6.3e-15, 7.5e-15, 5.0e-18,\n",
       "       7.7e-18, 1.2e-17, 1.9e-17, 2.9e-17, 4.5e-17, 7.0e-17, 1.1e-16, 1.6e-16, 2.5e-16, 3.7e-16, 5.6e-16, 8.3e-16, 1.2e-15,\n",
       "       1.8e-15, 2.5e-15, 3.6e-15, 4.8e-15, 6.2e-15, 7.5e-15, 1.4e-16, 3.1e-16, 5.0e-16, 7.1e-16, 9.2e-16, 1.1e-15, 1.4e-15,\n",
       "       1.6e-15, 1.8e-15, 2.0e-15, 2.1e-15, 2.3e-15, 2.5e-15, 2.6e-15, 3.2e-18, 4.0e-18, 5.0e-18, 6.2e-18, 7.6e-18, 9.3e-18,\n",
       "       1.1e-17, 1.4e-17, 1.6e-17, 1.9e-17, 2.3e-17, 2.7e-17, 3.1e-17, 3.6e-17, 4.2e-17, 4.8e-17, 5.4e-17, 6.1e-17, 6.8e-17,\n",
       "       7.6e-17, 8.5e-17, 9.4e-17])"
      ]
     },
     "execution_count": 32,
     "metadata": {},
     "output_type": "execute_result"
    }
   ],
   "source": [
    "eedf._get_molecule_rate_const_e_inelas()"
   ]
  },
  {
   "cell_type": "code",
   "execution_count": 33,
   "metadata": {
    "ExecuteTime": {
     "end_time": "2019-09-08T12:25:08.924101Z",
     "start_time": "2019-09-08T12:24:57.584407Z"
    }
   },
   "outputs": [
    {
     "data": {
      "text/plain": [
       "[Text(0, 0, 'E + H2 => E + H2(v1)'),\n",
       " Text(0, 0, 'E + H2 => E + H2(v2)'),\n",
       " Text(0, 0, 'E + H2 => E + H2(v3)'),\n",
       " Text(0, 0, 'E + H2 => E + H2(v4)'),\n",
       " Text(0, 0, 'E + H2 => E + H2(v5)'),\n",
       " Text(0, 0, 'E + H2 => E + H2(v6)'),\n",
       " Text(0, 0, 'E + H2 => E + H2(v7)'),\n",
       " Text(0, 0, 'E + H2 => E + H2(v8)'),\n",
       " Text(0, 0, 'E + H2 => E + H2(v9)'),\n",
       " Text(0, 0, 'E + H2 => E + H2(v10)'),\n",
       " Text(0, 0, 'E + H2 => E + H2(v11)'),\n",
       " Text(0, 0, 'E + H2 => E + H2(v12)'),\n",
       " Text(0, 0, 'E + H2 => E + H2(v13)'),\n",
       " Text(0, 0, 'E + H2 => E + H2(v14)'),\n",
       " Text(0, 0, 'E + H2(v1) => E + H2(v2)'),\n",
       " Text(0, 0, 'E + H2(v1) => E + H2(v3)'),\n",
       " Text(0, 0, 'E + H2(v1) => E + H2(v4)'),\n",
       " Text(0, 0, 'E + H2(v1) => E + H2(v5)'),\n",
       " Text(0, 0, 'E + H2(v1) => E + H2(v6)'),\n",
       " Text(0, 0, 'E + H2(v1) => E + H2(v7)'),\n",
       " Text(0, 0, 'E + H2(v1) => E + H2(v8)'),\n",
       " Text(0, 0, 'E + H2(v1) => E + H2(v9)'),\n",
       " Text(0, 0, 'E + H2(v1) => E + H2(v10)'),\n",
       " Text(0, 0, 'E + H2(v1) => E + H2(v11)'),\n",
       " Text(0, 0, 'E + H2(v1) => E + H2(v12)'),\n",
       " Text(0, 0, 'E + H2(v1) => E + H2(v13)'),\n",
       " Text(0, 0, 'E + H2(v1) => E + H2(v14)'),\n",
       " Text(0, 0, 'E + H2(v2) => E + H2(v3)'),\n",
       " Text(0, 0, 'E + H2(v2) => E + H2(v4)'),\n",
       " Text(0, 0, 'E + H2(v2) => E + H2(v5)'),\n",
       " Text(0, 0, 'E + H2(v2) => E + H2(v6)'),\n",
       " Text(0, 0, 'E + H2(v2) => E + H2(v7)'),\n",
       " Text(0, 0, 'E + H2(v2) => E + H2(v8)'),\n",
       " Text(0, 0, 'E + H2(v2) => E + H2(v9)'),\n",
       " Text(0, 0, 'E + H2(v2) => E + H2(v10)'),\n",
       " Text(0, 0, 'E + H2(v2) => E + H2(v11)'),\n",
       " Text(0, 0, 'E + H2(v2) => E + H2(v12)'),\n",
       " Text(0, 0, 'E + H2(v2) => E + H2(v13)'),\n",
       " Text(0, 0, 'E + H2(v2) => E + H2(v14)'),\n",
       " Text(0, 0, 'E + H2(v3) => E + H2(v4)'),\n",
       " Text(0, 0, 'E + H2(v3) => E + H2(v5)'),\n",
       " Text(0, 0, 'E + H2(v3) => E + H2(v6)'),\n",
       " Text(0, 0, 'E + H2(v3) => E + H2(v7)'),\n",
       " Text(0, 0, 'E + H2(v3) => E + H2(v8)'),\n",
       " Text(0, 0, 'E + H2(v3) => E + H2(v9)'),\n",
       " Text(0, 0, 'E + H2(v3) => E + H2(v10)'),\n",
       " Text(0, 0, 'E + H2(v3) => E + H2(v11)'),\n",
       " Text(0, 0, 'E + H2(v3) => E + H2(v12)'),\n",
       " Text(0, 0, 'E + H2(v3) => E + H2(v13)'),\n",
       " Text(0, 0, 'E + H2(v3) => E + H2(v14)'),\n",
       " Text(0, 0, 'E + H2(v4) => E + H2(v5)'),\n",
       " Text(0, 0, 'E + H2(v4) => E + H2(v6)'),\n",
       " Text(0, 0, 'E + H2(v4) => E + H2(v7)'),\n",
       " Text(0, 0, 'E + H2(v4) => E + H2(v8)'),\n",
       " Text(0, 0, 'E + H2(v4) => E + H2(v9)'),\n",
       " Text(0, 0, 'E + H2(v4) => E + H2(v10)'),\n",
       " Text(0, 0, 'E + H2(v4) => E + H2(v11)'),\n",
       " Text(0, 0, 'E + H2(v4) => E + H2(v12)'),\n",
       " Text(0, 0, 'E + H2(v4) => E + H2(v13)'),\n",
       " Text(0, 0, 'E + H2(v4) => E + H2(v14)'),\n",
       " Text(0, 0, 'E + H2(v5) => E + H2(v6)'),\n",
       " Text(0, 0, 'E + H2(v5) => E + H2(v7)'),\n",
       " Text(0, 0, 'E + H2(v5) => E + H2(v8)'),\n",
       " Text(0, 0, 'E + H2(v5) => E + H2(v9)'),\n",
       " Text(0, 0, 'E + H2(v5) => E + H2(v10)'),\n",
       " Text(0, 0, 'E + H2(v5) => E + H2(v11)'),\n",
       " Text(0, 0, 'E + H2(v5) => E + H2(v12)'),\n",
       " Text(0, 0, 'E + H2(v5) => E + H2(v13)'),\n",
       " Text(0, 0, 'E + H2(v5) => E + H2(v14)'),\n",
       " Text(0, 0, 'E + H2(v6) => E + H2(v7)'),\n",
       " Text(0, 0, 'E + H2(v6) => E + H2(v8)'),\n",
       " Text(0, 0, 'E + H2(v6) => E + H2(v9)'),\n",
       " Text(0, 0, 'E + H2(v6) => E + H2(v10)'),\n",
       " Text(0, 0, 'E + H2(v6) => E + H2(v11)'),\n",
       " Text(0, 0, 'E + H2(v6) => E + H2(v12)'),\n",
       " Text(0, 0, 'E + H2(v6) => E + H2(v13)'),\n",
       " Text(0, 0, 'E + H2(v6) => E + H2(v14)'),\n",
       " Text(0, 0, 'E + H2(v7) => E + H2(v8)'),\n",
       " Text(0, 0, 'E + H2(v7) => E + H2(v9)'),\n",
       " Text(0, 0, 'E + H2(v7) => E + H2(v10)'),\n",
       " Text(0, 0, 'E + H2(v7) => E + H2(v11)'),\n",
       " Text(0, 0, 'E + H2(v7) => E + H2(v12)'),\n",
       " Text(0, 0, 'E + H2(v7) => E + H2(v13)'),\n",
       " Text(0, 0, 'E + H2(v7) => E + H2(v14)'),\n",
       " Text(0, 0, 'E + H2(v8) => E + H2(v9)'),\n",
       " Text(0, 0, 'E + H2(v8) => E + H2(v10)'),\n",
       " Text(0, 0, 'E + H2(v8) => E + H2(v11)'),\n",
       " Text(0, 0, 'E + H2(v8) => E + H2(v12)'),\n",
       " Text(0, 0, 'E + H2(v8) => E + H2(v13)'),\n",
       " Text(0, 0, 'E + H2(v8) => E + H2(v14)'),\n",
       " Text(0, 0, 'E + H2(v9) => E + H2(v10)'),\n",
       " Text(0, 0, 'E + H2(v9) => E + H2(v11)'),\n",
       " Text(0, 0, 'E + H2(v9) => E + H2(v12)'),\n",
       " Text(0, 0, 'E + H2(v9) => E + H2(v13)'),\n",
       " Text(0, 0, 'E + H2(v9) => E + H2(v14)'),\n",
       " Text(0, 0, 'E + H2(v10) => E + H2(v11)'),\n",
       " Text(0, 0, 'E + H2(v10) => E + H2(v12)'),\n",
       " Text(0, 0, 'E + H2(v10) => E + H2(v13)'),\n",
       " Text(0, 0, 'E + H2(v10) => E + H2(v14)'),\n",
       " Text(0, 0, 'E + H2(v11) => E + H2(v12)'),\n",
       " Text(0, 0, 'E + H2(v11) => E + H2(v13)'),\n",
       " Text(0, 0, 'E + H2(v11) => E + H2(v14)'),\n",
       " Text(0, 0, 'E + H2(v12) => E + H2(v13)'),\n",
       " Text(0, 0, 'E + H2(v12) => E + H2(v14)'),\n",
       " Text(0, 0, 'E + H2(v13) => E + H2(v14)'),\n",
       " Text(0, 0, 'E + H2(v1) => E + H2'),\n",
       " Text(0, 0, 'E + H2(v2) => E + H2'),\n",
       " Text(0, 0, 'E + H2(v2) => E + H2(v1)'),\n",
       " Text(0, 0, 'E + H2(v3) => E + H2'),\n",
       " Text(0, 0, 'E + H2(v3) => E + H2(v1)'),\n",
       " Text(0, 0, 'E + H2(v3) => E + H2(v2)'),\n",
       " Text(0, 0, 'E + H2(v4) => E + H2'),\n",
       " Text(0, 0, 'E + H2(v4) => E + H2(v1)'),\n",
       " Text(0, 0, 'E + H2(v4) => E + H2(v2)'),\n",
       " Text(0, 0, 'E + H2(v4) => E + H2(v3)'),\n",
       " Text(0, 0, 'E + H2(v5) => E + H2'),\n",
       " Text(0, 0, 'E + H2(v5) => E + H2(v1)'),\n",
       " Text(0, 0, 'E + H2(v5) => E + H2(v2)'),\n",
       " Text(0, 0, 'E + H2(v5) => E + H2(v3)'),\n",
       " Text(0, 0, 'E + H2(v5) => E + H2(v4)'),\n",
       " Text(0, 0, 'E + H2(v6) => E + H2'),\n",
       " Text(0, 0, 'E + H2(v6) => E + H2(v1)'),\n",
       " Text(0, 0, 'E + H2(v6) => E + H2(v2)'),\n",
       " Text(0, 0, 'E + H2(v6) => E + H2(v3)'),\n",
       " Text(0, 0, 'E + H2(v6) => E + H2(v4)'),\n",
       " Text(0, 0, 'E + H2(v6) => E + H2(v5)'),\n",
       " Text(0, 0, 'E + H2(v7) => E + H2'),\n",
       " Text(0, 0, 'E + H2(v7) => E + H2(v1)'),\n",
       " Text(0, 0, 'E + H2(v7) => E + H2(v2)'),\n",
       " Text(0, 0, 'E + H2(v7) => E + H2(v3)'),\n",
       " Text(0, 0, 'E + H2(v7) => E + H2(v4)'),\n",
       " Text(0, 0, 'E + H2(v7) => E + H2(v5)'),\n",
       " Text(0, 0, 'E + H2(v7) => E + H2(v6)'),\n",
       " Text(0, 0, 'E + H2(v8) => E + H2'),\n",
       " Text(0, 0, 'E + H2(v8) => E + H2(v1)'),\n",
       " Text(0, 0, 'E + H2(v8) => E + H2(v2)'),\n",
       " Text(0, 0, 'E + H2(v8) => E + H2(v3)'),\n",
       " Text(0, 0, 'E + H2(v8) => E + H2(v4)'),\n",
       " Text(0, 0, 'E + H2(v8) => E + H2(v5)'),\n",
       " Text(0, 0, 'E + H2(v8) => E + H2(v6)'),\n",
       " Text(0, 0, 'E + H2(v8) => E + H2(v7)'),\n",
       " Text(0, 0, 'E + H2(v9) => E + H2'),\n",
       " Text(0, 0, 'E + H2(v9) => E + H2(v1)'),\n",
       " Text(0, 0, 'E + H2(v9) => E + H2(v2)'),\n",
       " Text(0, 0, 'E + H2(v9) => E + H2(v3)'),\n",
       " Text(0, 0, 'E + H2(v9) => E + H2(v4)'),\n",
       " Text(0, 0, 'E + H2(v9) => E + H2(v5)'),\n",
       " Text(0, 0, 'E + H2(v9) => E + H2(v6)'),\n",
       " Text(0, 0, 'E + H2(v9) => E + H2(v7)'),\n",
       " Text(0, 0, 'E + H2(v9) => E + H2(v8)'),\n",
       " Text(0, 0, 'E + H2(v10) => E + H2'),\n",
       " Text(0, 0, 'E + H2(v10) => E + H2(v1)'),\n",
       " Text(0, 0, 'E + H2(v10) => E + H2(v2)'),\n",
       " Text(0, 0, 'E + H2(v10) => E + H2(v3)'),\n",
       " Text(0, 0, 'E + H2(v10) => E + H2(v4)'),\n",
       " Text(0, 0, 'E + H2(v10) => E + H2(v5)'),\n",
       " Text(0, 0, 'E + H2(v10) => E + H2(v6)'),\n",
       " Text(0, 0, 'E + H2(v10) => E + H2(v7)'),\n",
       " Text(0, 0, 'E + H2(v10) => E + H2(v8)'),\n",
       " Text(0, 0, 'E + H2(v10) => E + H2(v9)'),\n",
       " Text(0, 0, 'E + H2(v11) => E + H2'),\n",
       " Text(0, 0, 'E + H2(v11) => E + H2(v1)'),\n",
       " Text(0, 0, 'E + H2(v11) => E + H2(v2)'),\n",
       " Text(0, 0, 'E + H2(v11) => E + H2(v3)'),\n",
       " Text(0, 0, 'E + H2(v11) => E + H2(v4)'),\n",
       " Text(0, 0, 'E + H2(v11) => E + H2(v5)'),\n",
       " Text(0, 0, 'E + H2(v11) => E + H2(v6)'),\n",
       " Text(0, 0, 'E + H2(v11) => E + H2(v7)'),\n",
       " Text(0, 0, 'E + H2(v11) => E + H2(v8)'),\n",
       " Text(0, 0, 'E + H2(v11) => E + H2(v9)'),\n",
       " Text(0, 0, 'E + H2(v11) => E + H2(v10)'),\n",
       " Text(0, 0, 'E + H2(v12) => E + H2'),\n",
       " Text(0, 0, 'E + H2(v12) => E + H2(v1)'),\n",
       " Text(0, 0, 'E + H2(v12) => E + H2(v2)'),\n",
       " Text(0, 0, 'E + H2(v12) => E + H2(v3)'),\n",
       " Text(0, 0, 'E + H2(v12) => E + H2(v4)'),\n",
       " Text(0, 0, 'E + H2(v12) => E + H2(v5)'),\n",
       " Text(0, 0, 'E + H2(v12) => E + H2(v6)'),\n",
       " Text(0, 0, 'E + H2(v12) => E + H2(v7)'),\n",
       " Text(0, 0, 'E + H2(v12) => E + H2(v8)'),\n",
       " Text(0, 0, 'E + H2(v12) => E + H2(v9)'),\n",
       " Text(0, 0, 'E + H2(v12) => E + H2(v10)'),\n",
       " Text(0, 0, 'E + H2(v12) => E + H2(v11)'),\n",
       " Text(0, 0, 'E + H2(v13) => E + H2'),\n",
       " Text(0, 0, 'E + H2(v13) => E + H2(v1)'),\n",
       " Text(0, 0, 'E + H2(v13) => E + H2(v2)'),\n",
       " Text(0, 0, 'E + H2(v13) => E + H2(v3)'),\n",
       " Text(0, 0, 'E + H2(v13) => E + H2(v4)'),\n",
       " Text(0, 0, 'E + H2(v13) => E + H2(v5)'),\n",
       " Text(0, 0, 'E + H2(v13) => E + H2(v6)'),\n",
       " Text(0, 0, 'E + H2(v13) => E + H2(v7)'),\n",
       " Text(0, 0, 'E + H2(v13) => E + H2(v8)'),\n",
       " Text(0, 0, 'E + H2(v13) => E + H2(v9)'),\n",
       " Text(0, 0, 'E + H2(v13) => E + H2(v10)'),\n",
       " Text(0, 0, 'E + H2(v13) => E + H2(v11)'),\n",
       " Text(0, 0, 'E + H2(v13) => E + H2(v12)'),\n",
       " Text(0, 0, 'E + H2(v14) => E + H2'),\n",
       " Text(0, 0, 'E + H2(v14) => E + H2(v1)'),\n",
       " Text(0, 0, 'E + H2(v14) => E + H2(v2)'),\n",
       " Text(0, 0, 'E + H2(v14) => E + H2(v3)'),\n",
       " Text(0, 0, 'E + H2(v14) => E + H2(v4)'),\n",
       " Text(0, 0, 'E + H2(v14) => E + H2(v5)'),\n",
       " Text(0, 0, 'E + H2(v14) => E + H2(v6)'),\n",
       " Text(0, 0, 'E + H2(v14) => E + H2(v7)'),\n",
       " Text(0, 0, 'E + H2(v14) => E + H2(v8)'),\n",
       " Text(0, 0, 'E + H2(v14) => E + H2(v9)'),\n",
       " Text(0, 0, 'E + H2(v14) => E + H2(v10)'),\n",
       " Text(0, 0, 'E + H2(v14) => E + H2(v11)'),\n",
       " Text(0, 0, 'E + H2(v14) => E + H2(v12)'),\n",
       " Text(0, 0, 'E + H2(v14) => E + H2(v13)'),\n",
       " Text(0, 0, 'E + CO2 => E + CO2(v1)'),\n",
       " Text(0, 0, 'E + CO2 => E + CO2(v2)'),\n",
       " Text(0, 0, 'E + CO2 => E + CO2(v3)'),\n",
       " Text(0, 0, 'E + CO2 => E + CO2(v4)'),\n",
       " Text(0, 0, 'E + CO2 => E + CO2(v5)'),\n",
       " Text(0, 0, 'E + CO2 => E + CO2(v6)'),\n",
       " Text(0, 0, 'E + CO2 => E + CO2(v7)'),\n",
       " Text(0, 0, 'E + CO2 => E + CO2(v8)'),\n",
       " Text(0, 0, 'E + CO2 => E + CO2(v9)'),\n",
       " Text(0, 0, 'E + CO2 => E + CO2(v10)'),\n",
       " Text(0, 0, 'E + CO2 => E + CO2(v11)'),\n",
       " Text(0, 0, 'E + CO2 => E + CO2(v12)'),\n",
       " Text(0, 0, 'E + CO2 => E + CO2(v13)'),\n",
       " Text(0, 0, 'E + CO2 => E + CO2(v14)'),\n",
       " Text(0, 0, 'E + CO2 => E + CO2(v15)'),\n",
       " Text(0, 0, 'E + CO2 => E + CO2(v16)'),\n",
       " Text(0, 0, 'E + CO2 => E + CO2(v17)'),\n",
       " Text(0, 0, 'E + CO2 => E + CO2(v18)'),\n",
       " Text(0, 0, 'E + CO2 => E + CO2(v19)'),\n",
       " Text(0, 0, 'E + CO2 => E + CO2(v20)'),\n",
       " Text(0, 0, 'E + CO2(v1) => E + CO2(v2)'),\n",
       " Text(0, 0, 'E + CO2(v1) => E + CO2(v3)'),\n",
       " Text(0, 0, 'E + CO2(v1) => E + CO2(v4)'),\n",
       " Text(0, 0, 'E + CO2(v1) => E + CO2(v5)'),\n",
       " Text(0, 0, 'E + CO2(v1) => E + CO2(v6)'),\n",
       " Text(0, 0, 'E + CO2(v1) => E + CO2(v7)'),\n",
       " Text(0, 0, 'E + CO2(v1) => E + CO2(v8)'),\n",
       " Text(0, 0, 'E + CO2(v1) => E + CO2(v9)'),\n",
       " Text(0, 0, 'E + CO2(v1) => E + CO2(v10)'),\n",
       " Text(0, 0, 'E + CO2(v1) => E + CO2(v11)'),\n",
       " Text(0, 0, 'E + CO2(v1) => E + CO2(v12)'),\n",
       " Text(0, 0, 'E + CO2(v1) => E + CO2(v13)'),\n",
       " Text(0, 0, 'E + CO2(v1) => E + CO2(v14)'),\n",
       " Text(0"
      ]
     },
     "execution_count": 33,
     "metadata": {},
     "output_type": "execute_result"
    },
    {
     "data": {
      "text/html": [
       "<b>limit_output extension: Maximum message size of 10000 exceeded with 28469 characters</b>"
      ]
     },
     "metadata": {},
     "output_type": "display_data"
    }
   ],
   "source": [
    "fig = plt.figure()\n",
    "ax = fig.add_subplot(111)\n",
    "ax.barh(range(eedf.n_inelas_rctn),\n",
    "        width=eedf._get_molecule_rate_const_e_inelas(),\n",
    "        height=0.6, log=True)\n",
    "ax.set_yticks(range(eedf.n_inelas_rctn))\n",
    "ax.set_yticklabels(eedf.inelas_reaction_dataframe['formula'])"
   ]
  },
  {
   "cell_type": "code",
   "execution_count": 34,
   "metadata": {
    "ExecuteTime": {
     "end_time": "2019-09-08T12:25:09.106613Z",
     "start_time": "2019-09-08T12:25:08.926096Z"
    }
   },
   "outputs": [
    {
     "data": {
      "image/png": "[encoded data removed]",
      "text/plain": [
       "<Figure size 864x648 with 1 Axes>"
      ]
     },
     "metadata": {
      "needs_background": "light"
     },
     "output_type": "display_data"
    }
   ],
   "source": [
    "eedf.plot_normalized_eedf()"
   ]
  },
  {
   "cell_type": "code",
   "execution_count": 35,
   "metadata": {
    "ExecuteTime": {
     "end_time": "2019-09-08T12:25:09.356944Z",
     "start_time": "2019-09-08T12:25:09.108608Z"
    }
   },
   "outputs": [
    {
     "data": {
      "text/plain": [
       "Text(0.5, 1.0, 'Te vs. t')"
      ]
     },
     "execution_count": 35,
     "metadata": {},
     "output_type": "execute_result"
    },
    {
     "data": {
      "image/png": "[encoded data removed]",
      "text/plain": [
       "<Figure size 864x648 with 1 Axes>"
      ]
     },
     "metadata": {
      "needs_background": "light"
     },
     "output_type": "display_data"
    }
   ],
   "source": [
    "Te_seq = []\n",
    "ne_seq = []\n",
    "for _array in sol.y.transpose():\n",
    "    eedf.set_density_per_J(_array)\n",
    "    Te_seq.append(eedf.electron_temperature_in_eV)\n",
    "    ne_seq.append(eedf.electron_density)\n",
    "plt.semilogx(sol.t, Te_seq, marker='.')\n",
    "plt.title(\"Te vs. t\")"
   ]
  },
  {
   "cell_type": "code",
   "execution_count": 36,
   "metadata": {
    "ExecuteTime": {
     "end_time": "2019-09-08T12:25:09.601291Z",
     "start_time": "2019-09-08T12:25:09.358940Z"
    }
   },
   "outputs": [
    {
     "data": {
      "text/plain": [
       "Text(0.5, 1.0, 'ne vs. t')"
      ]
     },
     "execution_count": 36,
     "metadata": {},
     "output_type": "execute_result"
    },
    {
     "data": {
      "image/png": "[encoded data removed]",
      "text/plain": [
       "<Figure size 864x648 with 1 Axes>"
      ]
     },
     "metadata": {
      "needs_background": "light"
     },
     "output_type": "display_data"
    }
   ],
   "source": [
    "plt.semilogx(sol.t, ne_seq, marker='.')\n",
    "plt.title(\"ne vs. t\")"
   ]
  },
  {
   "cell_type": "code",
   "execution_count": 37,
   "metadata": {
    "ExecuteTime": {
     "end_time": "2019-09-08T12:25:09.608274Z",
     "start_time": "2019-09-08T12:25:09.602289Z"
    }
   },
   "outputs": [
    {
     "data": {
      "text/plain": [
       "array([[2.5e+38, 2.5e+38, 2.5e+38, 2.5e+38, 2.6e+38, ..., 1.1e+39, 1.1e+39, 1.1e+39, 1.1e+39, 1.1e+39],\n",
       "       [3.8e+38, 3.8e+38, 3.8e+38, 3.8e+38, 3.8e+38, ..., 8.9e+38, 8.9e+38, 8.9e+38, 8.9e+38, 8.8e+38],\n",
       "       [4.2e+38, 4.2e+38, 4.2e+38, 4.2e+38, 4.2e+38, ..., 3.9e+38, 3.9e+38, 3.9e+38, 3.9e+38, 3.9e+38],\n",
       "       [4.3e+38, 4.3e+38, 4.3e+38, 4.3e+38, 4.3e+38, ..., 2.1e+38, 2.1e+38, 2.1e+38, 2.1e+38, 2.1e+38],\n",
       "       [4.2e+38, 4.2e+38, 4.2e+38, 4.2e+38, 4.2e+38, ..., 1.7e+38, 1.7e+38, 1.7e+38, 1.7e+38, 1.7e+38],\n",
       "       ...,\n",
       "       [1.5e+09, 1.5e+09, 1.5e+09, 1.6e+09, 1.6e+09, ..., 5.7e+22, 5.7e+22, 5.7e+22, 5.6e+22, 5.6e+22],\n",
       "       [1.3e+09, 1.3e+09, 1.3e+09, 1.4e+09, 1.4e+09, ..., 5.5e+22, 5.5e+22, 5.5e+22, 5.5e+22, 5.5e+22],\n",
       "       [1.2e+09, 1.2e+09, 1.2e+09, 1.2e+09, 1.2e+09, ..., 5.3e+22, 5.3e+22, 5.3e+22, 5.3e+22, 5.3e+22],\n",
       "       [1.0e+09, 1.0e+09, 1.0e+09, 1.0e+09, 1.0e+09, ..., 5.2e+22, 5.2e+22, 5.2e+22, 5.2e+22, 5.2e+22],\n",
       "       [8.7e+08, 8.7e+08, 8.8e+08, 9.2e+08, 9.6e+08, ..., 5.1e+22, 5.1e+22, 5.1e+22, 5.1e+22, 5.1e+22]])"
      ]
     },
     "execution_count": 37,
     "metadata": {},
     "output_type": "execute_result"
    }
   ],
   "source": [
    "sol.y"
   ]
  },
  {
   "cell_type": "code",
   "execution_count": 38,
   "metadata": {
    "ExecuteTime": {
     "end_time": "2019-09-08T12:25:09.690054Z",
     "start_time": "2019-09-08T12:25:09.609271Z"
    }
   },
   "outputs": [],
   "source": [
    "eedf.set_density_per_J(sol.y[:,-1])\n",
    "eedf.set_flux(total_species_density=total_species_density)"
   ]
  },
  {
   "cell_type": "code",
   "execution_count": 39,
   "metadata": {
    "ExecuteTime": {
     "end_time": "2019-09-08T12:25:10.038123Z",
     "start_time": "2019-09-08T12:25:09.692049Z"
    }
   },
   "outputs": [
    {
     "data": {
      "text/plain": [
       "<matplotlib.legend.Legend at 0x26a9224b550>"
      ]
     },
     "execution_count": 39,
     "metadata": {},
     "output_type": "execute_result"
    },
    {
     "data": {
      "image/png": "[encoded data removed]",
      "text/plain": [
       "<Figure size 864x648 with 1 Axes>"
      ]
     },
     "metadata": {
      "needs_background": "light"
     },
     "output_type": "display_data"
    }
   ],
   "source": [
    "fig = plt.figure()\n",
    "ax = fig.add_subplot(111)\n",
    "ax.plot(eedf.energy_point_eV, eedf._get_deriv_ef(), \n",
    "        linewidth=0.4, marker='.', label='ef')\n",
    "ax.plot(eedf.energy_point_eV, eedf._get_deriv_el(), \n",
    "        linewidth=0.4, marker='.', label='el')\n",
    "ax.plot(eedf.energy_point_eV, eedf._get_deriv_ee(), \n",
    "        linewidth=0.4, marker='.', label='ee')\n",
    "ax.plot(eedf.energy_point_eV, eedf._get_electron_rate_e_inelas(density=total_species_density), \n",
    "        linewidth=0.4, marker='.', label='e_inelas')\n",
    "ax.plot(eedf.energy_point_eV, eedf.get_deriv_total(total_species_density=total_species_density), \n",
    "        linewidth=1.5, marker='.', label='sum')\n",
    "# ax.plot(eedf.energy_nodes,eedf.J_flux_el, marker='.', label='el')\n",
    "# ax.plot(eedf.energy_nodes,eedf.J_flux_ee, marker='.', label='ee')\n",
    "# ax.plot(eedf.energy_nodes,eedf.J_flux_ef+eedf.J_flux_el+eedf.J_flux_ee, marker='.', label='ef+el+ee')\n",
    "# ax.set_yscale('symlog')\n",
    "# ax.set_xscale('log')\n",
    "ax.set_xlim((0,20))\n",
    "ax.legend()"
   ]
  },
  {
   "cell_type": "code",
   "execution_count": 40,
   "metadata": {
    "ExecuteTime": {
     "end_time": "2019-09-08T12:25:10.301420Z",
     "start_time": "2019-09-08T12:25:10.039122Z"
    }
   },
   "outputs": [
    {
     "data": {
      "text/plain": [
       "<matplotlib.legend.Legend at 0x26a92428358>"
      ]
     },
     "execution_count": 40,
     "metadata": {},
     "output_type": "execute_result"
    },
    {
     "data": {
      "image/png": "[encoded data removed]",
      "text/plain": [
       "<Figure size 864x648 with 1 Axes>"
      ]
     },
     "metadata": {
      "needs_background": "light"
     },
     "output_type": "display_data"
    }
   ],
   "source": [
    "fig = plt.figure()\n",
    "ax = fig.add_subplot(111)\n",
    "ax.plot(eedf.energy_point_eV, eedf._get_deriv_ef()*eedf.energy_point, \n",
    "        linewidth=0.4, marker='.', label='ef')\n",
    "ax.plot(eedf.energy_point_eV, eedf._get_deriv_el()*eedf.energy_point, \n",
    "        linewidth=0.4, marker='.', label='el')\n",
    "ax.plot(eedf.energy_point_eV, eedf._get_deriv_ee()*eedf.energy_point, \n",
    "        linewidth=0.4, marker='.', label='ee')\n",
    "ax.plot(eedf.energy_point_eV, eedf._get_electron_rate_e_inelas(density=total_species_density)*eedf.energy_point, \n",
    "        linewidth=0.4, marker='.', label='e_inelas')\n",
    "ax.plot(eedf.energy_point_eV, eedf.get_deriv_total(total_species_density=total_species_density)*eedf.energy_point, \n",
    "        linewidth=1.5, marker='.', label='sum')\n",
    "# ax.plot(eedf.energy_nodes,eedf.J_flux_el, marker='.', label='el')\n",
    "# ax.plot(eedf.energy_nodes,eedf.J_flux_ee, marker='.', label='ee')\n",
    "# ax.plot(eedf.energy_nodes,eedf.J_flux_ef+eedf.J_flux_el+eedf.J_flux_ee, marker='.', label='ef+el+ee')\n",
    "# ax.set_yscale('symlog')\n",
    "# ax.set_xscale('log')\n",
    "ax.set_xlim((0,20))\n",
    "ax.legend()"
   ]
  },
  {
   "cell_type": "code",
   "execution_count": 41,
   "metadata": {
    "ExecuteTime": {
     "end_time": "2019-09-08T12:25:10.309399Z",
     "start_time": "2019-09-08T12:25:10.302417Z"
    }
   },
   "outputs": [],
   "source": [
    "energy_gain_ef = (eedf._get_deriv_ef()*eedf.energy_point).sum()\n",
    "energy_lose_el = (eedf._get_deriv_el()*eedf.energy_point).sum()\n",
    "energy_gain_ee = (eedf._get_deriv_ee()*eedf.energy_point).sum()\n",
    "energy_gain_e_inelas = (eedf._get_electron_rate_e_inelas(density=total_species_density)*eedf.energy_point).sum()\n",
    "energy_gain_net = (eedf.get_deriv_total(total_species_density=total_species_density)*eedf.energy_point).sum()"
   ]
  },
  {
   "cell_type": "code",
   "execution_count": 53,
   "metadata": {
    "ExecuteTime": {
     "end_time": "2019-09-08T13:36:17.111745Z",
     "start_time": "2019-09-08T13:36:16.948183Z"
    }
   },
   "outputs": [
    {
     "data": {
      "text/plain": [
       "Text(0.5, 1.0, 'Energy Gain')"
      ]
     },
     "execution_count": 53,
     "metadata": {},
     "output_type": "execute_result"
    },
    {
     "data": {
      "image/png": "[encoded data removed]",
      "text/plain": [
       "<Figure size 864x648 with 1 Axes>"
      ]
     },
     "metadata": {
      "needs_background": "light"
     },
     "output_type": "display_data"
    }
   ],
   "source": [
    "fig = plt.figure()\n",
    "ax = fig.add_subplot(111)\n",
    "ax.barh(range(5),\n",
    "        width=[energy_gain_ef, energy_lose_el, energy_gain_ee, energy_gain_e_inelas, energy_gain_net],\n",
    "       height=0.6)\n",
    "ax.set_yticks(range(5))\n",
    "ax.set_yticklabels(['electric field', 'elastic collision', 'e-e', 'inelastic collision', 'net'])\n",
    "ax.set_title(\"Energy Gain\")"
   ]
  },
  {
   "cell_type": "code",
   "execution_count": 43,
   "metadata": {
    "ExecuteTime": {
     "end_time": "2019-09-08T12:25:10.605607Z",
     "start_time": "2019-09-08T12:25:10.585661Z"
    }
   },
   "outputs": [
    {
     "data": {
      "text/html": [
       "<div>\n",
       "<style scoped>\n",
       "    .dataframe tbody tr th:only-of-type {\n",
       "        vertical-align: middle;\n",
       "    }\n",
       "\n",
       "    .dataframe tbody tr th {\n",
       "        vertical-align: top;\n",
       "    }\n",
       "\n",
       "    .dataframe thead th {\n",
       "        text-align: right;\n",
       "    }\n",
       "</style>\n",
       "<table border=\"1\" class=\"dataframe\">\n",
       "  <thead>\n",
       "    <tr style=\"text-align: right;\">\n",
       "      <th></th>\n",
       "      <th>formula</th>\n",
       "      <th>type</th>\n",
       "      <th>threshold_eV</th>\n",
       "      <th>rate const</th>\n",
       "      <th>energy lose</th>\n",
       "    </tr>\n",
       "  </thead>\n",
       "  <tbody>\n",
       "    <tr>\n",
       "      <th>209</th>\n",
       "      <td>E + H2(v14) =&gt; E + H2(v13)</td>\n",
       "      <td>DEEXCITATION</td>\n",
       "      <td>-1.2e-01</td>\n",
       "      <td>1.3e-13</td>\n",
       "      <td>-1.7e-14</td>\n",
       "    </tr>\n",
       "    <tr>\n",
       "      <th>104</th>\n",
       "      <td>E + H2(v13) =&gt; E + H2(v14)</td>\n",
       "      <td>EXCITATION</td>\n",
       "      <td>1.2e-01</td>\n",
       "      <td>1.3e-13</td>\n",
       "      <td>1.6e-14</td>\n",
       "    </tr>\n",
       "    <tr>\n",
       "      <th>195</th>\n",
       "      <td>E + H2(v13) =&gt; E + H2(v12)</td>\n",
       "      <td>DEEXCITATION</td>\n",
       "      <td>-1.5e-01</td>\n",
       "      <td>1.1e-13</td>\n",
       "      <td>-1.7e-14</td>\n",
       "    </tr>\n",
       "    <tr>\n",
       "      <th>102</th>\n",
       "      <td>E + H2(v12) =&gt; E + H2(v13)</td>\n",
       "      <td>EXCITATION</td>\n",
       "      <td>1.5e-01</td>\n",
       "      <td>1.0e-13</td>\n",
       "      <td>1.6e-14</td>\n",
       "    </tr>\n",
       "    <tr>\n",
       "      <th>182</th>\n",
       "      <td>E + H2(v12) =&gt; E + H2(v11)</td>\n",
       "      <td>DEEXCITATION</td>\n",
       "      <td>-1.8e-01</td>\n",
       "      <td>8.6e-14</td>\n",
       "      <td>-1.6e-14</td>\n",
       "    </tr>\n",
       "  </tbody>\n",
       "</table>\n",
       "</div>"
      ],
      "text/plain": [
       "                        formula          type  threshold_eV  rate const  \\\n",
       "209  E + H2(v14) => E + H2(v13)  DEEXCITATION      -1.2e-01     1.3e-13   \n",
       "104  E + H2(v13) => E + H2(v14)    EXCITATION       1.2e-01     1.3e-13   \n",
       "195  E + H2(v13) => E + H2(v12)  DEEXCITATION      -1.5e-01     1.1e-13   \n",
       "102  E + H2(v12) => E + H2(v13)    EXCITATION       1.5e-01     1.0e-13   \n",
       "182  E + H2(v12) => E + H2(v11)  DEEXCITATION      -1.8e-01     8.6e-14   \n",
       "\n",
       "     energy lose  \n",
       "209     -1.7e-14  \n",
       "104      1.6e-14  \n",
       "195     -1.7e-14  \n",
       "102      1.6e-14  \n",
       "182     -1.6e-14  "
      ]
     },
     "execution_count": 43,
     "metadata": {},
     "output_type": "execute_result"
    }
   ],
   "source": [
    "result_df = eedf.inelas_rctn_info\n",
    "result_df.sort_values(by=['rate const'], ascending=False).head()"
   ]
  },
  {
   "cell_type": "code",
   "execution_count": 44,
   "metadata": {
    "ExecuteTime": {
     "end_time": "2019-09-08T12:25:10.706338Z",
     "start_time": "2019-09-08T12:25:10.607602Z"
    }
   },
   "outputs": [
    {
     "data": {
      "text/html": [
       "<div>\n",
       "<style scoped>\n",
       "    .dataframe tbody tr th:only-of-type {\n",
       "        vertical-align: middle;\n",
       "    }\n",
       "\n",
       "    .dataframe tbody tr th {\n",
       "        vertical-align: top;\n",
       "    }\n",
       "\n",
       "    .dataframe thead th {\n",
       "        text-align: right;\n",
       "    }\n",
       "</style>\n",
       "<table border=\"1\" class=\"dataframe\">\n",
       "  <thead>\n",
       "    <tr style=\"text-align: right;\">\n",
       "      <th></th>\n",
       "      <th>formula</th>\n",
       "      <th>type</th>\n",
       "      <th>threshold_eV</th>\n",
       "      <th>rate const</th>\n",
       "      <th>energy lose</th>\n",
       "    </tr>\n",
       "  </thead>\n",
       "  <tbody>\n",
       "    <tr>\n",
       "      <th>104</th>\n",
       "      <td>E + H2(v13) =&gt; E + H2(v14)</td>\n",
       "      <td>EXCITATION</td>\n",
       "      <td>1.2e-01</td>\n",
       "      <td>1.3e-13</td>\n",
       "      <td>1.6e-14</td>\n",
       "    </tr>\n",
       "    <tr>\n",
       "      <th>102</th>\n",
       "      <td>E + H2(v12) =&gt; E + H2(v13)</td>\n",
       "      <td>EXCITATION</td>\n",
       "      <td>1.5e-01</td>\n",
       "      <td>1.0e-13</td>\n",
       "      <td>1.6e-14</td>\n",
       "    </tr>\n",
       "    <tr>\n",
       "      <th>99</th>\n",
       "      <td>E + H2(v11) =&gt; E + H2(v12)</td>\n",
       "      <td>EXCITATION</td>\n",
       "      <td>1.8e-01</td>\n",
       "      <td>8.0e-14</td>\n",
       "      <td>1.5e-14</td>\n",
       "    </tr>\n",
       "    <tr>\n",
       "      <th>95</th>\n",
       "      <td>E + H2(v10) =&gt; E + H2(v11)</td>\n",
       "      <td>EXCITATION</td>\n",
       "      <td>2.1e-01</td>\n",
       "      <td>6.2e-14</td>\n",
       "      <td>1.3e-14</td>\n",
       "    </tr>\n",
       "    <tr>\n",
       "      <th>90</th>\n",
       "      <td>E + H2(v9) =&gt; E + H2(v10)</td>\n",
       "      <td>EXCITATION</td>\n",
       "      <td>2.4e-01</td>\n",
       "      <td>4.7e-14</td>\n",
       "      <td>1.2e-14</td>\n",
       "    </tr>\n",
       "    <tr>\n",
       "      <th>84</th>\n",
       "      <td>E + H2(v8) =&gt; E + H2(v9)</td>\n",
       "      <td>EXCITATION</td>\n",
       "      <td>2.7e-01</td>\n",
       "      <td>3.5e-14</td>\n",
       "      <td>9.7e-15</td>\n",
       "    </tr>\n",
       "    <tr>\n",
       "      <th>77</th>\n",
       "      <td>E + H2(v7) =&gt; E + H2(v8)</td>\n",
       "      <td>EXCITATION</td>\n",
       "      <td>3.0e-01</td>\n",
       "      <td>2.6e-14</td>\n",
       "      <td>7.9e-15</td>\n",
       "    </tr>\n",
       "    <tr>\n",
       "      <th>69</th>\n",
       "      <td>E + H2(v6) =&gt; E + H2(v7)</td>\n",
       "      <td>EXCITATION</td>\n",
       "      <td>3.4e-01</td>\n",
       "      <td>1.9e-14</td>\n",
       "      <td>6.3e-15</td>\n",
       "    </tr>\n",
       "    <tr>\n",
       "      <th>60</th>\n",
       "      <td>E + H2(v5) =&gt; E + H2(v6)</td>\n",
       "      <td>EXCITATION</td>\n",
       "      <td>3.7e-01</td>\n",
       "      <td>1.3e-14</td>\n",
       "      <td>4.8e-15</td>\n",
       "    </tr>\n",
       "    <tr>\n",
       "      <th>50</th>\n",
       "      <td>E + H2(v4) =&gt; E + H2(v5)</td>\n",
       "      <td>EXCITATION</td>\n",
       "      <td>4.0e-01</td>\n",
       "      <td>9.3e-15</td>\n",
       "      <td>3.7e-15</td>\n",
       "    </tr>\n",
       "    <tr>\n",
       "      <th>39</th>\n",
       "      <td>E + H2(v3) =&gt; E + H2(v4)</td>\n",
       "      <td>EXCITATION</td>\n",
       "      <td>4.3e-01</td>\n",
       "      <td>6.5e-15</td>\n",
       "      <td>2.8e-15</td>\n",
       "    </tr>\n",
       "    <tr>\n",
       "      <th>103</th>\n",
       "      <td>E + H2(v12) =&gt; E + H2(v14)</td>\n",
       "      <td>EXCITATION</td>\n",
       "      <td>2.8e-01</td>\n",
       "      <td>5.7e-15</td>\n",
       "      <td>1.6e-15</td>\n",
       "    </tr>\n",
       "    <tr>\n",
       "      <th>27</th>\n",
       "      <td>E + H2(v2) =&gt; E + H2(v3)</td>\n",
       "      <td>EXCITATION</td>\n",
       "      <td>4.6e-01</td>\n",
       "      <td>4.6e-15</td>\n",
       "      <td>2.1e-15</td>\n",
       "    </tr>\n",
       "    <tr>\n",
       "      <th>100</th>\n",
       "      <td>E + H2(v11) =&gt; E + H2(v13)</td>\n",
       "      <td>EXCITATION</td>\n",
       "      <td>3.4e-01</td>\n",
       "      <td>4.5e-15</td>\n",
       "      <td>1.5e-15</td>\n",
       "    </tr>\n",
       "    <tr>\n",
       "      <th>419</th>\n",
       "      <td>E + CO2(v19) =&gt; E + CO2(v20)</td>\n",
       "      <td>EXCITATION</td>\n",
       "      <td>2.3e-01</td>\n",
       "      <td>4.1e-15</td>\n",
       "      <td>9.5e-16</td>\n",
       "    </tr>\n",
       "    <tr>\n",
       "      <th>417</th>\n",
       "      <td>E + CO2(v18) =&gt; E + CO2(v19)</td>\n",
       "      <td>EXCITATION</td>\n",
       "      <td>2.4e-01</td>\n",
       "      <td>4.1e-15</td>\n",
       "      <td>9.6e-16</td>\n",
       "    </tr>\n",
       "    <tr>\n",
       "      <th>414</th>\n",
       "      <td>E + CO2(v17) =&gt; E + CO2(v18)</td>\n",
       "      <td>EXCITATION</td>\n",
       "      <td>2.4e-01</td>\n",
       "      <td>4.1e-15</td>\n",
       "      <td>9.7e-16</td>\n",
       "    </tr>\n",
       "    <tr>\n",
       "      <th>410</th>\n",
       "      <td>E + CO2(v16) =&gt; E + CO2(v17)</td>\n",
       "      <td>EXCITATION</td>\n",
       "      <td>2.4e-01</td>\n",
       "      <td>4.1e-15</td>\n",
       "      <td>9.8e-16</td>\n",
       "    </tr>\n",
       "    <tr>\n",
       "      <th>405</th>\n",
       "      <td>E + CO2(v15) =&gt; E + CO2(v16)</td>\n",
       "      <td>EXCITATION</td>\n",
       "      <td>2.4e-01</td>\n",
       "      <td>4.1e-15</td>\n",
       "      <td>9.9e-16</td>\n",
       "    </tr>\n",
       "    <tr>\n",
       "      <th>399</th>\n",
       "      <td>E + CO2(v14) =&gt; E + CO2(v15)</td>\n",
       "      <td>EXCITATION</td>\n",
       "      <td>2.5e-01</td>\n",
       "      <td>4.1e-15</td>\n",
       "      <td>1.0e-15</td>\n",
       "    </tr>\n",
       "    <tr>\n",
       "      <th>392</th>\n",
       "      <td>E + CO2(v13) =&gt; E + CO2(v14)</td>\n",
       "      <td>EXCITATION</td>\n",
       "      <td>2.5e-01</td>\n",
       "      <td>4.0e-15</td>\n",
       "      <td>1.0e-15</td>\n",
       "    </tr>\n",
       "    <tr>\n",
       "      <th>384</th>\n",
       "      <td>E + CO2(v12) =&gt; E + CO2(v13)</td>\n",
       "      <td>EXCITATION</td>\n",
       "      <td>2.5e-01</td>\n",
       "      <td>4.0e-15</td>\n",
       "      <td>1.0e-15</td>\n",
       "    </tr>\n",
       "    <tr>\n",
       "      <th>375</th>\n",
       "      <td>E + CO2(v11) =&gt; E + CO2(v12)</td>\n",
       "      <td>EXCITATION</td>\n",
       "      <td>2.6e-01</td>\n",
       "      <td>4.0e-15</td>\n",
       "      <td>1.0e-15</td>\n",
       "    </tr>\n",
       "    <tr>\n",
       "      <th>365</th>\n",
       "      <td>E + CO2(v10) =&gt; E + CO2(v11)</td>\n",
       "      <td>EXCITATION</td>\n",
       "      <td>2.6e-01</td>\n",
       "      <td>4.0e-15</td>\n",
       "      <td>1.0e-15</td>\n",
       "    </tr>\n",
       "    <tr>\n",
       "      <th>354</th>\n",
       "      <td>E + CO2(v9) =&gt; E + CO2(v10)</td>\n",
       "      <td>EXCITATION</td>\n",
       "      <td>2.6e-01</td>\n",
       "      <td>4.0e-15</td>\n",
       "      <td>1.1e-15</td>\n",
       "    </tr>\n",
       "    <tr>\n",
       "      <th>342</th>\n",
       "      <td>E + CO2(v8) =&gt; E + CO2(v9)</td>\n",
       "      <td>EXCITATION</td>\n",
       "      <td>2.7e-01</td>\n",
       "      <td>4.0e-15</td>\n",
       "      <td>1.1e-15</td>\n",
       "    </tr>\n",
       "    <tr>\n",
       "      <th>329</th>\n",
       "      <td>E + CO2(v7) =&gt; E + CO2(v8)</td>\n",
       "      <td>EXCITATION</td>\n",
       "      <td>2.7e-01</td>\n",
       "      <td>4.0e-15</td>\n",
       "      <td>1.1e-15</td>\n",
       "    </tr>\n",
       "    <tr>\n",
       "      <th>315</th>\n",
       "      <td>E + CO2(v6) =&gt; E + CO2(v7)</td>\n",
       "      <td>EXCITATION</td>\n",
       "      <td>2.7e-01</td>\n",
       "      <td>4.0e-15</td>\n",
       "      <td>1.1e-15</td>\n",
       "    </tr>\n",
       "    <tr>\n",
       "      <th>300</th>\n",
       "      <td>E + CO2(v5) =&gt; E + CO2(v6)</td>\n",
       "      <td>EXCITATION</td>\n",
       "      <td>2.8e-01</td>\n",
       "      <td>4.0e-15</td>\n",
       "      <td>1.1e-15</td>\n",
       "    </tr>\n",
       "    <tr>\n",
       "      <th>284</th>\n",
       "      <td>E + CO2(v4) =&gt; E + CO2(v5)</td>\n",
       "      <td>EXCITATION</td>\n",
       "      <td>2.8e-01</td>\n",
       "      <td>4.0e-15</td>\n",
       "      <td>1.1e-15</td>\n",
       "    </tr>\n",
       "    <tr>\n",
       "      <th>...</th>\n",
       "      <td>...</td>\n",
       "      <td>...</td>\n",
       "      <td>...</td>\n",
       "      <td>...</td>\n",
       "      <td>...</td>\n",
       "    </tr>\n",
       "    <tr>\n",
       "      <th>68</th>\n",
       "      <td>E + H2(v5) =&gt; E + H2(v14)</td>\n",
       "      <td>EXCITATION</td>\n",
       "      <td>2.2e+00</td>\n",
       "      <td>3.4e-19</td>\n",
       "      <td>7.6e-19</td>\n",
       "    </tr>\n",
       "    <tr>\n",
       "      <th>46</th>\n",
       "      <td>E + H2(v3) =&gt; E + H2(v11)</td>\n",
       "      <td>EXCITATION</td>\n",
       "      <td>2.6e+00</td>\n",
       "      <td>3.1e-19</td>\n",
       "      <td>8.0e-19</td>\n",
       "    </tr>\n",
       "    <tr>\n",
       "      <th>20</th>\n",
       "      <td>E + H2(v1) =&gt; E + H2(v8)</td>\n",
       "      <td>EXCITATION</td>\n",
       "      <td>2.8e+00</td>\n",
       "      <td>2.9e-19</td>\n",
       "      <td>8.1e-19</td>\n",
       "    </tr>\n",
       "    <tr>\n",
       "      <th>248</th>\n",
       "      <td>E + CO2(v1) =&gt; E + CO2(v20)</td>\n",
       "      <td>EXCITATION</td>\n",
       "      <td>4.9e+00</td>\n",
       "      <td>2.9e-19</td>\n",
       "      <td>1.4e-18</td>\n",
       "    </tr>\n",
       "    <tr>\n",
       "      <th>228</th>\n",
       "      <td>E + CO2 =&gt; E + CO2(v19)</td>\n",
       "      <td>EXCITATION</td>\n",
       "      <td>5.0e+00</td>\n",
       "      <td>2.9e-19</td>\n",
       "      <td>1.4e-18</td>\n",
       "    </tr>\n",
       "    <tr>\n",
       "      <th>58</th>\n",
       "      <td>E + H2(v4) =&gt; E + H2(v13)</td>\n",
       "      <td>EXCITATION</td>\n",
       "      <td>2.5e+00</td>\n",
       "      <td>2.3e-19</td>\n",
       "      <td>5.8e-19</td>\n",
       "    </tr>\n",
       "    <tr>\n",
       "      <th>34</th>\n",
       "      <td>E + H2(v2) =&gt; E + H2(v10)</td>\n",
       "      <td>EXCITATION</td>\n",
       "      <td>2.8e+00</td>\n",
       "      <td>2.1e-19</td>\n",
       "      <td>5.9e-19</td>\n",
       "    </tr>\n",
       "    <tr>\n",
       "      <th>6</th>\n",
       "      <td>E + H2 =&gt; E + H2(v7)</td>\n",
       "      <td>EXCITATION</td>\n",
       "      <td>3.0e+00</td>\n",
       "      <td>1.7e-19</td>\n",
       "      <td>5.1e-19</td>\n",
       "    </tr>\n",
       "    <tr>\n",
       "      <th>229</th>\n",
       "      <td>E + CO2 =&gt; E + CO2(v20)</td>\n",
       "      <td>EXCITATION</td>\n",
       "      <td>5.2e+00</td>\n",
       "      <td>1.6e-19</td>\n",
       "      <td>8.6e-19</td>\n",
       "    </tr>\n",
       "    <tr>\n",
       "      <th>47</th>\n",
       "      <td>E + H2(v3) =&gt; E + H2(v12)</td>\n",
       "      <td>EXCITATION</td>\n",
       "      <td>2.7e+00</td>\n",
       "      <td>1.6e-19</td>\n",
       "      <td>4.3e-19</td>\n",
       "    </tr>\n",
       "    <tr>\n",
       "      <th>21</th>\n",
       "      <td>E + H2(v1) =&gt; E + H2(v9)</td>\n",
       "      <td>EXCITATION</td>\n",
       "      <td>3.0e+00</td>\n",
       "      <td>1.4e-19</td>\n",
       "      <td>4.3e-19</td>\n",
       "    </tr>\n",
       "    <tr>\n",
       "      <th>59</th>\n",
       "      <td>E + H2(v4) =&gt; E + H2(v14)</td>\n",
       "      <td>EXCITATION</td>\n",
       "      <td>2.6e+00</td>\n",
       "      <td>1.2e-19</td>\n",
       "      <td>3.1e-19</td>\n",
       "    </tr>\n",
       "    <tr>\n",
       "      <th>35</th>\n",
       "      <td>E + H2(v2) =&gt; E + H2(v11)</td>\n",
       "      <td>EXCITATION</td>\n",
       "      <td>3.0e+00</td>\n",
       "      <td>1.1e-19</td>\n",
       "      <td>3.2e-19</td>\n",
       "    </tr>\n",
       "    <tr>\n",
       "      <th>7</th>\n",
       "      <td>E + H2 =&gt; E + H2(v8)</td>\n",
       "      <td>EXCITATION</td>\n",
       "      <td>3.3e+00</td>\n",
       "      <td>8.2e-20</td>\n",
       "      <td>2.7e-19</td>\n",
       "    </tr>\n",
       "    <tr>\n",
       "      <th>48</th>\n",
       "      <td>E + H2(v3) =&gt; E + H2(v13)</td>\n",
       "      <td>EXCITATION</td>\n",
       "      <td>2.9e+00</td>\n",
       "      <td>8.1e-20</td>\n",
       "      <td>2.3e-19</td>\n",
       "    </tr>\n",
       "    <tr>\n",
       "      <th>22</th>\n",
       "      <td>E + H2(v1) =&gt; E + H2(v10)</td>\n",
       "      <td>EXCITATION</td>\n",
       "      <td>3.3e+00</td>\n",
       "      <td>7.0e-20</td>\n",
       "      <td>2.3e-19</td>\n",
       "    </tr>\n",
       "    <tr>\n",
       "      <th>36</th>\n",
       "      <td>E + H2(v2) =&gt; E + H2(v12)</td>\n",
       "      <td>EXCITATION</td>\n",
       "      <td>3.2e+00</td>\n",
       "      <td>5.4e-20</td>\n",
       "      <td>1.7e-19</td>\n",
       "    </tr>\n",
       "    <tr>\n",
       "      <th>49</th>\n",
       "      <td>E + H2(v3) =&gt; E + H2(v14)</td>\n",
       "      <td>EXCITATION</td>\n",
       "      <td>3.0e+00</td>\n",
       "      <td>4.1e-20</td>\n",
       "      <td>1.3e-19</td>\n",
       "    </tr>\n",
       "    <tr>\n",
       "      <th>8</th>\n",
       "      <td>E + H2 =&gt; E + H2(v9)</td>\n",
       "      <td>EXCITATION</td>\n",
       "      <td>3.6e+00</td>\n",
       "      <td>4.0e-20</td>\n",
       "      <td>1.4e-19</td>\n",
       "    </tr>\n",
       "    <tr>\n",
       "      <th>23</th>\n",
       "      <td>E + H2(v1) =&gt; E + H2(v11)</td>\n",
       "      <td>EXCITATION</td>\n",
       "      <td>3.5e+00</td>\n",
       "      <td>3.5e-20</td>\n",
       "      <td>1.2e-19</td>\n",
       "    </tr>\n",
       "    <tr>\n",
       "      <th>37</th>\n",
       "      <td>E + H2(v2) =&gt; E + H2(v13)</td>\n",
       "      <td>EXCITATION</td>\n",
       "      <td>3.4e+00</td>\n",
       "      <td>2.7e-20</td>\n",
       "      <td>9.2e-20</td>\n",
       "    </tr>\n",
       "    <tr>\n",
       "      <th>9</th>\n",
       "      <td>E + H2 =&gt; E + H2(v10)</td>\n",
       "      <td>EXCITATION</td>\n",
       "      <td>3.8e+00</td>\n",
       "      <td>2.0e-20</td>\n",
       "      <td>7.6e-20</td>\n",
       "    </tr>\n",
       "    <tr>\n",
       "      <th>24</th>\n",
       "      <td>E + H2(v1) =&gt; E + H2(v12)</td>\n",
       "      <td>EXCITATION</td>\n",
       "      <td>3.7e+00</td>\n",
       "      <td>1.8e-20</td>\n",
       "      <td>6.5e-20</td>\n",
       "    </tr>\n",
       "    <tr>\n",
       "      <th"
      ],
      "text/plain": [
       "                          formula        type  threshold_eV  rate const  \\\n",
       "104    E + H2(v13) => E + H2(v14)  EXCITATION       1.2e-01     1.3e-13   \n",
       "102    E + H2(v12) => E + H2(v13)  EXCITATION       1.5e-01     1.0e-13   \n",
       "99     E + H2(v11) => E + H2(v12)  EXCITATION       1.8e-01     8.0e-14   \n",
       "95     E + H2(v10) => E + H2(v11)  EXCITATION       2.1e-01     6.2e-14   \n",
       "90      E + H2(v9) => E + H2(v10)  EXCITATION       2.4e-01     4.7e-14   \n",
       "84       E + H2(v8) => E + H2(v9)  EXCITATION       2.7e-01     3.5e-14   \n",
       "77       E + H2(v7) => E + H2(v8)  EXCITATION       3.0e-01     2.6e-14   \n",
       "69       E + H2(v6) => E + H2(v7)  EXCITATION       3.4e-01     1.9e-14   \n",
       "60       E + H2(v5) => E + H2(v6)  EXCITATION       3.7e-01     1.3e-14   \n",
       "50       E + H2(v4) => E + H2(v5)  EXCITATION       4.0e-01     9.3e-15   \n",
       "39       E + H2(v3) => E + H2(v4)  EXCITATION       4.3e-01     6.5e-15   \n",
       "103    E + H2(v12) => E + H2(v14)  EXCITATION       2.8e-01     5.7e-15   \n",
       "27       E + H2(v2) => E + H2(v3)  EXCITATION       4.6e-01     4.6e-15   \n",
       "100    E + H2(v11) => E + H2(v13)  EXCITATION       3.4e-01     4.5e-15   \n",
       "419  E + CO2(v19) => E + CO2(v20)  EXCITATION       2.3e-01     4.1e-15   \n",
       "417  E + CO2(v18) => E + CO2(v19)  EXCITATION       2.4e-01     4.1e-15   \n",
       "414  E + CO2(v17) => E + CO2(v18)  EXCITATION       2.4e-01     4.1e-15   \n",
       "410  E + CO2(v16) => E + CO2(v17)  EXCITATION       2.4e-01     4.1e-15   \n",
       "405  E + CO2(v15) => E + CO2(v16)  EXCITATION       2.4e-01     4.1e-15   \n",
       "399  E + CO2(v14) => E + CO2(v15)  EXCITATION       2.5e-01     4.1e-15   \n",
       "392  E + CO2(v13) => E + CO2(v14)  EXCITATION       2.5e-01     4.0e-15   \n",
       "384  E + CO2(v12) => E + CO2(v13)  EXCITATION       2.5e-01     4.0e-15   \n",
       "375  E + CO2(v11) => E + CO2(v12)  EXCITATION       2.6e-01     4.0e-15   \n",
       "365  E + CO2(v10) => E + CO2(v11)  EXCITATION       2.6e-01     4.0e-15   \n",
       "354   E + CO2(v9) => E + CO2(v10)  EXCITATION       2.6e-01     4.0e-15   \n",
       "342    E + CO2(v8) => E + CO2(v9)  EXCITATION       2.7e-01     4.0e-15   \n",
       "329    E + CO2(v7) => E + CO2(v8)  EXCITATION       2.7e-01     4.0e-15   \n",
       "315    E + CO2(v6) => E + CO2(v7)  EXCITATION       2.7e-01     4.0e-15   \n",
       "300    E + CO2(v5) => E + CO2(v6)  EXCITATION       2.8e-01     4.0e-15   \n",
       "284    E + CO2(v4) => E + CO2(v5)  EXCITATION       2.8e-01     4.0e-15   \n",
       "..                            ...         ...           ...         ...   \n",
       "68      E + H2(v5) => E + H2(v14)  EXCITATION       2.2e+00     3.4e-19   \n",
       "46      E + H2(v3) => E + H2(v11)  EXCITATION       2.6e+00     3.1e-19   \n",
       "20       E + H2(v1) => E + H2(v8)  EXCITATION       2.8e+00     2.9e-19   \n",
       "248   E + CO2(v1) => E + CO2(v20)  EXCITATION       4.9e+00     2.9e-19   \n",
       "228       E + CO2 => E + CO2(v19)  EXCITATION       5.0e+00     2.9e-19   \n",
       "58      E + H2(v4) => E + H2(v13)  EXCITATION       2.5e+00     2.3e-19   \n",
       "34      E + H2(v2) => E + H2(v10)  EXCITATION       2.8e+00     2.1e-19   \n",
       "6            E + H2 => E + H2(v7)  EXCITATION       3.0e+00     1.7e-19   \n",
       "229       E + CO2 => E + CO2(v20)  EXCITATION       5.2e+00     1.6e-19   \n",
       "47      E + H2(v3) => E + H2(v12)  EXCITATION       2.7e+00     1.6e-19   \n",
       "21       E + H2(v1) => E + H2(v9)  EXCITATION       3.0e+00     1.4e-19   \n",
       "59      E + H2(v4) => E + H2(v14)  EXCITATION       2.6e+00     1.2e-19   \n",
       "35      E + H2(v2) => E + H2(v11)  EXCITATION       3.0e+00     1.1e-19   \n",
       "7            E + H2 => E + H2(v8)  EXCITATION       3.3e+00     8.2e-20   \n",
       "48      E + H2(v3) => E + H2(v13)  EXCITATION       2.9e+00     8.1e-20   \n",
       "22      E + H2(v1) => E + H2(v10)  EXCITATION       3.3e+00     7.0e-20   \n",
       "36      E + H2(v2) => E + H2(v12)  EXCITATION       3.2e+00     5.4e-20   \n",
       "49      E + H2(v3) => E + H2(v14)  EXCITATION       3.0e+00     4.1e-20   \n",
       "8            E + H2 => E + H2(v9)  EXCITATION       3.6e+00     4.0e-20   \n",
       "23      E + H2(v1) => E + H2(v11)  EXCITATION       3.5e+00     3.5e-20   \n",
       "37      E + H2(v2) => E + H2(v13)  EXCITATION       3.4e+00     2.7e-20   \n",
       "9           E + H2 => E + H2(v10)  EXCITATION       3.8e+00     2.0e-20   \n",
       "24      E + H2(v1) => E + H2(v12)  EXCITATION       3.7e+00     1.8e-20   \n",
       "38      E + H2(v2) => E + H2(v14)  EXCITATION       3.5e+00     1.4e-20   \n",
       "10          E + H2 => E + H2(v11)  EXCITATION       4.0e+00     9.9e-21   \n",
       "25      E + H2(v1) => E + H2(v13)  EXCITATION       3.8e+00     8.8e-21   \n",
       "11          E + H2 => E + H2(v12)  EXCITATION       4.2e+00     4.9e-21   \n",
       "26      E + H2(v1) => E + H2(v14)  EXCITATION       4.0e+00     4.3e-21   \n",
       "12          E + H2 => E + H2(v13)  EXCITATION       4.4e+00     2.4e-21   \n",
       "13          E + H2 => E + H2(v14)  EXCITATION       4.5e+00     1.1e-21   \n",
       "\n",
       "     energy lose  \n",
       "104      1.6e-14  \n",
       "102      1.6e-14  \n",
       "99       1.5e-14  \n",
       "95       1.3e-14  \n",
       "90       1.2e-14  \n",
       "84       9.7e-15  \n",
       "77       7.9e-15  \n",
       "69       6.3e-15  \n",
       "60       4.8e-15  \n",
       "50       3.7e-15  \n",
       "39       2.8e-15  \n",
       "103      1.6e-15  \n",
       "27       2.1e-15  \n",
       "100      1.5e-15  \n",
       "419      9.5e-16  \n",
       "417      9.6e-16  \n",
       "414      9.7e-16  \n",
       "410      9.8e-16  \n",
       "405      9.9e-16  \n",
       "399      1.0e-15  \n",
       "392      1.0e-15  \n",
       "384      1.0e-15  \n",
       "375      1.0e-15  \n",
       "365      1.0e-15  \n",
       "354      1.1e-15  \n",
       "342      1.1e-15  \n",
       "329      1.1e-15  \n",
       "315      1.1e-15  \n",
       "300      1.1e-15  \n",
       "284      1.1e-15  \n",
       "..           ...  \n",
       "68       7.6e-19  \n",
       "46       8.0e-19  \n",
       "20       8.1e-19  \n",
       "248      1.4e-18  \n",
       "228      1.4e-18  \n",
       "58       5.8e-19  \n",
       "34       5.9e-19  \n",
       "6        5.1e-19  \n",
       "229      8.6e-19  \n",
       "47       4.3e-19  \n",
       "21       4.3e-19  \n",
       "59       3.1e-19  \n",
       "35       3.2e-19  \n",
       "7        2.7e-19  \n",
       "48       2.3e-19  \n",
       "22       2.3e-19  \n",
       "36       1.7e-19  \n",
       "49       1.3e-19  \n",
       "8        1.4e-19  \n",
       "23       1.2e-19  \n",
       "37       9.2e-20  \n",
       "9        7.6e-20  \n",
       "24       6.5e-20  \n",
       "38       4.8e-20  \n",
       "10       4.0e-20  \n",
       "25       3.4e-20  \n",
       "11       2.1e-20  \n",
       "26       1.7e-20  \n",
       "12       1.0e-20  \n",
       "13       5.1e-21  \n",
       "\n",
       "[351 rows x 5 columns]"
      ]
     },
     "execution_count": 44,
     "metadata": {},
     "output_type": "execute_result"
    },
    {
     "data": {
      "text/html": [
       "<b>limit_output extension: Maximum message size of 10000 exceeded with 11252 characters</b>"
      ]
     },
     "metadata": {},
     "output_type": "display_data"
    }
   ],
   "source": [
    "result_df[result_df['type']=='EXCITATION'].sort_values(by=['rate const'], ascending=False)"
   ]
  },
  {
   "cell_type": "code",
   "execution_count": 49,
   "metadata": {
    "ExecuteTime": {
     "end_time": "2019-09-08T12:28:14.149083Z",
     "start_time": "2019-09-08T12:28:14.139109Z"
    }
   },
   "outputs": [
    {
     "data": {
      "text/html": [
       "<div>\n",
       "<style scoped>\n",
       "    .dataframe tbody tr th:only-of-type {\n",
       "        vertical-align: middle;\n",
       "    }\n",
       "\n",
       "    .dataframe tbody tr th {\n",
       "        vertical-align: top;\n",
       "    }\n",
       "\n",
       "    .dataframe thead th {\n",
       "        text-align: right;\n",
       "    }\n",
       "</style>\n",
       "<table border=\"1\" class=\"dataframe\">\n",
       "  <thead>\n",
       "    <tr style=\"text-align: right;\">\n",
       "      <th></th>\n",
       "      <th>formula</th>\n",
       "      <th>type</th>\n",
       "      <th>threshold_eV</th>\n",
       "      <th>rate const</th>\n",
       "      <th>energy lose</th>\n",
       "    </tr>\n",
       "  </thead>\n",
       "  <tbody>\n",
       "    <tr>\n",
       "      <th>643</th>\n",
       "      <td>E + H2(v13) =&gt; E + H + H</td>\n",
       "      <td>EXCITATION</td>\n",
       "      <td>2.2e-01</td>\n",
       "      <td>2.6e-15</td>\n",
       "      <td>5.8e-16</td>\n",
       "    </tr>\n",
       "    <tr>\n",
       "      <th>642</th>\n",
       "      <td>E + H2(v12) =&gt; E + H + H</td>\n",
       "      <td>EXCITATION</td>\n",
       "      <td>3.8e-01</td>\n",
       "      <td>2.5e-15</td>\n",
       "      <td>9.4e-16</td>\n",
       "    </tr>\n",
       "    <tr>\n",
       "      <th>641</th>\n",
       "      <td>E + H2(v11) =&gt; E + H + H</td>\n",
       "      <td>EXCITATION</td>\n",
       "      <td>5.6e-01</td>\n",
       "      <td>2.3e-15</td>\n",
       "      <td>1.3e-15</td>\n",
       "    </tr>\n",
       "    <tr>\n",
       "      <th>640</th>\n",
       "      <td>E + H2(v10) =&gt; E + H + H</td>\n",
       "      <td>EXCITATION</td>\n",
       "      <td>7.8e-01</td>\n",
       "      <td>2.1e-15</td>\n",
       "      <td>1.7e-15</td>\n",
       "    </tr>\n",
       "    <tr>\n",
       "      <th>639</th>\n",
       "      <td>E + H2(v9) =&gt; E + H + H</td>\n",
       "      <td>EXCITATION</td>\n",
       "      <td>1.0e+00</td>\n",
       "      <td>2.0e-15</td>\n",
       "      <td>2.0e-15</td>\n",
       "    </tr>\n",
       "    <tr>\n",
       "      <th>638</th>\n",
       "      <td>E + H2(v8) =&gt; E + H + H</td>\n",
       "      <td>EXCITATION</td>\n",
       "      <td>1.3e+00</td>\n",
       "      <td>1.8e-15</td>\n",
       "      <td>2.3e-15</td>\n",
       "    </tr>\n",
       "    <tr>\n",
       "      <th>637</th>\n",
       "      <td>E + H2(v7) =&gt; E + H + H</td>\n",
       "      <td>EXCITATION</td>\n",
       "      <td>1.6e+00</td>\n",
       "      <td>1.6e-15</td>\n",
       "      <td>2.5e-15</td>\n",
       "    </tr>\n",
       "    <tr>\n",
       "      <th>636</th>\n",
       "      <td>E + H2(v6) =&gt; E + H + H</td>\n",
       "      <td>EXCITATION</td>\n",
       "      <td>1.9e+00</td>\n",
       "      <td>1.4e-15</td>\n",
       "      <td>2.7e-15</td>\n",
       "    </tr>\n",
       "    <tr>\n",
       "      <th>635</th>\n",
       "      <td>E + H2(v5) =&gt; E + H + H</td>\n",
       "      <td>EXCITATION</td>\n",
       "      <td>2.3e+00</td>\n",
       "      <td>1.1e-15</td>\n",
       "      <td>2.6e-15</td>\n",
       "    </tr>\n",
       "    <tr>\n",
       "      <th>634</th>\n",
       "      <td>E + H2(v4) =&gt; E + H + H</td>\n",
       "      <td>EXCITATION</td>\n",
       "      <td>2.7e+00</td>\n",
       "      <td>9.2e-16</td>\n",
       "      <td>2.5e-15</td>\n",
       "    </tr>\n",
       "    <tr>\n",
       "      <th>633</th>\n",
       "      <td>E + H2(v3) =&gt; E + H + H</td>\n",
       "      <td>EXCITATION</td>\n",
       "      <td>3.1e+00</td>\n",
       "      <td>7.1e-16</td>\n",
       "      <td>2.2e-15</td>\n",
       "    </tr>\n",
       "    <tr>\n",
       "      <th>632</th>\n",
       "      <td>E + H2(v2) =&gt; E + H + H</td>\n",
       "      <td>EXCITATION</td>\n",
       "      <td>3.6e+00</td>\n",
       "      <td>5.0e-16</td>\n",
       "      <td>1.8e-15</td>\n",
       "    </tr>\n",
       "    <tr>\n",
       "      <th>631</th>\n",
       "      <td>E + H2(v1) =&gt; E + H + H</td>\n",
       "      <td>EXCITATION</td>\n",
       "      <td>4.1e+00</td>\n",
       "      <td>3.1e-16</td>\n",
       "      <td>1.2e-15</td>\n",
       "    </tr>\n",
       "    <tr>\n",
       "      <th>630</th>\n",
       "      <td>E + H2 =&gt; E + H + H</td>\n",
       "      <td>EXCITATION</td>\n",
       "      <td>6.6e+00</td>\n",
       "      <td>1.4e-16</td>\n",
       "      <td>9.3e-16</td>\n",
       "    </tr>\n",
       "  </tbody>\n",
       "</table>\n",
       "</div>"
      ],
      "text/plain": [
       "                      formula        type  threshold_eV  rate const  \\\n",
       "643  E + H2(v13) => E + H + H  EXCITATION       2.2e-01     2.6e-15   \n",
       "642  E + H2(v12) => E + H + H  EXCITATION       3.8e-01     2.5e-15   \n",
       "641  E + H2(v11) => E + H + H  EXCITATION       5.6e-01     2.3e-15   \n",
       "640  E + H2(v10) => E + H + H  EXCITATION       7.8e-01     2.1e-15   \n",
       "639   E + H2(v9) => E + H + H  EXCITATION       1.0e+00     2.0e-15   \n",
       "638   E + H2(v8) => E + H + H  EXCITATION       1.3e+00     1.8e-15   \n",
       "637   E + H2(v7) => E + H + H  EXCITATION       1.6e+00     1.6e-15   \n",
       "636   E + H2(v6) => E + H + H  EXCITATION       1.9e+00     1.4e-15   \n",
       "635   E + H2(v5) => E + H + H  EXCITATION       2.3e+00     1.1e-15   \n",
       "634   E + H2(v4) => E + H + H  EXCITATION       2.7e+00     9.2e-16   \n",
       "633   E + H2(v3) => E + H + H  EXCITATION       3.1e+00     7.1e-16   \n",
       "632   E + H2(v2) => E + H + H  EXCITATION       3.6e+00     5.0e-16   \n",
       "631   E + H2(v1) => E + H + H  EXCITATION       4.1e+00     3.1e-16   \n",
       "630       E + H2 => E + H + H  EXCITATION       6.6e+00     1.4e-16   \n",
       "\n",
       "     energy lose  \n",
       "643      5.8e-16  \n",
       "642      9.4e-16  \n",
       "641      1.3e-15  \n",
       "640      1.7e-15  \n",
       "639      2.0e-15  \n",
       "638      2.3e-15  \n",
       "637      2.5e-15  \n",
       "636      2.7e-15  \n",
       "635      2.6e-15  \n",
       "634      2.5e-15  \n",
       "633      2.2e-15  \n",
       "632      1.8e-15  \n",
       "631      1.2e-15  \n",
       "630      9.3e-16  "
      ]
     },
     "execution_count": 49,
     "metadata": {},
     "output_type": "execute_result"
    }
   ],
   "source": [
    "result_df[result_df['formula'].str.endswith('E + H + H')].sort_values(by=['rate const'], ascending=False)"
   ]
  },
  {
   "cell_type": "code",
   "execution_count": 50,
   "metadata": {
    "ExecuteTime": {
     "end_time": "2019-09-08T12:28:48.962043Z",
     "start_time": "2019-09-08T12:28:48.952070Z"
    }
   },
   "outputs": [
    {
     "data": {
      "text/html": [
       "<div>\n",
       "<style scoped>\n",
       "    .dataframe tbody tr th:only-of-type {\n",
       "        vertical-align: middle;\n",
       "    }\n",
       "\n",
       "    .dataframe tbody tr th {\n",
       "        vertical-align: top;\n",
       "    }\n",
       "\n",
       "    .dataframe thead th {\n",
       "        text-align: right;\n",
       "    }\n",
       "</style>\n",
       "<table border=\"1\" class=\"dataframe\">\n",
       "  <thead>\n",
       "    <tr style=\"text-align: right;\">\n",
       "      <th></th>\n",
       "      <th>formula</th>\n",
       "      <th>type</th>\n",
       "      <th>threshold_eV</th>\n",
       "      <th>rate const</th>\n",
       "      <th>energy lose</th>\n",
       "    </tr>\n",
       "  </thead>\n",
       "  <tbody>\n",
       "    <tr>\n",
       "      <th>665</th>\n",
       "      <td>E + CO2(v21) =&gt; E + CO + O</td>\n",
       "      <td>EXCITATION</td>\n",
       "      <td>6.5e+00</td>\n",
       "      <td>9.4e-17</td>\n",
       "      <td>6.1e-16</td>\n",
       "    </tr>\n",
       "    <tr>\n",
       "      <th>664</th>\n",
       "      <td>E + CO2(v20) =&gt; E + CO + O</td>\n",
       "      <td>EXCITATION</td>\n",
       "      <td>6.8e+00</td>\n",
       "      <td>8.5e-17</td>\n",
       "      <td>5.7e-16</td>\n",
       "    </tr>\n",
       "    <tr>\n",
       "      <th>663</th>\n",
       "      <td>E + CO2(v19) =&gt; E + CO + O</td>\n",
       "      <td>EXCITATION</td>\n",
       "      <td>7.0e+00</td>\n",
       "      <td>7.6e-17</td>\n",
       "      <td>5.3e-16</td>\n",
       "    </tr>\n",
       "    <tr>\n",
       "      <th>662</th>\n",
       "      <td>E + CO2(v18) =&gt; E + CO + O</td>\n",
       "      <td>EXCITATION</td>\n",
       "      <td>7.2e+00</td>\n",
       "      <td>6.8e-17</td>\n",
       "      <td>4.9e-16</td>\n",
       "    </tr>\n",
       "    <tr>\n",
       "      <th>661</th>\n",
       "      <td>E + CO2(v17) =&gt; E + CO + O</td>\n",
       "      <td>EXCITATION</td>\n",
       "      <td>7.5e+00</td>\n",
       "      <td>6.1e-17</td>\n",
       "      <td>4.5e-16</td>\n",
       "    </tr>\n",
       "    <tr>\n",
       "      <th>660</th>\n",
       "      <td>E + CO2(v16) =&gt; E + CO + O</td>\n",
       "      <td>EXCITATION</td>\n",
       "      <td>7.7e+00</td>\n",
       "      <td>5.4e-17</td>\n",
       "      <td>4.2e-16</td>\n",
       "    </tr>\n",
       "    <tr>\n",
       "      <th>659</th>\n",
       "      <td>E + CO2(v15) =&gt; E + CO + O</td>\n",
       "      <td>EXCITATION</td>\n",
       "      <td>8.0e+00</td>\n",
       "      <td>4.8e-17</td>\n",
       "      <td>3.8e-16</td>\n",
       "    </tr>\n",
       "    <tr>\n",
       "      <th>658</th>\n",
       "      <td>E + CO2(v14) =&gt; E + CO + O</td>\n",
       "      <td>EXCITATION</td>\n",
       "      <td>8.2e+00</td>\n",
       "      <td>4.2e-17</td>\n",
       "      <td>3.4e-16</td>\n",
       "    </tr>\n",
       "    <tr>\n",
       "      <th>657</th>\n",
       "      <td>E + CO2(v13) =&gt; E + CO + O</td>\n",
       "      <td>EXCITATION</td>\n",
       "      <td>8.5e+00</td>\n",
       "      <td>3.6e-17</td>\n",
       "      <td>3.1e-16</td>\n",
       "    </tr>\n",
       "    <tr>\n",
       "      <th>656</th>\n",
       "      <td>E + CO2(v12) =&gt; E + CO + O</td>\n",
       "      <td>EXCITATION</td>\n",
       "      <td>8.7e+00</td>\n",
       "      <td>3.1e-17</td>\n",
       "      <td>2.7e-16</td>\n",
       "    </tr>\n",
       "    <tr>\n",
       "      <th>655</th>\n",
       "      <td>E + CO2(v11) =&gt; E + CO + O</td>\n",
       "      <td>EXCITATION</td>\n",
       "      <td>9.0e+00</td>\n",
       "      <td>2.7e-17</td>\n",
       "      <td>2.4e-16</td>\n",
       "    </tr>\n",
       "    <tr>\n",
       "      <th>654</th>\n",
       "      <td>E + CO2(v10) =&gt; E + CO + O</td>\n",
       "      <td>EXCITATION</td>\n",
       "      <td>9.2e+00</td>\n",
       "      <td>2.3e-17</td>\n",
       "      <td>2.1e-16</td>\n",
       "    </tr>\n",
       "    <tr>\n",
       "      <th>653</th>\n",
       "      <td>E + CO2(v9) =&gt; E + CO + O</td>\n",
       "      <td>EXCITATION</td>\n",
       "      <td>9.5e+00</td>\n",
       "      <td>1.9e-17</td>\n",
       "      <td>1.8e-16</td>\n",
       "    </tr>\n",
       "    <tr>\n",
       "      <th>652</th>\n",
       "      <td>E + CO2(v8) =&gt; E + CO + O</td>\n",
       "      <td>EXCITATION</td>\n",
       "      <td>9.8e+00</td>\n",
       "      <td>1.6e-17</td>\n",
       "      <td>1.6e-16</td>\n",
       "    </tr>\n",
       "    <tr>\n",
       "      <th>651</th>\n",
       "      <td>E + CO2(v7) =&gt; E + CO + O</td>\n",
       "      <td>EXCITATION</td>\n",
       "      <td>1.0e+01</td>\n",
       "      <td>1.4e-17</td>\n",
       "      <td>1.4e-16</td>\n",
       "    </tr>\n",
       "    <tr>\n",
       "      <th>650</th>\n",
       "      <td>E + CO2(v6) =&gt; E + CO + O</td>\n",
       "      <td>EXCITATION</td>\n",
       "      <td>1.0e+01</td>\n",
       "      <td>1.1e-17</td>\n",
       "      <td>1.2e-16</td>\n",
       "    </tr>\n",
       "    <tr>\n",
       "      <th>649</th>\n",
       "      <td>E + CO2(v5) =&gt; E + CO + O</td>\n",
       "      <td>EXCITATION</td>\n",
       "      <td>1.1e+01</td>\n",
       "      <td>9.3e-18</td>\n",
       "      <td>9.8e-17</td>\n",
       "    </tr>\n",
       "    <tr>\n",
       "      <th>648</th>\n",
       "      <td>E + CO2(v4) =&gt; E + CO + O</td>\n",
       "      <td>EXCITATION</td>\n",
       "      <td>1.1e+01</td>\n",
       "      <td>7.6e-18</td>\n",
       "      <td>8.2e-17</td>\n",
       "    </tr>\n",
       "    <tr>\n",
       "      <th>647</th>\n",
       "      <td>E + CO2(v3) =&gt; E + CO + O</td>\n",
       "      <td>EXCITATION</td>\n",
       "      <td>1.1e+01</td>\n",
       "      <td>6.2e-18</td>\n",
       "      <td>6.9e-17</td>\n",
       "    </tr>\n",
       "    <tr>\n",
       "      <th>646</th>\n",
       "      <td>E + CO2(v2) =&gt; E + CO + O</td>\n",
       "      <td>EXCITATION</td>\n",
       "      <td>1.1e+01</td>\n",
       "      <td>5.0e-18</td>\n",
       "      <td>5.7e-17</td>\n",
       "    </tr>\n",
       "    <tr>\n",
       "      <th>645</th>\n",
       "      <td>E + CO2(v1) =&gt; E + CO + O</td>\n",
       "      <td>EXCITATION</td>\n",
       "      <td>1.2e+01</td>\n",
       "      <td>4.0e-18</td>\n",
       "      <td>4.7e-17</td>\n",
       "    </tr>\n",
       "    <tr>\n",
       "      <th>644</th>\n",
       "      <td>E + CO2 =&gt; E + CO + O</td>\n",
       "      <td>EXCITATION</td>\n",
       "      <td>1.2e+01</td>\n",
       "      <td>3.2e-18</td>\n",
       "      <td>3.8e-17</td>\n",
       "    </tr>\n",
       "  </tbody>\n",
       "</table>\n",
       "</div>"
      ],
      "text/plain": [
       "                        formula        type  threshold_eV  rate const  \\\n",
       "665  E + CO2(v21) => E + CO + O  EXCITATION       6.5e+00     9.4e-17   \n",
       "664  E + CO2(v20) => E + CO + O  EXCITATION       6.8e+00     8.5e-17   \n",
       "663  E + CO2(v19) => E + CO + O  EXCITATION       7.0e+00     7.6e-17   \n",
       "662  E + CO2(v18) => E + CO + O  EXCITATION       7.2e+00     6.8e-17   \n",
       "661  E + CO2(v17) => E + CO + O  EXCITATION       7.5e+00     6.1e-17   \n",
       "660  E + CO2(v16) => E + CO + O  EXCITATION       7.7e+00     5.4e-17   \n",
       "659  E + CO2(v15) => E + CO + O  EXCITATION       8.0e+00     4.8e-17   \n",
       "658  E + CO2(v14) => E + CO + O  EXCITATION       8.2e+00     4.2e-17   \n",
       "657  E + CO2(v13) => E + CO + O  EXCITATION       8.5e+00     3.6e-17   \n",
       "656  E + CO2(v12) => E + CO + O  EXCITATION       8.7e+00     3.1e-17   \n",
       "655  E + CO2(v11) => E + CO + O  EXCITATION       9.0e+00     2.7e-17   \n",
       "654  E + CO2(v10) => E + CO + O  EXCITATION       9.2e+00     2.3e-17   \n",
       "653   E + CO2(v9) => E + CO + O  EXCITATION       9.5e+00     1.9e-17   \n",
       "652   E + CO2(v8) => E + CO + O  EXCITATION       9.8e+00     1.6e-17   \n",
       "651   E + CO2(v7) => E + CO + O  EXCITATION       1.0e+01     1.4e-17   \n",
       "650   E + CO2(v6) => E + CO + O  EXCITATION       1.0e+01     1.1e-17   \n",
       "649   E + CO2(v5) => E + CO + O  EXCITATION       1.1e+01     9.3e-18   \n",
       "648   E + CO2(v4) => E + CO + O  EXCITATION       1.1e+01     7.6e-18   \n",
       "647   E + CO2(v3) => E + CO + O  EXCITATION       1.1e+01     6.2e-18   \n",
       "646   E + CO2(v2) => E + CO + O  EXCITATION       1.1e+01     5.0e-18   \n",
       "645   E + CO2(v1) => E + CO + O  EXCITATION       1.2e+01     4.0e-18   \n",
       "644       E + CO2 => E + CO + O  EXCITATION       1.2e+01     3.2e-18   \n",
       "\n",
       "     energy lose  \n",
       "665      6.1e-16  \n",
       "664      5.7e-16  \n",
       "663      5.3e-16  \n",
       "662      4.9e-16  \n",
       "661      4.5e-16  \n",
       "660      4.2e-16  \n",
       "659      3.8e-16  \n",
       "658      3.4e-16  \n",
       "657      3.1e-16  \n",
       "656      2.7e-16  \n",
       "655      2.4e-16  \n",
       "654      2.1e-16  \n",
       "653      1.8e-16  \n",
       "652      1.6e-16  \n",
       "651      1.4e-16  \n",
       "650      1.2e-16  \n",
       "649      9.8e-17  \n",
       "648      8.2e-17  \n",
       "647      6.9e-17  \n",
       "646      5.7e-17  \n",
       "645      4.7e-17  \n",
       "644      3.8e-17  "
      ]
     },
     "execution_count": 50,
     "metadata": {},
     "output_type": "execute_result"
    }
   ],
   "source": [
    "result_df[result_df['formula'].str.endswith('E + CO + O')].sort_values(by=['rate const'], ascending=False)"
   ]
  },
  {
   "cell_type": "code",
   "execution_count": null,
   "metadata": {},
   "outputs": [],
   "source": []
  },
  {
   "cell_type": "code",
   "execution_count": null,
   "metadata": {},
   "outputs": [],
   "source": []
  }
 ],
 "metadata": {
  "kernelspec": {
   "display_name": "Python 3",
   "language": "python",
   "name": "python3"
  },
  "language_info": {
   "codemirror_mode": {
    "name": "ipython",
    "version": 3
   },
   "file_extension": ".py",
   "mimetype": "text/x-python",
   "name": "python",
   "nbconvert_exporter": "python",
   "pygments_lexer": "ipython3",
   "version": "3.7.3"
  },
  "toc": {
   "base_numbering": 1,
   "nav_menu": {},
   "number_sections": true,
   "sideBar": false,
   "skip_h1_title": false,
   "title_cell": "Table of Contents",
   "title_sidebar": "Contents",
   "toc_cell": false,
   "toc_position": {
    "height": "457px",
    "left": "1069.19px",
    "top": "263px",
    "width": "156.813px"
   },
   "toc_section_display": true,
   "toc_window_display": true
  },
  "varInspector": {
   "cols": {
    "lenName": 16,
    "lenType": 16,
    "lenVar": 40
   },
   "kernels_config": {
    "python": {
     "delete_cmd_postfix": "",
     "delete_cmd_prefix": "del ",
     "library": "var_list.py",
     "varRefreshCmd": "print(var_dic_list())"
    },
    "r": {
     "delete_cmd_postfix": ") ",
     "delete_cmd_prefix": "rm(",
     "library": "var_list.r",
     "varRefreshCmd": "cat(var_dic_list()) "
    }
   },
   "types_to_exclude": [
    "module",
    "function",
    "builtin_function_or_method",
    "instance",
    "_Feature"
   ],
   "window_display": false
  }
 },
 "nbformat": 4,
 "nbformat_minor": 2
}
