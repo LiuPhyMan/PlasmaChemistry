{
 "cells": [
  {
   "cell_type": "markdown",
   "metadata": {
    "heading_collapsed": true
   },
   "source": [
    "# INIT"
   ]
  },
  {
   "cell_type": "code",
   "execution_count": 1,
   "metadata": {
    "ExecuteTime": {
     "end_time": "2019-09-09T03:06:19.788096Z",
     "start_time": "2019-09-09T03:06:16.409127Z"
    },
    "hidden": true
   },
   "outputs": [],
   "source": [
    "import numpy as np\n",
    "import pandas as pd\n",
    "from scipy.integrate import solve_ivp\n",
    "from matplotlib import pyplot as plt\n",
    "from plasmistry.electron import EEDF\n",
    "from plasmistry.electron import get_maxwell_eedf\n",
    "from plasmistry.molecule import get_ideal_gas_density"
   ]
  },
  {
   "cell_type": "code",
   "execution_count": 2,
   "metadata": {
    "ExecuteTime": {
     "end_time": "2019-09-09T03:06:19.793083Z",
     "start_time": "2019-09-09T03:06:19.789094Z"
    },
    "hidden": true
   },
   "outputs": [],
   "source": [
    "import matplotlib.pyplot as plt\n",
    "plt.rcParams[\"figure.figsize\"] = (12,9)\n",
    "plt.rcParams[\"font.size\"] = 17"
   ]
  },
  {
   "cell_type": "code",
   "execution_count": 3,
   "metadata": {
    "ExecuteTime": {
     "end_time": "2019-09-09T03:06:19.888827Z",
     "start_time": "2019-09-09T03:06:19.795079Z"
    },
    "hidden": true
   },
   "outputs": [],
   "source": [
    "np.set_printoptions(precision=1, linewidth=130, edgeitems=5)\n",
    "pd.options.display.float_format = '{:,.1e}'.format"
   ]
  },
  {
   "cell_type": "markdown",
   "metadata": {},
   "source": [
    "# Read inelas reactions"
   ]
  },
  {
   "cell_type": "code",
   "execution_count": 4,
   "metadata": {
    "ExecuteTime": {
     "end_time": "2019-09-09T03:06:20.013495Z",
     "start_time": "2019-09-09T03:06:19.890822Z"
    }
   },
   "outputs": [],
   "source": [
    "file_name_list = ['rctn_df_H2_ele_vib_forward.pkl',\n",
    "                  'rctn_df_H2_e_vib_backward.pkl',\n",
    "                  'rctn_df_CO2_e_vib_forward.pkl',\n",
    "                  'rctn_df_CO2_e_vib_backward.pkl',\n",
    "                  'rctn_df_H2_ele_dis_via_b.pkl',\n",
    "                  'rctn_df_CO2_ele_diss.pkl']\n",
    "file_name_list = ['rctn_df_CO2_e_vib_forward.pkl',\n",
    "                  'rctn_df_CO2_e_vib_backward.pkl']\n",
    "_df = pd.DataFrame(columns=['formula','type', 'threshold_eV', 'cross_section'])\n",
    "for file_name in file_name_list:\n",
    "    _df = _df.append(pd.read_pickle(file_name))\n",
    "inelas_df = _df\n",
    "inelas_df['threshold_eV'] = inelas_df['threshold_eV'].astype(float)"
   ]
  },
  {
   "cell_type": "markdown",
   "metadata": {},
   "source": [
    "# Choose the reactions considered."
   ]
  },
  {
   "cell_type": "code",
   "execution_count": 5,
   "metadata": {
    "ExecuteTime": {
     "end_time": "2019-09-09T03:06:20.219944Z",
     "start_time": "2019-09-09T03:06:20.016487Z"
    },
    "scrolled": true
   },
   "outputs": [
    {
     "data": {
      "text/html": [
       "<div>\n",
       "<style scoped>\n",
       "    .dataframe tbody tr th:only-of-type {\n",
       "        vertical-align: middle;\n",
       "    }\n",
       "\n",
       "    .dataframe tbody tr th {\n",
       "        vertical-align: top;\n",
       "    }\n",
       "\n",
       "    .dataframe thead th {\n",
       "        text-align: right;\n",
       "    }\n",
       "</style>\n",
       "<table border=\"1\" class=\"dataframe\">\n",
       "  <thead>\n",
       "    <tr style=\"text-align: right;\">\n",
       "      <th></th>\n",
       "      <th>formula</th>\n",
       "      <th>type</th>\n",
       "      <th>threshold_eV</th>\n",
       "      <th>cross_section</th>\n",
       "    </tr>\n",
       "  </thead>\n",
       "  <tbody>\n",
       "    <tr>\n",
       "      <th>0</th>\n",
       "      <td>E + CO2 =&gt; E + CO2(v1)</td>\n",
       "      <td>EXCITATION</td>\n",
       "      <td>0.2912574773137701</td>\n",
       "      <td>[[0.291, 0.3, 0.31, 0.32, 0.33, 0.35, 0.38, 0....</td>\n",
       "    </tr>\n",
       "    <tr>\n",
       "      <th>1</th>\n",
       "      <td>E + CO2 =&gt; E + CO2(v2)</td>\n",
       "      <td>EXCITATION</td>\n",
       "      <td>0.5794227887444736</td>\n",
       "      <td>[[0.57939, 0.58839, 0.59839, 0.60839, 0.61839,...</td>\n",
       "    </tr>\n",
       "    <tr>\n",
       "      <th>2</th>\n",
       "      <td>E + CO2 =&gt; E + CO2(v3)</td>\n",
       "      <td>EXCITATION</td>\n",
       "      <td>0.8644959342921104</td>\n",
       "      <td>[[0.86469, 0.87369, 0.88369, 0.89369, 0.90369,...</td>\n",
       "    </tr>\n",
       "    <tr>\n",
       "      <th>3</th>\n",
       "      <td>E + CO2 =&gt; E + CO2(v4)</td>\n",
       "      <td>EXCITATION</td>\n",
       "      <td>1.1464769139566813</td>\n",
       "      <td>[[1.1469, 1.1559, 1.1659, 1.1759, 1.1859, 1.20...</td>\n",
       "    </tr>\n",
       "    <tr>\n",
       "      <th>4</th>\n",
       "      <td>E + CO2 =&gt; E + CO2(v5)</td>\n",
       "      <td>EXCITATION</td>\n",
       "      <td>1.4253657277381855</td>\n",
       "      <td>[[1.42601, 1.43501, 1.44501, 1.45501, 1.46501,...</td>\n",
       "    </tr>\n",
       "    <tr>\n",
       "      <th>5</th>\n",
       "      <td>E + CO2 =&gt; E + CO2(v6)</td>\n",
       "      <td>EXCITATION</td>\n",
       "      <td>1.701162375636623</td>\n",
       "      <td>[[1.70203, 1.71103, 1.72103, 1.73103, 1.74103,...</td>\n",
       "    </tr>\n",
       "    <tr>\n",
       "      <th>6</th>\n",
       "      <td>E + CO2 =&gt; E + CO2(v7)</td>\n",
       "      <td>EXCITATION</td>\n",
       "      <td>1.9738668576519955</td>\n",
       "      <td>[[1.97495, 1.98395, 1.99395, 2.00395, 2.01395,...</td>\n",
       "    </tr>\n",
       "    <tr>\n",
       "      <th>7</th>\n",
       "      <td>E + CO2 =&gt; E + CO2(v8)</td>\n",
       "      <td>EXCITATION</td>\n",
       "      <td>2.2434791737843</td>\n",
       "      <td>[[2.24478, 2.25378, 2.26378, 2.27378, 2.28378,...</td>\n",
       "    </tr>\n",
       "    <tr>\n",
       "      <th>8</th>\n",
       "      <td>E + CO2 =&gt; E + CO2(v9)</td>\n",
       "      <td>EXCITATION</td>\n",
       "      <td>2.5099993240335396</td>\n",
       "      <td>[[2.51151, 2.52051, 2.53051, 2.54051, 2.55051,...</td>\n",
       "    </tr>\n",
       "    <tr>\n",
       "      <th>9</th>\n",
       "      <td>E + CO2 =&gt; E + CO2(v10)</td>\n",
       "      <td>EXCITATION</td>\n",
       "      <td>2.7734273083997114</td>\n",
       "      <td>[[2.77515, 2.78415, 2.79415, 2.80415, 2.81415,...</td>\n",
       "    </tr>\n",
       "    <tr>\n",
       "      <th>10</th>\n",
       "      <td>E + CO2 =&gt; E + CO2(v11)</td>\n",
       "      <td>EXCITATION</td>\n",
       "      <td>3.0337631268828176</td>\n",
       "      <td>[[3.03569, 3.04469, 3.05469, 3.06469, 3.07469,...</td>\n",
       "    </tr>\n",
       "    <tr>\n",
       "      <th>11</th>\n",
       "      <td>E + CO2 =&gt; E + CO2(v12)</td>\n",
       "      <td>EXCITATION</td>\n",
       "      <td>3.2910067794828572</td>\n",
       "      <td>[[3.29314, 3.30214, 3.31214, 3.32214, 3.33214,...</td>\n",
       "    </tr>\n",
       "    <tr>\n",
       "      <th>12</th>\n",
       "      <td>E + CO2 =&gt; E + CO2(v13)</td>\n",
       "      <td>EXCITATION</td>\n",
       "      <td>3.5451582661998304</td>\n",
       "      <td>[[3.54749, 3.55649, 3.56649, 3.57649, 3.58649,...</td>\n",
       "    </tr>\n",
       "    <tr>\n",
       "      <th>13</th>\n",
       "      <td>E + CO2 =&gt; E + CO2(v14)</td>\n",
       "      <td>EXCITATION</td>\n",
       "      <td>3.7962175870337367</td>\n",
       "      <td>[[3.79875, 3.80775, 3.81775, 3.82775, 3.83775,...</td>\n",
       "    </tr>\n",
       "    <tr>\n",
       "      <th>14</th>\n",
       "      <td>E + CO2 =&gt; E + CO2(v15)</td>\n",
       "      <td>EXCITATION</td>\n",
       "      <td>4.044184741984577</td>\n",
       "      <td>[[4.04692, 4.05592, 4.06592, 4.07592, 4.08592,...</td>\n",
       "    </tr>\n",
       "    <tr>\n",
       "      <th>15</th>\n",
       "      <td>E + CO2 =&gt; E + CO2(v16)</td>\n",
       "      <td>EXCITATION</td>\n",
       "      <td>4.289059731052351</td>\n",
       "      <td>[[4.29199, 4.30099, 4.31099, 4.32099, 4.33099,...</td>\n",
       "    </tr>\n",
       "    <tr>\n",
       "      <th>16</th>\n",
       "      <td>E + CO2 =&gt; E + CO2(v17)</td>\n",
       "      <td>EXCITATION</td>\n",
       "      <td>4.530842554237059</td>\n",
       "      <td>[[4.53396, 4.54296, 4.55296, 4.56296, 4.57296,...</td>\n",
       "    </tr>\n",
       "    <tr>\n",
       "      <th>17</th>\n",
       "      <td>E + CO2 =&gt; E + CO2(v18)</td>\n",
       "      <td>EXCITATION</td>\n",
       "      <td>4.7695332115386995</td>\n",
       "      <td>[[4.77284, 4.78184, 4.79184, 4.80184, 4.81184,...</td>\n",
       "    </tr>\n",
       "    <tr>\n",
       "      <th>18</th>\n",
       "      <td>E + CO2 =&gt; E + CO2(v19)</td>\n",
       "      <td>EXCITATION</td>\n",
       "      <td>5.005131702957276</td>\n",
       "      <td>[[5.00863, 5.01763, 5.02763, 5.03763, 5.04763,...</td>\n",
       "    </tr>\n",
       "    <tr>\n",
       "      <th>19</th>\n",
       "      <td>E + CO2 =&gt; E + CO2(v20)</td>\n",
       "      <td>EXCITATION</td>\n",
       "      <td>5.237638028492783</td>\n",
       "      <td>[[5.24132, 5.25032, 5.26032, 5.27032, 5.28032,...</td>\n",
       "    </tr>\n",
       "    <tr>\n",
       "      <th>20</th>\n",
       "      <td>E + CO2(v1) =&gt; E + CO2(v2)</td>\n",
       "      <td>EXCITATION</td>\n",
       "      <td>0.2881653114307035</td>\n",
       "      <td>[[0.28791, 0.29691, 0.30691, 0.31691, 0.32691,...</td>\n",
       "    </tr>\n",
       "    <tr>\n",
       "      <th>21</th>\n",
       "      <td>E + CO2(v1) =&gt; E + CO2(v3)</td>\n",
       "      <td>EXCITATION</td>\n",
       "      <td>0.5732384569783402</td>\n",
       "      <td>[[0.57321, 0.58221, 0.59221, 0.60221, 0.61221,...</td>\n",
       "    </tr>\n",
       "    <tr>\n",
       "      <th>22</th>\n",
       "      <td>E + CO2(v1) =&gt; E + CO2(v4)</td>\n",
       "      <td>EXCITATION</td>\n",
       "      <td>0.8552194366429111</td>\n",
       "      <td>[[0.85541, 0.86441, 0.87441, 0.88441, 0.89441,...</td>\n",
       "    </tr>\n",
       "    <tr>\n",
       "      <th>23</th>\n",
       "      <td>E + CO2(v1) =&gt; E + CO2(v5)</td>\n",
       "      <td>EXCITATION</td>\n",
       "      <td>1.1341082504244153</td>\n",
       "      <td>[[1.13452, 1.14352, 1.15352, 1.16352, 1.17352,...</td>\n",
       "    </tr>\n",
       "    <tr>\n",
       "      <th>24</th>\n",
       "      <td>E + CO2(v1) =&gt; E + CO2(v6)</td>\n",
       "      <td>EXCITATION</td>\n",
       "      <td>1.4099048983228528</td>\n",
       "      <td>[[1.41054, 1.41954, 1.42954, 1.43954, 1.44954,...</td>\n",
       "    </tr>\n",
       "    <tr>\n",
       "      <th>25</th>\n",
       "      <td>E + CO2(v1) =&gt; E + CO2(v7)</td>\n",
       "      <td>EXCITATION</td>\n",
       "      <td>1.6826093803382254</td>\n",
       "      <td>[[1.68346, 1.69246, 1.70246, 1.71246, 1.72246,...</td>\n",
       "    </tr>\n",
       "    <tr>\n",
       "      <th>26</th>\n",
       "      <td>E + CO2(v1) =&gt; E + CO2(v8)</td>\n",
       "      <td>EXCITATION</td>\n",
       "      <td>1.95222169647053</td>\n",
       "      <td>[[1.95329, 1.96229, 1.97229, 1.98229, 1.99229,...</td>\n",
       "    </tr>\n",
       "    <tr>\n",
       "      <th>27</th>\n",
       "      <td>E + CO2(v1) =&gt; E + CO2(v9)</td>\n",
       "      <td>EXCITATION</td>\n",
       "      <td>2.2187418467197695</td>\n",
       "      <td>[[2.22002, 2.22902, 2.23902, 2.24902, 2.25902,...</td>\n",
       "    </tr>\n",
       "    <tr>\n",
       "      <th>28</th>\n",
       "      <td>E + CO2(v1) =&gt; E + CO2(v10)</td>\n",
       "      <td>EXCITATION</td>\n",
       "      <td>2.4821698310859412</td>\n",
       "      <td>[[2.48366, 2.49266, 2.50266, 2.51266, 2.52266,...</td>\n",
       "    </tr>\n",
       "    <tr>\n",
       "      <th>29</th>\n",
       "      <td>E + CO2(v1) =&gt; E + CO2(v11)</td>\n",
       "      <td>EXCITATION</td>\n",
       "      <td>2.7425056495690474</td>\n",
       "      <td>[[2.7442, 2.7532, 2.7632, 2.7732, 2.7832, 2.80...</td>\n",
       "    </tr>\n",
       "    <tr>\n",
       "      <th>...</th>\n",
       "      <td>...</td>\n",
       "      <td>...</td>\n",
       "      <td>...</td>\n",
       "      <td>...</td>\n",
       "    </tr>\n",
       "    <tr>\n",
       "      <th>180</th>\n",
       "      <td>E + CO2(v19) =&gt; E + CO2(v9)</td>\n",
       "      <td>DEEXCITATION</td>\n",
       "      <td>-2.4951323789237363</td>\n",
       "      <td>[[0.1, 0.2, 0.3, 0.4, 0.5, 0.6, 0.7, 0.8, 0.9,...</td>\n",
       "    </tr>\n",
       "    <tr>\n",
       "      <th>181</th>\n",
       "      <td>E + CO2(v19) =&gt; E + CO2(v10)</td>\n",
       "      <td>DEEXCITATION</td>\n",
       "      <td>-2.2317043945575645</td>\n",
       "      <td>[[0.1, 0.2, 0.3, 0.4, 0.5, 0.6, 0.7, 0.8, 0.9,...</td>\n",
       "    </tr>\n",
       "    <tr>\n",
       "      <th>182</th>\n",
       "      <td>E + CO2(v19) =&gt; E + CO2(v11)</td>\n",
       "      <td>DEEXCITATION</td>\n",
       "      <td>-1.9713685760744584</td>\n",
       "      <td>[[0.1, 0.2, 0.3, 0.4, 0.5, 0.6, 0.7, 0.8, 0.9,...</td>\n",
       "    </tr>\n",
       "    <tr>\n",
       "      <th>183</th>\n",
       "      <td>E + CO2(v19) =&gt; E + CO2(v12)</td>\n",
       "      <td>DEEXCITATION</td>\n",
       "      <td>-1.7141249234744187</td>\n",
       "      <td>[[0.1, 0.2, 0.3, 0.4, 0.5, 0.6, 0.7, 0.8, 0.9,...</td>\n",
       "    </tr>\n",
       "    <tr>\n",
       "      <th>184</th>\n",
       "      <td>E + CO2(v19) =&gt; E + CO2(v13)</td>\n",
       "      <td>DEEXCITATION</td>\n",
       "      <td>-1.4599734367574455</td>\n",
       "      <td>[[0.1, 0.2, 0.3, 0.4, 0.5, 0.6, 0.7, 0.8, 0.9,...</td>\n",
       "    </tr>\n",
       "    <tr>\n",
       "      <th>185</th>\n",
       "      <td>E + CO2(v19) =&gt; E + CO2(v14)</td>\n",
       "      <td>DEEXCITATION</td>\n",
       "      <td>-1.2089141159235393</td>\n",
       "      <td>[[0.1, 0.2, 0.3, 0.4, 0.5, 0.6, 0.7, 0.8, 0.9,...</td>\n",
       "    </tr>\n",
       "    <tr>\n",
       "      <th>186</th>\n",
       "      <td>E + CO2(v19) =&gt; E + CO2(v15)</td>\n",
       "      <td>DEEXCITATION</td>\n",
       "      <td>-0.9609469609726986</td>\n",
       "      <td>[[0.1, 0.2, 0.3, 0.4, 0.5, 0.6, 0.7, 0.8, 0.9,...</td>\n",
       "    </tr>\n",
       "    <tr>\n",
       "      <th>187</th>\n",
       "      <td>E + CO2(v19) =&gt; E + CO2(v16)</td>\n",
       "      <td>DEEXCITATION</td>\n",
       "      <td>-0.7160719719049249</td>\n",
       "      <td>[[0.1, 0.2, 0.3, 0.4, 0.5, 0.6, 0.7, 0.8, 0.9,...</td>\n",
       "    </tr>\n",
       "    <tr>\n",
       "      <th>188</th>\n",
       "      <td>E + CO2(v19) =&gt; E + CO2(v17)</td>\n",
       "      <td>DEEXCITATION</td>\n",
       "      <td>-0.4742891487202172</td>\n",
       "      <td>[[0.1, 0.2, 0.3, 0.4, 0.5, 0.6, 0.7, 0.8, 0.9,...</td>\n",
       "    </tr>\n",
       "    <tr>\n",
       "      <th>189</th>\n",
       "      <td>E + CO2(v19) =&gt; E + CO2(v18)</td>\n",
       "      <td>DEEXCITATION</td>\n",
       "      <td>-0.23559849141857647</td>\n",
       "      <td>[[0.1, 0.2, 0.3, 0.4, 0.5, 0.6, 0.7, 0.8, 0.9,...</td>\n",
       "    </tr>\n",
       "    <tr>\n",
       "      <th>190</th>\n",
       "      <td>E + CO2(v20) =&gt; E + CO2</td>\n",
       "      <td>DEEXCITATION</td>\n",
       "      <td>-5.237638028492783</td>\n",
       "      <td>[[0.1, 0.2, 0.3, 0.4, 0.5, 0.6, 0.7, 0.8, 0.9,...</td>\n",
       "    </tr>\n",
       "    <tr>\n",
       "      <th>191</th>\n",
       "      <td>E + CO2(v20) =&gt; E + CO2(v1)</td>\n",
       "      <td>DEEXCITATION</td>\n",
       "      <td>-4.946380551179013</td>\n",
       "      <td>[[0.1, 0.2, 0.3, 0.4, 0.5, 0.6, 0.7, 0.8, 0.9,...</td>\n",
       "    </tr>\n",
       "    <tr>\n",
       "      <th>192</th>\n",
       "      <td>E + CO2(v20) =&gt; E + CO2(v2)</td>\n",
       "      <td>DEEXCITATION</td>\n",
       "      <td>-4.658215239748309</td>\n",
       "      <td>[[0.1, 0.2, 0.3, 0.4, 0.5, 0.6, 0.7, 0.8, 0.9,...</td>\n",
       "    </tr>\n",
       "    <tr>\n",
       "      <th>193</th>\n",
       "      <td>E + CO2(v20) =&gt; E + CO2(v3)</td>\n",
       "      <td>DEEXCITATION</td>\n",
       "      <td>-4.373142094200673</td>\n",
       "      <td>[[0.1, 0.2, 0.3, 0.4, 0.5, 0.6, 0.7, 0.8, 0.9,...</td>\n",
       "    </tr>\n",
       "    <tr>\n",
       "      <th>194</th>\n",
       "      <td>E + CO2(v20) =&gt; E + CO2(v4)</td>\n",
       "      <td>DEEXCITATION</td>\n",
       "      <td>-4.091161114536101</td>\n",
       "      <td>[[0.1, 0.2, 0.3, 0.4, 0.5, 0.6, 0.7, 0.8, 0.9,...</td>\n",
       "    </tr>\n",
       "    <tr>\n",
       "      <th>195</th>\n",
       "      <td>E + CO2(v20) =&gt; E + CO2(v5)</td>\n",
       "      <td>DEEXCITATION</td>\n",
       "      <td>-3.812"
      ],
      "text/plain": [
       "                          formula          type          threshold_eV  \\\n",
       "0          E + CO2 => E + CO2(v1)    EXCITATION    0.2912574773137701   \n",
       "1          E + CO2 => E + CO2(v2)    EXCITATION    0.5794227887444736   \n",
       "2          E + CO2 => E + CO2(v3)    EXCITATION    0.8644959342921104   \n",
       "3          E + CO2 => E + CO2(v4)    EXCITATION    1.1464769139566813   \n",
       "4          E + CO2 => E + CO2(v5)    EXCITATION    1.4253657277381855   \n",
       "5          E + CO2 => E + CO2(v6)    EXCITATION     1.701162375636623   \n",
       "6          E + CO2 => E + CO2(v7)    EXCITATION    1.9738668576519955   \n",
       "7          E + CO2 => E + CO2(v8)    EXCITATION       2.2434791737843   \n",
       "8          E + CO2 => E + CO2(v9)    EXCITATION    2.5099993240335396   \n",
       "9         E + CO2 => E + CO2(v10)    EXCITATION    2.7734273083997114   \n",
       "10        E + CO2 => E + CO2(v11)    EXCITATION    3.0337631268828176   \n",
       "11        E + CO2 => E + CO2(v12)    EXCITATION    3.2910067794828572   \n",
       "12        E + CO2 => E + CO2(v13)    EXCITATION    3.5451582661998304   \n",
       "13        E + CO2 => E + CO2(v14)    EXCITATION    3.7962175870337367   \n",
       "14        E + CO2 => E + CO2(v15)    EXCITATION     4.044184741984577   \n",
       "15        E + CO2 => E + CO2(v16)    EXCITATION     4.289059731052351   \n",
       "16        E + CO2 => E + CO2(v17)    EXCITATION     4.530842554237059   \n",
       "17        E + CO2 => E + CO2(v18)    EXCITATION    4.7695332115386995   \n",
       "18        E + CO2 => E + CO2(v19)    EXCITATION     5.005131702957276   \n",
       "19        E + CO2 => E + CO2(v20)    EXCITATION     5.237638028492783   \n",
       "20     E + CO2(v1) => E + CO2(v2)    EXCITATION    0.2881653114307035   \n",
       "21     E + CO2(v1) => E + CO2(v3)    EXCITATION    0.5732384569783402   \n",
       "22     E + CO2(v1) => E + CO2(v4)    EXCITATION    0.8552194366429111   \n",
       "23     E + CO2(v1) => E + CO2(v5)    EXCITATION    1.1341082504244153   \n",
       "24     E + CO2(v1) => E + CO2(v6)    EXCITATION    1.4099048983228528   \n",
       "25     E + CO2(v1) => E + CO2(v7)    EXCITATION    1.6826093803382254   \n",
       "26     E + CO2(v1) => E + CO2(v8)    EXCITATION      1.95222169647053   \n",
       "27     E + CO2(v1) => E + CO2(v9)    EXCITATION    2.2187418467197695   \n",
       "28    E + CO2(v1) => E + CO2(v10)    EXCITATION    2.4821698310859412   \n",
       "29    E + CO2(v1) => E + CO2(v11)    EXCITATION    2.7425056495690474   \n",
       "..                            ...           ...                   ...   \n",
       "180   E + CO2(v19) => E + CO2(v9)  DEEXCITATION   -2.4951323789237363   \n",
       "181  E + CO2(v19) => E + CO2(v10)  DEEXCITATION   -2.2317043945575645   \n",
       "182  E + CO2(v19) => E + CO2(v11)  DEEXCITATION   -1.9713685760744584   \n",
       "183  E + CO2(v19) => E + CO2(v12)  DEEXCITATION   -1.7141249234744187   \n",
       "184  E + CO2(v19) => E + CO2(v13)  DEEXCITATION   -1.4599734367574455   \n",
       "185  E + CO2(v19) => E + CO2(v14)  DEEXCITATION   -1.2089141159235393   \n",
       "186  E + CO2(v19) => E + CO2(v15)  DEEXCITATION   -0.9609469609726986   \n",
       "187  E + CO2(v19) => E + CO2(v16)  DEEXCITATION   -0.7160719719049249   \n",
       "188  E + CO2(v19) => E + CO2(v17)  DEEXCITATION   -0.4742891487202172   \n",
       "189  E + CO2(v19) => E + CO2(v18)  DEEXCITATION  -0.23559849141857647   \n",
       "190       E + CO2(v20) => E + CO2  DEEXCITATION    -5.237638028492783   \n",
       "191   E + CO2(v20) => E + CO2(v1)  DEEXCITATION    -4.946380551179013   \n",
       "192   E + CO2(v20) => E + CO2(v2)  DEEXCITATION    -4.658215239748309   \n",
       "193   E + CO2(v20) => E + CO2(v3)  DEEXCITATION    -4.373142094200673   \n",
       "194   E + CO2(v20) => E + CO2(v4)  DEEXCITATION    -4.091161114536101   \n",
       "195   E + CO2(v20) => E + CO2(v5)  DEEXCITATION   -3.8122723007545973   \n",
       "196   E + CO2(v20) => E + CO2(v6)  DEEXCITATION   -3.5364756528561596   \n",
       "197   E + CO2(v20) => E + CO2(v7)  DEEXCITATION    -3.263771170840787   \n",
       "198   E + CO2(v20) => E + CO2(v8)  DEEXCITATION   -2.9941588547084828   \n",
       "199   E + CO2(v20) => E + CO2(v9)  DEEXCITATION    -2.727638704459243   \n",
       "200  E + CO2(v20) => E + CO2(v10)  DEEXCITATION   -2.4642107200930714   \n",
       "201  E + CO2(v20) => E + CO2(v11)  DEEXCITATION   -2.2038749016099652   \n",
       "202  E + CO2(v20) => E + CO2(v12)  DEEXCITATION   -1.9466312490099256   \n",
       "203  E + CO2(v20) => E + CO2(v13)  DEEXCITATION   -1.6924797622929524   \n",
       "204  E + CO2(v20) => E + CO2(v14)  DEEXCITATION   -1.4414204414590461   \n",
       "205  E + CO2(v20) => E + CO2(v15)  DEEXCITATION   -1.1934532865082055   \n",
       "206  E + CO2(v20) => E + CO2(v16)  DEEXCITATION   -0.9485782974404318   \n",
       "207  E + CO2(v20) => E + CO2(v17)  DEEXCITATION   -0.7067954742557241   \n",
       "208  E + CO2(v20) => E + CO2(v18)  DEEXCITATION  -0.46810481695408335   \n",
       "209  E + CO2(v20) => E + CO2(v19)  DEEXCITATION  -0.23250632553550687   \n",
       "\n",
       "                                         cross_section  \n",
       "0    [[0.291, 0.3, 0.31, 0.32, 0.33, 0.35, 0.38, 0....  \n",
       "1    [[0.57939, 0.58839, 0.59839, 0.60839, 0.61839,...  \n",
       "2    [[0.86469, 0.87369, 0.88369, 0.89369, 0.90369,...  \n",
       "3    [[1.1469, 1.1559, 1.1659, 1.1759, 1.1859, 1.20...  \n",
       "4    [[1.42601, 1.43501, 1.44501, 1.45501, 1.46501,...  \n",
       "5    [[1.70203, 1.71103, 1.72103, 1.73103, 1.74103,...  \n",
       "6    [[1.97495, 1.98395, 1.99395, 2.00395, 2.01395,...  \n",
       "7    [[2.24478, 2.25378, 2.26378, 2.27378, 2.28378,...  \n",
       "8    [[2.51151, 2.52051, 2.53051, 2.54051, 2.55051,...  \n",
       "9    [[2.77515, 2.78415, 2.79415, 2.80415, 2.81415,...  \n",
       "10   [[3.03569, 3.04469, 3.05469, 3.06469, 3.07469,...  \n",
       "11   [[3.29314, 3.30214, 3.31214, 3.32214, 3.33214,...  \n",
       "12   [[3.54749, 3.55649, 3.56649, 3.57649, 3.58649,...  \n",
       "13   [[3.79875, 3.80775, 3.81775, 3.82775, 3.83775,...  \n",
       "14   [[4.04692, 4.05592, 4.06592, 4.07592, 4.08592,...  \n",
       "15   [[4.29199, 4.30099, 4.31099, 4.32099, 4.33099,...  \n",
       "16   [[4.53396, 4.54296, 4.55296, 4.56296, 4.57296,...  \n",
       "17   [[4.77284, 4.78184, 4.79184, 4.80184, 4.81184,...  \n",
       "18   [[5.00863, 5.01763, 5.02763, 5.03763, 5.04763,...  \n",
       "19   [[5.24132, 5.25032, 5.26032, 5.27032, 5.28032,...  \n",
       "20   [[0.28791, 0.29691, 0.30691, 0.31691, 0.32691,...  \n",
       "21   [[0.57321, 0.58221, 0.59221, 0.60221, 0.61221,...  \n",
       "22   [[0.85541, 0.86441, 0.87441, 0.88441, 0.89441,...  \n",
       "23   [[1.13452, 1.14352, 1.15352, 1.16352, 1.17352,...  \n",
       "24   [[1.41054, 1.41954, 1.42954, 1.43954, 1.44954,...  \n",
       "25   [[1.68346, 1.69246, 1.70246, 1.71246, 1.72246,...  \n",
       "26   [[1.95329, 1.96229, 1.97229, 1.98229, 1.99229,...  \n",
       "27   [[2.22002, 2.22902, 2.23902, 2.24902, 2.25902,...  \n",
       "28   [[2.48366, 2.49266, 2.50266, 2.51266, 2.52266,...  \n",
       "29   [[2.7442, 2.7532, 2.7632, 2.7732, 2.7832, 2.80...  \n",
       "..                                                 ...  \n",
       "180  [[0.1, 0.2, 0.3, 0.4, 0.5, 0.6, 0.7, 0.8, 0.9,...  \n",
       "181  [[0.1, 0.2, 0.3, 0.4, 0.5, 0.6, 0.7, 0.8, 0.9,...  \n",
       "182  [[0.1, 0.2, 0.3, 0.4, 0.5, 0.6, 0.7, 0.8, 0.9,...  \n",
       "183  [[0.1, 0.2, 0.3, 0.4, 0.5, 0.6, 0.7, 0.8, 0.9,...  \n",
       "184  [[0.1, 0.2, 0.3, 0.4, 0.5, 0.6, 0.7, 0.8, 0.9,...  \n",
       "185  [[0.1, 0.2, 0.3, 0.4, 0.5, 0.6, 0.7, 0.8, 0.9,...  \n",
       "186  [[0.1, 0.2, 0.3, 0.4, 0.5, 0.6, 0.7, 0.8, 0.9,...  \n",
       "187  [[0.1, 0.2, 0.3, 0.4, 0.5, 0.6, 0.7, 0.8, 0.9,...  \n",
       "188  [[0.1, 0.2, 0.3, 0.4, 0.5, 0.6, 0.7, 0.8, 0.9,...  \n",
       "189  [[0.1, 0.2, 0.3, 0.4, 0.5, 0.6, 0.7, 0.8, 0.9,...  \n",
       "190  [[0.1, 0.2, 0.3, 0.4, 0.5, 0.6, 0.7, 0.8, 0.9,...  \n",
       "191  [[0.1, 0.2, 0.3, 0.4, 0.5, 0.6, 0.7, 0.8, 0.9,...  \n",
       "192  [[0.1, 0.2, 0.3, 0.4, 0.5, 0.6, 0.7, 0.8, 0.9,...  \n",
       "193  [[0.1, 0.2, 0.3, 0.4, 0.5, 0.6, 0.7, 0.8, 0.9,...  \n",
       "194  [[0.1, 0.2, 0.3, 0.4, 0.5, 0.6, 0.7, 0.8, 0.9,...  \n",
       "195  [[0.1, 0.2, 0.3, 0.4, 0.5, 0.6, 0.7, 0.8, 0.9,...  \n",
       "196  [[0.1, 0.2, 0.3, 0.4, 0.5, 0.6, 0.7, 0.8, 0.9,...  \n",
       "197  [[0.1, 0.2, 0.3, 0.4, 0.5, 0.6, 0.7, 0.8, 0.9,...  \n",
       "198  [[0.1, 0.2, 0.3, 0.4, 0.5, 0.6, 0.7, 0.8, 0.9,...  \n",
       "199  [[0.1, 0.2, 0.3, 0.4, 0.5, 0.6, 0.7, 0.8, 0.9,...  \n",
       "200  [[0.1, 0.2, 0.3, 0.4, 0.5, 0.6, 0.7, 0.8, 0.9,...  \n",
       "201  [[0.1, 0.2, 0.3, 0.4, 0.5, 0.6, 0.7, 0.8, 0.9,...  \n",
       "202  [[0.1, 0.2, 0.3, 0.4, 0.5, 0.6, 0.7, 0.8, 0.9,...  \n",
       "203  [[0.1, 0.2, 0.3, 0.4, 0.5, 0.6, 0.7, 0.8, 0.9,...  \n",
       "204  [[0.1, 0.2, 0.3, 0.4, 0.5, 0.6, 0.7, 0.8, 0.9,...  \n",
       "205  [[0.1, 0.2, 0.3, 0.4, 0.5, 0.6, 0.7, 0.8, 0.9,...  \n",
       "206  [[0.1, 0.2, 0.3, 0.4, 0.5, 0.6, 0.7, 0.8, 0.9,...  \n",
       "207  [[0.1, 0.2, 0.3, 0.4, 0.5, 0.6, 0.7, 0.8, 0.9,...  \n",
       "208  [[0.1, 0.2, 0.3, 0.4, 0.5, 0.6, 0.7, 0.8, 0.9,...  \n",
       "209  [[0.1, 0.2, 0.3, 0.4, 0.5, 0.6, 0.7, 0.8, 0.9,...  \n",
       "\n",
       "[420 rows x 4 columns]"
      ]
     },
     "execution_count": 5,
     "metadata": {},
     "output_type": "execute_result"
    },
    {
     "data": {
      "text/html": [
       "<b>limit_output extension: Maximum message size of 10000 exceeded with 13126 characters</b>"
      ]
     },
     "metadata": {},
     "output_type": "display_data"
    }
   ],
   "source": [
    "# inelas_df = inelas_df.iloc[[0,1,2,3,4,5,6,7,8]].reset_index(drop=True)\n",
    "# inelas_df = inelas_df.iloc[[0,1,2]].reset_index(drop=True)\n",
    "inelas_df"
   ]
  },
  {
   "cell_type": "markdown",
   "metadata": {},
   "source": [
    "# Init EEDF"
   ]
  },
  {
   "cell_type": "code",
   "execution_count": 8,
   "metadata": {
    "ExecuteTime": {
     "end_time": "2019-09-09T03:06:20.457308Z",
     "start_time": "2019-09-09T03:06:20.333640Z"
    }
   },
   "outputs": [],
   "source": [
    "eedf = EEDF(max_energy_eV=30, grid_number=600)\n",
    "total_species = ['E','H2','CO2'] + [f'H2(v{v})' for v in range(1, 15)] + [f'CO2(v{v})' for v in range(1, 22)]"
   ]
  },
  {
   "cell_type": "code",
   "execution_count": 9,
   "metadata": {
    "ExecuteTime": {
     "end_time": "2019-09-09T03:06:23.946981Z",
     "start_time": "2019-09-09T03:06:20.459303Z"
    }
   },
   "outputs": [],
   "source": [
    "eedf.initialize(rctn_with_crostn_df=inelas_df, total_species=total_species)"
   ]
  },
  {
   "cell_type": "markdown",
   "metadata": {
    "heading_collapsed": true
   },
   "source": [
    "## properties"
   ]
  },
  {
   "cell_type": "code",
   "execution_count": 10,
   "metadata": {
    "ExecuteTime": {
     "end_time": "2019-09-09T03:06:23.980891Z",
     "start_time": "2019-09-09T03:06:23.947979Z"
    },
    "hidden": true
   },
   "outputs": [
    {
     "data": {
      "text/plain": [
       "array([[ 0.0e+00,  0.0e+00,  0.0e+00,  0.0e+00,  0.0e+00, ...,  0.0e+00,  0.0e+00,  0.0e+00,  0.0e+00,  0.0e+00],\n",
       "       [ 0.0e+00,  0.0e+00,  0.0e+00,  0.0e+00,  0.0e+00, ...,  0.0e+00,  0.0e+00,  0.0e+00,  0.0e+00,  0.0e+00],\n",
       "       [ 0.0e+00,  0.0e+00,  0.0e+00,  0.0e+00,  0.0e+00, ...,  0.0e+00,  0.0e+00,  0.0e+00,  0.0e+00,  0.0e+00],\n",
       "       [ 0.0e+00,  0.0e+00,  0.0e+00,  0.0e+00,  0.0e+00, ...,  0.0e+00,  0.0e+00,  0.0e+00,  0.0e+00,  0.0e+00],\n",
       "       [ 0.0e+00,  0.0e+00,  0.0e+00,  0.0e+00,  0.0e+00, ...,  0.0e+00,  0.0e+00,  0.0e+00,  0.0e+00,  0.0e+00],\n",
       "       ...,\n",
       "       [ 0.0e+00,  0.0e+00,  0.0e+00,  0.0e+00,  0.0e+00, ..., -8.5e-15,  0.0e+00,  0.0e+00,  0.0e+00,  0.0e+00],\n",
       "       [ 0.0e+00,  0.0e+00,  0.0e+00,  0.0e+00,  0.0e+00, ...,  0.0e+00, -8.5e-15,  0.0e+00,  0.0e+00,  0.0e+00],\n",
       "       [ 0.0e+00,  0.0e+00,  0.0e+00,  0.0e+00,  0.0e+00, ...,  0.0e+00,  0.0e+00, -8.5e-15,  0.0e+00,  0.0e+00],\n",
       "       [ 0.0e+00,  0.0e+00,  0.0e+00,  0.0e+00,  0.0e+00, ...,  0.0e+00,  0.0e+00,  0.0e+00, -8.5e-15,  0.0e+00],\n",
       "       [ 0.0e+00,  0.0e+00,  0.0e+00,  0.0e+00,  0.0e+00, ...,  0.0e+00,  0.0e+00,  0.0e+00,  0.0e+00, -8.4e-15]])"
      ]
     },
     "execution_count": 10,
     "metadata": {},
     "output_type": "execute_result"
    }
   ],
   "source": [
    "eedf.rate_const_matrix_e_inelas_electron.toarray()"
   ]
  },
  {
   "cell_type": "code",
   "execution_count": 11,
   "metadata": {
    "ExecuteTime": {
     "end_time": "2019-09-09T03:06:24.030757Z",
     "start_time": "2019-09-09T03:06:23.982886Z"
    },
    "hidden": true
   },
   "outputs": [
    {
     "data": {
      "text/plain": [
       "(12600, 600)"
      ]
     },
     "execution_count": 11,
     "metadata": {},
     "output_type": "execute_result"
    }
   ],
   "source": [
    "eedf.rate_const_matrix_e_inelas_electron.shape"
   ]
  },
  {
   "cell_type": "code",
   "execution_count": 12,
   "metadata": {
    "ExecuteTime": {
     "end_time": "2019-09-09T03:06:24.114534Z",
     "start_time": "2019-09-09T03:06:24.031755Z"
    },
    "hidden": true
   },
   "outputs": [
    {
     "data": {
      "text/plain": [
       "(420, 600)"
      ]
     },
     "execution_count": 12,
     "metadata": {},
     "output_type": "execute_result"
    }
   ],
   "source": [
    "eedf.rate_const_matrix_e_inelas_molecule.shape"
   ]
  },
  {
   "cell_type": "code",
   "execution_count": 13,
   "metadata": {
    "ExecuteTime": {
     "end_time": "2019-09-09T03:06:24.471579Z",
     "start_time": "2019-09-09T03:06:24.115531Z"
    },
    "hidden": true
   },
   "outputs": [
    {
     "data": {
      "text/plain": [
       "<matplotlib.image.AxesImage at 0x18a4b80c6d8>"
      ]
     },
     "execution_count": 13,
     "metadata": {},
     "output_type": "execute_result"
    },
    {
     "data": {
      "image/png": "[encoded data removed]",
      "text/plain": [
       "<Figure size 925.714x648 with 1 Axes>"
      ]
     },
     "metadata": {
      "needs_background": "light"
     },
     "output_type": "display_data"
    }
   ],
   "source": [
    "plt.matshow(eedf.rate_const_matrix_e_inelas_molecule)"
   ]
  },
  {
   "cell_type": "code",
   "execution_count": 14,
   "metadata": {
    "ExecuteTime": {
     "end_time": "2019-09-09T03:06:24.477564Z",
     "start_time": "2019-09-09T03:06:24.473574Z"
    },
    "hidden": true
   },
   "outputs": [
    {
     "data": {
      "text/plain": [
       "2"
      ]
     },
     "execution_count": 14,
     "metadata": {},
     "output_type": "execute_result"
    }
   ],
   "source": [
    "eedf.n_bg_molecule_elas"
   ]
  },
  {
   "cell_type": "code",
   "execution_count": 15,
   "metadata": {
    "ExecuteTime": {
     "end_time": "2019-09-09T03:06:24.556353Z",
     "start_time": "2019-09-09T03:06:24.479559Z"
    },
    "hidden": true
   },
   "outputs": [
    {
     "data": {
      "text/plain": [
       "['H2', 'CO2']"
      ]
     },
     "execution_count": 15,
     "metadata": {},
     "output_type": "execute_result"
    }
   ],
   "source": [
    "eedf.bg_molecule_elas"
   ]
  },
  {
   "cell_type": "code",
   "execution_count": 16,
   "metadata": {
    "ExecuteTime": {
     "end_time": "2019-09-09T03:06:24.648107Z",
     "start_time": "2019-09-09T03:06:24.558348Z"
    },
    "hidden": true
   },
   "outputs": [
    {
     "data": {
      "text/plain": [
       "21"
      ]
     },
     "execution_count": 16,
     "metadata": {},
     "output_type": "execute_result"
    }
   ],
   "source": [
    "eedf.n_bg_molecule_inelas"
   ]
  },
  {
   "cell_type": "code",
   "execution_count": 17,
   "metadata": {
    "ExecuteTime": {
     "end_time": "2019-09-09T03:06:24.722908Z",
     "start_time": "2019-09-09T03:06:24.649105Z"
    },
    "hidden": true
   },
   "outputs": [
    {
     "data": {
      "text/plain": [
       "array(['CO2', 'CO2(v1)', 'CO2(v10)', 'CO2(v11)', 'CO2(v12)', 'CO2(v13)', 'CO2(v14)', 'CO2(v15)', 'CO2(v16)', 'CO2(v17)',\n",
       "       'CO2(v18)', 'CO2(v19)', 'CO2(v2)', 'CO2(v20)', 'CO2(v3)', 'CO2(v4)', 'CO2(v5)', 'CO2(v6)', 'CO2(v7)', 'CO2(v8)',\n",
       "       'CO2(v9)'], dtype=object)"
      ]
     },
     "execution_count": 17,
     "metadata": {},
     "output_type": "execute_result"
    }
   ],
   "source": [
    "eedf.bg_molecule_inelas"
   ]
  },
  {
   "cell_type": "code",
   "execution_count": 18,
   "metadata": {
    "ExecuteTime": {
     "end_time": "2019-09-09T03:06:24.805687Z",
     "start_time": "2019-09-09T03:06:24.723905Z"
    },
    "hidden": true
   },
   "outputs": [
    {
     "data": {
      "text/plain": [
       "420"
      ]
     },
     "execution_count": 18,
     "metadata": {},
     "output_type": "execute_result"
    }
   ],
   "source": [
    "eedf.n_inelas_rctn"
   ]
  },
  {
   "cell_type": "code",
   "execution_count": 19,
   "metadata": {
    "ExecuteTime": {
     "end_time": "2019-09-09T03:06:24.898438Z",
     "start_time": "2019-09-09T03:06:24.806684Z"
    },
    "hidden": true
   },
   "outputs": [
    {
     "data": {
      "text/plain": [
       "array(['CO2', 'CO2', 'CO2', 'CO2', 'CO2', 'CO2', 'CO2', 'CO2', 'CO2', 'CO2', 'CO2', 'CO2', 'CO2', 'CO2', 'CO2', 'CO2', 'CO2',\n",
       "       'CO2', 'CO2', 'CO2', 'CO2(v1)', 'CO2(v1)', 'CO2(v1)', 'CO2(v1)', 'CO2(v1)', 'CO2(v1)', 'CO2(v1)', 'CO2(v1)', 'CO2(v1)',\n",
       "       'CO2(v1)', 'CO2(v1)', 'CO2(v1)', 'CO2(v1)', 'CO2(v1)', 'CO2(v1)', 'CO2(v1)', 'CO2(v1)', 'CO2(v1)', 'CO2(v1)', 'CO2(v2)',\n",
       "       'CO2(v2)', 'CO2(v2)', 'CO2(v2)', 'CO2(v2)', 'CO2(v2)', 'CO2(v2)', 'CO2(v2)', 'CO2(v2)', 'CO2(v2)', 'CO2(v2)', 'CO2(v2)',\n",
       "       'CO2(v2)', 'CO2(v2)', 'CO2(v2)', 'CO2(v2)', 'CO2(v2)', 'CO2(v2)', 'CO2(v3)', 'CO2(v3)', 'CO2(v3)', 'CO2(v3)', 'CO2(v3)',\n",
       "       'CO2(v3)', 'CO2(v3)', 'CO2(v3)', 'CO2(v3)', 'CO2(v3)', 'CO2(v3)', 'CO2(v3)', 'CO2(v3)', 'CO2(v3)', 'CO2(v3)', 'CO2(v3)',\n",
       "       'CO2(v3)', 'CO2(v4)', 'CO2(v4)', 'CO2(v4)', 'CO2(v4)', 'CO2(v4)', 'CO2(v4)', 'CO2(v4)', 'CO2(v4)', 'CO2(v4)', 'CO2(v4)',\n",
       "       'CO2(v4)', 'CO2(v4)', 'CO2(v4)', 'CO2(v4)', 'CO2(v4)', 'CO2(v4)', 'CO2(v5)', 'CO2(v5)', 'CO2(v5)', 'CO2(v5)', 'CO2(v5)',\n",
       "       'CO2(v5)', 'CO2(v5)', 'CO2(v5)', 'CO2(v5)', 'CO2(v5)', 'CO2(v5)', 'CO2(v5)', 'CO2(v5)', 'CO2(v5)', 'CO2(v5)', 'CO2(v6)',\n",
       "       'CO2(v6)', 'CO2(v6)', 'CO2(v6)', 'CO2(v6)', 'CO2(v6)', 'CO2(v6)', 'CO2(v6)', 'CO2(v6)', 'CO2(v6)', 'CO2(v6)', 'CO2(v6)',\n",
       "       'CO2(v6)', 'CO2(v6)', 'CO2(v7)', 'CO2(v7)', 'CO2(v7)', 'CO2(v7)', 'CO2(v7)', 'CO2(v7)', 'CO2(v7)', 'CO2(v7)', 'CO2(v7)',\n",
       "       'CO2(v7)', 'CO2(v7)', 'CO2(v7)', 'CO2(v7)', 'CO2(v8)', 'CO2(v8)', 'CO2(v8)', 'CO2(v8)', 'CO2(v8)', 'CO2(v8)', 'CO2(v8)',\n",
       "       'CO2(v8)', 'CO2(v8)', 'CO2(v8)', 'CO2(v8)', 'CO2(v8)', 'CO2(v9)', 'CO2(v9)', 'CO2(v9)', 'CO2(v9)', 'CO2(v9)', 'CO2(v9)',\n",
       "       'CO2(v9)', 'CO2(v9)', 'CO2(v9)', 'CO2(v9)', 'CO2(v9)', 'CO2(v10)', 'CO2(v10)', 'CO2(v10)', 'CO2(v10)', 'CO2(v10)',\n",
       "       'CO2(v10)', 'CO2(v10)', 'CO2(v10)', 'CO2(v10)', 'CO2(v10)', 'CO2(v11)', 'CO2(v11)', 'CO2(v11)', 'CO2(v11)', 'CO2(v11)',\n",
       "       'CO2(v11)', 'CO2(v11)', 'CO2(v11)', 'CO2(v11)', 'CO2(v12)', 'CO2(v12)', 'CO2(v12)', 'CO2(v12)', 'CO2(v12)', 'CO2(v12)',\n",
       "       'CO2(v12)', 'CO2(v12)', 'CO2(v13)', 'CO2(v13)', 'CO2(v13)', 'CO2(v13)', 'CO2(v13)', 'CO2(v13)', 'CO2(v13)', 'CO2(v14)',\n",
       "       'CO2(v14)', 'CO2(v14)', 'CO2(v14)', 'CO2(v14)', 'CO2(v14)', 'CO2(v15)', 'CO2(v15)', 'CO2(v15)', 'CO2(v15)', 'CO2(v15)',\n",
       "       'CO2(v16)', 'CO2(v16)', 'CO2(v16)', 'CO2(v16)', 'CO2(v17)', 'CO2(v17)', 'CO2(v17)', 'CO2(v18)', 'CO2(v18)', 'CO2(v19)',\n",
       "       'CO2(v1)', 'CO2(v2)', 'CO2(v2)', 'CO2(v3)', 'CO2(v3)', 'CO2(v3)', 'CO2(v4)', 'CO2(v4)', 'CO2(v4)', 'CO2(v4)', 'CO2(v5)',\n",
       "       'CO2(v5)', 'CO2(v5)', 'CO2(v5)', 'CO2(v5)', 'CO2(v6)', 'CO2(v6)', 'CO2(v6)', 'CO2(v6)', 'CO2(v6)', 'CO2(v6)', 'CO2(v7)',\n",
       "       'CO2(v7)', 'CO2(v7)', 'CO2(v7)', 'CO2(v7)', 'CO2(v7)', 'CO2(v7)', 'CO2(v8)', 'CO2(v8)', 'CO2(v8)', 'CO2(v8)', 'CO2(v8)',\n",
       "       'CO2(v8)', 'CO2(v8)', 'CO2(v8)', 'CO2(v9)', 'CO2(v9)', 'CO2(v9)', 'CO2(v9)', 'CO2(v9)', 'CO2(v9)', 'CO2(v9)', 'CO2(v9)',\n",
       "       'CO2(v9)', 'CO2(v10)', 'CO2(v10)', 'CO2(v10)', 'CO2(v10)', 'CO2(v10)', 'CO2(v10)', 'CO2(v10)', 'CO2(v10)', 'CO2(v10)',\n",
       "       'CO2(v10)', 'CO2(v11)', 'CO2(v11)', 'CO2(v11)', 'CO2(v11)', 'CO2(v11)', 'CO2(v11)', 'CO2(v11)', 'CO2(v11)', 'CO2(v11)',\n",
       "       'CO2(v11)', 'CO2(v11)', 'CO2(v12)', 'CO2(v12)', 'CO2(v12)', 'CO2(v12)', 'CO2(v12)', 'CO2(v12)', 'CO2(v12)', 'CO2(v12)',\n",
       "       'CO2(v12)', 'CO2(v12)', 'CO2(v12)', 'CO2(v12)', 'CO2(v13)', 'CO2(v13)', 'CO2(v13)', 'CO2(v13)', 'CO2(v13)', 'CO2(v13)',\n",
       "       'CO2(v13)', 'CO2(v13)', 'CO2(v13)', 'CO2(v13)', 'CO2(v13)', 'CO2(v13)', 'CO2(v13)', 'CO2(v14)', 'CO2(v14)', 'CO2(v14)',\n",
       "       'CO2(v14)', 'CO2(v14)', 'CO2(v14)', 'CO2(v14)', 'CO2(v14)', 'CO2(v14)', 'CO2(v14)', 'CO2(v14)', 'CO2(v14)', 'CO2(v14)',\n",
       "       'CO2(v14)', 'CO2(v15)', 'CO2(v15)', 'CO2(v15)', 'CO2(v15)', 'CO2(v15)', 'CO2(v15)', 'CO2(v15)', 'CO2(v15)', 'CO2(v15)',\n",
       "       'CO2(v15)', 'CO2(v15)', 'CO2(v15)', 'CO2(v15)', 'CO2(v15)', 'CO2(v15)', 'CO2(v16)', 'CO2(v16)', 'CO2(v16)', 'CO2(v16)',\n",
       "       'CO2(v16)', 'CO2(v16)', 'CO2(v16)', 'CO2(v16)', 'CO2(v16)', 'CO2(v16)', 'CO2(v16)', 'CO2(v16)', 'CO2(v16)', 'CO2(v16)',\n",
       "       'CO2(v16)', 'CO2(v16)', 'CO2(v17)', 'CO2(v17)', 'CO2(v17)', 'CO2(v17)', 'CO2(v17)', 'CO2(v17)', 'CO2(v17)', 'CO2(v17)',\n",
       "       'CO2(v17)', 'CO2(v17)', 'CO2(v17)', 'CO2(v17)', 'CO2(v17)', 'CO2(v17)', 'CO2(v17)', 'CO2(v17)', 'CO2(v17)', 'CO2(v18)',\n",
       "       'CO2(v18)', 'CO2(v18)', 'CO2(v18)', 'CO2(v18)', 'CO2(v18)', 'CO2(v18)', 'CO2(v18)', 'CO2(v18)', 'CO2(v18)', 'CO2(v18)',\n",
       "       'CO2(v18)', 'CO2(v18)', 'CO2(v18)', 'CO2(v18)', 'CO2(v18)', 'CO2(v18)', 'CO2(v18)', 'CO2(v19)', 'CO2(v19)', 'CO2(v19)',\n",
       "       'CO2(v19)', 'CO2(v19)', 'CO2(v19)', 'CO2(v19)', 'CO2(v19)', 'CO2(v19)', 'CO2(v19)', 'CO2(v19)', 'CO2(v19)', 'CO2(v19)',\n",
       "       'CO2(v19)', 'CO2(v19)', 'CO2(v19)', 'CO2(v19)', 'CO2(v19)', 'CO2(v19)', 'CO2(v20)', 'CO2(v20)', 'CO2(v20)', 'CO2(v20)',\n",
       "       'CO2(v20)', 'CO2(v20)', 'CO2(v20)', 'CO2(v20)', 'CO2(v20)', 'CO2(v20)', 'CO2(v20)', 'CO2(v20)', 'CO2(v20)', 'CO2(v20)',\n",
       "       'CO2(v20)', 'CO2(v20)', 'CO2(v20)', 'CO2(v20)', 'CO2(v20)', 'CO2(v20)'], dtype=object)"
      ]
     },
     "execution_count": 19,
     "metadata": {},
     "output_type": "execute_result"
    }
   ],
   "source": [
    "eedf.bg_molecule_inelas_in_order"
   ]
  },
  {
   "cell_type": "code",
   "execution_count": 20,
   "metadata": {
    "ExecuteTime": {
     "end_time": "2019-09-09T03:06:25.910734Z",
     "start_time": "2019-09-09T03:06:24.899436Z"
    },
    "hidden": true
   },
   "outputs": [
    {
     "data": {
      "text/plain": [
       "<matplotlib.lines.Line2D at 0x18a4b858630>"
      ]
     },
     "execution_count": 20,
     "metadata": {},
     "output_type": "execute_result"
    },
    {
     "data": {
      "image/png": "[encoded data removed]",
      "text/plain": [
       "<Figure size 864x648 with 1 Axes>"
      ]
     },
     "metadata": {
      "needs_background": "light"
     },
     "output_type": "display_data"
    }
   ],
   "source": [
    "plt.spy(eedf.rate_const_matrix_e_inelas_electron, markersize=2)"
   ]
  },
  {
   "cell_type": "code",
   "execution_count": 21,
   "metadata": {
    "ExecuteTime": {
     "end_time": "2019-09-09T03:06:25.917715Z",
     "start_time": "2019-09-09T03:06:25.911731Z"
    },
    "hidden": true
   },
   "outputs": [
    {
     "data": {
      "text/plain": [
       "array([[0.0e+00, 0.0e+00, 0.0e+00, 0.0e+00, 0.0e+00, ..., 2.6e-35, 2.6e-35, 2.6e-35, 2.6e-35, 2.6e-35],\n",
       "       [0.0e+00, 0.0e+00, 0.0e+00, 0.0e+00, 0.0e+00, ..., 1.6e-35, 1.6e-35, 1.6e-35, 1.6e-35, 1.6e-35],\n",
       "       [0.0e+00, 0.0e+00, 0.0e+00, 0.0e+00, 0.0e+00, ..., 1.0e-35, 1.0e-35, 1.0e-35, 1.0e-35, 1.0e-35],\n",
       "       [0.0e+00, 0.0e+00, 0.0e+00, 0.0e+00, 0.0e+00, ..., 6.2e-36, 6.2e-36, 6.2e-36, 6.2e-36, 6.2e-36],\n",
       "       [0.0e+00, 0.0e+00, 0.0e+00, 0.0e+00, 0.0e+00, ..., 3.8e-36, 3.8e-36, 3.8e-36, 3.8e-36, 3.8e-36],\n",
       "       ...,\n",
       "       [7.1e-36, 3.7e-35, 5.5e-35, 4.5e-35, 3.6e-35, ..., 0.0e+00, 0.0e+00, 0.0e+00, 0.0e+00, 0.0e+00],\n",
       "       [9.5e-36, 5.0e-35, 7.4e-35, 6.1e-35, 4.9e-35, ..., 0.0e+00, 0.0e+00, 0.0e+00, 0.0e+00, 0.0e+00],\n",
       "       [1.2e-35, 6.3e-35, 9.4e-35, 7.9e-35, 6.4e-35, ..., 0.0e+00, 0.0e+00, 0.0e+00, 0.0e+00, 0.0e+00],\n",
       "       [1.4e-35, 7.3e-35, 1.1e-34, 9.4e-35, 7.8e-35, ..., 0.0e+00, 0.0e+00, 0.0e+00, 0.0e+00, 0.0e+00],\n",
       "       [1.4e-35, 7.0e-35, 1.1e-34, 9.6e-35, 8.0e-35, ..., 0.0e+00, 0.0e+00, 0.0e+00, 0.0e+00, 0.0e+00]])"
      ]
     },
     "execution_count": 21,
     "metadata": {},
     "output_type": "execute_result"
    }
   ],
   "source": [
    "eedf.rate_const_matrix_e_inelas_molecule"
   ]
  },
  {
   "cell_type": "markdown",
   "metadata": {},
   "source": [
    "# Set parameters"
   ]
  },
  {
   "cell_type": "code",
   "execution_count": 49,
   "metadata": {
    "ExecuteTime": {
     "end_time": "2019-09-09T03:10:42.556347Z",
     "start_time": "2019-09-09T03:10:42.553355Z"
    }
   },
   "outputs": [],
   "source": [
    "N = get_ideal_gas_density(p_Pa=1e5, Tgas_K=3500)\n",
    "eedf.set_parameters(E=1200/0.01, Tgas=3500, N=N)"
   ]
  },
  {
   "cell_type": "code",
   "execution_count": 50,
   "metadata": {
    "ExecuteTime": {
     "end_time": "2019-09-09T03:10:42.638128Z",
     "start_time": "2019-09-09T03:10:42.558344Z"
    }
   },
   "outputs": [],
   "source": [
    "total_species_density = np.ones(len(total_species))* N\n",
    "# total_species_density = np.array([0,1,0,0,0])*N\n",
    "def dndt_all(t, y):\n",
    "    eedf.set_density_per_J(y)\n",
    "    eedf.set_flux(total_species_density=total_species_density)\n",
    "    return eedf.get_deriv_total(total_species_density=total_species_density) "
   ]
  },
  {
   "cell_type": "code",
   "execution_count": 51,
   "metadata": {
    "ExecuteTime": {
     "end_time": "2019-09-09T03:11:02.117070Z",
     "start_time": "2019-09-09T03:10:42.640124Z"
    }
   },
   "outputs": [],
   "source": [
    "y0 = get_maxwell_eedf(eedf.energy_point, Te_eV=0.7)*1e20\n",
    "time_span = [0, 1e3]\n",
    "sol = solve_ivp(dndt_all, time_span, y0, method=\"BDF\")"
   ]
  },
  {
   "cell_type": "code",
   "execution_count": 52,
   "metadata": {
    "ExecuteTime": {
     "end_time": "2019-09-09T03:11:02.123055Z",
     "start_time": "2019-09-09T03:11:02.118067Z"
    }
   },
   "outputs": [
    {
     "data": {
      "text/plain": [
       "178"
      ]
     },
     "execution_count": 52,
     "metadata": {},
     "output_type": "execute_result"
    }
   ],
   "source": [
    "len(sol.t)"
   ]
  },
  {
   "cell_type": "code",
   "execution_count": 53,
   "metadata": {
    "ExecuteTime": {
     "end_time": "2019-09-09T03:11:02.490073Z",
     "start_time": "2019-09-09T03:11:02.125050Z"
    },
    "cell_style": "split"
   },
   "outputs": [
    {
     "data": {
      "text/plain": [
       "[<matplotlib.lines.Line2D at 0x18a57c1d208>,\n",
       " <matplotlib.lines.Line2D at 0x18a57c54eb8>,\n",
       " <matplotlib.lines.Line2D at 0x18a57c54b00>,\n",
       " <matplotlib.lines.Line2D at 0x18a57c54668>,\n",
       " <matplotlib.lines.Line2D at 0x18a57c54400>,\n",
       " <matplotlib.lines.Line2D at 0x18a57c54d30>,\n",
       " <matplotlib.lines.Line2D at 0x18a57c54898>,\n",
       " <matplotlib.lines.Line2D at 0x18a57bd16a0>,\n",
       " <matplotlib.lines.Line2D at 0x18a57bd1518>,\n",
       " <matplotlib.lines.Line2D at 0x18a57bd1eb8>,\n",
       " <matplotlib.lines.Line2D at 0x18a57c1dd30>,\n",
       " <matplotlib.lines.Line2D at 0x18a57c4b908>,\n",
       " <matplotlib.lines.Line2D at 0x18a57c4b2b0>,\n",
       " <matplotlib.lines.Line2D at 0x18a57c4bcf8>,\n",
       " <matplotlib.lines.Line2D at 0x18a57c4b2e8>,\n",
       " <matplotlib.lines.Line2D at 0x18a57c4bac8>,\n",
       " <matplotlib.lines.Line2D at 0x18a57c4b358>,\n",
       " <matplotlib.lines.Line2D at 0x18a57c4be80>]"
      ]
     },
     "execution_count": 53,
     "metadata": {},
     "output_type": "execute_result"
    },
    {
     "data": {
      "image/png": "[encoded data removed]",
      "text/plain": [
       "<Figure size 864x648 with 1 Axes>"
      ]
     },
     "metadata": {
      "needs_background": "light"
     },
     "output_type": "display_data"
    }
   ],
   "source": [
    "plt.semilogy(eedf.energy_point_eV, (sol.y.transpose()/np.sqrt(eedf.energy_point)).transpose()[:,::10])"
   ]
  },
  {
   "cell_type": "code",
   "execution_count": 56,
   "metadata": {
    "ExecuteTime": {
     "end_time": "2019-09-09T03:11:03.263008Z",
     "start_time": "2019-09-09T03:11:02.997716Z"
    },
    "cell_style": "center"
   },
   "outputs": [
    {
     "data": {
      "image/png": "[encoded data removed]",
      "text/plain": [
       "<Figure size 864x648 with 1 Axes>"
      ]
     },
     "metadata": {
      "needs_background": "light"
     },
     "output_type": "display_data"
    }
   ],
   "source": [
    "eedf.set_density_per_J(sol.y[:,-1])\n",
    "eedf.plot_normalized_eepf(xlim=(0,30), ylim=(1e-12, 1e2))\n"
   ]
  },
  {
   "cell_type": "code",
   "execution_count": 57,
   "metadata": {
    "ExecuteTime": {
     "end_time": "2019-09-09T03:11:03.271984Z",
     "start_time": "2019-09-09T03:11:03.264005Z"
    }
   },
   "outputs": [],
   "source": [
    "np.savetxt('output.dat', np.vstack((eedf.energy_point_eV, eedf.normalized_eepf_eV)).transpose())"
   ]
  },
  {
   "cell_type": "code",
   "execution_count": 58,
   "metadata": {
    "ExecuteTime": {
     "end_time": "2019-09-09T03:11:03.405627Z",
     "start_time": "2019-09-09T03:11:03.272982Z"
    }
   },
   "outputs": [
    {
     "name": "stdout",
     "output_type": "stream",
     "text": [
      "\n",
      "        \n",
      " ===============\n",
      "        \n",
      "               ENERGY SPACE (eV) : (0.0, 30.0)\n",
      "        \n",
      "     NUMBER OF DISCRETIZED CELLS : 600 cells\n",
      "        \n",
      "            ENERGY INTERVAL (eV) : 0.050 \n",
      "        \n",
      " ===============\n",
      "        \n",
      "            ELECTRON TEMPERATURE : 9.8688 eV\n",
      "        \n",
      "            ELECTRON MEAN ENERGY : 14.8033 eV\n",
      "        \n",
      "                ELECTRON DENSITY : 9.94e+19 m^-3\n",
      "        \n",
      " ===============\n",
      "        \n",
      "              ELECTRIC FIELD (E) : 120000 V/m (1.20 kV/cm) \n",
      "        \n",
      "          GAS TEMPERATURE (Tgas) : 3500 K\n",
      "        \n",
      " BACKGROUND MOLECULE DENSITY (N) : 2.1e+24 m^-3\n",
      "        \n",
      "    REDUCED ELECTRIC FIELD (E/N) : 58.0 Td\n",
      "        \n",
      " ===============\n",
      "        \n",
      "     ELASTIC COLLISION MOLECULES : ['H2', 'CO2']\n",
      "        \n",
      "   INELASTIC COLLISION MOLECULES : ['CO2' 'CO2(v1)' 'CO2(v10)' 'CO2(v11)' 'CO2(v12)' 'CO2(v13)' 'CO2(v14)' 'CO2(v15)' 'CO2(v16)' 'CO2(v17)' 'CO2(v18)' 'CO2(v19)'\n",
      " 'CO2(v2)' 'CO2(v20)' 'CO2(v3)' 'CO2(v4)' 'CO2(v5)' 'CO2(v6)' 'CO2(v7)' 'CO2(v8)' 'CO2(v9)']\n",
      "        \n"
     ]
    }
   ],
   "source": [
    "print(eedf)"
   ]
  },
  {
   "cell_type": "code",
   "execution_count": 59,
   "metadata": {
    "ExecuteTime": {
     "end_time": "2019-09-09T03:11:03.499377Z",
     "start_time": "2019-09-09T03:11:03.406624Z"
    }
   },
   "outputs": [
    {
     "data": {
      "text/plain": [
       "array([4.3e-15, 2.6e-15, 1.6e-15, 9.5e-16, 5.8e-16, 3.6e-16, 2.2e-16, 1.3e-16, 8.3e-17, 5.1e-17, 3.1e-17, 1.9e-17, 1.2e-17,\n",
       "       7.2e-18, 4.4e-18, 2.7e-18, 1.7e-18, 1.0e-18, 6.2e-19, 3.8e-19, 4.3e-15, 2.6e-15, 1.6e-15, 9.5e-16, 5.8e-16, 3.6e-16,\n",
       "       2.2e-16, 1.3e-16, 8.3e-17, 5.1e-17, 3.1e-17, 1.9e-17, 1.2e-17, 7.2e-18, 4.4e-18, 2.7e-18, 1.7e-18, 1.0e-18, 6.2e-19,\n",
       "       4.3e-15, 2.6e-15, 1.6e-15, 9.5e-16, 5.8e-16, 3.6e-16, 2.2e-16, 1.3e-16, 8.3e-17, 5.1e-17, 3.1e-17, 1.9e-17, 1.2e-17,\n",
       "       7.2e-18, 4.4e-18, 2.7e-18, 1.7e-18, 1.0e-18, 4.3e-15, 2.6e-15, 1.6e-15, 9.5e-16, 5.8e-16, 3.6e-16, 2.2e-16, 1.3e-16,\n",
       "       8.2e-17, 5.1e-17, 3.1e-17, 1.9e-17, 1.2e-17, 7.2e-18, 4.4e-18, 2.7e-18, 1.6e-18, 4.3e-15, 2.6e-15, 1.6e-15, 9.5e-16,\n",
       "       5.8e-16, 3.6e-16, 2.2e-16, 1.3e-16, 8.2e-17, 5.1e-17, 3.1e-17, 1.9e-17, 1.2e-17, 7.2e-18, 4.4e-18, 2.7e-18, 4.3e-15,\n",
       "       2.6e-15, 1.6e-15, 9.5e-16, 5.8e-16, 3.6e-16, 2.2e-16, 1.3e-16, 8.2e-17, 5.0e-17, 3.1e-17, 1.9e-17, 1.2e-17, 7.1e-18,\n",
       "       4.4e-18, 4.3e-15, 2.6e-15, 1.6e-15, 9.5e-16, 5.8e-16, 3.6e-16, 2.2e-16, 1.3e-16, 8.2e-17, 5.0e-17, 3.1e-17, 1.9e-17,\n",
       "       1.2e-17, 7.1e-18, 4.3e-15, 2.6e-15, 1.6e-15, 9.5e-16, 5.8e-16, 3.6e-16, 2.2e-16, 1.3e-16, 8.2e-17, 5.0e-17, 3.1e-17,\n",
       "       1.9e-17, 1.2e-17, 4.3e-15, 2.6e-15, 1.6e-15, 9.5e-16, 5.8e-16, 3.6e-16, 2.2e-16, 1.3e-16, 8.2e-17, 5.0e-17, 3.1e-17,\n",
       "       1.9e-17, 4.3e-15, 2.6e-15, 1.6e-15, 9.5e-16, 5.8e-16, 3.6e-16, 2.2e-16, 1.3e-16, 8.2e-17, 5.0e-17, 3.1e-17, 4.3e-15,\n",
       "       2.6e-15, 1.6e-15, 9.5e-16, 5.8e-16, 3.5e-16, 2.2e-16, 1.3e-16, 8.2e-17, 5.0e-17, 4.3e-15, 2.6e-15, 1.6e-15, 9.5e-16,\n",
       "       5.8e-16, 3.5e-16, 2.2e-16, 1.3e-16, 8.2e-17, 4.3e-15, 2.6e-15, 1.6e-15, 9.5e-16, 5.8e-16, 3.5e-16, 2.2e-16, 1.3e-16,\n",
       "       4.3e-15, 2.6e-15, 1.6e-15, 9.5e-16, 5.8e-16, 3.5e-16, 2.2e-16, 4.3e-15, 2.6e-15, 1.6e-15, 9.5e-16, 5.8e-16, 3.5e-16,\n",
       "       4.3e-15, 2.6e-15, 1.6e-15, 9.5e-16, 5.8e-16, 4.3e-15, 2.6e-15, 1.6e-15, 9.5e-16, 4.3e-15, 2.6e-15, 1.6e-15, 4.3e-15,\n",
       "       2.6e-15, 4.3e-15, 5.7e-15, 4.1e-15, 5.7e-15, 2.9e-15, 4.1e-15, 5.7e-15, 2.0e-15, 2.9e-15, 4.1e-15, 5.7e-15, 1.4e-15,\n",
       "       2.0e-15, 2.9e-15, 4.1e-15, 5.6e-15, 9.2e-16, 1.4e-15, 2.0e-15, 2.9e-15, 4.1e-15, 5.6e-15, 6.1e-16, 9.2e-16, 1.4e-15,\n",
       "       2.0e-15, 2.9e-15, 4.1e-15, 5.6e-15, 4.0e-16, 6.1e-16, 9.1e-16, 1.3e-15, 2.0e-15, 2.9e-15, 4.1e-15, 5.6e-15, 2.6e-16,\n",
       "       4.0e-16, 6.0e-16, 9.0e-16, 1.3e-15, 2.0e-15, 2.8e-15, 4.0e-15, 5.6e-15, 1.7e-16, 2.6e-16, 4.0e-16, 6.0e-16, 9.0e-16,\n",
       "       1.3e-15, 2.0e-15, 2.8e-15, 4.0e-15, 5.6e-15, 1.1e-16, 1.7e-16, 2.6e-16, 3.9e-16, 6.0e-16, 8.9e-16, 1.3e-15, 1.9e-15,\n",
       "       2.8e-15, 4.0e-15, 5.6e-15, 7.1e-17, 1.1e-16, 1.7e-16, 2.6e-16, 3.9e-16, 5.9e-16, 8.9e-16, 1.3e-15, 1.9e-15, 2.8e-15,\n",
       "       4.0e-15, 5.6e-15, 4.6e-17, 7.1e-17, 1.1e-16, 1.7e-16, 2.6e-16, 3.9e-16, 5.9e-16, 8.8e-16, 1.3e-15, 1.9e-15, 2.8e-15,\n",
       "       4.0e-15, 5.6e-15, 2.9e-17, 4.5e-17, 7.0e-17, 1.1e-16, 1.7e-16, 2.5e-16, 3.9e-16, 5.8e-16, 8.7e-16, 1.3e-15, 1.9e-15,\n",
       "       2.8e-15, 4.0e-15, 5.5e-15, 1.9e-17, 2.9e-17, 4.5e-17, 6.9e-17, 1.1e-16, 1.6e-16, 2.5e-16, 3.8e-16, 5.8e-16, 8.7e-16,\n",
       "       1.3e-15, 1.9e-15, 2.8e-15, 4.0e-15, 5.5e-15, 1.2e-17, 1.8e-17, 2.9e-17, 4.4e-17, 6.9e-17, 1.1e-16, 1.6e-16, 2.5e-16,\n",
       "       3.8e-16, 5.7e-16, 8.6e-16, 1.3e-15, 1.9e-15, 2.8e-15, 3.9e-15, 5.5e-15, 7.5e-18, 1.2e-17, 1.8e-17, 2.8e-17, 4.4e-17,\n",
       "       6.8e-17, 1.1e-16, 1.6e-16, 2.5e-16, 3.8e-16, 5.7e-16, 8.6e-16, 1.3e-15, 1.9e-15, 2.7e-15, 3.9e-15, 5.5e-15, 4.7e-18,\n",
       "       7.4e-18, 1.2e-17, 1.8e-17, 2.8e-17, 4.4e-17, 6.8e-17, 1.0e-16, 1.6e-16, 2.5e-16, 3.7e-16, 5.7e-16, 8.5e-16, 1.3e-15,\n",
       "       1.9e-15, 2.7e-15, 3.9e-15, 5.5e-15, 3.0e-18, 4.7e-18, 7.3e-18, 1.1e-17, 1.8e-17, 2.8e-17, 4.3e-17, 6.7e-17, 1.0e-16,\n",
       "       1.6e-16, 2.4e-16, 3.7e-16, 5.6e-16, 8.4e-16, 1.3e-15, 1.9e-15, 2.7e-15, 3.9e-15, 5.5e-15, 1.9e-18, 2.9e-18, 4.6e-18,\n",
       "       7.3e-18, 1.1e-17, 1.8e-17, 2.8e-17, 4.3e-17, 6.6e-17, 1.0e-16, 1.6e-16, 2.4e-16, 3.7e-16, 5.6e-16, 8.4e-16, 1.3e-15,\n",
       "       1.8e-15, 2.7e-15, 3.9e-15, 5.5e-15])"
      ]
     },
     "execution_count": 59,
     "metadata": {},
     "output_type": "execute_result"
    }
   ],
   "source": [
    "eedf._get_molecule_rate_const_e_inelas()"
   ]
  },
  {
   "cell_type": "code",
   "execution_count": 60,
   "metadata": {
    "ExecuteTime": {
     "end_time": "2019-09-09T03:11:10.981380Z",
     "start_time": "2019-09-09T03:11:03.501371Z"
    }
   },
   "outputs": [
    {
     "data": {
      "text/plain": [
       "[Text(0, 0, 'E + CO2 => E + CO2(v1)'),\n",
       " Text(0, 0, 'E + CO2 => E + CO2(v2)'),\n",
       " Text(0, 0, 'E + CO2 => E + CO2(v3)'),\n",
       " Text(0, 0, 'E + CO2 => E + CO2(v4)'),\n",
       " Text(0, 0, 'E + CO2 => E + CO2(v5)'),\n",
       " Text(0, 0, 'E + CO2 => E + CO2(v6)'),\n",
       " Text(0, 0, 'E + CO2 => E + CO2(v7)'),\n",
       " Text(0, 0, 'E + CO2 => E + CO2(v8)'),\n",
       " Text(0, 0, 'E + CO2 => E + CO2(v9)'),\n",
       " Text(0, 0, 'E + CO2 => E + CO2(v10)'),\n",
       " Text(0, 0, 'E + CO2 => E + CO2(v11)'),\n",
       " Text(0, 0, 'E + CO2 => E + CO2(v12)'),\n",
       " Text(0, 0, 'E + CO2 => E + CO2(v13)'),\n",
       " Text(0, 0, 'E + CO2 => E + CO2(v14)'),\n",
       " Text(0, 0, 'E + CO2 => E + CO2(v15)'),\n",
       " Text(0, 0, 'E + CO2 => E + CO2(v16)'),\n",
       " Text(0, 0, 'E + CO2 => E + CO2(v17)'),\n",
       " Text(0, 0, 'E + CO2 => E + CO2(v18)'),\n",
       " Text(0, 0, 'E + CO2 => E + CO2(v19)'),\n",
       " Text(0, 0, 'E + CO2 => E + CO2(v20)'),\n",
       " Text(0, 0, 'E + CO2(v1) => E + CO2(v2)'),\n",
       " Text(0, 0, 'E + CO2(v1) => E + CO2(v3)'),\n",
       " Text(0, 0, 'E + CO2(v1) => E + CO2(v4)'),\n",
       " Text(0, 0, 'E + CO2(v1) => E + CO2(v5)'),\n",
       " Text(0, 0, 'E + CO2(v1) => E + CO2(v6)'),\n",
       " Text(0, 0, 'E + CO2(v1) => E + CO2(v7)'),\n",
       " Text(0, 0, 'E + CO2(v1) => E + CO2(v8)'),\n",
       " Text(0, 0, 'E + CO2(v1) => E + CO2(v9)'),\n",
       " Text(0, 0, 'E + CO2(v1) => E + CO2(v10)'),\n",
       " Text(0, 0, 'E + CO2(v1) => E + CO2(v11)'),\n",
       " Text(0, 0, 'E + CO2(v1) => E + CO2(v12)'),\n",
       " Text(0, 0, 'E + CO2(v1) => E + CO2(v13)'),\n",
       " Text(0, 0, 'E + CO2(v1) => E + CO2(v14)'),\n",
       " Text(0, 0, 'E + CO2(v1) => E + CO2(v15)'),\n",
       " Text(0, 0, 'E + CO2(v1) => E + CO2(v16)'),\n",
       " Text(0, 0, 'E + CO2(v1) => E + CO2(v17)'),\n",
       " Text(0, 0, 'E + CO2(v1) => E + CO2(v18)'),\n",
       " Text(0, 0, 'E + CO2(v1) => E + CO2(v19)'),\n",
       " Text(0, 0, 'E + CO2(v1) => E + CO2(v20)'),\n",
       " Text(0, 0, 'E + CO2(v2) => E + CO2(v3)'),\n",
       " Text(0, 0, 'E + CO2(v2) => E + CO2(v4)'),\n",
       " Text(0, 0, 'E + CO2(v2) => E + CO2(v5)'),\n",
       " Text(0, 0, 'E + CO2(v2) => E + CO2(v6)'),\n",
       " Text(0, 0, 'E + CO2(v2) => E + CO2(v7)'),\n",
       " Text(0, 0, 'E + CO2(v2) => E + CO2(v8)'),\n",
       " Text(0, 0, 'E + CO2(v2) => E + CO2(v9)'),\n",
       " Text(0, 0, 'E + CO2(v2) => E + CO2(v10)'),\n",
       " Text(0, 0, 'E + CO2(v2) => E + CO2(v11)'),\n",
       " Text(0, 0, 'E + CO2(v2) => E + CO2(v12)'),\n",
       " Text(0, 0, 'E + CO2(v2) => E + CO2(v13)'),\n",
       " Text(0, 0, 'E + CO2(v2) => E + CO2(v14)'),\n",
       " Text(0, 0, 'E + CO2(v2) => E + CO2(v15)'),\n",
       " Text(0, 0, 'E + CO2(v2) => E + CO2(v16)'),\n",
       " Text(0, 0, 'E + CO2(v2) => E + CO2(v17)'),\n",
       " Text(0, 0, 'E + CO2(v2) => E + CO2(v18)'),\n",
       " Text(0, 0, 'E + CO2(v2) => E + CO2(v19)'),\n",
       " Text(0, 0, 'E + CO2(v2) => E + CO2(v20)'),\n",
       " Text(0, 0, 'E + CO2(v3) => E + CO2(v4)'),\n",
       " Text(0, 0, 'E + CO2(v3) => E + CO2(v5)'),\n",
       " Text(0, 0, 'E + CO2(v3) => E + CO2(v6)'),\n",
       " Text(0, 0, 'E + CO2(v3) => E + CO2(v7)'),\n",
       " Text(0, 0, 'E + CO2(v3) => E + CO2(v8)'),\n",
       " Text(0, 0, 'E + CO2(v3) => E + CO2(v9)'),\n",
       " Text(0, 0, 'E + CO2(v3) => E + CO2(v10)'),\n",
       " Text(0, 0, 'E + CO2(v3) => E + CO2(v11)'),\n",
       " Text(0, 0, 'E + CO2(v3) => E + CO2(v12)'),\n",
       " Text(0, 0, 'E + CO2(v3) => E + CO2(v13)'),\n",
       " Text(0, 0, 'E + CO2(v3) => E + CO2(v14)'),\n",
       " Text(0, 0, 'E + CO2(v3) => E + CO2(v15)'),\n",
       " Text(0, 0, 'E + CO2(v3) => E + CO2(v16)'),\n",
       " Text(0, 0, 'E + CO2(v3) => E + CO2(v17)'),\n",
       " Text(0, 0, 'E + CO2(v3) => E + CO2(v18)'),\n",
       " Text(0, 0, 'E + CO2(v3) => E + CO2(v19)'),\n",
       " Text(0, 0, 'E + CO2(v3) => E + CO2(v20)'),\n",
       " Text(0, 0, 'E + CO2(v4) => E + CO2(v5)'),\n",
       " Text(0, 0, 'E + CO2(v4) => E + CO2(v6)'),\n",
       " Text(0, 0, 'E + CO2(v4) => E + CO2(v7)'),\n",
       " Text(0, 0, 'E + CO2(v4) => E + CO2(v8)'),\n",
       " Text(0, 0, 'E + CO2(v4) => E + CO2(v9)'),\n",
       " Text(0, 0, 'E + CO2(v4) => E + CO2(v10)'),\n",
       " Text(0, 0, 'E + CO2(v4) => E + CO2(v11)'),\n",
       " Text(0, 0, 'E + CO2(v4) => E + CO2(v12)'),\n",
       " Text(0, 0, 'E + CO2(v4) => E + CO2(v13)'),\n",
       " Text(0, 0, 'E + CO2(v4) => E + CO2(v14)'),\n",
       " Text(0, 0, 'E + CO2(v4) => E + CO2(v15)'),\n",
       " Text(0, 0, 'E + CO2(v4) => E + CO2(v16)'),\n",
       " Text(0, 0, 'E + CO2(v4) => E + CO2(v17)'),\n",
       " Text(0, 0, 'E + CO2(v4) => E + CO2(v18)'),\n",
       " Text(0, 0, 'E + CO2(v4) => E + CO2(v19)'),\n",
       " Text(0, 0, 'E + CO2(v4) => E + CO2(v20)'),\n",
       " Text(0, 0, 'E + CO2(v5) => E + CO2(v6)'),\n",
       " Text(0, 0, 'E + CO2(v5) => E + CO2(v7)'),\n",
       " Text(0, 0, 'E + CO2(v5) => E + CO2(v8)'),\n",
       " Text(0, 0, 'E + CO2(v5) => E + CO2(v9)'),\n",
       " Text(0, 0, 'E + CO2(v5) => E + CO2(v10)'),\n",
       " Text(0, 0, 'E + CO2(v5) => E + CO2(v11)'),\n",
       " Text(0, 0, 'E + CO2(v5) => E + CO2(v12)'),\n",
       " Text(0, 0, 'E + CO2(v5) => E + CO2(v13)'),\n",
       " Text(0, 0, 'E + CO2(v5) => E + CO2(v14)'),\n",
       " Text(0, 0, 'E + CO2(v5) => E + CO2(v15)'),\n",
       " Text(0, 0, 'E + CO2(v5) => E + CO2(v16)'),\n",
       " Text(0, 0, 'E + CO2(v5) => E + CO2(v17)'),\n",
       " Text(0, 0, 'E + CO2(v5) => E + CO2(v18)'),\n",
       " Text(0, 0, 'E + CO2(v5) => E + CO2(v19)'),\n",
       " Text(0, 0, 'E + CO2(v5) => E + CO2(v20)'),\n",
       " Text(0, 0, 'E + CO2(v6) => E + CO2(v7)'),\n",
       " Text(0, 0, 'E + CO2(v6) => E + CO2(v8)'),\n",
       " Text(0, 0, 'E + CO2(v6) => E + CO2(v9)'),\n",
       " Text(0, 0, 'E + CO2(v6) => E + CO2(v10)'),\n",
       " Text(0, 0, 'E + CO2(v6) => E + CO2(v11)'),\n",
       " Text(0, 0, 'E + CO2(v6) => E + CO2(v12)'),\n",
       " Text(0, 0, 'E + CO2(v6) => E + CO2(v13)'),\n",
       " Text(0, 0, 'E + CO2(v6) => E + CO2(v14)'),\n",
       " Text(0, 0, 'E + CO2(v6) => E + CO2(v15)'),\n",
       " Text(0, 0, 'E + CO2(v6) => E + CO2(v16)'),\n",
       " Text(0, 0, 'E + CO2(v6) => E + CO2(v17)'),\n",
       " Text(0, 0, 'E + CO2(v6) => E + CO2(v18)'),\n",
       " Text(0, 0, 'E + CO2(v6) => E + CO2(v19)'),\n",
       " Text(0, 0, 'E + CO2(v6) => E + CO2(v20)'),\n",
       " Text(0, 0, 'E + CO2(v7) => E + CO2(v8)'),\n",
       " Text(0, 0, 'E + CO2(v7) => E + CO2(v9)'),\n",
       " Text(0, 0, 'E + CO2(v7) => E + CO2(v10)'),\n",
       " Text(0, 0, 'E + CO2(v7) => E + CO2(v11)'),\n",
       " Text(0, 0, 'E + CO2(v7) => E + CO2(v12)'),\n",
       " Text(0, 0, 'E + CO2(v7) => E + CO2(v13)'),\n",
       " Text(0, 0, 'E + CO2(v7) => E + CO2(v14)'),\n",
       " Text(0, 0, 'E + CO2(v7) => E + CO2(v15)'),\n",
       " Text(0, 0, 'E + CO2(v7) => E + CO2(v16)'),\n",
       " Text(0, 0, 'E + CO2(v7) => E + CO2(v17)'),\n",
       " Text(0, 0, 'E + CO2(v7) => E + CO2(v18)'),\n",
       " Text(0, 0, 'E + CO2(v7) => E + CO2(v19)'),\n",
       " Text(0, 0, 'E + CO2(v7) => E + CO2(v20)'),\n",
       " Text(0, 0, 'E + CO2(v8) => E + CO2(v9)'),\n",
       " Text(0, 0, 'E + CO2(v8) => E + CO2(v10)'),\n",
       " Text(0, 0, 'E + CO2(v8) => E + CO2(v11)'),\n",
       " Text(0, 0, 'E + CO2(v8) => E + CO2(v12)'),\n",
       " Text(0, 0, 'E + CO2(v8) => E + CO2(v13)'),\n",
       " Text(0, 0, 'E + CO2(v8) => E + CO2(v14)'),\n",
       " Text(0, 0, 'E + CO2(v8) => E + CO2(v15)'),\n",
       " Text(0, 0, 'E + CO2(v8) => E + CO2(v16)'),\n",
       " Text(0, 0, 'E + CO2(v8) => E + CO2(v17)'),\n",
       " Text(0, 0, 'E + CO2(v8) => E + CO2(v18)'),\n",
       " Text(0, 0, 'E + CO2(v8) => E + CO2(v19)'),\n",
       " Text(0, 0, 'E + CO2(v8) => E + CO2(v20)'),\n",
       " Text(0, 0, 'E + CO2(v9) => E + CO2(v10)'),\n",
       " Text(0, 0, 'E + CO2(v9) => E + CO2(v11)'),\n",
       " Text(0, 0, 'E + CO2(v9) => E + CO2(v12)'),\n",
       " Text(0, 0, 'E + CO2(v9) => E + CO2(v13)'),\n",
       " Text(0, 0, 'E + CO2(v9) => E + CO2(v14)'),\n",
       " Text(0, 0, 'E + CO2(v9) => E + CO2(v15)'),\n",
       " Text(0, 0, 'E + CO2(v9) => E + CO2(v16)'),\n",
       " Text(0, 0, 'E + CO2(v9) => E + CO2(v17)'),\n",
       " Text(0, 0, 'E + CO2(v9) => E + CO2(v18)'),\n",
       " Text(0, 0, 'E + CO2(v9) => E + CO2(v19)'),\n",
       " Text(0, 0, 'E + CO2(v9) => E + CO2(v20)'),\n",
       " Text(0, 0, 'E + CO2(v10) => E + CO2(v11)'),\n",
       " Text(0, 0, 'E + CO2(v10) => E + CO2(v12)'),\n",
       " Text(0, 0, 'E + CO2(v10) => E + CO2(v13)'),\n",
       " Text(0, 0, 'E + CO2(v10) => E + CO2(v14)'),\n",
       " Text(0, 0, 'E + CO2(v10) => E + CO2(v15)'),\n",
       " Text(0, 0, 'E + CO2(v10) => E + CO2(v16)'),\n",
       " Text(0, 0, 'E + CO2(v10) => E + CO2(v17)'),\n",
       " Text(0, 0, 'E + CO2(v10) => E + CO2(v18)'),\n",
       " Text(0, 0, 'E + CO2(v10) => E + CO2(v19)'),\n",
       " Text(0, 0, 'E + CO2(v10) => E + CO2(v20)'),\n",
       " Text(0, 0, 'E + CO2(v11) => E + CO2(v12)'),\n",
       " Text(0, 0, 'E + CO2(v11) => E + CO2(v13)'),\n",
       " Text(0, 0, 'E + CO2(v11) => E + CO2(v14)'),\n",
       " Text(0, 0, 'E + CO2(v11) => E + CO2(v15)'),\n",
       " Text(0, 0, 'E + CO2(v11) => E + CO2(v16)'),\n",
       " Text(0, 0, 'E + CO2(v11) => E + CO2(v17)'),\n",
       " Text(0, 0, 'E + CO2(v11) => E + CO2(v18)'),\n",
       " Text(0, 0, 'E + CO2(v11) => E + CO2(v19)'),\n",
       " Text(0, 0, 'E + CO2(v11) => E + CO2(v20)'),\n",
       " Text(0, 0, 'E + CO2(v12) => E + CO2(v13)'),\n",
       " Text(0, 0, 'E + CO2(v12) => E + CO2(v14)'),\n",
       " Text(0, 0, 'E + CO2(v12) => E + CO2(v15)'),\n",
       " Text(0, 0, 'E + CO2(v12) => E + CO2(v16)'),\n",
       " Text(0, 0, 'E + CO2(v12) => E + CO2(v17)'),\n",
       " Text(0, 0, 'E + CO2(v12) => E + CO2(v18)'),\n",
       " Text(0, 0, 'E + CO2(v12) => E + CO2(v19)'),\n",
       " Text(0, 0, 'E + CO2(v12) => E + CO2(v20)'),\n",
       " Text(0, 0, 'E + CO2(v13) => E + CO2(v14)'),\n",
       " Text(0, 0, 'E + CO2(v13) => E + CO2(v15)'),\n",
       " Text(0, 0, 'E + CO2(v13) => E + CO2(v16)'),\n",
       " Text(0, 0, 'E + CO2(v13) => E + CO2(v17)'),\n",
       " Text(0, 0, 'E + CO2(v13) => E + CO2(v18)'),\n",
       " Text(0, 0, 'E + CO2(v13) => E + CO2(v19)'),\n",
       " Text(0, 0, 'E + CO2(v13) => E + CO2(v20)'),\n",
       " Text(0, 0, 'E + CO2(v14) => E + CO2(v15)'),\n",
       " Text(0, 0, 'E + CO2(v14) => E + CO2(v16)'),\n",
       " Text(0, 0, 'E + CO2(v14) => E + CO2(v17)'),\n",
       " Text(0, 0, 'E + CO2(v14) => E + CO2(v18)'),\n",
       " Text(0, 0, 'E + CO2(v14) => E + CO2(v19)'),\n",
       " Text(0, 0, 'E + CO2(v14) => E + CO2(v20)'),\n",
       " Text(0, 0, 'E + CO2(v15) => E + CO2(v16)'),\n",
       " Text(0, 0, 'E + CO2(v15) => E + CO2(v17)'),\n",
       " Text(0, 0, 'E + CO2(v15) => E + CO2(v18)'),\n",
       " Text(0, 0, 'E + CO2(v15) => E + CO2(v19)'),\n",
       " Text(0, 0, 'E + CO2(v15) => E + CO2(v20)'),\n",
       " Text(0, 0, 'E + CO2(v16) => E + CO2(v17)'),\n",
       " Text(0, 0, 'E + CO2(v16) => E + CO2(v18)'),\n",
       " Text(0, 0, 'E + CO2(v16) => E + CO2(v19)'),\n",
       " Text(0, 0, 'E + CO2(v16) => E + CO2(v20)'),\n",
       " Text(0, 0, 'E + CO2(v17) => E + CO2(v18)'),\n",
       " Text(0, 0, 'E + CO2(v17) => E + CO2(v19)'),\n",
       " Text(0, 0, 'E + CO2(v17) => E + CO2(v20)'),\n",
       " Text(0, 0, 'E + CO2(v18) => E + CO2(v19)'),\n",
       " Text(0, 0, 'E + CO2(v18) => E + CO2(v20)'),\n",
       " Text(0, 0, 'E + CO2(v19) => E + CO2(v20)'),\n",
       " Text(0, 0, 'E + CO2(v1) => E + CO2'),\n",
       " Text(0, 0, 'E + CO2(v2) => E + CO2'),\n",
       " Text(0, 0, 'E + CO2(v2) => E + CO2(v1)'),\n",
       " Text(0, 0, 'E + CO2(v3) => E + CO2'),\n",
       " Text(0, 0, 'E + CO2(v3) => E + CO2(v1)'),\n",
       " Text(0, 0, 'E + CO2(v3) => E + CO2(v2)'),\n",
       " Text(0, 0, 'E + CO2(v4) => E + CO2'),\n",
       " Text(0, 0, 'E + CO2(v4) => E + CO2(v1)'),\n",
       " Text(0, 0, 'E + CO2(v4) => E + CO2(v2)'),\n",
       " Text(0, 0, 'E + CO2(v4) => E + CO2(v3)'),\n",
       " Text(0, 0, 'E + CO2(v5) => E + CO2'),\n",
       " Text(0, 0, 'E + CO2(v5) => E + CO2(v1)'),\n",
       " Text(0, 0, 'E + CO2(v5) => E + CO2(v2)'),\n",
       " Text(0, 0, 'E + CO2(v5) => E + CO2(v3)'),\n",
       " Text(0, 0, 'E + CO2(v5) => E + CO2(v4)'),\n",
       " Text(0, 0, 'E + CO2(v6) => E + CO2'),\n",
       " Text(0, 0, 'E + CO2(v6) => E + CO2(v1)'),\n",
       " Text(0, 0, 'E + CO2(v6) => E + CO2(v2)'),\n",
       " Text(0, 0, 'E + CO2(v6) => E + CO2(v3)'),\n",
       " Text(0, 0, 'E + CO2(v6) => E + CO2(v"
      ]
     },
     "execution_count": 60,
     "metadata": {},
     "output_type": "execute_result"
    },
    {
     "data": {
      "text/html": [
       "<b>limit_output extension: Maximum message size of 10000 exceeded with 18339 characters</b>"
      ]
     },
     "metadata": {},
     "output_type": "display_data"
    }
   ],
   "source": [
    "fig = plt.figure()\n",
    "ax = fig.add_subplot(111)\n",
    "ax.barh(range(eedf.n_inelas_rctn),\n",
    "        width=eedf._get_molecule_rate_const_e_inelas(),\n",
    "        height=0.6, log=True)\n",
    "ax.set_yticks(range(eedf.n_inelas_rctn))\n",
    "ax.set_yticklabels(eedf.inelas_reaction_dataframe['formula'])"
   ]
  },
  {
   "cell_type": "code",
   "execution_count": 61,
   "metadata": {
    "ExecuteTime": {
     "end_time": "2019-09-09T03:11:11.160900Z",
     "start_time": "2019-09-09T03:11:10.982378Z"
    }
   },
   "outputs": [
    {
     "data": {
      "image/png": "[encoded data removed]",
      "text/plain": [
       "<Figure size 864x648 with 1 Axes>"
      ]
     },
     "metadata": {
      "needs_background": "light"
     },
     "output_type": "display_data"
    }
   ],
   "source": [
    "eedf.plot_normalized_eedf()"
   ]
  },
  {
   "cell_type": "code",
   "execution_count": 62,
   "metadata": {
    "ExecuteTime": {
     "end_time": "2019-09-09T03:11:11.504981Z",
     "start_time": "2019-09-09T03:11:11.161898Z"
    }
   },
   "outputs": [
    {
     "data": {
      "text/plain": [
       "Text(0.5, 1.0, 'Te vs. t')"
      ]
     },
     "execution_count": 62,
     "metadata": {},
     "output_type": "execute_result"
    },
    {
     "data": {
      "image/png": "[encoded data removed]",
      "text/plain": [
       "<Figure size 864x648 with 1 Axes>"
      ]
     },
     "metadata": {
      "needs_background": "light"
     },
     "output_type": "display_data"
    }
   ],
   "source": [
    "Te_seq = []\n",
    "ne_seq = []\n",
    "for _array in sol.y.transpose():\n",
    "    eedf.set_density_per_J(_array)\n",
    "    Te_seq.append(eedf.electron_temperature_in_eV)\n",
    "    ne_seq.append(eedf.electron_density)\n",
    "plt.semilogx(sol.t, Te_seq, marker='.')\n",
    "plt.title(\"Te vs. t\")"
   ]
  },
  {
   "cell_type": "code",
   "execution_count": 63,
   "metadata": {
    "ExecuteTime": {
     "end_time": "2019-09-09T03:11:11.755312Z",
     "start_time": "2019-09-09T03:11:11.505978Z"
    }
   },
   "outputs": [
    {
     "data": {
      "text/plain": [
       "Text(0.5, 1.0, 'ne vs. t')"
      ]
     },
     "execution_count": 63,
     "metadata": {},
     "output_type": "execute_result"
    },
    {
     "data": {
      "image/png": "[encoded data removed]",
      "text/plain": [
       "<Figure size 864x648 with 1 Axes>"
      ]
     },
     "metadata": {
      "needs_background": "light"
     },
     "output_type": "display_data"
    }
   ],
   "source": [
    "plt.semilogx(sol.t, ne_seq, marker='.')\n",
    "plt.title(\"ne vs. t\")"
   ]
  },
  {
   "cell_type": "code",
   "execution_count": 64,
   "metadata": {
    "ExecuteTime": {
     "end_time": "2019-09-09T03:11:11.762293Z",
     "start_time": "2019-09-09T03:11:11.756309Z"
    }
   },
   "outputs": [
    {
     "data": {
      "text/plain": [
       "array([[1.8e+38, 1.8e+38, 1.8e+38, 1.9e+38, 1.9e+38, ..., 3.1e+38, 3.1e+38, 3.1e+38, 3.1e+38, 3.1e+38],\n",
       "       [3.0e+38, 3.0e+38, 3.0e+38, 3.0e+38, 3.0e+38, ..., 3.8e+38, 3.8e+38, 3.8e+38, 3.8e+38, 3.8e+38],\n",
       "       [3.6e+38, 3.6e+38, 3.6e+38, 3.6e+38, 3.6e+38, ..., 3.4e+38, 3.4e+38, 3.4e+38, 3.4e+38, 3.4e+38],\n",
       "       [3.9e+38, 3.9e+38, 3.9e+38, 3.9e+38, 4.0e+38, ..., 2.7e+38, 2.7e+38, 2.7e+38, 2.7e+38, 2.7e+38],\n",
       "       [4.1e+38, 4.1e+38, 4.1e+38, 4.2e+38, 4.2e+38, ..., 1.9e+38, 1.9e+38, 1.9e+38, 1.9e+38, 1.9e+38],\n",
       "       ...,\n",
       "       [2.2e+21, 2.2e+21, 2.2e+21, 2.2e+21, 2.3e+21, ..., 2.4e+37, 2.4e+37, 2.4e+37, 2.4e+37, 2.4e+37],\n",
       "       [2.1e+21, 2.1e+21, 2.1e+21, 2.1e+21, 2.1e+21, ..., 2.4e+37, 2.4e+37, 2.4e+37, 2.4e+37, 2.4e+37],\n",
       "       [1.9e+21, 1.9e+21, 1.9e+21, 1.9e+21, 2.0e+21, ..., 2.4e+37, 2.4e+37, 2.4e+37, 2.4e+37, 2.4e+37],\n",
       "       [1.8e+21, 1.8e+21, 1.8e+21, 1.8e+21, 1.9e+21, ..., 2.4e+37, 2.4e+37, 2.4e+37, 2.4e+37, 2.4e+37],\n",
       "       [1.7e+21, 1.7e+21, 1.7e+21, 1.7e+21, 1.8e+21, ..., 2.4e+37, 2.4e+37, 2.4e+37, 2.4e+37, 2.4e+37]])"
      ]
     },
     "execution_count": 64,
     "metadata": {},
     "output_type": "execute_result"
    }
   ],
   "source": [
    "sol.y"
   ]
  },
  {
   "cell_type": "code",
   "execution_count": 65,
   "metadata": {
    "ExecuteTime": {
     "end_time": "2019-09-09T03:11:11.838090Z",
     "start_time": "2019-09-09T03:11:11.763291Z"
    }
   },
   "outputs": [],
   "source": [
    "eedf.set_density_per_J(sol.y[:,-1])\n",
    "eedf.set_flux(total_species_density=total_species_density)"
   ]
  },
  {
   "cell_type": "code",
   "execution_count": 74,
   "metadata": {
    "ExecuteTime": {
     "end_time": "2019-09-09T03:12:07.467419Z",
     "start_time": "2019-09-09T03:12:07.283911Z"
    }
   },
   "outputs": [
    {
     "data": {
      "text/plain": [
       "<matplotlib.legend.Legend at 0x18a5ae8e4a8>"
      ]
     },
     "execution_count": 74,
     "metadata": {},
     "output_type": "execute_result"
    },
    {
     "data": {
      "image/png": "[encoded data removed]",
      "text/plain": [
       "<Figure size 864x648 with 1 Axes>"
      ]
     },
     "metadata": {
      "needs_background": "light"
     },
     "output_type": "display_data"
    }
   ],
   "source": [
    "fig = plt.figure()\n",
    "ax = fig.add_subplot(111)\n",
    "ax.plot(eedf.energy_point_eV, eedf._get_deriv_ef(), \n",
    "        linewidth=0.4, marker='.', label='ef')\n",
    "ax.plot(eedf.energy_point_eV, eedf._get_deriv_el(), \n",
    "        linewidth=0.4, marker='.', label='el')\n",
    "ax.plot(eedf.energy_point_eV, eedf._get_deriv_ee(), \n",
    "        linewidth=0.4, marker='.', label='ee')\n",
    "ax.plot(eedf.energy_point_eV, eedf._get_electron_rate_e_inelas(density=total_species_density), \n",
    "        linewidth=0.4, marker='.', label='e_inelas')\n",
    "ax.plot(eedf.energy_point_eV, eedf.get_deriv_total(total_species_density=total_species_density), \n",
    "        linewidth=1.5, marker='.', label='sum')\n",
    "# ax.plot(eedf.energy_nodes,eedf.J_flux_el, marker='.', label='el')\n",
    "# ax.plot(eedf.energy_nodes,eedf.J_flux_ee, marker='.', label='ee')\n",
    "# ax.plot(eedf.energy_nodes,eedf.J_flux_ef+eedf.J_flux_el+eedf.J_flux_ee, marker='.', label='ef+el+ee')\n",
    "# ax.set_yscale('symlog')\n",
    "# ax.set_xscale('log')\n",
    "ax.set_xlim((0,5))\n",
    "ax.legend()"
   ]
  },
  {
   "cell_type": "code",
   "execution_count": 67,
   "metadata": {
    "ExecuteTime": {
     "end_time": "2019-09-09T03:11:12.347728Z",
     "start_time": "2019-09-09T03:11:12.144273Z"
    }
   },
   "outputs": [
    {
     "data": {
      "text/plain": [
       "<matplotlib.legend.Legend at 0x18a5733beb8>"
      ]
     },
     "execution_count": 67,
     "metadata": {},
     "output_type": "execute_result"
    },
    {
     "data": {
      "image/png": "[encoded data removed]",
      "text/plain": [
       "<Figure size 864x648 with 1 Axes>"
      ]
     },
     "metadata": {
      "needs_background": "light"
     },
     "output_type": "display_data"
    }
   ],
   "source": [
    "fig = plt.figure()\n",
    "ax = fig.add_subplot(111)\n",
    "ax.plot(eedf.energy_point_eV, eedf._get_deriv_ef()*eedf.energy_point, \n",
    "        linewidth=0.4, marker='.', label='ef')\n",
    "ax.plot(eedf.energy_point_eV, eedf._get_deriv_el()*eedf.energy_point, \n",
    "        linewidth=0.4, marker='.', label='el')\n",
    "ax.plot(eedf.energy_point_eV, eedf._get_deriv_ee()*eedf.energy_point, \n",
    "        linewidth=0.4, marker='.', label='ee')\n",
    "ax.plot(eedf.energy_point_eV, eedf._get_electron_rate_e_inelas(density=total_species_density)*eedf.energy_point, \n",
    "        linewidth=0.4, marker='.', label='e_inelas')\n",
    "ax.plot(eedf.energy_point_eV, eedf.get_deriv_total(total_species_density=total_species_density)*eedf.energy_point, \n",
    "        linewidth=1.5, marker='.', label='sum')\n",
    "# ax.plot(eedf.energy_nodes,eedf.J_flux_el, marker='.', label='el')\n",
    "# ax.plot(eedf.energy_nodes,eedf.J_flux_ee, marker='.', label='ee')\n",
    "# ax.plot(eedf.energy_nodes,eedf.J_flux_ef+eedf.J_flux_el+eedf.J_flux_ee, marker='.', label='ef+el+ee')\n",
    "# ax.set_yscale('symlog')\n",
    "# ax.set_xscale('log')\n",
    "ax.set_xlim((0,20))\n",
    "ax.legend()"
   ]
  },
  {
   "cell_type": "code",
   "execution_count": 68,
   "metadata": {
    "ExecuteTime": {
     "end_time": "2019-09-09T03:11:12.379643Z",
     "start_time": "2019-09-09T03:11:12.349724Z"
    }
   },
   "outputs": [],
   "source": [
    "energy_gain_ef = (eedf._get_deriv_ef()*eedf.energy_point).sum()\n",
    "energy_lose_el = (eedf._get_deriv_el()*eedf.energy_point).sum()\n",
    "energy_gain_ee = (eedf._get_deriv_ee()*eedf.energy_point).sum()\n",
    "energy_gain_e_inelas = (eedf._get_electron_rate_e_inelas(density=total_species_density)*eedf.energy_point).sum()\n",
    "energy_gain_net = (eedf.get_deriv_total(total_species_density=total_species_density)*eedf.energy_point).sum()"
   ]
  },
  {
   "cell_type": "code",
   "execution_count": 69,
   "metadata": {
    "ExecuteTime": {
     "end_time": "2019-09-09T03:11:12.731702Z",
     "start_time": "2019-09-09T03:11:12.380641Z"
    }
   },
   "outputs": [
    {
     "data": {
      "text/plain": [
       "Text(0.5, 1.0, 'Energy Gain')"
      ]
     },
     "execution_count": 69,
     "metadata": {},
     "output_type": "execute_result"
    },
    {
     "data": {
      "image/png": "[encoded data removed]",
      "text/plain": [
       "<Figure size 864x648 with 1 Axes>"
      ]
     },
     "metadata": {
      "needs_background": "light"
     },
     "output_type": "display_data"
    }
   ],
   "source": [
    "fig = plt.figure()\n",
    "ax = fig.add_subplot(111)\n",
    "ax.barh(range(5),\n",
    "        width=[energy_gain_ef, energy_lose_el, energy_gain_ee, energy_gain_e_inelas, energy_gain_net],\n",
    "       height=0.6)\n",
    "ax.set_yticks(range(5))\n",
    "ax.set_yticklabels(['electric field', 'elastic collision', 'e-e', 'inelastic collision', 'net'])\n",
    "ax.set_title(\"Energy Gain\")"
   ]
  },
  {
   "cell_type": "code",
   "execution_count": 70,
   "metadata": {
    "ExecuteTime": {
     "end_time": "2019-09-09T03:11:12.747660Z",
     "start_time": "2019-09-09T03:11:12.732700Z"
    }
   },
   "outputs": [
    {
     "data": {
      "text/html": [
       "<div>\n",
       "<style scoped>\n",
       "    .dataframe tbody tr th:only-of-type {\n",
       "        vertical-align: middle;\n",
       "    }\n",
       "\n",
       "    .dataframe tbody tr th {\n",
       "        vertical-align: top;\n",
       "    }\n",
       "\n",
       "    .dataframe thead th {\n",
       "        text-align: right;\n",
       "    }\n",
       "</style>\n",
       "<table border=\"1\" class=\"dataframe\">\n",
       "  <thead>\n",
       "    <tr style=\"text-align: right;\">\n",
       "      <th></th>\n",
       "      <th>formula</th>\n",
       "      <th>type</th>\n",
       "      <th>threshold_eV</th>\n",
       "      <th>rate const</th>\n",
       "      <th>energy lose</th>\n",
       "    </tr>\n",
       "  </thead>\n",
       "  <tbody>\n",
       "    <tr>\n",
       "      <th>210</th>\n",
       "      <td>E + CO2(v1) =&gt; E + CO2</td>\n",
       "      <td>DEEXCITATION</td>\n",
       "      <td>-2.9e-01</td>\n",
       "      <td>5.7e-15</td>\n",
       "      <td>-1.7e-15</td>\n",
       "    </tr>\n",
       "    <tr>\n",
       "      <th>212</th>\n",
       "      <td>E + CO2(v2) =&gt; E + CO2(v1)</td>\n",
       "      <td>DEEXCITATION</td>\n",
       "      <td>-2.9e-01</td>\n",
       "      <td>5.7e-15</td>\n",
       "      <td>-1.6e-15</td>\n",
       "    </tr>\n",
       "    <tr>\n",
       "      <th>215</th>\n",
       "      <td>E + CO2(v3) =&gt; E + CO2(v2)</td>\n",
       "      <td>DEEXCITATION</td>\n",
       "      <td>-2.9e-01</td>\n",
       "      <td>5.7e-15</td>\n",
       "      <td>-1.6e-15</td>\n",
       "    </tr>\n",
       "    <tr>\n",
       "      <th>219</th>\n",
       "      <td>E + CO2(v4) =&gt; E + CO2(v3)</td>\n",
       "      <td>DEEXCITATION</td>\n",
       "      <td>-2.8e-01</td>\n",
       "      <td>5.7e-15</td>\n",
       "      <td>-1.6e-15</td>\n",
       "    </tr>\n",
       "    <tr>\n",
       "      <th>224</th>\n",
       "      <td>E + CO2(v5) =&gt; E + CO2(v4)</td>\n",
       "      <td>DEEXCITATION</td>\n",
       "      <td>-2.8e-01</td>\n",
       "      <td>5.6e-15</td>\n",
       "      <td>-1.6e-15</td>\n",
       "    </tr>\n",
       "  </tbody>\n",
       "</table>\n",
       "</div>"
      ],
      "text/plain": [
       "                        formula          type  threshold_eV  rate const  \\\n",
       "210      E + CO2(v1) => E + CO2  DEEXCITATION      -2.9e-01     5.7e-15   \n",
       "212  E + CO2(v2) => E + CO2(v1)  DEEXCITATION      -2.9e-01     5.7e-15   \n",
       "215  E + CO2(v3) => E + CO2(v2)  DEEXCITATION      -2.9e-01     5.7e-15   \n",
       "219  E + CO2(v4) => E + CO2(v3)  DEEXCITATION      -2.8e-01     5.7e-15   \n",
       "224  E + CO2(v5) => E + CO2(v4)  DEEXCITATION      -2.8e-01     5.6e-15   \n",
       "\n",
       "     energy lose  \n",
       "210     -1.7e-15  \n",
       "212     -1.6e-15  \n",
       "215     -1.6e-15  \n",
       "219     -1.6e-15  \n",
       "224     -1.6e-15  "
      ]
     },
     "execution_count": 70,
     "metadata": {},
     "output_type": "execute_result"
    }
   ],
   "source": [
    "result_df = eedf.inelas_rctn_info\n",
    "result_df.sort_values(by=['rate const'], ascending=False).head()"
   ]
  },
  {
   "cell_type": "code",
   "execution_count": 71,
   "metadata": {
    "ExecuteTime": {
     "end_time": "2019-09-09T03:11:12.835425Z",
     "start_time": "2019-09-09T03:11:12.749655Z"
    },
    "scrolled": true
   },
   "outputs": [
    {
     "data": {
      "text/html": [
       "<div>\n",
       "<style scoped>\n",
       "    .dataframe tbody tr th:only-of-type {\n",
       "        vertical-align: middle;\n",
       "    }\n",
       "\n",
       "    .dataframe tbody tr th {\n",
       "        vertical-align: top;\n",
       "    }\n",
       "\n",
       "    .dataframe thead th {\n",
       "        text-align: right;\n",
       "    }\n",
       "</style>\n",
       "<table border=\"1\" class=\"dataframe\">\n",
       "  <thead>\n",
       "    <tr style=\"text-align: right;\">\n",
       "      <th></th>\n",
       "      <th>formula</th>\n",
       "      <th>type</th>\n",
       "      <th>threshold_eV</th>\n",
       "      <th>rate const</th>\n",
       "      <th>energy lose</th>\n",
       "    </tr>\n",
       "  </thead>\n",
       "  <tbody>\n",
       "    <tr>\n",
       "      <th>209</th>\n",
       "      <td>E + CO2(v19) =&gt; E + CO2(v20)</td>\n",
       "      <td>EXCITATION</td>\n",
       "      <td>2.3e-01</td>\n",
       "      <td>4.3e-15</td>\n",
       "      <td>1.0e-15</td>\n",
       "    </tr>\n",
       "    <tr>\n",
       "      <th>207</th>\n",
       "      <td>E + CO2(v18) =&gt; E + CO2(v19)</td>\n",
       "      <td>EXCITATION</td>\n",
       "      <td>2.4e-01</td>\n",
       "      <td>4.3e-15</td>\n",
       "      <td>1.0e-15</td>\n",
       "    </tr>\n",
       "    <tr>\n",
       "      <th>204</th>\n",
       "      <td>E + CO2(v17) =&gt; E + CO2(v18)</td>\n",
       "      <td>EXCITATION</td>\n",
       "      <td>2.4e-01</td>\n",
       "      <td>4.3e-15</td>\n",
       "      <td>1.0e-15</td>\n",
       "    </tr>\n",
       "    <tr>\n",
       "      <th>200</th>\n",
       "      <td>E + CO2(v16) =&gt; E + CO2(v17)</td>\n",
       "      <td>EXCITATION</td>\n",
       "      <td>2.4e-01</td>\n",
       "      <td>4.3e-15</td>\n",
       "      <td>1.0e-15</td>\n",
       "    </tr>\n",
       "    <tr>\n",
       "      <th>195</th>\n",
       "      <td>E + CO2(v15) =&gt; E + CO2(v16)</td>\n",
       "      <td>EXCITATION</td>\n",
       "      <td>2.4e-01</td>\n",
       "      <td>4.3e-15</td>\n",
       "      <td>1.1e-15</td>\n",
       "    </tr>\n",
       "    <tr>\n",
       "      <th>189</th>\n",
       "      <td>E + CO2(v14) =&gt; E + CO2(v15)</td>\n",
       "      <td>EXCITATION</td>\n",
       "      <td>2.5e-01</td>\n",
       "      <td>4.3e-15</td>\n",
       "      <td>1.1e-15</td>\n",
       "    </tr>\n",
       "    <tr>\n",
       "      <th>182</th>\n",
       "      <td>E + CO2(v13) =&gt; E + CO2(v14)</td>\n",
       "      <td>EXCITATION</td>\n",
       "      <td>2.5e-01</td>\n",
       "      <td>4.3e-15</td>\n",
       "      <td>1.1e-15</td>\n",
       "    </tr>\n",
       "    <tr>\n",
       "      <th>174</th>\n",
       "      <td>E + CO2(v12) =&gt; E + CO2(v13)</td>\n",
       "      <td>EXCITATION</td>\n",
       "      <td>2.5e-01</td>\n",
       "      <td>4.3e-15</td>\n",
       "      <td>1.1e-15</td>\n",
       "    </tr>\n",
       "    <tr>\n",
       "      <th>165</th>\n",
       "      <td>E + CO2(v11) =&gt; E + CO2(v12)</td>\n",
       "      <td>EXCITATION</td>\n",
       "      <td>2.6e-01</td>\n",
       "      <td>4.3e-15</td>\n",
       "      <td>1.1e-15</td>\n",
       "    </tr>\n",
       "    <tr>\n",
       "      <th>155</th>\n",
       "      <td>E + CO2(v10) =&gt; E + CO2(v11)</td>\n",
       "      <td>EXCITATION</td>\n",
       "      <td>2.6e-01</td>\n",
       "      <td>4.3e-15</td>\n",
       "      <td>1.1e-15</td>\n",
       "    </tr>\n",
       "    <tr>\n",
       "      <th>144</th>\n",
       "      <td>E + CO2(v9) =&gt; E + CO2(v10)</td>\n",
       "      <td>EXCITATION</td>\n",
       "      <td>2.6e-01</td>\n",
       "      <td>4.3e-15</td>\n",
       "      <td>1.1e-15</td>\n",
       "    </tr>\n",
       "    <tr>\n",
       "      <th>132</th>\n",
       "      <td>E + CO2(v8) =&gt; E + CO2(v9)</td>\n",
       "      <td>EXCITATION</td>\n",
       "      <td>2.7e-01</td>\n",
       "      <td>4.3e-15</td>\n",
       "      <td>1.1e-15</td>\n",
       "    </tr>\n",
       "    <tr>\n",
       "      <th>119</th>\n",
       "      <td>E + CO2(v7) =&gt; E + CO2(v8)</td>\n",
       "      <td>EXCITATION</td>\n",
       "      <td>2.7e-01</td>\n",
       "      <td>4.3e-15</td>\n",
       "      <td>1.2e-15</td>\n",
       "    </tr>\n",
       "    <tr>\n",
       "      <th>105</th>\n",
       "      <td>E + CO2(v6) =&gt; E + CO2(v7)</td>\n",
       "      <td>EXCITATION</td>\n",
       "      <td>2.7e-01</td>\n",
       "      <td>4.3e-15</td>\n",
       "      <td>1.2e-15</td>\n",
       "    </tr>\n",
       "    <tr>\n",
       "      <th>90</th>\n",
       "      <td>E + CO2(v5) =&gt; E + CO2(v6)</td>\n",
       "      <td>EXCITATION</td>\n",
       "      <td>2.8e-01</td>\n",
       "      <td>4.3e-15</td>\n",
       "      <td>1.2e-15</td>\n",
       "    </tr>\n",
       "    <tr>\n",
       "      <th>74</th>\n",
       "      <td>E + CO2(v4) =&gt; E + CO2(v5)</td>\n",
       "      <td>EXCITATION</td>\n",
       "      <td>2.8e-01</td>\n",
       "      <td>4.3e-15</td>\n",
       "      <td>1.2e-15</td>\n",
       "    </tr>\n",
       "    <tr>\n",
       "      <th>57</th>\n",
       "      <td>E + CO2(v3) =&gt; E + CO2(v4)</td>\n",
       "      <td>EXCITATION</td>\n",
       "      <td>2.8e-01</td>\n",
       "      <td>4.3e-15</td>\n",
       "      <td>1.2e-15</td>\n",
       "    </tr>\n",
       "    <tr>\n",
       "      <th>39</th>\n",
       "      <td>E + CO2(v2) =&gt; E + CO2(v3)</td>\n",
       "      <td>EXCITATION</td>\n",
       "      <td>2.9e-01</td>\n",
       "      <td>4.3e-15</td>\n",
       "      <td>1.2e-15</td>\n",
       "    </tr>\n",
       "    <tr>\n",
       "      <th>20</th>\n",
       "      <td>E + CO2(v1) =&gt; E + CO2(v2)</td>\n",
       "      <td>EXCITATION</td>\n",
       "      <td>2.9e-01</td>\n",
       "      <td>4.3e-15</td>\n",
       "      <td>1.2e-15</td>\n",
       "    </tr>\n",
       "    <tr>\n",
       "      <th>0</th>\n",
       "      <td>E + CO2 =&gt; E + CO2(v1)</td>\n",
       "      <td>EXCITATION</td>\n",
       "      <td>2.9e-01</td>\n",
       "      <td>4.3e-15</td>\n",
       "      <td>1.2e-15</td>\n",
       "    </tr>\n",
       "    <tr>\n",
       "      <th>208</th>\n",
       "      <td>E + CO2(v18) =&gt; E + CO2(v20)</td>\n",
       "      <td>EXCITATION</td>\n",
       "      <td>4.7e-01</td>\n",
       "      <td>2.6e-15</td>\n",
       "      <td>1.2e-15</td>\n",
       "    </tr>\n",
       "    <tr>\n",
       "      <th>205</th>\n",
       "      <td>E + CO2(v17) =&gt; E + CO2(v19)</td>\n",
       "      <td>EXCITATION</td>\n",
       "      <td>4.7e-01</td>\n",
       "      <td>2.6e-15</td>\n",
       "      <td>1.2e-15</td>\n",
       "    </tr>\n",
       "    <tr>\n",
       "      <th>201</th>\n",
       "      <td>E + CO2(v16) =&gt; E + CO2(v18)</td>\n",
       "      <td>EXCITATION</td>\n",
       "      <td>4.8e-01</td>\n",
       "      <td>2.6e-15</td>\n",
       "      <td>1.2e-15</td>\n",
       "    </tr>\n",
       "    <tr>\n",
       "      <th>183</th>\n",
       "      <td>E + CO2(v13) =&gt; E + CO2(v15)</td>\n",
       "      <td>EXCITATION</td>\n",
       "      <td>5.0e-01</td>\n",
       "      <td>2.6e-15</td>\n",
       "      <td>1.3e-15</td>\n",
       "    </tr>\n",
       "    <tr>\n",
       "      <th>196</th>\n",
       "      <td>E + CO2(v15) =&gt; E + CO2(v17)</td>\n",
       "      <td>EXCITATION</td>\n",
       "      <td>4.9e-01</td>\n",
       "      <td>2.6e-15</td>\n",
       "      <td>1.3e-15</td>\n",
       "    </tr>\n",
       "    <tr>\n",
       "      <th>190</th>\n",
       "      <td>E + CO2(v14) =&gt; E + CO2(v16)</td>\n",
       "      <td>EXCITATION</td>\n",
       "      <td>4.9e-01</td>\n",
       "      <td>2.6e-15</td>\n",
       "      <td>1.3e-15</td>\n",
       "    </tr>\n",
       "    <tr>\n",
       "      <th>175</th>\n",
       "      <td>E + CO2(v12) =&gt; E + CO2(v14)</td>\n",
       "      <td>EXCITATION</td>\n",
       "      <td>5.1e-01</td>\n",
       "      <td>2.6e-15</td>\n",
       "      <td>1.3e-15</td>\n",
       "    </tr>\n",
       "    <tr>\n",
       "      <th>166</th>\n",
       "      <td>E + CO2(v11) =&gt; E + CO2(v13)</td>\n",
       "      <td>EXCITATION</td>\n",
       "      <td>5.1e-01</td>\n",
       "      <td>2.6e-15</td>\n",
       "      <td>1.3e-15</td>\n",
       "    </tr>\n",
       "    <tr>\n",
       "      <th>156</th>\n",
       "      <td>E + CO2(v10) =&gt; E + CO2(v12)</td>\n",
       "      <td>EXCITATION</td>\n",
       "      <td>5.2e-01</td>\n",
       "      <td>2.6e-15</td>\n",
       "      <td>1.3e-15</td>\n",
       "    </tr>\n",
       "    <tr>\n",
       "      <th>145</th>\n",
       "      <td>E + CO2(v9) =&gt; E + CO2(v11)</td>\n",
       "      <td>EXCITATION</td>\n",
       "      <td>5.2e-01</td>\n",
       "      <td>2.6e-15</td>\n",
       "      <td>1.3e-15</td>\n",
       "    </tr>\n",
       "    <tr>\n",
       "      <th>...</th>\n",
       "      <td>...</td>\n",
       "      <td>...</td>\n",
       "      <td>...</td>\n",
       "      <td>...</td>\n",
       "      <td>...</td>\n",
       "    </tr>\n",
       "    <tr>\n",
       "      <th>117</th>\n",
       "      <td>E + CO2(v6) =&gt; E + CO2(v19)</td>\n",
       "      <td>EXCITATION</td>\n",
       "      <td>3.3e+00</td>\n",
       "      <td>1.2e-17</td>\n",
       "      <td>3.8e-17</td>\n",
       "    </tr>\n",
       "    <tr>\n",
       "      <th>131</th>\n",
       "      <td>E + CO2(v7) =&gt; E + CO2(v20)</td>\n",
       "      <td>EXCITATION</td>\n",
       "      <td>3.3e+00</td>\n",
       "      <td>1.2e-17</td>\n",
       "      <td>3.8e-17</td>\n",
       "    </tr>\n",
       "    <tr>\n",
       "      <th>13</th>\n",
       "      <td>E + CO2 =&gt; E + CO2(v14)</td>\n",
       "      <td>EXCITATION</td>\n",
       "      <td>3.8e+00</td>\n",
       "      <td>7.2e-18</td>\n",
       "      <td>2.7e-17</td>\n",
       "    </tr>\n",
       "    <tr>\n",
       "      <th>33</th>\n",
       "      <td>E + CO2(v1) =&gt; E + CO2(v15)</td>\n",
       "      <td>EXCITATION</td>\n",
       "      <td>3.8e+00</td>\n",
       "      <td>7.2e-18</td>\n",
       "      <td>2.7e-17</td>\n",
       "    </tr>\n",
       "    <tr>\n",
       "      <th>52</th>\n",
       "      <td>E + CO2(v2) =&gt; E + CO2(v16)</td>\n",
       "      <td>EXCITATION</td>\n",
       "      <td>3.7e+00</td>\n",
       "      <td>7.2e-18</td>\n",
       "      <td>2.7e-17</td>\n",
       "    </tr>\n",
       "    <tr>\n",
       "      <th>70</th>\n",
       "      <td>E + CO2(v3) =&gt; E + CO2(v17)</td>\n",
       "      <td>EXCITATION</td>\n",
       "      <td>3.7e+00</td>\n",
       "      <td>7.2e-18</td>\n",
       "      <td>2.6e-17</td>\n",
       "    </tr>\n",
       "    <tr>\n",
       "      <th>87</th>\n",
       "      <td>E + CO2(v4) =&gt; E + CO2(v18)</td>\n",
       "      <td>EXCITATION</td>\n",
       "      <td>3.6e+00</td>\n",
       "      <td>7.2e-18</td>\n",
       "      <td>2.6e-17</td>\n",
       "    </tr>\n",
       "    <tr>\n",
       "      <th>103</th>\n",
       "      <td>E + CO2(v5) =&gt; E + CO2(v19)</td>\n",
       "      <td>EXCITATION</td>\n",
       "      <td>3.6e+00</td>\n",
       "      <td>7.1e-18</td>\n",
       "      <td>2.6e-17</td>\n",
       "    </tr>\n",
       "    <tr>\n",
       "      <th>118</th>\n",
       "      <td>E + CO2(v6) =&gt; E + CO2(v20)</td>\n",
       "      <td>EXCITATION</td>\n",
       "      <td>3.5e+00</td>\n",
       "      <td>7.1e-18</td>\n",
       "      <td>2.5e-17</td>\n",
       "    </tr>\n",
       "    <tr>\n",
       "      <th>14</th>\n",
       "      <td>E + CO2 =&gt; E + CO2(v15)</td>\n",
       "      <td>EXCITATION</td>\n",
       "      <td>4.0e+00</td>\n",
       "      <td>4.4e-18</td>\n",
       "      <td>1.8e-17</td>\n",
       "    </tr>\n",
       "    <tr>\n",
       "      <th>34</th>\n",
       "      <td>E + CO2(v1) =&gt; E + CO2(v16)</td>\n",
       "      <td>EXCITATION</td>\n",
       "      <td>4.0e+00</td>\n",
       "      <td>4.4e-18</td>\n",
       "      <td>1.8e-17</td>\n",
       "    </tr>\n",
       "    <tr>\n",
       "      <th>53</th>\n",
       "      <td>E + CO2(v2) =&gt; E + CO2(v17)</td>\n",
       "      <td>EXCITATION</td>\n",
       "      <td>4.0e+00</td>\n",
       "      <td>4.4e-18</td>\n",
       "      <td>1.7e-17</td>\n",
       "    </tr>\n",
       "    <tr>\n",
       "      <th>71</th>\n",
       "      <td>E + CO2(v3) =&gt; E + CO2(v18)</td>\n",
       "      <td>EXCITATION</td>\n",
       "      <td>3.9e+00</td>\n",
       "      <td>4.4e-18</td>\n",
       "      <td>1.7e-17</td>\n",
       "    </tr>\n",
       "    <tr>\n",
       "      <th>88</th>\n",
       "      <td>E + CO2(v4) =&gt; E + CO2(v19)</td>\n",
       "      <td>EXCITATION</td>\n",
       "      <td>3.9e+00</td>\n",
       "      <td>4.4e-18</td>\n",
       "      <td>1.7e-17</td>\n",
       "    </tr>\n",
       "    <tr>\n",
       "      <th>104</th>\n",
       "      <td>E + CO2(v5) =&gt; E + CO2(v20)</td>\n",
       "      <td>EXCITATION</td>\n",
       "      <td>3.8e+00</td>\n",
       "      <td>4.4e-18</td>\n",
       "      <td>1.7e-17</td>\n",
       "    </tr>\n",
       "    <tr>\n",
       "      <th>15</th>\n",
       "      <td>E + CO2 =&gt; E + CO2(v16)</td>\n",
       "      <td>EXCITATION</td>\n",
       "      <td>4.3e+00</td>\n",
       "      <td>2.7e-18</td>\n",
       "      <td>1.2e-17</td>\n",
       "    </tr>\n",
       "    <tr>\n",
       "      <th>35</th>\n",
       "      <td>E + CO2(v1) =&gt; E + CO2(v17)</td>\n",
       "      <td>EXCITATION</td>\n",
       "      <td>4.2e+00</td>\n",
       "      <td>2.7e-18</td>\n",
       "      <td>1.1e-17</td>\n",
       "    </tr>\n",
       "    <tr>\n",
       "      <th>54</th>\n",
       "      <td>E + CO2(v2) =&gt; E + CO2(v18)</td>\n",
       "      <td>EXCITATION</td>\n",
       "      <td>4.2e+00</td>\n",
       "      <td>2.7e-18</td>\n",
       "      <td>1.1e-17</td>\n",
       "    </tr>\n",
       "    <tr>\n",
       "      <th>72</th>\n",
       "      <td>E + CO2(v3) =&gt; E + CO2(v19)</td>\n",
       "      <td>EXCITATION</td>\n",
       "      <td>4.1e+00</td>\n",
       "      <td>2.7e-18</td>\n",
       "      <td>1.1e-17</td>\n",
       "    </tr>\n",
       "    <tr>\n",
       "      <th>89</th>\n",
       "      <td>E + CO2(v4) =&gt; E + CO2(v20)</td>\n",
       "      <td>EXCITATION</td>\n",
       "      <td>4.1e+00</td>\n",
       "      <td>2.7e-18</td>\n",
       "      <td>1.1e-17</td>\n",
       "    </tr>\n",
       "    <tr>\n",
       "      <th>16</th>\n",
       "      <td>E + CO2 =&gt; E + CO2(v17)</td>\n",
       "      <td>EXCITATION</td>\n",
       "      <td>4.5e+00</td>\n",
       "      <td>1.7e-18</td>\n",
       "      <td>7.5e-18</td>\n",
       "    </tr>\n",
       "    <tr>\n",
       "      <th>36</th>\n",
       "      <td>E + CO2(v1) =&gt; E + CO2(v18)</td>\n",
       "      <td>EXCITATION</td>\n",
       "      <td>4.5e+00</td>\n",
       "      <td>1.7e-18</td>\n",
       "      <td>7.4e-18</td>\n",
       "    </tr>\n",
       "    <tr>\n",
       "      <th>55</th>\n",
       "      <td>E + CO2(v2) =&gt; E + CO2(v19)</td>\n",
       "      <td>EXCITATION</td>\n",
       "     "
      ],
      "text/plain": [
       "                          formula        type  threshold_eV  rate const  \\\n",
       "209  E + CO2(v19) => E + CO2(v20)  EXCITATION       2.3e-01     4.3e-15   \n",
       "207  E + CO2(v18) => E + CO2(v19)  EXCITATION       2.4e-01     4.3e-15   \n",
       "204  E + CO2(v17) => E + CO2(v18)  EXCITATION       2.4e-01     4.3e-15   \n",
       "200  E + CO2(v16) => E + CO2(v17)  EXCITATION       2.4e-01     4.3e-15   \n",
       "195  E + CO2(v15) => E + CO2(v16)  EXCITATION       2.4e-01     4.3e-15   \n",
       "189  E + CO2(v14) => E + CO2(v15)  EXCITATION       2.5e-01     4.3e-15   \n",
       "182  E + CO2(v13) => E + CO2(v14)  EXCITATION       2.5e-01     4.3e-15   \n",
       "174  E + CO2(v12) => E + CO2(v13)  EXCITATION       2.5e-01     4.3e-15   \n",
       "165  E + CO2(v11) => E + CO2(v12)  EXCITATION       2.6e-01     4.3e-15   \n",
       "155  E + CO2(v10) => E + CO2(v11)  EXCITATION       2.6e-01     4.3e-15   \n",
       "144   E + CO2(v9) => E + CO2(v10)  EXCITATION       2.6e-01     4.3e-15   \n",
       "132    E + CO2(v8) => E + CO2(v9)  EXCITATION       2.7e-01     4.3e-15   \n",
       "119    E + CO2(v7) => E + CO2(v8)  EXCITATION       2.7e-01     4.3e-15   \n",
       "105    E + CO2(v6) => E + CO2(v7)  EXCITATION       2.7e-01     4.3e-15   \n",
       "90     E + CO2(v5) => E + CO2(v6)  EXCITATION       2.8e-01     4.3e-15   \n",
       "74     E + CO2(v4) => E + CO2(v5)  EXCITATION       2.8e-01     4.3e-15   \n",
       "57     E + CO2(v3) => E + CO2(v4)  EXCITATION       2.8e-01     4.3e-15   \n",
       "39     E + CO2(v2) => E + CO2(v3)  EXCITATION       2.9e-01     4.3e-15   \n",
       "20     E + CO2(v1) => E + CO2(v2)  EXCITATION       2.9e-01     4.3e-15   \n",
       "0          E + CO2 => E + CO2(v1)  EXCITATION       2.9e-01     4.3e-15   \n",
       "208  E + CO2(v18) => E + CO2(v20)  EXCITATION       4.7e-01     2.6e-15   \n",
       "205  E + CO2(v17) => E + CO2(v19)  EXCITATION       4.7e-01     2.6e-15   \n",
       "201  E + CO2(v16) => E + CO2(v18)  EXCITATION       4.8e-01     2.6e-15   \n",
       "183  E + CO2(v13) => E + CO2(v15)  EXCITATION       5.0e-01     2.6e-15   \n",
       "196  E + CO2(v15) => E + CO2(v17)  EXCITATION       4.9e-01     2.6e-15   \n",
       "190  E + CO2(v14) => E + CO2(v16)  EXCITATION       4.9e-01     2.6e-15   \n",
       "175  E + CO2(v12) => E + CO2(v14)  EXCITATION       5.1e-01     2.6e-15   \n",
       "166  E + CO2(v11) => E + CO2(v13)  EXCITATION       5.1e-01     2.6e-15   \n",
       "156  E + CO2(v10) => E + CO2(v12)  EXCITATION       5.2e-01     2.6e-15   \n",
       "145   E + CO2(v9) => E + CO2(v11)  EXCITATION       5.2e-01     2.6e-15   \n",
       "..                            ...         ...           ...         ...   \n",
       "117   E + CO2(v6) => E + CO2(v19)  EXCITATION       3.3e+00     1.2e-17   \n",
       "131   E + CO2(v7) => E + CO2(v20)  EXCITATION       3.3e+00     1.2e-17   \n",
       "13        E + CO2 => E + CO2(v14)  EXCITATION       3.8e+00     7.2e-18   \n",
       "33    E + CO2(v1) => E + CO2(v15)  EXCITATION       3.8e+00     7.2e-18   \n",
       "52    E + CO2(v2) => E + CO2(v16)  EXCITATION       3.7e+00     7.2e-18   \n",
       "70    E + CO2(v3) => E + CO2(v17)  EXCITATION       3.7e+00     7.2e-18   \n",
       "87    E + CO2(v4) => E + CO2(v18)  EXCITATION       3.6e+00     7.2e-18   \n",
       "103   E + CO2(v5) => E + CO2(v19)  EXCITATION       3.6e+00     7.1e-18   \n",
       "118   E + CO2(v6) => E + CO2(v20)  EXCITATION       3.5e+00     7.1e-18   \n",
       "14        E + CO2 => E + CO2(v15)  EXCITATION       4.0e+00     4.4e-18   \n",
       "34    E + CO2(v1) => E + CO2(v16)  EXCITATION       4.0e+00     4.4e-18   \n",
       "53    E + CO2(v2) => E + CO2(v17)  EXCITATION       4.0e+00     4.4e-18   \n",
       "71    E + CO2(v3) => E + CO2(v18)  EXCITATION       3.9e+00     4.4e-18   \n",
       "88    E + CO2(v4) => E + CO2(v19)  EXCITATION       3.9e+00     4.4e-18   \n",
       "104   E + CO2(v5) => E + CO2(v20)  EXCITATION       3.8e+00     4.4e-18   \n",
       "15        E + CO2 => E + CO2(v16)  EXCITATION       4.3e+00     2.7e-18   \n",
       "35    E + CO2(v1) => E + CO2(v17)  EXCITATION       4.2e+00     2.7e-18   \n",
       "54    E + CO2(v2) => E + CO2(v18)  EXCITATION       4.2e+00     2.7e-18   \n",
       "72    E + CO2(v3) => E + CO2(v19)  EXCITATION       4.1e+00     2.7e-18   \n",
       "89    E + CO2(v4) => E + CO2(v20)  EXCITATION       4.1e+00     2.7e-18   \n",
       "16        E + CO2 => E + CO2(v17)  EXCITATION       4.5e+00     1.7e-18   \n",
       "36    E + CO2(v1) => E + CO2(v18)  EXCITATION       4.5e+00     1.7e-18   \n",
       "55    E + CO2(v2) => E + CO2(v19)  EXCITATION       4.4e+00     1.7e-18   \n",
       "73    E + CO2(v3) => E + CO2(v20)  EXCITATION       4.4e+00     1.6e-18   \n",
       "17        E + CO2 => E + CO2(v18)  EXCITATION       4.8e+00     1.0e-18   \n",
       "37    E + CO2(v1) => E + CO2(v19)  EXCITATION       4.7e+00     1.0e-18   \n",
       "56    E + CO2(v2) => E + CO2(v20)  EXCITATION       4.7e+00     1.0e-18   \n",
       "18        E + CO2 => E + CO2(v19)  EXCITATION       5.0e+00     6.2e-19   \n",
       "38    E + CO2(v1) => E + CO2(v20)  EXCITATION       4.9e+00     6.2e-19   \n",
       "19        E + CO2 => E + CO2(v20)  EXCITATION       5.2e+00     3.8e-19   \n",
       "\n",
       "     energy lose  \n",
       "209      1.0e-15  \n",
       "207      1.0e-15  \n",
       "204      1.0e-15  \n",
       "200      1.0e-15  \n",
       "195      1.1e-15  \n",
       "189      1.1e-15  \n",
       "182      1.1e-15  \n",
       "174      1.1e-15  \n",
       "165      1.1e-15  \n",
       "155      1.1e-15  \n",
       "144      1.1e-15  \n",
       "132      1.1e-15  \n",
       "119      1.2e-15  \n",
       "105      1.2e-15  \n",
       "90       1.2e-15  \n",
       "74       1.2e-15  \n",
       "57       1.2e-15  \n",
       "39       1.2e-15  \n",
       "20       1.2e-15  \n",
       "0        1.2e-15  \n",
       "208      1.2e-15  \n",
       "205      1.2e-15  \n",
       "201      1.2e-15  \n",
       "183      1.3e-15  \n",
       "196      1.3e-15  \n",
       "190      1.3e-15  \n",
       "175      1.3e-15  \n",
       "166      1.3e-15  \n",
       "156      1.3e-15  \n",
       "145      1.3e-15  \n",
       "..           ...  \n",
       "117      3.8e-17  \n",
       "131      3.8e-17  \n",
       "13       2.7e-17  \n",
       "33       2.7e-17  \n",
       "52       2.7e-17  \n",
       "70       2.6e-17  \n",
       "87       2.6e-17  \n",
       "103      2.6e-17  \n",
       "118      2.5e-17  \n",
       "14       1.8e-17  \n",
       "34       1.8e-17  \n",
       "53       1.7e-17  \n",
       "71       1.7e-17  \n",
       "88       1.7e-17  \n",
       "104      1.7e-17  \n",
       "15       1.2e-17  \n",
       "35       1.1e-17  \n",
       "54       1.1e-17  \n",
       "72       1.1e-17  \n",
       "89       1.1e-17  \n",
       "16       7.5e-18  \n",
       "36       7.4e-18  \n",
       "55       7.3e-18  \n",
       "73       7.2e-18  \n",
       "17       4.8e-18  \n",
       "37       4.8e-18  \n",
       "56       4.7e-18  \n",
       "18       3.1e-18  \n",
       "38       3.1e-18  \n",
       "19       2.0e-18  \n",
       "\n",
       "[210 rows x 5 columns]"
      ]
     },
     "execution_count": 71,
     "metadata": {},
     "output_type": "execute_result"
    },
    {
     "data": {
      "text/html": [
       "<b>limit_output extension: Maximum message size of 10000 exceeded with 11362 characters</b>"
      ]
     },
     "metadata": {},
     "output_type": "display_data"
    }
   ],
   "source": [
    "result_df[result_df['type']=='EXCITATION'].sort_values(by=['rate const'], ascending=False)"
   ]
  },
  {
   "cell_type": "code",
   "execution_count": 72,
   "metadata": {
    "ExecuteTime": {
     "end_time": "2019-09-09T03:11:12.917207Z",
     "start_time": "2019-09-09T03:11:12.837420Z"
    }
   },
   "outputs": [
    {
     "data": {
      "text/html": [
       "<div>\n",
       "<style scoped>\n",
       "    .dataframe tbody tr th:only-of-type {\n",
       "        vertical-align: middle;\n",
       "    }\n",
       "\n",
       "    .dataframe tbody tr th {\n",
       "        vertical-align: top;\n",
       "    }\n",
       "\n",
       "    .dataframe thead th {\n",
       "        text-align: right;\n",
       "    }\n",
       "</style>\n",
       "<table border=\"1\" class=\"dataframe\">\n",
       "  <thead>\n",
       "    <tr style=\"text-align: right;\">\n",
       "      <th></th>\n",
       "      <th>formula</th>\n",
       "      <th>type</th>\n",
       "      <th>threshold_eV</th>\n",
       "      <th>rate const</th>\n",
       "      <th>energy lose</th>\n",
       "    </tr>\n",
       "  </thead>\n",
       "  <tbody>\n",
       "  </tbody>\n",
       "</table>\n",
       "</div>"
      ],
      "text/plain": [
       "Empty DataFrame\n",
       "Columns: [formula, type, threshold_eV, rate const, energy lose]\n",
       "Index: []"
      ]
     },
     "execution_count": 72,
     "metadata": {},
     "output_type": "execute_result"
    }
   ],
   "source": [
    "result_df[result_df['formula'].str.endswith('E + H + H')].sort_values(by=['rate const'], ascending=False)"
   ]
  },
  {
   "cell_type": "code",
   "execution_count": 73,
   "metadata": {
    "ExecuteTime": {
     "end_time": "2019-09-09T03:11:13.004972Z",
     "start_time": "2019-09-09T03:11:12.919202Z"
    }
   },
   "outputs": [
    {
     "data": {
      "text/html": [
       "<div>\n",
       "<style scoped>\n",
       "    .dataframe tbody tr th:only-of-type {\n",
       "        vertical-align: middle;\n",
       "    }\n",
       "\n",
       "    .dataframe tbody tr th {\n",
       "        vertical-align: top;\n",
       "    }\n",
       "\n",
       "    .dataframe thead th {\n",
       "        text-align: right;\n",
       "    }\n",
       "</style>\n",
       "<table border=\"1\" class=\"dataframe\">\n",
       "  <thead>\n",
       "    <tr style=\"text-align: right;\">\n",
       "      <th></th>\n",
       "      <th>formula</th>\n",
       "      <th>type</th>\n",
       "      <th>threshold_eV</th>\n",
       "      <th>rate const</th>\n",
       "      <th>energy lose</th>\n",
       "    </tr>\n",
       "  </thead>\n",
       "  <tbody>\n",
       "  </tbody>\n",
       "</table>\n",
       "</div>"
      ],
      "text/plain": [
       "Empty DataFrame\n",
       "Columns: [formula, type, threshold_eV, rate const, energy lose]\n",
       "Index: []"
      ]
     },
     "execution_count": 73,
     "metadata": {},
     "output_type": "execute_result"
    }
   ],
   "source": [
    "result_df[result_df['formula'].str.endswith('E + CO + O')].sort_values(by=['rate const'], ascending=False)"
   ]
  },
  {
   "cell_type": "code",
   "execution_count": null,
   "metadata": {},
   "outputs": [],
   "source": []
  },
  {
   "cell_type": "code",
   "execution_count": null,
   "metadata": {},
   "outputs": [],
   "source": []
  }
 ],
 "metadata": {
  "kernelspec": {
   "display_name": "Python 3",
   "language": "python",
   "name": "python3"
  },
  "language_info": {
   "codemirror_mode": {
    "name": "ipython",
    "version": 3
   },
   "file_extension": ".py",
   "mimetype": "text/x-python",
   "name": "python",
   "nbconvert_exporter": "python",
   "pygments_lexer": "ipython3",
   "version": "3.7.3"
  },
  "toc": {
   "base_numbering": 1,
   "nav_menu": {},
   "number_sections": true,
   "sideBar": false,
   "skip_h1_title": false,
   "title_cell": "Table of Contents",
   "title_sidebar": "Contents",
   "toc_cell": false,
   "toc_position": {
    "height": "457px",
    "left": "1286.19px",
    "top": "144px",
    "width": "156.813px"
   },
   "toc_section_display": true,
   "toc_window_display": true
  },
  "varInspector": {
   "cols": {
    "lenName": 16,
    "lenType": 16,
    "lenVar": 40
   },
   "kernels_config": {
    "python": {
     "delete_cmd_postfix": "",
     "delete_cmd_prefix": "del ",
     "library": "var_list.py",
     "varRefreshCmd": "print(var_dic_list())"
    },
    "r": {
     "delete_cmd_postfix": ") ",
     "delete_cmd_prefix": "rm(",
     "library": "var_list.r",
     "varRefreshCmd": "cat(var_dic_list()) "
    }
   },
   "types_to_exclude": [
    "module",
    "function",
    "builtin_function_or_method",
    "instance",
    "_Feature"
   ],
   "window_display": false
  }
 },
 "nbformat": 4,
 "nbformat_minor": 2
}
