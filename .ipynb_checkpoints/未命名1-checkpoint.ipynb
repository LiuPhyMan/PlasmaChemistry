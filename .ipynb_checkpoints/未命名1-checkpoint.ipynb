{
 "cells": [
  {
   "cell_type": "code",
   "execution_count": 4,
   "metadata": {
    "ExecuteTime": {
     "end_time": "2019-09-07T13:00:50.723404Z",
     "start_time": "2019-09-07T13:00:50.720412Z"
    }
   },
   "outputs": [],
   "source": [
    "import yaml"
   ]
  },
  {
   "cell_type": "code",
   "execution_count": 5,
   "metadata": {
    "ExecuteTime": {
     "end_time": "2019-09-07T13:00:51.142284Z",
     "start_time": "2019-09-07T13:00:51.130316Z"
    },
    "scrolled": true
   },
   "outputs": [
    {
     "ename": "FileNotFoundError",
     "evalue": "[Errno 2] No such file or directory: ' test.yaml'",
     "output_type": "error",
     "traceback": [
      "\u001b[1;31m---------------------------------------------------------------------------\u001b[0m",
      "\u001b[1;31mFileNotFoundError\u001b[0m                         Traceback (most recent call last)",
      "\u001b[1;32m<ipython-input-5-b35715f181b9>\u001b[0m in \u001b[0;36m<module>\u001b[1;34m\u001b[0m\n\u001b[1;32m----> 1\u001b[1;33m \u001b[1;32mwith\u001b[0m \u001b[0mopen\u001b[0m\u001b[1;33m(\u001b[0m\u001b[1;34m' test.yaml'\u001b[0m\u001b[1;33m)\u001b[0m \u001b[1;32mas\u001b[0m \u001b[0mf\u001b[0m\u001b[1;33m:\u001b[0m\u001b[1;33m\u001b[0m\u001b[1;33m\u001b[0m\u001b[0m\n\u001b[0m\u001b[0;32m      2\u001b[0m     \u001b[0mrctn\u001b[0m \u001b[1;33m=\u001b[0m \u001b[0myaml\u001b[0m\u001b[1;33m.\u001b[0m\u001b[0mload_all\u001b[0m\u001b[1;33m(\u001b[0m\u001b[0mf\u001b[0m\u001b[1;33m)\u001b[0m\u001b[1;33m\u001b[0m\u001b[1;33m\u001b[0m\u001b[0m\n\u001b[0;32m      3\u001b[0m     \u001b[0mrctn\u001b[0m \u001b[1;33m=\u001b[0m \u001b[1;33m[\u001b[0m\u001b[0m_\u001b[0m \u001b[1;32mfor\u001b[0m \u001b[0m_\u001b[0m \u001b[1;32min\u001b[0m \u001b[0mrctn\u001b[0m\u001b[1;33m]\u001b[0m\u001b[1;33m\u001b[0m\u001b[1;33m\u001b[0m\u001b[0m\n",
      "\u001b[1;31mFileNotFoundError\u001b[0m: [Errno 2] No such file or directory: ' test.yaml'"
     ]
    }
   ],
   "source": [
    "with open('test.yaml') as f:\n",
    "    rctn = yaml.load_all(f)\n",
    "    rctn = [_ for _ in rctn]"
   ]
  },
  {
   "cell_type": "code",
   "execution_count": 6,
   "metadata": {
    "ExecuteTime": {
     "end_time": "2019-09-07T13:00:52.153582Z",
     "start_time": "2019-09-07T13:00:52.148595Z"
    }
   },
   "outputs": [
    {
     "data": {
      "text/plain": [
       "[{'H2_vib': 'H2      H2(v1)  H2(v2)  H2(v3)  H2(v4) H2(v5)  H2(v6)  H2(v7)  H2(v8)  H2(v9) H2(v10) H2(v11) H2(v12) H2(v13) H2(v14)',\n",
       "  'H2_vib(0-13)': 'H2      H2(v1)  H2(v2)  H2(v3)  H2(v4) H2(v5)  H2(v6)  H2(v7)  H2(v8)  H2(v9) H2(v10) H2(v11) H2(v12) H2(v13)',\n",
       "  'test': ['H2      H2(v1)  H2(v2)  H2(v3)  H2(v4) H2(v5)  H2(v6)  H2(v7)  H2(v8)  H2(v9) H2(v10) H2(v11) H2(v12) H2(v13) H2(v14)']},\n",
       " {'include_newlines': '\\nexactly as you see\\nwill appear these three\\nlines of poetry\\n',\n",
       "  'fold_newlines': 'this is really a single line of text despite appearances\\n'},\n",
       " None,\n",
       " {'hr': ['Mark McGwire', 'Sammy Sosa'], 'rbi': ['Sammy Sosa', 'Ken Griffey']},\n",
       " {'hr': ['Mark McGwire', 'Sammy Sosa'], 'rbi': ['Sammy Sosa', 'Ken Griffey']},\n",
       " None,\n",
       " [{'item': 'Super Hoop', 'quantity': 1},\n",
       "  {'item': 'Basketball', 'quantity': 4},\n",
       "  {'item': 'Big Shoes', 'quantity': 1}],\n",
       " 'Sammy Sosa completed another fine season with great stats.\\n\\n  63 Home Runs\\n  0.288 Batting Average\\n\\nWhat a year!\\n',\n",
       " {'name': 'ljb',\n",
       "  'description': 'the first line the second line\\n',\n",
       "  'none': None,\n",
       "  'bool': True,\n",
       "  'int': 42,\n",
       "  'float': 3.1,\n",
       "  'list': ['a', 'b', 'none']},\n",
       " ['Ada', 'APL', 'ASP', 'Assembly', 'Awk'],\n",
       " ['Basic'],\n",
       " ['C', 'C#', 'C++', 'Cold Fusion'],\n",
       " None,\n",
       " [{'step': {'instrument': 'Lasik 2000',\n",
       "    'pulseEnergy': 5.4,\n",
       "    'pulseDuration': 12,\n",
       "    'repetition': 1000,\n",
       "    'spotSize': '1mm'}},\n",
       "  {'step': {'instrument': 'Lasik 2000',\n",
       "    'pulseEnergy': 5.0,\n",
       "    'pulseDuration': 10,\n",
       "    'repetition': 500,\n",
       "    'spotSize': '2mm'}},\n",
       "  {'step': {'instrument': 'Lasik 2000',\n",
       "    'pulseEnergy': 5.4,\n",
       "    'pulseDuration': 12,\n",
       "    'repetition': 1000,\n",
       "    'spotSize': '1mm'}},\n",
       "  {'step': {'instrument': 'Lasik 2000',\n",
       "    'pulseEnergy': 5.0,\n",
       "    'pulseDuration': 10,\n",
       "    'repetition': 500,\n",
       "    'spotSize': '2mm'}},\n",
       "  {'step': {'instrument': 'Lasik 2000',\n",
       "    'pulseEnergy': 5.4,\n",
       "    'pulseDuration': 12,\n",
       "    'repetition': 1000,\n",
       "    'spotSize': '1mm'}},\n",
       "  {'step': {'instrument': 'Lasik 2000',\n",
       "    'pulseEnergy': 5.0,\n",
       "    'pulseDuration': 10,\n",
       "    'repetition': 500,\n",
       "    'spotSize': '2mm'}}],\n",
       " {'Defaults': {'Company': 'foo', 'Item': 123},\n",
       "  'Computer': {'Company': 'foo', 'Item': 123, 'Price': 3000}},\n",
       " {'user_dir': '/home/user', 'user_pics': '/home/user'},\n",
       " {'kstr': 'cs_path/\\n  H2(X)_to_H2(X)_vibexc/\\n  H2A_H2B.csv\\n'}]"
      ]
     },
     "execution_count": 6,
     "metadata": {},
     "output_type": "execute_result"
    }
   ],
   "source": [
    "rctn"
   ]
  },
  {
   "cell_type": "code",
   "execution_count": null,
   "metadata": {},
   "outputs": [],
   "source": []
  }
 ],
 "metadata": {
  "kernelspec": {
   "display_name": "Python 3",
   "language": "python",
   "name": "python3"
  },
  "language_info": {
   "codemirror_mode": {
    "name": "ipython",
    "version": 3
   },
   "file_extension": ".py",
   "mimetype": "text/x-python",
   "name": "python",
   "nbconvert_exporter": "python",
   "pygments_lexer": "ipython3",
   "version": "3.7.3"
  },
  "toc": {
   "base_numbering": 1,
   "nav_menu": {},
   "number_sections": true,
   "sideBar": true,
   "skip_h1_title": false,
   "title_cell": "Table of Contents",
   "title_sidebar": "Contents",
   "toc_cell": false,
   "toc_position": {},
   "toc_section_display": true,
   "toc_window_display": true
  },
  "varInspector": {
   "cols": {
    "lenName": 16,
    "lenType": 16,
    "lenVar": 40
   },
   "kernels_config": {
    "python": {
     "delete_cmd_postfix": "",
     "delete_cmd_prefix": "del ",
     "library": "var_list.py",
     "varRefreshCmd": "print(var_dic_list())"
    },
    "r": {
     "delete_cmd_postfix": ") ",
     "delete_cmd_prefix": "rm(",
     "library": "var_list.r",
     "varRefreshCmd": "cat(var_dic_list()) "
    }
   },
   "types_to_exclude": [
    "module",
    "function",
    "builtin_function_or_method",
    "instance",
    "_Feature"
   ],
   "window_display": false
  }
 },
 "nbformat": 4,
 "nbformat_minor": 2
}
