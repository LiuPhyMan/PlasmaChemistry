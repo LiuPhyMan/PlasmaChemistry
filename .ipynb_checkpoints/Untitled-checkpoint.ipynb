{
 "cells": [
  {
   "cell_type": "code",
   "execution_count": 1,
   "metadata": {},
   "outputs": [],
   "source": [
    "import numpy as np\n",
    "import pandas as pd\n",
    "from scipy.integrate import solve_ivp\n",
    "from matplotlib import pyplot as plt\n",
    "from plasmistry.electron import EEDF\n",
    "from plasmistry.electron import get_maxwell_eedf\n",
    "np.set_printoptions(precision=1, linewidth=130, edgeitems=5)"
   ]
  },
  {
   "cell_type": "code",
   "execution_count": 2,
   "metadata": {},
   "outputs": [
    {
     "data": {
      "text/html": [
       "<div>\n",
       "<style scoped>\n",
       "    .dataframe tbody tr th:only-of-type {\n",
       "        vertical-align: middle;\n",
       "    }\n",
       "\n",
       "    .dataframe tbody tr th {\n",
       "        vertical-align: top;\n",
       "    }\n",
       "\n",
       "    .dataframe thead th {\n",
       "        text-align: right;\n",
       "    }\n",
       "</style>\n",
       "<table border=\"1\" class=\"dataframe\">\n",
       "  <thead>\n",
       "    <tr style=\"text-align: right;\">\n",
       "      <th></th>\n",
       "      <th>reaction</th>\n",
       "      <th>type</th>\n",
       "      <th>threshold_eV</th>\n",
       "      <th>cross_section</th>\n",
       "    </tr>\n",
       "  </thead>\n",
       "  <tbody>\n",
       "    <tr>\n",
       "      <th>0</th>\n",
       "      <td>E + H2 =&gt; E + H2(v1)</td>\n",
       "      <td>excitation</td>\n",
       "      <td>5</td>\n",
       "      <td>[[0.0, 0.20408163265306123, 0.4081632653061224...</td>\n",
       "    </tr>\n",
       "  </tbody>\n",
       "</table>\n",
       "</div>"
      ],
      "text/plain": [
       "               reaction        type  threshold_eV  \\\n",
       "0  E + H2 => E + H2(v1)  excitation             5   \n",
       "\n",
       "                                       cross_section  \n",
       "0  [[0.0, 0.20408163265306123, 0.4081632653061224...  "
      ]
     },
     "execution_count": 2,
     "metadata": {},
     "output_type": "execute_result"
    }
   ],
   "source": [
    "crostn_energy = np.linspace(0,10)\n",
    "crostn = np.ones_like(crostn_energy)*1e-20\n",
    "threshold = 5\n",
    "crostn[crostn_energy<5] = 0\n",
    "inelas_df = pd.DataFrame(dict(reaction=[\"E + H2 => E + H2(v1)\",], \n",
    "                             type=[\"excitation\",],\n",
    "                             threshold_eV=[5,],\n",
    "                             cross_section=[np.vstack((crostn_energy, crostn)),]))\n",
    "inelas_df"
   ]
  },
  {
   "cell_type": "code",
   "execution_count": 3,
   "metadata": {},
   "outputs": [
    {
     "data": {
      "text/plain": [
       "[<matplotlib.lines.Line2D at 0x16b92474d30>]"
      ]
     },
     "execution_count": 3,
     "metadata": {},
     "output_type": "execute_result"
    },
    {
     "data": {
      "image/png": "[encoded data removed]",
      "text/plain": [
       "<Figure size 432x288 with 1 Axes>"
      ]
     },
     "metadata": {
      "needs_background": "light"
     },
     "output_type": "display_data"
    }
   ],
   "source": [
    "_cs = inelas_df.at[0, \"cross_section\"]\n",
    "plt.plot(_cs[0],_cs[1], marker='.')"
   ]
  },
  {
   "cell_type": "markdown",
   "metadata": {},
   "source": [
    "# Creation\n",
    "##     *parameters*\n",
    "* **max_energy_eV** : *number*\n",
    "* **grid_number** : *number*"
   ]
  },
  {
   "cell_type": "code",
   "execution_count": 4,
   "metadata": {},
   "outputs": [],
   "source": [
    "eedf = EEDF(max_energy_eV=10, grid_number=50)"
   ]
  },
  {
   "cell_type": "markdown",
   "metadata": {},
   "source": [
    "# initialize\n",
    "## *parameters*\n",
    "* **rctn_with_crostn_df** : *data frame*\n",
    "* **total_species** : *list*"
   ]
  },
  {
   "cell_type": "code",
   "execution_count": 5,
   "metadata": {},
   "outputs": [],
   "source": [
    "eedf.initialize(rctn_with_crostn_df=inelas_df, total_species=['E', 'H2'])"
   ]
  },
  {
   "cell_type": "markdown",
   "metadata": {},
   "source": [
    "# Set parameters\n",
    "* **E** : *float*\n",
    "* **Tgas** : *float*\n",
    "* **N** : *float*"
   ]
  },
  {
   "cell_type": "code",
   "execution_count": 6,
   "metadata": {},
   "outputs": [],
   "source": [
    "eedf.set_parameters(E=100, Tgas=1000, N=1e20)"
   ]
  },
  {
   "cell_type": "markdown",
   "metadata": {},
   "source": [
    "# See the rate const matrix of electron"
   ]
  },
  {
   "cell_type": "code",
   "execution_count": 7,
   "metadata": {},
   "outputs": [
    {
     "data": {
      "text/plain": [
       "array([[ 0.0e+00,  0.0e+00,  0.0e+00,  0.0e+00,  0.0e+00, ...,  0.0e+00,  0.0e+00,  0.0e+00,  0.0e+00,  0.0e+00],\n",
       "       [ 0.0e+00,  0.0e+00,  0.0e+00,  0.0e+00,  0.0e+00, ...,  0.0e+00,  0.0e+00,  0.0e+00,  0.0e+00,  0.0e+00],\n",
       "       [ 0.0e+00,  0.0e+00,  0.0e+00,  0.0e+00,  0.0e+00, ...,  0.0e+00,  0.0e+00,  0.0e+00,  0.0e+00,  0.0e+00],\n",
       "       [ 0.0e+00,  0.0e+00,  0.0e+00,  0.0e+00,  0.0e+00, ...,  0.0e+00,  0.0e+00,  0.0e+00,  0.0e+00,  0.0e+00],\n",
       "       [ 0.0e+00,  0.0e+00,  0.0e+00,  0.0e+00,  0.0e+00, ...,  0.0e+00,  0.0e+00,  0.0e+00,  0.0e+00,  0.0e+00],\n",
       "       ...,\n",
       "       [ 0.0e+00,  0.0e+00,  0.0e+00,  0.0e+00,  0.0e+00, ..., -1.8e-14,  0.0e+00,  0.0e+00,  0.0e+00,  0.0e+00],\n",
       "       [ 0.0e+00,  0.0e+00,  0.0e+00,  0.0e+00,  0.0e+00, ...,  0.0e+00, -1.8e-14,  0.0e+00,  0.0e+00,  0.0e+00],\n",
       "       [ 0.0e+00,  0.0e+00,  0.0e+00,  0.0e+00,  0.0e+00, ...,  0.0e+00,  0.0e+00, -1.8e-14,  0.0e+00,  0.0e+00],\n",
       "       [ 0.0e+00,  0.0e+00,  0.0e+00,  0.0e+00,  0.0e+00, ...,  0.0e+00,  0.0e+00,  0.0e+00, -1.8e-14,  0.0e+00],\n",
       "       [ 0.0e+00,  0.0e+00,  0.0e+00,  0.0e+00,  0.0e+00, ...,  0.0e+00,  0.0e+00,  0.0e+00,  0.0e+00, -1.9e-14]])"
      ]
     },
     "execution_count": 7,
     "metadata": {},
     "output_type": "execute_result"
    }
   ],
   "source": [
    "eedf.rate_const_matrix_e_inelas_electron.toarray()"
   ]
  },
  {
   "cell_type": "code",
   "execution_count": 8,
   "metadata": {},
   "outputs": [
    {
     "data": {
      "text/plain": [
       "(50, 50)"
      ]
     },
     "execution_count": 8,
     "metadata": {},
     "output_type": "execute_result"
    }
   ],
   "source": [
    "eedf.rate_const_matrix_e_inelas_electron.shape"
   ]
  },
  {
   "cell_type": "code",
   "execution_count": 9,
   "metadata": {},
   "outputs": [
    {
     "data": {
      "text/plain": [
       "<matplotlib.lines.Line2D at 0x16b9251ffd0>"
      ]
     },
     "execution_count": 9,
     "metadata": {},
     "output_type": "execute_result"
    },
    {
     "data": {
      "image/png": "[encoded data removed]",
      "text/plain": [
       "<Figure size 432x288 with 1 Axes>"
      ]
     },
     "metadata": {
      "needs_background": "light"
     },
     "output_type": "display_data"
    }
   ],
   "source": [
    "plt.spy(eedf.rate_const_matrix_e_inelas_electron, markersize=2)"
   ]
  },
  {
   "cell_type": "markdown",
   "metadata": {},
   "source": [
    "# See the rate const matrix of molecule"
   ]
  },
  {
   "cell_type": "code",
   "execution_count": 10,
   "metadata": {},
   "outputs": [
    {
     "data": {
      "text/plain": [
       "array([[0.0e+00, 0.0e+00, 0.0e+00, 0.0e+00, 0.0e+00, 0.0e+00, 0.0e+00, 0.0e+00, 0.0e+00, 0.0e+00, 0.0e+00, 0.0e+00, 0.0e+00,\n",
       "        0.0e+00, 0.0e+00, 0.0e+00, 0.0e+00, 0.0e+00, 0.0e+00, 0.0e+00, 0.0e+00, 0.0e+00, 0.0e+00, 0.0e+00, 0.0e+00, 4.2e-34,\n",
       "        4.4e-34, 4.5e-34, 4.5e-34, 4.6e-34, 4.7e-34, 4.8e-34, 4.8e-34, 4.9e-34, 5.0e-34, 5.1e-34, 5.1e-34, 5.2e-34, 5.3e-34,\n",
       "        5.3e-34, 5.4e-34, 5.5e-34, 5.5e-34, 5.6e-34, 5.7e-34, 5.7e-34, 5.8e-34, 5.9e-34, 5.9e-34, 6.0e-34]])"
      ]
     },
     "execution_count": 10,
     "metadata": {},
     "output_type": "execute_result"
    }
   ],
   "source": [
    "eedf.rate_const_matrix_e_inelas_molecule"
   ]
  },
  {
   "cell_type": "code",
   "execution_count": 11,
   "metadata": {},
   "outputs": [
    {
     "data": {
      "text/plain": [
       "(1, 50)"
      ]
     },
     "execution_count": 11,
     "metadata": {},
     "output_type": "execute_result"
    }
   ],
   "source": [
    "eedf.rate_const_matrix_e_inelas_molecule.shape"
   ]
  },
  {
   "cell_type": "code",
   "execution_count": 12,
   "metadata": {},
   "outputs": [
    {
     "data": {
      "text/plain": [
       "[<matplotlib.lines.Line2D at 0x16b92589048>]"
      ]
     },
     "execution_count": 12,
     "metadata": {},
     "output_type": "execute_result"
    },
    {
     "data": {
      "image/png": "[encoded data removed]",
      "text/plain": [
       "<Figure size 432x288 with 1 Axes>"
      ]
     },
     "metadata": {
      "needs_background": "light"
     },
     "output_type": "display_data"
    }
   ],
   "source": [
    "plt.plot(eedf.energy_point_eV, eedf.rate_const_matrix_e_inelas_molecule[0], marker='.')"
   ]
  },
  {
   "cell_type": "markdown",
   "metadata": {},
   "source": [
    "# See the eedf properties"
   ]
  },
  {
   "cell_type": "code",
   "execution_count": 13,
   "metadata": {},
   "outputs": [],
   "source": [
    "eedf.set_density_per_J(get_maxwell_eedf(eedf.energy_point, Te_eV=3.0))"
   ]
  },
  {
   "cell_type": "code",
   "execution_count": 14,
   "metadata": {},
   "outputs": [
    {
     "name": "stdout",
     "output_type": "stream",
     "text": [
      "\n",
      "        \n",
      " ===============\n",
      "        \n",
      "     NUMBER OF DISCRETIZED CELLS : 50 cells\n",
      "        \n",
      "               ENERGY SPACE (eV) : (0.0, 10.0)\n",
      "        \n",
      "            ENERGY INTERVAL (eV) : 0.200 \n",
      "        \n",
      " ===============\n",
      "        \n",
      "            ELECTRON TEMPERATURE : 2.470 eV\n",
      "        \n",
      "                ELECTRON DENSITY : 9.13e-01 m^-3\n",
      "        \n",
      " ===============\n",
      "        \n",
      "              ELECTRIC FIELD (E) : 100 V/m\n",
      "        \n",
      "          GAS TEMPERATURE (Tgas) : 1000 K\n",
      "        \n",
      " BACKGROUND MOLECULE DENSITY (N) : 1.0e+20 m^-3\n",
      "        \n",
      "    REDUCED ELECTRIC FIELD (E/N) : 1000.0 Td\n",
      "        \n",
      " ===============\n",
      "        \n",
      "     ELASTIC COLLISION MOLECULES : ['H2']\n",
      "        \n",
      "   INELASTIC COLLISION MOLECULES : ['H2']\n",
      "        \n"
     ]
    }
   ],
   "source": [
    "print(eedf)"
   ]
  },
  {
   "cell_type": "code",
   "execution_count": 15,
   "metadata": {},
   "outputs": [
    {
     "data": {
      "image/png": "[encoded data removed]",
      "text/plain": [
       "<Figure size 432x288 with 1 Axes>"
      ]
     },
     "metadata": {
      "needs_background": "light"
     },
     "output_type": "display_data"
    }
   ],
   "source": [
    "eedf.plot_normalized_eedf()"
   ]
  },
  {
   "cell_type": "code",
   "execution_count": 16,
   "metadata": {},
   "outputs": [
    {
     "data": {
      "image/png": "[encoded data removed]",
      "text/plain": [
       "<Figure size 432x288 with 1 Axes>"
      ]
     },
     "metadata": {
      "needs_background": "light"
     },
     "output_type": "display_data"
    }
   ],
   "source": [
    "eedf.plot_normalized_eepf()"
   ]
  },
  {
   "cell_type": "code",
   "execution_count": 17,
   "metadata": {},
   "outputs": [
    {
     "data": {
      "text/plain": [
       "array([ 7414.7,  7281.3,  7068.8,  6853.4,  6636.3,  6418.8,  6201.7,  5985.9,  5772.2,  5561.1,  5353.2,  5149.1,  4949. ,\n",
       "        4753.2,  4562.2,  4376. ,  4194.9,  4018.9,  3848.2,  3682.7,  3522.7,  3367.9,  3218.4,  3074.3,  2935.3, -7414.7,\n",
       "       -7281.3, -7068.8, -6853.4, -6636.3, -6418.8, -6201.7, -5985.9, -5772.2, -5561.1, -5353.2, -5149.1, -4949. , -4753.2,\n",
       "       -4562.2, -4376. , -4194.9, -4018.9, -3848.2, -3682.7, -3522.7, -3367.9, -3218.4, -3074.3, -2935.3])"
      ]
     },
     "execution_count": 17,
     "metadata": {},
     "output_type": "execute_result"
    }
   ],
   "source": [
    "eedf._get_electron_rate_e_inelas(density=np.array([1,1]))"
   ]
  },
  {
   "cell_type": "code",
   "execution_count": 18,
   "metadata": {},
   "outputs": [],
   "source": [
    "def dndt(t, y):\n",
    "    eedf.set_density_per_J(y)\n",
    "    print(t)\n",
    "    return eedf._get_electron_rate_e_inelas(density=np.array([1,1])*1e20)"
   ]
  },
  {
   "cell_type": "code",
   "execution_count": 19,
   "metadata": {},
   "outputs": [
    {
     "name": "stdout",
     "output_type": "stream",
     "text": [
      "0.0\n",
      "8.011245763798173e-09\n",
      "0.0\n",
      "0.0\n",
      "0.0\n",
      "0.0\n",
      "0.0\n",
      "0.0\n",
      "0.0\n",
      "0.0\n",
      "0.0\n",
      "0.0\n",
      "0.0\n",
      "0.0\n",
      "0.0\n",
      "0.0\n",
      "0.0\n",
      "0.0\n",
      "0.0\n",
      "0.0\n",
      "0.0\n",
      "0.0\n",
      "0.0\n",
      "0.0\n",
      "0.0\n",
      "0.0\n",
      "0.0\n",
      "0.0\n",
      "0.0\n",
      "0.0\n",
      "0.0\n",
      "0.0\n",
      "0.0\n",
      "0.0\n",
      "0.0\n",
      "0.0\n",
      "0.0\n",
      "0.0\n",
      "0.0\n",
      "0.0\n",
      "0.0\n",
      "0.0\n",
      "0.0\n",
      "0.0\n",
      "0.0\n",
      "0.0\n",
      "0.0\n",
      "0.0\n",
      "0.0\n",
      "0.0\n",
      "0.0\n",
      "0.0\n",
      "0.0\n",
      "0.0\n",
      "0.0\n",
      "0.0\n",
      "0.0\n",
      "0.0\n",
      "0.0\n",
      "0.0\n",
      "0.0\n",
      "0.0\n",
      "0.0\n",
      "0.0\n",
      "0.0\n",
      "0.0\n",
      "0.0\n",
      "0.0\n",
      "0.0\n",
      "0.0\n",
      "0.0\n",
      "0.0\n",
      "0.0\n",
      "0.0\n",
      "0.0\n",
      "0.0\n",
      "0.0\n",
      "0.0\n",
      "2.2150082529300045e-09\n",
      "2.2150082529300045e-09\n",
      "4.430016505860009e-09\n",
      "4.430016505860009e-09\n",
      "2.6580099035160055e-08\n",
      "2.6580099035160055e-08\n",
      "4.8730181564460104e-08\n",
      "4.8730181564460104e-08\n",
      "1.2104216199398388e-07\n",
      "1.2104216199398388e-07\n",
      "1.9335414242350764e-07\n",
      "1.9335414242350764e-07\n",
      "2.656661228530314e-07\n",
      "2.656661228530314e-07\n",
      "4.0174616191024263e-07\n",
      "4.0174616191024263e-07\n",
      "5.378262009674538e-07\n",
      "5.378262009674538e-07\n",
      "6.739062400246651e-07\n",
      "6.739062400246651e-07\n",
      "8.099862790818763e-07\n",
      "8.099862790818763e-07\n",
      "9.929459729276533e-07\n",
      "9.929459729276533e-07\n",
      "1.1759056667734303e-06\n",
      "1.1759056667734303e-06\n",
      "1.3588653606192073e-06\n",
      "1.3588653606192073e-06\n",
      "1.5418250544649843e-06\n",
      "1.5418250544649843e-06\n",
      "1.7247847483107613e-06\n",
      "1.7247847483107613e-06\n",
      "1.911055990166538e-06\n",
      "1.911055990166538e-06\n",
      "2.097327232022315e-06\n",
      "2.097327232022315e-06\n",
      "2.283598473878092e-06\n",
      "2.283598473878092e-06\n",
      "2.4698697157338687e-06\n",
      "2.4698697157338687e-06\n",
      "2.6561409575896456e-06\n",
      "2.6561409575896456e-06\n",
      "2.8324810494734187e-06\n",
      "2.8324810494734187e-06\n",
      "3.008821141357192e-06\n",
      "3.008821141357192e-06\n",
      "3.185161233240965e-06\n",
      "3.185161233240965e-06\n",
      "3.3615013251247383e-06\n",
      "3.3615013251247383e-06\n",
      "3.5378414170085114e-06\n",
      "3.5378414170085114e-06\n",
      "3.7114184748313794e-06\n",
      "3.7114184748313794e-06\n",
      "3.884995532654247e-06\n",
      "3.884995532654247e-06\n",
      "4.0585725904771145e-06\n",
      "4.0585725904771145e-06\n",
      "4.232149648299982e-06\n",
      "4.232149648299982e-06\n",
      "4.4057267061228495e-06\n",
      "4.4057267061228495e-06\n",
      "4.579303763945717e-06\n",
      "4.579303763945717e-06\n",
      "4.800565515067511e-06\n",
      "4.800565515067511e-06\n",
      "5.021827266189305e-06\n",
      "5.021827266189305e-06\n",
      "4.972171240215802e-06\n",
      "4.972171240215802e-06\n",
      "5.143776965364094e-06\n",
      "5.143776965364094e-06\n",
      "5.315382690512385e-06\n",
      "5.315382690512385e-06\n",
      "5.4869884156606765e-06\n",
      "5.4869884156606765e-06\n",
      "5.658594140808968e-06\n",
      "5.658594140808968e-06\n",
      "5.830199865957259e-06\n",
      "5.830199865957259e-06\n",
      "6.0199912531671004e-06\n",
      "6.0199912531671004e-06\n",
      "6.2097826403769415e-06\n",
      "6.2097826403769415e-06\n",
      "6.3995740275867825e-06\n",
      "6.3995740275867825e-06\n",
      "6.5893654147966236e-06\n",
      "6.5893654147966236e-06\n",
      "6.779156802006465e-06\n",
      "6.779156802006465e-06\n",
      "6.960488291418902e-06\n",
      "6.960488291418902e-06\n",
      "7.14181978083134e-06\n",
      "7.14181978083134e-06\n",
      "7.323151270243778e-06\n",
      "7.323151270243778e-06\n",
      "7.504482759656216e-06\n",
      "7.504482759656216e-06\n",
      "7.685814249068654e-06\n",
      "7.685814249068654e-06\n",
      "7.861003235418245e-06\n",
      "7.861003235418245e-06\n",
      "8.036192221767836e-06\n",
      "8.036192221767836e-06\n",
      "8.211381208117427e-06\n",
      "8.211381208117427e-06\n",
      "8.386570194467018e-06\n",
      "8.386570194467018e-06\n",
      "8.561759180816609e-06\n",
      "8.561759180816609e-06\n",
      "8.738321881168429e-06\n",
      "8.738321881168429e-06\n",
      "8.91488458152025e-06\n",
      "8.91488458152025e-06\n",
      "9.09144728187207e-06\n",
      "9.09144728187207e-06\n",
      "9.26800998222389e-06\n",
      "9.26800998222389e-06\n",
      "9.44457268257571e-06\n",
      "9.44457268257571e-06\n",
      "9.62113538292753e-06\n",
      "9.62113538292753e-06\n",
      "9.83999405733185e-06\n",
      "9.83999405733185e-06\n",
      "1.0058852731736169e-05\n",
      "1.0058852731736169e-05\n",
      "1.0009515143039825e-05\n",
      "1.0009515143039825e-05\n",
      "1.01790362287478e-05\n",
      "1.01790362287478e-05\n",
      "1.0348557314455776e-05\n",
      "1.0348557314455776e-05\n",
      "1.0518078400163752e-05\n",
      "1.0518078400163752e-05\n",
      "1.0687599485871727e-05\n",
      "1.0687599485871727e-05\n",
      "1.0857120571579703e-05\n",
      "1.0857120571579703e-05\n",
      "1.1052383140770636e-05\n",
      "1.1052383140770636e-05\n",
      "1.124764570996157e-05\n",
      "1.124764570996157e-05\n",
      "1.1442908279152503e-05\n",
      "1.1442908279152503e-05\n",
      "1.140449244732845e-05\n",
      "1.140449244732845e-05\n",
      "1.1561339184695331e-05\n",
      "1.1561339184695331e-05\n",
      "1.1718185922062212e-05\n",
      "1.1718185922062212e-05\n",
      "1.1875032659429093e-05\n",
      "1.1875032659429093e-05\n",
      "1.2031879396795974e-05\n",
      "1.2031879396795974e-05\n",
      "1.2190506305694188e-05\n",
      "1.2190506305694188e-05\n",
      "1.2349133214592403e-05\n",
      "1.2349133214592403e-05\n",
      "1.2507760123490617e-05\n",
      "1.2507760123490617e-05\n",
      "1.2666387032388831e-05\n",
      "1.2666387032388831e-05\n",
      "1.2825013941287046e-05\n",
      "1.2825013941287046e-05\n",
      "1.3030426439154671e-05\n",
      "1.3030426439154671e-05\n",
      "1.3235838937022297e-05\n",
      "1.3235838937022297e-05\n",
      "1.3441251434889923e-05\n",
      "1.3441251434889923e-05\n",
      "1.339585145292396e-05\n",
      "1.339585145292396e-05\n",
      "1.3555863968825621e-05\n",
      "1.3555863968825621e-05\n",
      "1.3715876484727284e-05\n",
      "1.3715876484727284e-05\n",
      "1.3875889000628946e-05\n",
      "1.3875889000628946e-05\n",
      "1.4035901516530608e-05\n",
      "1.4035901516530608e-05\n",
      "1.419591403243227e-05\n",
      "1.419591403243227e-05\n",
      "1.4424067223793272e-05\n",
      "1.4424067223793272e-05\n",
      "1.4652220415154273e-05\n",
      "1.4652220415154273e-05\n",
      "1.458439420134525e-05\n",
      "1.458439420134525e-05\n",
      "1.4744721178897228e-05\n",
      "1.4744721178897228e-05\n",
      "1.4905048156449206e-05\n",
      "1.4905048156449206e-05\n",
      "1.5065375134001185e-05\n",
      "1.5065375134001185e-05\n",
      "1.5225702111553163e-05\n",
      "1.5225702111553163e-05\n",
      "1.5389250976286057e-05\n",
      "1.5389250976286057e-05\n",
      "1.555279984101895e-05\n",
      "1.555279984101895e-05\n",
      "1.5716348705751845e-05\n",
      "1.5716348705751845e-05\n",
      "1.587989757048474e-05\n",
      "1.587989757048474e-05\n",
      "1.6043446435217633e-05\n",
      "1.6043446435217633e-05\n",
      "1.6224423101270862e-05\n",
      "1.6224423101270862e-05\n",
      "1.6405399767324092e-05\n",
      "1.6405399767324092e-05\n",
      "1.658637643337732e-05\n",
      "1.658637643337732e-05\n",
      "1.676735309943055e-05\n",
      "1.676735309943055e-05\n",
      "1.694832976548378e-05\n",
      "1.694832976548378e-05\n",
      "1.712930643153701e-05\n",
      "1.712930643153701e-05\n",
      "1.7352845275600625e-05\n",
      "1.7352845275600625e-05\n",
      "1.7308169595638125e-05\n",
      "1.7308169595638125e-05\n",
      "1.748703275973924e-05\n",
      "1.748703275973924e-05\n",
      "1.7665895923840356e-05\n",
      "1.7665895923840356e-05\n",
      "1.784475908794147e-05\n",
      "1.784475908794147e-05\n",
      "1.8023622252042587e-05\n",
      "1.8023622252042587e-05\n",
      "1.8202485416143702e-05\n",
      "1.8202485416143702e-05\n",
      "1.8369352978258086e-05\n",
      "1.8369352978258086e-05\n",
      "1.853622054037247e-05\n",
      "1.853622054037247e-05\n",
      "1.8703088102486854e-05\n",
      "1.8703088102486854e-05\n",
      "1.8869955664601238e-05\n",
      "1.8869955664601238e-05\n",
      "1.9036823226715622e-05\n",
      "1.9036823226715622e-05\n",
      "1.920869279171964e-05\n",
      "1.920869279171964e-05\n",
      "1.9380562356723655e-05\n",
      "1.9380562356723655e-05\n",
      "1.955243192172767e-05\n",
      "1.955243192172767e-05\n",
      "1.9724301486731687e-05\n",
      "1.9724301486731687e-05\n",
      "1.9896171051735703e-05\n",
      "1.9896171051735703e-05\n",
      "2.0066882489618593e-05\n",
      "2.0066882489618593e-05\n",
      "2.0237593927501482e-05\n",
      "2.0237593927501482e-05\n",
      "2.040830536538437e-05\n",
      "2.040830536538437e-05\n",
      "2.057901680326726e-05\n",
      "2.057901680326726e-05\n",
      "2.074972824115015e-05\n",
      "2.074972824115015e-05\n",
      "2.0922019096079004e-05\n",
      "2.0922019096079004e-05\n",
      "2.1094309951007858e-05\n",
      "2.1094309951007858e-05\n",
      "2.1266600805936712e-05\n",
      "2.1266600805936712e-05\n",
      "2.1438891660865566e-05\n",
      "2.1438891660865566e-05\n",
      "2.161118251579442e-05\n",
      "2.161118251579442e-05\n",
      "2.1783473370723273e-05\n",
      "2.1783473370723273e-05\n",
      "2.1979930442740193e-05\n",
      "2.1979930442740193e-05\n",
      "2.2176387514757112e-05\n",
      "2.2176387514757112e-05\n",
      "2.237284458677403e-05\n",
      "2.237284458677403e-05\n",
      "2.256930165879095e-05\n",
      "2.256930165879095e-05\n",
      "2.276575873080787e-05\n",
      "2.276575873080787e-05\n",
      "2.296221580282479e-05\n",
      "2.296221580282479e-05\n",
      "2.3146077950047897e-05\n",
      "2.3146077950047897e-05\n",
      "2.3329940097271005e-05\n",
      "2.3329940097271005e-05\n",
      "2.3513802244494113e-05\n",
      "2.3513802244494113e-05\n",
      "2.369766439171722e-05\n",
      "2.369766439171722e-05\n",
      "2.3881526538940328e-05\n",
      "2.3881526538940328e-05\n",
      "2.4065388686163436e-05\n",
      "2.4065388686163436e-05\n",
      "2.4243276014958663e-05\n",
      "2.4243276014958663e-05\n",
      "2.442116334375389e-05\n",
      "2.442116334375389e-05\n",
      "2.4599050672549117e-05\n",
      "2.4599050672549117e-05\n",
      "2.4776938001344343e-05\n",
      "2.4776938001344343e-05\n",
      "2.495482533013957e-05\n",
      "2.495482533013957e-05\n",
      "2.5136751100059178e-05\n",
      "2.5136751100059178e-05\n",
      "2.5318676869978785e-05\n",
      "2.5318676869978785e-05\n",
      "2.5500602639898392e-05\n",
      "2.5500602639898392e-05\n",
      "2.5682528409818e-05\n",
      "2.5682528409818e-05\n",
      "2.5864454179737607e-05\n",
      "2.5864454179737607e-05\n",
      "2.604959620103154e-05\n",
      "2.604959620103154e-05\n",
      "2.6234738222325476e-05\n",
      "2.6234738222325476e-05\n",
      "2.641988024361941e-05\n",
      "2.641988024361941e-05\n",
      "2.6605022264913346e-05\n",
      "2.6605022264913346e-05\n",
      "2.679016428620728e-05\n",
      "2.679016428620728e-05\n",
      "2.6986123060913614e-05\n",
      "2.6986123060913614e-05\n",
      "2.7182081835619947e-05\n",
      "2.7182081835619947e-05\n",
      "2.737804061032628e-05\n",
      "2.737804061032628e-05\n",
      "2.7573999385032614e-05\n",
      "2.7573999385032614e-05\n",
      "2.7769958159738947e-05\n",
      "2.7769958159738947e-05\n",
      "2.796591693444528e-05\n",
      "2.796591693444528e-05\n",
      "2.8207821023397854e-05\n",
      "2.8207821023397854e-05\n",
      "2.8449725112350428e-05\n",
      "2.8449725112350428e-05\n",
      "2.8691629201303002e-05\n",
      "2.8691629201303002e-05\n",
      "2.8933533290255576e-05\n",
      "2.8933533290255576e-05\n",
      "2.917543737920815e-05\n",
      "2.917543737920815e-05\n",
      "2.9417341468160723e-05\n",
      "2.9417341468160723e-05\n",
      "2.9643216681771322e-05\n",
      "2.9643216681771322e-05\n",
      "2.986909189538192e-05\n",
      "2.986909189538192e-05\n",
      "3.009496710899252e-05\n",
      "3.009496710899252e-05\n",
      "3.0320842322603117e-05\n",
      "3.0320842322603117e-05\n",
      "3.0546717536213716e-05\n",
      "3.0546717536213716e-05\n",
      "3.077259274982432e-05\n",
      "3.077259274982432e-05\n",
      "3.10052697159085e-05\n",
      "3.10052697159085e-05\n",
      "3.1237946681992684e-05\n",
      "3.1237946681992684e-05\n",
      "3.147062364807687e-05\n",
      "3.147062364807687e-05\n",
      "3.170330061416105e-05\n",
      "3.170330061416105e-05\n",
      "3.1935977580245234e-05\n",
      "3.1935977580245234e-05\n",
      "3.2181068043909925e-05\n",
      "3.2181068043909925e-05\n",
      "3.242615850757462e-05\n",
      "3.242615850757462e-05\n",
      "3.267124897123931e-05\n",
      "3.267124897123931e-05\n",
      "3.2916339434904e-05\n",
      "3.2916339434904e-05\n",
      "3.316142989856869e-05\n",
      "3.316142989856869e-05\n",
      "3.341722275532072e-05\n",
      "3.341722275532072e-05\n",
      "3.367301561207275e-05\n",
      "3.367301561207275e-05\n",
      "3.392880846882478e-05\n",
      "3.392880846882478e-05\n",
      "3.418460132557681e-05\n",
      "3.418460132557681e-05\n",
      "3.444039418232884e-05\n",
      "3.444039418232884e-05\n",
      "3.471939721443704e-05\n",
      "3.471939721443704e-05\n",
      "3.4998400246545236e-05\n",
      "3.4998400246545236e-05\n",
      "3.527740327865343e-05\n",
      "3.527740327865343e-05\n",
      "3.555640631076163e-05\n",
      "3.555640631076163e-05\n",
      "3.583540934286983e-05\n",
      "3.583540934286983e-05\n",
      "3.615821878966039e-05\n",
      "3.615821878966039e-05\n",
      "3.648102823645095e-05\n",
      "3.648102823645095e-05\n",
      "3.680383768324151e-05\n",
      "3.680383768324151e-05\n",
      "3.712664713003207e-05\n",
      "3.712664713003207e-05\n",
      "3.7449456576822635e-05\n",
      "3.7449456576822635e-05\n",
      "3.788438741145414e-05\n",
      "3.788438741145414e-05\n",
      "3.831931824608564e-05\n",
      "3.831931824608564e-05\n",
      "3.875424908071715e-05\n",
      "3.875424908071715e-05\n",
      "3.918917991534865e-05\n",
      "3.918917991534865e-05\n",
      "3.9624110749980156e-05\n",
      "3.9624110749980156e-05\n",
      "4.0405064974134705e-05\n",
      "4.0405064974134705e-05\n",
      "4.1186019198289255e-05\n",
      "4.1186019198289255e-05\n",
      "4.1966973422443804e-05\n",
      "4.1966973422443804e-05\n",
      "4.274792764659835e-05\n",
      "4.274792764659835e-05\n",
      "5.038398915366108e-05\n",
      "5.038398915366108e-05\n",
      "5.802005066072381e-05\n",
      "5.802005066072381e-05\n",
      "6.565611216778654e-05\n",
      "6.565611216778654e-05\n",
      "8.965404218977543e-05\n",
      "8.965404218977543e-05\n",
      "0.00011365197221176431\n",
      "0.00011365197221176431\n",
      "0.00035363127243165317\n",
      "0.00035363127243165317\n",
      "0.000593610572651542\n",
      "0.000593610572651542\n",
      "0.0029934035748504307\n",
      "0.0029934035748504307\n",
      "0.005393196577049319\n",
      "0.005393196577049319\n",
      "0.029391126599038205\n",
      "0.029391126599038205\n",
      "0.05338905662102709\n",
      "0.05338905662102709\n",
      "0.29336835684091594\n",
      "0.29336835684091594\n",
      "0.5333476570608048\n",
      "0.5333476570608048\n",
      "2.9331406592596934\n",
      "2.9331406592596934\n",
      "5.332933661458582\n",
      "5.332933661458582\n",
      "10.0\n",
      "10.0\n"
     ]
    }
   ],
   "source": [
    "y0 = eedf.density_per_J\n",
    "sol = solve_ivp(dndt, [0,10],y0, method=\"BDF\")"
   ]
  },
  {
   "cell_type": "code",
   "execution_count": 20,
   "metadata": {},
   "outputs": [
    {
     "data": {
      "text/plain": [
       "array([0.0e+00, 2.2e-09, 4.4e-09, 2.7e-08, 4.9e-08, 1.2e-07, 1.9e-07, 2.7e-07, 4.0e-07, 5.4e-07, 6.7e-07, 8.1e-07, 9.9e-07,\n",
       "       1.2e-06, 1.4e-06, 1.5e-06, 1.7e-06, 1.9e-06, 2.1e-06, 2.3e-06, 2.5e-06, 2.7e-06, 2.8e-06, 3.0e-06, 3.2e-06, 3.4e-06,\n",
       "       3.5e-06, 3.7e-06, 3.9e-06, 4.1e-06, 4.2e-06, 4.4e-06, 4.6e-06, 4.8e-06, 5.0e-06, 5.1e-06, 5.3e-06, 5.5e-06, 5.7e-06,\n",
       "       5.8e-06, 6.0e-06, 6.2e-06, 6.4e-06, 6.6e-06, 6.8e-06, 7.0e-06, 7.1e-06, 7.3e-06, 7.5e-06, 7.7e-06, 7.9e-06, 8.0e-06,\n",
       "       8.2e-06, 8.4e-06, 8.6e-06, 8.7e-06, 8.9e-06, 9.1e-06, 9.3e-06, 9.4e-06, 9.6e-06, 9.8e-06, 1.0e-05, 1.0e-05, 1.0e-05,\n",
       "       1.1e-05, 1.1e-05, 1.1e-05, 1.1e-05, 1.1e-05, 1.1e-05, 1.2e-05, 1.2e-05, 1.2e-05, 1.2e-05, 1.2e-05, 1.2e-05, 1.3e-05,\n",
       "       1.3e-05, 1.3e-05, 1.3e-05, 1.3e-05, 1.3e-05, 1.4e-05, 1.4e-05, 1.4e-05, 1.4e-05, 1.4e-05, 1.4e-05, 1.5e-05, 1.5e-05,\n",
       "       1.5e-05, 1.5e-05, 1.5e-05, 1.5e-05, 1.6e-05, 1.6e-05, 1.6e-05, 1.6e-05, 1.6e-05, 1.6e-05, 1.7e-05, 1.7e-05, 1.7e-05,\n",
       "       1.7e-05, 1.7e-05, 1.7e-05, 1.8e-05, 1.8e-05, 1.8e-05, 1.8e-05, 1.8e-05, 1.9e-05, 1.9e-05, 1.9e-05, 1.9e-05, 1.9e-05,\n",
       "       1.9e-05, 2.0e-05, 2.0e-05, 2.0e-05, 2.0e-05, 2.0e-05, 2.0e-05, 2.1e-05, 2.1e-05, 2.1e-05, 2.1e-05, 2.1e-05, 2.1e-05,\n",
       "       2.2e-05, 2.2e-05, 2.2e-05, 2.2e-05, 2.2e-05, 2.3e-05, 2.3e-05, 2.3e-05, 2.3e-05, 2.3e-05, 2.4e-05, 2.4e-05, 2.4e-05,\n",
       "       2.4e-05, 2.4e-05, 2.4e-05, 2.5e-05, 2.5e-05, 2.5e-05, 2.5e-05, 2.5e-05, 2.6e-05, 2.6e-05, 2.6e-05, 2.6e-05, 2.6e-05,\n",
       "       2.6e-05, 2.7e-05, 2.7e-05, 2.7e-05, 2.7e-05, 2.7e-05, 2.8e-05, 2.8e-05, 2.8e-05, 2.8e-05, 2.8e-05, 2.9e-05, 2.9e-05,\n",
       "       2.9e-05, 2.9e-05, 3.0e-05, 3.0e-05, 3.0e-05, 3.0e-05, 3.1e-05, 3.1e-05, 3.1e-05, 3.1e-05, 3.1e-05, 3.2e-05, 3.2e-05,\n",
       "       3.2e-05, 3.2e-05, 3.3e-05, 3.3e-05, 3.3e-05, 3.3e-05, 3.4e-05, 3.4e-05, 3.4e-05, 3.4e-05, 3.5e-05, 3.5e-05, 3.5e-05,\n",
       "       3.6e-05, 3.6e-05, 3.6e-05, 3.6e-05, 3.7e-05, 3.7e-05, 3.7e-05, 3.8e-05, 3.8e-05, 3.9e-05, 3.9e-05, 4.0e-05, 4.0e-05,\n",
       "       4.1e-05, 4.2e-05, 4.3e-05, 5.0e-05, 5.8e-05, 6.6e-05, 9.0e-05, 1.1e-04, 3.5e-04, 5.9e-04, 3.0e-03, 5.4e-03, 2.9e-02,\n",
       "       5.3e-02, 2.9e-01, 5.3e-01, 2.9e+00, 5.3e+00, 1.0e+01])"
      ]
     },
     "execution_count": 20,
     "metadata": {},
     "output_type": "execute_result"
    }
   ],
   "source": [
    "sol.t"
   ]
  },
  {
   "cell_type": "code",
   "execution_count": 21,
   "metadata": {},
   "outputs": [
    {
     "data": {
      "text/plain": [
       "array([[ 4.1e+17,  4.2e+17,  4.2e+17,  4.3e+17,  4.5e+17, ...,  9.7e+17,  9.7e+17,  9.7e+17,  9.7e+17,  9.7e+17],\n",
       "       [ 6.7e+17,  6.7e+17,  6.7e+17,  6.9e+17,  7.1e+17, ...,  1.2e+18,  1.2e+18,  1.2e+18,  1.2e+18,  1.2e+18],\n",
       "       [ 8.1e+17,  8.1e+17,  8.1e+17,  8.3e+17,  8.4e+17, ...,  1.3e+18,  1.3e+18,  1.3e+18,  1.3e+18,  1.3e+18],\n",
       "       [ 9.0e+17,  9.0e+17,  9.0e+17,  9.2e+17,  9.3e+17, ...,  1.4e+18,  1.4e+18,  1.4e+18,  1.4e+18,  1.4e+18],\n",
       "       [ 9.5e+17,  9.5e+17,  9.6e+17,  9.7e+17,  9.8e+17, ...,  1.4e+18,  1.4e+18,  1.4e+18,  1.4e+18,  1.4e+18],\n",
       "       ...,\n",
       "       [ 2.0e+17,  2.0e+17,  2.0e+17,  1.9e+17,  1.8e+17, ...,  4.2e-33, -3.0e-37, -1.8e-39,  1.2e-44,  7.7e-47],\n",
       "       [ 1.9e+17,  1.9e+17,  1.8e+17,  1.8e+17,  1.7e+17, ...,  1.7e-33, -1.5e-37, -7.3e-40,  6.1e-45,  3.1e-47],\n",
       "       [ 1.8e+17,  1.8e+17,  1.7e+17,  1.7e+17,  1.6e+17, ...,  7.0e-34, -7.4e-38, -3.0e-40,  3.0e-45,  1.2e-47],\n",
       "       [ 1.7e+17,  1.7e+17,  1.7e+17,  1.6e+17,  1.5e+17, ...,  2.8e-34, -3.7e-38, -1.2e-40,  1.5e-45,  4.9e-48],\n",
       "       [ 1.6e+17,  1.6e+17,  1.6e+17,  1.5e+17,  1.4e+17, ...,  1.0e-34, -1.9e-38, -4.3e-41,  7.7e-46,  1.8e-48]])"
      ]
     },
     "execution_count": 21,
     "metadata": {},
     "output_type": "execute_result"
    }
   ],
   "source": [
    "sol.y"
   ]
  },
  {
   "cell_type": "code",
   "execution_count": 22,
   "metadata": {},
   "outputs": [
    {
     "data": {
      "text/plain": [
       "[<matplotlib.lines.Line2D at 0x16b927155f8>,\n",
       " <matplotlib.lines.Line2D at 0x16b927135f8>,\n",
       " <matplotlib.lines.Line2D at 0x16b92713748>,\n",
       " <matplotlib.lines.Line2D at 0x16b92713898>,\n",
       " <matplotlib.lines.Line2D at 0x16b927139e8>,\n",
       " <matplotlib.lines.Line2D at 0x16b92713b38>,\n",
       " <matplotlib.lines.Line2D at 0x16b92713c88>,\n",
       " <matplotlib.lines.Line2D at 0x16b92713dd8>,\n",
       " <matplotlib.lines.Line2D at 0x16b92713f28>,\n",
       " <matplotlib.lines.Line2D at 0x16b926fd0b8>,\n",
       " <matplotlib.lines.Line2D at 0x16b926f2c18>,\n",
       " <matplotlib.lines.Line2D at 0x16b926fd320>,\n",
       " <matplotlib.lines.Line2D at 0x16b926fd470>,\n",
       " <matplotlib.lines.Line2D at 0x16b926fd5c0>,\n",
       " <matplotlib.lines.Line2D at 0x16b926fd710>,\n",
       " <matplotlib.lines.Line2D at 0x16b926fd860>,\n",
       " <matplotlib.lines.Line2D at 0x16b926fd9b0>,\n",
       " <matplotlib.lines.Line2D at 0x16b926fdb00>,\n",
       " <matplotlib.lines.Line2D at 0x16b926fdc50>,\n",
       " <matplotlib.lines.Line2D at 0x16b926fdda0>,\n",
       " <matplotlib.lines.Line2D at 0x16b926fdef0>,\n",
       " <matplotlib.lines.Line2D at 0x16b92708080>,\n",
       " <matplotlib.lines.Line2D at 0x16b927081d0>,\n",
       " <matplotlib.lines.Line2D at 0x16b92708320>,\n",
       " <matplotlib.lines.Line2D at 0x16b92708470>,\n",
       " <matplotlib.lines.Line2D at 0x16b927085c0>,\n",
       " <matplotlib.lines.Line2D at 0x16b92708710>,\n",
       " <matplotlib.lines.Line2D at 0x16b92708860>,\n",
       " <matplotlib.lines.Line2D at 0x16b927089b0>,\n",
       " <matplotlib.lines.Line2D at 0x16b92708b00>,\n",
       " <matplotlib.lines.Line2D at 0x16b92708c50>,\n",
       " <matplotlib.lines.Line2D at 0x16b92708da0>,\n",
       " <matplotlib.lines.Line2D at 0x16b92708ef0>,\n",
       " <matplotlib.lines.Line2D at 0x16b926f9080>,\n",
       " <matplotlib.lines.Line2D at 0x16b926f91d0>,\n",
       " <matplotlib.lines.Line2D at 0x16b926f9320>,\n",
       " <matplotlib.lines.Line2D at 0x16b926f9470>,\n",
       " <matplotlib.lines.Line2D at 0x16b926f95c0>,\n",
       " <matplotlib.lines.Line2D at 0x16b926f9710>,\n",
       " <matplotlib.lines.Line2D at 0x16b926f9860>,\n",
       " <matplotlib.lines.Line2D at 0x16b926f99b0>,\n",
       " <matplotlib.lines.Line2D at 0x16b926f9b00>,\n",
       " <matplotlib.lines.Line2D at 0x16b926f9c50>,\n",
       " <matplotlib.lines.Line2D at 0x16b926f9da0>,\n",
       " <matplotlib.lines.Line2D at 0x16b926f9ef0>,\n",
       " <matplotlib.lines.Line2D at 0x16b92724080>,\n",
       " <matplotlib.lines.Line2D at 0x16b927241d0>,\n",
       " <matplotlib.lines.Line2D at 0x16b92724320>,\n",
       " <matplotlib.lines.Line2D at 0x16b92724470>,\n",
       " <matplotlib.lines.Line2D at 0x16b927245c0>,\n",
       " <matplotlib.lines.Line2D at 0x16b92724710>,\n",
       " <matplotlib.lines.Line2D at 0x16b92724860>,\n",
       " <matplotlib.lines.Line2D at 0x16b927249b0>,\n",
       " <matplotlib.lines.Line2D at 0x16b92724b00>,\n",
       " <matplotlib.lines.Line2D at 0x16b92724c50>,\n",
       " <matplotlib.lines.Line2D at 0x16b92724da0>,\n",
       " <matplotlib.lines.Line2D at 0x16b92724ef0>,\n",
       " <matplotlib.lines.Line2D at 0x16b92736080>,\n",
       " <matplotlib.lines.Line2D at 0x16b927361d0>,\n",
       " <matplotlib.lines.Line2D at 0x16b92736320>,\n",
       " <matplotlib.lines.Line2D at 0x16b92736470>,\n",
       " <matplotlib.lines.Line2D at 0x16b927365c0>,\n",
       " <matplotlib.lines.Line2D at 0x16b92736710>,\n",
       " <matplotlib.lines.Line2D at 0x16b92736860>,\n",
       " <matplotlib.lines.Line2D at 0x16b927369b0>,\n",
       " <matplotlib.lines.Line2D at 0x16b92736b00>,\n",
       " <matplotlib.lines.Line2D at 0x16b92736c50>,\n",
       " <matplotlib.lines.Line2D at 0x16b92736da0>,\n",
       " <matplotlib.lines.Line2D at 0x16b92736ef0>,\n",
       " <matplotlib.lines.Line2D at 0x16b9273d080>,\n",
       " <matplotlib.lines.Line2D at 0x16b9273d1d0>,\n",
       " <matplotlib.lines.Line2D at 0x16b9273d320>,\n",
       " <matplotlib.lines.Line2D at 0x16b9273d470>,\n",
       " <matplotlib.lines.Line2D at 0x16b9273d5c0>,\n",
       " <matplotlib.lines.Line2D at 0x16b9273d710>,\n",
       " <matplotlib.lines.Line2D at 0x16b9273d860>,\n",
       " <matplotlib.lines.Line2D at 0x16b9273d9b0>,\n",
       " <matplotlib.lines.Line2D at 0x16b9273db00>,\n",
       " <matplotlib.lines.Line2D at 0x16b9273dc50>,\n",
       " <matplotlib.lines.Line2D at 0x16b9273dda0>,\n",
       " <matplotlib.lines.Line2D at 0x16b9273def0>,\n",
       " <matplotlib.lines.Line2D at 0x16b9274a080>,\n",
       " <matplotlib.lines.Line2D at 0x16b9274a1d0>,\n",
       " <matplotlib.lines.Line2D at 0x16b9274a320>,\n",
       " <matplotlib.lines.Line2D at 0x16b9274a470>,\n",
       " <matplotlib.lines.Line2D at 0x16b9274a5c0>,\n",
       " <matplotlib.lines.Line2D at 0x16b9274a710>,\n",
       " <matplotlib.lines.Line2D at 0x16b9274a860>,\n",
       " <matplotlib.lines.Line2D at 0x16b92725588>,\n",
       " <matplotlib.lines.Line2D at 0x16b9274ab00>,\n",
       " <matplotlib.lines.Line2D at 0x16b9274ac50>,\n",
       " <matplotlib.lines.Line2D at 0x16b9274ada0>,\n",
       " <matplotlib.lines.Line2D at 0x16b9274aef0>,\n",
       " <matplotlib.lines.Line2D at 0x16b9274e080>,\n",
       " <matplotlib.lines.Line2D at 0x16b9274e1d0>,\n",
       " <matplotlib.lines.Line2D at 0x16b9274e320>,\n",
       " <matplotlib.lines.Line2D at 0x16b9274e470>,\n",
       " <matplotlib.lines.Line2D at 0x16b9274e5c0>,\n",
       " <matplotlib.lines.Line2D at 0x16b9274e710>,\n",
       " <matplotlib.lines.Line2D at 0x16b9274e860>,\n",
       " <matplotlib.lines.Line2D at 0x16b9274e9b0>,\n",
       " <matplotlib.lines.Line2D at 0x16b9274eb00>,\n",
       " <matplotlib.lines.Line2D at 0x16b9274ec50>,\n",
       " <matplotlib.lines.Line2D at 0x16b9274eda0>,\n",
       " <matplotlib.lines.Line2D at 0x16b9274eef0>,\n",
       " <matplotlib.lines.Line2D at 0x16b92753080>,\n",
       " <matplotlib.lines.Line2D at 0x16b927531d0>,\n",
       " <matplotlib.lines.Line2D at 0x16b92753320>,\n",
       " <matplotlib.lines.Line2D at 0x16b92753470>,\n",
       " <matplotlib.lines.Line2D at 0x16b927535c0>,\n",
       " <matplotlib.lines.Line2D at 0x16b92753710>,\n",
       " <matplotlib.lines.Line2D at 0x16b92753860>,\n",
       " <matplotlib.lines.Line2D at 0x16b927539b0>,\n",
       " <matplotlib.lines.Line2D at 0x16b92753b00>,\n",
       " <matplotlib.lines.Line2D at 0x16b92753c50>,\n",
       " <matplotlib.lines.Line2D at 0x16b92753da0>,\n",
       " <matplotlib.lines.Line2D at 0x16b92753ef0>,\n",
       " <matplotlib.lines.Line2D at 0x16b92756080>,\n",
       " <matplotlib.lines.Line2D at 0x16b927561d0>,\n",
       " <matplotlib.lines.Line2D at 0x16b92756320>,\n",
       " <matplotlib.lines.Line2D at 0x16b92756470>,\n",
       " <matplotlib.lines.Line2D at 0x16b927565c0>,\n",
       " <matplotlib.lines.Line2D at 0x16b92756710>,\n",
       " <matplotlib.lines.Line2D at 0x16b92756860>,\n",
       " <matplotlib.lines.Line2D at 0x16b927569b0>,\n",
       " <matplotlib.lines.Line2D at 0x16b92756b00>,\n",
       " <matplotlib.lines.Line2D at 0x16b92756c50>,\n",
       " <matplotlib.lines.Line2D at 0x16b92756da0>,\n",
       " <matplotlib.lines.Line2D at 0x16b92756ef0>,\n",
       " <matplotlib.lines.Line2D at 0x16b9275c080>,\n",
       " <matplotlib.lines.Line2D at 0x16b9275c1d0>,\n",
       " <matplotlib.lines.Line2D at 0x16b9275c320>,\n",
       " <matplotlib.lines.Line2D at 0x16b9275c470>,\n",
       " <matplotlib.lines.Line2D at 0x16b9275c5c0>,\n",
       " <matplotlib.lines.Line2D at 0x16b9275c710>,\n",
       " <matplotlib.lines.Line2D at 0x16b9275c860>,\n",
       " <matplotlib.lines.Line2D at 0x16b9275c9b0>,\n",
       " <matplotlib.lines.Line2D at 0x16b9275cb00>,\n",
       " <matplotlib.lines.Line2D at 0x16b9275cc50>,\n",
       " <matplotlib.lines.Line2D at 0x16b9275cda0>,\n",
       " <matplotlib.lines.Line2D at 0x16b9275cef0>,\n",
       " <matplotlib.lines.Line2D at 0x16b9275f080>,\n",
       " <matplotlib.lines.Line2D at 0x16b9275f1d0>,\n",
       " <matplotlib.lines.Line2D at 0x16b9275f320>,\n",
       " <matplotlib.lines.Line2D at 0x16b9275f470>,\n",
       " <matplotlib.lines.Line2D at 0x16b9275f5c0>,\n",
       " <matplotlib.lines.Line2D at 0x16b9275f710>,\n",
       " <matplotlib.lines.Line2D at 0x16b9275f860>,\n",
       " <matplotlib.lines.Line2D at 0x16b9275f9b0>,\n",
       " <matplotlib.lines.Line2D at 0x16b9275fb00>,\n",
       " <matplotlib.lines.Line2D at 0x16b9275fc50>,\n",
       " <matplotlib.lines.Line2D at 0x16b9275fda0>,\n",
       " <matplotlib.lines.Line2D at 0x16b9275fef0>,\n",
       " <matplotlib.lines.Line2D at 0x16b92bf3080>,\n",
       " <matplotlib.lines.Line2D at 0x16b92bf31d0>,\n",
       " <matplotlib.lines.Line2D at 0x16b92bf3320>,\n",
       " <matplotlib.lines.Line2D at 0x16b92bf3470>,\n",
       " <matplotlib.lines.Line2D at 0x16b92bf35c0>,\n",
       " <matplotlib.lines.Line2D at 0x16b92bf3710>,\n",
       " <matplotlib.lines.Line2D at 0x16b92bf3860>,\n",
       " <matplotlib.lines.Line2D at 0x16b92bf39b0>,\n",
       " <matplotlib.lines.Line2D at 0x16b92bf3b00>,\n",
       " <matplotlib.lines.Line2D at 0x16b92bf3c50>,\n",
       " <matplotlib.lines.Line2D at 0x16b92bf3da0>,\n",
       " <matplotlib.lines.Line2D at 0x16b92bf3ef0>,\n",
       " <matplotlib.lines.Line2D at 0x16b92bf7080>,\n",
       " <matplotlib.lines.Line2D at 0x16b92bf71d0>,\n",
       " <matplotlib.lines.Line2D at 0x16b92bf7320>,\n",
       " <matplotlib.lines.Line2D at 0x16b92bf7470>,\n",
       " <matplotlib.lines.Line2D at 0x16b92bf75c0>,\n",
       " <matplotlib.lines.Line2D at 0x16b92bf7710>,\n",
       " <matplotlib.lines.Line2D at 0x16b92bf7860>,\n",
       " <matplotlib.lines.Line2D at 0x16b92bf79b0>,\n",
       " <matplotlib.lines.Line2D at 0x16b92bf7b00>,\n",
       " <matplotlib.lines.Line2D at 0x16b92bf7c50>,\n",
       " <matplotlib.lines.Line2D at 0x16b92bf7da0>,\n",
       " <matplotlib.lines.Line2D at 0x16b92bf7ef0>,\n",
       " <matplotlib.lines.Line2D at 0x16b92bfd080>,\n",
       " <matplotlib.lines.Line2D at 0x16b92bfd1d0>,\n",
       " <matplotlib.lines.Line2D at 0x16b92bfd320>,\n",
       " <matplotlib.lines.Line2D at 0x16b92bfd470>,\n",
       " <matplotlib.lines.Line2D at 0x16b92bfd5c0>,\n",
       " <matplotlib.lines.Line2D at 0x16b92bfd710>,\n",
       " <matplotlib.lines.Line2D at 0x16b92bfd860>,\n",
       " <matplotlib.lines.Line2D at 0x16b92bfd9b0>,\n",
       " <matplotlib.lines.Line2D at 0x16b92bfdb00>,\n",
       " <matplotlib.lines.Line2D at 0x16b92bfdc50>,\n",
       " <matplotlib.lines.Line2D at 0x16b92bfdda0>,\n",
       " <matplotlib.lines.Line2D at 0x16b92bfdef0>,\n",
       " <matplotlib.lines.Line2D at 0x16b92c01080>,\n",
       " <matplotlib.lines.Line2D at 0x16b92c011d0>,\n",
       " <matplotlib.lines.Line2D at 0x16b92c01320>,\n",
       " <matplotlib.lines.Line2D at 0x16b92c01470>,\n",
       " <matplotlib.lines.Line2D at 0x16b92c015c0>,\n",
       " <matplotlib.lines.Line2D at 0x16b92c01710>,\n",
       " <matplotlib.lines.Line2D at 0x16b92c01860>,\n",
       " <matplotlib.lines.Line2D at 0x16b92c019b0>,\n",
       " <matplotlib.lines.Line2D at 0x16b92c01b00>,\n",
       " <matplotlib.lines.Line2D at 0x16b92c01c50>,\n",
       " <matplotlib.lines.Line2D at 0x16b92c01da0>,\n",
       " <matplotlib.lines.Line2D at 0x16b92c01ef0>,\n",
       " <matplotlib.lines.Line2D at 0x16b92c05080>,\n",
       " <matplotlib.lines.Line2D at 0x16b92c051d0>,\n",
       " <matplotlib.lines.Line2D at 0x16b92c05320>,\n",
       " <matplotlib.lines.Line2D at 0x16b92c05470>,\n",
       " <matplotlib.lines.Line2D at 0x16b92c055c0>,\n",
       " <matplotlib.lines.Line2D at 0x16b92c05710>,\n",
       " <matplotlib.lines.Line2D at 0x16b92c05860>,\n",
       " <matplotlib.lines.Line2D at 0x16b92c059b0>,\n",
       " <matplotlib.lines.Line2D at 0x16b92c05b00>,\n",
       " <matplotlib.lines.Line2D at 0x16b92c05c50>,\n",
       " <matplotlib.lines.Line2D at 0x16b92c05da0>,\n",
       " <matplotlib.lines.Line2D at 0x16b92c05ef0>,\n",
       " <matplotlib.lines.Line2D at 0x16b92c0a080>,\n",
       " <matplotlib.lines.Line2D at 0x16b92c0a1d0>,\n",
       " <matplotlib.lines.Line2D at 0x16b92c0a320>,\n",
       " <matplotlib.lines.Line2D at 0x16b92c0a470>,\n",
       " <matplotlib.lines.Line2D at 0x16b92c0a5c0>,\n",
       " <matplotlib.lines.Line2D at 0x16b92c0a710>,\n",
       " <matplotlib.lines.Line2D at 0x16b92c0a860>,\n",
       " <matplotlib.lines.Line2D at 0x16b92c0a9b0>,\n",
       " <matplotlib.lines.Line2D at 0x16b92c0ab00>,\n",
       " <matplotlib.lines.Line2D at 0x16b92c0ac50>,\n",
       " <matplotlib.lines.Line2D at 0x16b92c0ada0>,\n",
       " <matplotlib.lines.Line2D at 0x16b92c0aef0>,\n",
       " <matplotlib.lines.Line2D at 0x16b92c0f080>,\n",
       " <matplotlib.lines.Line2D at 0x16b92c0f1d0>]"
      ]
     },
     "execution_count": 22,
     "metadata": {},
     "output_type": "execute_result"
    },
    {
     "data": {
      "image/png": "[encoded data removed]",
      "text/plain": [
       "<Figure size 432x288 with 1 Axes>"
      ]
     },
     "metadata": {
      "needs_background": "light"
     },
     "output_type": "display_data"
    }
   ],
   "source": [
    "plt.plot(eedf.energy_point_eV, sol.y)"
   ]
  },
  {
   "cell_type": "code",
   "execution_count": null,
   "metadata": {},
   "outputs": [],
   "source": []
  },
  {
   "cell_type": "code",
   "execution_count": null,
   "metadata": {},
   "outputs": [],
   "source": []
  }
 ],
 "metadata": {
  "kernelspec": {
   "display_name": "Python 3",
   "language": "python",
   "name": "python3"
  },
  "language_info": {
   "codemirror_mode": {
    "name": "ipython",
    "version": 3
   },
   "file_extension": ".py",
   "mimetype": "text/x-python",
   "name": "python",
   "nbconvert_exporter": "python",
   "pygments_lexer": "ipython3",
   "version": "3.7.0"
  }
 },
 "nbformat": 4,
 "nbformat_minor": 2
}
