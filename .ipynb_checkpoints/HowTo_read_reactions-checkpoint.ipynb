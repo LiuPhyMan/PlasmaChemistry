{
 "cells": [
  {
   "cell_type": "markdown",
   "metadata": {
    "toc": true
   },
   "source": [
    "<h1>Table of Contents<span class=\"tocSkip\"></span></h1>\n",
    "<div class=\"toc\"><ul class=\"toc-item\"><li><span><a href=\"#Add-constructors\" data-toc-modified-id=\"Add-constructors-1\"><span class=\"toc-item-num\">1&nbsp;&nbsp;</span>Add constructors</a></span></li><li><span><a href=\"#Read-yaml-file\" data-toc-modified-id=\"Read-yaml-file-2\"><span class=\"toc-item-num\">2&nbsp;&nbsp;</span>Read yaml file</a></span></li><li><span><a href=\"#Load-reactions\" data-toc-modified-id=\"Load-reactions-3\"><span class=\"toc-item-num\">3&nbsp;&nbsp;</span>Load reactions</a></span></li><li><span><a href=\"#Save-dataframe-to-pickle\" data-toc-modified-id=\"Save-dataframe-to-pickle-4\"><span class=\"toc-item-num\">4&nbsp;&nbsp;</span>Save dataframe to pickle</a></span></li></ul></div>"
   ]
  },
  {
   "cell_type": "code",
   "execution_count": 1,
   "metadata": {
    "deletable": false,
    "editable": false
   },
   "outputs": [],
   "source": [
    "import yaml\n",
    "import re\n",
    "import numpy as np\n",
    "import pandas as pd\n",
    "from plasmistry import constants as const\n",
    "from plasmistry.molecule import get_vib_energy"
   ]
  },
  {
   "cell_type": "code",
   "execution_count": 2,
   "metadata": {
    "deletable": false,
    "editable": false
   },
   "outputs": [],
   "source": [
    "np.set_printoptions(precision=1, linewidth=130, edgeitems=5)"
   ]
  },
  {
   "cell_type": "markdown",
   "metadata": {},
   "source": [
    "# Add constructors"
   ]
  },
  {
   "cell_type": "code",
   "execution_count": 3,
   "metadata": {},
   "outputs": [],
   "source": [
    "from yaml_demo import (eval_constructor, LT_constructor, Arr_constructor,\n",
    "                       H2_vib_energy_in_eV, \n",
    "                       CO2_vib_energy_in_eV, \n",
    "                       CO_vib_energy_in_eV,\n",
    "                       Reaction_block,\n",
    "                       Cros_Reaction_block)\n",
    "\n",
    "yaml.add_constructor(u\"!eval\", eval_constructor)\n",
    "yaml.add_constructor(u\"!LT\", LT_constructor)\n",
    "yaml.add_constructor(u\"!Arr\", Arr_constructor)"
   ]
  },
  {
   "cell_type": "markdown",
   "metadata": {},
   "source": [
    "# Read yaml file"
   ]
  },
  {
   "cell_type": "code",
   "execution_count": 4,
   "metadata": {},
   "outputs": [],
   "source": [
    "with open(\"test_0.yaml\") as f:\n",
    "    all_rctns = yaml.load(f)"
   ]
  },
  {
   "cell_type": "code",
   "execution_count": 6,
   "metadata": {},
   "outputs": [],
   "source": [
    "rctn_considered = all_rctns[-1]['The reactions considered']"
   ]
  },
  {
   "cell_type": "markdown",
   "metadata": {},
   "source": [
    "# Load reactions"
   ]
  },
  {
   "cell_type": "markdown",
   "metadata": {},
   "source": [
    "rctn_block_0 = Cros_Reaction_block(rctn_dict=rctn_considered['electron reactions']['H2_ele_vib_rctn_forward'])\n",
    "rctn_block_0.generate_crostn_dataframe()"
   ]
  },
  {
   "cell_type": "markdown",
   "metadata": {},
   "source": [
    "rctn_block_1 = Cros_Reaction_block(rctn_dict=rctn_considered['electron reactions']['H2_ele_vib_rctn_backward'])\n",
    "rctn_block_1.generate_crostn_dataframe()"
   ]
  },
  {
   "cell_type": "markdown",
   "metadata": {},
   "source": [
    "rctn_block_2 = Cros_Reaction_block(rctn_dict=rctn_considered['electron reactions']['H2_ele_dis_rctn_via_b'])\n",
    "rctn_block_2.generate_crostn_dataframe(factor=1e-20)"
   ]
  },
  {
   "cell_type": "raw",
   "metadata": {},
   "source": [
    "rctn_block_3 = Cros_Reaction_block(rctn_dict=rctn_considered['electron reactions']['CO2_ele_vib_rctn_forward'])\n",
    "rctn_block_3.generate_crostn_dataframe(factor=1e-20)"
   ]
  },
  {
   "cell_type": "raw",
   "metadata": {},
   "source": [
    "rctn_block_3.generate_crostn_dataframe().loc[0,'cross_section']"
   ]
  },
  {
   "cell_type": "markdown",
   "metadata": {},
   "source": [
    "rctn_block_CO = Cros_Reaction_block(rctn_dict=rctn_considered['electron reactions']['CO_ele_vib_rctn_forward'])\n",
    "rctn_block_CO.generate_crostn_dataframe()"
   ]
  },
  {
   "cell_type": "code",
   "execution_count": 7,
   "metadata": {},
   "outputs": [
    {
     "ename": "KeyError",
     "evalue": "'iterator'",
     "output_type": "error",
     "traceback": [
      "\u001b[1;31m---------------------------------------------------------------------------\u001b[0m",
      "\u001b[1;31mKeyError\u001b[0m                                  Traceback (most recent call last)",
      "\u001b[1;32m<ipython-input-7-92f42132d05f>\u001b[0m in \u001b[0;36m<module>\u001b[1;34m\u001b[0m\n\u001b[1;32m----> 1\u001b[1;33m \u001b[0mrctn_block_CO\u001b[0m \u001b[1;33m=\u001b[0m \u001b[0mCros_Reaction_block\u001b[0m\u001b[1;33m(\u001b[0m\u001b[0mrctn_dict\u001b[0m\u001b[1;33m=\u001b[0m\u001b[0mrctn_considered\u001b[0m\u001b[1;33m[\u001b[0m\u001b[1;34m'electron reactions'\u001b[0m\u001b[1;33m]\u001b[0m\u001b[1;33m[\u001b[0m\u001b[1;34m'CO_ele_vib_rctn_backward'\u001b[0m\u001b[1;33m]\u001b[0m\u001b[1;33m)\u001b[0m\u001b[1;33m\u001b[0m\u001b[1;33m\u001b[0m\u001b[0m\n\u001b[0m\u001b[0;32m      2\u001b[0m \u001b[0mrctn_block_CO\u001b[0m\u001b[1;33m.\u001b[0m\u001b[0mgenerate_crostn_dataframe\u001b[0m\u001b[1;33m(\u001b[0m\u001b[1;33m)\u001b[0m\u001b[1;33m\u001b[0m\u001b[1;33m\u001b[0m\u001b[0m\n",
      "\u001b[1;32mE:\\Coding\\PlasmaChemistry\\yaml_demo.py\u001b[0m in \u001b[0;36m__init__\u001b[1;34m(self, rctn_dict)\u001b[0m\n\u001b[0;32m     96\u001b[0m         \u001b[1;32mif\u001b[0m \u001b[0mrctn_dict\u001b[0m \u001b[1;32mis\u001b[0m \u001b[1;32mnot\u001b[0m \u001b[1;32mNone\u001b[0m\u001b[1;33m:\u001b[0m\u001b[1;33m\u001b[0m\u001b[1;33m\u001b[0m\u001b[0m\n\u001b[0;32m     97\u001b[0m             \u001b[0mself\u001b[0m\u001b[1;33m.\u001b[0m\u001b[0m_threshold\u001b[0m \u001b[1;33m=\u001b[0m \u001b[0mself\u001b[0m\u001b[1;33m.\u001b[0m\u001b[0mrctn_dict\u001b[0m\u001b[1;33m[\u001b[0m\u001b[1;34m\"threshold\"\u001b[0m\u001b[1;33m]\u001b[0m\u001b[1;33m\u001b[0m\u001b[1;33m\u001b[0m\u001b[0m\n\u001b[1;32m---> 98\u001b[1;33m         \u001b[0mself\u001b[0m\u001b[1;33m.\u001b[0m\u001b[0m_set_threshold_list\u001b[0m\u001b[1;33m(\u001b[0m\u001b[1;33m)\u001b[0m\u001b[1;33m\u001b[0m\u001b[1;33m\u001b[0m\u001b[0m\n\u001b[0m\u001b[0;32m     99\u001b[0m \u001b[1;33m\u001b[0m\u001b[0m\n\u001b[0;32m    100\u001b[0m     \u001b[1;32mdef\u001b[0m \u001b[0m__add__\u001b[0m\u001b[1;33m(\u001b[0m\u001b[0mself\u001b[0m\u001b[1;33m,\u001b[0m \u001b[0mother\u001b[0m\u001b[1;33m)\u001b[0m\u001b[1;33m:\u001b[0m\u001b[1;33m\u001b[0m\u001b[1;33m\u001b[0m\u001b[0m\n",
      "\u001b[1;32mE:\\Coding\\PlasmaChemistry\\yaml_demo.py\u001b[0m in \u001b[0;36m_set_threshold_list\u001b[1;34m(self)\u001b[0m\n\u001b[0;32m    108\u001b[0m     \u001b[1;32mdef\u001b[0m \u001b[0m_set_threshold_list\u001b[0m\u001b[1;33m(\u001b[0m\u001b[0mself\u001b[0m\u001b[1;33m)\u001b[0m\u001b[1;33m:\u001b[0m\u001b[1;33m\u001b[0m\u001b[1;33m\u001b[0m\u001b[0m\n\u001b[0;32m    109\u001b[0m         \u001b[0mself\u001b[0m\u001b[1;33m.\u001b[0m\u001b[0m_threshold\u001b[0m \u001b[1;33m=\u001b[0m \u001b[0mself\u001b[0m\u001b[1;33m.\u001b[0m\u001b[0mrctn_dict\u001b[0m\u001b[1;33m[\u001b[0m\u001b[1;34m'threshold'\u001b[0m\u001b[1;33m]\u001b[0m\u001b[1;33m\u001b[0m\u001b[1;33m\u001b[0m\u001b[0m\n\u001b[1;32m--> 110\u001b[1;33m         \u001b[0m_iter\u001b[0m \u001b[1;33m=\u001b[0m \u001b[0mself\u001b[0m\u001b[1;33m.\u001b[0m\u001b[0mrctn_dict\u001b[0m\u001b[1;33m[\u001b[0m\u001b[1;34m'iterator'\u001b[0m\u001b[1;33m]\u001b[0m\u001b[1;33m\u001b[0m\u001b[1;33m\u001b[0m\u001b[0m\n\u001b[0m\u001b[0;32m    111\u001b[0m         self._threshold_list = eval(self.repl_func(self._threshold,\n\u001b[0;32m    112\u001b[0m                                                    \u001b[0m_iter\u001b[0m\u001b[1;33m[\u001b[0m\u001b[1;34m'repl'\u001b[0m\u001b[1;33m]\u001b[0m\u001b[1;33m[\u001b[0m\u001b[1;34m'threshold'\u001b[0m\u001b[1;33m]\u001b[0m\u001b[1;33m,\u001b[0m\u001b[1;33m\u001b[0m\u001b[1;33m\u001b[0m\u001b[0m\n",
      "\u001b[1;31mKeyError\u001b[0m: 'iterator'"
     ]
    }
   ],
   "source": [
    "rctn_block_CO = Cros_Reaction_block(rctn_dict=rctn_considered['electron reactions']['CO_ele_vib_rctn_backward'])\n",
    "rctn_block_CO.generate_crostn_dataframe()"
   ]
  },
  {
   "cell_type": "markdown",
   "metadata": {},
   "source": [
    "# Save dataframe to pickle"
   ]
  },
  {
   "cell_type": "code",
   "execution_count": null,
   "metadata": {},
   "outputs": [],
   "source": [
    "# rctn_block_0.generate_crostn_dataframe().to_pickle('rctn_dataframe_forward.pkl')"
   ]
  },
  {
   "cell_type": "code",
   "execution_count": null,
   "metadata": {},
   "outputs": [],
   "source": [
    "# rctn_block_1.generate_crostn_dataframe().to_pickle('rctn_dataframe_backward.pkl')"
   ]
  },
  {
   "cell_type": "code",
   "execution_count": null,
   "metadata": {},
   "outputs": [],
   "source": [
    "# rctn_block_2.generate_crostn_dataframe(factor=1e-20).to_pickle(\"rctn_dataframe_H2_dis_via_b.pkl\")"
   ]
  },
  {
   "cell_type": "markdown",
   "metadata": {},
   "source": [
    "rctn_block_3.generate_crostn_dataframe().to_pickle('CO2_ele_vib_forward_df.pkl')"
   ]
  },
  {
   "cell_type": "code",
   "execution_count": null,
   "metadata": {},
   "outputs": [],
   "source": [
    "# rctn_block_CO.generate_crostn_dataframe().to_pickle('CO_ele_vib_backward_df.pkl')"
   ]
  },
  {
   "cell_type": "code",
   "execution_count": null,
   "metadata": {},
   "outputs": [],
   "source": []
  }
 ],
 "metadata": {
  "kernelspec": {
   "display_name": "Python 3",
   "language": "python",
   "name": "python3"
  },
  "language_info": {
   "codemirror_mode": {
    "name": "ipython",
    "version": 3
   },
   "file_extension": ".py",
   "mimetype": "text/x-python",
   "name": "python",
   "nbconvert_exporter": "python",
   "pygments_lexer": "ipython3",
   "version": "3.7.3"
  },
  "toc": {
   "base_numbering": 1,
   "nav_menu": {},
   "number_sections": true,
   "sideBar": true,
   "skip_h1_title": false,
   "title_cell": "Table of Contents",
   "title_sidebar": "Contents",
   "toc_cell": true,
   "toc_position": {},
   "toc_section_display": true,
   "toc_window_display": true
  },
  "varInspector": {
   "cols": {
    "lenName": 16,
    "lenType": 16,
    "lenVar": 40
   },
   "kernels_config": {
    "python": {
     "delete_cmd_postfix": "",
     "delete_cmd_prefix": "del ",
     "library": "var_list.py",
     "varRefreshCmd": "print(var_dic_list())"
    },
    "r": {
     "delete_cmd_postfix": ") ",
     "delete_cmd_prefix": "rm(",
     "library": "var_list.r",
     "varRefreshCmd": "cat(var_dic_list()) "
    }
   },
   "types_to_exclude": [
    "module",
    "function",
    "builtin_function_or_method",
    "instance",
    "_Feature"
   ],
   "window_display": false
  }
 },
 "nbformat": 4,
 "nbformat_minor": 2
}
