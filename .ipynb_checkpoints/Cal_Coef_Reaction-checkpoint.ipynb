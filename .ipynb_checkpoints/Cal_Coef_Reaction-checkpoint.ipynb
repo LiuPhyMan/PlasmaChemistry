{
 "cells": [
  {
   "cell_type": "code",
   "execution_count": 1,
   "metadata": {
    "ExecuteTime": {
     "end_time": "2019-09-06T01:46:58.526495Z",
     "start_time": "2019-09-06T01:46:57.942057Z"
    }
   },
   "outputs": [],
   "source": [
    "import numpy as np\n",
    "import pandas as pd\n",
    "from scipy.integrate import solve_ivp\n",
    "from matplotlib import pyplot as plt\n",
    "import re"
   ]
  },
  {
   "cell_type": "code",
   "execution_count": 2,
   "metadata": {
    "ExecuteTime": {
     "end_time": "2019-09-06T01:47:01.213314Z",
     "start_time": "2019-09-06T01:46:58.527492Z"
    }
   },
   "outputs": [],
   "source": [
    "from plasmistry.reactions import (Reactions,\n",
    "                                  CoefReactions, \n",
    "                                  CrosReactions)"
   ]
  },
  {
   "cell_type": "code",
   "execution_count": 3,
   "metadata": {
    "ExecuteTime": {
     "end_time": "2019-09-06T01:47:01.218302Z",
     "start_time": "2019-09-06T01:47:01.214312Z"
    }
   },
   "outputs": [],
   "source": [
    "plt.rcParams[\"figure.figsize\"] = (12,9)\n",
    "plt.rcParams[\"font.size\"] = 14"
   ]
  },
  {
   "cell_type": "code",
   "execution_count": 4,
   "metadata": {
    "ExecuteTime": {
     "end_time": "2019-09-06T01:47:01.333993Z",
     "start_time": "2019-09-06T01:47:01.220298Z"
    }
   },
   "outputs": [],
   "source": [
    "np.set_printoptions(precision=1, linewidth=130, edgeitems=5)\n",
    "pd.options.display.float_format = '{:,.1e}'.format"
   ]
  },
  {
   "cell_type": "markdown",
   "metadata": {},
   "source": [
    "# Read reactions"
   ]
  },
  {
   "cell_type": "code",
   "execution_count": 5,
   "metadata": {
    "ExecuteTime": {
     "end_time": "2019-09-06T01:47:01.433731Z",
     "start_time": "2019-09-06T01:47:01.337983Z"
    }
   },
   "outputs": [],
   "source": [
    "reactions = ['2A + 3B =>C+D',\n",
    "             '2B =>3C+A',\n",
    "             '=>2D+3A',\n",
    "             'A =>2C+D',\n",
    "             ' C =>']\n",
    "reactant = [re.split(r\"=>\", _)[0] for _ in reactions]\n",
    "product = [re.split(r\"=>\", _)[1] for _ in reactions]"
   ]
  },
  {
   "cell_type": "code",
   "execution_count": 6,
   "metadata": {
    "ExecuteTime": {
     "end_time": "2019-09-06T01:47:01.541437Z",
     "start_time": "2019-09-06T01:47:01.440710Z"
    }
   },
   "outputs": [],
   "source": [
    "coef = CoefReactions(reactant=pd.Series(reactant),\n",
    "                 product=pd.Series(product),           \n",
    "                 k_str=pd.Series(['Tgas*2',\n",
    "                 'Te',\n",
    "                 'EN',\n",
    "                 '2.0d2',\n",
    "                 '2.0']))"
   ]
  },
  {
   "cell_type": "code",
   "execution_count": 8,
   "metadata": {
    "ExecuteTime": {
     "end_time": "2019-09-06T01:47:01.711982Z",
     "start_time": "2019-09-06T01:47:01.626211Z"
    },
    "cell_style": "split"
   },
   "outputs": [
    {
     "data": {
      "text/plain": [
       "0    A\n",
       "1    B\n",
       "2    C\n",
       "3    D\n",
       "dtype: object"
      ]
     },
     "execution_count": 8,
     "metadata": {},
     "output_type": "execute_result"
    }
   ],
   "source": [
    "coef.species"
   ]
  },
  {
   "cell_type": "code",
   "execution_count": 9,
   "metadata": {
    "ExecuteTime": {
     "end_time": "2019-09-06T01:47:01.814707Z",
     "start_time": "2019-09-06T01:47:01.713979Z"
    },
    "cell_style": "split"
   },
   "outputs": [
    {
     "data": {
      "text/plain": [
       "0    2A + 3B\n",
       "1         2B\n",
       "2           \n",
       "3          A\n",
       "4          C\n",
       "dtype: object"
      ]
     },
     "execution_count": 9,
     "metadata": {},
     "output_type": "execute_result"
    }
   ],
   "source": [
    "coef.reactant"
   ]
  },
  {
   "cell_type": "code",
   "execution_count": 10,
   "metadata": {
    "ExecuteTime": {
     "end_time": "2019-09-06T01:47:01.907459Z",
     "start_time": "2019-09-06T01:47:01.815705Z"
    },
    "cell_style": "split"
   },
   "outputs": [
    {
     "data": {
      "text/plain": [
       "array([[0, 1, 3, 0, 0],\n",
       "       [0, 0, 0, 0, 0],\n",
       "       [1, 3, 0, 2, 0],\n",
       "       [1, 0, 2, 1, 0]], dtype=int64)"
      ]
     },
     "execution_count": 10,
     "metadata": {},
     "output_type": "execute_result"
    }
   ],
   "source": [
    "coef._Reactions__prdtsij.toarray()"
   ]
  },
  {
   "cell_type": "code",
   "execution_count": 11,
   "metadata": {
    "ExecuteTime": {
     "end_time": "2019-09-06T01:47:01.997220Z",
     "start_time": "2019-09-06T01:47:01.909454Z"
    },
    "cell_style": "split"
   },
   "outputs": [
    {
     "data": {
      "text/plain": [
       "array([[2, 0, 0, 1, 0],\n",
       "       [3, 2, 0, 0, 0],\n",
       "       [0, 0, 0, 0, 1],\n",
       "       [0, 0, 0, 0, 0]], dtype=int64)"
      ]
     },
     "execution_count": 11,
     "metadata": {},
     "output_type": "execute_result"
    }
   ],
   "source": [
    "coef._Reactions__rcntsij.toarray()"
   ]
  },
  {
   "cell_type": "code",
   "execution_count": 12,
   "metadata": {
    "ExecuteTime": {
     "end_time": "2019-09-06T01:47:02.074015Z",
     "start_time": "2019-09-06T01:47:01.999214Z"
    }
   },
   "outputs": [
    {
     "data": {
      "text/plain": [
       "array([[-2,  1,  3, -1,  0],\n",
       "       [-3, -2,  0,  0,  0],\n",
       "       [ 1,  3,  0,  2, -1],\n",
       "       [ 1,  0,  2,  1,  0]], dtype=int64)"
      ]
     },
     "execution_count": 12,
     "metadata": {},
     "output_type": "execute_result"
    }
   ],
   "source": [
    "coef._Reactions__sij.toarray()"
   ]
  },
  {
   "cell_type": "code",
   "execution_count": 13,
   "metadata": {
    "ExecuteTime": {
     "end_time": "2019-09-06T01:47:02.163775Z",
     "start_time": "2019-09-06T01:47:02.075012Z"
    },
    "cell_style": "split"
   },
   "outputs": [
    {
     "data": {
      "text/plain": [
       "array([[ 0,  1],\n",
       "       [ 1, -1],\n",
       "       [-1, -1],\n",
       "       [ 0, -1],\n",
       "       [ 2, -1]], dtype=int64)"
      ]
     },
     "execution_count": 13,
     "metadata": {},
     "output_type": "execute_result"
    }
   ],
   "source": [
    "coef._Reactions__rcnt_index"
   ]
  },
  {
   "cell_type": "code",
   "execution_count": 14,
   "metadata": {
    "ExecuteTime": {
     "end_time": "2019-09-06T01:47:02.256529Z",
     "start_time": "2019-09-06T01:47:02.164775Z"
    },
    "cell_style": "split"
   },
   "outputs": [
    {
     "data": {
      "text/plain": [
       "array([[2, 3],\n",
       "       [2, 0],\n",
       "       [0, 0],\n",
       "       [1, 0],\n",
       "       [1, 0]], dtype=int64)"
      ]
     },
     "execution_count": 14,
     "metadata": {},
     "output_type": "execute_result"
    }
   ],
   "source": [
    "coef._Reactions__rcnt_expnt"
   ]
  },
  {
   "cell_type": "code",
   "execution_count": 15,
   "metadata": {
    "ExecuteTime": {
     "end_time": "2019-09-06T01:47:02.355264Z",
     "start_time": "2019-09-06T01:47:02.260517Z"
    }
   },
   "outputs": [
    {
     "data": {
      "text/plain": [
       "0    Tgas*2\n",
       "1        Te\n",
       "2        EN\n",
       "3     2.0d2\n",
       "4       2.0\n",
       "dtype: object"
      ]
     },
     "execution_count": 15,
     "metadata": {},
     "output_type": "execute_result"
    }
   ],
   "source": [
    "coef.k_str"
   ]
  },
  {
   "cell_type": "code",
   "execution_count": 16,
   "metadata": {
    "ExecuteTime": {
     "end_time": "2019-09-06T01:47:02.444026Z",
     "start_time": "2019-09-06T01:47:02.357258Z"
    }
   },
   "outputs": [],
   "source": [
    "coef.compile_k_str()"
   ]
  },
  {
   "cell_type": "code",
   "execution_count": 17,
   "metadata": {
    "ExecuteTime": {
     "end_time": "2019-09-06T01:47:02.539769Z",
     "start_time": "2019-09-06T01:47:02.451009Z"
    }
   },
   "outputs": [],
   "source": [
    "coef.set_pre_exec_list(['factor = 1',\n",
    "                       'density = 3'])"
   ]
  },
  {
   "cell_type": "code",
   "execution_count": 18,
   "metadata": {
    "ExecuteTime": {
     "end_time": "2019-09-06T01:47:02.646484Z",
     "start_time": "2019-09-06T01:47:02.540767Z"
    }
   },
   "outputs": [],
   "source": [
    "coef.set_rate_const(Tgas_K=1000,EN_Td=1,Te_eV=0)"
   ]
  },
  {
   "cell_type": "code",
   "execution_count": 19,
   "metadata": {
    "ExecuteTime": {
     "end_time": "2019-09-06T01:47:02.743226Z",
     "start_time": "2019-09-06T01:47:02.648479Z"
    }
   },
   "outputs": [
    {
     "name": "stdout",
     "output_type": "stream",
     "text": [
      "\n",
      "        \n",
      "====SPECIES====\n",
      "        \n",
      "0    A\n",
      "1    B\n",
      "2    C\n",
      "3    D\n",
      "dtype: object\n",
      "        \n",
      "====REACTIONS====\n",
      "        \n",
      " columns: reactions dH_g[eV] dH_e[eV] k_str rate_const rate\n",
      "        \n",
      "          reactions  dH_g[eV]  dH_e[eV] rate_const_str  rate_const rate\n",
      "0  2A + 3B => C + D   0.0e+00   0.0e+00         Tgas*2     2.0e+03  NaN\n",
      "1      2B => 3C + A   0.0e+00   0.0e+00             Te     0.0e+00  NaN\n",
      "2        => 2D + 3A   0.0e+00   0.0e+00             EN     1.0e+00  NaN\n",
      "3       A => 2C + D   0.0e+00   0.0e+00          2.0d2     2.0e+02  NaN\n",
      "4             C =>    0.0e+00   0.0e+00            2.0     2.0e+00  NaN\n",
      "        \n",
      "====PROPERTIES====\n",
      "        \n",
      "CLASS : <class 'plasmistry.reactions.reaction_class.CoefReactions'>.\n",
      "        \n",
      "Type : k_coefficients related.\n",
      "        \n",
      "__4__ species. \n",
      "        \n",
      "__5__ reactions.\n",
      "        \n",
      "        \n",
      "====PRE_EXEC_LIST====\n",
      "        \n",
      "factor = 1\n",
      "density = 3\n",
      "        \n",
      "====K_STR_COMPILED====\n",
      "        \n",
      "<code object <module> at 0x00000222F4AC81E0, file \"<string>\", line 1>\n",
      "        \n",
      "====MID_VARIABLES====\n",
      "        \n",
      "EN            1\n",
      "Tgas       1000\n",
      "Te            0\n",
      "factor        1\n",
      "density       3\n",
      "dtype: int64\n"
     ]
    }
   ],
   "source": [
    "print(coef)"
   ]
  },
  {
   "cell_type": "code",
   "execution_count": 26,
   "metadata": {
    "ExecuteTime": {
     "end_time": "2019-09-06T01:49:11.958893Z",
     "start_time": "2019-09-06T01:49:04.343246Z"
    }
   },
   "outputs": [
    {
     "name": "stdout",
     "output_type": "stream",
     "text": [
      "9.37 µs ± 331 ns per loop (mean ± std. dev. of 7 runs, 100000 loops each)\n"
     ]
    }
   ],
   "source": [
    "%timeit coef.set_rate(density=np.arange(5)+1)"
   ]
  },
  {
   "cell_type": "code",
   "execution_count": 27,
   "metadata": {
    "ExecuteTime": {
     "end_time": "2019-09-06T01:50:09.012416Z",
     "start_time": "2019-09-06T01:50:09.002443Z"
    }
   },
   "outputs": [
    {
     "name": "stdout",
     "output_type": "stream",
     "text": [
      "\n",
      "        \n",
      "====SPECIES====\n",
      "        \n",
      "0    A\n",
      "1    B\n",
      "2    C\n",
      "3    D\n",
      "dtype: object\n",
      "        \n",
      "====REACTIONS====\n",
      "        \n",
      " columns: reactions dH_g[eV] dH_e[eV] k_str rate_const rate\n",
      "        \n",
      "          reactions  dH_g[eV]  dH_e[eV] rate_const_str  rate_const    rate\n",
      "0  2A + 3B => C + D   0.0e+00   0.0e+00         Tgas*2     2.0e+03 1.6e+04\n",
      "1      2B => 3C + A   0.0e+00   0.0e+00             Te     0.0e+00 0.0e+00\n",
      "2        => 2D + 3A   0.0e+00   0.0e+00             EN     1.0e+00 1.0e+00\n",
      "3       A => 2C + D   0.0e+00   0.0e+00          2.0d2     2.0e+02 2.0e+02\n",
      "4             C =>    0.0e+00   0.0e+00            2.0     2.0e+00 6.0e+00\n",
      "        \n",
      "====PROPERTIES====\n",
      "        \n",
      "CLASS : <class 'plasmistry.reactions.reaction_class.CoefReactions'>.\n",
      "        \n",
      "Type : k_coefficients related.\n",
      "        \n",
      "__4__ species. \n",
      "        \n",
      "__5__ reactions.\n",
      "        \n",
      "        \n",
      "====PRE_EXEC_LIST====\n",
      "        \n",
      "factor = 1\n",
      "density = 3\n",
      "        \n",
      "====K_STR_COMPILED====\n",
      "        \n",
      "<code object <module> at 0x00000222F4AC81E0, file \"<string>\", line 1>\n",
      "        \n",
      "====MID_VARIABLES====\n",
      "        \n",
      "EN            1\n",
      "Tgas       1000\n",
      "Te            0\n",
      "factor        1\n",
      "density       3\n",
      "dtype: int64\n"
     ]
    }
   ],
   "source": [
    "print(coef)"
   ]
  },
  {
   "cell_type": "code",
   "execution_count": 28,
   "metadata": {
    "ExecuteTime": {
     "end_time": "2019-09-06T01:50:43.552107Z",
     "start_time": "2019-09-06T01:50:43.547121Z"
    }
   },
   "outputs": [
    {
     "data": {
      "text/plain": [
       "array([-32197., -48000.,  16394.,  16202.])"
      ]
     },
     "execution_count": 28,
     "metadata": {},
     "output_type": "execute_result"
    }
   ],
   "source": [
    "coef.get_dn()"
   ]
  },
  {
   "cell_type": "code",
   "execution_count": null,
   "metadata": {},
   "outputs": [],
   "source": []
  }
 ],
 "metadata": {
  "hide_input": false,
  "kernelspec": {
   "display_name": "Python 3",
   "language": "python",
   "name": "python3"
  },
  "language_info": {
   "codemirror_mode": {
    "name": "ipython",
    "version": 3
   },
   "file_extension": ".py",
   "mimetype": "text/x-python",
   "name": "python",
   "nbconvert_exporter": "python",
   "pygments_lexer": "ipython3",
   "version": "3.7.3"
  },
  "nbTranslate": {
   "displayLangs": [
    "*"
   ],
   "hotkey": "alt-t",
   "langInMainMenu": true,
   "sourceLang": "en",
   "targetLang": "fr",
   "useGoogleTranslate": true
  },
  "toc": {
   "base_numbering": 1,
   "nav_menu": {},
   "number_sections": true,
   "sideBar": false,
   "skip_h1_title": false,
   "title_cell": "Table of Contents",
   "title_sidebar": "Contents",
   "toc_cell": false,
   "toc_position": {
    "height": "313px",
    "left": "1040px",
    "top": "220px",
    "width": "263.844px"
   },
   "toc_section_display": true,
   "toc_window_display": true
  },
  "varInspector": {
   "cols": {
    "lenName": 16,
    "lenType": 16,
    "lenVar": 40
   },
   "kernels_config": {
    "python": {
     "delete_cmd_postfix": "",
     "delete_cmd_prefix": "del ",
     "library": "var_list.py",
     "varRefreshCmd": "print(var_dic_list())"
    },
    "r": {
     "delete_cmd_postfix": ") ",
     "delete_cmd_prefix": "rm(",
     "library": "var_list.r",
     "varRefreshCmd": "cat(var_dic_list()) "
    }
   },
   "types_to_exclude": [
    "module",
    "function",
    "builtin_function_or_method",
    "instance",
    "_Feature"
   ],
   "window_display": false
  }
 },
 "nbformat": 4,
 "nbformat_minor": 2
}
