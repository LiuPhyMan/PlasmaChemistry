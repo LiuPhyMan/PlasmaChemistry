{
 "cells": [
  {
   "cell_type": "code",
   "execution_count": 17,
   "metadata": {},
   "outputs": [],
   "source": [
    "import numpy as np\n",
    "import pandas as pd\n",
    "from matplotlib import pyplot as plt\n",
    "from plasmistry.electron import EEDF\n",
    "from plasmistry.electron import get_maxwell_eedf"
   ]
  },
  {
   "cell_type": "code",
   "execution_count": 2,
   "metadata": {},
   "outputs": [],
   "source": [
    "eedf = EEDF(max_energy_eV=10, grid_number=50)\n",
    "eedf.set_parameters(E=100, Tgas=1000, N=1e20)"
   ]
  },
  {
   "cell_type": "code",
   "execution_count": 3,
   "metadata": {},
   "outputs": [],
   "source": [
    "eedf.set_density_per_J(get_maxwell_eedf(eedf.energy_point, Te_eV=3.0))"
   ]
  },
  {
   "cell_type": "code",
   "execution_count": 4,
   "metadata": {},
   "outputs": [
    {
     "name": "stdout",
     "output_type": "stream",
     "text": [
      "\n",
      "        \n",
      " ===============\n",
      "        \n",
      "     NUMBER OF DISCRETIZED CELLS : 50 cells\n",
      "        \n",
      "               ENERGY SPACE (eV) : (0.0, 10.0)\n",
      "        \n",
      "            ENERGY INTERVAL (eV) : 0.200 \n",
      "        \n",
      " ===============\n",
      "        \n",
      "            ELECTRON TEMPERATURE : 2.470 eV\n",
      "        \n",
      "                ELECTRON DENSITY : 9.13e-01 m^-3\n",
      "        \n",
      " ===============\n",
      "        \n",
      "              ELECTRIC FIELD (E) : 100 V/m\n",
      "        \n",
      "          GAS TEMPERATURE (Tgas) : 1000 K\n",
      "        \n",
      " BACKGROUND MOLECULE DENSITY (N) : 1.0e+20 m^-3\n",
      "        \n",
      "    REDUCED ELECTRIC FIELD (E/N) : 1000.0 Td\n",
      "        \n",
      " ===============\n",
      "        \n",
      "     ELASTIC COLLISION MOLECULES : None\n",
      "        \n",
      "   INELASTIC COLLISION MOLECULES : None\n",
      "        \n"
     ]
    }
   ],
   "source": [
    "print(eedf)"
   ]
  },
  {
   "cell_type": "code",
   "execution_count": 5,
   "metadata": {},
   "outputs": [
    {
     "data": {
      "image/png": "[encoded data removed]",
      "text/plain": [
       "<Figure size 432x288 with 1 Axes>"
      ]
     },
     "metadata": {
      "needs_background": "light"
     },
     "output_type": "display_data"
    }
   ],
   "source": [
    "eedf.plot_normalized_eedf()"
   ]
  },
  {
   "cell_type": "code",
   "execution_count": 6,
   "metadata": {},
   "outputs": [
    {
     "data": {
      "image/png": "[encoded data removed]",
      "text/plain": [
       "<Figure size 432x288 with 1 Axes>"
      ]
     },
     "metadata": {
      "needs_background": "light"
     },
     "output_type": "display_data"
    }
   ],
   "source": [
    "eedf.plot_normalized_eepf()"
   ]
  },
  {
   "cell_type": "code",
   "execution_count": 7,
   "metadata": {},
   "outputs": [
    {
     "data": {
      "text/html": [
       "<div>\n",
       "<style scoped>\n",
       "    .dataframe tbody tr th:only-of-type {\n",
       "        vertical-align: middle;\n",
       "    }\n",
       "\n",
       "    .dataframe tbody tr th {\n",
       "        vertical-align: top;\n",
       "    }\n",
       "\n",
       "    .dataframe thead th {\n",
       "        text-align: right;\n",
       "    }\n",
       "</style>\n",
       "<table border=\"1\" class=\"dataframe\">\n",
       "  <thead>\n",
       "    <tr style=\"text-align: right;\">\n",
       "      <th></th>\n",
       "      <th>reaction</th>\n",
       "      <th>type</th>\n",
       "      <th>threshold_eV</th>\n",
       "      <th>cross_section</th>\n",
       "    </tr>\n",
       "  </thead>\n",
       "  <tbody>\n",
       "    <tr>\n",
       "      <th>0</th>\n",
       "      <td>E + H2 =&gt; E + H2(v1)</td>\n",
       "      <td>excitation</td>\n",
       "      <td>5</td>\n",
       "      <td>[[0.0, 0.20408163265306123, 0.4081632653061224...</td>\n",
       "    </tr>\n",
       "  </tbody>\n",
       "</table>\n",
       "</div>"
      ],
      "text/plain": [
       "               reaction        type  threshold_eV  \\\n",
       "0  E + H2 => E + H2(v1)  excitation             5   \n",
       "\n",
       "                                       cross_section  \n",
       "0  [[0.0, 0.20408163265306123, 0.4081632653061224...  "
      ]
     },
     "execution_count": 7,
     "metadata": {},
     "output_type": "execute_result"
    }
   ],
   "source": [
    "crostn_energy = np.linspace(0,10)\n",
    "crostn = np.ones_like(crostn_energy)*1e-20\n",
    "threshold = 5\n",
    "crostn[crostn_energy<5] = 0\n",
    "inelas_df = pd.DataFrame(dict(reaction=[\"E + H2 => E + H2(v1)\",], \n",
    "                             type=[\"excitation\",],\n",
    "                             threshold_eV=[5,],\n",
    "                             cross_section=[np.vstack((crostn_energy, crostn)),]))\n",
    "inelas_df"
   ]
  },
  {
   "cell_type": "markdown",
   "metadata": {},
   "source": [
    "### initialize"
   ]
  },
  {
   "cell_type": "code",
   "execution_count": 8,
   "metadata": {},
   "outputs": [
    {
     "name": "stdout",
     "output_type": "stream",
     "text": [
      "[0.0e+00 0.0e+00 0.0e+00 0.0e+00 0.0e+00 0.0e+00 0.0e+00 0.0e+00 0.0e+00\n",
      " 0.0e+00 0.0e+00 0.0e+00 0.0e+00 0.0e+00 0.0e+00 0.0e+00 0.0e+00 0.0e+00\n",
      " 0.0e+00 0.0e+00 0.0e+00 0.0e+00 0.0e+00 0.0e+00 0.0e+00 9.9e-21 1.0e-20\n",
      " 1.0e-20 1.0e-20 1.0e-20 1.0e-20 1.0e-20 1.0e-20 1.0e-20 1.0e-20 1.0e-20\n",
      " 1.0e-20 1.0e-20 1.0e-20 1.0e-20 1.0e-20 1.0e-20 1.0e-20 1.0e-20 1.0e-20\n",
      " 1.0e-20 1.0e-20 1.0e-20 1.0e-20 1.0e-20]\n",
      "high threshold\n",
      "excitation\n",
      "[[ 0.  0.  0. ...  0.  0.  0.]\n",
      " [ 0.  0.  0. ...  0.  0.  0.]\n",
      " [ 0.  0.  0. ...  0.  0.  0.]\n",
      " ...\n",
      " [ 0.  0.  0. ... -1.  0.  0.]\n",
      " [ 0.  0.  0. ...  0. -1.  0.]\n",
      " [ 0.  0.  0. ...  0.  0. -1.]]\n",
      "1481734876966784.8\n",
      "[0.0e+00 0.0e+00 0.0e+00 0.0e+00 0.0e+00 0.0e+00 0.0e+00 0.0e+00 0.0e+00\n",
      " 0.0e+00 0.0e+00 0.0e+00 0.0e+00 0.0e+00 0.0e+00 0.0e+00 0.0e+00 0.0e+00\n",
      " 0.0e+00 0.0e+00 0.0e+00 0.0e+00 0.0e+00 0.0e+00 0.0e+00 9.9e-21 1.0e-20\n",
      " 1.0e-20 1.0e-20 1.0e-20 1.0e-20 1.0e-20 1.0e-20 1.0e-20 1.0e-20 1.0e-20\n",
      " 1.0e-20 1.0e-20 1.0e-20 1.0e-20 1.0e-20 1.0e-20 1.0e-20 1.0e-20 1.0e-20\n",
      " 1.0e-20 1.0e-20 1.0e-20 1.0e-20 1.0e-20]\n"
     ]
    }
   ],
   "source": [
    "eedf.initialize(rctn_with_crostn_df=inelas_df, total_species=['E', 'H2'])"
   ]
  },
  {
   "cell_type": "code",
   "execution_count": 9,
   "metadata": {},
   "outputs": [
    {
     "data": {
      "text/plain": [
       "['H2']"
      ]
     },
     "execution_count": 9,
     "metadata": {},
     "output_type": "execute_result"
    }
   ],
   "source": [
    "eedf.bg_molecule_elas"
   ]
  },
  {
   "cell_type": "code",
   "execution_count": 10,
   "metadata": {},
   "outputs": [
    {
     "data": {
      "text/plain": [
       "['H2']"
      ]
     },
     "execution_count": 10,
     "metadata": {},
     "output_type": "execute_result"
    }
   ],
   "source": [
    "eedf.bg_molecule_inelas"
   ]
  },
  {
   "cell_type": "code",
   "execution_count": 11,
   "metadata": {},
   "outputs": [
    {
     "data": {
      "text/plain": [
       "array([[0., 1.]])"
      ]
     },
     "execution_count": 11,
     "metadata": {},
     "output_type": "execute_result"
    }
   ],
   "source": [
    "eedf._index_bg_molecule_elas.toarray()"
   ]
  },
  {
   "cell_type": "code",
   "execution_count": 12,
   "metadata": {},
   "outputs": [
    {
     "data": {
      "text/plain": [
       "array([[ 0.00000000e+00,  0.00000000e+00,  0.00000000e+00, ...,\n",
       "         0.00000000e+00,  0.00000000e+00,  0.00000000e+00],\n",
       "       [ 0.00000000e+00,  0.00000000e+00,  0.00000000e+00, ...,\n",
       "         0.00000000e+00,  0.00000000e+00,  0.00000000e+00],\n",
       "       [ 0.00000000e+00,  0.00000000e+00,  0.00000000e+00, ...,\n",
       "         0.00000000e+00,  0.00000000e+00,  0.00000000e+00],\n",
       "       ...,\n",
       "       [ 0.00000000e+00,  0.00000000e+00,  0.00000000e+00, ...,\n",
       "        -1.82804760e-14,  0.00000000e+00,  0.00000000e+00],\n",
       "       [ 0.00000000e+00,  0.00000000e+00,  0.00000000e+00, ...,\n",
       "         0.00000000e+00, -1.84718999e-14,  0.00000000e+00],\n",
       "       [ 0.00000000e+00,  0.00000000e+00,  0.00000000e+00, ...,\n",
       "         0.00000000e+00,  0.00000000e+00, -1.86613602e-14]])"
      ]
     },
     "execution_count": 12,
     "metadata": {},
     "output_type": "execute_result"
    }
   ],
   "source": [
    "eedf.rate_const_matrix_e_inelas_electron.toarray()"
   ]
  },
  {
   "cell_type": "code",
   "execution_count": 21,
   "metadata": {},
   "outputs": [
    {
     "data": {
      "text/plain": [
       "<matplotlib.lines.Line2D at 0x219e96f8d30>"
      ]
     },
     "execution_count": 21,
     "metadata": {},
     "output_type": "execute_result"
    },
    {
     "data": {
      "image/png": "[encoded data removed]",
      "text/plain": [
       "<Figure size 432x288 with 1 Axes>"
      ]
     },
     "metadata": {
      "needs_background": "light"
     },
     "output_type": "display_data"
    }
   ],
   "source": [
    "plt.spy(eedf.rate_const_matrix_e_inelas_electron, markersize=2)"
   ]
  },
  {
   "cell_type": "code",
   "execution_count": 19,
   "metadata": {},
   "outputs": [
    {
     "data": {
      "text/plain": [
       "<matplotlib.image.AxesImage at 0x219e981a320>"
      ]
     },
     "execution_count": 19,
     "metadata": {},
     "output_type": "execute_result"
    },
    {
     "data": {
      "image/png": "[encoded data removed]",
      "text/plain": [
       "<Figure size 432x288 with 1 Axes>"
      ]
     },
     "metadata": {
      "needs_background": "light"
     },
     "output_type": "display_data"
    }
   ],
   "source": [
    "plt.spy(eedf.rate_const_matrix_e_inelas_molecule)"
   ]
  },
  {
   "cell_type": "code",
   "execution_count": 15,
   "metadata": {},
   "outputs": [
    {
     "data": {
      "text/plain": [
       "(1, 50)"
      ]
     },
     "execution_count": 15,
     "metadata": {},
     "output_type": "execute_result"
    }
   ],
   "source": []
  },
  {
   "cell_type": "code",
   "execution_count": null,
   "metadata": {},
   "outputs": [],
   "source": []
  }
 ],
 "metadata": {
  "kernelspec": {
   "display_name": "Python 3",
   "language": "python",
   "name": "python3"
  },
  "language_info": {
   "codemirror_mode": {
    "name": "ipython",
    "version": 3
   },
   "file_extension": ".py",
   "mimetype": "text/x-python",
   "name": "python",
   "nbconvert_exporter": "python",
   "pygments_lexer": "ipython3",
   "version": "3.7.3"
  }
 },
 "nbformat": 4,
 "nbformat_minor": 2
}
